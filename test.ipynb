{
 "cells": [
  {
   "cell_type": "code",
   "execution_count": 1,
   "id": "9e60e284",
   "metadata": {},
   "outputs": [],
   "source": [
    "import logging\n",
    "\n",
    "logging.basicConfig(level=logging.DEBUG)\n",
    "\n",
    "# DEBUG\n",
    "# INFO\n",
    "# WARNING\n",
    "# ERROR\n",
    "# CRITICAL\n",
    "\n",
    "logger = logging.getLogger(__name__)"
   ]
  },
  {
   "cell_type": "code",
   "execution_count": 2,
   "id": "5929a0ce",
   "metadata": {},
   "outputs": [],
   "source": [
    "from src.models import Base\n",
    "import urllib3\n",
    "from typing import Any\n",
    "from src.database import engine\n",
    "from sqlalchemy.orm import sessionmaker\n",
    "\n",
    "import src.models as models\n",
    "\n",
    "from sqlalchemy import (\n",
    "    Table,\n",
    "    Column,\n",
    "    Integer,\n",
    "    Numeric,\n",
    "    String,\n",
    "    Date,\n",
    ")\n",
    "import requests\n",
    "\n",
    "urllib3.disable_warnings(urllib3.exceptions.InsecureRequestWarning)\n"
   ]
  },
  {
   "cell_type": "code",
   "execution_count": 3,
   "id": "84241fcd",
   "metadata": {},
   "outputs": [
    {
     "name": "stdout",
     "output_type": "stream",
     "text": [
      "2025-09-03 15:42:26,627 INFO sqlalchemy.engine.Engine SELECT CAST(SERVERPROPERTY('ProductVersion') AS VARCHAR)\n"
     ]
    },
    {
     "name": "stderr",
     "output_type": "stream",
     "text": [
      "INFO:sqlalchemy.engine.Engine:SELECT CAST(SERVERPROPERTY('ProductVersion') AS VARCHAR)\n"
     ]
    },
    {
     "name": "stdout",
     "output_type": "stream",
     "text": [
      "2025-09-03 15:42:26,628 INFO sqlalchemy.engine.Engine [raw sql] ()\n"
     ]
    },
    {
     "name": "stderr",
     "output_type": "stream",
     "text": [
      "INFO:sqlalchemy.engine.Engine:[raw sql] ()\n"
     ]
    },
    {
     "name": "stdout",
     "output_type": "stream",
     "text": [
      "2025-09-03 15:42:26,631 INFO sqlalchemy.engine.Engine SELECT schema_name()\n"
     ]
    },
    {
     "name": "stderr",
     "output_type": "stream",
     "text": [
      "INFO:sqlalchemy.engine.Engine:SELECT schema_name()\n"
     ]
    },
    {
     "name": "stdout",
     "output_type": "stream",
     "text": [
      "2025-09-03 15:42:26,632 INFO sqlalchemy.engine.Engine [generated in 0.00079s] ()\n"
     ]
    },
    {
     "name": "stderr",
     "output_type": "stream",
     "text": [
      "INFO:sqlalchemy.engine.Engine:[generated in 0.00079s] ()\n"
     ]
    },
    {
     "name": "stdout",
     "output_type": "stream",
     "text": [
      "2025-09-03 15:42:26,637 INFO sqlalchemy.engine.Engine SELECT CAST('test max support' AS NVARCHAR(max))\n"
     ]
    },
    {
     "name": "stderr",
     "output_type": "stream",
     "text": [
      "INFO:sqlalchemy.engine.Engine:SELECT CAST('test max support' AS NVARCHAR(max))\n"
     ]
    },
    {
     "name": "stdout",
     "output_type": "stream",
     "text": [
      "2025-09-03 15:42:26,638 INFO sqlalchemy.engine.Engine [generated in 0.00152s] ()\n"
     ]
    },
    {
     "name": "stderr",
     "output_type": "stream",
     "text": [
      "INFO:sqlalchemy.engine.Engine:[generated in 0.00152s] ()\n"
     ]
    },
    {
     "name": "stdout",
     "output_type": "stream",
     "text": [
      "2025-09-03 15:42:26,642 INFO sqlalchemy.engine.Engine SELECT 1 FROM fn_listextendedproperty(default, default, default, default, default, default, default)\n"
     ]
    },
    {
     "name": "stderr",
     "output_type": "stream",
     "text": [
      "INFO:sqlalchemy.engine.Engine:SELECT 1 FROM fn_listextendedproperty(default, default, default, default, default, default, default)\n"
     ]
    },
    {
     "name": "stdout",
     "output_type": "stream",
     "text": [
      "2025-09-03 15:42:26,644 INFO sqlalchemy.engine.Engine [generated in 0.00240s] ()\n"
     ]
    },
    {
     "name": "stderr",
     "output_type": "stream",
     "text": [
      "INFO:sqlalchemy.engine.Engine:[generated in 0.00240s] ()\n"
     ]
    },
    {
     "name": "stdout",
     "output_type": "stream",
     "text": [
      "2025-09-03 15:42:26,648 INFO sqlalchemy.engine.Engine BEGIN (implicit)\n"
     ]
    },
    {
     "name": "stderr",
     "output_type": "stream",
     "text": [
      "INFO:sqlalchemy.engine.Engine:BEGIN (implicit)\n"
     ]
    },
    {
     "name": "stdout",
     "output_type": "stream",
     "text": [
      "2025-09-03 15:42:26,657 INFO sqlalchemy.engine.Engine SELECT [INFORMATION_SCHEMA].[TABLES].[TABLE_NAME] \n",
      "FROM [INFORMATION_SCHEMA].[TABLES] \n",
      "WHERE ([INFORMATION_SCHEMA].[TABLES].[TABLE_TYPE] = CAST(? AS NVARCHAR(max)) OR [INFORMATION_SCHEMA].[TABLES].[TABLE_TYPE] = CAST(? AS NVARCHAR(max))) AND [INFORMATION_SCHEMA].[TABLES].[TABLE_NAME] = CAST(? AS NVARCHAR(max)) AND [INFORMATION_SCHEMA].[TABLES].[TABLE_SCHEMA] = CAST(? AS NVARCHAR(max))\n"
     ]
    },
    {
     "name": "stderr",
     "output_type": "stream",
     "text": [
      "INFO:sqlalchemy.engine.Engine:SELECT [INFORMATION_SCHEMA].[TABLES].[TABLE_NAME] \n",
      "FROM [INFORMATION_SCHEMA].[TABLES] \n",
      "WHERE ([INFORMATION_SCHEMA].[TABLES].[TABLE_TYPE] = CAST(? AS NVARCHAR(max)) OR [INFORMATION_SCHEMA].[TABLES].[TABLE_TYPE] = CAST(? AS NVARCHAR(max))) AND [INFORMATION_SCHEMA].[TABLES].[TABLE_NAME] = CAST(? AS NVARCHAR(max)) AND [INFORMATION_SCHEMA].[TABLES].[TABLE_SCHEMA] = CAST(? AS NVARCHAR(max))\n"
     ]
    },
    {
     "name": "stdout",
     "output_type": "stream",
     "text": [
      "2025-09-03 15:42:26,659 INFO sqlalchemy.engine.Engine [generated in 0.00186s] ('BASE TABLE', 'VIEW', '_CATALOG', 'nsi')\n"
     ]
    },
    {
     "name": "stderr",
     "output_type": "stream",
     "text": [
      "INFO:sqlalchemy.engine.Engine:[generated in 0.00186s] ('BASE TABLE', 'VIEW', '_CATALOG', 'nsi')\n"
     ]
    },
    {
     "name": "stdout",
     "output_type": "stream",
     "text": [
      "2025-09-03 15:42:26,662 INFO sqlalchemy.engine.Engine COMMIT\n"
     ]
    },
    {
     "name": "stderr",
     "output_type": "stream",
     "text": [
      "INFO:sqlalchemy.engine.Engine:COMMIT\n"
     ]
    }
   ],
   "source": [
    "Session = sessionmaker(bind=engine)\n",
    "session = Session()\n",
    "\n",
    "Base.metadata.create_all(engine)"
   ]
  },
  {
   "cell_type": "code",
   "execution_count": 4,
   "id": "04a9c1cc",
   "metadata": {},
   "outputs": [],
   "source": [
    "BASE_URL = \"https://nsi.ffoms.ru/nsi-int/api\"\n",
    "SCHEMA = \"nsi\""
   ]
  },
  {
   "cell_type": "markdown",
   "id": "f154b7a9",
   "metadata": {},
   "source": [
    "### Выгрузка справочника по коду\n",
    "\n",
    "---\n",
    "\n",
    "- `/data` - Наполнение справочника\n",
    "- `/structure` - Структура справочника (Типы данных и комментарии к столбцам)\n",
    "- `/versions` - Список версий справочника (Название справочника и дата обновления)\n",
    "\n",
    "---\n",
    "\n",
    "1. Посмотреть последнюю версию справочника по коду в `/versions`\n",
    "   - Если справочник есть в `_CATALOG` сравнить версию\n",
    "     - Если версия текущего совпадает, то выход (`up to date`)\n",
    "     - Иначе берем оттуда название справочника\n",
    "   - Если справочника нет в `_CATALOG` добавляем запись (на 2-ом шаге мы создадим структуру)\n",
    "2. Получить структуру справочника по коду в `/structure`\n",
    "   - Спарсить типы данных и комментарии для столбцов\n",
    "   - Подготовить `Metadata` для будующей таблицы\n",
    "3. Получить наполнение справочника по коду в `/data`\n",
    "   - При успешной выгрузке всего наполнения:\n",
    "     - Убрать ненужные столбцы: `SYS_RECORDID`, `version`, `SYS_HASH`\n",
    "     - Создать таблицу с помощью подготовленной `Metadata`\n",
    "     - Загрузить данные в созданную таблицу\n"
   ]
  },
  {
   "cell_type": "code",
   "execution_count": null,
   "id": "10ceaa08",
   "metadata": {},
   "outputs": [],
   "source": [
    "from sqlalchemy.types import TypeEngine\n",
    "from sqlalchemy import Text\n",
    "from requests.adapters import HTTPAdapter\n",
    "from urllib3.util.retry import Retry\n",
    "from src.schemas import RefBookMetadata, ColumnMetadata\n",
    "\n",
    "\n",
    "def exists_in_db(refbook_id: str) -> bool:\n",
    "    return session.get(models.RefBookState, refbook_id) is not None\n",
    "\n",
    "\n",
    "def create_refbook_record(refbook_id: str):\n",
    "    session.add(models.RefBookState(id=refbook_id))\n",
    "    session.commit()\n",
    "\n",
    "\n",
    "def is_up_to_date(refbook_id: str) -> bool:\n",
    "    refbook = session.get(models.RefBookState, refbook_id)\n",
    "\n",
    "    if not refbook or refbook.version is None:\n",
    "        return False\n",
    "\n",
    "    db_version = refbook.version\n",
    "\n",
    "    response = requests.get(\n",
    "        f\"{BASE_URL}/versions\",\n",
    "        params={\"identifier\": refbook_id, \"size\": 1},\n",
    "        verify=False,\n",
    "    )\n",
    "\n",
    "    response.raise_for_status()\n",
    "\n",
    "    data = response.json()\n",
    "\n",
    "    assert data.get(\"list\")\n",
    "\n",
    "    api_version = data[\"list\"][0][\"version\"]\n",
    "\n",
    "    return api_version == db_version\n",
    "\n",
    "\n",
    "def parse_column_type(\n",
    "    data_type: str, length: int | None, fract_part_len: int | None\n",
    ") -> type[TypeEngine] | TypeEngine:\n",
    "    if data_type in (\"INTEGER\", \"REFERENCE\"):\n",
    "        return Integer\n",
    "    elif data_type == \"NUMERIC\":\n",
    "        return Numeric(length, fract_part_len)\n",
    "    elif data_type in (\"VARCHAR\", \"INTEGERVARCHAR\"):\n",
    "        return String(length)\n",
    "    elif data_type == \"DATE\":\n",
    "        return Date\n",
    "    else:\n",
    "        return Text\n",
    "\n",
    "\n",
    "def get_refbook_metadata(refbook_id: str) -> RefBookMetadata:\n",
    "    response = requests.get(\n",
    "        f\"{BASE_URL}/versions\",\n",
    "        params={\"identifier\": refbook_id, \"size\": 1},\n",
    "        verify=False,\n",
    "    )\n",
    "\n",
    "    try:\n",
    "        response.raise_for_status()\n",
    "    except Exception:\n",
    "        print(response.json()[\"message\"])\n",
    "\n",
    "    data = response.json()\n",
    "\n",
    "    table_name = data[\"list\"][0][\"passport\"][\"type\"].split(\"-\")[0]\n",
    "    table_comment = (\n",
    "        data[\"list\"][0][\"passport\"][\"name\"]\n",
    "        + \"\\n\\n\"\n",
    "        + data[\"list\"][0][\"passport\"][\"law\"]\n",
    "    ).rstrip()\n",
    "    version = data[\"list\"][0][\"version\"]\n",
    "    update_date = data[\"list\"][0][\"createDate\"]\n",
    "\n",
    "    response = requests.get(\n",
    "        f\"{BASE_URL}/structure\",\n",
    "        params={\"identifier\": refbook_id},\n",
    "        verify=False,\n",
    "    )\n",
    "\n",
    "    response.raise_for_status()\n",
    "\n",
    "    data = response.json()\n",
    "\n",
    "    columns_metadata = [\n",
    "        ColumnMetadata(\n",
    "            name=column[\"Name\"],\n",
    "            type_=parse_column_type(\n",
    "                column[\"DataType\"],\n",
    "                column.get(\"MaxLength\"),\n",
    "                column.get(\"MaxIntPartLength\"),\n",
    "            ),\n",
    "            nullable=column[\"EmptyAllowed\"],\n",
    "            comment=column[\"Description\"],\n",
    "        )\n",
    "        for column in data[\"Columns\"]\n",
    "    ]\n",
    "\n",
    "    for key in data[\"Keys\"]:\n",
    "        if key[\"type\"] == \"PRIMARY\":\n",
    "            for column in columns_metadata:\n",
    "                if column.name == key[\"field\"]:\n",
    "                    column.primary_key = True\n",
    "                    break\n",
    "\n",
    "    return RefBookMetadata(\n",
    "        table_name=table_name,\n",
    "        table_comment=table_comment,\n",
    "        version=version,\n",
    "        update_date=update_date,\n",
    "        columns_metadata=columns_metadata,\n",
    "    )\n",
    "\n",
    "\n",
    "# Create a session with connection pooling and retry logic\n",
    "def create_session(pool_connections=10, pool_maxsize=10, max_retries=3):\n",
    "    session = requests.Session()\n",
    "\n",
    "    # Configure retry strategy\n",
    "    retry_strategy = Retry(\n",
    "        total=max_retries,\n",
    "        backoff_factor=1,\n",
    "        status_forcelist=[408, 429, 500, 502, 503, 504],\n",
    "    )\n",
    "\n",
    "    # Mount adapters for both http and https\n",
    "    adapter = HTTPAdapter(\n",
    "        max_retries=retry_strategy,\n",
    "        pool_connections=pool_connections,\n",
    "        pool_maxsize=pool_maxsize,\n",
    "    )\n",
    "    session.mount(\"http://\", adapter)\n",
    "    session.mount(\"https://\", adapter)\n",
    "\n",
    "    return session\n",
    "\n",
    "\n",
    "def get_refbook_data(refbook_id: str, size: int = 200) -> list[dict[Any, Any]]:\n",
    "    rows = []\n",
    "    page = 0\n",
    "\n",
    "    with create_session() as session:\n",
    "        while True:\n",
    "            page += 1\n",
    "\n",
    "            response = session.get(\n",
    "                f\"{BASE_URL}/data\",\n",
    "                params={\n",
    "                    \"identifier\": refbook_id,\n",
    "                    \"page\": page,\n",
    "                    \"size\": size,\n",
    "                },\n",
    "                verify=False,\n",
    "            )\n",
    "\n",
    "            response.raise_for_status()\n",
    "\n",
    "            data = response.json()\n",
    "\n",
    "            pages = data[\"total\"] // size + 1\n",
    "\n",
    "            rows.extend(data[\"list\"])\n",
    "\n",
    "            print(f\"page: {page}/{pages}\")\n",
    "\n",
    "            if page >= pages:\n",
    "                break\n",
    "\n",
    "    rows = [\n",
    "        {\n",
    "            item[\"column\"]: item[\"value\"]\n",
    "            for item in row\n",
    "            if item[\"column\"] not in (\"SYS_RECORDID\", \"version\", \"SYS_HASH\")\n",
    "        }\n",
    "        for row in data[\"list\"]\n",
    "    ]\n",
    "\n",
    "    return rows\n",
    "\n",
    "\n",
    "def load_refbook_to_db(id: str):\n",
    "    if is_up_to_date(id):\n",
    "        return\n",
    "\n",
    "    if not exists_in_db(id):\n",
    "        create_refbook_record(id)\n",
    "\n",
    "    refbook_metadata = get_refbook_metadata(id)\n",
    "    refbook_data = get_refbook_data(id, size=10_000)\n",
    "\n",
    "    # Создаем таблицу\n",
    "    columns = [\n",
    "        Column(**column_metadata.model_dump())\n",
    "        for column_metadata in refbook_metadata.columns_metadata\n",
    "    ]\n",
    "\n",
    "    table = Table(\n",
    "        refbook_metadata.table_name,\n",
    "        Base.metadata,\n",
    "        *columns,\n",
    "        schema=SCHEMA,\n",
    "        comment=refbook_metadata.table_comment,\n",
    "    )\n",
    "\n",
    "    with engine.begin() as conn:\n",
    "        table.drop(conn, checkfirst=True)\n",
    "        table.create(conn)\n",
    "        conn.execute(table.insert(), refbook_data)"
   ]
  },
  {
   "cell_type": "code",
   "execution_count": 16,
   "id": "6881749e",
   "metadata": {},
   "outputs": [
    {
     "name": "stdout",
     "output_type": "stream",
     "text": [
      "2025-09-03 16:03:16,742 INFO sqlalchemy.engine.Engine BEGIN (implicit)\n"
     ]
    },
    {
     "name": "stderr",
     "output_type": "stream",
     "text": [
      "INFO:sqlalchemy.engine.Engine:BEGIN (implicit)\n"
     ]
    },
    {
     "name": "stdout",
     "output_type": "stream",
     "text": [
      "2025-09-03 16:03:16,743 INFO sqlalchemy.engine.Engine SELECT nsi.[_CATALOG].id AS [nsi__CATALOG_id], nsi.[_CATALOG].table_name AS [nsi__CATALOG_table_name], nsi.[_CATALOG].version AS [nsi__CATALOG_version], nsi.[_CATALOG].update_date AS [nsi__CATALOG_update_date], nsi.[_CATALOG].comment AS [nsi__CATALOG_comment] \n",
      "FROM nsi.[_CATALOG] \n",
      "WHERE nsi.[_CATALOG].id = ?\n"
     ]
    },
    {
     "name": "stderr",
     "output_type": "stream",
     "text": [
      "INFO:sqlalchemy.engine.Engine:SELECT nsi.[_CATALOG].id AS [nsi__CATALOG_id], nsi.[_CATALOG].table_name AS [nsi__CATALOG_table_name], nsi.[_CATALOG].version AS [nsi__CATALOG_version], nsi.[_CATALOG].update_date AS [nsi__CATALOG_update_date], nsi.[_CATALOG].comment AS [nsi__CATALOG_comment] \n",
      "FROM nsi.[_CATALOG] \n",
      "WHERE nsi.[_CATALOG].id = ?\n"
     ]
    },
    {
     "name": "stdout",
     "output_type": "stream",
     "text": [
      "2025-09-03 16:03:16,744 INFO sqlalchemy.engine.Engine [cached since 1250s ago] ('F031',)\n"
     ]
    },
    {
     "name": "stderr",
     "output_type": "stream",
     "text": [
      "INFO:sqlalchemy.engine.Engine:[cached since 1250s ago] ('F031',)\n"
     ]
    },
    {
     "name": "stdout",
     "output_type": "stream",
     "text": [
      "2025-09-03 16:03:16,749 INFO sqlalchemy.engine.Engine SELECT nsi.[_CATALOG].id AS [nsi__CATALOG_id], nsi.[_CATALOG].table_name AS [nsi__CATALOG_table_name], nsi.[_CATALOG].version AS [nsi__CATALOG_version], nsi.[_CATALOG].update_date AS [nsi__CATALOG_update_date], nsi.[_CATALOG].comment AS [nsi__CATALOG_comment] \n",
      "FROM nsi.[_CATALOG] \n",
      "WHERE nsi.[_CATALOG].id = ?\n"
     ]
    },
    {
     "name": "stderr",
     "output_type": "stream",
     "text": [
      "INFO:sqlalchemy.engine.Engine:SELECT nsi.[_CATALOG].id AS [nsi__CATALOG_id], nsi.[_CATALOG].table_name AS [nsi__CATALOG_table_name], nsi.[_CATALOG].version AS [nsi__CATALOG_version], nsi.[_CATALOG].update_date AS [nsi__CATALOG_update_date], nsi.[_CATALOG].comment AS [nsi__CATALOG_comment] \n",
      "FROM nsi.[_CATALOG] \n",
      "WHERE nsi.[_CATALOG].id = ?\n"
     ]
    },
    {
     "name": "stdout",
     "output_type": "stream",
     "text": [
      "2025-09-03 16:03:16,750 INFO sqlalchemy.engine.Engine [cached since 1250s ago] ('F031',)\n"
     ]
    },
    {
     "name": "stderr",
     "output_type": "stream",
     "text": [
      "INFO:sqlalchemy.engine.Engine:[cached since 1250s ago] ('F031',)\n"
     ]
    },
    {
     "name": "stderr",
     "output_type": "stream",
     "text": [
      "DEBUG:urllib3.connectionpool:Starting new HTTPS connection (1): nsi.ffoms.ru:443\n",
      "DEBUG:urllib3.connectionpool:https://nsi.ffoms.ru:443 \"GET /nsi-int/api/versions?identifier=F031&size=1 HTTP/1.1\" 200 None\n",
      "DEBUG:urllib3.connectionpool:Starting new HTTPS connection (1): nsi.ffoms.ru:443\n",
      "DEBUG:urllib3.connectionpool:https://nsi.ffoms.ru:443 \"GET /nsi-int/api/structure?identifier=F031 HTTP/1.1\" 200 None\n",
      "DEBUG:urllib3.connectionpool:Starting new HTTPS connection (1): nsi.ffoms.ru:443\n",
      "DEBUG:urllib3.connectionpool:https://nsi.ffoms.ru:443 \"GET /nsi-int/api/data?identifier=F031&page=1&size=10000 HTTP/1.1\" 200 None\n"
     ]
    },
    {
     "name": "stdout",
     "output_type": "stream",
     "text": [
      "page: 1/1\n",
      "2025-09-03 16:03:20,502 INFO sqlalchemy.engine.Engine BEGIN (implicit)\n"
     ]
    },
    {
     "name": "stderr",
     "output_type": "stream",
     "text": [
      "INFO:sqlalchemy.engine.Engine:BEGIN (implicit)\n"
     ]
    },
    {
     "name": "stdout",
     "output_type": "stream",
     "text": [
      "2025-09-03 16:03:20,503 INFO sqlalchemy.engine.Engine SELECT [INFORMATION_SCHEMA].[TABLES].[TABLE_NAME] \n",
      "FROM [INFORMATION_SCHEMA].[TABLES] \n",
      "WHERE ([INFORMATION_SCHEMA].[TABLES].[TABLE_TYPE] = CAST(? AS NVARCHAR(max)) OR [INFORMATION_SCHEMA].[TABLES].[TABLE_TYPE] = CAST(? AS NVARCHAR(max))) AND [INFORMATION_SCHEMA].[TABLES].[TABLE_NAME] = CAST(? AS NVARCHAR(max)) AND [INFORMATION_SCHEMA].[TABLES].[TABLE_SCHEMA] = CAST(? AS NVARCHAR(max))\n"
     ]
    },
    {
     "name": "stderr",
     "output_type": "stream",
     "text": [
      "INFO:sqlalchemy.engine.Engine:SELECT [INFORMATION_SCHEMA].[TABLES].[TABLE_NAME] \n",
      "FROM [INFORMATION_SCHEMA].[TABLES] \n",
      "WHERE ([INFORMATION_SCHEMA].[TABLES].[TABLE_TYPE] = CAST(? AS NVARCHAR(max)) OR [INFORMATION_SCHEMA].[TABLES].[TABLE_TYPE] = CAST(? AS NVARCHAR(max))) AND [INFORMATION_SCHEMA].[TABLES].[TABLE_NAME] = CAST(? AS NVARCHAR(max)) AND [INFORMATION_SCHEMA].[TABLES].[TABLE_SCHEMA] = CAST(? AS NVARCHAR(max))\n"
     ]
    },
    {
     "name": "stdout",
     "output_type": "stream",
     "text": [
      "2025-09-03 16:03:20,504 INFO sqlalchemy.engine.Engine [cached since 1254s ago] ('BASE TABLE', 'VIEW', 'ERMO', 'nsi')\n"
     ]
    },
    {
     "name": "stderr",
     "output_type": "stream",
     "text": [
      "INFO:sqlalchemy.engine.Engine:[cached since 1254s ago] ('BASE TABLE', 'VIEW', 'ERMO', 'nsi')\n"
     ]
    },
    {
     "name": "stdout",
     "output_type": "stream",
     "text": [
      "2025-09-03 16:03:20,507 INFO sqlalchemy.engine.Engine \n",
      "CREATE TABLE nsi.[ERMO] (\n",
      "\t[IDMO] VARCHAR(17) NOT NULL, \n",
      "\t[NAM_MOP] VARCHAR(2500) NULL, \n",
      "\t[NAM_MOK] VARCHAR(2500) NOT NULL, \n",
      "\t[INN] VARCHAR(12) NULL, \n",
      "\t[KPP] VARCHAR(9) NULL, \n",
      "\t[OGRN] VARCHAR(15) NULL, \n",
      "\t[OID_MO] VARCHAR(35) NOT NULL, \n",
      "\t[OKOPF] VARCHAR(5) NOT NULL, \n",
      "\t[OKFS] VARCHAR(2) NOT NULL, \n",
      "\t[ADDR_J] VARCHAR(300) NOT NULL, \n",
      "\t[ADDR_J_GAR] VARCHAR(36) NOT NULL, \n",
      "\t[OKTMO] VARCHAR(11) NOT NULL, \n",
      "\t[EMAIL] VARCHAR(255) NULL, \n",
      "\t[PHONE] VARCHAR(255) NULL, \n",
      "\t[FAX] VARCHAR(250) NOT NULL, \n",
      "\t[DATEBEG] DATE NULL, \n",
      "\t[DATEEND] DATE NULL, \n",
      "\tPRIMARY KEY ([IDMO])\n",
      ")\n",
      "\n",
      "\n"
     ]
    },
    {
     "name": "stderr",
     "output_type": "stream",
     "text": [
      "INFO:sqlalchemy.engine.Engine:\n",
      "CREATE TABLE nsi.[ERMO] (\n",
      "\t[IDMO] VARCHAR(17) NOT NULL, \n",
      "\t[NAM_MOP] VARCHAR(2500) NULL, \n",
      "\t[NAM_MOK] VARCHAR(2500) NOT NULL, \n",
      "\t[INN] VARCHAR(12) NULL, \n",
      "\t[KPP] VARCHAR(9) NULL, \n",
      "\t[OGRN] VARCHAR(15) NULL, \n",
      "\t[OID_MO] VARCHAR(35) NOT NULL, \n",
      "\t[OKOPF] VARCHAR(5) NOT NULL, \n",
      "\t[OKFS] VARCHAR(2) NOT NULL, \n",
      "\t[ADDR_J] VARCHAR(300) NOT NULL, \n",
      "\t[ADDR_J_GAR] VARCHAR(36) NOT NULL, \n",
      "\t[OKTMO] VARCHAR(11) NOT NULL, \n",
      "\t[EMAIL] VARCHAR(255) NULL, \n",
      "\t[PHONE] VARCHAR(255) NULL, \n",
      "\t[FAX] VARCHAR(250) NOT NULL, \n",
      "\t[DATEBEG] DATE NULL, \n",
      "\t[DATEEND] DATE NULL, \n",
      "\tPRIMARY KEY ([IDMO])\n",
      ")\n",
      "\n",
      "\n"
     ]
    },
    {
     "name": "stdout",
     "output_type": "stream",
     "text": [
      "2025-09-03 16:03:20,507 INFO sqlalchemy.engine.Engine [no key 0.00027s] ()\n"
     ]
    },
    {
     "name": "stderr",
     "output_type": "stream",
     "text": [
      "INFO:sqlalchemy.engine.Engine:[no key 0.00027s] ()\n"
     ]
    },
    {
     "name": "stdout",
     "output_type": "stream",
     "text": [
      "2025-09-03 16:03:20,513 INFO sqlalchemy.engine.Engine execute sp_addextendedproperty 'MS_Description', N'Единый реестр медицинских организаций (ERMO)', 'schema', nsi, 'table', [ERMO]\n"
     ]
    },
    {
     "name": "stderr",
     "output_type": "stream",
     "text": [
      "INFO:sqlalchemy.engine.Engine:execute sp_addextendedproperty 'MS_Description', N'Единый реестр медицинских организаций (ERMO)', 'schema', nsi, 'table', [ERMO]\n"
     ]
    },
    {
     "name": "stdout",
     "output_type": "stream",
     "text": [
      "2025-09-03 16:03:20,514 INFO sqlalchemy.engine.Engine [no key 0.00063s] ()\n"
     ]
    },
    {
     "name": "stderr",
     "output_type": "stream",
     "text": [
      "INFO:sqlalchemy.engine.Engine:[no key 0.00063s] ()\n"
     ]
    },
    {
     "name": "stdout",
     "output_type": "stream",
     "text": [
      "2025-09-03 16:03:20,516 INFO sqlalchemy.engine.Engine execute sp_addextendedproperty 'MS_Description', N'Реестровый номер медицинской организации (индивидуального предпринимателя, осуществляющего медицинскую деятельность)', 'schema', nsi, 'table', [ERMO], 'column', [IDMO]\n"
     ]
    },
    {
     "name": "stderr",
     "output_type": "stream",
     "text": [
      "INFO:sqlalchemy.engine.Engine:execute sp_addextendedproperty 'MS_Description', N'Реестровый номер медицинской организации (индивидуального предпринимателя, осуществляющего медицинскую деятельность)', 'schema', nsi, 'table', [ERMO], 'column', [IDMO]\n"
     ]
    },
    {
     "name": "stdout",
     "output_type": "stream",
     "text": [
      "2025-09-03 16:03:20,519 INFO sqlalchemy.engine.Engine [no key 0.00250s] ()\n"
     ]
    },
    {
     "name": "stderr",
     "output_type": "stream",
     "text": [
      "INFO:sqlalchemy.engine.Engine:[no key 0.00250s] ()\n"
     ]
    },
    {
     "name": "stdout",
     "output_type": "stream",
     "text": [
      "2025-09-03 16:03:20,522 INFO sqlalchemy.engine.Engine execute sp_addextendedproperty 'MS_Description', N'Полное наименование медицинской организации в соответствии со сведениями ЕГРЮЛ, либо фамилия, имя, отчество (при наличии) индивидуального предпринимателя, осуществляющего медицинскую деятельность, в соответствии со сведениями ЕГРИП', 'schema', nsi, 'table', [ERMO], 'column', [NAM_MOP]\n"
     ]
    },
    {
     "name": "stderr",
     "output_type": "stream",
     "text": [
      "INFO:sqlalchemy.engine.Engine:execute sp_addextendedproperty 'MS_Description', N'Полное наименование медицинской организации в соответствии со сведениями ЕГРЮЛ, либо фамилия, имя, отчество (при наличии) индивидуального предпринимателя, осуществляющего медицинскую деятельность, в соответствии со сведениями ЕГРИП', 'schema', nsi, 'table', [ERMO], 'column', [NAM_MOP]\n"
     ]
    },
    {
     "name": "stdout",
     "output_type": "stream",
     "text": [
      "2025-09-03 16:03:20,525 INFO sqlalchemy.engine.Engine [no key 0.00308s] ()\n"
     ]
    },
    {
     "name": "stderr",
     "output_type": "stream",
     "text": [
      "INFO:sqlalchemy.engine.Engine:[no key 0.00308s] ()\n"
     ]
    },
    {
     "name": "stdout",
     "output_type": "stream",
     "text": [
      "2025-09-03 16:03:20,528 INFO sqlalchemy.engine.Engine execute sp_addextendedproperty 'MS_Description', N'Сокращенное наименование медицинской организации в соответствии со сведениями ЕГРЮЛ, либо фамилия или имя индивидуального предпринимателя, осуществляющего медицинскую деятельность, в соответствии со сведениями ЕГРИП', 'schema', nsi, 'table', [ERMO], 'column', [NAM_MOK]\n"
     ]
    },
    {
     "name": "stderr",
     "output_type": "stream",
     "text": [
      "INFO:sqlalchemy.engine.Engine:execute sp_addextendedproperty 'MS_Description', N'Сокращенное наименование медицинской организации в соответствии со сведениями ЕГРЮЛ, либо фамилия или имя индивидуального предпринимателя, осуществляющего медицинскую деятельность, в соответствии со сведениями ЕГРИП', 'schema', nsi, 'table', [ERMO], 'column', [NAM_MOK]\n"
     ]
    },
    {
     "name": "stdout",
     "output_type": "stream",
     "text": [
      "2025-09-03 16:03:20,531 INFO sqlalchemy.engine.Engine [no key 0.00228s] ()\n"
     ]
    },
    {
     "name": "stderr",
     "output_type": "stream",
     "text": [
      "INFO:sqlalchemy.engine.Engine:[no key 0.00228s] ()\n"
     ]
    },
    {
     "name": "stdout",
     "output_type": "stream",
     "text": [
      "2025-09-03 16:03:20,533 INFO sqlalchemy.engine.Engine execute sp_addextendedproperty 'MS_Description', N'ИНН медицинской организации (индивидуального предпринимателя) в соответствии со свидетельством о постановке на учет в налоговом органе', 'schema', nsi, 'table', [ERMO], 'column', [INN]\n"
     ]
    },
    {
     "name": "stderr",
     "output_type": "stream",
     "text": [
      "INFO:sqlalchemy.engine.Engine:execute sp_addextendedproperty 'MS_Description', N'ИНН медицинской организации (индивидуального предпринимателя) в соответствии со свидетельством о постановке на учет в налоговом органе', 'schema', nsi, 'table', [ERMO], 'column', [INN]\n"
     ]
    },
    {
     "name": "stdout",
     "output_type": "stream",
     "text": [
      "2025-09-03 16:03:20,533 INFO sqlalchemy.engine.Engine [no key 0.00046s] ()\n"
     ]
    },
    {
     "name": "stderr",
     "output_type": "stream",
     "text": [
      "INFO:sqlalchemy.engine.Engine:[no key 0.00046s] ()\n"
     ]
    },
    {
     "name": "stdout",
     "output_type": "stream",
     "text": [
      "2025-09-03 16:03:20,535 INFO sqlalchemy.engine.Engine execute sp_addextendedproperty 'MS_Description', N'КПП медицинской организации в соответствии со свидетельством о постановке на учет в налоговом органе либо значение «000000000» для индивидуального предпринимателя', 'schema', nsi, 'table', [ERMO], 'column', [KPP]\n"
     ]
    },
    {
     "name": "stderr",
     "output_type": "stream",
     "text": [
      "INFO:sqlalchemy.engine.Engine:execute sp_addextendedproperty 'MS_Description', N'КПП медицинской организации в соответствии со свидетельством о постановке на учет в налоговом органе либо значение «000000000» для индивидуального предпринимателя', 'schema', nsi, 'table', [ERMO], 'column', [KPP]\n"
     ]
    },
    {
     "name": "stdout",
     "output_type": "stream",
     "text": [
      "2025-09-03 16:03:20,536 INFO sqlalchemy.engine.Engine [no key 0.00103s] ()\n"
     ]
    },
    {
     "name": "stderr",
     "output_type": "stream",
     "text": [
      "INFO:sqlalchemy.engine.Engine:[no key 0.00103s] ()\n"
     ]
    },
    {
     "name": "stdout",
     "output_type": "stream",
     "text": [
      "2025-09-03 16:03:20,537 INFO sqlalchemy.engine.Engine execute sp_addextendedproperty 'MS_Description', N'ОГРН медицинской организации в соответствии со сведениями ЕГРЮЛ либо ОГРН индивидуального предпринимателя, осуществляющего медицинскую деятельность, в соответствии со сведениями ЕГРИП', 'schema', nsi, 'table', [ERMO], 'column', [OGRN]\n"
     ]
    },
    {
     "name": "stderr",
     "output_type": "stream",
     "text": [
      "INFO:sqlalchemy.engine.Engine:execute sp_addextendedproperty 'MS_Description', N'ОГРН медицинской организации в соответствии со сведениями ЕГРЮЛ либо ОГРН индивидуального предпринимателя, осуществляющего медицинскую деятельность, в соответствии со сведениями ЕГРИП', 'schema', nsi, 'table', [ERMO], 'column', [OGRN]\n"
     ]
    },
    {
     "name": "stdout",
     "output_type": "stream",
     "text": [
      "2025-09-03 16:03:20,538 INFO sqlalchemy.engine.Engine [no key 0.00047s] ()\n"
     ]
    },
    {
     "name": "stderr",
     "output_type": "stream",
     "text": [
      "INFO:sqlalchemy.engine.Engine:[no key 0.00047s] ()\n"
     ]
    },
    {
     "name": "stdout",
     "output_type": "stream",
     "text": [
      "2025-09-03 16:03:20,539 INFO sqlalchemy.engine.Engine execute sp_addextendedproperty 'MS_Description', N'OID медицинской организации (индивидуального предпринимателя) в соответствии со сведениями НСИ Минздрава России (OID справочника 1.2.643.5.1.13.13.11.1461, атрибут «oid»)', 'schema', nsi, 'table', [ERMO], 'column', [OID_MO]\n"
     ]
    },
    {
     "name": "stderr",
     "output_type": "stream",
     "text": [
      "INFO:sqlalchemy.engine.Engine:execute sp_addextendedproperty 'MS_Description', N'OID медицинской организации (индивидуального предпринимателя) в соответствии со сведениями НСИ Минздрава России (OID справочника 1.2.643.5.1.13.13.11.1461, атрибут «oid»)', 'schema', nsi, 'table', [ERMO], 'column', [OID_MO]\n"
     ]
    },
    {
     "name": "stdout",
     "output_type": "stream",
     "text": [
      "2025-09-03 16:03:20,540 INFO sqlalchemy.engine.Engine [no key 0.00045s] ()\n"
     ]
    },
    {
     "name": "stderr",
     "output_type": "stream",
     "text": [
      "INFO:sqlalchemy.engine.Engine:[no key 0.00045s] ()\n"
     ]
    },
    {
     "name": "stdout",
     "output_type": "stream",
     "text": [
      "2025-09-03 16:03:20,541 INFO sqlalchemy.engine.Engine execute sp_addextendedproperty 'MS_Description', N'Код организационно-правовой формы медицинской организации (индивидуального предпринимателя) в соответствии с Общероссийским классификатором организационно-правовых форм (ОКОПФ)', 'schema', nsi, 'table', [ERMO], 'column', [OKOPF]\n"
     ]
    },
    {
     "name": "stderr",
     "output_type": "stream",
     "text": [
      "INFO:sqlalchemy.engine.Engine:execute sp_addextendedproperty 'MS_Description', N'Код организационно-правовой формы медицинской организации (индивидуального предпринимателя) в соответствии с Общероссийским классификатором организационно-правовых форм (ОКОПФ)', 'schema', nsi, 'table', [ERMO], 'column', [OKOPF]\n"
     ]
    },
    {
     "name": "stdout",
     "output_type": "stream",
     "text": [
      "2025-09-03 16:03:20,542 INFO sqlalchemy.engine.Engine [no key 0.00069s] ()\n"
     ]
    },
    {
     "name": "stderr",
     "output_type": "stream",
     "text": [
      "INFO:sqlalchemy.engine.Engine:[no key 0.00069s] ()\n"
     ]
    },
    {
     "name": "stdout",
     "output_type": "stream",
     "text": [
      "2025-09-03 16:03:20,544 INFO sqlalchemy.engine.Engine execute sp_addextendedproperty 'MS_Description', N'Код формы собственности медицинской организации (индивидуального предпринимателя) в соответствии с Общероссийским классификатором форм собственности (ОКФС)', 'schema', nsi, 'table', [ERMO], 'column', [OKFS]\n"
     ]
    },
    {
     "name": "stderr",
     "output_type": "stream",
     "text": [
      "INFO:sqlalchemy.engine.Engine:execute sp_addextendedproperty 'MS_Description', N'Код формы собственности медицинской организации (индивидуального предпринимателя) в соответствии с Общероссийским классификатором форм собственности (ОКФС)', 'schema', nsi, 'table', [ERMO], 'column', [OKFS]\n"
     ]
    },
    {
     "name": "stdout",
     "output_type": "stream",
     "text": [
      "2025-09-03 16:03:20,545 INFO sqlalchemy.engine.Engine [no key 0.00142s] ()\n"
     ]
    },
    {
     "name": "stderr",
     "output_type": "stream",
     "text": [
      "INFO:sqlalchemy.engine.Engine:[no key 0.00142s] ()\n"
     ]
    },
    {
     "name": "stdout",
     "output_type": "stream",
     "text": [
      "2025-09-03 16:03:20,547 INFO sqlalchemy.engine.Engine execute sp_addextendedproperty 'MS_Description', N'Адрес медицинской организации в пределах места нахождения медицинской организации, либо адрес, по которому индивидуальный предприниматель зарегистрирован по месту жительства в установленном законодательством Российской Федерации порядке (для индивидуальных предпринимателей, осуществляющих медицинскую деятельность)', 'schema', nsi, 'table', [ERMO], 'column', [ADDR_J]\n"
     ]
    },
    {
     "name": "stderr",
     "output_type": "stream",
     "text": [
      "INFO:sqlalchemy.engine.Engine:execute sp_addextendedproperty 'MS_Description', N'Адрес медицинской организации в пределах места нахождения медицинской организации, либо адрес, по которому индивидуальный предприниматель зарегистрирован по месту жительства в установленном законодательством Российской Федерации порядке (для индивидуальных предпринимателей, осуществляющих медицинскую деятельность)', 'schema', nsi, 'table', [ERMO], 'column', [ADDR_J]\n"
     ]
    },
    {
     "name": "stdout",
     "output_type": "stream",
     "text": [
      "2025-09-03 16:03:20,548 INFO sqlalchemy.engine.Engine [no key 0.00089s] ()\n"
     ]
    },
    {
     "name": "stderr",
     "output_type": "stream",
     "text": [
      "INFO:sqlalchemy.engine.Engine:[no key 0.00089s] ()\n"
     ]
    },
    {
     "name": "stdout",
     "output_type": "stream",
     "text": [
      "2025-09-03 16:03:20,551 INFO sqlalchemy.engine.Engine execute sp_addextendedproperty 'MS_Description', N'Уникальный номер адреса медицинской организации в пределах места нахождения медицинской организации, либо уникальный номер адреса, по которому индивидуальный предприниматель зарегистрирован по месту жительства в установленном законодательством Российской Федерации порядке, в государственном адресном реестре', 'schema', nsi, 'table', [ERMO], 'column', [ADDR_J_GAR]\n"
     ]
    },
    {
     "name": "stderr",
     "output_type": "stream",
     "text": [
      "INFO:sqlalchemy.engine.Engine:execute sp_addextendedproperty 'MS_Description', N'Уникальный номер адреса медицинской организации в пределах места нахождения медицинской организации, либо уникальный номер адреса, по которому индивидуальный предприниматель зарегистрирован по месту жительства в установленном законодательством Российской Федерации порядке, в государственном адресном реестре', 'schema', nsi, 'table', [ERMO], 'column', [ADDR_J_GAR]\n"
     ]
    },
    {
     "name": "stdout",
     "output_type": "stream",
     "text": [
      "2025-09-03 16:03:20,552 INFO sqlalchemy.engine.Engine [no key 0.00099s] ()\n"
     ]
    },
    {
     "name": "stderr",
     "output_type": "stream",
     "text": [
      "INFO:sqlalchemy.engine.Engine:[no key 0.00099s] ()\n"
     ]
    },
    {
     "name": "stdout",
     "output_type": "stream",
     "text": [
      "2025-09-03 16:03:20,553 INFO sqlalchemy.engine.Engine execute sp_addextendedproperty 'MS_Description', N'Код территории субъекта Российской Федерации, в котором расположена медицинская организация, либо в котором зарегистрирован по месту жительства в установленном законодательством Российской Федерации порядке индивидуальный предприниматель, по Общероссийскому классификатору территорий муниципальных образований (ОКТМО)', 'schema', nsi, 'table', [ERMO], 'column', [OKTMO]\n"
     ]
    },
    {
     "name": "stderr",
     "output_type": "stream",
     "text": [
      "INFO:sqlalchemy.engine.Engine:execute sp_addextendedproperty 'MS_Description', N'Код территории субъекта Российской Федерации, в котором расположена медицинская организация, либо в котором зарегистрирован по месту жительства в установленном законодательством Российской Федерации порядке индивидуальный предприниматель, по Общероссийскому классификатору территорий муниципальных образований (ОКТМО)', 'schema', nsi, 'table', [ERMO], 'column', [OKTMO]\n"
     ]
    },
    {
     "name": "stdout",
     "output_type": "stream",
     "text": [
      "2025-09-03 16:03:20,554 INFO sqlalchemy.engine.Engine [no key 0.00055s] ()\n"
     ]
    },
    {
     "name": "stderr",
     "output_type": "stream",
     "text": [
      "INFO:sqlalchemy.engine.Engine:[no key 0.00055s] ()\n"
     ]
    },
    {
     "name": "stdout",
     "output_type": "stream",
     "text": [
      "2025-09-03 16:03:20,556 INFO sqlalchemy.engine.Engine execute sp_addextendedproperty 'MS_Description', N'Адрес электронной почты медицинской организации (индивидуального предпринимателя, осуществляющего медицинскую деятельность)', 'schema', nsi, 'table', [ERMO], 'column', [EMAIL]\n"
     ]
    },
    {
     "name": "stderr",
     "output_type": "stream",
     "text": [
      "INFO:sqlalchemy.engine.Engine:execute sp_addextendedproperty 'MS_Description', N'Адрес электронной почты медицинской организации (индивидуального предпринимателя, осуществляющего медицинскую деятельность)', 'schema', nsi, 'table', [ERMO], 'column', [EMAIL]\n"
     ]
    },
    {
     "name": "stdout",
     "output_type": "stream",
     "text": [
      "2025-09-03 16:03:20,556 INFO sqlalchemy.engine.Engine [no key 0.00042s] ()\n"
     ]
    },
    {
     "name": "stderr",
     "output_type": "stream",
     "text": [
      "INFO:sqlalchemy.engine.Engine:[no key 0.00042s] ()\n"
     ]
    },
    {
     "name": "stdout",
     "output_type": "stream",
     "text": [
      "2025-09-03 16:03:20,557 INFO sqlalchemy.engine.Engine execute sp_addextendedproperty 'MS_Description', N'Телефон медицинской организации (индивидуального предпринимателя, осуществляющего медицинскую деятельность)', 'schema', nsi, 'table', [ERMO], 'column', [PHONE]\n"
     ]
    },
    {
     "name": "stderr",
     "output_type": "stream",
     "text": [
      "INFO:sqlalchemy.engine.Engine:execute sp_addextendedproperty 'MS_Description', N'Телефон медицинской организации (индивидуального предпринимателя, осуществляющего медицинскую деятельность)', 'schema', nsi, 'table', [ERMO], 'column', [PHONE]\n"
     ]
    },
    {
     "name": "stdout",
     "output_type": "stream",
     "text": [
      "2025-09-03 16:03:20,558 INFO sqlalchemy.engine.Engine [no key 0.00035s] ()\n"
     ]
    },
    {
     "name": "stderr",
     "output_type": "stream",
     "text": [
      "INFO:sqlalchemy.engine.Engine:[no key 0.00035s] ()\n"
     ]
    },
    {
     "name": "stdout",
     "output_type": "stream",
     "text": [
      "2025-09-03 16:03:20,559 INFO sqlalchemy.engine.Engine execute sp_addextendedproperty 'MS_Description', N'Факс', 'schema', nsi, 'table', [ERMO], 'column', [FAX]\n"
     ]
    },
    {
     "name": "stderr",
     "output_type": "stream",
     "text": [
      "INFO:sqlalchemy.engine.Engine:execute sp_addextendedproperty 'MS_Description', N'Факс', 'schema', nsi, 'table', [ERMO], 'column', [FAX]\n"
     ]
    },
    {
     "name": "stdout",
     "output_type": "stream",
     "text": [
      "2025-09-03 16:03:20,559 INFO sqlalchemy.engine.Engine [no key 0.00030s] ()\n"
     ]
    },
    {
     "name": "stderr",
     "output_type": "stream",
     "text": [
      "INFO:sqlalchemy.engine.Engine:[no key 0.00030s] ()\n"
     ]
    },
    {
     "name": "stdout",
     "output_type": "stream",
     "text": [
      "2025-09-03 16:03:20,561 INFO sqlalchemy.engine.Engine execute sp_addextendedproperty 'MS_Description', N'Дата начала действия записи', 'schema', nsi, 'table', [ERMO], 'column', [DATEBEG]\n"
     ]
    },
    {
     "name": "stderr",
     "output_type": "stream",
     "text": [
      "INFO:sqlalchemy.engine.Engine:execute sp_addextendedproperty 'MS_Description', N'Дата начала действия записи', 'schema', nsi, 'table', [ERMO], 'column', [DATEBEG]\n"
     ]
    },
    {
     "name": "stdout",
     "output_type": "stream",
     "text": [
      "2025-09-03 16:03:20,561 INFO sqlalchemy.engine.Engine [no key 0.00034s] ()\n"
     ]
    },
    {
     "name": "stderr",
     "output_type": "stream",
     "text": [
      "INFO:sqlalchemy.engine.Engine:[no key 0.00034s] ()\n"
     ]
    },
    {
     "name": "stdout",
     "output_type": "stream",
     "text": [
      "2025-09-03 16:03:20,562 INFO sqlalchemy.engine.Engine execute sp_addextendedproperty 'MS_Description', N'Дата окончания действия записи', 'schema', nsi, 'table', [ERMO], 'column', [DATEEND]\n"
     ]
    },
    {
     "name": "stderr",
     "output_type": "stream",
     "text": [
      "INFO:sqlalchemy.engine.Engine:execute sp_addextendedproperty 'MS_Description', N'Дата окончания действия записи', 'schema', nsi, 'table', [ERMO], 'column', [DATEEND]\n"
     ]
    },
    {
     "name": "stdout",
     "output_type": "stream",
     "text": [
      "2025-09-03 16:03:20,563 INFO sqlalchemy.engine.Engine [no key 0.00050s] ()\n"
     ]
    },
    {
     "name": "stderr",
     "output_type": "stream",
     "text": [
      "INFO:sqlalchemy.engine.Engine:[no key 0.00050s] ()\n"
     ]
    },
    {
     "name": "stdout",
     "output_type": "stream",
     "text": [
      "2025-09-03 16:03:20,601 INFO sqlalchemy.engine.Engine INSERT INTO nsi.[ERMO] ([IDMO], [NAM_MOP], [NAM_MOK], [INN], [KPP], [OGRN], [OID_MO], [OKOPF], [OKFS], [ADDR_J], [ADDR_J_GAR], [OKTMO], [EMAIL], [PHONE], [FAX], [DATEBEG], [DATEEND]) VALUES (?, ?, ?, ?, ?, ?, ?, ?, ?, ?, ?, ?, ?, ?, ?, ?, ?), (?, ?,  ... 6357 characters truncated ... ?, ?, ?, ?, ?, ?, ?, ?, ?, ?, ?, ?, ?, ?, ?, ?), (?, ?, ?, ?, ?, ?, ?, ?, ?, ?, ?, ?, ?, ?, ?, ?, ?)\n"
     ]
    },
    {
     "name": "stderr",
     "output_type": "stream",
     "text": [
      "INFO:sqlalchemy.engine.Engine:INSERT INTO nsi.[ERMO] ([IDMO], [NAM_MOP], [NAM_MOK], [INN], [KPP], [OGRN], [OID_MO], [OKOPF], [OKFS], [ADDR_J], [ADDR_J_GAR], [OKTMO], [EMAIL], [PHONE], [FAX], [DATEBEG], [DATEEND]) VALUES (?, ?, ?, ?, ?, ?, ?, ?, ?, ?, ?, ?, ?, ?, ?, ?, ?), (?, ?,  ... 6357 characters truncated ... ?, ?, ?, ?, ?, ?, ?, ?, ?, ?, ?, ?, ?, ?, ?, ?), (?, ?, ?, ?, ?, ?, ?, ?, ?, ?, ?, ?, ?, ?, ?, ?, ?)\n"
     ]
    },
    {
     "name": "stdout",
     "output_type": "stream",
     "text": [
      "2025-09-03 16:03:20,602 INFO sqlalchemy.engine.Engine [generated in 0.03506s (insertmanyvalues) 1/72 (unordered)] ('00000100000000000', 'ГОСУДАРСТВЕННОЕ БЮДЖЕТНОЕ УЧРЕЖДЕНИЕ  ЗДРАВООХРАНЕНИЯ РЕСПУБЛИКИ АДЫГЕЯ АДЫГЕЙСКАЯ РЕСПУБЛИКАНСКАЯ КЛИНИЧЕСКАЯ БОЛЬНИЦА', 'ГБУЗРА АРКБ', '0105025965', '010501001', '1020100703842', '1.2.643.5.1.13.13.12.2.1.32', '75203', '13', '385000, Респ Адыгея, г Майкоп, ул Жуковского, д 4', 'a0f721ae-6ed8-4859-9495-555116bf698e', '79000000000', 'arkbmaykop@mail.ru', '+78772525615', '', '01.09.2025', '31.12.2025', '00000200000000000', 'ГОСУДАРСТВЕННОЕ БЮДЖЕТНОЕ УЧРЕЖДЕНИЕ ЗДРАВООХРАНЕНИЯ РЕСПУБЛИКИ АДЫГЕЯ \"АДЫГЕЙСКАЯ РЕСПУБЛИКАНСКАЯ ДЕТСКАЯ КЛИНИЧЕСКАЯ БОЛЬНИЦА\"', 'ГБУЗРА \"АРДКБ\"', '0105017611', '010501001', '1020100699233', '1.2.643.5.1.13.13.12.2.1.8', '75203', '13', '385012, Респ Адыгея, г Майкоп, ул Гагарина, д. 6А стр. 1', 'fa8e2e61-e7e4-4ed6-bf20-eeae03b3cbcc', '79000000000', 'ardkb@mail.ru', '+78772522578', '', '01.09.2025', '31.12.2025', '00000300000000000', 'ГОСУДАРСТВЕННОЕ БЮДЖЕТНОЕ УЧРЕЖДЕНИЕ ЗДРАВООХРАНЕНИЯ РЕСПУБЛИКИ АДЫГЕЯ \"АДЫГЕЙСКИЙ РЕСПУБЛИКАНСКИЙ КЛИНИЧЕСКИЙ КОЖНО-ВЕНЕРОЛОГИЧЕСКИЙ ДИСПАНСЕР\"', 'ГБУЗРА \"АРККВД\"', '0105014561', '010501001', '1020100698200', '1.2.643.5.1.13.13.12.2.1.13', '75203', '13', '385000, Респ Адыгея, г Майкоп, ул Пушкина, д 194', '9bd74500-dbec-4fda-9466-796bbdbc2b34', '79000000000', 'arkkvd@adygheya.gov.ru', '+78772548880', '', '02.09.2025' ... 1991 parameters truncated ... 'ГОСУДАРСТВЕННОЕ БЮДЖЕТНОЕ УЧРЕЖДЕНИЕ ЗДРАВООХРАНЕНИЯ РЕСПУБЛИКАНСКИЙ ВРАЧЕБНО-ФИЗКУЛЬТУРНЫЙ ДИСПАНСЕР', 'ГБУЗ РВФД', '0277013240', '027701001', '1020203087376', '1.2.643.5.1.13.13.12.2.2.44', '75203', '13', '450075, Респ Башкортостан, г Уфа, ул Блюхера, д 1', '414a1794-8cde-483c-8ae4-7cf75e1453c0', '80000000000', 'UFA.RVFD@doctorrb.ru', '+73472877203', '', '11.07.2025', '31.12.2025', '00015400000000000', 'ГОСУДАРСТВЕННОЕ БЮДЖЕТНОЕ УЧРЕЖДЕНИЕ ЗДРАВООХРАНЕНИЯ РЕСПУБЛИКАНСКИЙ КАРДИОЛОГИЧЕСКИЙ ЦЕНТР', 'ГБУЗ РКЦ', '0274033103', '027401001', '1030203900330', '1.2.643.5.1.13.13.12.2.2.173', '75203', '13', '450106, Респ Башкортостан, г Уфа, ул Степана Кувыкина, д 96', '31969385-a3ec-4fb2-a487-8858b6184fba', '80000000000', 'ufa.rkc@doctorrb.ru', '+73472556444', '', '11.07.2025', '31.12.2025', '00015600000000000', 'ГОСУДАРСТВЕННОЕ БЮДЖЕТНОЕ УЧРЕЖДЕНИЕ ЗДРАВООХРАНЕНИЯ РЕСПУБЛИКАНСКИЙ МЕДИКО-ГЕНЕТИЧЕСКИЙ ЦЕНТР', 'ГБУЗ РМГЦ', '0275913012', '027501001', '1170280071466', '1.2.643.5.1.13.13.12.2.2.10339', '75203', '13', '450076, Респ Башкортостан, г Уфа, ул Гафури, д 74', 'dae3a712-7808-4cda-a9a8-8929c0867db7', '80000000000', 'rmgcufa@yandex.ru', '+73472937264', '', '11.07.2025', '31.12.2025')\n"
     ]
    },
    {
     "name": "stderr",
     "output_type": "stream",
     "text": [
      "INFO:sqlalchemy.engine.Engine:[generated in 0.03506s (insertmanyvalues) 1/72 (unordered)] ('00000100000000000', 'ГОСУДАРСТВЕННОЕ БЮДЖЕТНОЕ УЧРЕЖДЕНИЕ  ЗДРАВООХРАНЕНИЯ РЕСПУБЛИКИ АДЫГЕЯ АДЫГЕЙСКАЯ РЕСПУБЛИКАНСКАЯ КЛИНИЧЕСКАЯ БОЛЬНИЦА', 'ГБУЗРА АРКБ', '0105025965', '010501001', '1020100703842', '1.2.643.5.1.13.13.12.2.1.32', '75203', '13', '385000, Респ Адыгея, г Майкоп, ул Жуковского, д 4', 'a0f721ae-6ed8-4859-9495-555116bf698e', '79000000000', 'arkbmaykop@mail.ru', '+78772525615', '', '01.09.2025', '31.12.2025', '00000200000000000', 'ГОСУДАРСТВЕННОЕ БЮДЖЕТНОЕ УЧРЕЖДЕНИЕ ЗДРАВООХРАНЕНИЯ РЕСПУБЛИКИ АДЫГЕЯ \"АДЫГЕЙСКАЯ РЕСПУБЛИКАНСКАЯ ДЕТСКАЯ КЛИНИЧЕСКАЯ БОЛЬНИЦА\"', 'ГБУЗРА \"АРДКБ\"', '0105017611', '010501001', '1020100699233', '1.2.643.5.1.13.13.12.2.1.8', '75203', '13', '385012, Респ Адыгея, г Майкоп, ул Гагарина, д. 6А стр. 1', 'fa8e2e61-e7e4-4ed6-bf20-eeae03b3cbcc', '79000000000', 'ardkb@mail.ru', '+78772522578', '', '01.09.2025', '31.12.2025', '00000300000000000', 'ГОСУДАРСТВЕННОЕ БЮДЖЕТНОЕ УЧРЕЖДЕНИЕ ЗДРАВООХРАНЕНИЯ РЕСПУБЛИКИ АДЫГЕЯ \"АДЫГЕЙСКИЙ РЕСПУБЛИКАНСКИЙ КЛИНИЧЕСКИЙ КОЖНО-ВЕНЕРОЛОГИЧЕСКИЙ ДИСПАНСЕР\"', 'ГБУЗРА \"АРККВД\"', '0105014561', '010501001', '1020100698200', '1.2.643.5.1.13.13.12.2.1.13', '75203', '13', '385000, Респ Адыгея, г Майкоп, ул Пушкина, д 194', '9bd74500-dbec-4fda-9466-796bbdbc2b34', '79000000000', 'arkkvd@adygheya.gov.ru', '+78772548880', '', '02.09.2025' ... 1991 parameters truncated ... 'ГОСУДАРСТВЕННОЕ БЮДЖЕТНОЕ УЧРЕЖДЕНИЕ ЗДРАВООХРАНЕНИЯ РЕСПУБЛИКАНСКИЙ ВРАЧЕБНО-ФИЗКУЛЬТУРНЫЙ ДИСПАНСЕР', 'ГБУЗ РВФД', '0277013240', '027701001', '1020203087376', '1.2.643.5.1.13.13.12.2.2.44', '75203', '13', '450075, Респ Башкортостан, г Уфа, ул Блюхера, д 1', '414a1794-8cde-483c-8ae4-7cf75e1453c0', '80000000000', 'UFA.RVFD@doctorrb.ru', '+73472877203', '', '11.07.2025', '31.12.2025', '00015400000000000', 'ГОСУДАРСТВЕННОЕ БЮДЖЕТНОЕ УЧРЕЖДЕНИЕ ЗДРАВООХРАНЕНИЯ РЕСПУБЛИКАНСКИЙ КАРДИОЛОГИЧЕСКИЙ ЦЕНТР', 'ГБУЗ РКЦ', '0274033103', '027401001', '1030203900330', '1.2.643.5.1.13.13.12.2.2.173', '75203', '13', '450106, Респ Башкортостан, г Уфа, ул Степана Кувыкина, д 96', '31969385-a3ec-4fb2-a487-8858b6184fba', '80000000000', 'ufa.rkc@doctorrb.ru', '+73472556444', '', '11.07.2025', '31.12.2025', '00015600000000000', 'ГОСУДАРСТВЕННОЕ БЮДЖЕТНОЕ УЧРЕЖДЕНИЕ ЗДРАВООХРАНЕНИЯ РЕСПУБЛИКАНСКИЙ МЕДИКО-ГЕНЕТИЧЕСКИЙ ЦЕНТР', 'ГБУЗ РМГЦ', '0275913012', '027501001', '1170280071466', '1.2.643.5.1.13.13.12.2.2.10339', '75203', '13', '450076, Респ Башкортостан, г Уфа, ул Гафури, д 74', 'dae3a712-7808-4cda-a9a8-8929c0867db7', '80000000000', 'rmgcufa@yandex.ru', '+73472937264', '', '11.07.2025', '31.12.2025')\n"
     ]
    },
    {
     "name": "stdout",
     "output_type": "stream",
     "text": [
      "2025-09-03 16:03:20,705 INFO sqlalchemy.engine.Engine INSERT INTO nsi.[ERMO] ([IDMO], [NAM_MOP], [NAM_MOK], [INN], [KPP], [OGRN], [OID_MO], [OKOPF], [OKFS], [ADDR_J], [ADDR_J_GAR], [OKTMO], [EMAIL], [PHONE], [FAX], [DATEBEG], [DATEEND]) VALUES (?, ?, ?, ?, ?, ?, ?, ?, ?, ?, ?, ?, ?, ?, ?, ?, ?), (?, ?,  ... 6357 characters truncated ... ?, ?, ?, ?, ?, ?, ?, ?, ?, ?, ?, ?, ?, ?, ?, ?), (?, ?, ?, ?, ?, ?, ?, ?, ?, ?, ?, ?, ?, ?, ?, ?, ?)\n"
     ]
    },
    {
     "name": "stderr",
     "output_type": "stream",
     "text": [
      "INFO:sqlalchemy.engine.Engine:INSERT INTO nsi.[ERMO] ([IDMO], [NAM_MOP], [NAM_MOK], [INN], [KPP], [OGRN], [OID_MO], [OKOPF], [OKFS], [ADDR_J], [ADDR_J_GAR], [OKTMO], [EMAIL], [PHONE], [FAX], [DATEBEG], [DATEEND]) VALUES (?, ?, ?, ?, ?, ?, ?, ?, ?, ?, ?, ?, ?, ?, ?, ?, ?), (?, ?,  ... 6357 characters truncated ... ?, ?, ?, ?, ?, ?, ?, ?, ?, ?, ?, ?, ?, ?, ?, ?), (?, ?, ?, ?, ?, ?, ?, ?, ?, ?, ?, ?, ?, ?, ?, ?, ?)\n"
     ]
    },
    {
     "name": "stdout",
     "output_type": "stream",
     "text": [
      "2025-09-03 16:03:20,708 INFO sqlalchemy.engine.Engine [insertmanyvalues 2/72 (unordered)] ('00015700000000000', 'ОБЩЕСТВО С ОГРАНИЧЕННОЙ ОТВЕТСТВЕННОСТЬЮ \"ЦЕНТР ПЭТ-ТЕХНОЛОДЖИ\"', 'ООО \"ЦЕНТР ПЭТ-ТЕХНОЛОДЖИ\"', '6658520916', '665801001', '1186658079035', '1.2.643.5.1.13.13.12.2.66.12343', '12300', '16', '620036, обл Свердловская, г Екатеринбург, ул Соболева, д. 29 стр. 8', 'c3e91f9f-b0f3-4e90-8631-3ec43a94ad4d', '65000000000', 'v.girsh@pet-net.ru', '+73432248234', '', '11.07.2025', '31.12.2025', '00015800000000000', 'ГОСУДАРСТВЕННОЕ БЮДЖЕТНОЕ УЧРЕЖДЕНИЕ ЗДРАВООХРАНЕНИЯ РЕСПУБЛИКИ БАШКОРТОСТАН ИГЛИНСКАЯ ЦЕНТРАЛЬНАЯ РАЙОННАЯ БОЛЬНИЦА', 'ГБУЗ РБ ИГЛИНСКАЯ ЦРБ', '0224003713', '022401001', '1020200884340', '1.2.643.5.1.13.13.12.2.2.143', '75203', '13', '452410, Респ Башкортостан, р-н Иглинский, с Иглино, ул Ленина, д 30', '48661348-ea5e-4a07-98f7-d22c9efb29f7', '80000000000', 'IGLINO.CRB@doctorrb.ru', '+73479522420', '', '11.07.2025', '31.12.2025', '00015900000000000', 'ГОСУДАРСТВЕННОЕ БЮДЖЕТНОЕ УЧРЕЖДЕНИЕ ЗДРАВООХРАНЕНИЯ РЕСПУБЛИКИ БАШКОРТОСТАН БЛАГОВЕЩЕНСКАЯ ЦЕНТРАЛЬНАЯ РАЙОННАЯ БОЛЬНИЦА', 'ГБУЗ РБ БЛАГОВЕЩЕНСКАЯ ЦРБ', '0258002080', '025801001', '1020201699869', '1.2.643.5.1.13.13.12.2.2.48', '75203', '13', '453431, Респ Башкортостан, р-н Благовещенский, г Благовещенск, ул Комарова, д 2', '8059cf53-51b9-4c99-9854-8e49495f3bda', '80000000000', 'blag.crb@doctorrb.ru', '+73476631617', '', '11.07.2025' ... 1991 parameters truncated ... 'БЮДЖЕТНОЕ УЧРЕЖДЕНИЕ ЗДРАВООХРАНЕНИЯ РЕСПУБЛИКИ АЛТАЙ \"ЧОЙСКАЯ РАЙОННАЯ БОЛЬНИЦА\"', 'БУЗ РА \"ЧОЙСКАЯ РБ\"', '0409003770', '041101001', '1030400608633', '1.2.643.5.1.13.13.12.2.4.301', '75203', '13', '649180, Респ Алтай, р-н Чойский, с Гусевка, ул 40 лет Победы, д 2а', '0c59d233-fef1-40d2-bfcc-dbe51f058754', '84000000000', 'choyacrb@yandex.ru', '+73884022410', '', '14.07.2025', '31.12.2025', '00031000000000000', 'БЮДЖЕТНОЕ УЧРЕЖДЕНИЕ ЗДРАВООХРАНЕНИЯ РЕСПУБЛИКИ АЛТАЙ \"ТУРОЧАКСКАЯ РАЙОННАЯ БОЛЬНИЦА\"', 'БУЗ РА \"ТУРОЧАКСКАЯ РБ\"', '0407003502', '041101001', '1020400607985', '1.2.643.5.1.13.13.12.2.4.304', '75203', '13', '649140, Респ Алтай, р-н Турочакский, с Турочак, ул Набережная, д 1', '3af03000-c77a-48cb-b6ed-9b201f02443d', '84000000000', 'turcrb@mail.ru', '+73884322541', '', '02.07.2025', '31.12.2025', '00031100000000000', 'БЮДЖЕТНОЕ УЧРЕЖДЕНИЕ ЗДРАВООХРАНЕНИЯ РЕСПУБЛИКИ АЛТАЙ \"ЧЕМАЛЬСКАЯ РАЙОННАЯ БОЛЬНИЦА\"', 'БУЗ РА \"ЧЕМАЛЬСКАЯ РБ\"', '0410001390', '041001001', '1030400664986', '1.2.643.5.1.13.13.12.2.4.298', '75203', '13', '649240, Респ Алтай, р-н Чемальский, с Чемал, ул Чемальская, д. 4 к. 1', 'ba43aba2-272d-4ca0-8b03-8d405c02d917', '84000000000', 'ec_chemal@mail.ru', '+73884123022', '', '14.07.2025', '31.12.2025')\n"
     ]
    },
    {
     "name": "stderr",
     "output_type": "stream",
     "text": [
      "INFO:sqlalchemy.engine.Engine:[insertmanyvalues 2/72 (unordered)] ('00015700000000000', 'ОБЩЕСТВО С ОГРАНИЧЕННОЙ ОТВЕТСТВЕННОСТЬЮ \"ЦЕНТР ПЭТ-ТЕХНОЛОДЖИ\"', 'ООО \"ЦЕНТР ПЭТ-ТЕХНОЛОДЖИ\"', '6658520916', '665801001', '1186658079035', '1.2.643.5.1.13.13.12.2.66.12343', '12300', '16', '620036, обл Свердловская, г Екатеринбург, ул Соболева, д. 29 стр. 8', 'c3e91f9f-b0f3-4e90-8631-3ec43a94ad4d', '65000000000', 'v.girsh@pet-net.ru', '+73432248234', '', '11.07.2025', '31.12.2025', '00015800000000000', 'ГОСУДАРСТВЕННОЕ БЮДЖЕТНОЕ УЧРЕЖДЕНИЕ ЗДРАВООХРАНЕНИЯ РЕСПУБЛИКИ БАШКОРТОСТАН ИГЛИНСКАЯ ЦЕНТРАЛЬНАЯ РАЙОННАЯ БОЛЬНИЦА', 'ГБУЗ РБ ИГЛИНСКАЯ ЦРБ', '0224003713', '022401001', '1020200884340', '1.2.643.5.1.13.13.12.2.2.143', '75203', '13', '452410, Респ Башкортостан, р-н Иглинский, с Иглино, ул Ленина, д 30', '48661348-ea5e-4a07-98f7-d22c9efb29f7', '80000000000', 'IGLINO.CRB@doctorrb.ru', '+73479522420', '', '11.07.2025', '31.12.2025', '00015900000000000', 'ГОСУДАРСТВЕННОЕ БЮДЖЕТНОЕ УЧРЕЖДЕНИЕ ЗДРАВООХРАНЕНИЯ РЕСПУБЛИКИ БАШКОРТОСТАН БЛАГОВЕЩЕНСКАЯ ЦЕНТРАЛЬНАЯ РАЙОННАЯ БОЛЬНИЦА', 'ГБУЗ РБ БЛАГОВЕЩЕНСКАЯ ЦРБ', '0258002080', '025801001', '1020201699869', '1.2.643.5.1.13.13.12.2.2.48', '75203', '13', '453431, Респ Башкортостан, р-н Благовещенский, г Благовещенск, ул Комарова, д 2', '8059cf53-51b9-4c99-9854-8e49495f3bda', '80000000000', 'blag.crb@doctorrb.ru', '+73476631617', '', '11.07.2025' ... 1991 parameters truncated ... 'БЮДЖЕТНОЕ УЧРЕЖДЕНИЕ ЗДРАВООХРАНЕНИЯ РЕСПУБЛИКИ АЛТАЙ \"ЧОЙСКАЯ РАЙОННАЯ БОЛЬНИЦА\"', 'БУЗ РА \"ЧОЙСКАЯ РБ\"', '0409003770', '041101001', '1030400608633', '1.2.643.5.1.13.13.12.2.4.301', '75203', '13', '649180, Респ Алтай, р-н Чойский, с Гусевка, ул 40 лет Победы, д 2а', '0c59d233-fef1-40d2-bfcc-dbe51f058754', '84000000000', 'choyacrb@yandex.ru', '+73884022410', '', '14.07.2025', '31.12.2025', '00031000000000000', 'БЮДЖЕТНОЕ УЧРЕЖДЕНИЕ ЗДРАВООХРАНЕНИЯ РЕСПУБЛИКИ АЛТАЙ \"ТУРОЧАКСКАЯ РАЙОННАЯ БОЛЬНИЦА\"', 'БУЗ РА \"ТУРОЧАКСКАЯ РБ\"', '0407003502', '041101001', '1020400607985', '1.2.643.5.1.13.13.12.2.4.304', '75203', '13', '649140, Респ Алтай, р-н Турочакский, с Турочак, ул Набережная, д 1', '3af03000-c77a-48cb-b6ed-9b201f02443d', '84000000000', 'turcrb@mail.ru', '+73884322541', '', '02.07.2025', '31.12.2025', '00031100000000000', 'БЮДЖЕТНОЕ УЧРЕЖДЕНИЕ ЗДРАВООХРАНЕНИЯ РЕСПУБЛИКИ АЛТАЙ \"ЧЕМАЛЬСКАЯ РАЙОННАЯ БОЛЬНИЦА\"', 'БУЗ РА \"ЧЕМАЛЬСКАЯ РБ\"', '0410001390', '041001001', '1030400664986', '1.2.643.5.1.13.13.12.2.4.298', '75203', '13', '649240, Респ Алтай, р-н Чемальский, с Чемал, ул Чемальская, д. 4 к. 1', 'ba43aba2-272d-4ca0-8b03-8d405c02d917', '84000000000', 'ec_chemal@mail.ru', '+73884123022', '', '14.07.2025', '31.12.2025')\n"
     ]
    },
    {
     "name": "stdout",
     "output_type": "stream",
     "text": [
      "2025-09-03 16:03:20,820 INFO sqlalchemy.engine.Engine INSERT INTO nsi.[ERMO] ([IDMO], [NAM_MOP], [NAM_MOK], [INN], [KPP], [OGRN], [OID_MO], [OKOPF], [OKFS], [ADDR_J], [ADDR_J_GAR], [OKTMO], [EMAIL], [PHONE], [FAX], [DATEBEG], [DATEEND]) VALUES (?, ?, ?, ?, ?, ?, ?, ?, ?, ?, ?, ?, ?, ?, ?, ?, ?), (?, ?,  ... 6357 characters truncated ... ?, ?, ?, ?, ?, ?, ?, ?, ?, ?, ?, ?, ?, ?, ?, ?), (?, ?, ?, ?, ?, ?, ?, ?, ?, ?, ?, ?, ?, ?, ?, ?, ?)\n"
     ]
    },
    {
     "name": "stderr",
     "output_type": "stream",
     "text": [
      "INFO:sqlalchemy.engine.Engine:INSERT INTO nsi.[ERMO] ([IDMO], [NAM_MOP], [NAM_MOK], [INN], [KPP], [OGRN], [OID_MO], [OKOPF], [OKFS], [ADDR_J], [ADDR_J_GAR], [OKTMO], [EMAIL], [PHONE], [FAX], [DATEBEG], [DATEEND]) VALUES (?, ?, ?, ?, ?, ?, ?, ?, ?, ?, ?, ?, ?, ?, ?, ?, ?), (?, ?,  ... 6357 characters truncated ... ?, ?, ?, ?, ?, ?, ?, ?, ?, ?, ?, ?, ?, ?, ?, ?), (?, ?, ?, ?, ?, ?, ?, ?, ?, ?, ?, ?, ?, ?, ?, ?, ?)\n"
     ]
    },
    {
     "name": "stdout",
     "output_type": "stream",
     "text": [
      "2025-09-03 16:03:20,823 INFO sqlalchemy.engine.Engine [insertmanyvalues 3/72 (unordered)] ('00031200000000000', 'БЮДЖЕТНОЕ УЧРЕЖДЕНИЕ ЗДРАВООХРАНЕНИЯ РЕСПУБЛИКИ АЛТАЙ  \"ШЕБАЛИНСКАЯ РАЙОННАЯ БОЛЬНИЦА\"', 'БУЗ РА \"ШЕБАЛИНСКАЯ РБ\"', '0405000802', '040501001', '1030400667296', '1.2.643.5.1.13.13.12.2.4.289', '75203', '13', '649220, Респ Алтай, р-н Шебалинский, с Шебалино, ул Федорова, д 24', '081efc4c-2936-4dd2-a4ed-357f364f0c5d', '84000000000', 'crb_shebalino@mail.ru', '+73884921387', '', '26.05.2025', '31.12.2025', '00031300000000000', 'БЮДЖЕТНОЕ УЧРЕЖДЕНИЕ ЗДРАВООХРАНЕНИЯ РЕСПУБЛИКИ АЛТАЙ \"ОНГУДАЙСКАЯ РАЙОННАЯ БОЛЬНИЦА\"', 'БУЗ РА \"ОНГУДАЙСКАЯ РБ\"', '0404002860', '040401001', '1020400559618', '1.2.643.5.1.13.13.12.2.4.297', '75203', '13', '649440, Респ Алтай, р-н Онгудайский, с Онгудай, ул Космонавтов, д 84', '53c6cf51-c6c8-4356-a202-1f1a393a3097', '84000000000', 'ongyday.crb@mail.ru', '+73884521210', '', '07.07.2025', '31.12.2025', '00031400000000000', 'БЮДЖЕТНОЕ УЧРЕЖДЕНИЕ ЗДРАВООХРАНЕНИЯ РЕСПУБЛИКИ АЛТАЙ \" УСТЬ-КАНСКАЯ РАЙОННАЯ БОЛЬНИЦА\"', 'БУЗ РА \"УСТЬ-КАНСКАЯ РБ\"', '0403001991', '040301001', '1020400558254', '1.2.643.5.1.13.13.12.2.4.293', '75203', '13', '649450, Респ Алтай, р-н Усть-Канский, с Усть-Кан, ул Юбилейная, д 3', '5e1cc0a9-4d71-4b7d-850c-ed0af731da9f', '84000000000', 'ustkanrb@yandex.ru', '+73884722187', '', '14.07.2025' ... 1991 parameters truncated ... 'ГОСУДАРСТВЕННОЕ БЮДЖЕТНОЕ УЧРЕЖДЕНИЕ РЕСПУБЛИКИ ДАГЕСТАН \"РЕСПУБЛИКАНСКИЙ ЦЕНТР РЕАБИЛИТАЦИИ\"', 'ГБУ РД \"РЦР\"', '0572000294', '057201001', '1110572000219', '1.2.643.5.1.13.13.12.2.5.358', '75203', '13', '367000, Респ Дагестан, г Махачкала, ул Дзержинского, д 17', '996bf335-d31f-4e06-93cb-b32d97a8673c', '82000000000', 'rcrmzrd@mail.ru', '+79882967410', '', '15.07.2025', '31.12.2025', '00044500000000000', 'ГОСУДАРСТВЕННОЕ БЮДЖЕТНОЕ УЧРЕЖДЕНИЕ РЕСПУБЛИКИ ДАГЕСТАН \"ДЕТСКАЯ ГОРОДСКАЯ КЛИНИЧЕСКАЯ БОЛЬНИЦА\"', 'ГБУ РД \"ДГКБ\"', '0561042581', '057101001', '1020502528200', '1.2.643.5.1.13.13.12.2.5.458', '75203', '13', '367010, Респ Дагестан, г Махачкала, ул Гагарина, д 118', '9500e463-fa10-41b6-9693-29010210c0a5', '82000000000', 'mmdb1@mail.ru', '+78722517817', '', '10.03.2025', '31.12.2025', '00044600000000000', 'ГОСУДАРСТВЕННОЕ БЮДЖЕТНОЕ УЧРЕЖДЕНИЕ РЕСПУБЛИКИ ДАГЕСТАН \"МАХАЧКАЛИНСКИЙ РОДИЛЬНЫЙ ДОМ № 2 ИМ. Р.А. КАРИМОВА\"', 'ГБУ РД \"МРД № 2  ИМ. Р.А. КАРИМОВА\"', '0560014599', '057301001', '1020502463794', '1.2.643.5.1.13.13.12.2.5.338', '75203', '13', '367008, Респ Дагестан, г Махачкала, ул Буганова, д 26', 'daa0e401-3dc7-4048-b240-d3a135b8e337', '82000000000', 'RODDOM2M@MAIL.RU', '+79894760066', '', '15.07.2025', '31.12.2025')\n"
     ]
    },
    {
     "name": "stderr",
     "output_type": "stream",
     "text": [
      "INFO:sqlalchemy.engine.Engine:[insertmanyvalues 3/72 (unordered)] ('00031200000000000', 'БЮДЖЕТНОЕ УЧРЕЖДЕНИЕ ЗДРАВООХРАНЕНИЯ РЕСПУБЛИКИ АЛТАЙ  \"ШЕБАЛИНСКАЯ РАЙОННАЯ БОЛЬНИЦА\"', 'БУЗ РА \"ШЕБАЛИНСКАЯ РБ\"', '0405000802', '040501001', '1030400667296', '1.2.643.5.1.13.13.12.2.4.289', '75203', '13', '649220, Респ Алтай, р-н Шебалинский, с Шебалино, ул Федорова, д 24', '081efc4c-2936-4dd2-a4ed-357f364f0c5d', '84000000000', 'crb_shebalino@mail.ru', '+73884921387', '', '26.05.2025', '31.12.2025', '00031300000000000', 'БЮДЖЕТНОЕ УЧРЕЖДЕНИЕ ЗДРАВООХРАНЕНИЯ РЕСПУБЛИКИ АЛТАЙ \"ОНГУДАЙСКАЯ РАЙОННАЯ БОЛЬНИЦА\"', 'БУЗ РА \"ОНГУДАЙСКАЯ РБ\"', '0404002860', '040401001', '1020400559618', '1.2.643.5.1.13.13.12.2.4.297', '75203', '13', '649440, Респ Алтай, р-н Онгудайский, с Онгудай, ул Космонавтов, д 84', '53c6cf51-c6c8-4356-a202-1f1a393a3097', '84000000000', 'ongyday.crb@mail.ru', '+73884521210', '', '07.07.2025', '31.12.2025', '00031400000000000', 'БЮДЖЕТНОЕ УЧРЕЖДЕНИЕ ЗДРАВООХРАНЕНИЯ РЕСПУБЛИКИ АЛТАЙ \" УСТЬ-КАНСКАЯ РАЙОННАЯ БОЛЬНИЦА\"', 'БУЗ РА \"УСТЬ-КАНСКАЯ РБ\"', '0403001991', '040301001', '1020400558254', '1.2.643.5.1.13.13.12.2.4.293', '75203', '13', '649450, Респ Алтай, р-н Усть-Канский, с Усть-Кан, ул Юбилейная, д 3', '5e1cc0a9-4d71-4b7d-850c-ed0af731da9f', '84000000000', 'ustkanrb@yandex.ru', '+73884722187', '', '14.07.2025' ... 1991 parameters truncated ... 'ГОСУДАРСТВЕННОЕ БЮДЖЕТНОЕ УЧРЕЖДЕНИЕ РЕСПУБЛИКИ ДАГЕСТАН \"РЕСПУБЛИКАНСКИЙ ЦЕНТР РЕАБИЛИТАЦИИ\"', 'ГБУ РД \"РЦР\"', '0572000294', '057201001', '1110572000219', '1.2.643.5.1.13.13.12.2.5.358', '75203', '13', '367000, Респ Дагестан, г Махачкала, ул Дзержинского, д 17', '996bf335-d31f-4e06-93cb-b32d97a8673c', '82000000000', 'rcrmzrd@mail.ru', '+79882967410', '', '15.07.2025', '31.12.2025', '00044500000000000', 'ГОСУДАРСТВЕННОЕ БЮДЖЕТНОЕ УЧРЕЖДЕНИЕ РЕСПУБЛИКИ ДАГЕСТАН \"ДЕТСКАЯ ГОРОДСКАЯ КЛИНИЧЕСКАЯ БОЛЬНИЦА\"', 'ГБУ РД \"ДГКБ\"', '0561042581', '057101001', '1020502528200', '1.2.643.5.1.13.13.12.2.5.458', '75203', '13', '367010, Респ Дагестан, г Махачкала, ул Гагарина, д 118', '9500e463-fa10-41b6-9693-29010210c0a5', '82000000000', 'mmdb1@mail.ru', '+78722517817', '', '10.03.2025', '31.12.2025', '00044600000000000', 'ГОСУДАРСТВЕННОЕ БЮДЖЕТНОЕ УЧРЕЖДЕНИЕ РЕСПУБЛИКИ ДАГЕСТАН \"МАХАЧКАЛИНСКИЙ РОДИЛЬНЫЙ ДОМ № 2 ИМ. Р.А. КАРИМОВА\"', 'ГБУ РД \"МРД № 2  ИМ. Р.А. КАРИМОВА\"', '0560014599', '057301001', '1020502463794', '1.2.643.5.1.13.13.12.2.5.338', '75203', '13', '367008, Респ Дагестан, г Махачкала, ул Буганова, д 26', 'daa0e401-3dc7-4048-b240-d3a135b8e337', '82000000000', 'RODDOM2M@MAIL.RU', '+79894760066', '', '15.07.2025', '31.12.2025')\n"
     ]
    },
    {
     "name": "stdout",
     "output_type": "stream",
     "text": [
      "2025-09-03 16:03:20,945 INFO sqlalchemy.engine.Engine INSERT INTO nsi.[ERMO] ([IDMO], [NAM_MOP], [NAM_MOK], [INN], [KPP], [OGRN], [OID_MO], [OKOPF], [OKFS], [ADDR_J], [ADDR_J_GAR], [OKTMO], [EMAIL], [PHONE], [FAX], [DATEBEG], [DATEEND]) VALUES (?, ?, ?, ?, ?, ?, ?, ?, ?, ?, ?, ?, ?, ?, ?, ?, ?), (?, ?,  ... 6357 characters truncated ... ?, ?, ?, ?, ?, ?, ?, ?, ?, ?, ?, ?, ?, ?, ?, ?), (?, ?, ?, ?, ?, ?, ?, ?, ?, ?, ?, ?, ?, ?, ?, ?, ?)\n"
     ]
    },
    {
     "name": "stderr",
     "output_type": "stream",
     "text": [
      "INFO:sqlalchemy.engine.Engine:INSERT INTO nsi.[ERMO] ([IDMO], [NAM_MOP], [NAM_MOK], [INN], [KPP], [OGRN], [OID_MO], [OKOPF], [OKFS], [ADDR_J], [ADDR_J_GAR], [OKTMO], [EMAIL], [PHONE], [FAX], [DATEBEG], [DATEEND]) VALUES (?, ?, ?, ?, ?, ?, ?, ?, ?, ?, ?, ?, ?, ?, ?, ?, ?), (?, ?,  ... 6357 characters truncated ... ?, ?, ?, ?, ?, ?, ?, ?, ?, ?, ?, ?, ?, ?, ?, ?), (?, ?, ?, ?, ?, ?, ?, ?, ?, ?, ?, ?, ?, ?, ?, ?, ?)\n"
     ]
    },
    {
     "name": "stdout",
     "output_type": "stream",
     "text": [
      "2025-09-03 16:03:20,947 INFO sqlalchemy.engine.Engine [insertmanyvalues 4/72 (unordered)] ('00044700000000000', 'ГОСУДАРСТВЕННОЕ БЮДЖЕТНОЕ  УЧРЕЖДЕНИЕ РЕСПУБЛИКИ ДАГЕСТАН \"ДИАГНОСТИЧЕСКИЙ ЦЕНТР Г. МАХАЧКАЛА\"', 'ГБУ РД \"ДЦМ\"', '0561042895', '057101001', '1020502527320', '1.2.643.5.1.13.13.12.2.5.445', '75203', '13', '367003, Респ Дагестан, г Махачкала, ул Нахимова, д 22', '9b0d27b9-67e5-41bb-9b91-df792648e091', '82000000000', 'GMDC@MAIL.RU', '+78722670102', '', '15.07.2025', '31.12.2025', '00044800000000000', 'ГОСУДАРСТВЕННОЕ БЮДЖЕТНОЕ УЧРЕЖДЕНИЕ РЕСПУБЛИКИ ДАГЕСТАН  \"КИЗИЛЮРТОВСКАЯ ЦЕНТРАЛЬНАЯ РАЙОННАЯ БОЛЬНИЦА\"', 'ГБУ РД \"КИЗИЛЮРТОВСКАЯ ЦРБ\"', '0546018009', '054601001', '1040502232132', '1.2.643.5.1.13.13.12.2.5.355', '75203', '13', '368120, Респ Дагестан, г Кизилюрт, ул Гагарина, д 110', '92dd4b68-5869-4ccf-a7e6-d2e41e795a78', '82000000000', 'kizilurtcrp@mail.ru', '+79285785511', '', '15.07.2025', '31.12.2025', '00044900000000000', 'ГОСУДАРСТВЕННОЕ БЮДЖЕТНОЕ УЧРЕЖДЕНИЕ РЕСПУБЛИКИ ДАГЕСТАН \"НОВОЛАКСКАЯ ЦЕНТРАЛЬНАЯ РАЙОННАЯ БОЛЬНИЦА ИМ. Н.М.МИРЗОЕВА\"', 'ГБУ РД \"НОВОЛАКСКАЯ ЦРБ ИМ.Н.М.МИРЗОЕВА\"', '0524004115', '052401001', '1030500908481', '1.2.643.5.1.13.13.12.2.5.435', '75203', '13', '368160, Респ Дагестан, р-н Новолакский, с Новолакское, ул Хайдакова А., д 45', 'ea7e9a4b-4a2d-4c95-b88c-21536153821d', '82000000000', 'sultanova-lyudmi@mail.ru', '+78242211418', '', '15.07.2025' ... 1991 parameters truncated ... 'ОБЩЕСТВО С ОГРАНИЧЕННОЙ ОТВЕТСТВЕННОСТЬЮ \"МЕДИЦИНСКИЙ ЦЕНТР \"ЮНИТИ\"', 'ООО \"МЦ \"ЮНИТИ\"', '0562064010', '057201001', '1060562006647', '1.2.643.5.1.13.13.12.2.5.20689', '12300', '16', '367014, Респ Дагестан, г Махачкала, ул Джамалутдина Атаева, д 1', '982ef049-cd14-4291-bdc0-d9158af0dada', '82000000000', '000666999000@mail.ru', '+79882063903', '', '14.07.2025', '31.12.2025', '00061300000000000', 'ГОСУДАРСТВЕННОЕ БЮДЖЕТНОЕ УЧРЕЖДЕНИЕ \"ИНГУШСКАЯ РЕСПУБЛИКАНСКАЯ КЛИНИЧЕСКАЯ БОЛЬНИЦА ИМЕНИ А.О. АХУШКОВА\"', 'ГБУ \"ИРКБ ИМЕНИ А.О. АХУШКОВА\"', '0602025161', '060601001', '1020600986240', '1.2.643.5.1.13.13.12.2.6.485', '75203', '13', '386106, Респ Ингушетия, г Назрань, тер Центральный округ, ул Х.Б.Муталиева, д 11', '7dd5f0fb-cf7e-417e-a523-751051036df6', '26000000000', 'irkbri@mail.ru', '+78732221646', '', '12.08.2025', '31.12.2025', '00061400000000000', 'ГОСУДАРСТВЕННОЕ БЮДЖЕТНОЕ УЧРЕЖДЕНИЕ ЗДРАВООХРАНЕНИЯ \"ГОРОДСКАЯ ПОЛИКЛИНИКА\"', 'ГБУЗ \"ГП\"', '0606003708', '060601001', '1020600987285', '1.2.643.5.1.13.13.12.2.6.481', '75203', '13', '386106, Респ Ингушетия, г Назрань, тер Центральный округ, ул Х.Б.Муталиева, д 11', '7dd5f0fb-cf7e-417e-a523-751051036df6', '26000000000', 'poliklinika-ri@mail.ru', '+79286963242', '', '11.07.2025', '31.12.2025')\n"
     ]
    },
    {
     "name": "stderr",
     "output_type": "stream",
     "text": [
      "INFO:sqlalchemy.engine.Engine:[insertmanyvalues 4/72 (unordered)] ('00044700000000000', 'ГОСУДАРСТВЕННОЕ БЮДЖЕТНОЕ  УЧРЕЖДЕНИЕ РЕСПУБЛИКИ ДАГЕСТАН \"ДИАГНОСТИЧЕСКИЙ ЦЕНТР Г. МАХАЧКАЛА\"', 'ГБУ РД \"ДЦМ\"', '0561042895', '057101001', '1020502527320', '1.2.643.5.1.13.13.12.2.5.445', '75203', '13', '367003, Респ Дагестан, г Махачкала, ул Нахимова, д 22', '9b0d27b9-67e5-41bb-9b91-df792648e091', '82000000000', 'GMDC@MAIL.RU', '+78722670102', '', '15.07.2025', '31.12.2025', '00044800000000000', 'ГОСУДАРСТВЕННОЕ БЮДЖЕТНОЕ УЧРЕЖДЕНИЕ РЕСПУБЛИКИ ДАГЕСТАН  \"КИЗИЛЮРТОВСКАЯ ЦЕНТРАЛЬНАЯ РАЙОННАЯ БОЛЬНИЦА\"', 'ГБУ РД \"КИЗИЛЮРТОВСКАЯ ЦРБ\"', '0546018009', '054601001', '1040502232132', '1.2.643.5.1.13.13.12.2.5.355', '75203', '13', '368120, Респ Дагестан, г Кизилюрт, ул Гагарина, д 110', '92dd4b68-5869-4ccf-a7e6-d2e41e795a78', '82000000000', 'kizilurtcrp@mail.ru', '+79285785511', '', '15.07.2025', '31.12.2025', '00044900000000000', 'ГОСУДАРСТВЕННОЕ БЮДЖЕТНОЕ УЧРЕЖДЕНИЕ РЕСПУБЛИКИ ДАГЕСТАН \"НОВОЛАКСКАЯ ЦЕНТРАЛЬНАЯ РАЙОННАЯ БОЛЬНИЦА ИМ. Н.М.МИРЗОЕВА\"', 'ГБУ РД \"НОВОЛАКСКАЯ ЦРБ ИМ.Н.М.МИРЗОЕВА\"', '0524004115', '052401001', '1030500908481', '1.2.643.5.1.13.13.12.2.5.435', '75203', '13', '368160, Респ Дагестан, р-н Новолакский, с Новолакское, ул Хайдакова А., д 45', 'ea7e9a4b-4a2d-4c95-b88c-21536153821d', '82000000000', 'sultanova-lyudmi@mail.ru', '+78242211418', '', '15.07.2025' ... 1991 parameters truncated ... 'ОБЩЕСТВО С ОГРАНИЧЕННОЙ ОТВЕТСТВЕННОСТЬЮ \"МЕДИЦИНСКИЙ ЦЕНТР \"ЮНИТИ\"', 'ООО \"МЦ \"ЮНИТИ\"', '0562064010', '057201001', '1060562006647', '1.2.643.5.1.13.13.12.2.5.20689', '12300', '16', '367014, Респ Дагестан, г Махачкала, ул Джамалутдина Атаева, д 1', '982ef049-cd14-4291-bdc0-d9158af0dada', '82000000000', '000666999000@mail.ru', '+79882063903', '', '14.07.2025', '31.12.2025', '00061300000000000', 'ГОСУДАРСТВЕННОЕ БЮДЖЕТНОЕ УЧРЕЖДЕНИЕ \"ИНГУШСКАЯ РЕСПУБЛИКАНСКАЯ КЛИНИЧЕСКАЯ БОЛЬНИЦА ИМЕНИ А.О. АХУШКОВА\"', 'ГБУ \"ИРКБ ИМЕНИ А.О. АХУШКОВА\"', '0602025161', '060601001', '1020600986240', '1.2.643.5.1.13.13.12.2.6.485', '75203', '13', '386106, Респ Ингушетия, г Назрань, тер Центральный округ, ул Х.Б.Муталиева, д 11', '7dd5f0fb-cf7e-417e-a523-751051036df6', '26000000000', 'irkbri@mail.ru', '+78732221646', '', '12.08.2025', '31.12.2025', '00061400000000000', 'ГОСУДАРСТВЕННОЕ БЮДЖЕТНОЕ УЧРЕЖДЕНИЕ ЗДРАВООХРАНЕНИЯ \"ГОРОДСКАЯ ПОЛИКЛИНИКА\"', 'ГБУЗ \"ГП\"', '0606003708', '060601001', '1020600987285', '1.2.643.5.1.13.13.12.2.6.481', '75203', '13', '386106, Респ Ингушетия, г Назрань, тер Центральный округ, ул Х.Б.Муталиева, д 11', '7dd5f0fb-cf7e-417e-a523-751051036df6', '26000000000', 'poliklinika-ri@mail.ru', '+79286963242', '', '11.07.2025', '31.12.2025')\n"
     ]
    },
    {
     "name": "stdout",
     "output_type": "stream",
     "text": [
      "2025-09-03 16:03:21,078 INFO sqlalchemy.engine.Engine INSERT INTO nsi.[ERMO] ([IDMO], [NAM_MOP], [NAM_MOK], [INN], [KPP], [OGRN], [OID_MO], [OKOPF], [OKFS], [ADDR_J], [ADDR_J_GAR], [OKTMO], [EMAIL], [PHONE], [FAX], [DATEBEG], [DATEEND]) VALUES (?, ?, ?, ?, ?, ?, ?, ?, ?, ?, ?, ?, ?, ?, ?, ?, ?), (?, ?,  ... 6357 characters truncated ... ?, ?, ?, ?, ?, ?, ?, ?, ?, ?, ?, ?, ?, ?, ?, ?), (?, ?, ?, ?, ?, ?, ?, ?, ?, ?, ?, ?, ?, ?, ?, ?, ?)\n"
     ]
    },
    {
     "name": "stderr",
     "output_type": "stream",
     "text": [
      "INFO:sqlalchemy.engine.Engine:INSERT INTO nsi.[ERMO] ([IDMO], [NAM_MOP], [NAM_MOK], [INN], [KPP], [OGRN], [OID_MO], [OKOPF], [OKFS], [ADDR_J], [ADDR_J_GAR], [OKTMO], [EMAIL], [PHONE], [FAX], [DATEBEG], [DATEEND]) VALUES (?, ?, ?, ?, ?, ?, ?, ?, ?, ?, ?, ?, ?, ?, ?, ?, ?), (?, ?,  ... 6357 characters truncated ... ?, ?, ?, ?, ?, ?, ?, ?, ?, ?, ?, ?, ?, ?, ?, ?), (?, ?, ?, ?, ?, ?, ?, ?, ?, ?, ?, ?, ?, ?, ?, ?, ?)\n"
     ]
    },
    {
     "name": "stdout",
     "output_type": "stream",
     "text": [
      "2025-09-03 16:03:21,081 INFO sqlalchemy.engine.Engine [insertmanyvalues 5/72 (unordered)] ('00061500000000000', 'ГОСУДАРСТВЕННОЕ БЮДЖЕТНОЕ УЧРЕЖДЕНИЕ ЗДРАВООХРАНЕНИЯ \"НАЗРАНОВСКАЯ ЦЕНТРАЛЬНАЯ РАЙОННАЯ БОЛЬНИЦА\"', 'ГБУЗ \"НЦРБ\"', '0602000713', '060601001', '1020600983776', '1.2.643.5.1.13.13.12.2.6.486', '75203', '13', '386101, Респ Ингушетия, г Назрань, тер Гамурзиевский округ, ул Зязикова, д 5', 'b9eb6fa0-4724-45de-89d4-e8fd0bc6bf8a', '26000000000', 'gungb@list.ru', '+79287423930', '', '15.08.2025', '31.12.2025', '00061600000000000', 'ГОСУДАРСТВЕННОЕ БЮДЖЕТНОЕ УЧРЕЖДЕНИЕ ЗДРАВООХРАНЕНИЯ \"КАРАБУЛАКСКАЯ ГОРОДСКАЯ БОЛЬНИЦА\"', 'ГБУЗ  \"КАРАБУЛАКСКАЯ ГОРОДСКАЯ БОЛЬНИЦА\"', '0603005841', '060301001', '1020601372076', '1.2.643.5.1.13.13.12.2.6.479', '75203', '13', '386231, Респ Ингушетия, г Карабулак, ул Рабочая, д 5', '240ba913-a802-460f-90bd-c53a6c324de5', '26000000000', 'kgb06.kgb@yandex.ru', '+79289174316', '', '11.07.2025', '31.12.2025', '00061700000000000', 'ГОСУДАРСТВЕННОЕ БЮДЖЕТНОЕ УЧРЕЖДЕНИЕ ЗДРАВООХРАНЕНИЯ \"МАЛГОБЕКСКАЯ ЦЕНТРАЛЬНАЯ РАЙОННАЯ БОЛЬНИЦА\"', 'ГБУЗ \"МЦРБ\"', '0601011159', '060101001', '1030600080280', '1.2.643.5.1.13.13.12.2.6.487', '75203', '13', '386310, Респ Ингушетия, г Малгобек, ул Гарданова, д 3', '26294e0f-7f8c-4fb8-ab19-b414a2f7430b', '26000000000', 'hospital-malg@mail.ru', '+78734623679', '', '15.07.2025' ... 1991 parameters truncated ... 'РЕСПУБЛИКАНСКОЕ ГОСУДАРСТВЕННОЕ АВТОНОМНОЕ УЧРЕЖДЕНИЕ ЗДРАВООХРАНЕНИЯ \"УСТЬ-ДЖЕГУТИНСКАЯ РАЙОННАЯ СТОМАТОЛОГИЧЕСКАЯ ПОЛИКЛИНИКА\"', 'РГАУЗ \"УСТЬ-ДЖЕГУТИНСКАЯ РАЙОННАЯ СТОМАТОЛОГИЧЕСКАЯ ПОЛИКЛИНИКА\"', '0909010398', '090901001', '1020900729849', '1.2.643.5.1.13.13.12.2.9.615', '75201', '13', '369300, Респ Карачаево-Черкесская, р-н Усть-Джегутинский, г Усть-Джегута, ул Морозова, д 49', '91506e03-4085-48e6-9695-b1a1bd444e73', '91000000000', 'udst@yandex.ru', '+78787571284', '', '10.07.2025', '31.12.2025', '00076600000000000', 'РЕСПУБЛИКАНСКОЕ ГОСУДАРСТВЕННОЕ БЮДЖЕТНОЕ УЧРЕЖДЕНИЕ ЗДРАВООХРАНЕНИЯ \"УСТЬ-ДЖЕГУТИНСКАЯ ЦЕНТРАЛЬНАЯ РАЙОННАЯ БОЛЬНИЦА\"', 'РГБУЗ \"УСТЬ-ДЖЕГУТИНСКАЯ ЦРБ\"', '0909001160', '090901001', '1020900729783', '1.2.643.5.1.13.13.12.2.9.608', '75203', '13', '369300, Респ Карачаево-Черкесская, р-н Усть-Джегутинский, г Усть-Джегута, ул Морозова, д 86', 'b03c2b9c-bacd-4a64-abc0-42df3c7ef782', '91000000000', 'mlpu009@mail.ru', '+78787571203', '', '11.07.2025', '31.12.2025', '00076700000000000', 'РЕСПУБЛИКАНСКОЕ ГОСУДАРСТВЕННОЕ БЮДЖЕТНОЕ УЧРЕЖДЕНИЕ ЗДРАВООХРАНЕНИЯ \"ЧЕРКЕССКАЯ ГОРОДСКАЯ КЛИНИЧЕСКАЯ БОЛЬНИЦА\"', 'РГБУЗ \"ЧГКБ\"', '0901027093', '090101001', '1030900721807', '1.2.643.5.1.13.13.12.2.9.636', '75203', '13', '369000, Респ Карачаево-Черкесская, г Черкесск, ул Орджоникидзе, д 22', 'a6e45cd0-f21d-4c34-8c4b-fe8c68946a52', '91000000000', 'gkbchr@mail.ru', '+78782203244', '', '05.03.2025', '31.12.2025')\n"
     ]
    },
    {
     "name": "stderr",
     "output_type": "stream",
     "text": [
      "INFO:sqlalchemy.engine.Engine:[insertmanyvalues 5/72 (unordered)] ('00061500000000000', 'ГОСУДАРСТВЕННОЕ БЮДЖЕТНОЕ УЧРЕЖДЕНИЕ ЗДРАВООХРАНЕНИЯ \"НАЗРАНОВСКАЯ ЦЕНТРАЛЬНАЯ РАЙОННАЯ БОЛЬНИЦА\"', 'ГБУЗ \"НЦРБ\"', '0602000713', '060601001', '1020600983776', '1.2.643.5.1.13.13.12.2.6.486', '75203', '13', '386101, Респ Ингушетия, г Назрань, тер Гамурзиевский округ, ул Зязикова, д 5', 'b9eb6fa0-4724-45de-89d4-e8fd0bc6bf8a', '26000000000', 'gungb@list.ru', '+79287423930', '', '15.08.2025', '31.12.2025', '00061600000000000', 'ГОСУДАРСТВЕННОЕ БЮДЖЕТНОЕ УЧРЕЖДЕНИЕ ЗДРАВООХРАНЕНИЯ \"КАРАБУЛАКСКАЯ ГОРОДСКАЯ БОЛЬНИЦА\"', 'ГБУЗ  \"КАРАБУЛАКСКАЯ ГОРОДСКАЯ БОЛЬНИЦА\"', '0603005841', '060301001', '1020601372076', '1.2.643.5.1.13.13.12.2.6.479', '75203', '13', '386231, Респ Ингушетия, г Карабулак, ул Рабочая, д 5', '240ba913-a802-460f-90bd-c53a6c324de5', '26000000000', 'kgb06.kgb@yandex.ru', '+79289174316', '', '11.07.2025', '31.12.2025', '00061700000000000', 'ГОСУДАРСТВЕННОЕ БЮДЖЕТНОЕ УЧРЕЖДЕНИЕ ЗДРАВООХРАНЕНИЯ \"МАЛГОБЕКСКАЯ ЦЕНТРАЛЬНАЯ РАЙОННАЯ БОЛЬНИЦА\"', 'ГБУЗ \"МЦРБ\"', '0601011159', '060101001', '1030600080280', '1.2.643.5.1.13.13.12.2.6.487', '75203', '13', '386310, Респ Ингушетия, г Малгобек, ул Гарданова, д 3', '26294e0f-7f8c-4fb8-ab19-b414a2f7430b', '26000000000', 'hospital-malg@mail.ru', '+78734623679', '', '15.07.2025' ... 1991 parameters truncated ... 'РЕСПУБЛИКАНСКОЕ ГОСУДАРСТВЕННОЕ АВТОНОМНОЕ УЧРЕЖДЕНИЕ ЗДРАВООХРАНЕНИЯ \"УСТЬ-ДЖЕГУТИНСКАЯ РАЙОННАЯ СТОМАТОЛОГИЧЕСКАЯ ПОЛИКЛИНИКА\"', 'РГАУЗ \"УСТЬ-ДЖЕГУТИНСКАЯ РАЙОННАЯ СТОМАТОЛОГИЧЕСКАЯ ПОЛИКЛИНИКА\"', '0909010398', '090901001', '1020900729849', '1.2.643.5.1.13.13.12.2.9.615', '75201', '13', '369300, Респ Карачаево-Черкесская, р-н Усть-Джегутинский, г Усть-Джегута, ул Морозова, д 49', '91506e03-4085-48e6-9695-b1a1bd444e73', '91000000000', 'udst@yandex.ru', '+78787571284', '', '10.07.2025', '31.12.2025', '00076600000000000', 'РЕСПУБЛИКАНСКОЕ ГОСУДАРСТВЕННОЕ БЮДЖЕТНОЕ УЧРЕЖДЕНИЕ ЗДРАВООХРАНЕНИЯ \"УСТЬ-ДЖЕГУТИНСКАЯ ЦЕНТРАЛЬНАЯ РАЙОННАЯ БОЛЬНИЦА\"', 'РГБУЗ \"УСТЬ-ДЖЕГУТИНСКАЯ ЦРБ\"', '0909001160', '090901001', '1020900729783', '1.2.643.5.1.13.13.12.2.9.608', '75203', '13', '369300, Респ Карачаево-Черкесская, р-н Усть-Джегутинский, г Усть-Джегута, ул Морозова, д 86', 'b03c2b9c-bacd-4a64-abc0-42df3c7ef782', '91000000000', 'mlpu009@mail.ru', '+78787571203', '', '11.07.2025', '31.12.2025', '00076700000000000', 'РЕСПУБЛИКАНСКОЕ ГОСУДАРСТВЕННОЕ БЮДЖЕТНОЕ УЧРЕЖДЕНИЕ ЗДРАВООХРАНЕНИЯ \"ЧЕРКЕССКАЯ ГОРОДСКАЯ КЛИНИЧЕСКАЯ БОЛЬНИЦА\"', 'РГБУЗ \"ЧГКБ\"', '0901027093', '090101001', '1030900721807', '1.2.643.5.1.13.13.12.2.9.636', '75203', '13', '369000, Респ Карачаево-Черкесская, г Черкесск, ул Орджоникидзе, д 22', 'a6e45cd0-f21d-4c34-8c4b-fe8c68946a52', '91000000000', 'gkbchr@mail.ru', '+78782203244', '', '05.03.2025', '31.12.2025')\n"
     ]
    },
    {
     "name": "stdout",
     "output_type": "stream",
     "text": [
      "2025-09-03 16:03:21,192 INFO sqlalchemy.engine.Engine INSERT INTO nsi.[ERMO] ([IDMO], [NAM_MOP], [NAM_MOK], [INN], [KPP], [OGRN], [OID_MO], [OKOPF], [OKFS], [ADDR_J], [ADDR_J_GAR], [OKTMO], [EMAIL], [PHONE], [FAX], [DATEBEG], [DATEEND]) VALUES (?, ?, ?, ?, ?, ?, ?, ?, ?, ?, ?, ?, ?, ?, ?, ?, ?), (?, ?,  ... 6357 characters truncated ... ?, ?, ?, ?, ?, ?, ?, ?, ?, ?, ?, ?, ?, ?, ?, ?), (?, ?, ?, ?, ?, ?, ?, ?, ?, ?, ?, ?, ?, ?, ?, ?, ?)\n"
     ]
    },
    {
     "name": "stderr",
     "output_type": "stream",
     "text": [
      "INFO:sqlalchemy.engine.Engine:INSERT INTO nsi.[ERMO] ([IDMO], [NAM_MOP], [NAM_MOK], [INN], [KPP], [OGRN], [OID_MO], [OKOPF], [OKFS], [ADDR_J], [ADDR_J_GAR], [OKTMO], [EMAIL], [PHONE], [FAX], [DATEBEG], [DATEEND]) VALUES (?, ?, ?, ?, ?, ?, ?, ?, ?, ?, ?, ?, ?, ?, ?, ?, ?), (?, ?,  ... 6357 characters truncated ... ?, ?, ?, ?, ?, ?, ?, ?, ?, ?, ?, ?, ?, ?, ?, ?), (?, ?, ?, ?, ?, ?, ?, ?, ?, ?, ?, ?, ?, ?, ?, ?, ?)\n"
     ]
    },
    {
     "name": "stdout",
     "output_type": "stream",
     "text": [
      "2025-09-03 16:03:21,195 INFO sqlalchemy.engine.Engine [insertmanyvalues 6/72 (unordered)] ('00076800000000000', 'РЕСПУБЛИКАНСКОЕ ГОСУДАРСТВЕННОЕ БЮДЖЕТНОЕ ЛЕЧЕБНО-ПРОФИЛАКТИЧЕСКОЕ УЧРЕЖДЕНИЕ \"КАРАЧАЕВО-ЧЕРКЕССКАЯ РЕСПУБЛИКАНСКАЯ ИНФЕКЦИОННАЯ КЛИНИЧЕСКАЯ БОЛЬНИЦА И ЦЕНТР ПО ПРОФИЛАКТИКЕ И БОРЬБЕ СО СПИДОМ\"', 'РГБЛПУ \"КЧРИКБ И ЦПБ СО СПИДОМ\"', '0901024078', '090101001', '1020900513941', '1.2.643.5.1.13.13.12.2.9.602', '75203', '13', '369001, Респ Карачаево-Черкесская, г Черкесск, ул Ленина, д 330А', '8208a3db-c264-4060-b615-c4879ae3c009', '91000000000', 'infekcia@mail.ru', '+78782270842', '', '10.07.2025', '31.12.2025', '00077100000000000', 'ОБЩЕСТВО С ОГРАНИЧЕННОЙ ОТВЕТСТВЕННОСТЬЮ \"Б.БРАУН АВИТУМ РУССЛАНД КЛИНИКС\"', 'ООО \"Б.БРАУН АВИТУМ РУССЛАНД КЛИНИКС\"', '7801510334', '780101001', '1099847044098', '1.2.643.5.1.13.13.12.2.78.11173', '12300', '16', '199178, г Санкт-Петербург, линия 18-я В.О., д. 29 литера З', '3bba4714-bfe5-48d2-8885-efa0ef76a7be', '40000000000', 'CLINICSAVITUM.RU@BBRAUN.COM', '+78123347630', '', '11.08.2025', '31.12.2025', '00077200000000000', 'ФЕДЕРАЛЬНОЕ ГОСУДАРСТВЕННОЕ БЮДЖЕТНОЕ ОБРАЗОВАТЕЛЬНОЕ УЧРЕЖДЕНИЕ ВЫСШЕГО ОБРАЗОВАНИЯ \"СЕВЕРО-КАВКАЗСКАЯ ГОСУДАРСТВЕННАЯ АКАДЕМИЯ\"', 'ФГБОУ ВО \"СЕВКАВГА\", СЕВЕРО-КАВКАЗСКАЯ ГОСУДАРСТВЕННАЯ АКАДЕМИЯ, СКГА', '0901006061', '090101001', '1030900711335', '1.2.643.5.1.13.13.12.2.9.22135', '75103', '12', '369001, Респ Карачаево-Черкесская, г Черкесск, ул Ставропольская, д 36', 'b1b0b3d8-8006-405c-a7c2-0605aa32e687', '91000000000', 'office@ncsa.ru', '+79299690932', '', '10.07.2025' ... 1991 parameters truncated ... 'ГОСУДАРСТВЕННОЕ БЮДЖЕТНОЕ УЧРЕЖДЕНИЕ ЗДРАВООХРАНЕНИЯ РЕСПУБЛИКИ КОМИ \"ГОРОДСКАЯ БОЛЬНИЦА ЭЖВИНСКОГО РАЙОНА Г.СЫКТЫВКАРА\"', 'ГБУЗ РК \"ГБЭР\"', '1121012274', '112101001', '1031101080977', '1.2.643.5.1.13.13.12.2.11.726', '75203', '13', '167026, Респ Коми, г Сыктывкар, ул Мира, д 27/3', 'fc78d03b-790e-423e-bb4c-3e6c2c4fe000', '87000000000', 'mail@gberkomi.ru', '+78212625792', '', '25.08.2025', '31.12.2025', '00091200000000000', 'ГОСУДАРСТВЕННОЕ БЮДЖЕТНОЕ УЧРЕЖДЕНИЕ ЗДРАВООХРАНЕНИЯ РЕСПУБЛИКИ КОМИ \"СЫКТЫВКАРСКАЯ ГОРОДСКАЯ БОЛЬНИЦА\"', 'ГБУЗ РК \"СГБ\"', '1101487262', '110101001', '1031100406292', '1.2.643.5.1.13.13.12.2.11.778', '75203', '13', '167904, Респ Коми, г Сыктывкар, пгт Краснозатонский, ш Нювчимское, д 24', 'b1d2b043-9236-4248-a794-760c181375ea', '87000000000', 'sgbol.20@yandex.ru', '+78212237252', '', '25.08.2025', '31.12.2025', '00091300000000000', 'ГОСУДАРСТВЕННОЕ АВТОНОМНОЕ УЧРЕЖДЕНИЕ ЗДРАВООХРАНЕНИЯ РЕСПУБЛИКИ КОМИ \"КОНСУЛЬТАТИВНО-ДИАГНОСТИЧЕСКИЙ ЦЕНТР\"', 'ГАУЗ РК \"КДЦ\"', '1101485970', '110101001', '1031100433220', '1.2.643.5.1.13.13.12.2.11.741', '75201', '13', '167000, Респ Коми, г Сыктывкар, ул Куратова, д 6', 'd97b1620-54ab-41ae-aa6a-10572d43e1a5', '87000000000', 'krkdc@rambler.ru', '+78212250166', '', '11.08.2025', '31.12.2025')\n"
     ]
    },
    {
     "name": "stderr",
     "output_type": "stream",
     "text": [
      "INFO:sqlalchemy.engine.Engine:[insertmanyvalues 6/72 (unordered)] ('00076800000000000', 'РЕСПУБЛИКАНСКОЕ ГОСУДАРСТВЕННОЕ БЮДЖЕТНОЕ ЛЕЧЕБНО-ПРОФИЛАКТИЧЕСКОЕ УЧРЕЖДЕНИЕ \"КАРАЧАЕВО-ЧЕРКЕССКАЯ РЕСПУБЛИКАНСКАЯ ИНФЕКЦИОННАЯ КЛИНИЧЕСКАЯ БОЛЬНИЦА И ЦЕНТР ПО ПРОФИЛАКТИКЕ И БОРЬБЕ СО СПИДОМ\"', 'РГБЛПУ \"КЧРИКБ И ЦПБ СО СПИДОМ\"', '0901024078', '090101001', '1020900513941', '1.2.643.5.1.13.13.12.2.9.602', '75203', '13', '369001, Респ Карачаево-Черкесская, г Черкесск, ул Ленина, д 330А', '8208a3db-c264-4060-b615-c4879ae3c009', '91000000000', 'infekcia@mail.ru', '+78782270842', '', '10.07.2025', '31.12.2025', '00077100000000000', 'ОБЩЕСТВО С ОГРАНИЧЕННОЙ ОТВЕТСТВЕННОСТЬЮ \"Б.БРАУН АВИТУМ РУССЛАНД КЛИНИКС\"', 'ООО \"Б.БРАУН АВИТУМ РУССЛАНД КЛИНИКС\"', '7801510334', '780101001', '1099847044098', '1.2.643.5.1.13.13.12.2.78.11173', '12300', '16', '199178, г Санкт-Петербург, линия 18-я В.О., д. 29 литера З', '3bba4714-bfe5-48d2-8885-efa0ef76a7be', '40000000000', 'CLINICSAVITUM.RU@BBRAUN.COM', '+78123347630', '', '11.08.2025', '31.12.2025', '00077200000000000', 'ФЕДЕРАЛЬНОЕ ГОСУДАРСТВЕННОЕ БЮДЖЕТНОЕ ОБРАЗОВАТЕЛЬНОЕ УЧРЕЖДЕНИЕ ВЫСШЕГО ОБРАЗОВАНИЯ \"СЕВЕРО-КАВКАЗСКАЯ ГОСУДАРСТВЕННАЯ АКАДЕМИЯ\"', 'ФГБОУ ВО \"СЕВКАВГА\", СЕВЕРО-КАВКАЗСКАЯ ГОСУДАРСТВЕННАЯ АКАДЕМИЯ, СКГА', '0901006061', '090101001', '1030900711335', '1.2.643.5.1.13.13.12.2.9.22135', '75103', '12', '369001, Респ Карачаево-Черкесская, г Черкесск, ул Ставропольская, д 36', 'b1b0b3d8-8006-405c-a7c2-0605aa32e687', '91000000000', 'office@ncsa.ru', '+79299690932', '', '10.07.2025' ... 1991 parameters truncated ... 'ГОСУДАРСТВЕННОЕ БЮДЖЕТНОЕ УЧРЕЖДЕНИЕ ЗДРАВООХРАНЕНИЯ РЕСПУБЛИКИ КОМИ \"ГОРОДСКАЯ БОЛЬНИЦА ЭЖВИНСКОГО РАЙОНА Г.СЫКТЫВКАРА\"', 'ГБУЗ РК \"ГБЭР\"', '1121012274', '112101001', '1031101080977', '1.2.643.5.1.13.13.12.2.11.726', '75203', '13', '167026, Респ Коми, г Сыктывкар, ул Мира, д 27/3', 'fc78d03b-790e-423e-bb4c-3e6c2c4fe000', '87000000000', 'mail@gberkomi.ru', '+78212625792', '', '25.08.2025', '31.12.2025', '00091200000000000', 'ГОСУДАРСТВЕННОЕ БЮДЖЕТНОЕ УЧРЕЖДЕНИЕ ЗДРАВООХРАНЕНИЯ РЕСПУБЛИКИ КОМИ \"СЫКТЫВКАРСКАЯ ГОРОДСКАЯ БОЛЬНИЦА\"', 'ГБУЗ РК \"СГБ\"', '1101487262', '110101001', '1031100406292', '1.2.643.5.1.13.13.12.2.11.778', '75203', '13', '167904, Респ Коми, г Сыктывкар, пгт Краснозатонский, ш Нювчимское, д 24', 'b1d2b043-9236-4248-a794-760c181375ea', '87000000000', 'sgbol.20@yandex.ru', '+78212237252', '', '25.08.2025', '31.12.2025', '00091300000000000', 'ГОСУДАРСТВЕННОЕ АВТОНОМНОЕ УЧРЕЖДЕНИЕ ЗДРАВООХРАНЕНИЯ РЕСПУБЛИКИ КОМИ \"КОНСУЛЬТАТИВНО-ДИАГНОСТИЧЕСКИЙ ЦЕНТР\"', 'ГАУЗ РК \"КДЦ\"', '1101485970', '110101001', '1031100433220', '1.2.643.5.1.13.13.12.2.11.741', '75201', '13', '167000, Респ Коми, г Сыктывкар, ул Куратова, д 6', 'd97b1620-54ab-41ae-aa6a-10572d43e1a5', '87000000000', 'krkdc@rambler.ru', '+78212250166', '', '11.08.2025', '31.12.2025')\n"
     ]
    },
    {
     "name": "stdout",
     "output_type": "stream",
     "text": [
      "2025-09-03 16:03:21,302 INFO sqlalchemy.engine.Engine INSERT INTO nsi.[ERMO] ([IDMO], [NAM_MOP], [NAM_MOK], [INN], [KPP], [OGRN], [OID_MO], [OKOPF], [OKFS], [ADDR_J], [ADDR_J_GAR], [OKTMO], [EMAIL], [PHONE], [FAX], [DATEBEG], [DATEEND]) VALUES (?, ?, ?, ?, ?, ?, ?, ?, ?, ?, ?, ?, ?, ?, ?, ?, ?), (?, ?,  ... 6357 characters truncated ... ?, ?, ?, ?, ?, ?, ?, ?, ?, ?, ?, ?, ?, ?, ?, ?), (?, ?, ?, ?, ?, ?, ?, ?, ?, ?, ?, ?, ?, ?, ?, ?, ?)\n"
     ]
    },
    {
     "name": "stderr",
     "output_type": "stream",
     "text": [
      "INFO:sqlalchemy.engine.Engine:INSERT INTO nsi.[ERMO] ([IDMO], [NAM_MOP], [NAM_MOK], [INN], [KPP], [OGRN], [OID_MO], [OKOPF], [OKFS], [ADDR_J], [ADDR_J_GAR], [OKTMO], [EMAIL], [PHONE], [FAX], [DATEBEG], [DATEEND]) VALUES (?, ?, ?, ?, ?, ?, ?, ?, ?, ?, ?, ?, ?, ?, ?, ?, ?), (?, ?,  ... 6357 characters truncated ... ?, ?, ?, ?, ?, ?, ?, ?, ?, ?, ?, ?, ?, ?, ?, ?), (?, ?, ?, ?, ?, ?, ?, ?, ?, ?, ?, ?, ?, ?, ?, ?, ?)\n"
     ]
    },
    {
     "name": "stdout",
     "output_type": "stream",
     "text": [
      "2025-09-03 16:03:21,305 INFO sqlalchemy.engine.Engine [insertmanyvalues 7/72 (unordered)] ('00091400000000000', 'ОБЩЕСТВО С ОГРАНИЧЕННОЙ ОТВЕТСТВЕННОСТЬЮ \"МД ГРУП СЫКТЫВКАР\"', 'ООО \"МД ГРУП СЫКТЫВКАР\"', '1101041326', '110101001', '1041100414453', '1.2.643.5.1.13.13.12.2.11.787', '12300', '16', '167000, Респ Коми, г Сыктывкар, ул Гаражная, д 4/1', '22d4382b-0343-4f96-96d1-64e3d6ba232e', '87000000000', 'stk.info@mcclinics.ru', '+78212409900', '', '29.04.2025', '31.12.2025', '00091500000000000', 'ГОСУДАРСТВЕННОЕ БЮДЖЕТНОЕ УЧРЕЖДЕНИЕ ЗДРАВООХРАНЕНИЯ РЕСПУБЛИКИ КОМИ \"СЫКТЫВКАРСКАЯ ГОРОДСКАЯ БОЛЬНИЦА № 1\"', 'ГБУЗ РК \"СГБ № 1\"', '1101487022', '110101001', '1041100421339', '1.2.643.5.1.13.13.12.2.11.703', '75203', '13', '167000, Респ Коми, г Сыктывкар, ул Гаражная, д 4', 'a05a0e3b-b491-4801-a927-3bf6d8dba6ad', '87000000000', 'sykgb1@bk.ru', '+78212312236', '', '25.08.2025', '31.12.2025', '00091600000000000', 'ЧАСТНОЕ УЧРЕЖДЕНИЕ ЗДРАВООХРАНЕНИЯ \"БОЛЬНИЦА \"РЖД-МЕДИЦИНА\" ГОРОДА ПЕЧОРА\"', 'ЧУЗ \"РЖД-МЕДИЦИНА\" Г. ПЕЧОРА\"', '1105016553', '110501001', '1041100742077', '1.2.643.5.1.13.13.12.2.11.788', '75500', '16', '169609, Респ Коми, г Печора, ул Н.Островского, д 35а', 'c1f168be-e59c-4ae8-b7db-c067c49d60e6', '87000000000', 'nuzpechoraek@yandex.ru', '+78214222738', '', '25.08.2025' ... 1991 parameters truncated ... 'ГОСУДАРСТВЕННОЕ БЮДЖЕТНОЕ УЧРЕЖДЕНИЕ РЕСПУБЛИКИ САХА (ЯКУТИЯ) \"ЛЕНСКАЯ ЦЕНТРАЛЬНАЯ РАЙОННАЯ БОЛЬНИЦА\"', 'ГБУ РС (Я) \"ЛЕНСКАЯ ЦРБ\"', '1414003826', '141401001', '1021400691465', '1.2.643.5.1.13.13.12.2.14.903', '75203', '13', '678144, Респ Саха /Якутия/, у Ленский, г Ленск, ул Первомайская, д 34', '946cc21d-5b41-47e2-9c9b-191accd7be62', '98000000000', 'lenmed@list.ru', '+74113743624', '', '24.08.2025', '31.12.2025', '00107000000000000', 'ГОСУДАРСТВЕННОЕ АВТОНОМНОЕ УЧРЕЖДЕНИЕ РЕСПУБЛИКИ САХА (ЯКУТИЯ) \"МЕГИНО-КАНГАЛАССКАЯ ЦЕНТРАЛЬНАЯ РАЙОННАЯ БОЛЬНИЦА\"', 'ГАУ РС (Я) \"МЕГИНО-КАНГАЛАССКАЯ ЦРБ\"', '1415003890', '141501001', '1021400728360', '1.2.643.5.1.13.13.12.2.14.927', '75201', '13', '678070, Респ Саха /Якутия/, у Мегино-Кангаласский, с Майя, ул Советская, д 21', 'f863005f-a30f-437f-a7b9-d48722e3b9aa', '98000000000', 'mayacrb@inbox.ru', '+74114341167', '', '19.06.2025', '31.12.2025', '00107100000000000', 'ГОСУДАРСТВЕННОЕ БЮДЖЕТНОЕ УЧРЕЖДЕНИЕ РЕСПУБЛИКИ САХА (ЯКУТИЯ) \"МИРНИНСКАЯ ЦЕНТРАЛЬНАЯ РАЙОННАЯ БОЛЬНИЦА\"', 'ГБУ РС (Я) \"МИРНИНСКАЯ ЦРБ\"', '1433009365', '143301001', '1021400967950', '1.2.643.5.1.13.13.12.2.14.902', '75203', '13', '678175, Респ Саха /Якутия/, у Мирнинский, г Мирный, ул Павлова, д 3', '886b4f94-56d0-4bd8-a28f-4c615171a4f1', '98000000000', 'mirbukh@mail.ru', '+74113643685', '', '18.06.2025', '31.12.2025')\n"
     ]
    },
    {
     "name": "stderr",
     "output_type": "stream",
     "text": [
      "INFO:sqlalchemy.engine.Engine:[insertmanyvalues 7/72 (unordered)] ('00091400000000000', 'ОБЩЕСТВО С ОГРАНИЧЕННОЙ ОТВЕТСТВЕННОСТЬЮ \"МД ГРУП СЫКТЫВКАР\"', 'ООО \"МД ГРУП СЫКТЫВКАР\"', '1101041326', '110101001', '1041100414453', '1.2.643.5.1.13.13.12.2.11.787', '12300', '16', '167000, Респ Коми, г Сыктывкар, ул Гаражная, д 4/1', '22d4382b-0343-4f96-96d1-64e3d6ba232e', '87000000000', 'stk.info@mcclinics.ru', '+78212409900', '', '29.04.2025', '31.12.2025', '00091500000000000', 'ГОСУДАРСТВЕННОЕ БЮДЖЕТНОЕ УЧРЕЖДЕНИЕ ЗДРАВООХРАНЕНИЯ РЕСПУБЛИКИ КОМИ \"СЫКТЫВКАРСКАЯ ГОРОДСКАЯ БОЛЬНИЦА № 1\"', 'ГБУЗ РК \"СГБ № 1\"', '1101487022', '110101001', '1041100421339', '1.2.643.5.1.13.13.12.2.11.703', '75203', '13', '167000, Респ Коми, г Сыктывкар, ул Гаражная, д 4', 'a05a0e3b-b491-4801-a927-3bf6d8dba6ad', '87000000000', 'sykgb1@bk.ru', '+78212312236', '', '25.08.2025', '31.12.2025', '00091600000000000', 'ЧАСТНОЕ УЧРЕЖДЕНИЕ ЗДРАВООХРАНЕНИЯ \"БОЛЬНИЦА \"РЖД-МЕДИЦИНА\" ГОРОДА ПЕЧОРА\"', 'ЧУЗ \"РЖД-МЕДИЦИНА\" Г. ПЕЧОРА\"', '1105016553', '110501001', '1041100742077', '1.2.643.5.1.13.13.12.2.11.788', '75500', '16', '169609, Респ Коми, г Печора, ул Н.Островского, д 35а', 'c1f168be-e59c-4ae8-b7db-c067c49d60e6', '87000000000', 'nuzpechoraek@yandex.ru', '+78214222738', '', '25.08.2025' ... 1991 parameters truncated ... 'ГОСУДАРСТВЕННОЕ БЮДЖЕТНОЕ УЧРЕЖДЕНИЕ РЕСПУБЛИКИ САХА (ЯКУТИЯ) \"ЛЕНСКАЯ ЦЕНТРАЛЬНАЯ РАЙОННАЯ БОЛЬНИЦА\"', 'ГБУ РС (Я) \"ЛЕНСКАЯ ЦРБ\"', '1414003826', '141401001', '1021400691465', '1.2.643.5.1.13.13.12.2.14.903', '75203', '13', '678144, Респ Саха /Якутия/, у Ленский, г Ленск, ул Первомайская, д 34', '946cc21d-5b41-47e2-9c9b-191accd7be62', '98000000000', 'lenmed@list.ru', '+74113743624', '', '24.08.2025', '31.12.2025', '00107000000000000', 'ГОСУДАРСТВЕННОЕ АВТОНОМНОЕ УЧРЕЖДЕНИЕ РЕСПУБЛИКИ САХА (ЯКУТИЯ) \"МЕГИНО-КАНГАЛАССКАЯ ЦЕНТРАЛЬНАЯ РАЙОННАЯ БОЛЬНИЦА\"', 'ГАУ РС (Я) \"МЕГИНО-КАНГАЛАССКАЯ ЦРБ\"', '1415003890', '141501001', '1021400728360', '1.2.643.5.1.13.13.12.2.14.927', '75201', '13', '678070, Респ Саха /Якутия/, у Мегино-Кангаласский, с Майя, ул Советская, д 21', 'f863005f-a30f-437f-a7b9-d48722e3b9aa', '98000000000', 'mayacrb@inbox.ru', '+74114341167', '', '19.06.2025', '31.12.2025', '00107100000000000', 'ГОСУДАРСТВЕННОЕ БЮДЖЕТНОЕ УЧРЕЖДЕНИЕ РЕСПУБЛИКИ САХА (ЯКУТИЯ) \"МИРНИНСКАЯ ЦЕНТРАЛЬНАЯ РАЙОННАЯ БОЛЬНИЦА\"', 'ГБУ РС (Я) \"МИРНИНСКАЯ ЦРБ\"', '1433009365', '143301001', '1021400967950', '1.2.643.5.1.13.13.12.2.14.902', '75203', '13', '678175, Респ Саха /Якутия/, у Мирнинский, г Мирный, ул Павлова, д 3', '886b4f94-56d0-4bd8-a28f-4c615171a4f1', '98000000000', 'mirbukh@mail.ru', '+74113643685', '', '18.06.2025', '31.12.2025')\n"
     ]
    },
    {
     "name": "stdout",
     "output_type": "stream",
     "text": [
      "2025-09-03 16:03:21,417 INFO sqlalchemy.engine.Engine INSERT INTO nsi.[ERMO] ([IDMO], [NAM_MOP], [NAM_MOK], [INN], [KPP], [OGRN], [OID_MO], [OKOPF], [OKFS], [ADDR_J], [ADDR_J_GAR], [OKTMO], [EMAIL], [PHONE], [FAX], [DATEBEG], [DATEEND]) VALUES (?, ?, ?, ?, ?, ?, ?, ?, ?, ?, ?, ?, ?, ?, ?, ?, ?), (?, ?,  ... 6357 characters truncated ... ?, ?, ?, ?, ?, ?, ?, ?, ?, ?, ?, ?, ?, ?, ?, ?), (?, ?, ?, ?, ?, ?, ?, ?, ?, ?, ?, ?, ?, ?, ?, ?, ?)\n"
     ]
    },
    {
     "name": "stderr",
     "output_type": "stream",
     "text": [
      "INFO:sqlalchemy.engine.Engine:INSERT INTO nsi.[ERMO] ([IDMO], [NAM_MOP], [NAM_MOK], [INN], [KPP], [OGRN], [OID_MO], [OKOPF], [OKFS], [ADDR_J], [ADDR_J_GAR], [OKTMO], [EMAIL], [PHONE], [FAX], [DATEBEG], [DATEEND]) VALUES (?, ?, ?, ?, ?, ?, ?, ?, ?, ?, ?, ?, ?, ?, ?, ?, ?), (?, ?,  ... 6357 characters truncated ... ?, ?, ?, ?, ?, ?, ?, ?, ?, ?, ?, ?, ?, ?, ?, ?), (?, ?, ?, ?, ?, ?, ?, ?, ?, ?, ?, ?, ?, ?, ?, ?, ?)\n"
     ]
    },
    {
     "name": "stdout",
     "output_type": "stream",
     "text": [
      "2025-09-03 16:03:21,419 INFO sqlalchemy.engine.Engine [insertmanyvalues 8/72 (unordered)] ('00107500000000000', 'ЧАСТНОЕ УЧРЕЖДЕНИЕ ЗДРАВООХРАНЕНИЯ \"ПОЛИКЛИНИКА \"РЖД-МЕДИЦИНА\" ПОСЁЛКА БЕРКАКИТ\"', 'ЧУЗ \"РЖД-МЕДИЦИНА\" ПОС.БЕРКАКИТ\"', '1434024856', '143401001', '1041401723791', '1.2.643.5.1.13.13.12.2.14.11824', '75500', '16', '678990, Респ Саха /Якутия/, г Нерюнгри, п Беркакит, ул Оптимистов, д 25', 'b9d1eba5-f044-484d-a910-9cb1db48dd16', '98000000000', 'TSPISCHULINA@MAIL.RU', '+74114773343', '', '27.08.2025', '31.12.2025', '00107600000000000', 'ГОСУДАРСТВЕННОЕ БЮДЖЕТНОЕ УЧРЕЖДЕНИЕ РЕСПУБЛИКИ САХА (ЯКУТИЯ) \"НАМСКАЯ ЦЕНТРАЛЬНАЯ РАЙОННАЯ БОЛЬНИЦА \"', 'ГБУ РС (Я) \"НЦРБ\"', '1417002281', '141701001', '1021400756585', '1.2.643.5.1.13.13.12.2.14.941', '75203', '13', '678380, Респ Саха /Якутия/, у Намский, с Намцы, ул С.Платонова, д 14', 'c7316921-d9ae-44cc-a243-a074cd256eb6', '98000000000', 'sub@namtsy.sakha.ru', '+74116241701', '', '30.07.2025', '31.12.2025', '00107700000000000', 'ГОСУДАРСТВЕННОЕ БЮДЖЕТНОЕ УЧРЕЖДЕНИЕ РЕСПУБЛИКИ САХА (ЯКУТИЯ)\"НИЖНЕКОЛЫМСКАЯ ЦЕНТРАЛЬНАЯ РАЙОННАЯ БОЛЬНИЦА\"', 'ГБУ РС(Я) \"НИЖНЕКОЛЫМСКАЯ ЦРБ\"', '1418001690', '141801001', '1031400870930', '1.2.643.5.1.13.13.12.2.14.974', '75203', '13', '678830, Респ Саха /Якутия/, у Нижнеколымский, п Черский, ул Котельникова, д 18', '43929176-7b05-4a2e-a4b4-0bb251d00545', '98000000000', 'nk22627@list.ru', '+74115722627', '', '19.08.2025' ... 1991 parameters truncated ... 'ГОСУДАРСТВЕННОЕ АВТОНОМНОЕ УЧРЕЖДЕНИЕ ЗДРАВООХРАНЕНИЯ РЕСПУБЛИКИ ТАТАРСТАН \"БОЛЬНИЦА СКОРОЙ МЕДИЦИНСКОЙ ПОМОЩИ ИМЕНИ Р.С.АКЧУРИНА\"', 'ГАУЗ РТ \"БСМП ИМ.Р.С.АКЧУРИНА\"', '1650201838', '165001001', '1101650000011', '1.2.643.5.1.13.13.12.2.16.1040', '75201', '13', '423803, Респ Татарстан, г Набережные Челны, пр-кт Набережночелнинский, д 18', 'd541b192-fc19-42c6-86a7-6bd35ae887a2', '92000000000', 'bsmp.nabchelny@tatar.ru', '+78552304800', '', '11.07.2025', '31.12.2025', '00123400000000000', 'ГОСУДАРСТВЕННОЕ АВТОНОМНОЕ УЧРЕЖДЕНИЕ ЗДРАВООХРАНЕНИЯ \"ДЕТСКАЯ ГОРОДСКАЯ ПОЛИКЛИНИКА №3\"', 'ГАУЗ \"ДЕТСКАЯ ГОРОДСКАЯ  ПОЛИКЛИНИКА №3\"', '1650002060', '165001001', '1021602030152', '1.2.643.5.1.13.13.12.2.16.1067', '75201', '13', '423806, Респ Татарстан, г Набережные Челны, ул им Комарова, д 26', 'f5cde53f-e6ea-4188-a79f-f42d35690eb0', '92000000000', 'MZ.NCHELNY_DP3@TATAR.RU', '+78552465406', '', '13.03.2025', '31.12.2025', '00123500000000000', 'ГОСУДАРСТВЕННОЕ АВТОНОМНОЕ УЧРЕЖДЕНИЕ ЗДРАВООХРАНЕНИЯ \"НАБЕРЕЖНО-ЧЕЛНИНСКАЯ ИНФЕКЦИОННАЯ БОЛЬНИЦА\"', 'ГАУЗ \"НАБЕРЕЖНО-ЧЕЛНИНСКАЯ ИБ\"', '1650006509', '165001001', '1031616019192', '1.2.643.5.1.13.13.12.2.16.1064', '75201', '13', '423814, Респ Татарстан, г Набережные Челны, пр-кт Московский, д 85', 'd9e625c6-ad0e-47bf-97aa-c5a5cf405972', '92000000000', 'infbol@mail.ru', '+78552309995', '', '14.03.2025', '31.12.2025')\n"
     ]
    },
    {
     "name": "stderr",
     "output_type": "stream",
     "text": [
      "INFO:sqlalchemy.engine.Engine:[insertmanyvalues 8/72 (unordered)] ('00107500000000000', 'ЧАСТНОЕ УЧРЕЖДЕНИЕ ЗДРАВООХРАНЕНИЯ \"ПОЛИКЛИНИКА \"РЖД-МЕДИЦИНА\" ПОСЁЛКА БЕРКАКИТ\"', 'ЧУЗ \"РЖД-МЕДИЦИНА\" ПОС.БЕРКАКИТ\"', '1434024856', '143401001', '1041401723791', '1.2.643.5.1.13.13.12.2.14.11824', '75500', '16', '678990, Респ Саха /Якутия/, г Нерюнгри, п Беркакит, ул Оптимистов, д 25', 'b9d1eba5-f044-484d-a910-9cb1db48dd16', '98000000000', 'TSPISCHULINA@MAIL.RU', '+74114773343', '', '27.08.2025', '31.12.2025', '00107600000000000', 'ГОСУДАРСТВЕННОЕ БЮДЖЕТНОЕ УЧРЕЖДЕНИЕ РЕСПУБЛИКИ САХА (ЯКУТИЯ) \"НАМСКАЯ ЦЕНТРАЛЬНАЯ РАЙОННАЯ БОЛЬНИЦА \"', 'ГБУ РС (Я) \"НЦРБ\"', '1417002281', '141701001', '1021400756585', '1.2.643.5.1.13.13.12.2.14.941', '75203', '13', '678380, Респ Саха /Якутия/, у Намский, с Намцы, ул С.Платонова, д 14', 'c7316921-d9ae-44cc-a243-a074cd256eb6', '98000000000', 'sub@namtsy.sakha.ru', '+74116241701', '', '30.07.2025', '31.12.2025', '00107700000000000', 'ГОСУДАРСТВЕННОЕ БЮДЖЕТНОЕ УЧРЕЖДЕНИЕ РЕСПУБЛИКИ САХА (ЯКУТИЯ)\"НИЖНЕКОЛЫМСКАЯ ЦЕНТРАЛЬНАЯ РАЙОННАЯ БОЛЬНИЦА\"', 'ГБУ РС(Я) \"НИЖНЕКОЛЫМСКАЯ ЦРБ\"', '1418001690', '141801001', '1031400870930', '1.2.643.5.1.13.13.12.2.14.974', '75203', '13', '678830, Респ Саха /Якутия/, у Нижнеколымский, п Черский, ул Котельникова, д 18', '43929176-7b05-4a2e-a4b4-0bb251d00545', '98000000000', 'nk22627@list.ru', '+74115722627', '', '19.08.2025' ... 1991 parameters truncated ... 'ГОСУДАРСТВЕННОЕ АВТОНОМНОЕ УЧРЕЖДЕНИЕ ЗДРАВООХРАНЕНИЯ РЕСПУБЛИКИ ТАТАРСТАН \"БОЛЬНИЦА СКОРОЙ МЕДИЦИНСКОЙ ПОМОЩИ ИМЕНИ Р.С.АКЧУРИНА\"', 'ГАУЗ РТ \"БСМП ИМ.Р.С.АКЧУРИНА\"', '1650201838', '165001001', '1101650000011', '1.2.643.5.1.13.13.12.2.16.1040', '75201', '13', '423803, Респ Татарстан, г Набережные Челны, пр-кт Набережночелнинский, д 18', 'd541b192-fc19-42c6-86a7-6bd35ae887a2', '92000000000', 'bsmp.nabchelny@tatar.ru', '+78552304800', '', '11.07.2025', '31.12.2025', '00123400000000000', 'ГОСУДАРСТВЕННОЕ АВТОНОМНОЕ УЧРЕЖДЕНИЕ ЗДРАВООХРАНЕНИЯ \"ДЕТСКАЯ ГОРОДСКАЯ ПОЛИКЛИНИКА №3\"', 'ГАУЗ \"ДЕТСКАЯ ГОРОДСКАЯ  ПОЛИКЛИНИКА №3\"', '1650002060', '165001001', '1021602030152', '1.2.643.5.1.13.13.12.2.16.1067', '75201', '13', '423806, Респ Татарстан, г Набережные Челны, ул им Комарова, д 26', 'f5cde53f-e6ea-4188-a79f-f42d35690eb0', '92000000000', 'MZ.NCHELNY_DP3@TATAR.RU', '+78552465406', '', '13.03.2025', '31.12.2025', '00123500000000000', 'ГОСУДАРСТВЕННОЕ АВТОНОМНОЕ УЧРЕЖДЕНИЕ ЗДРАВООХРАНЕНИЯ \"НАБЕРЕЖНО-ЧЕЛНИНСКАЯ ИНФЕКЦИОННАЯ БОЛЬНИЦА\"', 'ГАУЗ \"НАБЕРЕЖНО-ЧЕЛНИНСКАЯ ИБ\"', '1650006509', '165001001', '1031616019192', '1.2.643.5.1.13.13.12.2.16.1064', '75201', '13', '423814, Респ Татарстан, г Набережные Челны, пр-кт Московский, д 85', 'd9e625c6-ad0e-47bf-97aa-c5a5cf405972', '92000000000', 'infbol@mail.ru', '+78552309995', '', '14.03.2025', '31.12.2025')\n"
     ]
    },
    {
     "name": "stdout",
     "output_type": "stream",
     "text": [
      "2025-09-03 16:03:21,531 INFO sqlalchemy.engine.Engine INSERT INTO nsi.[ERMO] ([IDMO], [NAM_MOP], [NAM_MOK], [INN], [KPP], [OGRN], [OID_MO], [OKOPF], [OKFS], [ADDR_J], [ADDR_J_GAR], [OKTMO], [EMAIL], [PHONE], [FAX], [DATEBEG], [DATEEND]) VALUES (?, ?, ?, ?, ?, ?, ?, ?, ?, ?, ?, ?, ?, ?, ?, ?, ?), (?, ?,  ... 6357 characters truncated ... ?, ?, ?, ?, ?, ?, ?, ?, ?, ?, ?, ?, ?, ?, ?, ?), (?, ?, ?, ?, ?, ?, ?, ?, ?, ?, ?, ?, ?, ?, ?, ?, ?)\n"
     ]
    },
    {
     "name": "stderr",
     "output_type": "stream",
     "text": [
      "INFO:sqlalchemy.engine.Engine:INSERT INTO nsi.[ERMO] ([IDMO], [NAM_MOP], [NAM_MOK], [INN], [KPP], [OGRN], [OID_MO], [OKOPF], [OKFS], [ADDR_J], [ADDR_J_GAR], [OKTMO], [EMAIL], [PHONE], [FAX], [DATEBEG], [DATEEND]) VALUES (?, ?, ?, ?, ?, ?, ?, ?, ?, ?, ?, ?, ?, ?, ?, ?, ?), (?, ?,  ... 6357 characters truncated ... ?, ?, ?, ?, ?, ?, ?, ?, ?, ?, ?, ?, ?, ?, ?, ?), (?, ?, ?, ?, ?, ?, ?, ?, ?, ?, ?, ?, ?, ?, ?, ?, ?)\n"
     ]
    },
    {
     "name": "stdout",
     "output_type": "stream",
     "text": [
      "2025-09-03 16:03:21,533 INFO sqlalchemy.engine.Engine [insertmanyvalues 9/72 (unordered)] ('00123600000000000', 'ГОСУДАРСТВЕННОЕ АВТОНОМНОЕ УЧРЕЖДЕНИЕ ЗДРАВООХРАНЕНИЯ \"СТАНЦИЯ СКОРОЙ МЕДИЦИНСКОЙ ПОМОЩИ\"', 'ГАУЗ \"СТАНЦИЯ СКОРОЙ МЕДИЦИНСКОЙ ПОМОЩИ\"', '1650035860', '165001001', '1021602014257', '1.2.643.5.1.13.13.12.2.16.1106', '75201', '13', '423812, Респ Татарстан, г Набережные Челны, ул 40 лет Победы, д 48', 'e3ee9b5c-0782-451b-86d2-6a3940b038c9', '92000000000', 'mz.nchelny_ssmp@tatar.ru', '+78552304780', '', '14.03.2025', '31.12.2025', '00123700000000000', 'ОБЩЕСТВО С ОГРАНИЧЕННОЙ ОТВЕТСТВЕННОСТЬЮ \"ПРОЗРЕНИЕ\"', 'ООО \"ПРОЗРЕНИЕ\"', '1650127292', '165001001', '1051614038343', '1.2.643.5.1.13.13.12.2.16.14339', '12300', '16', '423822, Респ Татарстан, г Набережные Челны, пр-кт Набережночелнинский, д 54, кв 10', 'e8091ed0-25c3-4d51-8ff3-7545dd1490c7', '92000000000', 'PROZRENIE@INBOX.RU', '+78552343434', '', '14.03.2025', '31.12.2025', '00123800000000000', 'ОБЩЕСТВО С ОГРАНИЧЕННОЙ ОТВЕТСТВЕННОСТЬЮ \"ЦЕНТР МИКРОХИРУРГИИ ГЛАЗА ПРОЗРЕНИЕ\"', 'ООО \"ЦМХГ ПРОЗРЕНИЕ\"', '1650121131', '165001001', '1041616026341', '1.2.643.5.1.13.13.12.2.16.15115', '12300', '16', '423822, Респ Татарстан, г Набережные Челны, пр-кт Набережночелнинский, д 54, кв 10', 'e8091ed0-25c3-4d51-8ff3-7545dd1490c7', '92000000000', 'PROZRENIE@INBOX.RU', '+78552343434', '', '14.03.2025' ... 1991 parameters truncated ... 'ОБЩЕСТВО С ОГРАНИЧЕННОЙ ОТВЕТСТВЕННОСТЬЮ \"ШКОЛЬНАЯ СТОМАТОЛОГИЯ\"', 'ООО \"ШКОЛЬНАЯ СТОМАТОЛОГИЯ\"', '1656096072', '165501001', '1161690156979', '1.2.643.5.1.13.13.12.2.16.22196', '12300', '16', '420111, Респ Татарстан, г Казань, ул Карла Фукса, д 10, кв 1', '7e4322e6-9f74-460c-983b-38815922af91', '92000000000', 'SCHOOLDENTAL@MAIL.RU', '+78432585816', '', '26.03.2025', '31.12.2025', '00137800000000000', 'ОБЩЕСТВО С ОГРАНИЧЕННОЙ ОТВЕТСТВЕННОСТЬЮ \"ДИ-ДЕНТ КЛИНИК\"', 'ООО \"ДИ-ДЕНТ КЛИНИК\"', '1658144892', '165801001', '1131690013510', '1.2.643.5.1.13.13.12.2.16.20923', '12300', '16', '420095, Респ Татарстан, г Казань, ул Восстания, зд. 100 к. 5', '02799821-5056-4581-b4ee-53f48f85a867', '92000000000', 'ZAVDAT5959@MAIL.RU', '+78432125680', '', '26.03.2025', '31.12.2025', '00137900000000000', 'ОБЩЕСТВО С ОГРАНИЧЕННОЙ ОТВЕТСТВЕННОСТЬЮ \"ПРАЙММЕД\"', 'ООО \"ПРАЙММЕД\"', '1656103749', '165601001', '1181690067261', '1.2.643.5.1.13.13.12.2.16.17889', '12300', '16', '420034, Респ Татарстан, г Казань, ул 2-я Юго-Западная, д 35А', '9a60577c-4977-4979-92e7-6c2daeec5781', '92000000000', 'ZDS2009@MAIL.RU', '+78432042700', '', '28.03.2025', '31.12.2025')\n"
     ]
    },
    {
     "name": "stderr",
     "output_type": "stream",
     "text": [
      "INFO:sqlalchemy.engine.Engine:[insertmanyvalues 9/72 (unordered)] ('00123600000000000', 'ГОСУДАРСТВЕННОЕ АВТОНОМНОЕ УЧРЕЖДЕНИЕ ЗДРАВООХРАНЕНИЯ \"СТАНЦИЯ СКОРОЙ МЕДИЦИНСКОЙ ПОМОЩИ\"', 'ГАУЗ \"СТАНЦИЯ СКОРОЙ МЕДИЦИНСКОЙ ПОМОЩИ\"', '1650035860', '165001001', '1021602014257', '1.2.643.5.1.13.13.12.2.16.1106', '75201', '13', '423812, Респ Татарстан, г Набережные Челны, ул 40 лет Победы, д 48', 'e3ee9b5c-0782-451b-86d2-6a3940b038c9', '92000000000', 'mz.nchelny_ssmp@tatar.ru', '+78552304780', '', '14.03.2025', '31.12.2025', '00123700000000000', 'ОБЩЕСТВО С ОГРАНИЧЕННОЙ ОТВЕТСТВЕННОСТЬЮ \"ПРОЗРЕНИЕ\"', 'ООО \"ПРОЗРЕНИЕ\"', '1650127292', '165001001', '1051614038343', '1.2.643.5.1.13.13.12.2.16.14339', '12300', '16', '423822, Респ Татарстан, г Набережные Челны, пр-кт Набережночелнинский, д 54, кв 10', 'e8091ed0-25c3-4d51-8ff3-7545dd1490c7', '92000000000', 'PROZRENIE@INBOX.RU', '+78552343434', '', '14.03.2025', '31.12.2025', '00123800000000000', 'ОБЩЕСТВО С ОГРАНИЧЕННОЙ ОТВЕТСТВЕННОСТЬЮ \"ЦЕНТР МИКРОХИРУРГИИ ГЛАЗА ПРОЗРЕНИЕ\"', 'ООО \"ЦМХГ ПРОЗРЕНИЕ\"', '1650121131', '165001001', '1041616026341', '1.2.643.5.1.13.13.12.2.16.15115', '12300', '16', '423822, Респ Татарстан, г Набережные Челны, пр-кт Набережночелнинский, д 54, кв 10', 'e8091ed0-25c3-4d51-8ff3-7545dd1490c7', '92000000000', 'PROZRENIE@INBOX.RU', '+78552343434', '', '14.03.2025' ... 1991 parameters truncated ... 'ОБЩЕСТВО С ОГРАНИЧЕННОЙ ОТВЕТСТВЕННОСТЬЮ \"ШКОЛЬНАЯ СТОМАТОЛОГИЯ\"', 'ООО \"ШКОЛЬНАЯ СТОМАТОЛОГИЯ\"', '1656096072', '165501001', '1161690156979', '1.2.643.5.1.13.13.12.2.16.22196', '12300', '16', '420111, Респ Татарстан, г Казань, ул Карла Фукса, д 10, кв 1', '7e4322e6-9f74-460c-983b-38815922af91', '92000000000', 'SCHOOLDENTAL@MAIL.RU', '+78432585816', '', '26.03.2025', '31.12.2025', '00137800000000000', 'ОБЩЕСТВО С ОГРАНИЧЕННОЙ ОТВЕТСТВЕННОСТЬЮ \"ДИ-ДЕНТ КЛИНИК\"', 'ООО \"ДИ-ДЕНТ КЛИНИК\"', '1658144892', '165801001', '1131690013510', '1.2.643.5.1.13.13.12.2.16.20923', '12300', '16', '420095, Респ Татарстан, г Казань, ул Восстания, зд. 100 к. 5', '02799821-5056-4581-b4ee-53f48f85a867', '92000000000', 'ZAVDAT5959@MAIL.RU', '+78432125680', '', '26.03.2025', '31.12.2025', '00137900000000000', 'ОБЩЕСТВО С ОГРАНИЧЕННОЙ ОТВЕТСТВЕННОСТЬЮ \"ПРАЙММЕД\"', 'ООО \"ПРАЙММЕД\"', '1656103749', '165601001', '1181690067261', '1.2.643.5.1.13.13.12.2.16.17889', '12300', '16', '420034, Респ Татарстан, г Казань, ул 2-я Юго-Западная, д 35А', '9a60577c-4977-4979-92e7-6c2daeec5781', '92000000000', 'ZDS2009@MAIL.RU', '+78432042700', '', '28.03.2025', '31.12.2025')\n"
     ]
    },
    {
     "name": "stdout",
     "output_type": "stream",
     "text": [
      "2025-09-03 16:03:21,649 INFO sqlalchemy.engine.Engine INSERT INTO nsi.[ERMO] ([IDMO], [NAM_MOP], [NAM_MOK], [INN], [KPP], [OGRN], [OID_MO], [OKOPF], [OKFS], [ADDR_J], [ADDR_J_GAR], [OKTMO], [EMAIL], [PHONE], [FAX], [DATEBEG], [DATEEND]) VALUES (?, ?, ?, ?, ?, ?, ?, ?, ?, ?, ?, ?, ?, ?, ?, ?, ?), (?, ?,  ... 6357 characters truncated ... ?, ?, ?, ?, ?, ?, ?, ?, ?, ?, ?, ?, ?, ?, ?, ?), (?, ?, ?, ?, ?, ?, ?, ?, ?, ?, ?, ?, ?, ?, ?, ?, ?)\n"
     ]
    },
    {
     "name": "stderr",
     "output_type": "stream",
     "text": [
      "INFO:sqlalchemy.engine.Engine:INSERT INTO nsi.[ERMO] ([IDMO], [NAM_MOP], [NAM_MOK], [INN], [KPP], [OGRN], [OID_MO], [OKOPF], [OKFS], [ADDR_J], [ADDR_J_GAR], [OKTMO], [EMAIL], [PHONE], [FAX], [DATEBEG], [DATEEND]) VALUES (?, ?, ?, ?, ?, ?, ?, ?, ?, ?, ?, ?, ?, ?, ?, ?, ?), (?, ?,  ... 6357 characters truncated ... ?, ?, ?, ?, ?, ?, ?, ?, ?, ?, ?, ?, ?, ?, ?, ?), (?, ?, ?, ?, ?, ?, ?, ?, ?, ?, ?, ?, ?, ?, ?, ?, ?)\n"
     ]
    },
    {
     "name": "stdout",
     "output_type": "stream",
     "text": [
      "2025-09-03 16:03:21,651 INFO sqlalchemy.engine.Engine [insertmanyvalues 10/72 (unordered)] ('00138000000000000', 'ГОСУДАРСТВЕННОЕ АВТОНОМНОЕ УЧРЕЖДЕНИЕ ЗДРАВООХРАНЕНИЯ \"ГОСПИТАЛЬ ДЛЯ ВЕТЕРАНОВ ВОЙН\" Г. КАЗАНИ', 'ГАУЗ \"ГОСПИТАЛЬ ДЛЯ ВЕТЕРАНОВ ВОЙН\" Г. КАЗАНИ', '1653009096', '165801001', '1021603277332', '1.2.643.5.1.13.13.12.2.16.1135', '75201', '13', '420039, Респ Татарстан, г Казань, ул Исаева, д 5', '4165b95a-a5d9-4391-9b4d-4e2a6b8f5723', '92000000000', 'Gvv.kazan@tatar.ru', '+78435605386', '', '26.03.2025', '31.12.2025', '00138100000000000', 'ГОСУДАРСТВЕННОЕ АВТОНОМНОЕ УЧРЕЖДЕНИЕ ЗДРАВООХРАНЕНИЯ \"ГОРОДСКАЯ КЛИНИЧЕСКАЯ БОЛЬНИЦА №16\" Г.КАЗАНИ', 'ГАУЗ \"ГКБ №16\"', '1658019154', '165801001', '1021603276870', '1.2.643.5.1.13.13.12.2.16.1136', '75201', '13', '420039, Респ Татарстан, г Казань, ул Гагарина, д 121', '550d356a-45ad-4445-87dc-ab1b6e134c32', '92000000000', 'klinika.16@tatar.ru', '+78432220660', '', '11.04.2025', '31.12.2025', '00138200000000000', 'ГОСУДАРСТВЕННОЕ АВТОНОМНОЕ УЧРЕЖДЕНИЕ ЗДРАВООХРАНЕНИЯ \"ГОРОДСКАЯ ДЕТСКАЯ БОЛЬНИЦА № 1\" Г. КАЗАНИ', 'ГАУЗ \"ГДБ № 1\"', '1658022679', '165801001', '1021603282172', '1.2.643.5.1.13.13.12.2.16.1148', '75201', '13', '420034, Респ Татарстан, г Казань, ул Декабристов, д 125А', '3ed7cfaf-8150-4c4e-b170-576af32d311e', '92000000000', 'Detpol1.kzn@tatar.ru', '+78435622211', '', '26.03.2025' ... 1991 parameters truncated ... 'БЮДЖЕТНОЕ УЧРЕЖДЕНИЕ ЗДРАВООХРАНЕНИЯ УДМУРТСКОЙ РЕСПУБЛИКИ \"ГОРОДСКАЯ ПОЛИКЛИНИКА № 2 МИНИСТЕРСТВА ЗДРАВООХРАНЕНИЯ УДМУРТСКОЙ РЕСПУБЛИКИ\"', 'БУЗ УР \"ГП № 2 МЗ УР\"', '1835055509', '184101001', '1031801957538', '1.2.643.5.1.13.13.12.2.18.1333', '75203', '13', '426038, Респ Удмуртская, г Ижевск, ул Ракетная, д 32а', '3ad12f20-c5fd-4695-9106-cd6831b43f1c', '94000000000', 'sekretar2gp@mail.ru', '+73412663820', '', '09.07.2025', '31.12.2025', '00152200000000000', 'БЮДЖЕТНОЕ УЧРЕЖДЕНИЕ ЗДРАВООХРАНЕНИЯ УДМУРТСКОЙ РЕСПУБЛИКИ \"ДЕТСКАЯ ГОРОДСКАЯ ПОЛИКЛИНИКА  №1 МИНИСТЕРСТВА ЗДРАВООХРАНЕНИЯ УДМУРТСКОЙ РЕСПУБЛИКИ\"', 'БУЗ УР \"ДГП № 1 МЗ УР\"', '1835036665', '184101001', '1021801661199', '1.2.643.5.1.13.13.12.2.18.1341', '75203', '13', '426076, Респ Удмуртская, г Ижевск, ул Ленина, д 17', '9a3e3c2f-6120-4963-bfe0-62c500105cec', '94000000000', 'dgp401@yandex.ru', '+73412658137', '', '09.07.2025', '31.12.2025', '00152300000000000', 'БЮДЖЕТНОЕ УЧРЕЖДЕНИЕ ЗДРАВООХРАНЕНИЯ УДМУРТСКОЙ РЕСПУБЛИКИ \"ДЕТСКАЯ ГОРОДСКАЯ КЛИНИЧЕСКАЯ ПОЛИКЛИНИКА № 2 МИНИСТЕРСТВА ЗДРАВООХРАНЕНИЯ УДМУРТСКОЙ РЕСПУБЛИКИ\"', 'БУЗ УР \"ДГКП № 2 МЗ УР\"', '1831039979', '183101001', '1021801151272', '1.2.643.5.1.13.13.12.2.18.1297', '75203', '13', '426056, Респ Удмуртская, г Ижевск, ул им Наговицына, д 10', '70fce765-cc63-4ffc-8bb7-03fe4bd0245d', '94000000000', 'dgkp2izh@ya.ru', '+73412430245', '', '09.07.2025', '31.12.2025')\n"
     ]
    },
    {
     "name": "stderr",
     "output_type": "stream",
     "text": [
      "INFO:sqlalchemy.engine.Engine:[insertmanyvalues 10/72 (unordered)] ('00138000000000000', 'ГОСУДАРСТВЕННОЕ АВТОНОМНОЕ УЧРЕЖДЕНИЕ ЗДРАВООХРАНЕНИЯ \"ГОСПИТАЛЬ ДЛЯ ВЕТЕРАНОВ ВОЙН\" Г. КАЗАНИ', 'ГАУЗ \"ГОСПИТАЛЬ ДЛЯ ВЕТЕРАНОВ ВОЙН\" Г. КАЗАНИ', '1653009096', '165801001', '1021603277332', '1.2.643.5.1.13.13.12.2.16.1135', '75201', '13', '420039, Респ Татарстан, г Казань, ул Исаева, д 5', '4165b95a-a5d9-4391-9b4d-4e2a6b8f5723', '92000000000', 'Gvv.kazan@tatar.ru', '+78435605386', '', '26.03.2025', '31.12.2025', '00138100000000000', 'ГОСУДАРСТВЕННОЕ АВТОНОМНОЕ УЧРЕЖДЕНИЕ ЗДРАВООХРАНЕНИЯ \"ГОРОДСКАЯ КЛИНИЧЕСКАЯ БОЛЬНИЦА №16\" Г.КАЗАНИ', 'ГАУЗ \"ГКБ №16\"', '1658019154', '165801001', '1021603276870', '1.2.643.5.1.13.13.12.2.16.1136', '75201', '13', '420039, Респ Татарстан, г Казань, ул Гагарина, д 121', '550d356a-45ad-4445-87dc-ab1b6e134c32', '92000000000', 'klinika.16@tatar.ru', '+78432220660', '', '11.04.2025', '31.12.2025', '00138200000000000', 'ГОСУДАРСТВЕННОЕ АВТОНОМНОЕ УЧРЕЖДЕНИЕ ЗДРАВООХРАНЕНИЯ \"ГОРОДСКАЯ ДЕТСКАЯ БОЛЬНИЦА № 1\" Г. КАЗАНИ', 'ГАУЗ \"ГДБ № 1\"', '1658022679', '165801001', '1021603282172', '1.2.643.5.1.13.13.12.2.16.1148', '75201', '13', '420034, Респ Татарстан, г Казань, ул Декабристов, д 125А', '3ed7cfaf-8150-4c4e-b170-576af32d311e', '92000000000', 'Detpol1.kzn@tatar.ru', '+78435622211', '', '26.03.2025' ... 1991 parameters truncated ... 'БЮДЖЕТНОЕ УЧРЕЖДЕНИЕ ЗДРАВООХРАНЕНИЯ УДМУРТСКОЙ РЕСПУБЛИКИ \"ГОРОДСКАЯ ПОЛИКЛИНИКА № 2 МИНИСТЕРСТВА ЗДРАВООХРАНЕНИЯ УДМУРТСКОЙ РЕСПУБЛИКИ\"', 'БУЗ УР \"ГП № 2 МЗ УР\"', '1835055509', '184101001', '1031801957538', '1.2.643.5.1.13.13.12.2.18.1333', '75203', '13', '426038, Респ Удмуртская, г Ижевск, ул Ракетная, д 32а', '3ad12f20-c5fd-4695-9106-cd6831b43f1c', '94000000000', 'sekretar2gp@mail.ru', '+73412663820', '', '09.07.2025', '31.12.2025', '00152200000000000', 'БЮДЖЕТНОЕ УЧРЕЖДЕНИЕ ЗДРАВООХРАНЕНИЯ УДМУРТСКОЙ РЕСПУБЛИКИ \"ДЕТСКАЯ ГОРОДСКАЯ ПОЛИКЛИНИКА  №1 МИНИСТЕРСТВА ЗДРАВООХРАНЕНИЯ УДМУРТСКОЙ РЕСПУБЛИКИ\"', 'БУЗ УР \"ДГП № 1 МЗ УР\"', '1835036665', '184101001', '1021801661199', '1.2.643.5.1.13.13.12.2.18.1341', '75203', '13', '426076, Респ Удмуртская, г Ижевск, ул Ленина, д 17', '9a3e3c2f-6120-4963-bfe0-62c500105cec', '94000000000', 'dgp401@yandex.ru', '+73412658137', '', '09.07.2025', '31.12.2025', '00152300000000000', 'БЮДЖЕТНОЕ УЧРЕЖДЕНИЕ ЗДРАВООХРАНЕНИЯ УДМУРТСКОЙ РЕСПУБЛИКИ \"ДЕТСКАЯ ГОРОДСКАЯ КЛИНИЧЕСКАЯ ПОЛИКЛИНИКА № 2 МИНИСТЕРСТВА ЗДРАВООХРАНЕНИЯ УДМУРТСКОЙ РЕСПУБЛИКИ\"', 'БУЗ УР \"ДГКП № 2 МЗ УР\"', '1831039979', '183101001', '1021801151272', '1.2.643.5.1.13.13.12.2.18.1297', '75203', '13', '426056, Респ Удмуртская, г Ижевск, ул им Наговицына, д 10', '70fce765-cc63-4ffc-8bb7-03fe4bd0245d', '94000000000', 'dgkp2izh@ya.ru', '+73412430245', '', '09.07.2025', '31.12.2025')\n"
     ]
    },
    {
     "name": "stdout",
     "output_type": "stream",
     "text": [
      "2025-09-03 16:03:21,759 INFO sqlalchemy.engine.Engine INSERT INTO nsi.[ERMO] ([IDMO], [NAM_MOP], [NAM_MOK], [INN], [KPP], [OGRN], [OID_MO], [OKOPF], [OKFS], [ADDR_J], [ADDR_J_GAR], [OKTMO], [EMAIL], [PHONE], [FAX], [DATEBEG], [DATEEND]) VALUES (?, ?, ?, ?, ?, ?, ?, ?, ?, ?, ?, ?, ?, ?, ?, ?, ?), (?, ?,  ... 6357 characters truncated ... ?, ?, ?, ?, ?, ?, ?, ?, ?, ?, ?, ?, ?, ?, ?, ?), (?, ?, ?, ?, ?, ?, ?, ?, ?, ?, ?, ?, ?, ?, ?, ?, ?)\n"
     ]
    },
    {
     "name": "stderr",
     "output_type": "stream",
     "text": [
      "INFO:sqlalchemy.engine.Engine:INSERT INTO nsi.[ERMO] ([IDMO], [NAM_MOP], [NAM_MOK], [INN], [KPP], [OGRN], [OID_MO], [OKOPF], [OKFS], [ADDR_J], [ADDR_J_GAR], [OKTMO], [EMAIL], [PHONE], [FAX], [DATEBEG], [DATEEND]) VALUES (?, ?, ?, ?, ?, ?, ?, ?, ?, ?, ?, ?, ?, ?, ?, ?, ?), (?, ?,  ... 6357 characters truncated ... ?, ?, ?, ?, ?, ?, ?, ?, ?, ?, ?, ?, ?, ?, ?, ?), (?, ?, ?, ?, ?, ?, ?, ?, ?, ?, ?, ?, ?, ?, ?, ?, ?)\n"
     ]
    },
    {
     "name": "stdout",
     "output_type": "stream",
     "text": [
      "2025-09-03 16:03:21,762 INFO sqlalchemy.engine.Engine [insertmanyvalues 11/72 (unordered)] ('00152400000000000', 'БЮДЖЕТНОЕ УЧРЕЖДЕНИЕ ЗДРАВООХРАНЕНИЯ УДМУРТСКОЙ РЕСПУБЛИКИ \"ДЕТСКАЯ ГОРОДСКАЯ КЛИНИЧЕСКАЯ ПОЛИКЛИНИКА № 5 МИНИСТЕРСТВА ЗДРАВООХРАНЕНИЯ УДМУРТСКОЙ РЕСПУБЛИКИ\"', 'БУЗ УР \"ДГКП № 5 МЗ УР\"', '1835032798', '184101001', '1021801657404', '1.2.643.5.1.13.13.12.2.18.1313', '75203', '13', '426063, Респ Удмуртская, г Ижевск, ул Воровского, д 135', 'b20ea010-1acb-47a8-a4b7-5cc679cc98a7', '94000000000', 'buz-dgkp5@bk.ru', '+73412685804', '', '09.07.2025', '31.12.2025', '00152500000000000', 'БЮДЖЕТНОЕ УЧРЕЖДЕНИЕ ЗДРАВООХРАНЕНИЯ УДМУРТСКОЙ РЕСПУБЛИКИ \"ДЕТСКАЯ ГОРОДСКАЯ ПОЛИКЛИНИКА № 6 МИНИСТЕРСТВА ЗДРАВООХРАНЕНИЯ УДМУРТСКОЙ РЕСПУБЛИКИ\"', 'БУЗ УР \"ДГП № 6 МЗ УР\"', '1832019950', '183201001', '1021801435710', '1.2.643.5.1.13.13.12.2.18.1291', '75203', '13', '426006, Респ Удмуртская, г Ижевск, ул Баранова, д 48', '5fa41f18-2469-4250-8912-324697bd41ee', '94000000000', 'BUZ.DGP6.IZH@YANDEX.RU', '+73412548116', '', '05.02.2025', '31.12.2025', '00152600000000000', 'БЮДЖЕТНОЕ УЧРЕЖДЕНИЕ ЗДРАВООХРАНЕНИЯ УДМУРТСКОЙ РЕСПУБЛИКИ \"ДЕТСКАЯ ГОРОДСКАЯ КЛИНИЧЕСКАЯ ПОЛИКЛИНИКА № 8 МИНИСТЕРСТВА ЗДРАВООХРАНЕНИЯ УДМУРТСКОЙ РЕСПУБЛИКИ\"', 'БУЗ УР \"ДГКП № 8 МЗ УР\"', '1834501172', '184001001', '1021801585520', '1.2.643.5.1.13.13.12.2.18.1324', '75203', '13', '426072, Респ Удмуртская, г Ижевск, ул 40 лет Победы, д 70а', '173d9671-078b-4d2e-82a8-f2cf276ca5d0', '94000000000', 'dgkp8-priem@yandex.ru', '+73412362365', '', '09.07.2025' ... 1991 parameters truncated ... 'ОБЩЕСТВО С ОГРАНИЧЕННОЙ ОТВЕТСТВЕННОСТЬЮ \"ПАНТЕОН\"', 'ООО \"ПАНТЕОН\"', '1901087369', '190101001', '1081901004844', '1.2.643.5.1.13.13.12.2.19.20344', '12300', '16', '655017, Респ Хакасия, г Абакан, ул Вокзальная, д 28, кв 79Н', '0df05671-27e2-454e-aa6b-02dcbc2c9ad9', '95000000000', 'panteon.adm@mail.ru', '+79233936333', '', '14.07.2025', '31.12.2025', '00168500000000000', 'ОБЩЕСТВО С ОГРАНИЧЕННОЙ ОТВЕТСТВЕННОСТЬЮ НЕГОСУДАРСТВЕННОЕ УЧРЕЖДЕНИЕ ЗДРАВООХРАНЕНИЯ МЕДИЦИНСКИЙ ЦЕНТР \"МЕДИС\"', 'ООО НУЗ М/Ц \"МЕДИС\"', '2455016752', '190301001', '1022401537927', '1.2.643.5.1.13.13.12.2.19.20322', '12300', '16', '655158, Респ Хакасия, г Черногорск, ул Советская, д 90, кв 91Н', '56ac10d3-756a-4d29-b262-08fff734ddf3', '95000000000', 'OOO.MEDIS@MAIL.RU', '+79232138213', '', '15.08.2025', '31.12.2025', '00168600000000000', 'ОБЩЕСТВО С ОГРАНИЧЕННОЙ ОТВЕТСТВЕННОСТЬЮ \"ГРАНД МЕДИКА\"', 'ООО \"ГРАНД МЕДИКА\"', '4217162879', '421701001', '1144217003490', '1.2.643.5.1.13.13.12.2.42.10326', '12300', '16', '654007, обл Кемеровская область - Кузбасс, г Новокузнецк, р-н Центральный, пр-кт Кузнецкстроевский, д 11', '82a6887e-bc16-4cbe-9cc6-5ec71649de93', '32000000000', 'E.TITOVA@GM.CLINIC', '+73843993932', '', '14.08.2025', '31.12.2025')\n"
     ]
    },
    {
     "name": "stderr",
     "output_type": "stream",
     "text": [
      "INFO:sqlalchemy.engine.Engine:[insertmanyvalues 11/72 (unordered)] ('00152400000000000', 'БЮДЖЕТНОЕ УЧРЕЖДЕНИЕ ЗДРАВООХРАНЕНИЯ УДМУРТСКОЙ РЕСПУБЛИКИ \"ДЕТСКАЯ ГОРОДСКАЯ КЛИНИЧЕСКАЯ ПОЛИКЛИНИКА № 5 МИНИСТЕРСТВА ЗДРАВООХРАНЕНИЯ УДМУРТСКОЙ РЕСПУБЛИКИ\"', 'БУЗ УР \"ДГКП № 5 МЗ УР\"', '1835032798', '184101001', '1021801657404', '1.2.643.5.1.13.13.12.2.18.1313', '75203', '13', '426063, Респ Удмуртская, г Ижевск, ул Воровского, д 135', 'b20ea010-1acb-47a8-a4b7-5cc679cc98a7', '94000000000', 'buz-dgkp5@bk.ru', '+73412685804', '', '09.07.2025', '31.12.2025', '00152500000000000', 'БЮДЖЕТНОЕ УЧРЕЖДЕНИЕ ЗДРАВООХРАНЕНИЯ УДМУРТСКОЙ РЕСПУБЛИКИ \"ДЕТСКАЯ ГОРОДСКАЯ ПОЛИКЛИНИКА № 6 МИНИСТЕРСТВА ЗДРАВООХРАНЕНИЯ УДМУРТСКОЙ РЕСПУБЛИКИ\"', 'БУЗ УР \"ДГП № 6 МЗ УР\"', '1832019950', '183201001', '1021801435710', '1.2.643.5.1.13.13.12.2.18.1291', '75203', '13', '426006, Респ Удмуртская, г Ижевск, ул Баранова, д 48', '5fa41f18-2469-4250-8912-324697bd41ee', '94000000000', 'BUZ.DGP6.IZH@YANDEX.RU', '+73412548116', '', '05.02.2025', '31.12.2025', '00152600000000000', 'БЮДЖЕТНОЕ УЧРЕЖДЕНИЕ ЗДРАВООХРАНЕНИЯ УДМУРТСКОЙ РЕСПУБЛИКИ \"ДЕТСКАЯ ГОРОДСКАЯ КЛИНИЧЕСКАЯ ПОЛИКЛИНИКА № 8 МИНИСТЕРСТВА ЗДРАВООХРАНЕНИЯ УДМУРТСКОЙ РЕСПУБЛИКИ\"', 'БУЗ УР \"ДГКП № 8 МЗ УР\"', '1834501172', '184001001', '1021801585520', '1.2.643.5.1.13.13.12.2.18.1324', '75203', '13', '426072, Респ Удмуртская, г Ижевск, ул 40 лет Победы, д 70а', '173d9671-078b-4d2e-82a8-f2cf276ca5d0', '94000000000', 'dgkp8-priem@yandex.ru', '+73412362365', '', '09.07.2025' ... 1991 parameters truncated ... 'ОБЩЕСТВО С ОГРАНИЧЕННОЙ ОТВЕТСТВЕННОСТЬЮ \"ПАНТЕОН\"', 'ООО \"ПАНТЕОН\"', '1901087369', '190101001', '1081901004844', '1.2.643.5.1.13.13.12.2.19.20344', '12300', '16', '655017, Респ Хакасия, г Абакан, ул Вокзальная, д 28, кв 79Н', '0df05671-27e2-454e-aa6b-02dcbc2c9ad9', '95000000000', 'panteon.adm@mail.ru', '+79233936333', '', '14.07.2025', '31.12.2025', '00168500000000000', 'ОБЩЕСТВО С ОГРАНИЧЕННОЙ ОТВЕТСТВЕННОСТЬЮ НЕГОСУДАРСТВЕННОЕ УЧРЕЖДЕНИЕ ЗДРАВООХРАНЕНИЯ МЕДИЦИНСКИЙ ЦЕНТР \"МЕДИС\"', 'ООО НУЗ М/Ц \"МЕДИС\"', '2455016752', '190301001', '1022401537927', '1.2.643.5.1.13.13.12.2.19.20322', '12300', '16', '655158, Респ Хакасия, г Черногорск, ул Советская, д 90, кв 91Н', '56ac10d3-756a-4d29-b262-08fff734ddf3', '95000000000', 'OOO.MEDIS@MAIL.RU', '+79232138213', '', '15.08.2025', '31.12.2025', '00168600000000000', 'ОБЩЕСТВО С ОГРАНИЧЕННОЙ ОТВЕТСТВЕННОСТЬЮ \"ГРАНД МЕДИКА\"', 'ООО \"ГРАНД МЕДИКА\"', '4217162879', '421701001', '1144217003490', '1.2.643.5.1.13.13.12.2.42.10326', '12300', '16', '654007, обл Кемеровская область - Кузбасс, г Новокузнецк, р-н Центральный, пр-кт Кузнецкстроевский, д 11', '82a6887e-bc16-4cbe-9cc6-5ec71649de93', '32000000000', 'E.TITOVA@GM.CLINIC', '+73843993932', '', '14.08.2025', '31.12.2025')\n"
     ]
    },
    {
     "name": "stdout",
     "output_type": "stream",
     "text": [
      "2025-09-03 16:03:21,892 INFO sqlalchemy.engine.Engine INSERT INTO nsi.[ERMO] ([IDMO], [NAM_MOP], [NAM_MOK], [INN], [KPP], [OGRN], [OID_MO], [OKOPF], [OKFS], [ADDR_J], [ADDR_J_GAR], [OKTMO], [EMAIL], [PHONE], [FAX], [DATEBEG], [DATEEND]) VALUES (?, ?, ?, ?, ?, ?, ?, ?, ?, ?, ?, ?, ?, ?, ?, ?, ?), (?, ?,  ... 6357 characters truncated ... ?, ?, ?, ?, ?, ?, ?, ?, ?, ?, ?, ?, ?, ?, ?, ?), (?, ?, ?, ?, ?, ?, ?, ?, ?, ?, ?, ?, ?, ?, ?, ?, ?)\n"
     ]
    },
    {
     "name": "stderr",
     "output_type": "stream",
     "text": [
      "INFO:sqlalchemy.engine.Engine:INSERT INTO nsi.[ERMO] ([IDMO], [NAM_MOP], [NAM_MOK], [INN], [KPP], [OGRN], [OID_MO], [OKOPF], [OKFS], [ADDR_J], [ADDR_J_GAR], [OKTMO], [EMAIL], [PHONE], [FAX], [DATEBEG], [DATEEND]) VALUES (?, ?, ?, ?, ?, ?, ?, ?, ?, ?, ?, ?, ?, ?, ?, ?, ?), (?, ?,  ... 6357 characters truncated ... ?, ?, ?, ?, ?, ?, ?, ?, ?, ?, ?, ?, ?, ?, ?, ?), (?, ?, ?, ?, ?, ?, ?, ?, ?, ?, ?, ?, ?, ?, ?, ?, ?)\n"
     ]
    },
    {
     "name": "stdout",
     "output_type": "stream",
     "text": [
      "2025-09-03 16:03:21,894 INFO sqlalchemy.engine.Engine [insertmanyvalues 12/72 (unordered)] ('00168800000000000', 'ОБЩЕСТВО С ОГРАНИЧЕННОЙ ОТВЕТСТВЕННОСТЬЮ \"МЕДИЦИНСКИЙ ЭНДОЦЕНТР ДОКТОРА ТИТОВА\"', 'ООО \"МЕДИЦИНСКИЙ ЭНДОЦЕНТР ДОКТОРА ТИТОВА\"', '1901129555', '190101001', '1161901051696', '1.2.643.5.1.13.13.12.2.19.13193', '12300', '16', '655004, Респ Хакасия, г Абакан, ул Хакасская, д 167, кв 190Н', '6f014460-561d-4ab5-98cf-3bea7286fca9', '95000000000', 'TITOV.ENDO@MAIL.RU', '+73902259059', '', '14.07.2025', '31.12.2025', '00169000000000000', 'ГОСУДАРСТВЕННОЕ БЮДЖЕТНОЕ УЧРЕЖДЕНИЕ ЗДРАВООХРАНЕНИЯ РЕСПУБЛИКИ ХАКАСИЯ \"РЕСПУБЛИКАНСКИЙ ЦЕНТР ПРОФИЛАКТИКИ И БОРЬБЫ СО СПИД\"', 'ГБУЗ РХ \"РЦПБ СПИД\"', '1901020942', '190101001', '1021900527329', '1.2.643.5.1.13.13.12.2.19.1402', '75203', '13', '655008, Респ Хакасия, г Абакан, ул Заводская, д 3/1', 'ed943e86-1c75-42e7-9a25-4b4b2b8deff6', '95000000000', 'aids@r-19.ru', '+73902285023', '', '14.07.2025', '31.12.2025', '00169100000000000', 'ОБЩЕСТВО С ОГРАНИЧЕННОЙ ОТВЕТСТВЕННОСТЬЮ \"ПОКРОВМЕД\"', 'ООО \"ПОКРОВМЕД\"', '2466196497', '190101001', '1182468059388', '1.2.643.5.1.13.13.12.2.19.20160', '12300', '16', '655017, Респ Хакасия, г Абакан, ул Карла Маркса, д 63, кв 87Н', 'ee52b87e-515d-48bf-8ccc-c700a0dc7d78', '95000000000', 'VARIKOZANET19@MAIL.RU', '+73902248648', '', '25.07.2025' ... 1991 parameters truncated ... 'БЮДЖЕТНОЕ УЧРЕЖДЕНИЕ ЧУВАШСКОЙ РЕСПУБЛИКИ \"ГОРОДСКАЯ ДЕТСКАЯ КЛИНИЧЕСКАЯ БОЛЬНИЦА\" МИНИСТЕРСТВА ЗДРАВООХРАНЕНИЯ ЧУВАШСКОЙ РЕСПУБЛИКИ', 'БУ \"ГОРОДСКАЯ ДЕТСКАЯ КЛИНИЧЕСКАЯ БОЛЬНИЦА\" МИНЗДРАВА ЧУВАШИИ', '2130200808', '213001001', '1182130005144', '1.2.643.5.1.13.13.12.2.21.10417', '75203', '13', '428028, Чувашия Чувашская Республика -, г Чебоксары, пр-кт Тракторостроителей, д 12', '9b8fc692-d383-41fe-b31c-1ab69d88cff2', '97000000000', 'gdkb-priem@med.cap.ru', '+78352709991', '', '14.08.2025', '31.12.2025', '00185700000000000', 'БЮДЖЕТНОЕ УЧРЕЖДЕНИЕ ЧУВАШСКОЙ РЕСПУБЛИКИ \"РЕСПУБЛИКАНСКИЙ ЦЕНТР МЕДИЦИНЫ КАТАСТРОФ И СКОРОЙ МЕДИЦИНСКОЙ ПОМОЩИ\" МИНИСТЕРСТВА ЗДРАВООХРАНЕНИЯ ЧУВАШСКОЙ РЕСПУБЛИКИ', 'БУ \"РЕСПУБЛИКАНСКИЙ ЦЕНТР МЕДИЦИНЫ КАТАСТРОФ И СКОРОЙ МЕДИЦИНСКОЙ ПОМОЩИ\" МИНЗДРАВА ЧУВАШИИ', '2130206831', '213001001', '1182130013218', '1.2.643.5.1.13.13.12.2.21.10817', '75203', '13', '428027, Чувашия Чувашская Республика -, г Чебоксары, пр-кт 9-й Пятилетки, д 10', '9ded3c36-800a-437f-9816-a7c78950ed1d', '97000000000', 'mk103@med.cap.ru', '+78352235577', '', '03.02.2025', '31.12.2025', '00185800000000000', 'ОБЩЕСТВО С ОГРАНИЧЕННОЙ ОТВЕТСТВЕННОСТЬЮ \"МЕДИКАР\"', 'ООО \"МЕДИКАР\"', '2130205387', '213001001', '1182130011140', '1.2.643.5.1.13.13.12.2.21.20651', '12300', '16', '428027, Чувашия Чувашская Республика -, г Чебоксары, б-р Эгерский, д 48, помещ. 7', 'ca55d641-19b2-4a50-8f9b-da2251f5812f', '97000000000', 'mcmedikar@yandex.ru', '+79530109588', '', '04.02.2025', '31.12.2025')\n"
     ]
    },
    {
     "name": "stderr",
     "output_type": "stream",
     "text": [
      "INFO:sqlalchemy.engine.Engine:[insertmanyvalues 12/72 (unordered)] ('00168800000000000', 'ОБЩЕСТВО С ОГРАНИЧЕННОЙ ОТВЕТСТВЕННОСТЬЮ \"МЕДИЦИНСКИЙ ЭНДОЦЕНТР ДОКТОРА ТИТОВА\"', 'ООО \"МЕДИЦИНСКИЙ ЭНДОЦЕНТР ДОКТОРА ТИТОВА\"', '1901129555', '190101001', '1161901051696', '1.2.643.5.1.13.13.12.2.19.13193', '12300', '16', '655004, Респ Хакасия, г Абакан, ул Хакасская, д 167, кв 190Н', '6f014460-561d-4ab5-98cf-3bea7286fca9', '95000000000', 'TITOV.ENDO@MAIL.RU', '+73902259059', '', '14.07.2025', '31.12.2025', '00169000000000000', 'ГОСУДАРСТВЕННОЕ БЮДЖЕТНОЕ УЧРЕЖДЕНИЕ ЗДРАВООХРАНЕНИЯ РЕСПУБЛИКИ ХАКАСИЯ \"РЕСПУБЛИКАНСКИЙ ЦЕНТР ПРОФИЛАКТИКИ И БОРЬБЫ СО СПИД\"', 'ГБУЗ РХ \"РЦПБ СПИД\"', '1901020942', '190101001', '1021900527329', '1.2.643.5.1.13.13.12.2.19.1402', '75203', '13', '655008, Респ Хакасия, г Абакан, ул Заводская, д 3/1', 'ed943e86-1c75-42e7-9a25-4b4b2b8deff6', '95000000000', 'aids@r-19.ru', '+73902285023', '', '14.07.2025', '31.12.2025', '00169100000000000', 'ОБЩЕСТВО С ОГРАНИЧЕННОЙ ОТВЕТСТВЕННОСТЬЮ \"ПОКРОВМЕД\"', 'ООО \"ПОКРОВМЕД\"', '2466196497', '190101001', '1182468059388', '1.2.643.5.1.13.13.12.2.19.20160', '12300', '16', '655017, Респ Хакасия, г Абакан, ул Карла Маркса, д 63, кв 87Н', 'ee52b87e-515d-48bf-8ccc-c700a0dc7d78', '95000000000', 'VARIKOZANET19@MAIL.RU', '+73902248648', '', '25.07.2025' ... 1991 parameters truncated ... 'БЮДЖЕТНОЕ УЧРЕЖДЕНИЕ ЧУВАШСКОЙ РЕСПУБЛИКИ \"ГОРОДСКАЯ ДЕТСКАЯ КЛИНИЧЕСКАЯ БОЛЬНИЦА\" МИНИСТЕРСТВА ЗДРАВООХРАНЕНИЯ ЧУВАШСКОЙ РЕСПУБЛИКИ', 'БУ \"ГОРОДСКАЯ ДЕТСКАЯ КЛИНИЧЕСКАЯ БОЛЬНИЦА\" МИНЗДРАВА ЧУВАШИИ', '2130200808', '213001001', '1182130005144', '1.2.643.5.1.13.13.12.2.21.10417', '75203', '13', '428028, Чувашия Чувашская Республика -, г Чебоксары, пр-кт Тракторостроителей, д 12', '9b8fc692-d383-41fe-b31c-1ab69d88cff2', '97000000000', 'gdkb-priem@med.cap.ru', '+78352709991', '', '14.08.2025', '31.12.2025', '00185700000000000', 'БЮДЖЕТНОЕ УЧРЕЖДЕНИЕ ЧУВАШСКОЙ РЕСПУБЛИКИ \"РЕСПУБЛИКАНСКИЙ ЦЕНТР МЕДИЦИНЫ КАТАСТРОФ И СКОРОЙ МЕДИЦИНСКОЙ ПОМОЩИ\" МИНИСТЕРСТВА ЗДРАВООХРАНЕНИЯ ЧУВАШСКОЙ РЕСПУБЛИКИ', 'БУ \"РЕСПУБЛИКАНСКИЙ ЦЕНТР МЕДИЦИНЫ КАТАСТРОФ И СКОРОЙ МЕДИЦИНСКОЙ ПОМОЩИ\" МИНЗДРАВА ЧУВАШИИ', '2130206831', '213001001', '1182130013218', '1.2.643.5.1.13.13.12.2.21.10817', '75203', '13', '428027, Чувашия Чувашская Республика -, г Чебоксары, пр-кт 9-й Пятилетки, д 10', '9ded3c36-800a-437f-9816-a7c78950ed1d', '97000000000', 'mk103@med.cap.ru', '+78352235577', '', '03.02.2025', '31.12.2025', '00185800000000000', 'ОБЩЕСТВО С ОГРАНИЧЕННОЙ ОТВЕТСТВЕННОСТЬЮ \"МЕДИКАР\"', 'ООО \"МЕДИКАР\"', '2130205387', '213001001', '1182130011140', '1.2.643.5.1.13.13.12.2.21.20651', '12300', '16', '428027, Чувашия Чувашская Республика -, г Чебоксары, б-р Эгерский, д 48, помещ. 7', 'ca55d641-19b2-4a50-8f9b-da2251f5812f', '97000000000', 'mcmedikar@yandex.ru', '+79530109588', '', '04.02.2025', '31.12.2025')\n"
     ]
    },
    {
     "name": "stdout",
     "output_type": "stream",
     "text": [
      "2025-09-03 16:03:22,010 INFO sqlalchemy.engine.Engine INSERT INTO nsi.[ERMO] ([IDMO], [NAM_MOP], [NAM_MOK], [INN], [KPP], [OGRN], [OID_MO], [OKOPF], [OKFS], [ADDR_J], [ADDR_J_GAR], [OKTMO], [EMAIL], [PHONE], [FAX], [DATEBEG], [DATEEND]) VALUES (?, ?, ?, ?, ?, ?, ?, ?, ?, ?, ?, ?, ?, ?, ?, ?, ?), (?, ?,  ... 6357 characters truncated ... ?, ?, ?, ?, ?, ?, ?, ?, ?, ?, ?, ?, ?, ?, ?, ?), (?, ?, ?, ?, ?, ?, ?, ?, ?, ?, ?, ?, ?, ?, ?, ?, ?)\n"
     ]
    },
    {
     "name": "stderr",
     "output_type": "stream",
     "text": [
      "INFO:sqlalchemy.engine.Engine:INSERT INTO nsi.[ERMO] ([IDMO], [NAM_MOP], [NAM_MOK], [INN], [KPP], [OGRN], [OID_MO], [OKOPF], [OKFS], [ADDR_J], [ADDR_J_GAR], [OKTMO], [EMAIL], [PHONE], [FAX], [DATEBEG], [DATEEND]) VALUES (?, ?, ?, ?, ?, ?, ?, ?, ?, ?, ?, ?, ?, ?, ?, ?, ?), (?, ?,  ... 6357 characters truncated ... ?, ?, ?, ?, ?, ?, ?, ?, ?, ?, ?, ?, ?, ?, ?, ?), (?, ?, ?, ?, ?, ?, ?, ?, ?, ?, ?, ?, ?, ?, ?, ?, ?)\n"
     ]
    },
    {
     "name": "stdout",
     "output_type": "stream",
     "text": [
      "2025-09-03 16:03:22,011 INFO sqlalchemy.engine.Engine [insertmanyvalues 13/72 (unordered)] ('00186200000000000', 'БЮДЖЕТНОЕ УЧРЕЖДЕНИЕ ЧУВАШСКОЙ РЕСПУБЛИКИ \"РЕСПУБЛИКАНСКИЙ ПРОТИВОТУБЕРКУЛЕЗНЫЙ ДИСПАНСЕР\" МИНИСТЕРСТВА ЗДРАВООХРАНЕНИЯ ЧУВАШСКОЙ РЕСПУБЛИКИ', 'БУ \"РЕСПУБЛИКАНСКИЙ ПРОТИВОТУБЕРКУЛЕЗНЫЙ ДИСПАНСЕР\" МИНЗДРАВА ЧУВАШИИ', '2129009518', '213001001', '1022101287768', '1.2.643.5.1.13.13.12.2.21.1541', '75204', '13', '428034, Чувашия Чувашская Республика -, г Чебоксары, ул Пирогова, д 4В', '1a29bfe7-85c1-4805-addd-c6ff9b1f8dbd', '97000000000', 'rptd@med.cap.ru', '+78352585709', '', '09.04.2025', '31.12.2025', '00186500000000000', 'ОБЩЕСТВО С ОГРАНИЧЕННОЙ ОТВЕТСТВЕННОСТЬЮ \"ЦЕНТР ЭКО\"', 'ООО \"ЦЕНТР ЭКО\"', '6950033615', '213001001', '1156952007805', '1.2.643.5.1.13.13.12.2.21.18215', '12300', '16', '428014, Чувашия Чувашская Республика -, г Чебоксары, ул Волкова, д 4', 'eaa48947-af96-477b-9c1e-8fd9e3a09337', '97000000000', 'centereko@eko-cheboksary.ru', '+74952155544', '', '03.02.2025', '31.12.2025', '00187200000000000', 'ОБЩЕСТВО С ОГРАНИЧЕННОЙ ОТВЕТСТВЕННОСТЬЮ \"ЯДЕРНЫЕ МЕДИЦИНСКИЕ ТЕХНОЛОГИИ\"', 'ООО \"ЯМТ\"', '9729272496', '772901001', '1187746566886', '1.2.643.5.1.13.13.12.2.77.12344', '12300', '16', '119415, г Москва, ул Лобачевского, д. 42 стр. 4', '23ac56e4-5523-4336-aeeb-b8ec161342e5', '45000000000', 'R.ERESHKIN@PETROVKAMED.RU', '+74999993131', '', '12.08.2025' ... 1991 parameters truncated ... 'КРАЕВОЕ ГОСУДАРСТВЕННОЕ БЮДЖЕТНОЕ УЧРЕЖДЕНИЕ ЗДРАВООХРАНЕНИЯ \"АЛТАЙСКИЙ ВРАЧЕБНО-ФИЗКУЛЬТУРНЫЙ ДИСПАНСЕР\"', 'КГБУЗ \"АЛТВФД\", \"АВФД\"', '2225017825', '222101001', '1022201766190', '1.2.643.5.1.13.13.12.2.22.1654', '75203', '13', '656064, край Алтайский, г Барнаул, ул Автотранспортная, д 41А', '4f355342-689e-41cc-b72e-0f29f966617c', '01000000000', 'avfd@zdravalt.ru', '+73852205686', '', '22.05.2025', '31.12.2025', '00200000000000000', 'ОБЩЕСТВО С ОГРАНИЧЕННОЙ ОТВЕТСТВЕННОСТЬЮ КОНСУЛЬТАТИВНО-ДИАГНОСТИЧЕСКИЙ ЦЕНТР\" ДОБРЫЙ ДОКТОР\"', 'ООО КДЦ \"ДОБРЫЙ ДОКТОР\"', '2221003116', '222401001', '1022200896486', '1.2.643.5.1.13.13.12.2.22.12378', '12300', '16', '656010, край Алтайский, г Барнаул, ул Петра Сухова, д 42', '801ef144-f1d2-4724-b032-1d75f2423201', '01000000000', 'wista13@mail.ru', '+73852201004', '', '13.05.2025', '31.12.2025', '00200300000000000', 'ФЕДЕРАЛЬНОЕ ГОСУДАРСТВЕННОЕ БЮДЖЕТНОЕ ОБРАЗОВАТЕЛЬНОЕ УЧРЕЖДЕНИЕ ВЫСШЕГО ОБРАЗОВАНИЯ \"АЛТАЙСКИЙ ГОСУДАРСТВЕННЫЙ МЕДИЦИНСКИЙ УНИВЕРСИТЕТ\" МИНИСТЕРСТВА ЗДРАВООХРАНЕНИЯ РОССИЙСКОЙ ФЕДЕРАЦИИ', 'ФГБОУ ВО АГМУ МИНЗДРАВА РОССИИ', '2225003156', '222501001', '1022201762164', '1.2.643.5.1.13.13.12.2.22.9557', '75103', '12', '656038, край Алтайский, г Барнаул, пр-кт Ленина, д 40', '2c0955af-e1aa-445b-8756-31410124826a', '01000000000', 'rector@asmu.ru', '+73852757822', '', '04.06.2025', '31.12.2025')\n"
     ]
    },
    {
     "name": "stderr",
     "output_type": "stream",
     "text": [
      "INFO:sqlalchemy.engine.Engine:[insertmanyvalues 13/72 (unordered)] ('00186200000000000', 'БЮДЖЕТНОЕ УЧРЕЖДЕНИЕ ЧУВАШСКОЙ РЕСПУБЛИКИ \"РЕСПУБЛИКАНСКИЙ ПРОТИВОТУБЕРКУЛЕЗНЫЙ ДИСПАНСЕР\" МИНИСТЕРСТВА ЗДРАВООХРАНЕНИЯ ЧУВАШСКОЙ РЕСПУБЛИКИ', 'БУ \"РЕСПУБЛИКАНСКИЙ ПРОТИВОТУБЕРКУЛЕЗНЫЙ ДИСПАНСЕР\" МИНЗДРАВА ЧУВАШИИ', '2129009518', '213001001', '1022101287768', '1.2.643.5.1.13.13.12.2.21.1541', '75204', '13', '428034, Чувашия Чувашская Республика -, г Чебоксары, ул Пирогова, д 4В', '1a29bfe7-85c1-4805-addd-c6ff9b1f8dbd', '97000000000', 'rptd@med.cap.ru', '+78352585709', '', '09.04.2025', '31.12.2025', '00186500000000000', 'ОБЩЕСТВО С ОГРАНИЧЕННОЙ ОТВЕТСТВЕННОСТЬЮ \"ЦЕНТР ЭКО\"', 'ООО \"ЦЕНТР ЭКО\"', '6950033615', '213001001', '1156952007805', '1.2.643.5.1.13.13.12.2.21.18215', '12300', '16', '428014, Чувашия Чувашская Республика -, г Чебоксары, ул Волкова, д 4', 'eaa48947-af96-477b-9c1e-8fd9e3a09337', '97000000000', 'centereko@eko-cheboksary.ru', '+74952155544', '', '03.02.2025', '31.12.2025', '00187200000000000', 'ОБЩЕСТВО С ОГРАНИЧЕННОЙ ОТВЕТСТВЕННОСТЬЮ \"ЯДЕРНЫЕ МЕДИЦИНСКИЕ ТЕХНОЛОГИИ\"', 'ООО \"ЯМТ\"', '9729272496', '772901001', '1187746566886', '1.2.643.5.1.13.13.12.2.77.12344', '12300', '16', '119415, г Москва, ул Лобачевского, д. 42 стр. 4', '23ac56e4-5523-4336-aeeb-b8ec161342e5', '45000000000', 'R.ERESHKIN@PETROVKAMED.RU', '+74999993131', '', '12.08.2025' ... 1991 parameters truncated ... 'КРАЕВОЕ ГОСУДАРСТВЕННОЕ БЮДЖЕТНОЕ УЧРЕЖДЕНИЕ ЗДРАВООХРАНЕНИЯ \"АЛТАЙСКИЙ ВРАЧЕБНО-ФИЗКУЛЬТУРНЫЙ ДИСПАНСЕР\"', 'КГБУЗ \"АЛТВФД\", \"АВФД\"', '2225017825', '222101001', '1022201766190', '1.2.643.5.1.13.13.12.2.22.1654', '75203', '13', '656064, край Алтайский, г Барнаул, ул Автотранспортная, д 41А', '4f355342-689e-41cc-b72e-0f29f966617c', '01000000000', 'avfd@zdravalt.ru', '+73852205686', '', '22.05.2025', '31.12.2025', '00200000000000000', 'ОБЩЕСТВО С ОГРАНИЧЕННОЙ ОТВЕТСТВЕННОСТЬЮ КОНСУЛЬТАТИВНО-ДИАГНОСТИЧЕСКИЙ ЦЕНТР\" ДОБРЫЙ ДОКТОР\"', 'ООО КДЦ \"ДОБРЫЙ ДОКТОР\"', '2221003116', '222401001', '1022200896486', '1.2.643.5.1.13.13.12.2.22.12378', '12300', '16', '656010, край Алтайский, г Барнаул, ул Петра Сухова, д 42', '801ef144-f1d2-4724-b032-1d75f2423201', '01000000000', 'wista13@mail.ru', '+73852201004', '', '13.05.2025', '31.12.2025', '00200300000000000', 'ФЕДЕРАЛЬНОЕ ГОСУДАРСТВЕННОЕ БЮДЖЕТНОЕ ОБРАЗОВАТЕЛЬНОЕ УЧРЕЖДЕНИЕ ВЫСШЕГО ОБРАЗОВАНИЯ \"АЛТАЙСКИЙ ГОСУДАРСТВЕННЫЙ МЕДИЦИНСКИЙ УНИВЕРСИТЕТ\" МИНИСТЕРСТВА ЗДРАВООХРАНЕНИЯ РОССИЙСКОЙ ФЕДЕРАЦИИ', 'ФГБОУ ВО АГМУ МИНЗДРАВА РОССИИ', '2225003156', '222501001', '1022201762164', '1.2.643.5.1.13.13.12.2.22.9557', '75103', '12', '656038, край Алтайский, г Барнаул, пр-кт Ленина, д 40', '2c0955af-e1aa-445b-8756-31410124826a', '01000000000', 'rector@asmu.ru', '+73852757822', '', '04.06.2025', '31.12.2025')\n"
     ]
    },
    {
     "name": "stdout",
     "output_type": "stream",
     "text": [
      "2025-09-03 16:03:22,117 INFO sqlalchemy.engine.Engine INSERT INTO nsi.[ERMO] ([IDMO], [NAM_MOP], [NAM_MOK], [INN], [KPP], [OGRN], [OID_MO], [OKOPF], [OKFS], [ADDR_J], [ADDR_J_GAR], [OKTMO], [EMAIL], [PHONE], [FAX], [DATEBEG], [DATEEND]) VALUES (?, ?, ?, ?, ?, ?, ?, ?, ?, ?, ?, ?, ?, ?, ?, ?, ?), (?, ?,  ... 6357 characters truncated ... ?, ?, ?, ?, ?, ?, ?, ?, ?, ?, ?, ?, ?, ?, ?, ?), (?, ?, ?, ?, ?, ?, ?, ?, ?, ?, ?, ?, ?, ?, ?, ?, ?)\n"
     ]
    },
    {
     "name": "stderr",
     "output_type": "stream",
     "text": [
      "INFO:sqlalchemy.engine.Engine:INSERT INTO nsi.[ERMO] ([IDMO], [NAM_MOP], [NAM_MOK], [INN], [KPP], [OGRN], [OID_MO], [OKOPF], [OKFS], [ADDR_J], [ADDR_J_GAR], [OKTMO], [EMAIL], [PHONE], [FAX], [DATEBEG], [DATEEND]) VALUES (?, ?, ?, ?, ?, ?, ?, ?, ?, ?, ?, ?, ?, ?, ?, ?, ?), (?, ?,  ... 6357 characters truncated ... ?, ?, ?, ?, ?, ?, ?, ?, ?, ?, ?, ?, ?, ?, ?, ?), (?, ?, ?, ?, ?, ?, ?, ?, ?, ?, ?, ?, ?, ?, ?, ?, ?)\n"
     ]
    },
    {
     "name": "stdout",
     "output_type": "stream",
     "text": [
      "2025-09-03 16:03:22,120 INFO sqlalchemy.engine.Engine [insertmanyvalues 14/72 (unordered)] ('00200400000000000', 'ОБЩЕСТВО С ОГРАНИЧЕННОЙ ОТВЕТСТВЕННОСТЬЮ \"МЕДИЦИНСКИЙ КОНСУЛЬТАТИВНО-ДИАГНОСТИЧЕСКИЙ ЦЕНТР \"ВОСТОК-МЕД\"', 'ООО \"МКДЦ \"ВОСТОК МЕД\"', '2222036700', '222201001', '1022201131424', '1.2.643.5.1.13.13.12.2.22.12512', '12300', '16', '656067, край Алтайский, г Барнаул, ул Шумакова, д 16', '154bc655-0688-4559-9417-b0a7c350dad1', '01000000000', 'VOSTOCK.MED@YANDEX.RU', '+73852453200', '', '07.05.2025', '31.12.2025', '00200500000000000', 'ОБЩЕСТВО С ОГРАНИЧЕННОЙ ОТВЕТСТВЕННОСТЬЮ \"ЦЕНТР ВОССТАНОВИТЕЛЬНОЙ МЕДИЦИНЫ И РЕАБИЛИТАЦИИ \"ПИГМАЛИОН\"\"', 'ООО \"ЦВМР \"ПИГМАЛИОН\"\"', '2225060250', '222201001', '1032202272013', '1.2.643.5.1.13.13.12.2.22.18036', '12300', '16', '656064, край Алтайский, г Барнаул, тракт Павловский, д 221', 'd8a22675-84fa-4b40-bcbe-85b073eca96f', '01000000000', 'PIGMALION_CENTER@MAIL.RU', '+79039902226', '', '20.01.2025', '31.12.2025', '00200600000000000', 'ОБЩЕСТВО С ОГРАНИЧЕННОЙ ОТВЕТСТВЕННОСТЬЮ \"ЦЕНТР ВОССТАНОВИТЕЛЬНОЙ МЕДИЦИНЫ И РЕАБИЛИТАЦИИ \"ГАЛАТЕЯ\"', 'ООО \"ЦВМР \"ГАЛАТЕЯ\"', '2225070593', '222501001', '1052202307244', '1.2.643.5.1.13.13.12.2.22.17216', '12300', '16', '656049, край Алтайский, г Барнаул, ул Песчаная, д 89', '501fa115-5682-4488-a0e2-814557a2e5c8', '01000000000', 'PIGMALION_CENTER@MAIL.RU', '+79039902226', '', '06.05.2025' ... 1991 parameters truncated ... 'ГОСУДАРСТВЕННОЕ БЮДЖЕТНОЕ УЧРЕЖДЕНИЕ ЗДРАВООХРАНЕНИЯ \"ГОРОДСКАЯ БОЛЬНИЦА № 2 ГОРОДА НОВОРОССИЙСКА\" МИНИСТЕРСТВА ЗДРАВООХРАНЕНИЯ КРАСНОДАРСКОГО КРАЯ', 'ГБУЗ \"ГБ № 2 Г. НОВОРОССИЙСКА\" МЗ КК', '2315077280', '231501001', '1032309088096', '1.2.643.5.1.13.13.12.2.23.1926', '75203', '13', '353913, край Краснодарский, г Новороссийск, пр-кт Ленина, д 46', '4eda007f-b9be-4ea5-bafc-ef612fa83d81', '03000000000', 'info@5pol.ru', '+78617716730', '', '19.02.2025', '31.12.2025', '00215800000000000', 'ГОСУДАРСТВЕННОЕ АВТОНОМНОЕ УЧРЕЖДЕНИЕ ЗДРАВООХРАНЕНИЯ \"ПЕРИНАТАЛЬНЫЙ ЦЕНТР ГОРОДА НОВОРОССИЙСКА\" МИНИСТЕРСТВА ЗДРАВООХРАНЕНИЯ КРАСНОДАРСКОГО КРАЯ', 'ГАУЗ \"ПЦ Г. НОВОРОССИЙСКА\" МЗ КК', '2315158651', '231501001', '1102315001062', '1.2.643.5.1.13.13.12.2.23.1879', '75201', '13', ', край Краснодарский, г Новороссийск, ул Революции 1905 года, д 30', '586ff4fe-ce4f-4b0f-9e7c-33b4436d9851', '03000000000', 'mail@nvrsk-pc.ru', '+78617645619', '', '10.06.2025', '31.12.2025', '00215900000000000', 'ГОСУДАРСТВЕННОЕ АВТОНОМНОЕ УЧРЕЖДЕНИЕ ЗДРАВООХРАНЕНИЯ \"КЛИНИКО-ДИАГНОСТИЧЕСКИЙ ЦЕНТР ГОРОДА НОВОРОССИЙСКА\" МИНИСТЕРСТВА ЗДРАВООХРАНЕНИЯ КРАСНОДАРСКОГО КРАЯ', 'ГАУЗ \"КДЦ Г.НОВОРОССИЙСКА\" МЗ КК', '2315160643', '231501001', '1102315002954', '1.2.643.5.1.13.13.12.2.23.1801', '75201', '13', ', край Краснодарский, г Новороссийск, ул Революции 1905 года, д 30', '586ff4fe-ce4f-4b0f-9e7c-33b4436d9851', '03000000000', 'nvrsk-mdc@yandx.ru', '+78617677766', '', '10.03.2025', '31.12.2025')\n"
     ]
    },
    {
     "name": "stderr",
     "output_type": "stream",
     "text": [
      "INFO:sqlalchemy.engine.Engine:[insertmanyvalues 14/72 (unordered)] ('00200400000000000', 'ОБЩЕСТВО С ОГРАНИЧЕННОЙ ОТВЕТСТВЕННОСТЬЮ \"МЕДИЦИНСКИЙ КОНСУЛЬТАТИВНО-ДИАГНОСТИЧЕСКИЙ ЦЕНТР \"ВОСТОК-МЕД\"', 'ООО \"МКДЦ \"ВОСТОК МЕД\"', '2222036700', '222201001', '1022201131424', '1.2.643.5.1.13.13.12.2.22.12512', '12300', '16', '656067, край Алтайский, г Барнаул, ул Шумакова, д 16', '154bc655-0688-4559-9417-b0a7c350dad1', '01000000000', 'VOSTOCK.MED@YANDEX.RU', '+73852453200', '', '07.05.2025', '31.12.2025', '00200500000000000', 'ОБЩЕСТВО С ОГРАНИЧЕННОЙ ОТВЕТСТВЕННОСТЬЮ \"ЦЕНТР ВОССТАНОВИТЕЛЬНОЙ МЕДИЦИНЫ И РЕАБИЛИТАЦИИ \"ПИГМАЛИОН\"\"', 'ООО \"ЦВМР \"ПИГМАЛИОН\"\"', '2225060250', '222201001', '1032202272013', '1.2.643.5.1.13.13.12.2.22.18036', '12300', '16', '656064, край Алтайский, г Барнаул, тракт Павловский, д 221', 'd8a22675-84fa-4b40-bcbe-85b073eca96f', '01000000000', 'PIGMALION_CENTER@MAIL.RU', '+79039902226', '', '20.01.2025', '31.12.2025', '00200600000000000', 'ОБЩЕСТВО С ОГРАНИЧЕННОЙ ОТВЕТСТВЕННОСТЬЮ \"ЦЕНТР ВОССТАНОВИТЕЛЬНОЙ МЕДИЦИНЫ И РЕАБИЛИТАЦИИ \"ГАЛАТЕЯ\"', 'ООО \"ЦВМР \"ГАЛАТЕЯ\"', '2225070593', '222501001', '1052202307244', '1.2.643.5.1.13.13.12.2.22.17216', '12300', '16', '656049, край Алтайский, г Барнаул, ул Песчаная, д 89', '501fa115-5682-4488-a0e2-814557a2e5c8', '01000000000', 'PIGMALION_CENTER@MAIL.RU', '+79039902226', '', '06.05.2025' ... 1991 parameters truncated ... 'ГОСУДАРСТВЕННОЕ БЮДЖЕТНОЕ УЧРЕЖДЕНИЕ ЗДРАВООХРАНЕНИЯ \"ГОРОДСКАЯ БОЛЬНИЦА № 2 ГОРОДА НОВОРОССИЙСКА\" МИНИСТЕРСТВА ЗДРАВООХРАНЕНИЯ КРАСНОДАРСКОГО КРАЯ', 'ГБУЗ \"ГБ № 2 Г. НОВОРОССИЙСКА\" МЗ КК', '2315077280', '231501001', '1032309088096', '1.2.643.5.1.13.13.12.2.23.1926', '75203', '13', '353913, край Краснодарский, г Новороссийск, пр-кт Ленина, д 46', '4eda007f-b9be-4ea5-bafc-ef612fa83d81', '03000000000', 'info@5pol.ru', '+78617716730', '', '19.02.2025', '31.12.2025', '00215800000000000', 'ГОСУДАРСТВЕННОЕ АВТОНОМНОЕ УЧРЕЖДЕНИЕ ЗДРАВООХРАНЕНИЯ \"ПЕРИНАТАЛЬНЫЙ ЦЕНТР ГОРОДА НОВОРОССИЙСКА\" МИНИСТЕРСТВА ЗДРАВООХРАНЕНИЯ КРАСНОДАРСКОГО КРАЯ', 'ГАУЗ \"ПЦ Г. НОВОРОССИЙСКА\" МЗ КК', '2315158651', '231501001', '1102315001062', '1.2.643.5.1.13.13.12.2.23.1879', '75201', '13', ', край Краснодарский, г Новороссийск, ул Революции 1905 года, д 30', '586ff4fe-ce4f-4b0f-9e7c-33b4436d9851', '03000000000', 'mail@nvrsk-pc.ru', '+78617645619', '', '10.06.2025', '31.12.2025', '00215900000000000', 'ГОСУДАРСТВЕННОЕ АВТОНОМНОЕ УЧРЕЖДЕНИЕ ЗДРАВООХРАНЕНИЯ \"КЛИНИКО-ДИАГНОСТИЧЕСКИЙ ЦЕНТР ГОРОДА НОВОРОССИЙСКА\" МИНИСТЕРСТВА ЗДРАВООХРАНЕНИЯ КРАСНОДАРСКОГО КРАЯ', 'ГАУЗ \"КДЦ Г.НОВОРОССИЙСКА\" МЗ КК', '2315160643', '231501001', '1102315002954', '1.2.643.5.1.13.13.12.2.23.1801', '75201', '13', ', край Краснодарский, г Новороссийск, ул Революции 1905 года, д 30', '586ff4fe-ce4f-4b0f-9e7c-33b4436d9851', '03000000000', 'nvrsk-mdc@yandx.ru', '+78617677766', '', '10.03.2025', '31.12.2025')\n"
     ]
    },
    {
     "name": "stdout",
     "output_type": "stream",
     "text": [
      "2025-09-03 16:03:22,234 INFO sqlalchemy.engine.Engine INSERT INTO nsi.[ERMO] ([IDMO], [NAM_MOP], [NAM_MOK], [INN], [KPP], [OGRN], [OID_MO], [OKOPF], [OKFS], [ADDR_J], [ADDR_J_GAR], [OKTMO], [EMAIL], [PHONE], [FAX], [DATEBEG], [DATEEND]) VALUES (?, ?, ?, ?, ?, ?, ?, ?, ?, ?, ?, ?, ?, ?, ?, ?, ?), (?, ?,  ... 6357 characters truncated ... ?, ?, ?, ?, ?, ?, ?, ?, ?, ?, ?, ?, ?, ?, ?, ?), (?, ?, ?, ?, ?, ?, ?, ?, ?, ?, ?, ?, ?, ?, ?, ?, ?)\n"
     ]
    },
    {
     "name": "stderr",
     "output_type": "stream",
     "text": [
      "INFO:sqlalchemy.engine.Engine:INSERT INTO nsi.[ERMO] ([IDMO], [NAM_MOP], [NAM_MOK], [INN], [KPP], [OGRN], [OID_MO], [OKOPF], [OKFS], [ADDR_J], [ADDR_J_GAR], [OKTMO], [EMAIL], [PHONE], [FAX], [DATEBEG], [DATEEND]) VALUES (?, ?, ?, ?, ?, ?, ?, ?, ?, ?, ?, ?, ?, ?, ?, ?, ?), (?, ?,  ... 6357 characters truncated ... ?, ?, ?, ?, ?, ?, ?, ?, ?, ?, ?, ?, ?, ?, ?, ?), (?, ?, ?, ?, ?, ?, ?, ?, ?, ?, ?, ?, ?, ?, ?, ?, ?)\n"
     ]
    },
    {
     "name": "stdout",
     "output_type": "stream",
     "text": [
      "2025-09-03 16:03:22,237 INFO sqlalchemy.engine.Engine [insertmanyvalues 15/72 (unordered)] ('00216000000000000', 'ГОСУДАРСТВЕННОЕ БЮДЖЕТНОЕ УЧРЕЖДЕНИЕ ЗДРАВООХРАНЕНИЯ \"СЛАВЯНСКАЯ ЦЕНТРАЛЬНАЯ РАЙОННАЯ БОЛЬНИЦА\" МИНИСТЕРСТВА ЗДРАВООХРАНЕНИЯ КРАСНОДАРСКОГО КРАЯ', 'ГБУЗ \"СЛАВЯНСКАЯ ЦРБ\" МЗ КК', '2349013319', '234901001', '1022304647199', '1.2.643.5.1.13.13.12.2.23.1882', '75203', '13', '353566, край Краснодарский, р-н Славянский, г Славянск-на-Кубани, ул Батарейная, д 377', '586a4cd0-f5b9-4e95-b596-810c51ade805', '03000000000', 'slvcrb@bk.ru', '+78614632961', '', '23.05.2025', '31.12.2025', '00216100000000000', 'ГОСУДАРСТВЕННОЕ АВТОНОМНОЕ УЧРЕЖДЕНИЕ ЗДРАВООХРАНЕНИЯ \"СЛАВЯНСКАЯ СТОМАТОЛОГИЧЕСКАЯ ПОЛИКЛИНИКА\" МИНИСТЕРСТВА ЗДРАВООХРАНЕНИЯ КРАСНОДАРСКОГО КРАЯ', 'ГАУЗ \"СЛАВЯНСКАЯ СТОМАТОЛОГИЧЕСКАЯ ПОЛИКЛИНИКА\" МЗ КК', '2349024416', '234901001', '1042327419595', '1.2.643.5.1.13.13.12.2.23.2036', '75201', '13', '353560, край Краснодарский, р-н Славянский, г Славянск-на-Кубани, ул Юных Коммунаров, д 70', '74af2331-931f-414d-98d4-d66526d2286c', '03000000000', 'stomatolog2000@mail.ru', '+79180599927', '', '29.01.2025', '31.12.2025', '00216200000000000', 'ГОСУДАРСТВЕННОЕ БЮДЖЕТНОЕ УЧРЕЖДЕНИЕ ЗДРАВООХРАНЕНИЯ \"ИНФЕКЦИОННАЯ БОЛЬНИЦА № 2\" МИНИСТЕРСТВА ЗДРАВООХРАНЕНИЯ КРАСНОДАРСКОГО КРАЯ', 'ГБУЗ \"ИНФЕКЦИОННАЯ БОЛЬНИЦА № 2\"', '2320010629', '231801001', '1022302917548', '1.2.643.5.1.13.13.12.2.23.1952', '75203', '13', '354207, край Краснодарский, г Сочи, с Ордынка, ул Барановское шоссе, д 17', '15ed6925-73c2-4034-b40a-debe22fde868', '03000000000', 'infectsochi@mail.ru', '+78622507003', '', '29.01.2025' ... 1991 parameters truncated ... 'КРАЕВОЕ ГОСУДАРСТВЕННОЕ БЮДЖЕТНОЕ УЧРЕЖДЕНИЕ ЗДРАВООХРАНЕНИЯ \"КРАСНОЯРСКАЯ СТАНЦИЯ СКОРОЙ МЕДИЦИНСКОЙ ПОМОЩИ\"', 'КГБУЗ \"КССМП\"', '2465033147', '246501001', '1022402470221', '1.2.643.5.1.13.13.12.2.24.2122', '75203', '13', '660131, край Красноярский, г Красноярск, пр-кт Металлургов, д 2К', '6b4deea7-ba9d-4a70-a74d-557b04f51474', '04000000000', 'gssmp@krasmail.ru', '+73912298643', '', '13.08.2025', '31.12.2025', '00232600000000000', 'КРАЕВОЕ ГОСУДАРСТВЕННОЕ БЮДЖЕТНОЕ УЧРЕЖДЕНИЕ ЗДРАВООХРАНЕНИЯ \"УЖУРСКАЯ РАЙОННАЯ БОЛЬНИЦА\"', 'КГБУЗ \"УЖУРСКАЯ РБ\"', '2439000402', '243901001', '1022401093428', '1.2.643.5.1.13.13.12.2.24.2067', '75203', '13', '662255, край Красноярский, р-н Ужурский, г Ужур, ул Профсоюзов, д 3', '3be25671-a382-4c65-96a5-d394644df980', '04000000000', 'muzugrh@krasmail.ru', '+73915621301', '', '13.08.2025', '31.12.2025', '00232700000000000', 'КРАЕВОЕ ГОСУДАРСТВЕННОЕ БЮДЖЕТНОЕ УЧРЕЖДЕНИЕ ЗДРАВООХРАНЕНИЯ \"НИЖНЕИНГАШСКАЯ РАЙОННАЯ БОЛЬНИЦА\"', 'КГБУЗ \"НИЖНЕИНГАШСКАЯ РБ\"', '2428001700', '242801001', '1022400759083', '1.2.643.5.1.13.13.12.2.24.2193', '75203', '13', '663850, край Красноярский, р-н Нижнеингашский, пгт Нижний Ингаш, ул Ленина, д 55', 'f7095c77-2f12-447e-8f98-7243313447b2', '04000000000', 'ingash_crb@krasmail.ru', '+73917121552', '', '13.08.2025', '31.12.2025')\n"
     ]
    },
    {
     "name": "stderr",
     "output_type": "stream",
     "text": [
      "INFO:sqlalchemy.engine.Engine:[insertmanyvalues 15/72 (unordered)] ('00216000000000000', 'ГОСУДАРСТВЕННОЕ БЮДЖЕТНОЕ УЧРЕЖДЕНИЕ ЗДРАВООХРАНЕНИЯ \"СЛАВЯНСКАЯ ЦЕНТРАЛЬНАЯ РАЙОННАЯ БОЛЬНИЦА\" МИНИСТЕРСТВА ЗДРАВООХРАНЕНИЯ КРАСНОДАРСКОГО КРАЯ', 'ГБУЗ \"СЛАВЯНСКАЯ ЦРБ\" МЗ КК', '2349013319', '234901001', '1022304647199', '1.2.643.5.1.13.13.12.2.23.1882', '75203', '13', '353566, край Краснодарский, р-н Славянский, г Славянск-на-Кубани, ул Батарейная, д 377', '586a4cd0-f5b9-4e95-b596-810c51ade805', '03000000000', 'slvcrb@bk.ru', '+78614632961', '', '23.05.2025', '31.12.2025', '00216100000000000', 'ГОСУДАРСТВЕННОЕ АВТОНОМНОЕ УЧРЕЖДЕНИЕ ЗДРАВООХРАНЕНИЯ \"СЛАВЯНСКАЯ СТОМАТОЛОГИЧЕСКАЯ ПОЛИКЛИНИКА\" МИНИСТЕРСТВА ЗДРАВООХРАНЕНИЯ КРАСНОДАРСКОГО КРАЯ', 'ГАУЗ \"СЛАВЯНСКАЯ СТОМАТОЛОГИЧЕСКАЯ ПОЛИКЛИНИКА\" МЗ КК', '2349024416', '234901001', '1042327419595', '1.2.643.5.1.13.13.12.2.23.2036', '75201', '13', '353560, край Краснодарский, р-н Славянский, г Славянск-на-Кубани, ул Юных Коммунаров, д 70', '74af2331-931f-414d-98d4-d66526d2286c', '03000000000', 'stomatolog2000@mail.ru', '+79180599927', '', '29.01.2025', '31.12.2025', '00216200000000000', 'ГОСУДАРСТВЕННОЕ БЮДЖЕТНОЕ УЧРЕЖДЕНИЕ ЗДРАВООХРАНЕНИЯ \"ИНФЕКЦИОННАЯ БОЛЬНИЦА № 2\" МИНИСТЕРСТВА ЗДРАВООХРАНЕНИЯ КРАСНОДАРСКОГО КРАЯ', 'ГБУЗ \"ИНФЕКЦИОННАЯ БОЛЬНИЦА № 2\"', '2320010629', '231801001', '1022302917548', '1.2.643.5.1.13.13.12.2.23.1952', '75203', '13', '354207, край Краснодарский, г Сочи, с Ордынка, ул Барановское шоссе, д 17', '15ed6925-73c2-4034-b40a-debe22fde868', '03000000000', 'infectsochi@mail.ru', '+78622507003', '', '29.01.2025' ... 1991 parameters truncated ... 'КРАЕВОЕ ГОСУДАРСТВЕННОЕ БЮДЖЕТНОЕ УЧРЕЖДЕНИЕ ЗДРАВООХРАНЕНИЯ \"КРАСНОЯРСКАЯ СТАНЦИЯ СКОРОЙ МЕДИЦИНСКОЙ ПОМОЩИ\"', 'КГБУЗ \"КССМП\"', '2465033147', '246501001', '1022402470221', '1.2.643.5.1.13.13.12.2.24.2122', '75203', '13', '660131, край Красноярский, г Красноярск, пр-кт Металлургов, д 2К', '6b4deea7-ba9d-4a70-a74d-557b04f51474', '04000000000', 'gssmp@krasmail.ru', '+73912298643', '', '13.08.2025', '31.12.2025', '00232600000000000', 'КРАЕВОЕ ГОСУДАРСТВЕННОЕ БЮДЖЕТНОЕ УЧРЕЖДЕНИЕ ЗДРАВООХРАНЕНИЯ \"УЖУРСКАЯ РАЙОННАЯ БОЛЬНИЦА\"', 'КГБУЗ \"УЖУРСКАЯ РБ\"', '2439000402', '243901001', '1022401093428', '1.2.643.5.1.13.13.12.2.24.2067', '75203', '13', '662255, край Красноярский, р-н Ужурский, г Ужур, ул Профсоюзов, д 3', '3be25671-a382-4c65-96a5-d394644df980', '04000000000', 'muzugrh@krasmail.ru', '+73915621301', '', '13.08.2025', '31.12.2025', '00232700000000000', 'КРАЕВОЕ ГОСУДАРСТВЕННОЕ БЮДЖЕТНОЕ УЧРЕЖДЕНИЕ ЗДРАВООХРАНЕНИЯ \"НИЖНЕИНГАШСКАЯ РАЙОННАЯ БОЛЬНИЦА\"', 'КГБУЗ \"НИЖНЕИНГАШСКАЯ РБ\"', '2428001700', '242801001', '1022400759083', '1.2.643.5.1.13.13.12.2.24.2193', '75203', '13', '663850, край Красноярский, р-н Нижнеингашский, пгт Нижний Ингаш, ул Ленина, д 55', 'f7095c77-2f12-447e-8f98-7243313447b2', '04000000000', 'ingash_crb@krasmail.ru', '+73917121552', '', '13.08.2025', '31.12.2025')\n"
     ]
    },
    {
     "name": "stdout",
     "output_type": "stream",
     "text": [
      "2025-09-03 16:03:22,374 INFO sqlalchemy.engine.Engine INSERT INTO nsi.[ERMO] ([IDMO], [NAM_MOP], [NAM_MOK], [INN], [KPP], [OGRN], [OID_MO], [OKOPF], [OKFS], [ADDR_J], [ADDR_J_GAR], [OKTMO], [EMAIL], [PHONE], [FAX], [DATEBEG], [DATEEND]) VALUES (?, ?, ?, ?, ?, ?, ?, ?, ?, ?, ?, ?, ?, ?, ?, ?, ?), (?, ?,  ... 6357 characters truncated ... ?, ?, ?, ?, ?, ?, ?, ?, ?, ?, ?, ?, ?, ?, ?, ?), (?, ?, ?, ?, ?, ?, ?, ?, ?, ?, ?, ?, ?, ?, ?, ?, ?)\n"
     ]
    },
    {
     "name": "stderr",
     "output_type": "stream",
     "text": [
      "INFO:sqlalchemy.engine.Engine:INSERT INTO nsi.[ERMO] ([IDMO], [NAM_MOP], [NAM_MOK], [INN], [KPP], [OGRN], [OID_MO], [OKOPF], [OKFS], [ADDR_J], [ADDR_J_GAR], [OKTMO], [EMAIL], [PHONE], [FAX], [DATEBEG], [DATEEND]) VALUES (?, ?, ?, ?, ?, ?, ?, ?, ?, ?, ?, ?, ?, ?, ?, ?, ?), (?, ?,  ... 6357 characters truncated ... ?, ?, ?, ?, ?, ?, ?, ?, ?, ?, ?, ?, ?, ?, ?, ?), (?, ?, ?, ?, ?, ?, ?, ?, ?, ?, ?, ?, ?, ?, ?, ?, ?)\n"
     ]
    },
    {
     "name": "stdout",
     "output_type": "stream",
     "text": [
      "2025-09-03 16:03:22,377 INFO sqlalchemy.engine.Engine [insertmanyvalues 16/72 (unordered)] ('00232800000000000', 'КРАЕВОЕ ГОСУДАРСТВЕННОЕ БЮДЖЕТНОЕ УЧРЕЖДЕНИЕ ЗДРАВООХРАНЕНИЯ \"НОВОСЕЛОВСКАЯ РАЙОННАЯ БОЛЬНИЦА\"', 'КГБУЗ \"НОВОСЕЛОВСКАЯ РБ\"', '2429000570', '242901001', '1022400526972', '1.2.643.5.1.13.13.12.2.24.2167', '75203', '13', '662430, край Красноярский, р-н Новоселовский, с Новоселово, ул Советская, д 18', '2667904f-2d93-4586-91ea-4151ab839b3c', '04000000000', 'novoselcrb@mail.ru', '+73914791151', '', '13.08.2025', '31.12.2025', '00232900000000000', 'КРАЕВОЕ ГОСУДАРСТВЕННОЕ БЮДЖЕТНОЕ УЧРЕЖДЕНИЕ ЗДРАВООХРАНЕНИЯ \"КРАСНОТУРАНСКАЯ РАЙОННАЯ БОЛЬНИЦА\"', 'КГБУЗ \"КРАСНОТУРАНСКАЯ РБ\"', '2422001180', '242201001', '1022400747137', '1.2.643.5.1.13.13.12.2.24.2169', '75203', '13', '662660, край Красноярский, р-н Краснотуранский, с Краснотуранск, ул Юности, д 1А', 'b7ee5680-8175-4591-bc51-24aca81cf5d4', '04000000000', 'kras_turan@mail.ru', '+73913421334', '', '13.08.2025', '31.12.2025', '00233000000000000', 'КРАЕВОЕ ГОСУДАРСТВЕННОЕ БЮДЖЕТНОЕ УЧРЕЖДЕНИЕ ЗДРАВООХРАНЕНИЯ \"СОСНОВОБОРСКАЯ ГОРОДСКАЯ БОЛЬНИЦА\"', 'КГБУЗ\"СОСНОВОБОРСКАЯ ГБ\"', '2458004794', '245801001', '1032400562974', '1.2.643.5.1.13.13.12.2.24.2192', '75203', '13', '662500, край Красноярский, г Сосновоборск, ул Солнечная, д 6', 'd61f07e2-fde6-4027-9a24-0c9cb0117af4', '04000000000', 'scgb@scgb.ru', '+73913120198', '', '13.08.2025' ... 1991 parameters truncated ... 'ОБЩЕСТВО С ОГРАНИЧЕННОЙ ОТВЕТСТВЕННОСТЬЮ \"АНДРО-ГИНЕКОЛОГИЧЕСКАЯ КЛИНИКА\"', 'ООО \"АГК\"', '2461016768', '246101001', '1022401946775', '1.2.643.5.1.13.13.12.2.24.18381', '12300', '16', '660095, край Красноярский, г Красноярск, пр-кт им.газеты \"Красноярский рабочий\", д 106', '1b1aca91-e9af-4c72-bf4f-137ce372f3e0', '04000000000', 'NATALIIA.PANINA@MAIL.RU', '+73919889503', '', '15.08.2025', '31.12.2025', '00246700000000000', 'ОБЩЕСТВО С ОГРАНИЧЕННОЙ ОТВЕТСТВЕННОСТЬЮ \"ФОРТУНА\"', 'ООО \"ФОРТУНА\"', '2443029066', '244301001', '1062443027723', '1.2.643.5.1.13.13.12.2.24.13608', '12300', '16', '662161, край Красноярский, г Ачинск, мкр. 5-й, д 31а', 'aefa8b5b-c260-4c28-ba43-832bcee55b17', '04000000000', 'OC.GARMONIYA@MAIL.RU', '+73915156300', '', '15.08.2025', '31.12.2025', '00246800000000000', 'ОБЩЕСТВО С ОГРАНИЧЕННОЙ ОТВЕТСТВЕННОСТЬЮ \"ДИАГНОСТИЧЕСКИЙ ЦЕНТР \"ГАРМОНИЯ\"', 'ООО \"ДЦ\"ГАРМОНИЯ\"', '2443038494', '244301001', '1102443001638', '1.2.643.5.1.13.13.12.2.24.13610', '12300', '16', '662161, край Красноярский, г Ачинск, мкр. 5-й, д 31а', 'aefa8b5b-c260-4c28-ba43-832bcee55b17', '04000000000', 'OC.GARMONIYA@MAIL.RU', '+73915156300', '', '15.08.2025', '31.12.2025')\n"
     ]
    },
    {
     "name": "stderr",
     "output_type": "stream",
     "text": [
      "INFO:sqlalchemy.engine.Engine:[insertmanyvalues 16/72 (unordered)] ('00232800000000000', 'КРАЕВОЕ ГОСУДАРСТВЕННОЕ БЮДЖЕТНОЕ УЧРЕЖДЕНИЕ ЗДРАВООХРАНЕНИЯ \"НОВОСЕЛОВСКАЯ РАЙОННАЯ БОЛЬНИЦА\"', 'КГБУЗ \"НОВОСЕЛОВСКАЯ РБ\"', '2429000570', '242901001', '1022400526972', '1.2.643.5.1.13.13.12.2.24.2167', '75203', '13', '662430, край Красноярский, р-н Новоселовский, с Новоселово, ул Советская, д 18', '2667904f-2d93-4586-91ea-4151ab839b3c', '04000000000', 'novoselcrb@mail.ru', '+73914791151', '', '13.08.2025', '31.12.2025', '00232900000000000', 'КРАЕВОЕ ГОСУДАРСТВЕННОЕ БЮДЖЕТНОЕ УЧРЕЖДЕНИЕ ЗДРАВООХРАНЕНИЯ \"КРАСНОТУРАНСКАЯ РАЙОННАЯ БОЛЬНИЦА\"', 'КГБУЗ \"КРАСНОТУРАНСКАЯ РБ\"', '2422001180', '242201001', '1022400747137', '1.2.643.5.1.13.13.12.2.24.2169', '75203', '13', '662660, край Красноярский, р-н Краснотуранский, с Краснотуранск, ул Юности, д 1А', 'b7ee5680-8175-4591-bc51-24aca81cf5d4', '04000000000', 'kras_turan@mail.ru', '+73913421334', '', '13.08.2025', '31.12.2025', '00233000000000000', 'КРАЕВОЕ ГОСУДАРСТВЕННОЕ БЮДЖЕТНОЕ УЧРЕЖДЕНИЕ ЗДРАВООХРАНЕНИЯ \"СОСНОВОБОРСКАЯ ГОРОДСКАЯ БОЛЬНИЦА\"', 'КГБУЗ\"СОСНОВОБОРСКАЯ ГБ\"', '2458004794', '245801001', '1032400562974', '1.2.643.5.1.13.13.12.2.24.2192', '75203', '13', '662500, край Красноярский, г Сосновоборск, ул Солнечная, д 6', 'd61f07e2-fde6-4027-9a24-0c9cb0117af4', '04000000000', 'scgb@scgb.ru', '+73913120198', '', '13.08.2025' ... 1991 parameters truncated ... 'ОБЩЕСТВО С ОГРАНИЧЕННОЙ ОТВЕТСТВЕННОСТЬЮ \"АНДРО-ГИНЕКОЛОГИЧЕСКАЯ КЛИНИКА\"', 'ООО \"АГК\"', '2461016768', '246101001', '1022401946775', '1.2.643.5.1.13.13.12.2.24.18381', '12300', '16', '660095, край Красноярский, г Красноярск, пр-кт им.газеты \"Красноярский рабочий\", д 106', '1b1aca91-e9af-4c72-bf4f-137ce372f3e0', '04000000000', 'NATALIIA.PANINA@MAIL.RU', '+73919889503', '', '15.08.2025', '31.12.2025', '00246700000000000', 'ОБЩЕСТВО С ОГРАНИЧЕННОЙ ОТВЕТСТВЕННОСТЬЮ \"ФОРТУНА\"', 'ООО \"ФОРТУНА\"', '2443029066', '244301001', '1062443027723', '1.2.643.5.1.13.13.12.2.24.13608', '12300', '16', '662161, край Красноярский, г Ачинск, мкр. 5-й, д 31а', 'aefa8b5b-c260-4c28-ba43-832bcee55b17', '04000000000', 'OC.GARMONIYA@MAIL.RU', '+73915156300', '', '15.08.2025', '31.12.2025', '00246800000000000', 'ОБЩЕСТВО С ОГРАНИЧЕННОЙ ОТВЕТСТВЕННОСТЬЮ \"ДИАГНОСТИЧЕСКИЙ ЦЕНТР \"ГАРМОНИЯ\"', 'ООО \"ДЦ\"ГАРМОНИЯ\"', '2443038494', '244301001', '1102443001638', '1.2.643.5.1.13.13.12.2.24.13610', '12300', '16', '662161, край Красноярский, г Ачинск, мкр. 5-й, д 31а', 'aefa8b5b-c260-4c28-ba43-832bcee55b17', '04000000000', 'OC.GARMONIYA@MAIL.RU', '+73915156300', '', '15.08.2025', '31.12.2025')\n"
     ]
    },
    {
     "name": "stdout",
     "output_type": "stream",
     "text": [
      "2025-09-03 16:03:22,509 INFO sqlalchemy.engine.Engine INSERT INTO nsi.[ERMO] ([IDMO], [NAM_MOP], [NAM_MOK], [INN], [KPP], [OGRN], [OID_MO], [OKOPF], [OKFS], [ADDR_J], [ADDR_J_GAR], [OKTMO], [EMAIL], [PHONE], [FAX], [DATEBEG], [DATEEND]) VALUES (?, ?, ?, ?, ?, ?, ?, ?, ?, ?, ?, ?, ?, ?, ?, ?, ?), (?, ?,  ... 6357 characters truncated ... ?, ?, ?, ?, ?, ?, ?, ?, ?, ?, ?, ?, ?, ?, ?, ?), (?, ?, ?, ?, ?, ?, ?, ?, ?, ?, ?, ?, ?, ?, ?, ?, ?)\n"
     ]
    },
    {
     "name": "stderr",
     "output_type": "stream",
     "text": [
      "INFO:sqlalchemy.engine.Engine:INSERT INTO nsi.[ERMO] ([IDMO], [NAM_MOP], [NAM_MOK], [INN], [KPP], [OGRN], [OID_MO], [OKOPF], [OKFS], [ADDR_J], [ADDR_J_GAR], [OKTMO], [EMAIL], [PHONE], [FAX], [DATEBEG], [DATEEND]) VALUES (?, ?, ?, ?, ?, ?, ?, ?, ?, ?, ?, ?, ?, ?, ?, ?, ?), (?, ?,  ... 6357 characters truncated ... ?, ?, ?, ?, ?, ?, ?, ?, ?, ?, ?, ?, ?, ?, ?, ?), (?, ?, ?, ?, ?, ?, ?, ?, ?, ?, ?, ?, ?, ?, ?, ?, ?)\n"
     ]
    },
    {
     "name": "stdout",
     "output_type": "stream",
     "text": [
      "2025-09-03 16:03:22,512 INFO sqlalchemy.engine.Engine [insertmanyvalues 17/72 (unordered)] ('00246900000000000', 'ОБЩЕСТВО С ОГРАНИЧЕННОЙ ОТВЕТСТВЕННОСТЬЮ \"КРАСНОЯРСКИЙ ЦЕНТР РЕПРОДУКТИВНОЙ МЕДИЦИНЫ\"', 'ООО \"КРАСНОЯРСКИЙ ЦЕНТР РЕПРОДУКТИВНОЙ МЕДИЦИНЫ\"', '2465040426', '246501001', '1022402468197', '1.2.643.5.1.13.13.12.2.24.11104', '12300', '16', '660135, край Красноярский, г Красноярск, ул Взлетная, д 1, кв 138', '66db995a-f5c3-476f-b529-c4ae7de65815', '04000000000', 'KSK.OFFICE@MCCLINICS.RU', '+73912739132', '', '15.08.2025', '31.12.2025', '00247100000000000', 'ОБЩЕСТВО С ОГРАНИЧЕННОЙ ОТВЕТСТВЕННОСТЬЮ \"МЕДИЦИНСКИЙ ЦЕНТР ГИНЕКОЛОГИЧЕСКОЙ ЭНДОКРИНОЛОГИИ И РЕПРОДУКЦИИ \"ТРИ СЕРДЦА\"', 'ООО \"МЦГЭР \"ТРИ СЕРДЦА\"', '2466082179', '246401001', '1022402673963', '1.2.643.5.1.13.13.12.2.24.21246', '12300', '16', '660078, край Красноярский, г Красноярск, ул 60 лет Октября, д 50', '3c73d448-b725-445b-97d6-c7aaff1a6243', '04000000000', 'INFO@3SERDCA.RU', '+73912617575', '', '15.08.2025', '31.12.2025', '00247200000000000', 'ОБЩЕСТВО С ОГРАНИЧЕННОЙ ОТВЕТСТВЕННОСТЬЮ \"ЕВРОМЕД\"', 'ООО \"ЕВРОМЕД\"', '2466228741', '246101001', '1102468016001', '1.2.643.5.1.13.13.12.2.24.20224', '12300', '16', '660050, край Красноярский, г Красноярск, ул Щербакова, д 49', '1c8cc010-e2d7-4604-b615-922d07904abc', '04000000000', '2180005@MAIL.RU', '+79048943355', '', '15.08.2025' ... 1991 parameters truncated ... 'КРАЕВОЕ ГОСУДАРСТВЕННОЕ БЮДЖЕТНОЕ УЧРЕЖДЕНИЕ ЗДРАВООХРАНЕНИЯ \"ВЛАДИВОСТОКСКАЯ ПОЛИКЛИНИКА №9\"', 'КГБУЗ \"ВЛАДИВОСТОКСКАЯ ПОЛИКЛИНИКА №9\"', '2540192413', '254301001', '1132540005971', '1.2.643.5.1.13.13.12.2.25.2342', '75203', '13', '690911, край Приморский, г Владивосток, ул Адмирала Горшкова, д 3', '3da2bcec-1e2f-469a-b604-6b1fdc4c887a', '05000000000', 'vladpolik9@mail.ru', '+74232788544', '', '22.05.2025', '31.12.2025', '00264700000000000', 'ОБЩЕСТВО С ОГРАНИЧЕННОЙ ОТВЕТСТВЕННОСТЬЮ \"КЛИНИКА ЛЕЧЕНИЯ БОЛИ\"', 'ООО \"КЛИНИКА ЛЕЧЕНИЯ БОЛИ\"', '2511081733', '251101001', '1132511000390', '1.2.643.5.1.13.13.12.2.25.10300', '12300', '16', '692519, край Приморский, г Уссурийск, ул Краснознаменная, д 148а', 'e817eb5e-2979-47cc-b9b5-859b0ae4e6d1', '05000000000', 'kay@npclinic.ru', '+79243374887', '', '16.05.2025', '31.12.2025', '00264800000000000', 'ГОСУДАРСТВЕННОЕ БЮДЖЕТНОЕ УЧРЕЖДЕНИЕ ЗДРАВООХРАНЕНИЯ \"ПРИМОРСКИЙ КРАЕВОЙ ПЕРИНАТАЛЬНЫЙ ЦЕНТР\"', 'ГБУЗ \"ПКПЦ\"', '2543049860', '253701001', '1142543011170', '1.2.643.5.1.13.13.12.2.25.2348', '75203', '13', '690011, край Приморский, г Владивосток, ул Можайская, д 1Б', '687bc0df-3fff-40ab-ad1b-1296fe113e63', '05000000000', 'pc@perinatalvl.ru', '+74232276379', '', '30.04.2025', '31.12.2025')\n"
     ]
    },
    {
     "name": "stderr",
     "output_type": "stream",
     "text": [
      "INFO:sqlalchemy.engine.Engine:[insertmanyvalues 17/72 (unordered)] ('00246900000000000', 'ОБЩЕСТВО С ОГРАНИЧЕННОЙ ОТВЕТСТВЕННОСТЬЮ \"КРАСНОЯРСКИЙ ЦЕНТР РЕПРОДУКТИВНОЙ МЕДИЦИНЫ\"', 'ООО \"КРАСНОЯРСКИЙ ЦЕНТР РЕПРОДУКТИВНОЙ МЕДИЦИНЫ\"', '2465040426', '246501001', '1022402468197', '1.2.643.5.1.13.13.12.2.24.11104', '12300', '16', '660135, край Красноярский, г Красноярск, ул Взлетная, д 1, кв 138', '66db995a-f5c3-476f-b529-c4ae7de65815', '04000000000', 'KSK.OFFICE@MCCLINICS.RU', '+73912739132', '', '15.08.2025', '31.12.2025', '00247100000000000', 'ОБЩЕСТВО С ОГРАНИЧЕННОЙ ОТВЕТСТВЕННОСТЬЮ \"МЕДИЦИНСКИЙ ЦЕНТР ГИНЕКОЛОГИЧЕСКОЙ ЭНДОКРИНОЛОГИИ И РЕПРОДУКЦИИ \"ТРИ СЕРДЦА\"', 'ООО \"МЦГЭР \"ТРИ СЕРДЦА\"', '2466082179', '246401001', '1022402673963', '1.2.643.5.1.13.13.12.2.24.21246', '12300', '16', '660078, край Красноярский, г Красноярск, ул 60 лет Октября, д 50', '3c73d448-b725-445b-97d6-c7aaff1a6243', '04000000000', 'INFO@3SERDCA.RU', '+73912617575', '', '15.08.2025', '31.12.2025', '00247200000000000', 'ОБЩЕСТВО С ОГРАНИЧЕННОЙ ОТВЕТСТВЕННОСТЬЮ \"ЕВРОМЕД\"', 'ООО \"ЕВРОМЕД\"', '2466228741', '246101001', '1102468016001', '1.2.643.5.1.13.13.12.2.24.20224', '12300', '16', '660050, край Красноярский, г Красноярск, ул Щербакова, д 49', '1c8cc010-e2d7-4604-b615-922d07904abc', '04000000000', '2180005@MAIL.RU', '+79048943355', '', '15.08.2025' ... 1991 parameters truncated ... 'КРАЕВОЕ ГОСУДАРСТВЕННОЕ БЮДЖЕТНОЕ УЧРЕЖДЕНИЕ ЗДРАВООХРАНЕНИЯ \"ВЛАДИВОСТОКСКАЯ ПОЛИКЛИНИКА №9\"', 'КГБУЗ \"ВЛАДИВОСТОКСКАЯ ПОЛИКЛИНИКА №9\"', '2540192413', '254301001', '1132540005971', '1.2.643.5.1.13.13.12.2.25.2342', '75203', '13', '690911, край Приморский, г Владивосток, ул Адмирала Горшкова, д 3', '3da2bcec-1e2f-469a-b604-6b1fdc4c887a', '05000000000', 'vladpolik9@mail.ru', '+74232788544', '', '22.05.2025', '31.12.2025', '00264700000000000', 'ОБЩЕСТВО С ОГРАНИЧЕННОЙ ОТВЕТСТВЕННОСТЬЮ \"КЛИНИКА ЛЕЧЕНИЯ БОЛИ\"', 'ООО \"КЛИНИКА ЛЕЧЕНИЯ БОЛИ\"', '2511081733', '251101001', '1132511000390', '1.2.643.5.1.13.13.12.2.25.10300', '12300', '16', '692519, край Приморский, г Уссурийск, ул Краснознаменная, д 148а', 'e817eb5e-2979-47cc-b9b5-859b0ae4e6d1', '05000000000', 'kay@npclinic.ru', '+79243374887', '', '16.05.2025', '31.12.2025', '00264800000000000', 'ГОСУДАРСТВЕННОЕ БЮДЖЕТНОЕ УЧРЕЖДЕНИЕ ЗДРАВООХРАНЕНИЯ \"ПРИМОРСКИЙ КРАЕВОЙ ПЕРИНАТАЛЬНЫЙ ЦЕНТР\"', 'ГБУЗ \"ПКПЦ\"', '2543049860', '253701001', '1142543011170', '1.2.643.5.1.13.13.12.2.25.2348', '75203', '13', '690011, край Приморский, г Владивосток, ул Можайская, д 1Б', '687bc0df-3fff-40ab-ad1b-1296fe113e63', '05000000000', 'pc@perinatalvl.ru', '+74232276379', '', '30.04.2025', '31.12.2025')\n"
     ]
    },
    {
     "name": "stdout",
     "output_type": "stream",
     "text": [
      "2025-09-03 16:03:22,650 INFO sqlalchemy.engine.Engine INSERT INTO nsi.[ERMO] ([IDMO], [NAM_MOP], [NAM_MOK], [INN], [KPP], [OGRN], [OID_MO], [OKOPF], [OKFS], [ADDR_J], [ADDR_J_GAR], [OKTMO], [EMAIL], [PHONE], [FAX], [DATEBEG], [DATEEND]) VALUES (?, ?, ?, ?, ?, ?, ?, ?, ?, ?, ?, ?, ?, ?, ?, ?, ?), (?, ?,  ... 6357 characters truncated ... ?, ?, ?, ?, ?, ?, ?, ?, ?, ?, ?, ?, ?, ?, ?, ?), (?, ?, ?, ?, ?, ?, ?, ?, ?, ?, ?, ?, ?, ?, ?, ?, ?)\n"
     ]
    },
    {
     "name": "stderr",
     "output_type": "stream",
     "text": [
      "INFO:sqlalchemy.engine.Engine:INSERT INTO nsi.[ERMO] ([IDMO], [NAM_MOP], [NAM_MOK], [INN], [KPP], [OGRN], [OID_MO], [OKOPF], [OKFS], [ADDR_J], [ADDR_J_GAR], [OKTMO], [EMAIL], [PHONE], [FAX], [DATEBEG], [DATEEND]) VALUES (?, ?, ?, ?, ?, ?, ?, ?, ?, ?, ?, ?, ?, ?, ?, ?, ?), (?, ?,  ... 6357 characters truncated ... ?, ?, ?, ?, ?, ?, ?, ?, ?, ?, ?, ?, ?, ?, ?, ?), (?, ?, ?, ?, ?, ?, ?, ?, ?, ?, ?, ?, ?, ?, ?, ?, ?)\n"
     ]
    },
    {
     "name": "stdout",
     "output_type": "stream",
     "text": [
      "2025-09-03 16:03:22,651 INFO sqlalchemy.engine.Engine [insertmanyvalues 18/72 (unordered)] ('00264900000000000', 'ОБЩЕСТВО С ОГРАНИЧЕННОЙ ОТВЕТСТВЕННОСТЬЮ \"СТЭС\"', 'ООО \"СТЭС\"', '2508067601', '250801001', '1052501615682', '1.2.643.5.1.13.13.12.2.25.20013', '12300', '16', '692922, край Приморский, г Находка, ул Советская, д 15', '011b799b-8309-4f8c-99e2-d3e643406180', '05000000000', 'SILVIO2@MAIL.RU', '+79143250383', '', '01.01.2025', '31.12.2025', '00265000000000000', 'ФЕДЕРАЛЬНОЕ ГОСУДАРСТВЕННОЕ БЮДЖЕТНОЕ ОБРАЗОВАТЕЛЬНОЕ УЧРЕЖДЕНИЕ ВЫСШЕГО ОБРАЗОВАНИЯ \"МОРСКОЙ ГОСУДАРСТВЕННЫЙ УНИВЕРСИТЕТ ИМЕНИ АДМИРАЛА Г.И. НЕВЕЛЬСКОГО\"', 'МГУ ИМ. АДМ. Г.И. НЕВЕЛЬСКОГО', '2540009788', '254001001', '1022502259504', '1.2.643.5.1.13.13.12.2.25.18403', '75103', '12', '690003, край Приморский, г Владивосток, ул Верхнепортовая, д 50а', '99c2442b-5f67-4a33-b968-cf070db0514e', '05000000000', 'office@msun.ru', '+74232795674', '', '03.06.2025', '31.12.2025', '00265200000000000', 'ОБЩЕСТВО С ОГРАНИЧЕННОЙ ОТВЕТСТВЕННОСТЬЮ \"ЦЕНТР КРАСОТЫ И ЗДОРОВЬЯ \"АСПАЗИЯ\"', 'ООО \"ЦЕНТР КРАСОТЫ И ЗДОРОВЬЯ \"АСПАЗИЯ\"', '2531005850', '253101001', '1072502003331', '1.2.643.5.1.13.13.12.2.25.20058', '12300', '16', '692701, край Приморский, р-н Хасанский, пгт Славянка, ул Молодежная, д 4', '0ff25470-d63a-479a-b16c-e24768cf11f9', '05000000000', 'DRAGUNKINA.OLGA@MAIL.RU', '+79242343841', '', '01.01.2025' ... 1991 parameters truncated ... 'ОБЩЕСТВО С ОГРАНИЧЕННОЙ ОТВЕТСТВЕННОСТЬЮ \"ТАИС\"', 'ООО \"ТАИС\"', '2625034600', '262501001', '1082625000490', '1.2.643.5.1.13.13.12.2.26.21134', '12300', '16', '357820, край Ставропольский, г Георгиевск, ул Ленина, д 121', 'd3948ca2-de7f-4378-a00d-3e6da922411a', '07000000000', 'SULIMOV.OOOTAIS@YANDEX.RU', '+78795135555', '', '05.05.2025', '31.12.2025', '00279700000000000', 'ФЕДЕРАЛЬНОЕ ГОСУДАРСТВЕННОЕ БЮДЖЕТНОЕ УЧРЕЖДЕНИЕ ЦЕНТР МЕДИЦИНСКОЙ РЕАБИЛИТАЦИИ \"ЛУЧ\" МИНИСТЕРСТВА ЗДРАВООХРАНЕНИЯ РОССИЙСКОЙ ФЕДЕРАЦИИ', 'ФГБУ \"ЦМР \"ЛУЧ\" МИНЗДРАВА РОССИИ', '2628055277', '262801001', '1102628000958', '1.2.643.5.1.13.13.12.2.26.2523', '75103', '12', '357700, край Ставропольский, г Кисловодск, ул Алексея Реброва, д 10', '371bed8b-180b-4f30-b8c6-2982f3b24b4b', '07000000000', 'centrluch@mail.ru', '+78793720272', '', '01.01.2025', '31.12.2025', '00280000000000000', 'ОБЩЕСТВО С ОГРАНИЧЕННОЙ ОТВЕТСТВЕННОСТЬЮ \"ВИТАДЕНТ\"', 'ООО \"ВИТАДЕНТ\"', '2635083892', '263401001', '1052604270950', '1.2.643.5.1.13.13.12.2.26.18065', '12300', '16', '355041, край Ставропольский, г Ставрополь, ул Мира, д 338а', 'bf7b1849-9e14-4aec-9bd4-8d2cbdc7da39', '07000000000', 'OMS@VITADENT-STV.RU', '+78652990532', '', '18.06.2025', '31.12.2025')\n"
     ]
    },
    {
     "name": "stderr",
     "output_type": "stream",
     "text": [
      "INFO:sqlalchemy.engine.Engine:[insertmanyvalues 18/72 (unordered)] ('00264900000000000', 'ОБЩЕСТВО С ОГРАНИЧЕННОЙ ОТВЕТСТВЕННОСТЬЮ \"СТЭС\"', 'ООО \"СТЭС\"', '2508067601', '250801001', '1052501615682', '1.2.643.5.1.13.13.12.2.25.20013', '12300', '16', '692922, край Приморский, г Находка, ул Советская, д 15', '011b799b-8309-4f8c-99e2-d3e643406180', '05000000000', 'SILVIO2@MAIL.RU', '+79143250383', '', '01.01.2025', '31.12.2025', '00265000000000000', 'ФЕДЕРАЛЬНОЕ ГОСУДАРСТВЕННОЕ БЮДЖЕТНОЕ ОБРАЗОВАТЕЛЬНОЕ УЧРЕЖДЕНИЕ ВЫСШЕГО ОБРАЗОВАНИЯ \"МОРСКОЙ ГОСУДАРСТВЕННЫЙ УНИВЕРСИТЕТ ИМЕНИ АДМИРАЛА Г.И. НЕВЕЛЬСКОГО\"', 'МГУ ИМ. АДМ. Г.И. НЕВЕЛЬСКОГО', '2540009788', '254001001', '1022502259504', '1.2.643.5.1.13.13.12.2.25.18403', '75103', '12', '690003, край Приморский, г Владивосток, ул Верхнепортовая, д 50а', '99c2442b-5f67-4a33-b968-cf070db0514e', '05000000000', 'office@msun.ru', '+74232795674', '', '03.06.2025', '31.12.2025', '00265200000000000', 'ОБЩЕСТВО С ОГРАНИЧЕННОЙ ОТВЕТСТВЕННОСТЬЮ \"ЦЕНТР КРАСОТЫ И ЗДОРОВЬЯ \"АСПАЗИЯ\"', 'ООО \"ЦЕНТР КРАСОТЫ И ЗДОРОВЬЯ \"АСПАЗИЯ\"', '2531005850', '253101001', '1072502003331', '1.2.643.5.1.13.13.12.2.25.20058', '12300', '16', '692701, край Приморский, р-н Хасанский, пгт Славянка, ул Молодежная, д 4', '0ff25470-d63a-479a-b16c-e24768cf11f9', '05000000000', 'DRAGUNKINA.OLGA@MAIL.RU', '+79242343841', '', '01.01.2025' ... 1991 parameters truncated ... 'ОБЩЕСТВО С ОГРАНИЧЕННОЙ ОТВЕТСТВЕННОСТЬЮ \"ТАИС\"', 'ООО \"ТАИС\"', '2625034600', '262501001', '1082625000490', '1.2.643.5.1.13.13.12.2.26.21134', '12300', '16', '357820, край Ставропольский, г Георгиевск, ул Ленина, д 121', 'd3948ca2-de7f-4378-a00d-3e6da922411a', '07000000000', 'SULIMOV.OOOTAIS@YANDEX.RU', '+78795135555', '', '05.05.2025', '31.12.2025', '00279700000000000', 'ФЕДЕРАЛЬНОЕ ГОСУДАРСТВЕННОЕ БЮДЖЕТНОЕ УЧРЕЖДЕНИЕ ЦЕНТР МЕДИЦИНСКОЙ РЕАБИЛИТАЦИИ \"ЛУЧ\" МИНИСТЕРСТВА ЗДРАВООХРАНЕНИЯ РОССИЙСКОЙ ФЕДЕРАЦИИ', 'ФГБУ \"ЦМР \"ЛУЧ\" МИНЗДРАВА РОССИИ', '2628055277', '262801001', '1102628000958', '1.2.643.5.1.13.13.12.2.26.2523', '75103', '12', '357700, край Ставропольский, г Кисловодск, ул Алексея Реброва, д 10', '371bed8b-180b-4f30-b8c6-2982f3b24b4b', '07000000000', 'centrluch@mail.ru', '+78793720272', '', '01.01.2025', '31.12.2025', '00280000000000000', 'ОБЩЕСТВО С ОГРАНИЧЕННОЙ ОТВЕТСТВЕННОСТЬЮ \"ВИТАДЕНТ\"', 'ООО \"ВИТАДЕНТ\"', '2635083892', '263401001', '1052604270950', '1.2.643.5.1.13.13.12.2.26.18065', '12300', '16', '355041, край Ставропольский, г Ставрополь, ул Мира, д 338а', 'bf7b1849-9e14-4aec-9bd4-8d2cbdc7da39', '07000000000', 'OMS@VITADENT-STV.RU', '+78652990532', '', '18.06.2025', '31.12.2025')\n"
     ]
    },
    {
     "name": "stdout",
     "output_type": "stream",
     "text": [
      "2025-09-03 16:03:22,758 INFO sqlalchemy.engine.Engine INSERT INTO nsi.[ERMO] ([IDMO], [NAM_MOP], [NAM_MOK], [INN], [KPP], [OGRN], [OID_MO], [OKOPF], [OKFS], [ADDR_J], [ADDR_J_GAR], [OKTMO], [EMAIL], [PHONE], [FAX], [DATEBEG], [DATEEND]) VALUES (?, ?, ?, ?, ?, ?, ?, ?, ?, ?, ?, ?, ?, ?, ?, ?, ?), (?, ?,  ... 6357 characters truncated ... ?, ?, ?, ?, ?, ?, ?, ?, ?, ?, ?, ?, ?, ?, ?, ?), (?, ?, ?, ?, ?, ?, ?, ?, ?, ?, ?, ?, ?, ?, ?, ?, ?)\n"
     ]
    },
    {
     "name": "stderr",
     "output_type": "stream",
     "text": [
      "INFO:sqlalchemy.engine.Engine:INSERT INTO nsi.[ERMO] ([IDMO], [NAM_MOP], [NAM_MOK], [INN], [KPP], [OGRN], [OID_MO], [OKOPF], [OKFS], [ADDR_J], [ADDR_J_GAR], [OKTMO], [EMAIL], [PHONE], [FAX], [DATEBEG], [DATEEND]) VALUES (?, ?, ?, ?, ?, ?, ?, ?, ?, ?, ?, ?, ?, ?, ?, ?, ?), (?, ?,  ... 6357 characters truncated ... ?, ?, ?, ?, ?, ?, ?, ?, ?, ?, ?, ?, ?, ?, ?, ?), (?, ?, ?, ?, ?, ?, ?, ?, ?, ?, ?, ?, ?, ?, ?, ?, ?)\n"
     ]
    },
    {
     "name": "stdout",
     "output_type": "stream",
     "text": [
      "2025-09-03 16:03:22,760 INFO sqlalchemy.engine.Engine [insertmanyvalues 19/72 (unordered)] ('00280100000000000', 'ОБЩЕСТВО С ОГРАНИЧЕННОЙ ОТВЕТСТВЕННОСТЬЮ \"ЛАДАДЕНТ\"', 'ООО \"ЛАДАДЕНТ\"', '2610017369', '263101001', '1062648001800', '1.2.643.5.1.13.13.12.2.26.11395', '12300', '16', '357110, край Ставропольский, г Невинномысск, ул Зорге, д 130', '6f38660e-9f75-4f33-bf78-209f5d51d3ac', '07000000000', 'LADADENT@MAIL.RU', '+78655443929', '', '05.05.2025', '31.12.2025', '00280200000000000', 'ОБЩЕСТВО С ОГРАНИЧЕННОЙ ОТВЕТСТВЕННОСТЬЮ \"СТАВРОПОЛЬСКИЙ ЦЕНТР СПЕЦИАЛИЗИРОВАННОЙ МЕДИЦИНСКОЙ ПОМОЩИ\"', 'ООО \"СТАВРОПОЛЬСКИЙ ЦЕНТР СПЕЦИАЛИЗИРОВАННОЙ МЕДИЦИНСКОЙ ПОМОЩИ\"', '2636210720', '263601001', '1162651063486', '1.2.643.5.1.13.13.12.2.26.11153', '12300', '16', ', край Ставропольский, г Ставрополь, ул Доваторцев, д 52В', '7defab0b-59df-42d5-bec5-07a0fdfedeae', '07000000000', 'USPEH26@LIST.RU', '+78652553224', '', '05.05.2025', '31.12.2025', '00280400000000000', 'ОБЩЕСТВО С ОГРАНИЧЕННОЙ ОТВЕТСТВЕННОСТЬЮ \"ЦЕНТР МЕДИЦИНЫ И РЕАБИЛИТАЦИИ \"ГАЛАМЕД\"', 'ООО «ЦМР «ГАЛАМЕД»', '2632096727', '263201001', '1092632002902', '1.2.643.5.1.13.13.12.2.26.11558', '12300', '16', '357501, край Ставропольский, г Пятигорск, ул Октябрьская, д 18А', 'cd5d7e5a-aedc-4b8f-9b0c-6139d10ca313', '07000000000', 'INFO@OOOCDB-KMV.RU', '+78793317808', '', '05.05.2025' ... 1991 parameters truncated ... 'ГОСУДАРСТВЕННОЕ БЮДЖЕТНОЕ УЧРЕЖДЕНИЕ ЗДРАВООХРАНЕНИЯ АМУРСКОЙ ОБЛАСТИ \"ШИМАНОВСКАЯ РАЙОННАЯ БОЛЬНИЦА\"', 'ГБУЗ АО \"ШИМАНОВСКАЯ РБ\"', '2809001474', '282901001', '1022800759057', '1.2.643.5.1.13.13.12.2.28.2651', '75203', '13', '676301, обл Амурская, г Шимановск, ул Больничная, д 1', '71a0fe8f-5ec3-4ccb-92ce-8fdae5a34956', '10000000000', 'SHIMBOL@AMURZDRAV.RU', '+74165120630', '', '15.07.2025', '31.12.2025', '00298500000000000', 'ГОСУДАРСТВЕННОЕ АВТОНОМНОЕ УЧРЕЖДЕНИЕ ЗДРАВООХРАНЕНИЯ АМУРСКОЙ ОБЛАСТИ \"АМУРСКАЯ ОБЛАСТНАЯ ИНФЕКЦИОННАЯ БОЛЬНИЦА\"', 'ГАУЗ АО АОИБ', '2801029975', '280101001', '1022800523866', '1.2.643.5.1.13.13.12.2.28.2648', '75201', '13', '675004, обл Амурская, г Благовещенск, ул Батарейная, д 15', '87c0db4c-dddc-45d9-800a-b8411aac87ba', '10000000000', 'AOIB@AMURZDRAV.RU', '+74162772166', '', '10.07.2025', '31.12.2025', '00298700000000000', 'ГОСУДАРСТВЕННОЕ АВТОНОМНОЕ УЧРЕЖДЕНИЕ ЗДРАВООХРАНЕНИЯ АМУРСКОЙ ОБЛАСТИ \"БЕЛОГОРСКАЯ МЕЖРАЙОННАЯ БОЛЬНИЦА\"', 'ГАУЗ АО \"БЕЛОГОРСКАЯ МЕЖРАЙОННАЯ БОЛЬНИЦА\"', '2804009409', '280401001', '1022800712923', '1.2.643.5.1.13.13.12.2.28.2638', '75201', '13', '676850, обл Амурская, г Белогорск, ул Набережная, д 116', '96d1a4fe-bf9d-4a6a-9dd0-b381aaa19e77', '10000000000', 'belbol@amurzdrav.ru', '+74164120796', '', '15.07.2025', '31.12.2025')\n"
     ]
    },
    {
     "name": "stderr",
     "output_type": "stream",
     "text": [
      "INFO:sqlalchemy.engine.Engine:[insertmanyvalues 19/72 (unordered)] ('00280100000000000', 'ОБЩЕСТВО С ОГРАНИЧЕННОЙ ОТВЕТСТВЕННОСТЬЮ \"ЛАДАДЕНТ\"', 'ООО \"ЛАДАДЕНТ\"', '2610017369', '263101001', '1062648001800', '1.2.643.5.1.13.13.12.2.26.11395', '12300', '16', '357110, край Ставропольский, г Невинномысск, ул Зорге, д 130', '6f38660e-9f75-4f33-bf78-209f5d51d3ac', '07000000000', 'LADADENT@MAIL.RU', '+78655443929', '', '05.05.2025', '31.12.2025', '00280200000000000', 'ОБЩЕСТВО С ОГРАНИЧЕННОЙ ОТВЕТСТВЕННОСТЬЮ \"СТАВРОПОЛЬСКИЙ ЦЕНТР СПЕЦИАЛИЗИРОВАННОЙ МЕДИЦИНСКОЙ ПОМОЩИ\"', 'ООО \"СТАВРОПОЛЬСКИЙ ЦЕНТР СПЕЦИАЛИЗИРОВАННОЙ МЕДИЦИНСКОЙ ПОМОЩИ\"', '2636210720', '263601001', '1162651063486', '1.2.643.5.1.13.13.12.2.26.11153', '12300', '16', ', край Ставропольский, г Ставрополь, ул Доваторцев, д 52В', '7defab0b-59df-42d5-bec5-07a0fdfedeae', '07000000000', 'USPEH26@LIST.RU', '+78652553224', '', '05.05.2025', '31.12.2025', '00280400000000000', 'ОБЩЕСТВО С ОГРАНИЧЕННОЙ ОТВЕТСТВЕННОСТЬЮ \"ЦЕНТР МЕДИЦИНЫ И РЕАБИЛИТАЦИИ \"ГАЛАМЕД\"', 'ООО «ЦМР «ГАЛАМЕД»', '2632096727', '263201001', '1092632002902', '1.2.643.5.1.13.13.12.2.26.11558', '12300', '16', '357501, край Ставропольский, г Пятигорск, ул Октябрьская, д 18А', 'cd5d7e5a-aedc-4b8f-9b0c-6139d10ca313', '07000000000', 'INFO@OOOCDB-KMV.RU', '+78793317808', '', '05.05.2025' ... 1991 parameters truncated ... 'ГОСУДАРСТВЕННОЕ БЮДЖЕТНОЕ УЧРЕЖДЕНИЕ ЗДРАВООХРАНЕНИЯ АМУРСКОЙ ОБЛАСТИ \"ШИМАНОВСКАЯ РАЙОННАЯ БОЛЬНИЦА\"', 'ГБУЗ АО \"ШИМАНОВСКАЯ РБ\"', '2809001474', '282901001', '1022800759057', '1.2.643.5.1.13.13.12.2.28.2651', '75203', '13', '676301, обл Амурская, г Шимановск, ул Больничная, д 1', '71a0fe8f-5ec3-4ccb-92ce-8fdae5a34956', '10000000000', 'SHIMBOL@AMURZDRAV.RU', '+74165120630', '', '15.07.2025', '31.12.2025', '00298500000000000', 'ГОСУДАРСТВЕННОЕ АВТОНОМНОЕ УЧРЕЖДЕНИЕ ЗДРАВООХРАНЕНИЯ АМУРСКОЙ ОБЛАСТИ \"АМУРСКАЯ ОБЛАСТНАЯ ИНФЕКЦИОННАЯ БОЛЬНИЦА\"', 'ГАУЗ АО АОИБ', '2801029975', '280101001', '1022800523866', '1.2.643.5.1.13.13.12.2.28.2648', '75201', '13', '675004, обл Амурская, г Благовещенск, ул Батарейная, д 15', '87c0db4c-dddc-45d9-800a-b8411aac87ba', '10000000000', 'AOIB@AMURZDRAV.RU', '+74162772166', '', '10.07.2025', '31.12.2025', '00298700000000000', 'ГОСУДАРСТВЕННОЕ АВТОНОМНОЕ УЧРЕЖДЕНИЕ ЗДРАВООХРАНЕНИЯ АМУРСКОЙ ОБЛАСТИ \"БЕЛОГОРСКАЯ МЕЖРАЙОННАЯ БОЛЬНИЦА\"', 'ГАУЗ АО \"БЕЛОГОРСКАЯ МЕЖРАЙОННАЯ БОЛЬНИЦА\"', '2804009409', '280401001', '1022800712923', '1.2.643.5.1.13.13.12.2.28.2638', '75201', '13', '676850, обл Амурская, г Белогорск, ул Набережная, д 116', '96d1a4fe-bf9d-4a6a-9dd0-b381aaa19e77', '10000000000', 'belbol@amurzdrav.ru', '+74164120796', '', '15.07.2025', '31.12.2025')\n"
     ]
    },
    {
     "name": "stdout",
     "output_type": "stream",
     "text": [
      "2025-09-03 16:03:22,878 INFO sqlalchemy.engine.Engine INSERT INTO nsi.[ERMO] ([IDMO], [NAM_MOP], [NAM_MOK], [INN], [KPP], [OGRN], [OID_MO], [OKOPF], [OKFS], [ADDR_J], [ADDR_J_GAR], [OKTMO], [EMAIL], [PHONE], [FAX], [DATEBEG], [DATEEND]) VALUES (?, ?, ?, ?, ?, ?, ?, ?, ?, ?, ?, ?, ?, ?, ?, ?, ?), (?, ?,  ... 6357 characters truncated ... ?, ?, ?, ?, ?, ?, ?, ?, ?, ?, ?, ?, ?, ?, ?, ?), (?, ?, ?, ?, ?, ?, ?, ?, ?, ?, ?, ?, ?, ?, ?, ?, ?)\n"
     ]
    },
    {
     "name": "stderr",
     "output_type": "stream",
     "text": [
      "INFO:sqlalchemy.engine.Engine:INSERT INTO nsi.[ERMO] ([IDMO], [NAM_MOP], [NAM_MOK], [INN], [KPP], [OGRN], [OID_MO], [OKOPF], [OKFS], [ADDR_J], [ADDR_J_GAR], [OKTMO], [EMAIL], [PHONE], [FAX], [DATEBEG], [DATEEND]) VALUES (?, ?, ?, ?, ?, ?, ?, ?, ?, ?, ?, ?, ?, ?, ?, ?, ?), (?, ?,  ... 6357 characters truncated ... ?, ?, ?, ?, ?, ?, ?, ?, ?, ?, ?, ?, ?, ?, ?, ?), (?, ?, ?, ?, ?, ?, ?, ?, ?, ?, ?, ?, ?, ?, ?, ?, ?)\n"
     ]
    },
    {
     "name": "stdout",
     "output_type": "stream",
     "text": [
      "2025-09-03 16:03:22,881 INFO sqlalchemy.engine.Engine [insertmanyvalues 20/72 (unordered)] ('00298800000000000', 'ГОСУДАРСТВЕННОЕ БЮДЖЕТНОЕ УЧРЕЖДЕНИЕ ЗДРАВООХРАНЕНИЯ АМУРСКОЙ ОБЛАСТИ \"АМУРСКИЙ ОБЛАСТНОЙ КОЖНО-ВЕНЕРОЛОГИЧЕСКИЙ ДИСПАНСЕР\"', 'ГБУЗ АО \"АОКВД\"', '2801032417', '280101001', '1022800530807', '1.2.643.5.1.13.13.12.2.28.2661', '75203', '13', '675004, обл Амурская, г Благовещенск, ул Новая, д 41', '8200ae1d-b66d-4e52-812f-babc50048286', '10000000000', 'aokvd@amurzdrav.ru', '+74162538089', '', '09.07.2025', '31.12.2025', '00298900000000000', 'ГОСУДАРСТВЕННОЕ АВТОНОМНОЕ УЧРЕЖДЕНИЕ ЗДРАВООХРАНЕНИЯ АМУРСКОЙ ОБЛАСТИ \"БОЛЬНИЦА РАБОЧЕГО ПОСЕЛКА (ПГТ) ПРОГРЕСС\"', 'ГАУЗ АО\"БОЛЬНИЦА РАБОЧЕГО ПОСЕЛКА (ПГТ) ПРОГРЕСС\"', '2806004075', '280601001', '1022800874260', '1.2.643.5.1.13.13.12.2.28.2671', '75201', '13', '676790, обл Амурская, пгт Прогресс, ул Ленинградская, д 30', 'fe7a644c-a13d-4387-a3bb-5affc144e4ca', '10000000000', 'doktorprogress@yandex.ru', '+74164745621', '', '11.07.2025', '31.12.2025', '00299000000000000', 'ГОСУДАРСТВЕННОЕ АВТОНОМНОЕ УЧРЕЖДЕНИЕ ЗДРАВООХРАНЕНИЯ АМУРСКОЙ ОБЛАСТИ \"МИХАЙЛОВСКАЯ РАЙОННАЯ БОЛЬНИЦА\"', 'ГАУЗ АО \"МИХАЙЛОВСКАЯ РАЙОННАЯ БОЛЬНИЦА\"', '2820000996', '282001001', '1022801201499', '1.2.643.5.1.13.13.12.2.28.2673', '75201', '13', '676680, обл Амурская, р-н Михайловский, с Поярково, ул Амурская, д 79', '9c69fad6-7f9f-4b9a-93b5-68ce774d6de7', '10000000000', 'mihbol@amurzdrav.ru', '+74163741233', '', '15.07.2025' ... 1991 parameters truncated ... 'ОБЩЕСТВО С ОГРАНИЧЕННОЙ ОТВЕТСТВЕННОСТЬЮ \"НОРДЕНТ\"', 'ООО \"НОРДЕНТ\"', '2902056333', '290201001', '1072902003844', '1.2.643.5.1.13.13.12.2.29.15185', '12300', '16', '164521, обл Архангельская, г Северодвинск, пр-кт Беломорский, д 54/15', '12179d57-b86f-4562-bba4-13334fb8971b', '11000000000', 'YAKOVLEVA704@RAMBLER.RU', '+78184500562', '', '10.07.2025', '31.12.2025', '00313200000000000', 'ОБЩЕСТВО С ОГРАНИЧЕННОЙ ОТВЕТСТВЕННОСТЬЮ \"ОТЛИЧНАЯ МЕДИЦИНА\"', 'ООО \"ОТЛИЧНАЯ МЕДИЦИНА\"', '2902066395', '290201001', '1102902002202', '1.2.643.5.1.13.13.12.2.29.22825', '12300', '16', '164501, обл Архангельская, г Северодвинск, ул Ломоносова, д. 42 к. А', '671e56fd-fc9e-4396-b45a-039f63649ec0', '11000000000', 'VLASTNO@YANDEX.RU', '+79062858848', '', '10.07.2025', '31.12.2025', '00313300000000000', 'ОБЩЕСТВО С ОГРАНИЧЕННОЙ ОТВЕТСТВЕННОСТЬЮ \"СЕВЕРМЕД\"', 'ООО \"СЕВЕРМЕД\"', '2902075294', '290201001', '1132932000190', '1.2.643.5.1.13.13.12.2.29.22827', '12300', '16', '364028, Респ Чеченская, г Грозный, ул имени Вахи Алиева, д 44', '2d23d0dc-aeb2-42a2-accc-5aeca9b303d0', '96000000000', 'VLASTNO@YANDEX.RU', '+79062858848', '', '20.08.2025', '31.12.2025')\n"
     ]
    },
    {
     "name": "stderr",
     "output_type": "stream",
     "text": [
      "INFO:sqlalchemy.engine.Engine:[insertmanyvalues 20/72 (unordered)] ('00298800000000000', 'ГОСУДАРСТВЕННОЕ БЮДЖЕТНОЕ УЧРЕЖДЕНИЕ ЗДРАВООХРАНЕНИЯ АМУРСКОЙ ОБЛАСТИ \"АМУРСКИЙ ОБЛАСТНОЙ КОЖНО-ВЕНЕРОЛОГИЧЕСКИЙ ДИСПАНСЕР\"', 'ГБУЗ АО \"АОКВД\"', '2801032417', '280101001', '1022800530807', '1.2.643.5.1.13.13.12.2.28.2661', '75203', '13', '675004, обл Амурская, г Благовещенск, ул Новая, д 41', '8200ae1d-b66d-4e52-812f-babc50048286', '10000000000', 'aokvd@amurzdrav.ru', '+74162538089', '', '09.07.2025', '31.12.2025', '00298900000000000', 'ГОСУДАРСТВЕННОЕ АВТОНОМНОЕ УЧРЕЖДЕНИЕ ЗДРАВООХРАНЕНИЯ АМУРСКОЙ ОБЛАСТИ \"БОЛЬНИЦА РАБОЧЕГО ПОСЕЛКА (ПГТ) ПРОГРЕСС\"', 'ГАУЗ АО\"БОЛЬНИЦА РАБОЧЕГО ПОСЕЛКА (ПГТ) ПРОГРЕСС\"', '2806004075', '280601001', '1022800874260', '1.2.643.5.1.13.13.12.2.28.2671', '75201', '13', '676790, обл Амурская, пгт Прогресс, ул Ленинградская, д 30', 'fe7a644c-a13d-4387-a3bb-5affc144e4ca', '10000000000', 'doktorprogress@yandex.ru', '+74164745621', '', '11.07.2025', '31.12.2025', '00299000000000000', 'ГОСУДАРСТВЕННОЕ АВТОНОМНОЕ УЧРЕЖДЕНИЕ ЗДРАВООХРАНЕНИЯ АМУРСКОЙ ОБЛАСТИ \"МИХАЙЛОВСКАЯ РАЙОННАЯ БОЛЬНИЦА\"', 'ГАУЗ АО \"МИХАЙЛОВСКАЯ РАЙОННАЯ БОЛЬНИЦА\"', '2820000996', '282001001', '1022801201499', '1.2.643.5.1.13.13.12.2.28.2673', '75201', '13', '676680, обл Амурская, р-н Михайловский, с Поярково, ул Амурская, д 79', '9c69fad6-7f9f-4b9a-93b5-68ce774d6de7', '10000000000', 'mihbol@amurzdrav.ru', '+74163741233', '', '15.07.2025' ... 1991 parameters truncated ... 'ОБЩЕСТВО С ОГРАНИЧЕННОЙ ОТВЕТСТВЕННОСТЬЮ \"НОРДЕНТ\"', 'ООО \"НОРДЕНТ\"', '2902056333', '290201001', '1072902003844', '1.2.643.5.1.13.13.12.2.29.15185', '12300', '16', '164521, обл Архангельская, г Северодвинск, пр-кт Беломорский, д 54/15', '12179d57-b86f-4562-bba4-13334fb8971b', '11000000000', 'YAKOVLEVA704@RAMBLER.RU', '+78184500562', '', '10.07.2025', '31.12.2025', '00313200000000000', 'ОБЩЕСТВО С ОГРАНИЧЕННОЙ ОТВЕТСТВЕННОСТЬЮ \"ОТЛИЧНАЯ МЕДИЦИНА\"', 'ООО \"ОТЛИЧНАЯ МЕДИЦИНА\"', '2902066395', '290201001', '1102902002202', '1.2.643.5.1.13.13.12.2.29.22825', '12300', '16', '164501, обл Архангельская, г Северодвинск, ул Ломоносова, д. 42 к. А', '671e56fd-fc9e-4396-b45a-039f63649ec0', '11000000000', 'VLASTNO@YANDEX.RU', '+79062858848', '', '10.07.2025', '31.12.2025', '00313300000000000', 'ОБЩЕСТВО С ОГРАНИЧЕННОЙ ОТВЕТСТВЕННОСТЬЮ \"СЕВЕРМЕД\"', 'ООО \"СЕВЕРМЕД\"', '2902075294', '290201001', '1132932000190', '1.2.643.5.1.13.13.12.2.29.22827', '12300', '16', '364028, Респ Чеченская, г Грозный, ул имени Вахи Алиева, д 44', '2d23d0dc-aeb2-42a2-accc-5aeca9b303d0', '96000000000', 'VLASTNO@YANDEX.RU', '+79062858848', '', '20.08.2025', '31.12.2025')\n"
     ]
    },
    {
     "name": "stdout",
     "output_type": "stream",
     "text": [
      "2025-09-03 16:03:23,001 INFO sqlalchemy.engine.Engine INSERT INTO nsi.[ERMO] ([IDMO], [NAM_MOP], [NAM_MOK], [INN], [KPP], [OGRN], [OID_MO], [OKOPF], [OKFS], [ADDR_J], [ADDR_J_GAR], [OKTMO], [EMAIL], [PHONE], [FAX], [DATEBEG], [DATEEND]) VALUES (?, ?, ?, ?, ?, ?, ?, ?, ?, ?, ?, ?, ?, ?, ?, ?, ?), (?, ?,  ... 6357 characters truncated ... ?, ?, ?, ?, ?, ?, ?, ?, ?, ?, ?, ?, ?, ?, ?, ?), (?, ?, ?, ?, ?, ?, ?, ?, ?, ?, ?, ?, ?, ?, ?, ?, ?)\n"
     ]
    },
    {
     "name": "stderr",
     "output_type": "stream",
     "text": [
      "INFO:sqlalchemy.engine.Engine:INSERT INTO nsi.[ERMO] ([IDMO], [NAM_MOP], [NAM_MOK], [INN], [KPP], [OGRN], [OID_MO], [OKOPF], [OKFS], [ADDR_J], [ADDR_J_GAR], [OKTMO], [EMAIL], [PHONE], [FAX], [DATEBEG], [DATEEND]) VALUES (?, ?, ?, ?, ?, ?, ?, ?, ?, ?, ?, ?, ?, ?, ?, ?, ?), (?, ?,  ... 6357 characters truncated ... ?, ?, ?, ?, ?, ?, ?, ?, ?, ?, ?, ?, ?, ?, ?, ?), (?, ?, ?, ?, ?, ?, ?, ?, ?, ?, ?, ?, ?, ?, ?, ?, ?)\n"
     ]
    },
    {
     "name": "stdout",
     "output_type": "stream",
     "text": [
      "2025-09-03 16:03:23,005 INFO sqlalchemy.engine.Engine [insertmanyvalues 21/72 (unordered)] ('00313400000000000', 'ОБЩЕСТВО С ОГРАНИЧЕННОЙ ОТВЕТСТВЕННОСТЬЮ \"АВА КЛИНИК\"', 'ООО \"АВА КЛИНИК\"', '2901226913', '290101001', '1122901009758', '1.2.643.5.1.13.13.12.2.29.11123', '12300', '16', '163046, обл Архангельская, г Архангельск, ул Г. Суфтина, д 18', 'e9933d23-7c11-4be5-b090-7c63501fc29d', '11000000000', 'AVAMEDICINA29@YANDEX.RU', '+78182442423', '', '10.07.2025', '31.12.2025', '00313500000000000', 'ГОСУДАРСТВЕННОЕ УНИТАРНОЕ ПРЕДПРИЯТИЕ АРХАНГЕЛЬСКОЙ ОБЛАСТИ \"ФАРМАЦИЯ\"', 'ГУПАО \"ФАРМАЦИЯ\"', '2900000247', '290101001', '1022900540618', '1.2.643.5.1.13.13.12.3.29.1678', '65242', '13', '163062, обл Архангельская, г Архангельск, ул Папанина, д 19', '5c7c3974-deb7-431e-92d0-210f784f9339', '11000000000', 'office@aptekaf.ru', '+78182636031', '', '05.08.2025', '31.12.2025', '00313700000000000', 'ОБЩЕСТВО С ОГРАНИЧЕННОЙ ОТВЕТСТВЕННОСТЬЮ \"ГОРОДСКОЙ ЦЕНТР СЕМЕЙНОЙ МЕДИЦИНЫ\"', 'ООО \"ГЦСМ\"', '2901252208', '290101001', '1142901010812', '1.2.643.5.1.13.13.12.2.29.20673', '12300', '16', '163002, обл Архангельская, г Архангельск, ул Урицкого, д 20', 'e25adc21-ff86-449d-a8a5-2afb59fa795a', '11000000000', 'MAIL@LOR29.RU', '+78182608088', '', '10.07.2025' ... 1991 parameters truncated ... 'ОБЛАСТНОЕ ГОСУДАРСТВЕННОЕ БЮДЖЕТНОЕ УЧРЕЖДЕНИЕ ЗДРАВООХРАНЕНИЯ \"БЕЛГОРОДСКИЙ ЦЕНТР ПРОФИЛАКТИКИ И БОРЬБЫ СО СПИД\"', 'ОГБУЗ \"БЕЛГОРОДСКИЙ ЦЕНТР ПРОФИЛАКТИКИ И БОРЬБЫ СО СПИД\"', '3123030441', '312301001', '1023101675805', '1.2.643.5.1.13.13.12.2.31.2895', '75203', '13', '308023, обл Белгородская, г Белгород, ул Садовая, д 122а', '51b5234c-5dbe-4817-aed5-e5b835102663', '14000000000', 'aidsa@belgtts.ru', '+74722345210', '', '30.04.2025', '31.12.2025', '00329700000000000', 'ОБЛАСТНОЕ ГОСУДАРСТВЕННОЕ БЮДЖЕТНОЕ УЧРЕЖДЕНИЕ ЗДРАВООХРАНЕНИЯ \"СТАНЦИЯ СКОРОЙ МЕДИЦИНСКОЙ ПОМОЩИ БЕЛГОРОДСКОЙ ОБЛАСТИ\"', 'ОГБУЗ \"ССМП БЕЛГОРОДСКОЙ ОБЛАСТИ\"', '3123021126', '312301001', '1023101678082', '1.2.643.5.1.13.13.12.2.31.2908', '75203', '13', '308001, обл Белгородская, г Белгород, пр-кт Белгородский, д 55', '6a9b2c1f-bebf-49b5-af96-20040efb6bed', '14000000000', 'orion38@yandex.ru', '+74722270530', '', '11.07.2025', '31.12.2025', '00330100000000000', 'ОБЩЕСТВО С ОГРАНИЧЕННОЙ ОТВЕТСТВЕННОСТЬЮ \"ДИАГНОСТИЧЕСКИЙ ЦЕНТР\"', 'ООО \"ДИАГНОСТИЧЕСКИЙ ЦЕНТР\"', '3123324480', '312301001', '1133123009766', '1.2.643.5.1.13.13.12.2.31.21845', '12300', '16', '308007, обл Белгородская, г Белгород, пр-кт Б.Хмельницкого, д 92а', 'c50032ec-1f70-4978-a1c4-2cca55c98944', '14000000000', 'medcentr@belpokolenie.ru', '+74722586036', '', '07.05.2025', '31.12.2025')\n"
     ]
    },
    {
     "name": "stderr",
     "output_type": "stream",
     "text": [
      "INFO:sqlalchemy.engine.Engine:[insertmanyvalues 21/72 (unordered)] ('00313400000000000', 'ОБЩЕСТВО С ОГРАНИЧЕННОЙ ОТВЕТСТВЕННОСТЬЮ \"АВА КЛИНИК\"', 'ООО \"АВА КЛИНИК\"', '2901226913', '290101001', '1122901009758', '1.2.643.5.1.13.13.12.2.29.11123', '12300', '16', '163046, обл Архангельская, г Архангельск, ул Г. Суфтина, д 18', 'e9933d23-7c11-4be5-b090-7c63501fc29d', '11000000000', 'AVAMEDICINA29@YANDEX.RU', '+78182442423', '', '10.07.2025', '31.12.2025', '00313500000000000', 'ГОСУДАРСТВЕННОЕ УНИТАРНОЕ ПРЕДПРИЯТИЕ АРХАНГЕЛЬСКОЙ ОБЛАСТИ \"ФАРМАЦИЯ\"', 'ГУПАО \"ФАРМАЦИЯ\"', '2900000247', '290101001', '1022900540618', '1.2.643.5.1.13.13.12.3.29.1678', '65242', '13', '163062, обл Архангельская, г Архангельск, ул Папанина, д 19', '5c7c3974-deb7-431e-92d0-210f784f9339', '11000000000', 'office@aptekaf.ru', '+78182636031', '', '05.08.2025', '31.12.2025', '00313700000000000', 'ОБЩЕСТВО С ОГРАНИЧЕННОЙ ОТВЕТСТВЕННОСТЬЮ \"ГОРОДСКОЙ ЦЕНТР СЕМЕЙНОЙ МЕДИЦИНЫ\"', 'ООО \"ГЦСМ\"', '2901252208', '290101001', '1142901010812', '1.2.643.5.1.13.13.12.2.29.20673', '12300', '16', '163002, обл Архангельская, г Архангельск, ул Урицкого, д 20', 'e25adc21-ff86-449d-a8a5-2afb59fa795a', '11000000000', 'MAIL@LOR29.RU', '+78182608088', '', '10.07.2025' ... 1991 parameters truncated ... 'ОБЛАСТНОЕ ГОСУДАРСТВЕННОЕ БЮДЖЕТНОЕ УЧРЕЖДЕНИЕ ЗДРАВООХРАНЕНИЯ \"БЕЛГОРОДСКИЙ ЦЕНТР ПРОФИЛАКТИКИ И БОРЬБЫ СО СПИД\"', 'ОГБУЗ \"БЕЛГОРОДСКИЙ ЦЕНТР ПРОФИЛАКТИКИ И БОРЬБЫ СО СПИД\"', '3123030441', '312301001', '1023101675805', '1.2.643.5.1.13.13.12.2.31.2895', '75203', '13', '308023, обл Белгородская, г Белгород, ул Садовая, д 122а', '51b5234c-5dbe-4817-aed5-e5b835102663', '14000000000', 'aidsa@belgtts.ru', '+74722345210', '', '30.04.2025', '31.12.2025', '00329700000000000', 'ОБЛАСТНОЕ ГОСУДАРСТВЕННОЕ БЮДЖЕТНОЕ УЧРЕЖДЕНИЕ ЗДРАВООХРАНЕНИЯ \"СТАНЦИЯ СКОРОЙ МЕДИЦИНСКОЙ ПОМОЩИ БЕЛГОРОДСКОЙ ОБЛАСТИ\"', 'ОГБУЗ \"ССМП БЕЛГОРОДСКОЙ ОБЛАСТИ\"', '3123021126', '312301001', '1023101678082', '1.2.643.5.1.13.13.12.2.31.2908', '75203', '13', '308001, обл Белгородская, г Белгород, пр-кт Белгородский, д 55', '6a9b2c1f-bebf-49b5-af96-20040efb6bed', '14000000000', 'orion38@yandex.ru', '+74722270530', '', '11.07.2025', '31.12.2025', '00330100000000000', 'ОБЩЕСТВО С ОГРАНИЧЕННОЙ ОТВЕТСТВЕННОСТЬЮ \"ДИАГНОСТИЧЕСКИЙ ЦЕНТР\"', 'ООО \"ДИАГНОСТИЧЕСКИЙ ЦЕНТР\"', '3123324480', '312301001', '1133123009766', '1.2.643.5.1.13.13.12.2.31.21845', '12300', '16', '308007, обл Белгородская, г Белгород, пр-кт Б.Хмельницкого, д 92а', 'c50032ec-1f70-4978-a1c4-2cca55c98944', '14000000000', 'medcentr@belpokolenie.ru', '+74722586036', '', '07.05.2025', '31.12.2025')\n"
     ]
    },
    {
     "name": "stdout",
     "output_type": "stream",
     "text": [
      "2025-09-03 16:03:23,111 INFO sqlalchemy.engine.Engine INSERT INTO nsi.[ERMO] ([IDMO], [NAM_MOP], [NAM_MOK], [INN], [KPP], [OGRN], [OID_MO], [OKOPF], [OKFS], [ADDR_J], [ADDR_J_GAR], [OKTMO], [EMAIL], [PHONE], [FAX], [DATEBEG], [DATEEND]) VALUES (?, ?, ?, ?, ?, ?, ?, ?, ?, ?, ?, ?, ?, ?, ?, ?, ?), (?, ?,  ... 6357 characters truncated ... ?, ?, ?, ?, ?, ?, ?, ?, ?, ?, ?, ?, ?, ?, ?, ?), (?, ?, ?, ?, ?, ?, ?, ?, ?, ?, ?, ?, ?, ?, ?, ?, ?)\n"
     ]
    },
    {
     "name": "stderr",
     "output_type": "stream",
     "text": [
      "INFO:sqlalchemy.engine.Engine:INSERT INTO nsi.[ERMO] ([IDMO], [NAM_MOP], [NAM_MOK], [INN], [KPP], [OGRN], [OID_MO], [OKOPF], [OKFS], [ADDR_J], [ADDR_J_GAR], [OKTMO], [EMAIL], [PHONE], [FAX], [DATEBEG], [DATEEND]) VALUES (?, ?, ?, ?, ?, ?, ?, ?, ?, ?, ?, ?, ?, ?, ?, ?, ?), (?, ?,  ... 6357 characters truncated ... ?, ?, ?, ?, ?, ?, ?, ?, ?, ?, ?, ?, ?, ?, ?, ?), (?, ?, ?, ?, ?, ?, ?, ?, ?, ?, ?, ?, ?, ?, ?, ?, ?)\n"
     ]
    },
    {
     "name": "stdout",
     "output_type": "stream",
     "text": [
      "2025-09-03 16:03:23,113 INFO sqlalchemy.engine.Engine [insertmanyvalues 22/72 (unordered)] ('00330200000000000', 'ОБЩЕСТВО С ОГРАНИЧЕННОЙ ОТВЕТСТВЕННОСТЬЮ \"ЛЕЧЕБНО-ДИАГНОСТИЧЕСКИЙ ЦЕНТР МЕЖДУНАРОДНОГО ИНСТИТУТА БИОЛОГИЧЕСКИХ СИСТЕМ - БЕЛГОРОД\"', 'ООО \"ЛДЦ МИБС - БЕЛГОРОД\"', '3123282424', '312301001', '1113123007986', '1.2.643.5.1.13.13.12.2.31.21294', '12300', '16', '308004, обл Белгородская, г Белгород, ул Губкина, д 46', '34adedb1-0a99-43cc-b1e3-3e943a9df7a9', '14000000000', 'INFO@LDC.RU', '+74722231327', '', '01.01.2025', '31.12.2025', '00330300000000000', 'ОБЩЕСТВО С ОГРАНИЧЕННОЙ ОТВЕТСТВЕННОСТЬЮ \"ЛЕЧЕБНО-ДИАГНОСТИЧЕСКИЙ ЦЕНТР МЕЖДУНАРОДНОГО ИНСТИТУТА БИОЛОГИЧЕСКИХ СИСТЕМ - СТАРЫЙ ОСКОЛ\"', 'ООО \"ЛДЦ МИБС - СТАРЫЙ ОСКОЛ\"', '3128082228', '312801001', '1113128002481', '1.2.643.5.1.13.13.12.2.31.21949', '12300', '16', '309514, обл Белгородская, г Старый Оскол, ул Комсомольская, д 81/14', '00984501-0a2e-4695-88e3-575802344885', '14000000000', 'OSKOLBUHG@LDC.RU', '+74725474474', '', '08.08.2025', '31.12.2025', '00330400000000000', 'ОБЩЕСТВО С ОГРАНИЧЕННОЙ ОТВЕТСТВЕННОСТЬЮ \"МЕДСТАНДАРТ\"', 'ООО \"МЕДСТАНДАРТ\"', '3126017311', '312601001', '1123126000568', '1.2.643.5.1.13.13.12.2.31.21904', '12300', '16', '309996, обл Белгородская, р-н Валуйский, г Валуйки, ул Октябрьская, д 31/1', 'fdf3525d-2ef5-4954-b903-28d6585a7878', '14000000000', 'MEDEXPERTVAL@MAIL.RU', '+79205529396', '', '06.05.2025' ... 1991 parameters truncated ... 'ФЕДЕРАЛЬНОЕ КАЗЕННОЕ УЧРЕЖДЕНИЕ ЗДРАВООХРАНЕНИЯ \"МЕДИКО-САНИТАРНАЯ ЧАСТЬ МИНИСТЕРСТВА ВНУТРЕННИХ ДЕЛ РОССИЙСКОЙ ФЕДЕРАЦИИ ПО ВЛАДИМИРСКОЙ ОБЛАСТИ\"', 'ФКУЗ \"МСЧ МВД РОССИИ ПО ВЛАДИМИРСКОЙ ОБЛАСТИ\"', '3328441202', '332801001', '1063328004740', '1.2.643.5.1.13.13.12.2.33.11349', '75104', '12', '600017, обл Владимирская, г Владимир, ул Сакко и Ванцетти, д 35', '01703c0d-ba24-4568-bf66-3590010d4f9e', '17000000000', 'msch33@mvd.ru', '+74922520475', '', '10.06.2025', '31.12.2025', '00346500000000000', 'ГОСУДАРСТВЕННОЕ БЮДЖЕТНОЕ УЧРЕЖДЕНИЕ ЗДРАВООХРАНЕНИЯ ВЛАДИМИРСКОЙ ОБЛАСТИ \"АЛЕКСАНДРОВСКАЯ СТОМАТОЛОГИЧЕСКАЯ ПОЛИКЛИНИКА\"', 'ГБУЗ ВО \"АСП\"', '3301002039', '330101001', '1023303151717', '1.2.643.5.1.13.13.12.2.33.3003', '75203', '13', '601655, обл Владимирская, р-н Александровский, г Александров, ул Терешковой, д 9', '3942d92f-c00d-4477-8598-dfcf7e238edc', '17000000000', 'stomatology@alexandrov.ru', '+74924462899', '', '14.07.2025', '31.12.2025', '00346600000000000', 'ГОСУДАРСТВЕННОЕ БЮДЖЕТНОЕ УЧРЕЖДЕНИЕ ЗДРАВООХРАНЕНИЯ ВЛАДИМИРСКОЙ ОБЛАСТИ \"СТОМАТОЛОГИЧЕСКАЯ ПОЛИКЛИНИКА № 1 Г.ВЯЗНИКИ\"', 'ГБУЗ ВО \"СТОМАТОЛОГИЧЕСКАЯ ПОЛИКЛИНИКА № 1 Г.ВЯЗНИКИ\"', '3303001672', '330301001', '1023302951770', '1.2.643.5.1.13.13.12.2.33.3022', '75203', '13', '601441, обл Владимирская, р-н Вязниковский, г Вязники, ул Благовещенская, д 9', '505233ff-3097-4811-b25a-db2ab7f2ef7f', '17000000000', 'root@vzstomatolog.viaz.elcom.ru', '+74923323258', '', '14.04.2025', '31.12.2025')\n"
     ]
    },
    {
     "name": "stderr",
     "output_type": "stream",
     "text": [
      "INFO:sqlalchemy.engine.Engine:[insertmanyvalues 22/72 (unordered)] ('00330200000000000', 'ОБЩЕСТВО С ОГРАНИЧЕННОЙ ОТВЕТСТВЕННОСТЬЮ \"ЛЕЧЕБНО-ДИАГНОСТИЧЕСКИЙ ЦЕНТР МЕЖДУНАРОДНОГО ИНСТИТУТА БИОЛОГИЧЕСКИХ СИСТЕМ - БЕЛГОРОД\"', 'ООО \"ЛДЦ МИБС - БЕЛГОРОД\"', '3123282424', '312301001', '1113123007986', '1.2.643.5.1.13.13.12.2.31.21294', '12300', '16', '308004, обл Белгородская, г Белгород, ул Губкина, д 46', '34adedb1-0a99-43cc-b1e3-3e943a9df7a9', '14000000000', 'INFO@LDC.RU', '+74722231327', '', '01.01.2025', '31.12.2025', '00330300000000000', 'ОБЩЕСТВО С ОГРАНИЧЕННОЙ ОТВЕТСТВЕННОСТЬЮ \"ЛЕЧЕБНО-ДИАГНОСТИЧЕСКИЙ ЦЕНТР МЕЖДУНАРОДНОГО ИНСТИТУТА БИОЛОГИЧЕСКИХ СИСТЕМ - СТАРЫЙ ОСКОЛ\"', 'ООО \"ЛДЦ МИБС - СТАРЫЙ ОСКОЛ\"', '3128082228', '312801001', '1113128002481', '1.2.643.5.1.13.13.12.2.31.21949', '12300', '16', '309514, обл Белгородская, г Старый Оскол, ул Комсомольская, д 81/14', '00984501-0a2e-4695-88e3-575802344885', '14000000000', 'OSKOLBUHG@LDC.RU', '+74725474474', '', '08.08.2025', '31.12.2025', '00330400000000000', 'ОБЩЕСТВО С ОГРАНИЧЕННОЙ ОТВЕТСТВЕННОСТЬЮ \"МЕДСТАНДАРТ\"', 'ООО \"МЕДСТАНДАРТ\"', '3126017311', '312601001', '1123126000568', '1.2.643.5.1.13.13.12.2.31.21904', '12300', '16', '309996, обл Белгородская, р-н Валуйский, г Валуйки, ул Октябрьская, д 31/1', 'fdf3525d-2ef5-4954-b903-28d6585a7878', '14000000000', 'MEDEXPERTVAL@MAIL.RU', '+79205529396', '', '06.05.2025' ... 1991 parameters truncated ... 'ФЕДЕРАЛЬНОЕ КАЗЕННОЕ УЧРЕЖДЕНИЕ ЗДРАВООХРАНЕНИЯ \"МЕДИКО-САНИТАРНАЯ ЧАСТЬ МИНИСТЕРСТВА ВНУТРЕННИХ ДЕЛ РОССИЙСКОЙ ФЕДЕРАЦИИ ПО ВЛАДИМИРСКОЙ ОБЛАСТИ\"', 'ФКУЗ \"МСЧ МВД РОССИИ ПО ВЛАДИМИРСКОЙ ОБЛАСТИ\"', '3328441202', '332801001', '1063328004740', '1.2.643.5.1.13.13.12.2.33.11349', '75104', '12', '600017, обл Владимирская, г Владимир, ул Сакко и Ванцетти, д 35', '01703c0d-ba24-4568-bf66-3590010d4f9e', '17000000000', 'msch33@mvd.ru', '+74922520475', '', '10.06.2025', '31.12.2025', '00346500000000000', 'ГОСУДАРСТВЕННОЕ БЮДЖЕТНОЕ УЧРЕЖДЕНИЕ ЗДРАВООХРАНЕНИЯ ВЛАДИМИРСКОЙ ОБЛАСТИ \"АЛЕКСАНДРОВСКАЯ СТОМАТОЛОГИЧЕСКАЯ ПОЛИКЛИНИКА\"', 'ГБУЗ ВО \"АСП\"', '3301002039', '330101001', '1023303151717', '1.2.643.5.1.13.13.12.2.33.3003', '75203', '13', '601655, обл Владимирская, р-н Александровский, г Александров, ул Терешковой, д 9', '3942d92f-c00d-4477-8598-dfcf7e238edc', '17000000000', 'stomatology@alexandrov.ru', '+74924462899', '', '14.07.2025', '31.12.2025', '00346600000000000', 'ГОСУДАРСТВЕННОЕ БЮДЖЕТНОЕ УЧРЕЖДЕНИЕ ЗДРАВООХРАНЕНИЯ ВЛАДИМИРСКОЙ ОБЛАСТИ \"СТОМАТОЛОГИЧЕСКАЯ ПОЛИКЛИНИКА № 1 Г.ВЯЗНИКИ\"', 'ГБУЗ ВО \"СТОМАТОЛОГИЧЕСКАЯ ПОЛИКЛИНИКА № 1 Г.ВЯЗНИКИ\"', '3303001672', '330301001', '1023302951770', '1.2.643.5.1.13.13.12.2.33.3022', '75203', '13', '601441, обл Владимирская, р-н Вязниковский, г Вязники, ул Благовещенская, д 9', '505233ff-3097-4811-b25a-db2ab7f2ef7f', '17000000000', 'root@vzstomatolog.viaz.elcom.ru', '+74923323258', '', '14.04.2025', '31.12.2025')\n"
     ]
    },
    {
     "name": "stdout",
     "output_type": "stream",
     "text": [
      "2025-09-03 16:03:23,234 INFO sqlalchemy.engine.Engine INSERT INTO nsi.[ERMO] ([IDMO], [NAM_MOP], [NAM_MOK], [INN], [KPP], [OGRN], [OID_MO], [OKOPF], [OKFS], [ADDR_J], [ADDR_J_GAR], [OKTMO], [EMAIL], [PHONE], [FAX], [DATEBEG], [DATEEND]) VALUES (?, ?, ?, ?, ?, ?, ?, ?, ?, ?, ?, ?, ?, ?, ?, ?, ?), (?, ?,  ... 6357 characters truncated ... ?, ?, ?, ?, ?, ?, ?, ?, ?, ?, ?, ?, ?, ?, ?, ?), (?, ?, ?, ?, ?, ?, ?, ?, ?, ?, ?, ?, ?, ?, ?, ?, ?)\n"
     ]
    },
    {
     "name": "stderr",
     "output_type": "stream",
     "text": [
      "INFO:sqlalchemy.engine.Engine:INSERT INTO nsi.[ERMO] ([IDMO], [NAM_MOP], [NAM_MOK], [INN], [KPP], [OGRN], [OID_MO], [OKOPF], [OKFS], [ADDR_J], [ADDR_J_GAR], [OKTMO], [EMAIL], [PHONE], [FAX], [DATEBEG], [DATEEND]) VALUES (?, ?, ?, ?, ?, ?, ?, ?, ?, ?, ?, ?, ?, ?, ?, ?, ?), (?, ?,  ... 6357 characters truncated ... ?, ?, ?, ?, ?, ?, ?, ?, ?, ?, ?, ?, ?, ?, ?, ?), (?, ?, ?, ?, ?, ?, ?, ?, ?, ?, ?, ?, ?, ?, ?, ?, ?)\n"
     ]
    },
    {
     "name": "stdout",
     "output_type": "stream",
     "text": [
      "2025-09-03 16:03:23,235 INFO sqlalchemy.engine.Engine [insertmanyvalues 23/72 (unordered)] ('00346700000000000', 'ГОСУДАРСТВЕННОЕ БЮДЖЕТНОЕ УЧРЕЖДЕНИЕ ЗДРАВООХРАНЕНИЯ ВЛАДИМИРСКОЙ ОБЛАСТИ \"ГУСЬ-ХРУСТАЛЬНАЯ СТОМАТОЛОГИЧЕСКАЯ ПОЛИКЛИНИКА\"', 'ГБУЗ ВО \"ГУСЬ-ХРУСТАЛЬНАЯ СТОМАТОЛОГИЧЕСКАЯ ПОЛИКЛИНИКА\"', '3304005711', '330401001', '1033300200713', '1.2.643.5.1.13.13.12.2.33.3013', '75203', '13', '601501, обл Владимирская, г Гусь-Хрустальный, ул Октябрьская, д 25а', '5e8cbbdf-9ad7-446e-acb9-3d23c2f569a3', '17000000000', 'dantist@gus.elcom.ru', '+74924120542', '', '14.07.2025', '31.12.2025', '00346900000000000', 'ГОСУДАРСТВЕННОЕ БЮДЖЕТНОЕ УЧРЕЖДЕНИЕ ЗДРАВООХРАНЕНИЯ ВЛАДИМИРСКОЙ ОБЛАСТИ \"КОВРОВСКАЯ СТОМАТОЛОГИЧЕСКАЯ ПОЛИКЛИНИКА\"', 'ГБУЗ ВО \"КСП\"', '3305008497', '330501001', '1033302208103', '1.2.643.5.1.13.13.12.2.33.3017', '75203', '13', '601901, обл Владимирская, г Ковров, ул Циолковского, д 12', '3cf8fb6c-54a2-4e41-aa6d-741ccb8ddc49', '17000000000', 'mail@kovsp.ru', '+74923246905', '', '16.04.2025', '31.12.2025', '00347000000000000', 'ГОСУДАРСТВЕННОЕ БЮДЖЕТНОЕ УЧРЕЖДЕНИЕ ЗДРАВООХРАНЕНИЯ ВЛАДИМИРСКОЙ ОБЛАСТИ \"КОЛЬЧУГИНСКАЯ РАЙОННАЯ СТОМАТОЛОГИЧЕСКАЯ ПОЛИКЛИНИКА\"', 'ГБУЗ ВО \"КОЛЬЧУГИНСКАЯ РСП\"', '3306009863', '330601001', '1053300905426', '1.2.643.5.1.13.13.12.2.33.3074', '75203', '13', '601785, обл Владимирская, р-н Кольчугинский, г Кольчугино, ул Ленина, д 13', '5df3f081-4864-477a-b4eb-a2607bb27bcf', '17000000000', 'stom@kolchrsp.ru', '+74924523744', '', '15.07.2025' ... 1991 parameters truncated ... 'ГОСУДАРСТВЕННОЕ БЮДЖЕТНОЕ УЧРЕЖДЕНИЕ ЗДРАВООХРАНЕНИЯ \"ДАНИЛОВСКАЯ ЦЕНТРАЛЬНАЯ РАЙОННАЯ БОЛЬНИЦА\"', 'ГБУЗ \"ДАНИЛОВСКАЯ ЦРБ\"', '3404001380', '340401001', '1023405562586', '1.2.643.5.1.13.13.12.2.34.3098', '75203', '13', '403371, обл Волгоградская, р-н Даниловский, рп Даниловка, ул Северная, д 31', 'cd973e75-a97a-465e-bb5b-3126188be4eb', '18000000000', 'crb_danilovka@volganet.ru', '+78446153708', '', '31.07.2025', '31.12.2025', '00361500000000000', 'ГОСУДАРСТВЕННОЕ БЮДЖЕТНОЕ УЧРЕЖДЕНИЕ ЗДРАВООХРАНЕНИЯ \"ЦЕНТРАЛЬНАЯ РАЙОННАЯ БОЛЬНИЦА ДУБОВСКОГО МУНИЦИПАЛЬНОГО РАЙОНА\"', 'ГБУЗ \"ЦРБ ДУБОВСКОГО МУНИЦИПАЛЬНОГО РАЙОНА\"', '3405000815', '340501001', '1023405371879', '1.2.643.5.1.13.13.12.2.34.3194', '75203', '13', '404002, обл Волгоградская, р-н Дубовский, г Дубовка, ул Октябрьская, д 17', '3f09fa26-8ddf-4ed6-87eb-c6df15db2002', '18000000000', 'crb_dubovka@volganet.ru', '+78442202602', '', '31.07.2025', '31.12.2025', '00361600000000000', 'ГОСУДАРСТВЕННОЕ БЮДЖЕТНОЕ УЧРЕЖДЕНИЕ ЗДРАВООХРАНЕНИЯ ЕЛАНСКАЯ ЦЕНТРАЛЬНАЯ РАЙОННАЯ БОЛЬНИЦА ВОЛГОГРАДСКОЙ ОБЛАСТИ', 'ГБУЗ ЕЛАНСКАЯ ЦРБ', '3406200091', '340601001', '1023405761961', '1.2.643.5.1.13.13.12.2.34.3140', '75203', '13', '403732, обл Волгоградская, р-н Еланский, рп Елань, ул Мира, д 1', '75cc55c4-11eb-4459-b9df-f93c3ef753e1', '18000000000', 'crb_elan@volganet.ru', '+78445255742', '', '31.07.2025', '31.12.2025')\n"
     ]
    },
    {
     "name": "stderr",
     "output_type": "stream",
     "text": [
      "INFO:sqlalchemy.engine.Engine:[insertmanyvalues 23/72 (unordered)] ('00346700000000000', 'ГОСУДАРСТВЕННОЕ БЮДЖЕТНОЕ УЧРЕЖДЕНИЕ ЗДРАВООХРАНЕНИЯ ВЛАДИМИРСКОЙ ОБЛАСТИ \"ГУСЬ-ХРУСТАЛЬНАЯ СТОМАТОЛОГИЧЕСКАЯ ПОЛИКЛИНИКА\"', 'ГБУЗ ВО \"ГУСЬ-ХРУСТАЛЬНАЯ СТОМАТОЛОГИЧЕСКАЯ ПОЛИКЛИНИКА\"', '3304005711', '330401001', '1033300200713', '1.2.643.5.1.13.13.12.2.33.3013', '75203', '13', '601501, обл Владимирская, г Гусь-Хрустальный, ул Октябрьская, д 25а', '5e8cbbdf-9ad7-446e-acb9-3d23c2f569a3', '17000000000', 'dantist@gus.elcom.ru', '+74924120542', '', '14.07.2025', '31.12.2025', '00346900000000000', 'ГОСУДАРСТВЕННОЕ БЮДЖЕТНОЕ УЧРЕЖДЕНИЕ ЗДРАВООХРАНЕНИЯ ВЛАДИМИРСКОЙ ОБЛАСТИ \"КОВРОВСКАЯ СТОМАТОЛОГИЧЕСКАЯ ПОЛИКЛИНИКА\"', 'ГБУЗ ВО \"КСП\"', '3305008497', '330501001', '1033302208103', '1.2.643.5.1.13.13.12.2.33.3017', '75203', '13', '601901, обл Владимирская, г Ковров, ул Циолковского, д 12', '3cf8fb6c-54a2-4e41-aa6d-741ccb8ddc49', '17000000000', 'mail@kovsp.ru', '+74923246905', '', '16.04.2025', '31.12.2025', '00347000000000000', 'ГОСУДАРСТВЕННОЕ БЮДЖЕТНОЕ УЧРЕЖДЕНИЕ ЗДРАВООХРАНЕНИЯ ВЛАДИМИРСКОЙ ОБЛАСТИ \"КОЛЬЧУГИНСКАЯ РАЙОННАЯ СТОМАТОЛОГИЧЕСКАЯ ПОЛИКЛИНИКА\"', 'ГБУЗ ВО \"КОЛЬЧУГИНСКАЯ РСП\"', '3306009863', '330601001', '1053300905426', '1.2.643.5.1.13.13.12.2.33.3074', '75203', '13', '601785, обл Владимирская, р-н Кольчугинский, г Кольчугино, ул Ленина, д 13', '5df3f081-4864-477a-b4eb-a2607bb27bcf', '17000000000', 'stom@kolchrsp.ru', '+74924523744', '', '15.07.2025' ... 1991 parameters truncated ... 'ГОСУДАРСТВЕННОЕ БЮДЖЕТНОЕ УЧРЕЖДЕНИЕ ЗДРАВООХРАНЕНИЯ \"ДАНИЛОВСКАЯ ЦЕНТРАЛЬНАЯ РАЙОННАЯ БОЛЬНИЦА\"', 'ГБУЗ \"ДАНИЛОВСКАЯ ЦРБ\"', '3404001380', '340401001', '1023405562586', '1.2.643.5.1.13.13.12.2.34.3098', '75203', '13', '403371, обл Волгоградская, р-н Даниловский, рп Даниловка, ул Северная, д 31', 'cd973e75-a97a-465e-bb5b-3126188be4eb', '18000000000', 'crb_danilovka@volganet.ru', '+78446153708', '', '31.07.2025', '31.12.2025', '00361500000000000', 'ГОСУДАРСТВЕННОЕ БЮДЖЕТНОЕ УЧРЕЖДЕНИЕ ЗДРАВООХРАНЕНИЯ \"ЦЕНТРАЛЬНАЯ РАЙОННАЯ БОЛЬНИЦА ДУБОВСКОГО МУНИЦИПАЛЬНОГО РАЙОНА\"', 'ГБУЗ \"ЦРБ ДУБОВСКОГО МУНИЦИПАЛЬНОГО РАЙОНА\"', '3405000815', '340501001', '1023405371879', '1.2.643.5.1.13.13.12.2.34.3194', '75203', '13', '404002, обл Волгоградская, р-н Дубовский, г Дубовка, ул Октябрьская, д 17', '3f09fa26-8ddf-4ed6-87eb-c6df15db2002', '18000000000', 'crb_dubovka@volganet.ru', '+78442202602', '', '31.07.2025', '31.12.2025', '00361600000000000', 'ГОСУДАРСТВЕННОЕ БЮДЖЕТНОЕ УЧРЕЖДЕНИЕ ЗДРАВООХРАНЕНИЯ ЕЛАНСКАЯ ЦЕНТРАЛЬНАЯ РАЙОННАЯ БОЛЬНИЦА ВОЛГОГРАДСКОЙ ОБЛАСТИ', 'ГБУЗ ЕЛАНСКАЯ ЦРБ', '3406200091', '340601001', '1023405761961', '1.2.643.5.1.13.13.12.2.34.3140', '75203', '13', '403732, обл Волгоградская, р-н Еланский, рп Елань, ул Мира, д 1', '75cc55c4-11eb-4459-b9df-f93c3ef753e1', '18000000000', 'crb_elan@volganet.ru', '+78445255742', '', '31.07.2025', '31.12.2025')\n"
     ]
    },
    {
     "name": "stdout",
     "output_type": "stream",
     "text": [
      "2025-09-03 16:03:23,332 INFO sqlalchemy.engine.Engine INSERT INTO nsi.[ERMO] ([IDMO], [NAM_MOP], [NAM_MOK], [INN], [KPP], [OGRN], [OID_MO], [OKOPF], [OKFS], [ADDR_J], [ADDR_J_GAR], [OKTMO], [EMAIL], [PHONE], [FAX], [DATEBEG], [DATEEND]) VALUES (?, ?, ?, ?, ?, ?, ?, ?, ?, ?, ?, ?, ?, ?, ?, ?, ?), (?, ?,  ... 6357 characters truncated ... ?, ?, ?, ?, ?, ?, ?, ?, ?, ?, ?, ?, ?, ?, ?, ?), (?, ?, ?, ?, ?, ?, ?, ?, ?, ?, ?, ?, ?, ?, ?, ?, ?)\n"
     ]
    },
    {
     "name": "stderr",
     "output_type": "stream",
     "text": [
      "INFO:sqlalchemy.engine.Engine:INSERT INTO nsi.[ERMO] ([IDMO], [NAM_MOP], [NAM_MOK], [INN], [KPP], [OGRN], [OID_MO], [OKOPF], [OKFS], [ADDR_J], [ADDR_J_GAR], [OKTMO], [EMAIL], [PHONE], [FAX], [DATEBEG], [DATEEND]) VALUES (?, ?, ?, ?, ?, ?, ?, ?, ?, ?, ?, ?, ?, ?, ?, ?, ?), (?, ?,  ... 6357 characters truncated ... ?, ?, ?, ?, ?, ?, ?, ?, ?, ?, ?, ?, ?, ?, ?, ?), (?, ?, ?, ?, ?, ?, ?, ?, ?, ?, ?, ?, ?, ?, ?, ?, ?)\n"
     ]
    },
    {
     "name": "stdout",
     "output_type": "stream",
     "text": [
      "2025-09-03 16:03:23,334 INFO sqlalchemy.engine.Engine [insertmanyvalues 24/72 (unordered)] ('00361800000000000', 'ГОСУДАРСТВЕННОЕ УЧРЕЖДЕНИЕ ЗДРАВООХРАНЕНИЯ \"ЖИРНОВСКАЯ ЦЕНТРАЛЬНАЯ РАЙОННАЯ БОЛЬНИЦА\"', 'ГУЗ \"ЖИРНОВСКАЯ ЦРБ\"', '3407100727', '340701001', '1023404975330', '1.2.643.5.1.13.13.12.2.34.3128', '75203', '13', '403791, обл Волгоградская, р-н Жирновский, г Жирновск, ул Строителей, д 1-9', 'bb6c7e66-853c-4bef-bd19-95353769663b', '18000000000', 'crb_jirnovsk@volganet.ru', '+78445455788', '', '26.08.2025', '31.12.2025', '00361900000000000', 'ГОСУДАРСТВЕННОЕ АВТОНОМНОЕ УЧРЕЖДЕНИЕ ЗДРАВООХРАНЕНИЯ \"ЖИРНОВСКАЯ СТОМАТОЛОГИЧЕСКАЯ ПОЛИКЛИНИКА\"', 'ГАУЗ \"ЖИРНОВСКАЯ СТОМАТОЛОГИЧЕСКАЯ ПОЛИКЛИНИКА\"', '3407000634', '340701001', '1023404966276', '1.2.643.5.1.13.13.12.2.34.3240', '75201', '13', '403791, обл Волгоградская, р-н Жирновский, г Жирновск, ул Ломоносова, д 56', 'b81d3796-c4b7-4497-a3b6-33840604e077', '18000000000', 'sp_jirnovsk@volganet.ru', '+78445452770', '', '26.08.2025', '31.12.2025', '00362000000000000', 'ГОСУДАРСТВЕННОЕ БЮДЖЕТНОЕ УЧРЕЖДЕНИЕ ЗДРАВООХРАНЕНИЯ \"ИЛОВЛИНСКАЯ ЦЕНТРАЛЬНАЯ РАЙОННАЯ БОЛЬНИЦА\"', 'ГБУЗ \"ИЛОВЛИНСКАЯ  ЦРБ\"', '3408005610', '340801001', '1023405364058', '1.2.643.5.1.13.13.12.2.34.3189', '75203', '13', '403071, обл Волгоградская, р-н Иловлинский, рп Иловля, ул Больничный городок, д 2А', 'b9d78e40-7732-48f7-a7b3-02471337b4b4', '18000000000', 'crb_ilovia@volganet.ru', '+78446751261', '', '05.08.2025' ... 1991 parameters truncated ... 'ОБЩЕСТВО С ОГРАНИЧЕННОЙ ОТВЕТСТВЕННОСТЬЮ \"КОНСУЛЬТАТИВНО-ДИАГНОСТИЧЕСКИЙ ЦЕНТР \"ВИТА КЛИНИКА\"', 'ООО \"КДЦ \"ВИТА КЛИНИКА\"', '3525170400', '352501001', '1063525107095', '1.2.643.5.1.13.13.12.2.35.21028', '12300', '16', '160000, обл Вологодская, г Вологда, ул Марии Ульяновой, д 3', '2efd8298-5bc7-4260-b8cd-793850f4ccaf', '19000000000', 'oms-vita@mail.ru', '+78172342363', '', '03.04.2025', '31.12.2025', '00376900000000000', 'ОБЩЕСТВО С ОГРАНИЧЕННОЙ ОТВЕТСТВЕННОСТЬЮ \"ПОЛИКЛИНИКА\"БОДРОСТЬ\"', 'ООО \"ПОЛИКЛИНИКА\"БОДРОСТЬ\"', '3525355802', '352501001', '1153525027150', '1.2.643.5.1.13.13.12.2.35.12379', '12300', '16', '160034, обл Вологодская, г Вологда, ул Возрождения, д 9', '87cc9975-0371-4f7f-9e6f-69d94588db70', '19000000000', 'bodrost@vologda.ru', '+78172510969', '', '07.04.2025', '31.12.2025', '00377000000000000', 'ОБЩЕСТВО С ОГРАНИЧЕННОЙ ОТВЕТСТВЕННОСТЬЮ \"МЕДИЦИНСКИЙ ЦЕНТР\"БОДРОСТЬ\"', 'ООО  \"МЕДИЦИНСКИЙ ЦЕНТР\"БОДРОСТЬ\"', '3525355810', '352501001', '1153525027160', '1.2.643.5.1.13.13.12.2.35.22042', '12300', '16', '160034, обл Вологодская, г Вологда, ул Возрождения, д 9', '87cc9975-0371-4f7f-9e6f-69d94588db70', '19000000000', 'bodrost@vologda.ru', '+78172510969', '', '04.04.2025', '31.12.2025')\n"
     ]
    },
    {
     "name": "stderr",
     "output_type": "stream",
     "text": [
      "INFO:sqlalchemy.engine.Engine:[insertmanyvalues 24/72 (unordered)] ('00361800000000000', 'ГОСУДАРСТВЕННОЕ УЧРЕЖДЕНИЕ ЗДРАВООХРАНЕНИЯ \"ЖИРНОВСКАЯ ЦЕНТРАЛЬНАЯ РАЙОННАЯ БОЛЬНИЦА\"', 'ГУЗ \"ЖИРНОВСКАЯ ЦРБ\"', '3407100727', '340701001', '1023404975330', '1.2.643.5.1.13.13.12.2.34.3128', '75203', '13', '403791, обл Волгоградская, р-н Жирновский, г Жирновск, ул Строителей, д 1-9', 'bb6c7e66-853c-4bef-bd19-95353769663b', '18000000000', 'crb_jirnovsk@volganet.ru', '+78445455788', '', '26.08.2025', '31.12.2025', '00361900000000000', 'ГОСУДАРСТВЕННОЕ АВТОНОМНОЕ УЧРЕЖДЕНИЕ ЗДРАВООХРАНЕНИЯ \"ЖИРНОВСКАЯ СТОМАТОЛОГИЧЕСКАЯ ПОЛИКЛИНИКА\"', 'ГАУЗ \"ЖИРНОВСКАЯ СТОМАТОЛОГИЧЕСКАЯ ПОЛИКЛИНИКА\"', '3407000634', '340701001', '1023404966276', '1.2.643.5.1.13.13.12.2.34.3240', '75201', '13', '403791, обл Волгоградская, р-н Жирновский, г Жирновск, ул Ломоносова, д 56', 'b81d3796-c4b7-4497-a3b6-33840604e077', '18000000000', 'sp_jirnovsk@volganet.ru', '+78445452770', '', '26.08.2025', '31.12.2025', '00362000000000000', 'ГОСУДАРСТВЕННОЕ БЮДЖЕТНОЕ УЧРЕЖДЕНИЕ ЗДРАВООХРАНЕНИЯ \"ИЛОВЛИНСКАЯ ЦЕНТРАЛЬНАЯ РАЙОННАЯ БОЛЬНИЦА\"', 'ГБУЗ \"ИЛОВЛИНСКАЯ  ЦРБ\"', '3408005610', '340801001', '1023405364058', '1.2.643.5.1.13.13.12.2.34.3189', '75203', '13', '403071, обл Волгоградская, р-н Иловлинский, рп Иловля, ул Больничный городок, д 2А', 'b9d78e40-7732-48f7-a7b3-02471337b4b4', '18000000000', 'crb_ilovia@volganet.ru', '+78446751261', '', '05.08.2025' ... 1991 parameters truncated ... 'ОБЩЕСТВО С ОГРАНИЧЕННОЙ ОТВЕТСТВЕННОСТЬЮ \"КОНСУЛЬТАТИВНО-ДИАГНОСТИЧЕСКИЙ ЦЕНТР \"ВИТА КЛИНИКА\"', 'ООО \"КДЦ \"ВИТА КЛИНИКА\"', '3525170400', '352501001', '1063525107095', '1.2.643.5.1.13.13.12.2.35.21028', '12300', '16', '160000, обл Вологодская, г Вологда, ул Марии Ульяновой, д 3', '2efd8298-5bc7-4260-b8cd-793850f4ccaf', '19000000000', 'oms-vita@mail.ru', '+78172342363', '', '03.04.2025', '31.12.2025', '00376900000000000', 'ОБЩЕСТВО С ОГРАНИЧЕННОЙ ОТВЕТСТВЕННОСТЬЮ \"ПОЛИКЛИНИКА\"БОДРОСТЬ\"', 'ООО \"ПОЛИКЛИНИКА\"БОДРОСТЬ\"', '3525355802', '352501001', '1153525027150', '1.2.643.5.1.13.13.12.2.35.12379', '12300', '16', '160034, обл Вологодская, г Вологда, ул Возрождения, д 9', '87cc9975-0371-4f7f-9e6f-69d94588db70', '19000000000', 'bodrost@vologda.ru', '+78172510969', '', '07.04.2025', '31.12.2025', '00377000000000000', 'ОБЩЕСТВО С ОГРАНИЧЕННОЙ ОТВЕТСТВЕННОСТЬЮ \"МЕДИЦИНСКИЙ ЦЕНТР\"БОДРОСТЬ\"', 'ООО  \"МЕДИЦИНСКИЙ ЦЕНТР\"БОДРОСТЬ\"', '3525355810', '352501001', '1153525027160', '1.2.643.5.1.13.13.12.2.35.22042', '12300', '16', '160034, обл Вологодская, г Вологда, ул Возрождения, д 9', '87cc9975-0371-4f7f-9e6f-69d94588db70', '19000000000', 'bodrost@vologda.ru', '+78172510969', '', '04.04.2025', '31.12.2025')\n"
     ]
    },
    {
     "name": "stdout",
     "output_type": "stream",
     "text": [
      "2025-09-03 16:03:23,433 INFO sqlalchemy.engine.Engine INSERT INTO nsi.[ERMO] ([IDMO], [NAM_MOP], [NAM_MOK], [INN], [KPP], [OGRN], [OID_MO], [OKOPF], [OKFS], [ADDR_J], [ADDR_J_GAR], [OKTMO], [EMAIL], [PHONE], [FAX], [DATEBEG], [DATEEND]) VALUES (?, ?, ?, ?, ?, ?, ?, ?, ?, ?, ?, ?, ?, ?, ?, ?, ?), (?, ?,  ... 6357 characters truncated ... ?, ?, ?, ?, ?, ?, ?, ?, ?, ?, ?, ?, ?, ?, ?, ?), (?, ?, ?, ?, ?, ?, ?, ?, ?, ?, ?, ?, ?, ?, ?, ?, ?)\n"
     ]
    },
    {
     "name": "stderr",
     "output_type": "stream",
     "text": [
      "INFO:sqlalchemy.engine.Engine:INSERT INTO nsi.[ERMO] ([IDMO], [NAM_MOP], [NAM_MOK], [INN], [KPP], [OGRN], [OID_MO], [OKOPF], [OKFS], [ADDR_J], [ADDR_J_GAR], [OKTMO], [EMAIL], [PHONE], [FAX], [DATEBEG], [DATEEND]) VALUES (?, ?, ?, ?, ?, ?, ?, ?, ?, ?, ?, ?, ?, ?, ?, ?, ?), (?, ?,  ... 6357 characters truncated ... ?, ?, ?, ?, ?, ?, ?, ?, ?, ?, ?, ?, ?, ?, ?, ?), (?, ?, ?, ?, ?, ?, ?, ?, ?, ?, ?, ?, ?, ?, ?, ?, ?)\n"
     ]
    },
    {
     "name": "stdout",
     "output_type": "stream",
     "text": [
      "2025-09-03 16:03:23,435 INFO sqlalchemy.engine.Engine [insertmanyvalues 25/72 (unordered)] ('00377200000000000', 'ОБЩЕСТВО С ОГРАНИЧЕННОЙ ОТВЕТСТВЕННОСТЬЮ \"ДЕНТА-НЕЛЬ\"', 'ООО \"ДЕНТА-НЕЛЬ\"', '3525216083', '352501001', '1083525018840', '1.2.643.5.1.13.13.12.2.35.22253', '12300', '16', '160019, обл Вологодская, г Вологда, ул Комсомольская, д 38, кв 59', '6cb1bd02-2c74-48a8-a122-f503d5360594', '19000000000', 'SVE-ZUBAKINA@YANDEX.RU', '+79211240075', '', '04.04.2025', '31.12.2025', '00377300000000000', 'БЮДЖЕТНОЕ УЧРЕЖДЕНИЕ ЗДРАВООХРАНЕНИЯ ВОЛОГОДСКОЙ ОБЛАСТИ \"ВОЛОГОДСКИЙ ГОРОДСКОЙ РОДИЛЬНЫЙ ДОМ\"', 'БУЗ ВО \"ВОЛОГОДСКИЙ ГОРОДСКОЙ РОДИЛЬНЫЙ ДОМ\"', '3525385331', '352501001', '1163525094710', '1.2.643.5.1.13.13.12.2.35.3323', '75203', '13', '160011, обл Вологодская, г Вологда, ул Пирогова, д 24', 'a72b19c8-aa2a-427f-986a-4a5a34c9ef6a', '19000000000', 'houser35@yandex.ru', '+78172752770', '', '14.05.2025', '31.12.2025', '00377400000000000', 'БЮДЖЕТНОЕ УЧРЕЖДЕНИЕ ЗДРАВООХРАНЕНИЯ ВОЛОГОДСКОЙ ОБЛАСТИ \"ВОЛОГОДСКАЯ ГОРОДСКАЯ СТОМАТОЛОГИЧЕСКАЯ ПОЛИКЛИНИКА\"', 'БУЗ ВО \"ВГСП\"', '3525404425', '352501001', '1173525021328', '1.2.643.5.1.13.13.12.2.35.10247', '75203', '13', '160001, обл Вологодская, г Вологда, ул Батюшкова, д 9', 'af1c480a-5732-4571-a0c3-a2c43fc0c731', '19000000000', 'ekonomist@gspvol.ru', '+78172721086', '', '09.04.2025' ... 1991 parameters truncated ... 'ОБЩЕСТВО С ОГРАНИЧЕННОЙ ОТВЕТСТВЕННОСТЬЮ \"ВОРОНЕЖСКАЯ ОФТАЛЬМОЛОГИЧЕСКАЯ КЛИНИКА\"', 'ООО \"ВОК\"', '3663127487', '366301001', '1173668025431', '1.2.643.5.1.13.13.12.2.36.17963', '12300', '16', '394033, обл Воронежская, г Воронеж, пр-кт Ленинский, д 75а', '16a190ed-6052-4e98-bffa-3144bcaea809', '20000000000', 'anna007w1983@gmail.com', '+79611862898', '', '08.07.2025', '31.12.2025', '00392300000000000', 'БЮДЖЕТНОЕ УЧРЕЖДЕНИЕ ЗДРАВООХРАНЕНИЯ ВОРОНЕЖСКОЙ ОБЛАСТИ \"ВОРОНЕЖСКОЕ ОБЛАСТНОЕ ПАТОЛОГОАНАТОМИЧЕСКОЕ БЮРО\"', 'БУЗВО \"ВОПАБ\"', '3662105836', '366201001', '1053600606267', '1.2.643.5.1.13.13.12.2.36.3379', '75203', '13', '394066, обл Воронежская, г Воронеж, пр-кт Московский, д 151', 'af0f0d27-9c73-43bc-8d4d-c6208d60eef0', '20000000000', 'mail@vopb.zdrav36.ru', '+74732579849', '', '06.08.2025', '31.12.2025', '00392500000000000', 'ОБЩЕСТВО С ОГРАНИЧЕННОЙ ОТВЕТСТВЕННОСТЬЮ \"КЛИНИКА СЕМЕЙНОЙ МЕДИЦИНЫ\"', 'ООО \"КЛИНИКА СЕМЕЙНОЙ МЕДИЦИНЫ\"', '3665140973', '366501001', '1173668029908', '1.2.643.5.1.13.13.12.2.36.17403', '12300', '16', '394062, обл Воронежская, г Воронеж, ул Путиловская, д 19а', 'b7453acf-86da-4805-8049-eb69159d5eb6', '20000000000', 'INFO@EVKALIPT.RU', '+74732103103', '', '06.06.2025', '31.12.2025')\n"
     ]
    },
    {
     "name": "stderr",
     "output_type": "stream",
     "text": [
      "INFO:sqlalchemy.engine.Engine:[insertmanyvalues 25/72 (unordered)] ('00377200000000000', 'ОБЩЕСТВО С ОГРАНИЧЕННОЙ ОТВЕТСТВЕННОСТЬЮ \"ДЕНТА-НЕЛЬ\"', 'ООО \"ДЕНТА-НЕЛЬ\"', '3525216083', '352501001', '1083525018840', '1.2.643.5.1.13.13.12.2.35.22253', '12300', '16', '160019, обл Вологодская, г Вологда, ул Комсомольская, д 38, кв 59', '6cb1bd02-2c74-48a8-a122-f503d5360594', '19000000000', 'SVE-ZUBAKINA@YANDEX.RU', '+79211240075', '', '04.04.2025', '31.12.2025', '00377300000000000', 'БЮДЖЕТНОЕ УЧРЕЖДЕНИЕ ЗДРАВООХРАНЕНИЯ ВОЛОГОДСКОЙ ОБЛАСТИ \"ВОЛОГОДСКИЙ ГОРОДСКОЙ РОДИЛЬНЫЙ ДОМ\"', 'БУЗ ВО \"ВОЛОГОДСКИЙ ГОРОДСКОЙ РОДИЛЬНЫЙ ДОМ\"', '3525385331', '352501001', '1163525094710', '1.2.643.5.1.13.13.12.2.35.3323', '75203', '13', '160011, обл Вологодская, г Вологда, ул Пирогова, д 24', 'a72b19c8-aa2a-427f-986a-4a5a34c9ef6a', '19000000000', 'houser35@yandex.ru', '+78172752770', '', '14.05.2025', '31.12.2025', '00377400000000000', 'БЮДЖЕТНОЕ УЧРЕЖДЕНИЕ ЗДРАВООХРАНЕНИЯ ВОЛОГОДСКОЙ ОБЛАСТИ \"ВОЛОГОДСКАЯ ГОРОДСКАЯ СТОМАТОЛОГИЧЕСКАЯ ПОЛИКЛИНИКА\"', 'БУЗ ВО \"ВГСП\"', '3525404425', '352501001', '1173525021328', '1.2.643.5.1.13.13.12.2.35.10247', '75203', '13', '160001, обл Вологодская, г Вологда, ул Батюшкова, д 9', 'af1c480a-5732-4571-a0c3-a2c43fc0c731', '19000000000', 'ekonomist@gspvol.ru', '+78172721086', '', '09.04.2025' ... 1991 parameters truncated ... 'ОБЩЕСТВО С ОГРАНИЧЕННОЙ ОТВЕТСТВЕННОСТЬЮ \"ВОРОНЕЖСКАЯ ОФТАЛЬМОЛОГИЧЕСКАЯ КЛИНИКА\"', 'ООО \"ВОК\"', '3663127487', '366301001', '1173668025431', '1.2.643.5.1.13.13.12.2.36.17963', '12300', '16', '394033, обл Воронежская, г Воронеж, пр-кт Ленинский, д 75а', '16a190ed-6052-4e98-bffa-3144bcaea809', '20000000000', 'anna007w1983@gmail.com', '+79611862898', '', '08.07.2025', '31.12.2025', '00392300000000000', 'БЮДЖЕТНОЕ УЧРЕЖДЕНИЕ ЗДРАВООХРАНЕНИЯ ВОРОНЕЖСКОЙ ОБЛАСТИ \"ВОРОНЕЖСКОЕ ОБЛАСТНОЕ ПАТОЛОГОАНАТОМИЧЕСКОЕ БЮРО\"', 'БУЗВО \"ВОПАБ\"', '3662105836', '366201001', '1053600606267', '1.2.643.5.1.13.13.12.2.36.3379', '75203', '13', '394066, обл Воронежская, г Воронеж, пр-кт Московский, д 151', 'af0f0d27-9c73-43bc-8d4d-c6208d60eef0', '20000000000', 'mail@vopb.zdrav36.ru', '+74732579849', '', '06.08.2025', '31.12.2025', '00392500000000000', 'ОБЩЕСТВО С ОГРАНИЧЕННОЙ ОТВЕТСТВЕННОСТЬЮ \"КЛИНИКА СЕМЕЙНОЙ МЕДИЦИНЫ\"', 'ООО \"КЛИНИКА СЕМЕЙНОЙ МЕДИЦИНЫ\"', '3665140973', '366501001', '1173668029908', '1.2.643.5.1.13.13.12.2.36.17403', '12300', '16', '394062, обл Воронежская, г Воронеж, ул Путиловская, д 19а', 'b7453acf-86da-4805-8049-eb69159d5eb6', '20000000000', 'INFO@EVKALIPT.RU', '+74732103103', '', '06.06.2025', '31.12.2025')\n"
     ]
    },
    {
     "name": "stdout",
     "output_type": "stream",
     "text": [
      "2025-09-03 16:03:23,558 INFO sqlalchemy.engine.Engine INSERT INTO nsi.[ERMO] ([IDMO], [NAM_MOP], [NAM_MOK], [INN], [KPP], [OGRN], [OID_MO], [OKOPF], [OKFS], [ADDR_J], [ADDR_J_GAR], [OKTMO], [EMAIL], [PHONE], [FAX], [DATEBEG], [DATEEND]) VALUES (?, ?, ?, ?, ?, ?, ?, ?, ?, ?, ?, ?, ?, ?, ?, ?, ?), (?, ?,  ... 6357 characters truncated ... ?, ?, ?, ?, ?, ?, ?, ?, ?, ?, ?, ?, ?, ?, ?, ?), (?, ?, ?, ?, ?, ?, ?, ?, ?, ?, ?, ?, ?, ?, ?, ?, ?)\n"
     ]
    },
    {
     "name": "stderr",
     "output_type": "stream",
     "text": [
      "INFO:sqlalchemy.engine.Engine:INSERT INTO nsi.[ERMO] ([IDMO], [NAM_MOP], [NAM_MOK], [INN], [KPP], [OGRN], [OID_MO], [OKOPF], [OKFS], [ADDR_J], [ADDR_J_GAR], [OKTMO], [EMAIL], [PHONE], [FAX], [DATEBEG], [DATEEND]) VALUES (?, ?, ?, ?, ?, ?, ?, ?, ?, ?, ?, ?, ?, ?, ?, ?, ?), (?, ?,  ... 6357 characters truncated ... ?, ?, ?, ?, ?, ?, ?, ?, ?, ?, ?, ?, ?, ?, ?, ?), (?, ?, ?, ?, ?, ?, ?, ?, ?, ?, ?, ?, ?, ?, ?, ?, ?)\n"
     ]
    },
    {
     "name": "stdout",
     "output_type": "stream",
     "text": [
      "2025-09-03 16:03:23,561 INFO sqlalchemy.engine.Engine [insertmanyvalues 26/72 (unordered)] ('00392600000000000', 'ОБЩЕСТВО С ОГРАНИЧЕННОЙ ОТВЕТСТВЕННОСТЬЮ \"СПЕКТР-ДИАГНОСТИКА ВОРОНЕЖ\"', 'ООО \"СПЕКТР-ДИАГНОСТИКА ВОРОНЕЖ\"', '3616018040', '361601001', '1163668058025', '1.2.643.5.1.13.13.12.2.36.16987', '12300', '16', '394033, обл Воронежская, г Воронеж, пр-кт Ленинский, д 160А', 'bdfdc18b-fd21-477e-98fd-13ae51beeac7', '20000000000', 'oms@spdmed.ru', '+79304296025', '', '10.04.2025', '31.12.2025', '00392700000000000', 'ОБЩЕСТВО С ОГРАНИЧЕННОЙ ОТВЕТСТВЕННОСТЬЮ \"КЛИНИКА \"ГОРОД ЗДОРОВЬЯ\"', 'ООО «КЛИНИКА «ГОРОД ЗДОРОВЬЯ»', '3666218213', '366601001', '1173668019194', '1.2.643.5.1.13.13.12.2.36.16640', '12300', '16', '394036, обл Воронежская, г Воронеж, ул Театральная, д 23/1', '9afa0484-b02b-45cf-b581-26ac5e239167', '20000000000', 'GLAVVRACH@OLIMP03.RU', '+74732101125', '', '10.04.2025', '31.12.2025', '00393100000000000', 'ОБЩЕСТВО С ОГРАНИЧЕННОЙ ОТВЕТСТВЕННОСТЬЮ \"ИННОВАЦИОННЫЙ СОСУДИСТЫЙ ЦЕНТР-ВОРОНЕЖ\"', 'ООО \"ИННОВАЦИОННЫЙ СОСУДИСТЫЙ ЦЕНТР-ВОРОНЕЖ\"', '3662251058', '366401001', '1173668037465', '1.2.643.5.1.13.13.12.2.36.21567', '12300', '16', '394018, обл Воронежская, г Воронеж, ул Кирова, д 8', 'f069045a-a3c6-4cf4-bc7a-cf82f4dd6d23', '20000000000', 'VORONEJ@ANGIOCLINIC.RU', '+74732021888', '', '08.04.2025' ... 1991 parameters truncated ... 'ОБЛАСТНОЕ ГОСУДАРСТВЕННОЕ АВТОНОМНОЕ УЧРЕЖДЕНИЕ ЗДРАВООХРАНЕНИЯ \"БРАТСКИЙ ПЕРИНАТАЛЬНЫЙ ЦЕНТР\"', 'ОГАУЗ \"БРАТСКИЙ ПЕРИНАТАЛЬНЫЙ ЦЕНТР\"', '3804005540', '380401001', '1023800836047', '1.2.643.5.1.13.13.12.2.38.3512', '75201', '13', '665717, обл Иркутская, г Братск, ж/р Центральный, ул Рябикова, д 2', '951fd367-74ff-4357-9d27-d0b66bea558a', '25000000000', 'roddom.bratsk@rambler.ru', '+73953413982', '', '11.07.2025', '31.12.2025', '00408600000000000', 'ОБЛАСТНОЕ ГОСУДАРСТВЕННОЕ АВТОНОМНОЕ УЧРЕЖДЕНИЕ ЗДРАВООХРАНЕНИЯ \"БРАТСКАЯ СТОМАТОЛОГИЧЕСКАЯ ПОЛИКЛИНИКА № 1\"', 'ОГАУЗ \"БРАТСКАЯ СТОМАТОЛОГИЧЕСКАЯ ПОЛИКЛИНИКА № 1\"', '3803101040', '380401001', '1023800835739', '1.2.643.5.1.13.13.12.2.38.3607', '75201', '13', '665708, обл Иркутская, г Братск, ж/р Центральный, ул Депутатская, д 7', 'e7db966f-90cc-48a8-a892-7dd16dfad214', '25000000000', 'stom1@inbox.ru', '+73953455248', '', '14.07.2025', '31.12.2025', '00408700000000000', 'ОБЛАСТНОЕ ГОСУДАРСТВЕННОЕ АВТОНОМНОЕ УЧРЕЖДЕНИЕ ЗДРАВООХРАНЕНИЯ \"БРАТСКАЯ СТОМАТОЛОГИЧЕСКАЯ ПОЛИКЛИНИКА № 3\"', 'ОГАУЗ \"БСП № 3\"', '3805101543', '380501001', '1023800917337', '1.2.643.5.1.13.13.12.2.38.3524', '75201', '13', '665730, обл Иркутская, г Братск, ж/р Энергетик, ул Зверева, д 12А', '8d5be180-5691-4bad-8cf5-a79520ebd47e', '25000000000', 'stom3br@mail.ru', '+73953333035', '', '14.07.2025', '31.12.2025')\n"
     ]
    },
    {
     "name": "stderr",
     "output_type": "stream",
     "text": [
      "INFO:sqlalchemy.engine.Engine:[insertmanyvalues 26/72 (unordered)] ('00392600000000000', 'ОБЩЕСТВО С ОГРАНИЧЕННОЙ ОТВЕТСТВЕННОСТЬЮ \"СПЕКТР-ДИАГНОСТИКА ВОРОНЕЖ\"', 'ООО \"СПЕКТР-ДИАГНОСТИКА ВОРОНЕЖ\"', '3616018040', '361601001', '1163668058025', '1.2.643.5.1.13.13.12.2.36.16987', '12300', '16', '394033, обл Воронежская, г Воронеж, пр-кт Ленинский, д 160А', 'bdfdc18b-fd21-477e-98fd-13ae51beeac7', '20000000000', 'oms@spdmed.ru', '+79304296025', '', '10.04.2025', '31.12.2025', '00392700000000000', 'ОБЩЕСТВО С ОГРАНИЧЕННОЙ ОТВЕТСТВЕННОСТЬЮ \"КЛИНИКА \"ГОРОД ЗДОРОВЬЯ\"', 'ООО «КЛИНИКА «ГОРОД ЗДОРОВЬЯ»', '3666218213', '366601001', '1173668019194', '1.2.643.5.1.13.13.12.2.36.16640', '12300', '16', '394036, обл Воронежская, г Воронеж, ул Театральная, д 23/1', '9afa0484-b02b-45cf-b581-26ac5e239167', '20000000000', 'GLAVVRACH@OLIMP03.RU', '+74732101125', '', '10.04.2025', '31.12.2025', '00393100000000000', 'ОБЩЕСТВО С ОГРАНИЧЕННОЙ ОТВЕТСТВЕННОСТЬЮ \"ИННОВАЦИОННЫЙ СОСУДИСТЫЙ ЦЕНТР-ВОРОНЕЖ\"', 'ООО \"ИННОВАЦИОННЫЙ СОСУДИСТЫЙ ЦЕНТР-ВОРОНЕЖ\"', '3662251058', '366401001', '1173668037465', '1.2.643.5.1.13.13.12.2.36.21567', '12300', '16', '394018, обл Воронежская, г Воронеж, ул Кирова, д 8', 'f069045a-a3c6-4cf4-bc7a-cf82f4dd6d23', '20000000000', 'VORONEJ@ANGIOCLINIC.RU', '+74732021888', '', '08.04.2025' ... 1991 parameters truncated ... 'ОБЛАСТНОЕ ГОСУДАРСТВЕННОЕ АВТОНОМНОЕ УЧРЕЖДЕНИЕ ЗДРАВООХРАНЕНИЯ \"БРАТСКИЙ ПЕРИНАТАЛЬНЫЙ ЦЕНТР\"', 'ОГАУЗ \"БРАТСКИЙ ПЕРИНАТАЛЬНЫЙ ЦЕНТР\"', '3804005540', '380401001', '1023800836047', '1.2.643.5.1.13.13.12.2.38.3512', '75201', '13', '665717, обл Иркутская, г Братск, ж/р Центральный, ул Рябикова, д 2', '951fd367-74ff-4357-9d27-d0b66bea558a', '25000000000', 'roddom.bratsk@rambler.ru', '+73953413982', '', '11.07.2025', '31.12.2025', '00408600000000000', 'ОБЛАСТНОЕ ГОСУДАРСТВЕННОЕ АВТОНОМНОЕ УЧРЕЖДЕНИЕ ЗДРАВООХРАНЕНИЯ \"БРАТСКАЯ СТОМАТОЛОГИЧЕСКАЯ ПОЛИКЛИНИКА № 1\"', 'ОГАУЗ \"БРАТСКАЯ СТОМАТОЛОГИЧЕСКАЯ ПОЛИКЛИНИКА № 1\"', '3803101040', '380401001', '1023800835739', '1.2.643.5.1.13.13.12.2.38.3607', '75201', '13', '665708, обл Иркутская, г Братск, ж/р Центральный, ул Депутатская, д 7', 'e7db966f-90cc-48a8-a892-7dd16dfad214', '25000000000', 'stom1@inbox.ru', '+73953455248', '', '14.07.2025', '31.12.2025', '00408700000000000', 'ОБЛАСТНОЕ ГОСУДАРСТВЕННОЕ АВТОНОМНОЕ УЧРЕЖДЕНИЕ ЗДРАВООХРАНЕНИЯ \"БРАТСКАЯ СТОМАТОЛОГИЧЕСКАЯ ПОЛИКЛИНИКА № 3\"', 'ОГАУЗ \"БСП № 3\"', '3805101543', '380501001', '1023800917337', '1.2.643.5.1.13.13.12.2.38.3524', '75201', '13', '665730, обл Иркутская, г Братск, ж/р Энергетик, ул Зверева, д 12А', '8d5be180-5691-4bad-8cf5-a79520ebd47e', '25000000000', 'stom3br@mail.ru', '+73953333035', '', '14.07.2025', '31.12.2025')\n"
     ]
    },
    {
     "name": "stdout",
     "output_type": "stream",
     "text": [
      "2025-09-03 16:03:23,672 INFO sqlalchemy.engine.Engine INSERT INTO nsi.[ERMO] ([IDMO], [NAM_MOP], [NAM_MOK], [INN], [KPP], [OGRN], [OID_MO], [OKOPF], [OKFS], [ADDR_J], [ADDR_J_GAR], [OKTMO], [EMAIL], [PHONE], [FAX], [DATEBEG], [DATEEND]) VALUES (?, ?, ?, ?, ?, ?, ?, ?, ?, ?, ?, ?, ?, ?, ?, ?, ?), (?, ?,  ... 6357 characters truncated ... ?, ?, ?, ?, ?, ?, ?, ?, ?, ?, ?, ?, ?, ?, ?, ?), (?, ?, ?, ?, ?, ?, ?, ?, ?, ?, ?, ?, ?, ?, ?, ?, ?)\n"
     ]
    },
    {
     "name": "stderr",
     "output_type": "stream",
     "text": [
      "INFO:sqlalchemy.engine.Engine:INSERT INTO nsi.[ERMO] ([IDMO], [NAM_MOP], [NAM_MOK], [INN], [KPP], [OGRN], [OID_MO], [OKOPF], [OKFS], [ADDR_J], [ADDR_J_GAR], [OKTMO], [EMAIL], [PHONE], [FAX], [DATEBEG], [DATEEND]) VALUES (?, ?, ?, ?, ?, ?, ?, ?, ?, ?, ?, ?, ?, ?, ?, ?, ?), (?, ?,  ... 6357 characters truncated ... ?, ?, ?, ?, ?, ?, ?, ?, ?, ?, ?, ?, ?, ?, ?, ?), (?, ?, ?, ?, ?, ?, ?, ?, ?, ?, ?, ?, ?, ?, ?, ?, ?)\n"
     ]
    },
    {
     "name": "stdout",
     "output_type": "stream",
     "text": [
      "2025-09-03 16:03:23,673 INFO sqlalchemy.engine.Engine [insertmanyvalues 27/72 (unordered)] ('00408800000000000', 'ОБЛАСТНОЕ ГОСУДАРСТВЕННОЕ БЮДЖЕТНОЕ  УЧРЕЖДЕНИЕ ЗДРАВООХРАНЕНИЯ \"ЖЕЛЕЗНОГОРСКАЯ РАЙОННАЯ БОЛЬНИЦА\"', 'ОГБУЗ \"ЖЕЛЕЗНОГОРСКАЯ РБ\"', '3834008940', '383401001', '1023802658582', '1.2.643.5.1.13.13.12.2.38.3572', '75203', '13', '665653, обл Иркутская, р-н Нижнеилимский, г Железногорск-Илимский, кв-л 9, д 7а', 'b592c4fe-917d-460f-868f-4fae9b81164b', '25000000000', 'gelcrb@rambler.ru', '+73956631714', '', '15.07.2025', '31.12.2025', '00409000000000000', 'ОБЛАСТНОЕ ГОСУДАРСТВЕННОЕ БЮДЖЕТНОЕ УЧРЕЖДЕНИЕ ЗДРАВООХРАНЕНИЯ \"ЗАЛАРИНСКАЯ РАЙОННАЯ БОЛЬНИЦА\"', 'ОГБУЗ \"ЗАЛАРИНСКАЯ РБ\"', '3825003671', '382501001', '1033801910812', '1.2.643.5.1.13.13.12.2.38.3516', '75203', '13', '666322, обл Иркутская, р-н Заларинский, рп Залари, ул Рокоссовского, д 14А', '80b1794c-265b-43fa-99af-ab738d9bf86e', '25000000000', 'ctzalari@mail.ru', '+73955223101', '', '21.05.2025', '31.12.2025', '00409100000000000', 'ОБЛАСТНОЕ ГОСУДАРСТВЕННОЕ БЮДЖЕТНОЕ УЧРЕЖДЕНИЕ ЗДРАВООХРАНЕНИЯ \"ЗИМИНСКАЯ ГОРОДСКАЯ БОЛЬНИЦА\"', 'ОГБУЗ \"ЗИМИНСКАЯ ГОРОДСКАЯ БОЛЬНИЦА\"', '3806001340', '380601001', '1023800983139', '1.2.643.5.1.13.13.12.2.38.3591', '75203', '13', '665382, обл Иркутская, г Зима, ул Калинина, д 88', '2bb9f3da-2ecf-45c4-8560-25c36561e37b', '25000000000', 'zimamuz@yandex.ru', '+73955431876', '', '14.07.2025' ... 1991 parameters truncated ... 'ФЕДЕРАЛЬНОЕ ГОСУДАРСТВЕННОЕ БЮДЖЕТНОЕ УЧРЕЖДЕНИЕ \"ФЕДЕРАЛЬНЫЙ ЦЕНТР ВЫСОКИХ МЕДИЦИНСКИХ ТЕХНОЛОГИЙ\" МИНИСТЕРСТВА ЗДРАВООХРАНЕНИЯ РОССИЙСКОЙ ФЕДЕРАЦИИ (Г. КАЛИНИНГРАД)', 'ФГБУ \"ФЦВМТ\" МИНЗДРАВА РОССИИ (Г. КАЛИНИНГРАД)', '3917513457', '391701001', '1113926046640', '1.2.643.5.1.13.13.12.2.39.3779', '75103', '12', '238312, обл Калининградская, р-н Гурьевский, п Родники, ул Калининградское шоссе, д 4', '92110c4b-b0a8-48fd-afe9-d094811794e6', '27000000000', 'baltcardio@mail.ru', '+74012592000', '', '09.07.2025', '31.12.2025', '00422900000000000', 'ОБЩЕСТВО С ОГРАНИЧЕННОЙ ОТВЕТСТВЕННОСТЬЮ \"ЭСТЕТИКА\"', 'ООО  \"ЭСТЕТИКА\"', '3906202900', '390601001', '1083925037680', '1.2.643.5.1.13.13.12.2.39.21065', '12300', '16', '236022, обл Калининградская, г Калининград, ул Театральная, д 42', '65cdcaae-94a1-4262-989a-6ece86de92cf', '27000000000', 'STOMIK10@BK.RU', '+74012532560', '', '18.02.2025', '31.12.2025', '00423000000000000', 'ОБЩЕСТВО С ОГРАНИЧЕННОЙ ОТВЕТСТВЕННОСТЬЮ \"ЦЕНТР-ДОКТОР\"', 'ООО \"ЦЕНТР-ДОКТОР\"', '3917016180', '390601001', '1023902294481', '1.2.643.5.1.13.13.12.2.39.10526', '12300', '16', '236004, обл Калининградская, г Калининград, ул Дзержинского, д 3А', '01694794-658a-4f9e-b435-2c54560d877d', '27000000000', 'ECO-BALT@MAIL.RU', '+74012303011', '', '09.07.2025', '31.12.2025')\n"
     ]
    },
    {
     "name": "stderr",
     "output_type": "stream",
     "text": [
      "INFO:sqlalchemy.engine.Engine:[insertmanyvalues 27/72 (unordered)] ('00408800000000000', 'ОБЛАСТНОЕ ГОСУДАРСТВЕННОЕ БЮДЖЕТНОЕ  УЧРЕЖДЕНИЕ ЗДРАВООХРАНЕНИЯ \"ЖЕЛЕЗНОГОРСКАЯ РАЙОННАЯ БОЛЬНИЦА\"', 'ОГБУЗ \"ЖЕЛЕЗНОГОРСКАЯ РБ\"', '3834008940', '383401001', '1023802658582', '1.2.643.5.1.13.13.12.2.38.3572', '75203', '13', '665653, обл Иркутская, р-н Нижнеилимский, г Железногорск-Илимский, кв-л 9, д 7а', 'b592c4fe-917d-460f-868f-4fae9b81164b', '25000000000', 'gelcrb@rambler.ru', '+73956631714', '', '15.07.2025', '31.12.2025', '00409000000000000', 'ОБЛАСТНОЕ ГОСУДАРСТВЕННОЕ БЮДЖЕТНОЕ УЧРЕЖДЕНИЕ ЗДРАВООХРАНЕНИЯ \"ЗАЛАРИНСКАЯ РАЙОННАЯ БОЛЬНИЦА\"', 'ОГБУЗ \"ЗАЛАРИНСКАЯ РБ\"', '3825003671', '382501001', '1033801910812', '1.2.643.5.1.13.13.12.2.38.3516', '75203', '13', '666322, обл Иркутская, р-н Заларинский, рп Залари, ул Рокоссовского, д 14А', '80b1794c-265b-43fa-99af-ab738d9bf86e', '25000000000', 'ctzalari@mail.ru', '+73955223101', '', '21.05.2025', '31.12.2025', '00409100000000000', 'ОБЛАСТНОЕ ГОСУДАРСТВЕННОЕ БЮДЖЕТНОЕ УЧРЕЖДЕНИЕ ЗДРАВООХРАНЕНИЯ \"ЗИМИНСКАЯ ГОРОДСКАЯ БОЛЬНИЦА\"', 'ОГБУЗ \"ЗИМИНСКАЯ ГОРОДСКАЯ БОЛЬНИЦА\"', '3806001340', '380601001', '1023800983139', '1.2.643.5.1.13.13.12.2.38.3591', '75203', '13', '665382, обл Иркутская, г Зима, ул Калинина, д 88', '2bb9f3da-2ecf-45c4-8560-25c36561e37b', '25000000000', 'zimamuz@yandex.ru', '+73955431876', '', '14.07.2025' ... 1991 parameters truncated ... 'ФЕДЕРАЛЬНОЕ ГОСУДАРСТВЕННОЕ БЮДЖЕТНОЕ УЧРЕЖДЕНИЕ \"ФЕДЕРАЛЬНЫЙ ЦЕНТР ВЫСОКИХ МЕДИЦИНСКИХ ТЕХНОЛОГИЙ\" МИНИСТЕРСТВА ЗДРАВООХРАНЕНИЯ РОССИЙСКОЙ ФЕДЕРАЦИИ (Г. КАЛИНИНГРАД)', 'ФГБУ \"ФЦВМТ\" МИНЗДРАВА РОССИИ (Г. КАЛИНИНГРАД)', '3917513457', '391701001', '1113926046640', '1.2.643.5.1.13.13.12.2.39.3779', '75103', '12', '238312, обл Калининградская, р-н Гурьевский, п Родники, ул Калининградское шоссе, д 4', '92110c4b-b0a8-48fd-afe9-d094811794e6', '27000000000', 'baltcardio@mail.ru', '+74012592000', '', '09.07.2025', '31.12.2025', '00422900000000000', 'ОБЩЕСТВО С ОГРАНИЧЕННОЙ ОТВЕТСТВЕННОСТЬЮ \"ЭСТЕТИКА\"', 'ООО  \"ЭСТЕТИКА\"', '3906202900', '390601001', '1083925037680', '1.2.643.5.1.13.13.12.2.39.21065', '12300', '16', '236022, обл Калининградская, г Калининград, ул Театральная, д 42', '65cdcaae-94a1-4262-989a-6ece86de92cf', '27000000000', 'STOMIK10@BK.RU', '+74012532560', '', '18.02.2025', '31.12.2025', '00423000000000000', 'ОБЩЕСТВО С ОГРАНИЧЕННОЙ ОТВЕТСТВЕННОСТЬЮ \"ЦЕНТР-ДОКТОР\"', 'ООО \"ЦЕНТР-ДОКТОР\"', '3917016180', '390601001', '1023902294481', '1.2.643.5.1.13.13.12.2.39.10526', '12300', '16', '236004, обл Калининградская, г Калининград, ул Дзержинского, д 3А', '01694794-658a-4f9e-b435-2c54560d877d', '27000000000', 'ECO-BALT@MAIL.RU', '+74012303011', '', '09.07.2025', '31.12.2025')\n"
     ]
    },
    {
     "name": "stdout",
     "output_type": "stream",
     "text": [
      "2025-09-03 16:03:23,777 INFO sqlalchemy.engine.Engine INSERT INTO nsi.[ERMO] ([IDMO], [NAM_MOP], [NAM_MOK], [INN], [KPP], [OGRN], [OID_MO], [OKOPF], [OKFS], [ADDR_J], [ADDR_J_GAR], [OKTMO], [EMAIL], [PHONE], [FAX], [DATEBEG], [DATEEND]) VALUES (?, ?, ?, ?, ?, ?, ?, ?, ?, ?, ?, ?, ?, ?, ?, ?, ?), (?, ?,  ... 6357 characters truncated ... ?, ?, ?, ?, ?, ?, ?, ?, ?, ?, ?, ?, ?, ?, ?, ?), (?, ?, ?, ?, ?, ?, ?, ?, ?, ?, ?, ?, ?, ?, ?, ?, ?)\n"
     ]
    },
    {
     "name": "stderr",
     "output_type": "stream",
     "text": [
      "INFO:sqlalchemy.engine.Engine:INSERT INTO nsi.[ERMO] ([IDMO], [NAM_MOP], [NAM_MOK], [INN], [KPP], [OGRN], [OID_MO], [OKOPF], [OKFS], [ADDR_J], [ADDR_J_GAR], [OKTMO], [EMAIL], [PHONE], [FAX], [DATEBEG], [DATEEND]) VALUES (?, ?, ?, ?, ?, ?, ?, ?, ?, ?, ?, ?, ?, ?, ?, ?, ?), (?, ?,  ... 6357 characters truncated ... ?, ?, ?, ?, ?, ?, ?, ?, ?, ?, ?, ?, ?, ?, ?, ?), (?, ?, ?, ?, ?, ?, ?, ?, ?, ?, ?, ?, ?, ?, ?, ?, ?)\n"
     ]
    },
    {
     "name": "stdout",
     "output_type": "stream",
     "text": [
      "2025-09-03 16:03:23,778 INFO sqlalchemy.engine.Engine [insertmanyvalues 28/72 (unordered)] ('00423100000000000', 'ОБЩЕСТВО С ОГРАНИЧЕННОЙ ОТВЕТСТВЕННОСТЬЮ \"ЦЕНТР ПАРОДОНТОЛОГИИ\"', 'ООО \"ЦЕНТР ПАРОДОНТОЛОГИИ\"', '3906221332', '390601001', '1103925023069', '1.2.643.5.1.13.13.12.2.39.19288', '12300', '16', '236008, обл Калининградская, г Калининград, ул А.Невского, д 76В', 'b0a47fb7-85df-494b-af1b-6eafec16ba01', '27000000000', 'ZPDENT@YANDEX.RU', '+74012352801', '', '18.02.2025', '31.12.2025', '00423200000000000', 'ОБЩЕСТВО С ОГРАНИЧЕННОЙ ОТВЕТСТВЕННОСТЬЮ \"АМБУЛАНС\"', 'ООО \"АМБУЛАНС\"', '3907210911', '390701001', '1103925023102', '1.2.643.5.1.13.13.12.2.39.19020', '12300', '16', '236005, обл Калининградская, г Калининград, пер Киевский, д 1А', '6191d0d9-8b1e-4af0-8c65-dd2dfc5ffb16', '27000000000', 'AMBULANCE39@MAIL.RU', '+74012911777', '', '01.01.2025', '31.12.2025', '00423300000000000', 'ФЕДЕРАЛЬНОЕ ГОСУДАРСТВЕННОЕ БЮДЖЕТНОЕ УЧРЕЖДЕНИЕ ДЕТСКИЙ ОРТОПЕДИЧЕСКИЙ САНАТОРИЙ \"ПИОНЕРСК\" МИНИСТЕРСТВА ЗДРАВООХРАНЕНИЯ РОССИЙСКОЙ ФЕДЕРАЦИИ', 'ФГБУ ДОС \"ПИОНЕРСК\" МИНЗДРАВА РОССИИ', '3910002710', '391001001', '1023902057860', '1.2.643.5.1.13.13.12.2.39.3774', '75103', '12', ', обл Калининградская, г Пионерский, ул Комсомольская, д 44А', '3dd053f4-7913-425f-a7c4-5c6f9f3c6e82', '27000000000', 'sanpionersk@mail.ru', '+74015522575', '', '01.01.2025' ... 1991 parameters truncated ... 'ГОСУДАРСТВЕННОЕ АВТОНОМНОЕ УЧРЕЖДЕНИЕ ЗДРАВООХРАНЕНИЯ \"КУЗБАССКИЙ КЛИНИЧЕСКИЙ ГОСПИТАЛЬ ДЛЯ ВЕТЕРАНОВ ВОЙН\" ИМ. Н.Н. БУРДИНА', 'ГАУЗ ККГВВ ИМ. Н.Н. БУРДИНА', '4207034677', '420501001', '1024200680680', '1.2.643.5.1.13.13.12.2.42.3927', '75201', '13', '650000, обл Кемеровская область - Кузбасс, г Кемерово, ул 50 лет Октября, д 10', '163a167b-59e3-4cca-ae6d-2ce64aeebf62', '32000000000', 'hospital@kemokgvv.ru', '+73842581060', '', '21.05.2025', '31.12.2025', '00441100000000000', 'ГОСУДАРСТВЕННОЕ АВТОНОМНОЕ УЧРЕЖДЕНИЕ ЗДРАВООХРАНЕНИЯ \"КЕМЕРОВСКАЯ ГОРОДСКАЯ КЛИНИЧЕСКАЯ БОЛЬНИЦА №4\"', 'ГАУЗ \"КГКБ №4\"', '4205020894', '420501001', '1024200723337', '1.2.643.5.1.13.13.12.2.42.3941', '75201', '13', '650024, обл Кемеровская область - Кузбасс, г Кемерово, ул Базовая, д 12А', '7bdcf69c-df34-4f13-8675-706048112679', '32000000000', 's_gkb4@mail.ru', '+73842774780', '', '20.08.2025', '31.12.2025', '00441200000000000', 'ФЕДЕРАЛЬНОЕ КАЗЕННОЕ УЧРЕЖДЕНИЕ ЗДРАВООХРАНЕНИЯ \"МЕДИКО-САНИТАРНАЯ ЧАСТЬ № 42 ФЕДЕРАЛЬНОЙ СЛУЖБЫ ИСПОЛНЕНИЯ НАКАЗАНИЙ\"', 'ФКУЗ МСЧ-42 ФСИН РОССИИ', '4205007607', '420501001', '1034205022972', '1.2.643.5.1.13.13.12.2.42.9462', '75104', '12', '650055, обл Кемеровская область - Кузбасс, г Кемерово, ул Сарыгина, д 29', '57985f20-b24d-4fb6-8edc-af1a2717c381', '32000000000', 'msch42@42.fsin.gov.ru', '+73842286291', '', '09.06.2025', '31.12.2025')\n"
     ]
    },
    {
     "name": "stderr",
     "output_type": "stream",
     "text": [
      "INFO:sqlalchemy.engine.Engine:[insertmanyvalues 28/72 (unordered)] ('00423100000000000', 'ОБЩЕСТВО С ОГРАНИЧЕННОЙ ОТВЕТСТВЕННОСТЬЮ \"ЦЕНТР ПАРОДОНТОЛОГИИ\"', 'ООО \"ЦЕНТР ПАРОДОНТОЛОГИИ\"', '3906221332', '390601001', '1103925023069', '1.2.643.5.1.13.13.12.2.39.19288', '12300', '16', '236008, обл Калининградская, г Калининград, ул А.Невского, д 76В', 'b0a47fb7-85df-494b-af1b-6eafec16ba01', '27000000000', 'ZPDENT@YANDEX.RU', '+74012352801', '', '18.02.2025', '31.12.2025', '00423200000000000', 'ОБЩЕСТВО С ОГРАНИЧЕННОЙ ОТВЕТСТВЕННОСТЬЮ \"АМБУЛАНС\"', 'ООО \"АМБУЛАНС\"', '3907210911', '390701001', '1103925023102', '1.2.643.5.1.13.13.12.2.39.19020', '12300', '16', '236005, обл Калининградская, г Калининград, пер Киевский, д 1А', '6191d0d9-8b1e-4af0-8c65-dd2dfc5ffb16', '27000000000', 'AMBULANCE39@MAIL.RU', '+74012911777', '', '01.01.2025', '31.12.2025', '00423300000000000', 'ФЕДЕРАЛЬНОЕ ГОСУДАРСТВЕННОЕ БЮДЖЕТНОЕ УЧРЕЖДЕНИЕ ДЕТСКИЙ ОРТОПЕДИЧЕСКИЙ САНАТОРИЙ \"ПИОНЕРСК\" МИНИСТЕРСТВА ЗДРАВООХРАНЕНИЯ РОССИЙСКОЙ ФЕДЕРАЦИИ', 'ФГБУ ДОС \"ПИОНЕРСК\" МИНЗДРАВА РОССИИ', '3910002710', '391001001', '1023902057860', '1.2.643.5.1.13.13.12.2.39.3774', '75103', '12', ', обл Калининградская, г Пионерский, ул Комсомольская, д 44А', '3dd053f4-7913-425f-a7c4-5c6f9f3c6e82', '27000000000', 'sanpionersk@mail.ru', '+74015522575', '', '01.01.2025' ... 1991 parameters truncated ... 'ГОСУДАРСТВЕННОЕ АВТОНОМНОЕ УЧРЕЖДЕНИЕ ЗДРАВООХРАНЕНИЯ \"КУЗБАССКИЙ КЛИНИЧЕСКИЙ ГОСПИТАЛЬ ДЛЯ ВЕТЕРАНОВ ВОЙН\" ИМ. Н.Н. БУРДИНА', 'ГАУЗ ККГВВ ИМ. Н.Н. БУРДИНА', '4207034677', '420501001', '1024200680680', '1.2.643.5.1.13.13.12.2.42.3927', '75201', '13', '650000, обл Кемеровская область - Кузбасс, г Кемерово, ул 50 лет Октября, д 10', '163a167b-59e3-4cca-ae6d-2ce64aeebf62', '32000000000', 'hospital@kemokgvv.ru', '+73842581060', '', '21.05.2025', '31.12.2025', '00441100000000000', 'ГОСУДАРСТВЕННОЕ АВТОНОМНОЕ УЧРЕЖДЕНИЕ ЗДРАВООХРАНЕНИЯ \"КЕМЕРОВСКАЯ ГОРОДСКАЯ КЛИНИЧЕСКАЯ БОЛЬНИЦА №4\"', 'ГАУЗ \"КГКБ №4\"', '4205020894', '420501001', '1024200723337', '1.2.643.5.1.13.13.12.2.42.3941', '75201', '13', '650024, обл Кемеровская область - Кузбасс, г Кемерово, ул Базовая, д 12А', '7bdcf69c-df34-4f13-8675-706048112679', '32000000000', 's_gkb4@mail.ru', '+73842774780', '', '20.08.2025', '31.12.2025', '00441200000000000', 'ФЕДЕРАЛЬНОЕ КАЗЕННОЕ УЧРЕЖДЕНИЕ ЗДРАВООХРАНЕНИЯ \"МЕДИКО-САНИТАРНАЯ ЧАСТЬ № 42 ФЕДЕРАЛЬНОЙ СЛУЖБЫ ИСПОЛНЕНИЯ НАКАЗАНИЙ\"', 'ФКУЗ МСЧ-42 ФСИН РОССИИ', '4205007607', '420501001', '1034205022972', '1.2.643.5.1.13.13.12.2.42.9462', '75104', '12', '650055, обл Кемеровская область - Кузбасс, г Кемерово, ул Сарыгина, д 29', '57985f20-b24d-4fb6-8edc-af1a2717c381', '32000000000', 'msch42@42.fsin.gov.ru', '+73842286291', '', '09.06.2025', '31.12.2025')\n"
     ]
    },
    {
     "name": "stdout",
     "output_type": "stream",
     "text": [
      "2025-09-03 16:03:23,892 INFO sqlalchemy.engine.Engine INSERT INTO nsi.[ERMO] ([IDMO], [NAM_MOP], [NAM_MOK], [INN], [KPP], [OGRN], [OID_MO], [OKOPF], [OKFS], [ADDR_J], [ADDR_J_GAR], [OKTMO], [EMAIL], [PHONE], [FAX], [DATEBEG], [DATEEND]) VALUES (?, ?, ?, ?, ?, ?, ?, ?, ?, ?, ?, ?, ?, ?, ?, ?, ?), (?, ?,  ... 6357 characters truncated ... ?, ?, ?, ?, ?, ?, ?, ?, ?, ?, ?, ?, ?, ?, ?, ?), (?, ?, ?, ?, ?, ?, ?, ?, ?, ?, ?, ?, ?, ?, ?, ?, ?)\n"
     ]
    },
    {
     "name": "stderr",
     "output_type": "stream",
     "text": [
      "INFO:sqlalchemy.engine.Engine:INSERT INTO nsi.[ERMO] ([IDMO], [NAM_MOP], [NAM_MOK], [INN], [KPP], [OGRN], [OID_MO], [OKOPF], [OKFS], [ADDR_J], [ADDR_J_GAR], [OKTMO], [EMAIL], [PHONE], [FAX], [DATEBEG], [DATEEND]) VALUES (?, ?, ?, ?, ?, ?, ?, ?, ?, ?, ?, ?, ?, ?, ?, ?, ?), (?, ?,  ... 6357 characters truncated ... ?, ?, ?, ?, ?, ?, ?, ?, ?, ?, ?, ?, ?, ?, ?, ?), (?, ?, ?, ?, ?, ?, ?, ?, ?, ?, ?, ?, ?, ?, ?, ?, ?)\n"
     ]
    },
    {
     "name": "stdout",
     "output_type": "stream",
     "text": [
      "2025-09-03 16:03:23,894 INFO sqlalchemy.engine.Engine [insertmanyvalues 29/72 (unordered)] ('00441300000000000', 'ФЕДЕРАЛЬНОЕ КАЗЕННОЕ УЧРЕЖДЕНИЕ ЗДРАВООХРАНЕНИЯ \"МЕДИКО-САНИТАРНАЯ ЧАСТЬ МИНИСТЕРСТВА ВНУТРЕННИХ ДЕЛ РОССИЙСКОЙ ФЕДЕРАЦИИ ПО КЕМЕРОВСКОЙ ОБЛАСТИ - КУЗБАССУ\"', 'ФКУЗ \"МСЧ МВД РОССИИ ПО КЕМЕРОВСКОЙ ОБЛАСТИ - КУЗБАССУ\"', '4205100211', '420501001', '1064205046168', '1.2.643.5.1.13.13.12.2.42.4109', '75104', '12', '650000, обл Кемеровская область - Кузбасс, г Кемерово, ул Кузбасская, д 10А', '09eb35c3-d9b7-40dd-9f05-ddc6bd34bf06', '32000000000', 'msch42@mail.ru', '+73842327782', '', '11.06.2025', '31.12.2025', '00441500000000000', 'ГОСУДАРСТВЕННОЕ АВТОНОМНОЕ УЧРЕЖДЕНИЕ ЗДРАВООХРАНЕНИЯ \"КЕМЕРОВСКАЯ ГОРОДСКАЯ КЛИНИЧЕСКАЯ СТОМАТОЛОГИЧЕСКАЯ ПОЛИКЛИНИКА №3\"', 'ГАУЗ КГКСП №3', '4208001900', '420501001', '1024200722468', '1.2.643.5.1.13.13.12.2.42.3930', '75201', '13', '650002, обл Кемеровская область - Кузбасс, г Кемерово, пр-кт Шахтеров, д 34', '45b80c99-c740-44d2-80a0-49f47ddf52c1', '32000000000', 'gsp3kadri@mail.ru', '+73842642700', '', '17.04.2025', '31.12.2025', '00441600000000000', 'ОБЩЕСТВО С ОГРАНИЧЕННОЙ ОТВЕТСТВЕННОСТЬЮ МЕДИЦИНСКИЙ ЦЕНТР \"МАКСИМУМ ЗДОРОВЬЯ\"', 'ООО МЦ \"МАКСИМУМ ЗДОРОВЬЯ\"', '4205206352', '420501001', '1104205014759', '1.2.643.5.1.13.13.12.2.42.19898', '12300', '16', '650066, обл Кемеровская область - Кузбасс, г Кемерово, пр-кт Притомский, д. 35 к. 1', '382a58d3-ba78-4e95-94a1-547b1bdcf751', '32000000000', 'valentina_ps_08@mail.ru', '+73842773706', '', '08.08.2025' ... 1991 parameters truncated ... 'КИРОВСКОЕ ОБЛАСТНОЕ ГОСУДАРСТВЕННОЕ БЮДЖЕТНОЕ УЧРЕЖДЕНИЕ ЗДРАВООХРАНЕНИЯ \"СТАНЦИЯ СКОРОЙ МЕДИЦИНСКОЙ ПОМОЩИ Г. КИРОВА\"', 'КОГБУЗ \"СТАНЦИЯ СКОРОЙ МЕДИЦИНСКОЙ ПОМОЩИ Г. КИРОВА\"', '4346013360', '434501001', '1024301340513', '1.2.643.5.1.13.13.12.2.43.4170', '75203', '13', '610045, обл Кировская, г Киров, пр-кт Строителей, д 27', '531b6363-d520-4f89-a709-6e8a64c3fc91', '33000000000', 'ssmp@ambulance.kirov.ru', '+78332378602', '', '09.06.2025', '31.12.2025', '00459100000000000', 'КИРОВСКОЕ ОБЛАСТНОЕ ГОСУДАРСТВЕННОЕ БЮДЖЕТНОЕ УЧРЕЖДЕНИЕ ЗДРАВООХРАНЕНИЯ  \"КИРОВСКАЯ ОБЛАСТНАЯ КЛИНИЧЕСКАЯ БОЛЬНИЦА\"', 'КОГБУЗ \"КОКБ\"', '4346011211', '434501001', '1034316557791', '1.2.643.5.1.13.13.12.2.43.4111', '75203', '13', '610027, обл Кировская, г Киров, ул Воровского, д 42', '6d03d48f-967b-4bbf-a495-b7829e69f370', '33000000000', 'kokb@mail.ru', '+78332258704', '', '15.08.2025', '31.12.2025', '00459200000000000', 'КИРОВСКОЕ ОБЛАСТНОЕ ГОСУДАРСТВЕННОЕ БЮДЖЕТНОЕ УЧРЕЖДЕНИЕ ЗДРАВООХРАНЕНИЯ \"КИРОВСКАЯ ОБЛАСТНАЯ ДЕТСКАЯ КЛИНИЧЕСКАЯ БОЛЬНИЦА\"', 'КОГБУЗ \"КИРОВСКАЯ ОБЛАСТНАЯ ДЕТСКАЯ КЛИНИЧЕСКАЯ БОЛЬНИЦА\"', '4347018562', '434501001', '1034316507708', '1.2.643.5.1.13.13.12.2.43.4174', '75203', '13', '610050, обл Кировская, г Киров, ул Менделеева, д 16', 'd048a226-b4e9-49eb-8adc-5bd9b8d9de1c', '33000000000', 'ip-detboln@medstat.kirov.ru', '+78332621033', '', '26.08.2025', '31.12.2025')\n"
     ]
    },
    {
     "name": "stderr",
     "output_type": "stream",
     "text": [
      "INFO:sqlalchemy.engine.Engine:[insertmanyvalues 29/72 (unordered)] ('00441300000000000', 'ФЕДЕРАЛЬНОЕ КАЗЕННОЕ УЧРЕЖДЕНИЕ ЗДРАВООХРАНЕНИЯ \"МЕДИКО-САНИТАРНАЯ ЧАСТЬ МИНИСТЕРСТВА ВНУТРЕННИХ ДЕЛ РОССИЙСКОЙ ФЕДЕРАЦИИ ПО КЕМЕРОВСКОЙ ОБЛАСТИ - КУЗБАССУ\"', 'ФКУЗ \"МСЧ МВД РОССИИ ПО КЕМЕРОВСКОЙ ОБЛАСТИ - КУЗБАССУ\"', '4205100211', '420501001', '1064205046168', '1.2.643.5.1.13.13.12.2.42.4109', '75104', '12', '650000, обл Кемеровская область - Кузбасс, г Кемерово, ул Кузбасская, д 10А', '09eb35c3-d9b7-40dd-9f05-ddc6bd34bf06', '32000000000', 'msch42@mail.ru', '+73842327782', '', '11.06.2025', '31.12.2025', '00441500000000000', 'ГОСУДАРСТВЕННОЕ АВТОНОМНОЕ УЧРЕЖДЕНИЕ ЗДРАВООХРАНЕНИЯ \"КЕМЕРОВСКАЯ ГОРОДСКАЯ КЛИНИЧЕСКАЯ СТОМАТОЛОГИЧЕСКАЯ ПОЛИКЛИНИКА №3\"', 'ГАУЗ КГКСП №3', '4208001900', '420501001', '1024200722468', '1.2.643.5.1.13.13.12.2.42.3930', '75201', '13', '650002, обл Кемеровская область - Кузбасс, г Кемерово, пр-кт Шахтеров, д 34', '45b80c99-c740-44d2-80a0-49f47ddf52c1', '32000000000', 'gsp3kadri@mail.ru', '+73842642700', '', '17.04.2025', '31.12.2025', '00441600000000000', 'ОБЩЕСТВО С ОГРАНИЧЕННОЙ ОТВЕТСТВЕННОСТЬЮ МЕДИЦИНСКИЙ ЦЕНТР \"МАКСИМУМ ЗДОРОВЬЯ\"', 'ООО МЦ \"МАКСИМУМ ЗДОРОВЬЯ\"', '4205206352', '420501001', '1104205014759', '1.2.643.5.1.13.13.12.2.42.19898', '12300', '16', '650066, обл Кемеровская область - Кузбасс, г Кемерово, пр-кт Притомский, д. 35 к. 1', '382a58d3-ba78-4e95-94a1-547b1bdcf751', '32000000000', 'valentina_ps_08@mail.ru', '+73842773706', '', '08.08.2025' ... 1991 parameters truncated ... 'КИРОВСКОЕ ОБЛАСТНОЕ ГОСУДАРСТВЕННОЕ БЮДЖЕТНОЕ УЧРЕЖДЕНИЕ ЗДРАВООХРАНЕНИЯ \"СТАНЦИЯ СКОРОЙ МЕДИЦИНСКОЙ ПОМОЩИ Г. КИРОВА\"', 'КОГБУЗ \"СТАНЦИЯ СКОРОЙ МЕДИЦИНСКОЙ ПОМОЩИ Г. КИРОВА\"', '4346013360', '434501001', '1024301340513', '1.2.643.5.1.13.13.12.2.43.4170', '75203', '13', '610045, обл Кировская, г Киров, пр-кт Строителей, д 27', '531b6363-d520-4f89-a709-6e8a64c3fc91', '33000000000', 'ssmp@ambulance.kirov.ru', '+78332378602', '', '09.06.2025', '31.12.2025', '00459100000000000', 'КИРОВСКОЕ ОБЛАСТНОЕ ГОСУДАРСТВЕННОЕ БЮДЖЕТНОЕ УЧРЕЖДЕНИЕ ЗДРАВООХРАНЕНИЯ  \"КИРОВСКАЯ ОБЛАСТНАЯ КЛИНИЧЕСКАЯ БОЛЬНИЦА\"', 'КОГБУЗ \"КОКБ\"', '4346011211', '434501001', '1034316557791', '1.2.643.5.1.13.13.12.2.43.4111', '75203', '13', '610027, обл Кировская, г Киров, ул Воровского, д 42', '6d03d48f-967b-4bbf-a495-b7829e69f370', '33000000000', 'kokb@mail.ru', '+78332258704', '', '15.08.2025', '31.12.2025', '00459200000000000', 'КИРОВСКОЕ ОБЛАСТНОЕ ГОСУДАРСТВЕННОЕ БЮДЖЕТНОЕ УЧРЕЖДЕНИЕ ЗДРАВООХРАНЕНИЯ \"КИРОВСКАЯ ОБЛАСТНАЯ ДЕТСКАЯ КЛИНИЧЕСКАЯ БОЛЬНИЦА\"', 'КОГБУЗ \"КИРОВСКАЯ ОБЛАСТНАЯ ДЕТСКАЯ КЛИНИЧЕСКАЯ БОЛЬНИЦА\"', '4347018562', '434501001', '1034316507708', '1.2.643.5.1.13.13.12.2.43.4174', '75203', '13', '610050, обл Кировская, г Киров, ул Менделеева, д 16', 'd048a226-b4e9-49eb-8adc-5bd9b8d9de1c', '33000000000', 'ip-detboln@medstat.kirov.ru', '+78332621033', '', '26.08.2025', '31.12.2025')\n"
     ]
    },
    {
     "name": "stdout",
     "output_type": "stream",
     "text": [
      "2025-09-03 16:03:24,004 INFO sqlalchemy.engine.Engine INSERT INTO nsi.[ERMO] ([IDMO], [NAM_MOP], [NAM_MOK], [INN], [KPP], [OGRN], [OID_MO], [OKOPF], [OKFS], [ADDR_J], [ADDR_J_GAR], [OKTMO], [EMAIL], [PHONE], [FAX], [DATEBEG], [DATEEND]) VALUES (?, ?, ?, ?, ?, ?, ?, ?, ?, ?, ?, ?, ?, ?, ?, ?, ?), (?, ?,  ... 6357 characters truncated ... ?, ?, ?, ?, ?, ?, ?, ?, ?, ?, ?, ?, ?, ?, ?, ?), (?, ?, ?, ?, ?, ?, ?, ?, ?, ?, ?, ?, ?, ?, ?, ?, ?)\n"
     ]
    },
    {
     "name": "stderr",
     "output_type": "stream",
     "text": [
      "INFO:sqlalchemy.engine.Engine:INSERT INTO nsi.[ERMO] ([IDMO], [NAM_MOP], [NAM_MOK], [INN], [KPP], [OGRN], [OID_MO], [OKOPF], [OKFS], [ADDR_J], [ADDR_J_GAR], [OKTMO], [EMAIL], [PHONE], [FAX], [DATEBEG], [DATEEND]) VALUES (?, ?, ?, ?, ?, ?, ?, ?, ?, ?, ?, ?, ?, ?, ?, ?, ?), (?, ?,  ... 6357 characters truncated ... ?, ?, ?, ?, ?, ?, ?, ?, ?, ?, ?, ?, ?, ?, ?, ?), (?, ?, ?, ?, ?, ?, ?, ?, ?, ?, ?, ?, ?, ?, ?, ?, ?)\n"
     ]
    },
    {
     "name": "stdout",
     "output_type": "stream",
     "text": [
      "2025-09-03 16:03:24,007 INFO sqlalchemy.engine.Engine [insertmanyvalues 30/72 (unordered)] ('00459300000000000', 'КИРОВСКОЕ ОБЛАСТНОЕ ГОСУДАРСТВЕННОЕ БЮДЖЕТНОЕ УЧРЕЖДЕНИЕ  ЗДРАВООХРАНЕНИЯ \"КИРОВСКИЙ ОБЛАСТНОЙ КЛИНИЧЕСКИЙ КОЖНО-ВЕНЕРОЛОГИЧЕСКИЙ ДИСПАНСЕР\"', 'КОГБУЗ \"КИРОВСКИЙ ОБЛАСТНОЙ КЛИНИЧЕСКИЙ КОЖНО-ВЕНЕРОЛОГИЧЕСКИЙ ДИСПАНСЕР\"', '4347024781', '434501001', '1034316516520', '1.2.643.5.1.13.13.12.2.43.4118', '75203', '13', '610030, обл Кировская, г Киров, ул Семашко, д 2а', '9afb1115-97de-4de2-8ca5-e258e886e962', '33000000000', 'ip-oblko@medkirov.ru', '+78332400550', '', '13.08.2025', '31.12.2025', '00459400000000000', 'КИРОВСКОЕ ОБЛАСТНОЕ ГОСУДАРСТВЕННОЕ КЛИНИЧЕСКОЕ БЮДЖЕТНОЕ УЧРЕЖДЕНИЕ ЗДРАВООХРАНЕНИЯ \"ЦЕНТР ОНКОЛОГИИ И МЕДИЦИНСКОЙ РАДИОЛОГИИ\"', 'КОГКБУЗ \"ЦЕНТР ОНКОЛОГИИ И МЕДИЦИНСКОЙ РАДИОЛОГИИ\" , КОГКБУЗ \"ЦОМР\"', '4346001911', '434501001', '1034316525110', '1.2.643.5.1.13.13.12.2.43.4145', '75203', '13', '610045, обл Кировская, г Киров, пр-кт Строителей, д 23', 'aa049740-b1c5-4cc3-82d2-ab8837193f4b', '33000000000', 'info1@onko-kirov.ru', '+78332254760', '', '14.08.2025', '31.12.2025', '00459500000000000', 'КИРОВСКОЕ ОБЛАСТНОЕ ГОСУДАРСТВЕННОЕ БЮДЖЕТНОЕ УЧРЕЖДЕНИЕ ЗДРАВООХРАНЕНИЯ  \"КИРОВСКИЙ ОБЛАСТНОЙ ГОСПИТАЛЬ ДЛЯ ВЕТЕРАНОВ ВОЙН\"', 'КОГБУЗ \"КИРОВСКИЙ ОБЛАСТНОЙ ГОСПИТАЛЬ ДЛЯ ВЕТЕРАНОВ ВОЙН\"', '4346019034', '434501001', '1034316542644', '1.2.643.5.1.13.13.12.2.43.4131', '75203', '13', '610027, обл Кировская, г Киров, ул Карла Маркса, д 113', 'feec70e2-8a87-4105-99cd-acf57e8e1b02', '33000000000', 'ip-gvv@medstat.kirov.ru', '+78332648997', '', '20.08.2025' ... 1991 parameters truncated ... 'ГОСУДАРСТВЕННОЕ БЮДЖЕТНОЕ УЧРЕЖДЕНИЕ \"КУРГАНСКАЯ ОБЛАСТНАЯ БОЛЬНИЦА №2\"', 'ГБУ \"КУРГАНСКАЯ ОБЛАСТНАЯ БОЛЬНИЦА №2\"', '4501008880', '450101001', '1024500527369', '1.2.643.5.1.13.13.12.2.45.4294', '75203', '13', '640014, обл Курганская, г Курган, ул Карбышева, д 27', '32559f0a-0a2a-4b2b-becb-fefe100b1552', '37000000000', 'kur-gb2@rambler.ru', '+73522477024', '', '30.05.2025', '31.12.2025', '00474900000000000', 'ГОСУДАРСТВЕННОЕ БЮДЖЕТНОЕ УЧРЕЖДЕНИЕ \"КУРГАНСКАЯ ПОЛИКЛИНИКА №2\"', 'ГБУ \"КУРГАНСКАЯ ПОЛИКЛИНИКА №2\"', '4501052952', '450101001', '1024500527721', '1.2.643.5.1.13.13.12.2.45.4263', '75203', '13', '640002, обл Курганская, г Курган, ул Гоголя, д 42/1', '4aae3de5-ffd0-4597-b6c6-baa98c3ad515', '37000000000', 'gorbol5kgpr@yandex.ru', '+73522431772', '', '04.06.2025', '31.12.2025', '00475000000000000', 'ГОСУДАРСТВЕННОЕ БЮДЖЕТНОЕ УЧРЕЖДЕНИЕ \"КУРГАНСКАЯ ДЕТСКАЯ ПОЛИКЛИНИКА\"', 'ГБУ \"КУРГАНСКАЯ ДЕТСКАЯ ПОЛИКЛИНИКА\"', '4501019049', '450101001', '1024500515533', '1.2.643.5.1.13.13.12.2.45.4282', '75203', '13', '640002, обл Курганская, г Курган, ул Коли Мяготина, д 114', '869e8e7f-4747-4a2b-aabb-7f1fc9c0e497', '37000000000', 'detsk_polik1@mail.ru', '+73522463775', '', '30.05.2025', '31.12.2025')\n"
     ]
    },
    {
     "name": "stderr",
     "output_type": "stream",
     "text": [
      "INFO:sqlalchemy.engine.Engine:[insertmanyvalues 30/72 (unordered)] ('00459300000000000', 'КИРОВСКОЕ ОБЛАСТНОЕ ГОСУДАРСТВЕННОЕ БЮДЖЕТНОЕ УЧРЕЖДЕНИЕ  ЗДРАВООХРАНЕНИЯ \"КИРОВСКИЙ ОБЛАСТНОЙ КЛИНИЧЕСКИЙ КОЖНО-ВЕНЕРОЛОГИЧЕСКИЙ ДИСПАНСЕР\"', 'КОГБУЗ \"КИРОВСКИЙ ОБЛАСТНОЙ КЛИНИЧЕСКИЙ КОЖНО-ВЕНЕРОЛОГИЧЕСКИЙ ДИСПАНСЕР\"', '4347024781', '434501001', '1034316516520', '1.2.643.5.1.13.13.12.2.43.4118', '75203', '13', '610030, обл Кировская, г Киров, ул Семашко, д 2а', '9afb1115-97de-4de2-8ca5-e258e886e962', '33000000000', 'ip-oblko@medkirov.ru', '+78332400550', '', '13.08.2025', '31.12.2025', '00459400000000000', 'КИРОВСКОЕ ОБЛАСТНОЕ ГОСУДАРСТВЕННОЕ КЛИНИЧЕСКОЕ БЮДЖЕТНОЕ УЧРЕЖДЕНИЕ ЗДРАВООХРАНЕНИЯ \"ЦЕНТР ОНКОЛОГИИ И МЕДИЦИНСКОЙ РАДИОЛОГИИ\"', 'КОГКБУЗ \"ЦЕНТР ОНКОЛОГИИ И МЕДИЦИНСКОЙ РАДИОЛОГИИ\" , КОГКБУЗ \"ЦОМР\"', '4346001911', '434501001', '1034316525110', '1.2.643.5.1.13.13.12.2.43.4145', '75203', '13', '610045, обл Кировская, г Киров, пр-кт Строителей, д 23', 'aa049740-b1c5-4cc3-82d2-ab8837193f4b', '33000000000', 'info1@onko-kirov.ru', '+78332254760', '', '14.08.2025', '31.12.2025', '00459500000000000', 'КИРОВСКОЕ ОБЛАСТНОЕ ГОСУДАРСТВЕННОЕ БЮДЖЕТНОЕ УЧРЕЖДЕНИЕ ЗДРАВООХРАНЕНИЯ  \"КИРОВСКИЙ ОБЛАСТНОЙ ГОСПИТАЛЬ ДЛЯ ВЕТЕРАНОВ ВОЙН\"', 'КОГБУЗ \"КИРОВСКИЙ ОБЛАСТНОЙ ГОСПИТАЛЬ ДЛЯ ВЕТЕРАНОВ ВОЙН\"', '4346019034', '434501001', '1034316542644', '1.2.643.5.1.13.13.12.2.43.4131', '75203', '13', '610027, обл Кировская, г Киров, ул Карла Маркса, д 113', 'feec70e2-8a87-4105-99cd-acf57e8e1b02', '33000000000', 'ip-gvv@medstat.kirov.ru', '+78332648997', '', '20.08.2025' ... 1991 parameters truncated ... 'ГОСУДАРСТВЕННОЕ БЮДЖЕТНОЕ УЧРЕЖДЕНИЕ \"КУРГАНСКАЯ ОБЛАСТНАЯ БОЛЬНИЦА №2\"', 'ГБУ \"КУРГАНСКАЯ ОБЛАСТНАЯ БОЛЬНИЦА №2\"', '4501008880', '450101001', '1024500527369', '1.2.643.5.1.13.13.12.2.45.4294', '75203', '13', '640014, обл Курганская, г Курган, ул Карбышева, д 27', '32559f0a-0a2a-4b2b-becb-fefe100b1552', '37000000000', 'kur-gb2@rambler.ru', '+73522477024', '', '30.05.2025', '31.12.2025', '00474900000000000', 'ГОСУДАРСТВЕННОЕ БЮДЖЕТНОЕ УЧРЕЖДЕНИЕ \"КУРГАНСКАЯ ПОЛИКЛИНИКА №2\"', 'ГБУ \"КУРГАНСКАЯ ПОЛИКЛИНИКА №2\"', '4501052952', '450101001', '1024500527721', '1.2.643.5.1.13.13.12.2.45.4263', '75203', '13', '640002, обл Курганская, г Курган, ул Гоголя, д 42/1', '4aae3de5-ffd0-4597-b6c6-baa98c3ad515', '37000000000', 'gorbol5kgpr@yandex.ru', '+73522431772', '', '04.06.2025', '31.12.2025', '00475000000000000', 'ГОСУДАРСТВЕННОЕ БЮДЖЕТНОЕ УЧРЕЖДЕНИЕ \"КУРГАНСКАЯ ДЕТСКАЯ ПОЛИКЛИНИКА\"', 'ГБУ \"КУРГАНСКАЯ ДЕТСКАЯ ПОЛИКЛИНИКА\"', '4501019049', '450101001', '1024500515533', '1.2.643.5.1.13.13.12.2.45.4282', '75203', '13', '640002, обл Курганская, г Курган, ул Коли Мяготина, д 114', '869e8e7f-4747-4a2b-aabb-7f1fc9c0e497', '37000000000', 'detsk_polik1@mail.ru', '+73522463775', '', '30.05.2025', '31.12.2025')\n"
     ]
    },
    {
     "name": "stdout",
     "output_type": "stream",
     "text": [
      "2025-09-03 16:03:24,119 INFO sqlalchemy.engine.Engine INSERT INTO nsi.[ERMO] ([IDMO], [NAM_MOP], [NAM_MOK], [INN], [KPP], [OGRN], [OID_MO], [OKOPF], [OKFS], [ADDR_J], [ADDR_J_GAR], [OKTMO], [EMAIL], [PHONE], [FAX], [DATEBEG], [DATEEND]) VALUES (?, ?, ?, ?, ?, ?, ?, ?, ?, ?, ?, ?, ?, ?, ?, ?, ?), (?, ?,  ... 6357 characters truncated ... ?, ?, ?, ?, ?, ?, ?, ?, ?, ?, ?, ?, ?, ?, ?, ?), (?, ?, ?, ?, ?, ?, ?, ?, ?, ?, ?, ?, ?, ?, ?, ?, ?)\n"
     ]
    },
    {
     "name": "stderr",
     "output_type": "stream",
     "text": [
      "INFO:sqlalchemy.engine.Engine:INSERT INTO nsi.[ERMO] ([IDMO], [NAM_MOP], [NAM_MOK], [INN], [KPP], [OGRN], [OID_MO], [OKOPF], [OKFS], [ADDR_J], [ADDR_J_GAR], [OKTMO], [EMAIL], [PHONE], [FAX], [DATEBEG], [DATEEND]) VALUES (?, ?, ?, ?, ?, ?, ?, ?, ?, ?, ?, ?, ?, ?, ?, ?, ?), (?, ?,  ... 6357 characters truncated ... ?, ?, ?, ?, ?, ?, ?, ?, ?, ?, ?, ?, ?, ?, ?, ?), (?, ?, ?, ?, ?, ?, ?, ?, ?, ?, ?, ?, ?, ?, ?, ?, ?)\n"
     ]
    },
    {
     "name": "stdout",
     "output_type": "stream",
     "text": [
      "2025-09-03 16:03:24,121 INFO sqlalchemy.engine.Engine [insertmanyvalues 31/72 (unordered)] ('00475200000000000', 'МУНИЦИПАЛЬНОЕ АВТОНОМНОЕ УЧРЕЖДЕНИЕ ЗДРАВООХРАНЕНИЯ ГОРОДА КУРГАНА \"КУРГАНСКАЯ ГОРОДСКАЯ СТОМАТОЛОГИЧЕСКАЯ ПОЛИКЛИНИКА\"', 'МАУЗ \"КУРГАНСКАЯ ГОРОДСКАЯ СТОМАТОЛОГИЧЕСКАЯ ПОЛИКЛИНИКА\"', '4501053530', '450101001', '1024500518272', '1.2.643.5.1.13.13.12.2.45.4270', '75401', '14', '640018, обл Курганская, г Курган, ул Гоголя, д 70', '3c3f2f4a-4b99-4928-a6ff-2be217a11f1f', '37000000000', 'kurganstom@mail.ru', '+73522460522', '', '24.01.2025', '31.12.2025', '00475300000000000', 'ГОСУДАРСТВЕННОЕ БЮДЖЕТНОЕ  УЧРЕЖДЕНИЕ \"ШАДРИНСКАЯ ЦЕНТРАЛЬНАЯ РАЙОННАЯ БОЛЬНИЦА\"', 'ГБУ \"ШАДРИНСКАЯ ЦРБ\"', '4522003353', '450201001', '1024501950296', '1.2.643.5.1.13.13.12.2.45.4292', '75203', '13', '641850, обл Курганская, р-н Шадринский, с Ключи, ул Ленина, д 12', 'dbfa7ec4-254a-4ec3-8d7c-ea7cc4b0ae01', '37000000000', 'gbushcrb@mail.ru', '+73525331500', '', '04.07.2025', '31.12.2025', '00475600000000000', 'ГОСУДАРСТВЕННОЕ БЮДЖЕТНОЕ УЧРЕЖДЕНИЕ \"ШАДРИНСКАЯ ГОРОДСКАЯ БОЛЬНИЦА\"', 'ГБУ \"ШГБ\"', '4502000467', '450201001', '1024501206267', '1.2.643.5.1.13.13.12.2.45.4277', '75203', '13', '641870, обл Курганская, г Шадринск, ул Михайловская, д 64', '62c0b3ff-5f40-4019-92a2-af6c913655e2', '37000000000', 'shgbl@mail.ru', '+73525360656', '', '30.05.2025' ... 1991 parameters truncated ... 'ГОСУДАРСТВЕННОЕ БЮДЖЕТНОЕ УЧРЕЖДЕНИЕ ЗДРАВООХРАНЕНИЯ ЛЕНИНГРАДСКОЙ ОБЛАСТИ \"ПРИОЗЕРСКАЯ МЕЖРАЙОННАЯ БОЛЬНИЦА\"', 'ГБУЗ ЛО \"ПРИОЗЕРСКАЯ МБ\"', '4712017259', '471201001', '1024701646243', '1.2.643.5.1.13.13.12.2.47.4414', '75203', '13', '188760, обл Ленинградская, р-н Приозерский, г Приозерск, ул Калинина, д 35', '33cad95e-57e5-47cd-948f-d974e4ac06a4', '41000000000', 'priozersk@gbuz-pmb.ru', '+78137951080', '', '04.08.2025', '31.12.2025', '00494000000000000', 'ГОСУДАРСТВЕННОЕ БЮДЖЕТНОЕ УЧРЕЖДЕНИЕ ЗДРАВООХРАНЕНИЯ ЛЕНИНГРАДСКОЙ ОБЛАСТИ \"ВЫБОРГСКАЯ МЕЖРАЙОННАЯ БОЛЬНИЦА\"', 'ГБУЗ ЛО \"ВЫБОРГСКАЯ МБ\"', '4704088721', '470401001', '1114704011971', '1.2.643.5.1.13.13.12.2.47.4422', '75203', '13', '188811, обл Ленинградская, р-н Выборгский, г Выборг, ул Октябрьская, д 2', 'd59fbf24-f269-4604-97a2-69ddb244975c', '41000000000', 'lenoblvgb@yandex.ru', '+78137821410', '', '04.08.2025', '31.12.2025', '00494100000000000', 'ГОСУДАРСТВЕННОЕ АВТОНОМНОЕ УЧРЕЖДЕНИЕ ЗДРАВООХРАНЕНИЯ ЛЕНИНГРАДСКОЙ ОБЛАСТИ \"КИРИШСКАЯ СТОМАТОЛОГИЧЕСКАЯ ПОЛИКЛИНИКА\"', 'ГАУЗ ЛО \"КИРИШСКАЯ СП\"', '4727006651', '472701001', '1224700000821', '1.2.643.5.1.13.13.12.2.47.37449', '75201', '13', '187112, обл Ленинградская, р-н Киришский, г Кириши, ул Нефтехимиков, д 11', '0b337deb-bcde-4e36-ba5b-793be16751ef', '41000000000', 'KIRISHI@STOMA.PRO', '+78136821054', '', '10.07.2025', '31.12.2025')\n"
     ]
    },
    {
     "name": "stderr",
     "output_type": "stream",
     "text": [
      "INFO:sqlalchemy.engine.Engine:[insertmanyvalues 31/72 (unordered)] ('00475200000000000', 'МУНИЦИПАЛЬНОЕ АВТОНОМНОЕ УЧРЕЖДЕНИЕ ЗДРАВООХРАНЕНИЯ ГОРОДА КУРГАНА \"КУРГАНСКАЯ ГОРОДСКАЯ СТОМАТОЛОГИЧЕСКАЯ ПОЛИКЛИНИКА\"', 'МАУЗ \"КУРГАНСКАЯ ГОРОДСКАЯ СТОМАТОЛОГИЧЕСКАЯ ПОЛИКЛИНИКА\"', '4501053530', '450101001', '1024500518272', '1.2.643.5.1.13.13.12.2.45.4270', '75401', '14', '640018, обл Курганская, г Курган, ул Гоголя, д 70', '3c3f2f4a-4b99-4928-a6ff-2be217a11f1f', '37000000000', 'kurganstom@mail.ru', '+73522460522', '', '24.01.2025', '31.12.2025', '00475300000000000', 'ГОСУДАРСТВЕННОЕ БЮДЖЕТНОЕ  УЧРЕЖДЕНИЕ \"ШАДРИНСКАЯ ЦЕНТРАЛЬНАЯ РАЙОННАЯ БОЛЬНИЦА\"', 'ГБУ \"ШАДРИНСКАЯ ЦРБ\"', '4522003353', '450201001', '1024501950296', '1.2.643.5.1.13.13.12.2.45.4292', '75203', '13', '641850, обл Курганская, р-н Шадринский, с Ключи, ул Ленина, д 12', 'dbfa7ec4-254a-4ec3-8d7c-ea7cc4b0ae01', '37000000000', 'gbushcrb@mail.ru', '+73525331500', '', '04.07.2025', '31.12.2025', '00475600000000000', 'ГОСУДАРСТВЕННОЕ БЮДЖЕТНОЕ УЧРЕЖДЕНИЕ \"ШАДРИНСКАЯ ГОРОДСКАЯ БОЛЬНИЦА\"', 'ГБУ \"ШГБ\"', '4502000467', '450201001', '1024501206267', '1.2.643.5.1.13.13.12.2.45.4277', '75203', '13', '641870, обл Курганская, г Шадринск, ул Михайловская, д 64', '62c0b3ff-5f40-4019-92a2-af6c913655e2', '37000000000', 'shgbl@mail.ru', '+73525360656', '', '30.05.2025' ... 1991 parameters truncated ... 'ГОСУДАРСТВЕННОЕ БЮДЖЕТНОЕ УЧРЕЖДЕНИЕ ЗДРАВООХРАНЕНИЯ ЛЕНИНГРАДСКОЙ ОБЛАСТИ \"ПРИОЗЕРСКАЯ МЕЖРАЙОННАЯ БОЛЬНИЦА\"', 'ГБУЗ ЛО \"ПРИОЗЕРСКАЯ МБ\"', '4712017259', '471201001', '1024701646243', '1.2.643.5.1.13.13.12.2.47.4414', '75203', '13', '188760, обл Ленинградская, р-н Приозерский, г Приозерск, ул Калинина, д 35', '33cad95e-57e5-47cd-948f-d974e4ac06a4', '41000000000', 'priozersk@gbuz-pmb.ru', '+78137951080', '', '04.08.2025', '31.12.2025', '00494000000000000', 'ГОСУДАРСТВЕННОЕ БЮДЖЕТНОЕ УЧРЕЖДЕНИЕ ЗДРАВООХРАНЕНИЯ ЛЕНИНГРАДСКОЙ ОБЛАСТИ \"ВЫБОРГСКАЯ МЕЖРАЙОННАЯ БОЛЬНИЦА\"', 'ГБУЗ ЛО \"ВЫБОРГСКАЯ МБ\"', '4704088721', '470401001', '1114704011971', '1.2.643.5.1.13.13.12.2.47.4422', '75203', '13', '188811, обл Ленинградская, р-н Выборгский, г Выборг, ул Октябрьская, д 2', 'd59fbf24-f269-4604-97a2-69ddb244975c', '41000000000', 'lenoblvgb@yandex.ru', '+78137821410', '', '04.08.2025', '31.12.2025', '00494100000000000', 'ГОСУДАРСТВЕННОЕ АВТОНОМНОЕ УЧРЕЖДЕНИЕ ЗДРАВООХРАНЕНИЯ ЛЕНИНГРАДСКОЙ ОБЛАСТИ \"КИРИШСКАЯ СТОМАТОЛОГИЧЕСКАЯ ПОЛИКЛИНИКА\"', 'ГАУЗ ЛО \"КИРИШСКАЯ СП\"', '4727006651', '472701001', '1224700000821', '1.2.643.5.1.13.13.12.2.47.37449', '75201', '13', '187112, обл Ленинградская, р-н Киришский, г Кириши, ул Нефтехимиков, д 11', '0b337deb-bcde-4e36-ba5b-793be16751ef', '41000000000', 'KIRISHI@STOMA.PRO', '+78136821054', '', '10.07.2025', '31.12.2025')\n"
     ]
    },
    {
     "name": "stdout",
     "output_type": "stream",
     "text": [
      "2025-09-03 16:03:24,229 INFO sqlalchemy.engine.Engine INSERT INTO nsi.[ERMO] ([IDMO], [NAM_MOP], [NAM_MOK], [INN], [KPP], [OGRN], [OID_MO], [OKOPF], [OKFS], [ADDR_J], [ADDR_J_GAR], [OKTMO], [EMAIL], [PHONE], [FAX], [DATEBEG], [DATEEND]) VALUES (?, ?, ?, ?, ?, ?, ?, ?, ?, ?, ?, ?, ?, ?, ?, ?, ?), (?, ?,  ... 6357 characters truncated ... ?, ?, ?, ?, ?, ?, ?, ?, ?, ?, ?, ?, ?, ?, ?, ?), (?, ?, ?, ?, ?, ?, ?, ?, ?, ?, ?, ?, ?, ?, ?, ?, ?)\n"
     ]
    },
    {
     "name": "stderr",
     "output_type": "stream",
     "text": [
      "INFO:sqlalchemy.engine.Engine:INSERT INTO nsi.[ERMO] ([IDMO], [NAM_MOP], [NAM_MOK], [INN], [KPP], [OGRN], [OID_MO], [OKOPF], [OKFS], [ADDR_J], [ADDR_J_GAR], [OKTMO], [EMAIL], [PHONE], [FAX], [DATEBEG], [DATEEND]) VALUES (?, ?, ?, ?, ?, ?, ?, ?, ?, ?, ?, ?, ?, ?, ?, ?, ?), (?, ?,  ... 6357 characters truncated ... ?, ?, ?, ?, ?, ?, ?, ?, ?, ?, ?, ?, ?, ?, ?, ?), (?, ?, ?, ?, ?, ?, ?, ?, ?, ?, ?, ?, ?, ?, ?, ?, ?)\n"
     ]
    },
    {
     "name": "stdout",
     "output_type": "stream",
     "text": [
      "2025-09-03 16:03:24,230 INFO sqlalchemy.engine.Engine [insertmanyvalues 32/72 (unordered)] ('00494200000000000', 'ФЕДЕРАЛЬНОЕ ГОСУДАРСТВЕННОЕ БЮДЖЕТНОЕ ОБРАЗОВАТЕЛЬНОЕ УЧРЕЖДЕНИЕ ВЫСШЕГО ОБРАЗОВАНИЯ \"СЕВЕРО-ЗАПАДНЫЙ ГОСУДАРСТВЕННЫЙ МЕДИЦИНСКИЙ УНИВЕРСИТЕТ ИМЕНИ И.И. МЕЧНИКОВА\" МИНИСТЕРСТВА ЗДРАВООХРАНЕНИЯ РОССИЙСКОЙ ФЕДЕРАЦИИ', 'ФГБОУ ВО СЗГМУ ИМ. И.И. МЕЧНИКОВА МИНЗДРАВА РОССИИ', '7842461679', '784201001', '1117847434990', '1.2.643.5.1.13.13.12.2.78.8821', '75103', '12', '191015, г Санкт-Петербург, ул Кирочная, д. 41 литера А', '8e9f57f3-34af-4e0c-bb3b-b1e1baec9b77', '40000000000', 'rectorat@szgmu.ru', '+78123035001', '', '11.07.2025', '31.12.2025', '00494300000000000', 'ОБЩЕСТВО С ОГРАНИЧЕННОЙ ОТВЕТСТВЕННОСТЬЮ \"МНОГОПРОФИЛЬНЫЙ МЕДИЦИНСКИЙ ЦЕНТР ВОССТАНОВИТЕЛЬНОГО ЛЕЧЕНИЯ \"ЗДОРОВЬЕ\"', 'ООО ММЦВЛ «ЗДОРОВЬЕ»', '4705024456', '470501001', '1034701242916', '1.2.643.5.1.13.13.12.2.47.13220', '12300', '16', '188300, обл Ленинградская, р-н Гатчинский, г Гатчина, ул Чехова, д. 22 к. 3', '370f78c5-9d76-4402-8d9a-9332515ce966', '41000000000', 'SAN-PROF-DSK@GTN.RU', '+79117739435', '', '01.08.2025', '31.12.2025', '00494400000000000', 'ФЕДЕРАЛЬНОЕ ГОСУДАРСТВЕННОЕ БЮДЖЕТНОЕ УЧРЕЖДЕНИЕ \"СЕВЕРО-ЗАПАДНЫЙ ОКРУЖНОЙ НАУЧНО-КЛИНИЧЕСКИЙ ЦЕНТР ИМЕНИ Л.Г. СОКОЛОВА ФЕДЕРАЛЬНОГО МЕДИКО-БИОЛОГИЧЕСКОГО АГЕНТСТВА\"', 'ФГБУ СЗОНКЦ ИМ. Л.Г. СОКОЛОВА ФМБА РОССИИ', '7802048200', '780201001', '1027801562876', '1.2.643.5.1.13.13.12.2.78.10026', '75103', '12', '194291, г Санкт-Петербург, пр-кт Культуры, д 4', 'bf760511-013c-40e3-ae8c-ef8996b8d485', '40000000000', 'kb122@fmbamail.ru', '+78125580508', '', '11.07.2025' ... 1991 parameters truncated ... 'ГОСУДАРСТВЕННОЕ БЮДЖЕТНОЕ УЧРЕЖДЕНИЕ ЗДРАВООХРАНЕНИЯ МОСКОВСКОЙ ОБЛАСТИ \"ДОМОДЕДОВСКАЯ СТОМАТОЛОГИЧЕСКАЯ ПОЛИКЛИНИКА\"', 'ГБУЗ МОСКОВСКОЙ ОБЛАСТИ \"ДСП\"', '5009081035', '500901001', '1115009004835', '1.2.643.5.1.13.13.12.2.50.4806', '75203', '13', '142000, обл Московская, г Домодедово, мкр. Центральный, ул Каширское шоссе, д 36а', '7ae964f8-3a2f-4957-b4d2-85ca4d1d48a5', '46000000000', 'mz_dmdd_gsp@mosreg.ru', '+74954929002', '', '14.08.2025', '31.12.2025', '00514800000000000', 'ОБЩЕСТВО С ОГРАНИЧЕННОЙ ОТВЕТСТВЕННОСТЬЮ \"ЦЕНТР ТАРГЕТНОЙ ТЕРАПИИ\"', 'ООО \"ЦЕНТР ТАРГЕТНОЙ ТЕРАПИИ\"', '5009101813', '500901001', '1155009005051', '1.2.643.5.1.13.13.12.2.50.14259', '12300', '16', '125008, г Москва, ул Большая Академическая, д. 39 к. 3', 'ce3dc3b7-49b8-45c3-b4b7-d90069d44561', '45000000000', 'OMS@UMS-03.RU', '+79771509585', '', '31.01.2025', '31.12.2025', '00515100000000000', 'ГОСУДАРСТВЕННОЕ БЮДЖЕТНОЕ УЧРЕЖДЕНИЕ ЗДРАВООХРАНЕНИЯ МОСКОВСКОЙ ОБЛАСТИ \"ДУБНЕНСКАЯ БОЛЬНИЦА\"', 'ГБУЗ МОСКОВСКОЙ ОБЛАСТИ \"ДУБНЕНСКАЯ БОЛЬНИЦА\"', '5010036291', '501001001', '1075010004673', '1.2.643.5.1.13.13.12.2.50.4876', '75203', '13', '141983, обл Московская, г Дубна, ул Карла Маркса, д 30', 'bd4a0f76-7278-44dc-a09e-4f00a9e8cf6a', '46000000000', 'info@dcgb.ru', '+74962170400', '', '29.08.2025', '31.12.2025')\n"
     ]
    },
    {
     "name": "stderr",
     "output_type": "stream",
     "text": [
      "INFO:sqlalchemy.engine.Engine:[insertmanyvalues 32/72 (unordered)] ('00494200000000000', 'ФЕДЕРАЛЬНОЕ ГОСУДАРСТВЕННОЕ БЮДЖЕТНОЕ ОБРАЗОВАТЕЛЬНОЕ УЧРЕЖДЕНИЕ ВЫСШЕГО ОБРАЗОВАНИЯ \"СЕВЕРО-ЗАПАДНЫЙ ГОСУДАРСТВЕННЫЙ МЕДИЦИНСКИЙ УНИВЕРСИТЕТ ИМЕНИ И.И. МЕЧНИКОВА\" МИНИСТЕРСТВА ЗДРАВООХРАНЕНИЯ РОССИЙСКОЙ ФЕДЕРАЦИИ', 'ФГБОУ ВО СЗГМУ ИМ. И.И. МЕЧНИКОВА МИНЗДРАВА РОССИИ', '7842461679', '784201001', '1117847434990', '1.2.643.5.1.13.13.12.2.78.8821', '75103', '12', '191015, г Санкт-Петербург, ул Кирочная, д. 41 литера А', '8e9f57f3-34af-4e0c-bb3b-b1e1baec9b77', '40000000000', 'rectorat@szgmu.ru', '+78123035001', '', '11.07.2025', '31.12.2025', '00494300000000000', 'ОБЩЕСТВО С ОГРАНИЧЕННОЙ ОТВЕТСТВЕННОСТЬЮ \"МНОГОПРОФИЛЬНЫЙ МЕДИЦИНСКИЙ ЦЕНТР ВОССТАНОВИТЕЛЬНОГО ЛЕЧЕНИЯ \"ЗДОРОВЬЕ\"', 'ООО ММЦВЛ «ЗДОРОВЬЕ»', '4705024456', '470501001', '1034701242916', '1.2.643.5.1.13.13.12.2.47.13220', '12300', '16', '188300, обл Ленинградская, р-н Гатчинский, г Гатчина, ул Чехова, д. 22 к. 3', '370f78c5-9d76-4402-8d9a-9332515ce966', '41000000000', 'SAN-PROF-DSK@GTN.RU', '+79117739435', '', '01.08.2025', '31.12.2025', '00494400000000000', 'ФЕДЕРАЛЬНОЕ ГОСУДАРСТВЕННОЕ БЮДЖЕТНОЕ УЧРЕЖДЕНИЕ \"СЕВЕРО-ЗАПАДНЫЙ ОКРУЖНОЙ НАУЧНО-КЛИНИЧЕСКИЙ ЦЕНТР ИМЕНИ Л.Г. СОКОЛОВА ФЕДЕРАЛЬНОГО МЕДИКО-БИОЛОГИЧЕСКОГО АГЕНТСТВА\"', 'ФГБУ СЗОНКЦ ИМ. Л.Г. СОКОЛОВА ФМБА РОССИИ', '7802048200', '780201001', '1027801562876', '1.2.643.5.1.13.13.12.2.78.10026', '75103', '12', '194291, г Санкт-Петербург, пр-кт Культуры, д 4', 'bf760511-013c-40e3-ae8c-ef8996b8d485', '40000000000', 'kb122@fmbamail.ru', '+78125580508', '', '11.07.2025' ... 1991 parameters truncated ... 'ГОСУДАРСТВЕННОЕ БЮДЖЕТНОЕ УЧРЕЖДЕНИЕ ЗДРАВООХРАНЕНИЯ МОСКОВСКОЙ ОБЛАСТИ \"ДОМОДЕДОВСКАЯ СТОМАТОЛОГИЧЕСКАЯ ПОЛИКЛИНИКА\"', 'ГБУЗ МОСКОВСКОЙ ОБЛАСТИ \"ДСП\"', '5009081035', '500901001', '1115009004835', '1.2.643.5.1.13.13.12.2.50.4806', '75203', '13', '142000, обл Московская, г Домодедово, мкр. Центральный, ул Каширское шоссе, д 36а', '7ae964f8-3a2f-4957-b4d2-85ca4d1d48a5', '46000000000', 'mz_dmdd_gsp@mosreg.ru', '+74954929002', '', '14.08.2025', '31.12.2025', '00514800000000000', 'ОБЩЕСТВО С ОГРАНИЧЕННОЙ ОТВЕТСТВЕННОСТЬЮ \"ЦЕНТР ТАРГЕТНОЙ ТЕРАПИИ\"', 'ООО \"ЦЕНТР ТАРГЕТНОЙ ТЕРАПИИ\"', '5009101813', '500901001', '1155009005051', '1.2.643.5.1.13.13.12.2.50.14259', '12300', '16', '125008, г Москва, ул Большая Академическая, д. 39 к. 3', 'ce3dc3b7-49b8-45c3-b4b7-d90069d44561', '45000000000', 'OMS@UMS-03.RU', '+79771509585', '', '31.01.2025', '31.12.2025', '00515100000000000', 'ГОСУДАРСТВЕННОЕ БЮДЖЕТНОЕ УЧРЕЖДЕНИЕ ЗДРАВООХРАНЕНИЯ МОСКОВСКОЙ ОБЛАСТИ \"ДУБНЕНСКАЯ БОЛЬНИЦА\"', 'ГБУЗ МОСКОВСКОЙ ОБЛАСТИ \"ДУБНЕНСКАЯ БОЛЬНИЦА\"', '5010036291', '501001001', '1075010004673', '1.2.643.5.1.13.13.12.2.50.4876', '75203', '13', '141983, обл Московская, г Дубна, ул Карла Маркса, д 30', 'bd4a0f76-7278-44dc-a09e-4f00a9e8cf6a', '46000000000', 'info@dcgb.ru', '+74962170400', '', '29.08.2025', '31.12.2025')\n"
     ]
    },
    {
     "name": "stdout",
     "output_type": "stream",
     "text": [
      "2025-09-03 16:03:24,331 INFO sqlalchemy.engine.Engine INSERT INTO nsi.[ERMO] ([IDMO], [NAM_MOP], [NAM_MOK], [INN], [KPP], [OGRN], [OID_MO], [OKOPF], [OKFS], [ADDR_J], [ADDR_J_GAR], [OKTMO], [EMAIL], [PHONE], [FAX], [DATEBEG], [DATEEND]) VALUES (?, ?, ?, ?, ?, ?, ?, ?, ?, ?, ?, ?, ?, ?, ?, ?, ?), (?, ?,  ... 6357 characters truncated ... ?, ?, ?, ?, ?, ?, ?, ?, ?, ?, ?, ?, ?, ?, ?, ?), (?, ?, ?, ?, ?, ?, ?, ?, ?, ?, ?, ?, ?, ?, ?, ?, ?)\n"
     ]
    },
    {
     "name": "stderr",
     "output_type": "stream",
     "text": [
      "INFO:sqlalchemy.engine.Engine:INSERT INTO nsi.[ERMO] ([IDMO], [NAM_MOP], [NAM_MOK], [INN], [KPP], [OGRN], [OID_MO], [OKOPF], [OKFS], [ADDR_J], [ADDR_J_GAR], [OKTMO], [EMAIL], [PHONE], [FAX], [DATEBEG], [DATEEND]) VALUES (?, ?, ?, ?, ?, ?, ?, ?, ?, ?, ?, ?, ?, ?, ?, ?, ?), (?, ?,  ... 6357 characters truncated ... ?, ?, ?, ?, ?, ?, ?, ?, ?, ?, ?, ?, ?, ?, ?, ?), (?, ?, ?, ?, ?, ?, ?, ?, ?, ?, ?, ?, ?, ?, ?, ?, ?)\n"
     ]
    },
    {
     "name": "stdout",
     "output_type": "stream",
     "text": [
      "2025-09-03 16:03:24,334 INFO sqlalchemy.engine.Engine [insertmanyvalues 33/72 (unordered)] ('00515200000000000', 'ФЕДЕРАЛЬНОЕ БЮДЖЕТНОЕ УЧРЕЖДЕНИЕ ЗДРАВООХРАНЕНИЯ \"МЕДИКО-САНИТАРНАЯ ЧАСТЬ № 9\" ФЕДЕРАЛЬНОГО МЕДИКО-БИОЛОГИЧЕСКОГО АГЕНТСТВА', 'ФБУЗ МСЧ № 9 ФМБА РОССИИ', '5010003352', '501001001', '1035002200640', '1.2.643.5.1.13.13.12.2.50.4924', '75103', '12', '141980, обл Московская, г Дубна, ул Ленинградская, д 9', '233897e2-4d78-40db-a6ea-f7602909a5a9', '46000000000', 'msch9@fmbamail.ru', '+74962140397', '', '08.08.2025', '31.12.2025', '00515300000000000', 'ГОСУДАРСТВЕННОЕ БЮДЖЕТНОЕ УЧРЕЖДЕНИЕ ЗДРАВООХРАНЕНИЯ МОСКОВСКОЙ ОБЛАСТИ \"ДУБНЕНСКАЯ СТОМАТОЛОГИЧЕСКАЯ ПОЛИКЛИНИКА\"', 'ГБУЗ МОСКОВСКОЙ ОБЛАСТИ \"ДУБНЕНСКАЯ СТОМАТОЛОГИЧЕСКАЯ ПОЛИКЛИНИКА\"', '5010026575', '501001001', '1035002200870', '1.2.643.5.1.13.13.12.2.50.4769', '75201', '13', '141983, обл Московская, г Дубна, пер Хлебозаводской, д 28/37', 'a9c8a4c3-2376-4105-adb6-f7429e25561c', '46000000000', 'mz_dubn_sp@mosreg.ru', '+74962129270', '', '12.08.2025', '31.12.2025', '00515500000000000', 'ГОСУДАРСТВЕННОЕ БЮДЖЕТНОЕ УЧРЕЖДЕНИЕ ЗДРАВООХРАНЕНИЯ МОСКОВСКОЙ ОБЛАСТИ \"ЕГОРЬЕВСКАЯ БОЛЬНИЦА\"', 'ГБУЗ МОСКОВСКОЙ ОБЛАСТИ \"ЕГОРЬЕВСКАЯ БОЛЬНИЦА\"', '5011019806', '501101001', '1025001466445', '1.2.643.5.1.13.13.12.2.50.4839', '75203', '13', '140301, обл Московская, г Егорьевск, ул Жукова Гора, д 19', 'fc2e8f2c-1795-41e5-9bc5-afda1f11a9a3', '46000000000', 'ecrb2007@mail.ru', '+74964043501', '', '08.08.2025' ... 1991 parameters truncated ... 'ГОСУДАРСТВЕННОЕ БЮДЖЕТНОЕ УЧРЕЖДЕНИЕ ЗДРАВООХРАНЕНИЯ МОСКОВСКОЙ ОБЛАСТИ \"ШАХОВСКАЯ БОЛЬНИЦА\"', 'ГБУЗ МОСКОВСКОЙ ОБЛАСТИ \"ШАХОВСКАЯ БОЛЬНИЦА\"', '5079002929', '507901001', '1025007864793', '1.2.643.5.1.13.13.12.2.50.4878', '75203', '13', '143700, обл Московская, рп Шаховская, ул 1-я Советская, д 54', '1e9c8ad3-8586-42fb-9ad2-499734a5095f', '46000000000', 'shaxovcrb@mail.ru', '+74963733544', '', '13.08.2025', '31.12.2025', '00538600000000000', 'ГОСУДАРСТВЕННОЕ БЮДЖЕТНОЕ УЧРЕЖДЕНИЕ ЗДРАВООХРАНЕНИЯ МОСКОВСКОЙ ОБЛАСТИ \"ЩЁЛКОВСКАЯ СТОМАТОЛОГИЧЕСКАЯ ПОЛИКИНИКА\"', 'ГБУЗ МОСКОВСКОЙ ОБЛАСТИ \"ЩЕЛКОВСКАЯ СТОМАТОЛОГИЧЕСКАЯ ПОЛИКЛИНИКА\"', '5050002933', '505001001', '1025006525202', '1.2.643.5.1.13.13.12.2.50.4747', '75203', '13', ', обл Московская, г Щёлково, ул Центральная, д 39/7', 'dc8191df-0bf6-408f-bb84-308f55062424', '46000000000', 'muzschsp@mail.ru', '+74965664462', '', '14.07.2025', '31.12.2025', '00538800000000000', 'ГОСУДАРСТВЕННОЕ БЮДЖЕТНОЕ УЧРЕЖДЕНИЕ ЗДРАВООХРАНЕНИЯ МОСКОВСКОЙ ОБЛАСТИ \"ЩЁЛКОВСКИЙ ПЕРИНАТАЛЬНЫЙ ЦЕНТР\"', 'ГБУЗ МО \"ЩПЦ\"', '5050129513', '505001001', '1165050057204', '1.2.643.5.1.13.13.12.2.50.9555', '75203', '13', '141100, обл Московская, г Щёлково, ул Парковая, д 6', '52fe6428-1e7a-4244-8151-66af74539964', '46000000000', 'shelkovoperinatal@mail.ru', '+74965668449', '', '14.07.2025', '31.12.2025')\n"
     ]
    },
    {
     "name": "stderr",
     "output_type": "stream",
     "text": [
      "INFO:sqlalchemy.engine.Engine:[insertmanyvalues 33/72 (unordered)] ('00515200000000000', 'ФЕДЕРАЛЬНОЕ БЮДЖЕТНОЕ УЧРЕЖДЕНИЕ ЗДРАВООХРАНЕНИЯ \"МЕДИКО-САНИТАРНАЯ ЧАСТЬ № 9\" ФЕДЕРАЛЬНОГО МЕДИКО-БИОЛОГИЧЕСКОГО АГЕНТСТВА', 'ФБУЗ МСЧ № 9 ФМБА РОССИИ', '5010003352', '501001001', '1035002200640', '1.2.643.5.1.13.13.12.2.50.4924', '75103', '12', '141980, обл Московская, г Дубна, ул Ленинградская, д 9', '233897e2-4d78-40db-a6ea-f7602909a5a9', '46000000000', 'msch9@fmbamail.ru', '+74962140397', '', '08.08.2025', '31.12.2025', '00515300000000000', 'ГОСУДАРСТВЕННОЕ БЮДЖЕТНОЕ УЧРЕЖДЕНИЕ ЗДРАВООХРАНЕНИЯ МОСКОВСКОЙ ОБЛАСТИ \"ДУБНЕНСКАЯ СТОМАТОЛОГИЧЕСКАЯ ПОЛИКЛИНИКА\"', 'ГБУЗ МОСКОВСКОЙ ОБЛАСТИ \"ДУБНЕНСКАЯ СТОМАТОЛОГИЧЕСКАЯ ПОЛИКЛИНИКА\"', '5010026575', '501001001', '1035002200870', '1.2.643.5.1.13.13.12.2.50.4769', '75201', '13', '141983, обл Московская, г Дубна, пер Хлебозаводской, д 28/37', 'a9c8a4c3-2376-4105-adb6-f7429e25561c', '46000000000', 'mz_dubn_sp@mosreg.ru', '+74962129270', '', '12.08.2025', '31.12.2025', '00515500000000000', 'ГОСУДАРСТВЕННОЕ БЮДЖЕТНОЕ УЧРЕЖДЕНИЕ ЗДРАВООХРАНЕНИЯ МОСКОВСКОЙ ОБЛАСТИ \"ЕГОРЬЕВСКАЯ БОЛЬНИЦА\"', 'ГБУЗ МОСКОВСКОЙ ОБЛАСТИ \"ЕГОРЬЕВСКАЯ БОЛЬНИЦА\"', '5011019806', '501101001', '1025001466445', '1.2.643.5.1.13.13.12.2.50.4839', '75203', '13', '140301, обл Московская, г Егорьевск, ул Жукова Гора, д 19', 'fc2e8f2c-1795-41e5-9bc5-afda1f11a9a3', '46000000000', 'ecrb2007@mail.ru', '+74964043501', '', '08.08.2025' ... 1991 parameters truncated ... 'ГОСУДАРСТВЕННОЕ БЮДЖЕТНОЕ УЧРЕЖДЕНИЕ ЗДРАВООХРАНЕНИЯ МОСКОВСКОЙ ОБЛАСТИ \"ШАХОВСКАЯ БОЛЬНИЦА\"', 'ГБУЗ МОСКОВСКОЙ ОБЛАСТИ \"ШАХОВСКАЯ БОЛЬНИЦА\"', '5079002929', '507901001', '1025007864793', '1.2.643.5.1.13.13.12.2.50.4878', '75203', '13', '143700, обл Московская, рп Шаховская, ул 1-я Советская, д 54', '1e9c8ad3-8586-42fb-9ad2-499734a5095f', '46000000000', 'shaxovcrb@mail.ru', '+74963733544', '', '13.08.2025', '31.12.2025', '00538600000000000', 'ГОСУДАРСТВЕННОЕ БЮДЖЕТНОЕ УЧРЕЖДЕНИЕ ЗДРАВООХРАНЕНИЯ МОСКОВСКОЙ ОБЛАСТИ \"ЩЁЛКОВСКАЯ СТОМАТОЛОГИЧЕСКАЯ ПОЛИКИНИКА\"', 'ГБУЗ МОСКОВСКОЙ ОБЛАСТИ \"ЩЕЛКОВСКАЯ СТОМАТОЛОГИЧЕСКАЯ ПОЛИКЛИНИКА\"', '5050002933', '505001001', '1025006525202', '1.2.643.5.1.13.13.12.2.50.4747', '75203', '13', ', обл Московская, г Щёлково, ул Центральная, д 39/7', 'dc8191df-0bf6-408f-bb84-308f55062424', '46000000000', 'muzschsp@mail.ru', '+74965664462', '', '14.07.2025', '31.12.2025', '00538800000000000', 'ГОСУДАРСТВЕННОЕ БЮДЖЕТНОЕ УЧРЕЖДЕНИЕ ЗДРАВООХРАНЕНИЯ МОСКОВСКОЙ ОБЛАСТИ \"ЩЁЛКОВСКИЙ ПЕРИНАТАЛЬНЫЙ ЦЕНТР\"', 'ГБУЗ МО \"ЩПЦ\"', '5050129513', '505001001', '1165050057204', '1.2.643.5.1.13.13.12.2.50.9555', '75203', '13', '141100, обл Московская, г Щёлково, ул Парковая, д 6', '52fe6428-1e7a-4244-8151-66af74539964', '46000000000', 'shelkovoperinatal@mail.ru', '+74965668449', '', '14.07.2025', '31.12.2025')\n"
     ]
    },
    {
     "name": "stdout",
     "output_type": "stream",
     "text": [
      "2025-09-03 16:03:24,446 INFO sqlalchemy.engine.Engine INSERT INTO nsi.[ERMO] ([IDMO], [NAM_MOP], [NAM_MOK], [INN], [KPP], [OGRN], [OID_MO], [OKOPF], [OKFS], [ADDR_J], [ADDR_J_GAR], [OKTMO], [EMAIL], [PHONE], [FAX], [DATEBEG], [DATEEND]) VALUES (?, ?, ?, ?, ?, ?, ?, ?, ?, ?, ?, ?, ?, ?, ?, ?, ?), (?, ?,  ... 6357 characters truncated ... ?, ?, ?, ?, ?, ?, ?, ?, ?, ?, ?, ?, ?, ?, ?, ?), (?, ?, ?, ?, ?, ?, ?, ?, ?, ?, ?, ?, ?, ?, ?, ?, ?)\n"
     ]
    },
    {
     "name": "stderr",
     "output_type": "stream",
     "text": [
      "INFO:sqlalchemy.engine.Engine:INSERT INTO nsi.[ERMO] ([IDMO], [NAM_MOP], [NAM_MOK], [INN], [KPP], [OGRN], [OID_MO], [OKOPF], [OKFS], [ADDR_J], [ADDR_J_GAR], [OKTMO], [EMAIL], [PHONE], [FAX], [DATEBEG], [DATEEND]) VALUES (?, ?, ?, ?, ?, ?, ?, ?, ?, ?, ?, ?, ?, ?, ?, ?, ?), (?, ?,  ... 6357 characters truncated ... ?, ?, ?, ?, ?, ?, ?, ?, ?, ?, ?, ?, ?, ?, ?, ?), (?, ?, ?, ?, ?, ?, ?, ?, ?, ?, ?, ?, ?, ?, ?, ?, ?)\n"
     ]
    },
    {
     "name": "stdout",
     "output_type": "stream",
     "text": [
      "2025-09-03 16:03:24,448 INFO sqlalchemy.engine.Engine [insertmanyvalues 34/72 (unordered)] ('00539000000000000', 'ГОСУДАРСТВЕННОЕ БЮДЖЕТНОЕ УЧРЕЖДЕНИЕ ЗДРАВООХРАНЕНИЯ МОСКОВСКОЙ ОБЛАСТИ \"ЭЛЕКТРОСТАЛЬСКАЯ БОЛЬНИЦА\"', 'ГБУЗ МОСКОВСКОЙ ОБЛАСТИ \"ЭЛЕКТРОСТАЛЬСКАЯ БОЛЬНИЦА\"', '5053006132', '505301001', '1025007110480', '1.2.643.5.1.13.13.12.2.50.4814', '75203', '13', '144000, обл Московская, г. Электросталь, ул Пушкина, д 3', 'e881ea9c-c288-476b-884a-18e5fa43274a', '46000000000', 'info@muzecgb.ru', '+74965747117', '', '13.08.2025', '31.12.2025', '00539100000000000', 'ФЕДЕРАЛЬНОЕ ГОСУДАРСТВЕННОЕ БЮДЖЕТНОЕ УЧРЕЖДЕНИЕ ЗДРАВООХРАНЕНИЯ \"ЦЕНТРАЛЬНАЯ МЕДИКО-САНИТАРНАЯ ЧАСТЬ № 21 ФЕДЕРАЛЬНОГО МЕДИКО-БИОЛОГИЧЕСКОГО АГЕНТСТВА\"', 'ФГБУЗ ЦМСЧ № 21 ФМБА РОССИИ', '5053013500', '505301001', '1025007112283', '1.2.643.5.1.13.13.12.2.50.4922', '75103', '12', '144009, обл Московская, г. Электросталь, ул Комсомольская, д 3', 'ae232dad-7a7e-492a-a904-df3e38a9566f', '46000000000', 'cmsch21@fmbamail.ru', '+74957029758', '', '26.08.2025', '31.12.2025', '00539200000000000', 'АВТОНОМНАЯ НЕКОММЕРЧЕСКАЯ ОРГАНИЗАЦИЯ \"ЭЛЕКТРОСТАЛЬСКАЯ СТОМАТОЛОГИЧЕСКАЯ ПОЛИКЛИНИКА\"', 'АНО \"ЭСП\"', '5053998039', '505301001', '1115000005999', '1.2.643.5.1.13.13.12.2.50.20555', '71400', '16', '144010, обл Московская, г. Электросталь, ул Ялагина, д 10', 'c77f2396-8503-44c1-a38d-7cc45a4aeb49', '46000000000', 'ELSTOM@YANDEX.RU', '+74965738047', '', '17.07.2025' ... 1991 parameters truncated ... 'ОБЩЕСТВО С ОГРАНИЧЕННОЙ ОТВЕТСТВЕННОСТЬЮ \"САНАТОРИЙ-ПРОФИЛАКТОРИЙ \"КОВДОРСКИЙ\"', 'ООО \"СП \"КОВДОРСКИЙ\"', '5104908614', '510401001', '1035100038060', '1.2.643.5.1.13.13.12.2.51.15029', '12300', '16', '184143, обл Мурманская, р-н Ковдорский, г Ковдор, ул Кошица, д 16', '48008048-8a10-4611-9694-31ab9bf49181', '47000000000', 'spk_kdr@eurochem.ru', '+79916697458', '', '09.04.2025', '31.12.2025', '00558500000000000', 'ОБЩЕСТВО С ОГРАНИЧЕННОЙ ОТВЕТСТВЕННОСТЬЮ \"КОЛАБЫТ\"', 'ООО \"КОЛАБЫТ\"', '5190308230', '510701001', '1025100652785', '1.2.643.5.1.13.13.12.2.51.20859', '12300', '16', '184511, обл Мурманская, г Мончегорск, ул Кольская, д 6а', '55f6be77-0a55-4e96-af31-6cff5d4505f8', '47000000000', 'PriemnayKolaByt@kolagmk.ru', '+78153666023', '', '27.02.2025', '31.12.2025', '00558600000000000', 'ОБЩЕСТВО С ОГРАНИЧЕННОЙ ОТВЕТСТВЕННОСТЬЮ \"ЛЕЧЕБНО-ДИАГНОСТИЧЕСКИЙ ЦЕНТР МЕЖДУНАРОДНОГО ИНСТИТУТА БИОЛОГИЧЕСКИХ СИСТЕМ - МУРМАНСК\"', 'ООО \"ЛДЦ МИБС-МУРМАНСК\"', '5190927022', '519001001', '1115190000530', '1.2.643.5.1.13.13.12.2.51.21530', '12300', '16', '183025, обл Мурманская, г Мурманск, ул Карла Маркса, д 52', '5b2996f5-073f-47db-9a56-d3744a6cd298', '47000000000', 'MURMDIRECT@LDC.RU', '+78152994340', '', '27.02.2025', '31.12.2025')\n"
     ]
    },
    {
     "name": "stderr",
     "output_type": "stream",
     "text": [
      "INFO:sqlalchemy.engine.Engine:[insertmanyvalues 34/72 (unordered)] ('00539000000000000', 'ГОСУДАРСТВЕННОЕ БЮДЖЕТНОЕ УЧРЕЖДЕНИЕ ЗДРАВООХРАНЕНИЯ МОСКОВСКОЙ ОБЛАСТИ \"ЭЛЕКТРОСТАЛЬСКАЯ БОЛЬНИЦА\"', 'ГБУЗ МОСКОВСКОЙ ОБЛАСТИ \"ЭЛЕКТРОСТАЛЬСКАЯ БОЛЬНИЦА\"', '5053006132', '505301001', '1025007110480', '1.2.643.5.1.13.13.12.2.50.4814', '75203', '13', '144000, обл Московская, г. Электросталь, ул Пушкина, д 3', 'e881ea9c-c288-476b-884a-18e5fa43274a', '46000000000', 'info@muzecgb.ru', '+74965747117', '', '13.08.2025', '31.12.2025', '00539100000000000', 'ФЕДЕРАЛЬНОЕ ГОСУДАРСТВЕННОЕ БЮДЖЕТНОЕ УЧРЕЖДЕНИЕ ЗДРАВООХРАНЕНИЯ \"ЦЕНТРАЛЬНАЯ МЕДИКО-САНИТАРНАЯ ЧАСТЬ № 21 ФЕДЕРАЛЬНОГО МЕДИКО-БИОЛОГИЧЕСКОГО АГЕНТСТВА\"', 'ФГБУЗ ЦМСЧ № 21 ФМБА РОССИИ', '5053013500', '505301001', '1025007112283', '1.2.643.5.1.13.13.12.2.50.4922', '75103', '12', '144009, обл Московская, г. Электросталь, ул Комсомольская, д 3', 'ae232dad-7a7e-492a-a904-df3e38a9566f', '46000000000', 'cmsch21@fmbamail.ru', '+74957029758', '', '26.08.2025', '31.12.2025', '00539200000000000', 'АВТОНОМНАЯ НЕКОММЕРЧЕСКАЯ ОРГАНИЗАЦИЯ \"ЭЛЕКТРОСТАЛЬСКАЯ СТОМАТОЛОГИЧЕСКАЯ ПОЛИКЛИНИКА\"', 'АНО \"ЭСП\"', '5053998039', '505301001', '1115000005999', '1.2.643.5.1.13.13.12.2.50.20555', '71400', '16', '144010, обл Московская, г. Электросталь, ул Ялагина, д 10', 'c77f2396-8503-44c1-a38d-7cc45a4aeb49', '46000000000', 'ELSTOM@YANDEX.RU', '+74965738047', '', '17.07.2025' ... 1991 parameters truncated ... 'ОБЩЕСТВО С ОГРАНИЧЕННОЙ ОТВЕТСТВЕННОСТЬЮ \"САНАТОРИЙ-ПРОФИЛАКТОРИЙ \"КОВДОРСКИЙ\"', 'ООО \"СП \"КОВДОРСКИЙ\"', '5104908614', '510401001', '1035100038060', '1.2.643.5.1.13.13.12.2.51.15029', '12300', '16', '184143, обл Мурманская, р-н Ковдорский, г Ковдор, ул Кошица, д 16', '48008048-8a10-4611-9694-31ab9bf49181', '47000000000', 'spk_kdr@eurochem.ru', '+79916697458', '', '09.04.2025', '31.12.2025', '00558500000000000', 'ОБЩЕСТВО С ОГРАНИЧЕННОЙ ОТВЕТСТВЕННОСТЬЮ \"КОЛАБЫТ\"', 'ООО \"КОЛАБЫТ\"', '5190308230', '510701001', '1025100652785', '1.2.643.5.1.13.13.12.2.51.20859', '12300', '16', '184511, обл Мурманская, г Мончегорск, ул Кольская, д 6а', '55f6be77-0a55-4e96-af31-6cff5d4505f8', '47000000000', 'PriemnayKolaByt@kolagmk.ru', '+78153666023', '', '27.02.2025', '31.12.2025', '00558600000000000', 'ОБЩЕСТВО С ОГРАНИЧЕННОЙ ОТВЕТСТВЕННОСТЬЮ \"ЛЕЧЕБНО-ДИАГНОСТИЧЕСКИЙ ЦЕНТР МЕЖДУНАРОДНОГО ИНСТИТУТА БИОЛОГИЧЕСКИХ СИСТЕМ - МУРМАНСК\"', 'ООО \"ЛДЦ МИБС-МУРМАНСК\"', '5190927022', '519001001', '1115190000530', '1.2.643.5.1.13.13.12.2.51.21530', '12300', '16', '183025, обл Мурманская, г Мурманск, ул Карла Маркса, д 52', '5b2996f5-073f-47db-9a56-d3744a6cd298', '47000000000', 'MURMDIRECT@LDC.RU', '+78152994340', '', '27.02.2025', '31.12.2025')\n"
     ]
    },
    {
     "name": "stdout",
     "output_type": "stream",
     "text": [
      "2025-09-03 16:03:24,559 INFO sqlalchemy.engine.Engine INSERT INTO nsi.[ERMO] ([IDMO], [NAM_MOP], [NAM_MOK], [INN], [KPP], [OGRN], [OID_MO], [OKOPF], [OKFS], [ADDR_J], [ADDR_J_GAR], [OKTMO], [EMAIL], [PHONE], [FAX], [DATEBEG], [DATEEND]) VALUES (?, ?, ?, ?, ?, ?, ?, ?, ?, ?, ?, ?, ?, ?, ?, ?, ?), (?, ?,  ... 6357 characters truncated ... ?, ?, ?, ?, ?, ?, ?, ?, ?, ?, ?, ?, ?, ?, ?, ?), (?, ?, ?, ?, ?, ?, ?, ?, ?, ?, ?, ?, ?, ?, ?, ?, ?)\n"
     ]
    },
    {
     "name": "stderr",
     "output_type": "stream",
     "text": [
      "INFO:sqlalchemy.engine.Engine:INSERT INTO nsi.[ERMO] ([IDMO], [NAM_MOP], [NAM_MOK], [INN], [KPP], [OGRN], [OID_MO], [OKOPF], [OKFS], [ADDR_J], [ADDR_J_GAR], [OKTMO], [EMAIL], [PHONE], [FAX], [DATEBEG], [DATEEND]) VALUES (?, ?, ?, ?, ?, ?, ?, ?, ?, ?, ?, ?, ?, ?, ?, ?, ?), (?, ?,  ... 6357 characters truncated ... ?, ?, ?, ?, ?, ?, ?, ?, ?, ?, ?, ?, ?, ?, ?, ?), (?, ?, ?, ?, ?, ?, ?, ?, ?, ?, ?, ?, ?, ?, ?, ?, ?)\n"
     ]
    },
    {
     "name": "stdout",
     "output_type": "stream",
     "text": [
      "2025-09-03 16:03:24,561 INFO sqlalchemy.engine.Engine [insertmanyvalues 35/72 (unordered)] ('00558700000000000', 'ОБЩЕСТВО С ОГРАНИЧЕННОЙ ОТВЕТСТВЕННОСТЬЮ \"АЛЕКСАНДРИЯ\"', 'ООО \"АЛЕКСАНДРИЯ\"', '5106000105', '510601001', '1135108000026', '1.2.643.5.1.13.13.12.2.51.11044', '12300', '16', '184580, обл Мурманская, р-н Ловозерский, пгт Ревда, ул Кузина, д. 11 к. 1', 'ece8c8f1-4608-462e-b407-dafad0a26ef6', '47000000000', 'ZAIAR@YANDEX.RU', '+78153843116', '', '27.02.2025', '31.12.2025', '00558900000000000', 'ОБЩЕСТВО С ОГРАНИЧЕННОЙ ОТВЕТСТВЕННОСТЬЮ \"МРТ-ЭКСПЕРТ МУРМАНСК\"', 'ООО \"МРТ-ЭКСПЕРТ МУРМАНСК\"', '5190927199', '519001001', '1115190000705', '1.2.643.5.1.13.13.12.2.51.13383', '12300', '16', '183038, обл Мурманская, г Мурманск, ул Коминтерна, д 5', '2b3bb1bb-559c-4c3f-9572-3f622dd3023a', '47000000000', 'ONOVENKOVA@MRTEXPERT.RU', '+78152655193', '', '14.04.2025', '31.12.2025', '00559000000000000', 'ГОСУДАРСТВЕННОЕ ОБЛАСТНОЕ БЮДЖЕТНОЕ УЧРЕЖДЕНИЕ ЗДРАВООХРАНЕНИЯ \"МУРМАНСКАЯ ГОРОДСКАЯ ДЕТСКАЯ ПОЛИКЛИНИКА № 1\"', 'ГОБУЗ \"МГДП № 1\"', '5190024856', '519001001', '1135190010427', '1.2.643.5.1.13.13.12.2.51.4992', '75203', '13', '183025, обл Мурманская, г Мурманск, ул Полярные Зори, д 36', '7f2952db-d4ee-401d-b553-4257a6d81dfd', '47000000000', 'dkdp@detpo.ru', '+78152442999', '', '30.04.2025' ... 1991 parameters truncated ... 'ГОСУДАРСТВЕННОЕ БЮДЖЕТНОЕ УЧРЕЖДЕНИЕ ЗДРАВООХРАНЕНИЯ НИЖЕГОРОДСКОЙ ОБЛАСТИ \"НИЖЕГОРОДСКИЙ ОБЛАСТНОЙ ЦЕНТР ОХРАНЫ ЗДОРОВЬЯ СЕМЬИ И РЕПРОДУКЦИИ\"', 'ГБУЗ НО \"ЦОЗСИР\"', '5263024177', '526301001', '1025204420834', '1.2.643.5.1.13.13.12.2.52.5154', '75203', '13', '603040, обл Нижегородская, г Нижний Новгород, пр-кт Союзный, д 11А', '9178b3ff-6064-4fda-a077-98099d3ead03', '22000000000', 'cozsir_nn@mail.52gov.ru', '+78312150225', '', '19.03.2025', '31.12.2025', '00573300000000000', 'ФЕДЕРАЛЬНОЕ ГОСУДАРСТВЕННОЕ БЮДЖЕТНОЕ  УЧРЕЖДЕНИЕ ЗДРАВООХРАНЕНИЯ  \"КЛИНИЧЕСКАЯ БОЛЬНИЦА № 50 ФЕДЕРАЛЬНОГО  МЕДИКО-БИОЛОГИЧЕСКОГО АГЕНТСТВА\"', 'ФГБУЗ КБ № 50 ФМБА РОССИИ', '5254002113', '525401001', '1025202197954', '1.2.643.5.1.13.13.12.2.52.5172', '75103', '12', '607183, обл Нижегородская, г Саров, ул Зернова, д 72', '177f081e-0926-4d76-a491-4113f405e8fb', '22000000000', 'kb50@fmbamail.ru', '+78313060071', '', '14.05.2025', '31.12.2025', '00573400000000000', 'ГОСУДАРСТВЕННОЕ БЮДЖЕТНОЕ УЧРЕЖДЕНИЕ ЗДРАВООХРАНЕНИЯ НИЖЕГОРОДСКОЙ ОБЛАСТИ \"НИЖЕГОРОДСКАЯ ОБЛАСТНАЯ ДЕТСКАЯ КЛИНИЧЕСКАЯ БОЛЬНИЦА\"', 'ГБУЗ НО \"НОДКБ\"', '5262035017', '526201001', '1025203732267', '1.2.643.5.1.13.13.12.2.52.5145', '75203', '13', '603136, обл Нижегородская, г Нижний Новгород, ул Ванеева, д 211', '65e90799-7c50-4827-90df-ffebf93f9076', '22000000000', 'info@nodkb.ru', '+78314175682', '', '21.03.2025', '31.12.2025')\n"
     ]
    },
    {
     "name": "stderr",
     "output_type": "stream",
     "text": [
      "INFO:sqlalchemy.engine.Engine:[insertmanyvalues 35/72 (unordered)] ('00558700000000000', 'ОБЩЕСТВО С ОГРАНИЧЕННОЙ ОТВЕТСТВЕННОСТЬЮ \"АЛЕКСАНДРИЯ\"', 'ООО \"АЛЕКСАНДРИЯ\"', '5106000105', '510601001', '1135108000026', '1.2.643.5.1.13.13.12.2.51.11044', '12300', '16', '184580, обл Мурманская, р-н Ловозерский, пгт Ревда, ул Кузина, д. 11 к. 1', 'ece8c8f1-4608-462e-b407-dafad0a26ef6', '47000000000', 'ZAIAR@YANDEX.RU', '+78153843116', '', '27.02.2025', '31.12.2025', '00558900000000000', 'ОБЩЕСТВО С ОГРАНИЧЕННОЙ ОТВЕТСТВЕННОСТЬЮ \"МРТ-ЭКСПЕРТ МУРМАНСК\"', 'ООО \"МРТ-ЭКСПЕРТ МУРМАНСК\"', '5190927199', '519001001', '1115190000705', '1.2.643.5.1.13.13.12.2.51.13383', '12300', '16', '183038, обл Мурманская, г Мурманск, ул Коминтерна, д 5', '2b3bb1bb-559c-4c3f-9572-3f622dd3023a', '47000000000', 'ONOVENKOVA@MRTEXPERT.RU', '+78152655193', '', '14.04.2025', '31.12.2025', '00559000000000000', 'ГОСУДАРСТВЕННОЕ ОБЛАСТНОЕ БЮДЖЕТНОЕ УЧРЕЖДЕНИЕ ЗДРАВООХРАНЕНИЯ \"МУРМАНСКАЯ ГОРОДСКАЯ ДЕТСКАЯ ПОЛИКЛИНИКА № 1\"', 'ГОБУЗ \"МГДП № 1\"', '5190024856', '519001001', '1135190010427', '1.2.643.5.1.13.13.12.2.51.4992', '75203', '13', '183025, обл Мурманская, г Мурманск, ул Полярные Зори, д 36', '7f2952db-d4ee-401d-b553-4257a6d81dfd', '47000000000', 'dkdp@detpo.ru', '+78152442999', '', '30.04.2025' ... 1991 parameters truncated ... 'ГОСУДАРСТВЕННОЕ БЮДЖЕТНОЕ УЧРЕЖДЕНИЕ ЗДРАВООХРАНЕНИЯ НИЖЕГОРОДСКОЙ ОБЛАСТИ \"НИЖЕГОРОДСКИЙ ОБЛАСТНОЙ ЦЕНТР ОХРАНЫ ЗДОРОВЬЯ СЕМЬИ И РЕПРОДУКЦИИ\"', 'ГБУЗ НО \"ЦОЗСИР\"', '5263024177', '526301001', '1025204420834', '1.2.643.5.1.13.13.12.2.52.5154', '75203', '13', '603040, обл Нижегородская, г Нижний Новгород, пр-кт Союзный, д 11А', '9178b3ff-6064-4fda-a077-98099d3ead03', '22000000000', 'cozsir_nn@mail.52gov.ru', '+78312150225', '', '19.03.2025', '31.12.2025', '00573300000000000', 'ФЕДЕРАЛЬНОЕ ГОСУДАРСТВЕННОЕ БЮДЖЕТНОЕ  УЧРЕЖДЕНИЕ ЗДРАВООХРАНЕНИЯ  \"КЛИНИЧЕСКАЯ БОЛЬНИЦА № 50 ФЕДЕРАЛЬНОГО  МЕДИКО-БИОЛОГИЧЕСКОГО АГЕНТСТВА\"', 'ФГБУЗ КБ № 50 ФМБА РОССИИ', '5254002113', '525401001', '1025202197954', '1.2.643.5.1.13.13.12.2.52.5172', '75103', '12', '607183, обл Нижегородская, г Саров, ул Зернова, д 72', '177f081e-0926-4d76-a491-4113f405e8fb', '22000000000', 'kb50@fmbamail.ru', '+78313060071', '', '14.05.2025', '31.12.2025', '00573400000000000', 'ГОСУДАРСТВЕННОЕ БЮДЖЕТНОЕ УЧРЕЖДЕНИЕ ЗДРАВООХРАНЕНИЯ НИЖЕГОРОДСКОЙ ОБЛАСТИ \"НИЖЕГОРОДСКАЯ ОБЛАСТНАЯ ДЕТСКАЯ КЛИНИЧЕСКАЯ БОЛЬНИЦА\"', 'ГБУЗ НО \"НОДКБ\"', '5262035017', '526201001', '1025203732267', '1.2.643.5.1.13.13.12.2.52.5145', '75203', '13', '603136, обл Нижегородская, г Нижний Новгород, ул Ванеева, д 211', '65e90799-7c50-4827-90df-ffebf93f9076', '22000000000', 'info@nodkb.ru', '+78314175682', '', '21.03.2025', '31.12.2025')\n"
     ]
    },
    {
     "name": "stdout",
     "output_type": "stream",
     "text": [
      "2025-09-03 16:03:24,671 INFO sqlalchemy.engine.Engine INSERT INTO nsi.[ERMO] ([IDMO], [NAM_MOP], [NAM_MOK], [INN], [KPP], [OGRN], [OID_MO], [OKOPF], [OKFS], [ADDR_J], [ADDR_J_GAR], [OKTMO], [EMAIL], [PHONE], [FAX], [DATEBEG], [DATEEND]) VALUES (?, ?, ?, ?, ?, ?, ?, ?, ?, ?, ?, ?, ?, ?, ?, ?, ?), (?, ?,  ... 6357 characters truncated ... ?, ?, ?, ?, ?, ?, ?, ?, ?, ?, ?, ?, ?, ?, ?, ?), (?, ?, ?, ?, ?, ?, ?, ?, ?, ?, ?, ?, ?, ?, ?, ?, ?)\n"
     ]
    },
    {
     "name": "stderr",
     "output_type": "stream",
     "text": [
      "INFO:sqlalchemy.engine.Engine:INSERT INTO nsi.[ERMO] ([IDMO], [NAM_MOP], [NAM_MOK], [INN], [KPP], [OGRN], [OID_MO], [OKOPF], [OKFS], [ADDR_J], [ADDR_J_GAR], [OKTMO], [EMAIL], [PHONE], [FAX], [DATEBEG], [DATEEND]) VALUES (?, ?, ?, ?, ?, ?, ?, ?, ?, ?, ?, ?, ?, ?, ?, ?, ?), (?, ?,  ... 6357 characters truncated ... ?, ?, ?, ?, ?, ?, ?, ?, ?, ?, ?, ?, ?, ?, ?, ?), (?, ?, ?, ?, ?, ?, ?, ?, ?, ?, ?, ?, ?, ?, ?, ?, ?)\n"
     ]
    },
    {
     "name": "stdout",
     "output_type": "stream",
     "text": [
      "2025-09-03 16:03:24,672 INFO sqlalchemy.engine.Engine [insertmanyvalues 36/72 (unordered)] ('00573500000000000', 'ГОСУДАРСТВЕННОЕ БЮДЖЕТНОЕ УЧРЕЖДЕНИЕ  ЗДРАВООХРАНЕНИЯ НИЖЕГОРОДСКОЙ ОБЛАСТИ  \"НИЖЕГОРОДСКАЯ ОБЛАСТНАЯ КЛИНИЧЕСКАЯ БОЛЬНИЦА ИМ. Н.А.СЕМАШКО\"', 'ГБУЗ НО \"НОКБ ИМ. Н.А.СЕМАШКО\"', '5260048170', '526001001', '1025203015001', '1.2.643.5.1.13.13.12.2.52.5142', '75203', '13', '603093, обл Нижегородская, г Нижний Новгород, ул Родионова, д 190', '364c15da-3dfc-4608-aa55-2b53cad0a43f', '22000000000', 'official@semashko.nnov.ru', '+78314389356', '', '22.04.2025', '31.12.2025', '00573600000000000', 'ГОСУДАРСТВЕННОЕ БЮДЖЕТНОЕ УЧРЕЖДЕНИЕ ЗДРАВООХРАНЕНИЯ НИЖЕГОРОДСКОЙ ОБЛАСТИ \"ГОРОДСКАЯ КЛИНИЧЕСКАЯ БОЛЬНИЦА № 3\" (НИЖЕГОРОДСКИЙ ГЕРИАТРИЧЕСКИЙ ЦЕНТР)', 'ГБУЗ НО \"ГКБ №3\" (НГЦ)', '5260041417', '526001001', '1025203013450', '1.2.643.5.1.13.13.12.2.52.5004', '75203', '13', '603155, обл Нижегородская, г Нижний Новгород, наб Верхне-Волжская, д 21', '7c852fd7-d526-482c-af74-f478e35ad5f9', '22000000000', 'gkb3_nn@mail.52gov.ru', '+78312182101', '', '29.08.2025', '31.12.2025', '00573700000000000', 'ГОСУДАРСТВЕННОЕ АВТОНОМНОЕ УЧРЕЖДЕНИЕ ЗДРАВООХРАНЕНИЯ НИЖЕГОРОДСКОЙ ОБЛАСТИ \"НАУЧНО-ИССЛЕДОВАТЕЛЬСКИЙ ИНСТИТУТ КЛИНИЧЕСКОЙ ОНКОЛОГИИ \"НИЖЕГОРОДСКИЙ ОБЛАСТНОЙ КЛИНИЧЕСКИЙ ОНКОЛОГИЧЕСКИЙ ДИСПАНСЕР\"', 'ГАУЗ НО \"НИИКО \"НОКОД\"', '5260041350', '526001001', '1025203023812', '1.2.643.5.1.13.13.12.2.52.5091', '75203', '13', '603093, обл Нижегородская, г Нижний Новгород, ул Родионова, д 190', '364c15da-3dfc-4608-aa55-2b53cad0a43f', '22000000000', 'secretar@nnood.ru', '+78312821630', '', '13.08.2025' ... 1991 parameters truncated ... 'ГОСУДАРСТВЕННОЕ БЮДЖЕТНОЕ УЧРЕЖДЕНИЕ ЗДРАВООХРАНЕНИЯ НОВОСИБИРСКОЙ ОБЛАСТИ \"НОВОСИБИРСКАЯ ОБЛАСТНАЯ КЛИНИЧЕСКАЯ ИНФЕКЦИОННАЯ БОЛЬНИЦА\"', 'ГБУЗ НСО \"НОКИБ\"', '5406011002', '541001001', '1025402452844', '1.2.643.5.1.13.13.12.2.54.5397', '75203', '13', ', обл Новосибирская, р-н Новосибирский, п Садовый, тер Ключевой жилмассив, ул Березовая, д 15', 'e9c6629c-c0e2-49dd-8fef-1e1cf712b91a', '50000000000', 'gikb1@nso.ru', '+73832384144', '', '01.08.2025', '31.12.2025', '00595000000000000', 'ГОСУДАРСТВЕННОЕ БЮДЖЕТНОЕ УЧРЕЖДЕНИЕ ЗДРАВООХРАНЕНИЯ НОВОСИБИРСКОЙ ОБЛАСТИ \"ГОРОДСКАЯ КЛИНИЧЕСКАЯ БОЛЬНИЦА № 11\"', 'ГБУЗ НСО \"ГКБ № 11\"', '5404104283', '540401001', '1025401503126', '1.2.643.5.1.13.13.12.2.54.5324', '75203', '13', '630120, обл Новосибирская, г Новосибирск, ул Танкистов, д 23', 'fb6a0189-2ffb-49e6-b16c-a5962168f286', '50000000000', 'gkb11@nso.ru', '+73833411033', '', '04.07.2025', '31.12.2025', '00595100000000000', 'ГОСУДАРСТВЕННОЕ БЮДЖЕТНОЕ УЧРЕЖДЕНИЕ ЗДРАВООХРАНЕНИЯ НОВОСИБИРСКОЙ ОБЛАСТИ \"ГОРОДСКАЯ КЛИНИЧЕСКАЯ БОЛЬНИЦА № 34\"', 'ГБУЗ НСО \"ГКБ №34\"', '5404167325', '540401001', '1025401496680', '1.2.643.5.1.13.13.12.2.54.5337', '75203', '13', '630054, обл Новосибирская, г Новосибирск, ул Титова, д 18', '49703bde-e450-47ff-9f02-8c961794c2a5', '50000000000', 'gkb34@online.nsk.su', '+73833548303', '', '25.07.2025', '31.12.2025')\n"
     ]
    },
    {
     "name": "stderr",
     "output_type": "stream",
     "text": [
      "INFO:sqlalchemy.engine.Engine:[insertmanyvalues 36/72 (unordered)] ('00573500000000000', 'ГОСУДАРСТВЕННОЕ БЮДЖЕТНОЕ УЧРЕЖДЕНИЕ  ЗДРАВООХРАНЕНИЯ НИЖЕГОРОДСКОЙ ОБЛАСТИ  \"НИЖЕГОРОДСКАЯ ОБЛАСТНАЯ КЛИНИЧЕСКАЯ БОЛЬНИЦА ИМ. Н.А.СЕМАШКО\"', 'ГБУЗ НО \"НОКБ ИМ. Н.А.СЕМАШКО\"', '5260048170', '526001001', '1025203015001', '1.2.643.5.1.13.13.12.2.52.5142', '75203', '13', '603093, обл Нижегородская, г Нижний Новгород, ул Родионова, д 190', '364c15da-3dfc-4608-aa55-2b53cad0a43f', '22000000000', 'official@semashko.nnov.ru', '+78314389356', '', '22.04.2025', '31.12.2025', '00573600000000000', 'ГОСУДАРСТВЕННОЕ БЮДЖЕТНОЕ УЧРЕЖДЕНИЕ ЗДРАВООХРАНЕНИЯ НИЖЕГОРОДСКОЙ ОБЛАСТИ \"ГОРОДСКАЯ КЛИНИЧЕСКАЯ БОЛЬНИЦА № 3\" (НИЖЕГОРОДСКИЙ ГЕРИАТРИЧЕСКИЙ ЦЕНТР)', 'ГБУЗ НО \"ГКБ №3\" (НГЦ)', '5260041417', '526001001', '1025203013450', '1.2.643.5.1.13.13.12.2.52.5004', '75203', '13', '603155, обл Нижегородская, г Нижний Новгород, наб Верхне-Волжская, д 21', '7c852fd7-d526-482c-af74-f478e35ad5f9', '22000000000', 'gkb3_nn@mail.52gov.ru', '+78312182101', '', '29.08.2025', '31.12.2025', '00573700000000000', 'ГОСУДАРСТВЕННОЕ АВТОНОМНОЕ УЧРЕЖДЕНИЕ ЗДРАВООХРАНЕНИЯ НИЖЕГОРОДСКОЙ ОБЛАСТИ \"НАУЧНО-ИССЛЕДОВАТЕЛЬСКИЙ ИНСТИТУТ КЛИНИЧЕСКОЙ ОНКОЛОГИИ \"НИЖЕГОРОДСКИЙ ОБЛАСТНОЙ КЛИНИЧЕСКИЙ ОНКОЛОГИЧЕСКИЙ ДИСПАНСЕР\"', 'ГАУЗ НО \"НИИКО \"НОКОД\"', '5260041350', '526001001', '1025203023812', '1.2.643.5.1.13.13.12.2.52.5091', '75203', '13', '603093, обл Нижегородская, г Нижний Новгород, ул Родионова, д 190', '364c15da-3dfc-4608-aa55-2b53cad0a43f', '22000000000', 'secretar@nnood.ru', '+78312821630', '', '13.08.2025' ... 1991 parameters truncated ... 'ГОСУДАРСТВЕННОЕ БЮДЖЕТНОЕ УЧРЕЖДЕНИЕ ЗДРАВООХРАНЕНИЯ НОВОСИБИРСКОЙ ОБЛАСТИ \"НОВОСИБИРСКАЯ ОБЛАСТНАЯ КЛИНИЧЕСКАЯ ИНФЕКЦИОННАЯ БОЛЬНИЦА\"', 'ГБУЗ НСО \"НОКИБ\"', '5406011002', '541001001', '1025402452844', '1.2.643.5.1.13.13.12.2.54.5397', '75203', '13', ', обл Новосибирская, р-н Новосибирский, п Садовый, тер Ключевой жилмассив, ул Березовая, д 15', 'e9c6629c-c0e2-49dd-8fef-1e1cf712b91a', '50000000000', 'gikb1@nso.ru', '+73832384144', '', '01.08.2025', '31.12.2025', '00595000000000000', 'ГОСУДАРСТВЕННОЕ БЮДЖЕТНОЕ УЧРЕЖДЕНИЕ ЗДРАВООХРАНЕНИЯ НОВОСИБИРСКОЙ ОБЛАСТИ \"ГОРОДСКАЯ КЛИНИЧЕСКАЯ БОЛЬНИЦА № 11\"', 'ГБУЗ НСО \"ГКБ № 11\"', '5404104283', '540401001', '1025401503126', '1.2.643.5.1.13.13.12.2.54.5324', '75203', '13', '630120, обл Новосибирская, г Новосибирск, ул Танкистов, д 23', 'fb6a0189-2ffb-49e6-b16c-a5962168f286', '50000000000', 'gkb11@nso.ru', '+73833411033', '', '04.07.2025', '31.12.2025', '00595100000000000', 'ГОСУДАРСТВЕННОЕ БЮДЖЕТНОЕ УЧРЕЖДЕНИЕ ЗДРАВООХРАНЕНИЯ НОВОСИБИРСКОЙ ОБЛАСТИ \"ГОРОДСКАЯ КЛИНИЧЕСКАЯ БОЛЬНИЦА № 34\"', 'ГБУЗ НСО \"ГКБ №34\"', '5404167325', '540401001', '1025401496680', '1.2.643.5.1.13.13.12.2.54.5337', '75203', '13', '630054, обл Новосибирская, г Новосибирск, ул Титова, д 18', '49703bde-e450-47ff-9f02-8c961794c2a5', '50000000000', 'gkb34@online.nsk.su', '+73833548303', '', '25.07.2025', '31.12.2025')\n"
     ]
    },
    {
     "name": "stdout",
     "output_type": "stream",
     "text": [
      "2025-09-03 16:03:24,784 INFO sqlalchemy.engine.Engine INSERT INTO nsi.[ERMO] ([IDMO], [NAM_MOP], [NAM_MOK], [INN], [KPP], [OGRN], [OID_MO], [OKOPF], [OKFS], [ADDR_J], [ADDR_J_GAR], [OKTMO], [EMAIL], [PHONE], [FAX], [DATEBEG], [DATEEND]) VALUES (?, ?, ?, ?, ?, ?, ?, ?, ?, ?, ?, ?, ?, ?, ?, ?, ?), (?, ?,  ... 6357 characters truncated ... ?, ?, ?, ?, ?, ?, ?, ?, ?, ?, ?, ?, ?, ?, ?, ?), (?, ?, ?, ?, ?, ?, ?, ?, ?, ?, ?, ?, ?, ?, ?, ?, ?)\n"
     ]
    },
    {
     "name": "stderr",
     "output_type": "stream",
     "text": [
      "INFO:sqlalchemy.engine.Engine:INSERT INTO nsi.[ERMO] ([IDMO], [NAM_MOP], [NAM_MOK], [INN], [KPP], [OGRN], [OID_MO], [OKOPF], [OKFS], [ADDR_J], [ADDR_J_GAR], [OKTMO], [EMAIL], [PHONE], [FAX], [DATEBEG], [DATEEND]) VALUES (?, ?, ?, ?, ?, ?, ?, ?, ?, ?, ?, ?, ?, ?, ?, ?, ?), (?, ?,  ... 6357 characters truncated ... ?, ?, ?, ?, ?, ?, ?, ?, ?, ?, ?, ?, ?, ?, ?, ?), (?, ?, ?, ?, ?, ?, ?, ?, ?, ?, ?, ?, ?, ?, ?, ?, ?)\n"
     ]
    },
    {
     "name": "stdout",
     "output_type": "stream",
     "text": [
      "2025-09-03 16:03:24,787 INFO sqlalchemy.engine.Engine [insertmanyvalues 37/72 (unordered)] ('00595200000000000', 'ГОСУДАРСТВЕННОЕ БЮДЖЕТНОЕ УЧРЕЖДЕНИЕ ЗДРАВООХРАНЕНИЯ НОВОСИБИРСКОЙ ОБЛАСТИ \"ГОРОДСКАЯ КЛИНИЧЕСКАЯ БОЛЬНИЦА СКОРОЙ МЕДИЦИНСКОЙ ПОМОЩИ № 2 \"', 'ГБУЗ НСО \"ГКБСМП № 2\"', '5405146977', '540501001', '1025401912095', '1.2.643.5.1.13.13.12.2.54.5342', '75203', '13', '630008, обл Новосибирская, г Новосибирск, ул Тургенева, д 155', '08e813a9-9023-4a2d-9d45-f9f047893113', '50000000000', 'gkbsmp2@nso.ru', '+73832660657', '', '23.07.2025', '31.12.2025', '00595300000000000', 'ГОСУДАРСТВЕННОЕ БЮДЖЕТНОЕ УЧРЕЖДЕНИЕ ЗДРАВООХРАНЕНИЯ НОВОСИБИРСКОЙ ОБЛАСТИ \"ГОРОДСКАЯ КЛИНИЧЕСКАЯ БОЛЬНИЦА № 19\"', 'ГБУЗ НСО \"ГКБ № 19\"', '5409114246', '540901001', '1025403869380', '1.2.643.5.1.13.13.12.2.54.5370', '75203', '13', '630068, обл Новосибирская, г Новосибирск, ул Шукшина, д 3', 'd1d8ce20-bade-4066-beec-06022910aa54', '50000000000', 'GKB19@NSO.RU', '+73833370544', '', '02.06.2025', '31.12.2025', '00595400000000000', 'ГОСУДАРСТВЕННОЕ БЮДЖЕТНОЕ УЧРЕЖДЕНИЕ ЗДРАВООХРАНЕНИЯ НОВОСИБИРСКОЙ ОБЛАСТИ \"ГОРОДСКАЯ БОЛЬНИЦА № 3\"', 'ГБУЗ НСО \"ГБ № 3\"', '5408106411', '540801001', '1025403647202', '1.2.643.5.1.13.13.12.2.54.5267', '75203', '13', '630056, обл Новосибирская, г Новосибирск, ул Мухачева, д 5/4', 'b1198926-bf62-42f8-807d-27b9b2918576', '50000000000', 'munbol@mail.ru', '+73833451431', '', '26.06.2025' ... 1991 parameters truncated ... 'БЮДЖЕТНОЕ УЧРЕЖДЕНИЕ ЗДРАВООХРАНЕНИЯ ОМСКОЙ ОБЛАСТИ \"ЛЮБИНСКАЯ ЦЕНТРАЛЬНАЯ РАЙОННАЯ БОЛЬНИЦА\"', 'БУЗОО \"ЛЮБИНСКАЯ ЦРБ\"', '5519004246', '551901001', '1025501702654', '1.2.643.5.1.13.13.12.2.55.5526', '75203', '13', '646160, обл Омская, р-н Любинский, рп Любинский, ул Первомайская, д 58', 'ac9611e4-3ce1-45c6-b160-9ac0879be548', '52000000000', 'lub_crb@minzdrav.omskportal.ru', '+73817521705', '', '11.08.2025', '31.12.2025', '00610900000000000', 'БЮДЖЕТНОЕ УЧРЕЖДЕНИЕ ЗДРАВООХРАНЕНИЯ ОМСКОЙ ОБЛАСТИ \"МАРЬЯНОВСКАЯ ЦЕНТРАЛЬНАЯ РАЙОННАЯ БОЛЬНИЦА\"', 'БУЗОО \"МАРЬЯНОВСКАЯ ЦРБ\"', '5520004265', '552001001', '1025501718879', '1.2.643.5.1.13.13.12.2.55.5479', '75203', '13', '646040, обл Омская, р-н Марьяновский, рп Марьяновка, ул Войсковая, д 13', 'a1b4b2b3-4f71-42f6-b0f9-05c0e304cb79', '52000000000', 'mar_crb@minzdrav.omskportal.ru', '+73816821279', '', '11.08.2025', '31.12.2025', '00611000000000000', 'БЮДЖЕТНОЕ УЧРЕЖДЕНИЕ ЗДРАВООХРАНЕНИЯ ОМСКОЙ ОБЛАСТИ \"МОСКАЛЕНСКАЯ ЦЕНТРАЛЬНАЯ РАЙОННАЯ БОЛЬНИЦА\"', 'БУЗОО \"МОСКАЛЕНСКАЯ ЦРБ\"', '5521004236', '552101001', '1025501758369', '1.2.643.5.1.13.13.12.2.55.5480', '75203', '13', '646070, обл Омская, р-н Москаленский, рп Москаленки, ул Энтузиастов, д 13В', '76bc1f16-314c-48ec-8133-c7161e7ab796', '52000000000', 'moskal_crb@minzdrav.omskportal.ru', '+73817421813', '', '11.08.2025', '31.12.2025')\n"
     ]
    },
    {
     "name": "stderr",
     "output_type": "stream",
     "text": [
      "INFO:sqlalchemy.engine.Engine:[insertmanyvalues 37/72 (unordered)] ('00595200000000000', 'ГОСУДАРСТВЕННОЕ БЮДЖЕТНОЕ УЧРЕЖДЕНИЕ ЗДРАВООХРАНЕНИЯ НОВОСИБИРСКОЙ ОБЛАСТИ \"ГОРОДСКАЯ КЛИНИЧЕСКАЯ БОЛЬНИЦА СКОРОЙ МЕДИЦИНСКОЙ ПОМОЩИ № 2 \"', 'ГБУЗ НСО \"ГКБСМП № 2\"', '5405146977', '540501001', '1025401912095', '1.2.643.5.1.13.13.12.2.54.5342', '75203', '13', '630008, обл Новосибирская, г Новосибирск, ул Тургенева, д 155', '08e813a9-9023-4a2d-9d45-f9f047893113', '50000000000', 'gkbsmp2@nso.ru', '+73832660657', '', '23.07.2025', '31.12.2025', '00595300000000000', 'ГОСУДАРСТВЕННОЕ БЮДЖЕТНОЕ УЧРЕЖДЕНИЕ ЗДРАВООХРАНЕНИЯ НОВОСИБИРСКОЙ ОБЛАСТИ \"ГОРОДСКАЯ КЛИНИЧЕСКАЯ БОЛЬНИЦА № 19\"', 'ГБУЗ НСО \"ГКБ № 19\"', '5409114246', '540901001', '1025403869380', '1.2.643.5.1.13.13.12.2.54.5370', '75203', '13', '630068, обл Новосибирская, г Новосибирск, ул Шукшина, д 3', 'd1d8ce20-bade-4066-beec-06022910aa54', '50000000000', 'GKB19@NSO.RU', '+73833370544', '', '02.06.2025', '31.12.2025', '00595400000000000', 'ГОСУДАРСТВЕННОЕ БЮДЖЕТНОЕ УЧРЕЖДЕНИЕ ЗДРАВООХРАНЕНИЯ НОВОСИБИРСКОЙ ОБЛАСТИ \"ГОРОДСКАЯ БОЛЬНИЦА № 3\"', 'ГБУЗ НСО \"ГБ № 3\"', '5408106411', '540801001', '1025403647202', '1.2.643.5.1.13.13.12.2.54.5267', '75203', '13', '630056, обл Новосибирская, г Новосибирск, ул Мухачева, д 5/4', 'b1198926-bf62-42f8-807d-27b9b2918576', '50000000000', 'munbol@mail.ru', '+73833451431', '', '26.06.2025' ... 1991 parameters truncated ... 'БЮДЖЕТНОЕ УЧРЕЖДЕНИЕ ЗДРАВООХРАНЕНИЯ ОМСКОЙ ОБЛАСТИ \"ЛЮБИНСКАЯ ЦЕНТРАЛЬНАЯ РАЙОННАЯ БОЛЬНИЦА\"', 'БУЗОО \"ЛЮБИНСКАЯ ЦРБ\"', '5519004246', '551901001', '1025501702654', '1.2.643.5.1.13.13.12.2.55.5526', '75203', '13', '646160, обл Омская, р-н Любинский, рп Любинский, ул Первомайская, д 58', 'ac9611e4-3ce1-45c6-b160-9ac0879be548', '52000000000', 'lub_crb@minzdrav.omskportal.ru', '+73817521705', '', '11.08.2025', '31.12.2025', '00610900000000000', 'БЮДЖЕТНОЕ УЧРЕЖДЕНИЕ ЗДРАВООХРАНЕНИЯ ОМСКОЙ ОБЛАСТИ \"МАРЬЯНОВСКАЯ ЦЕНТРАЛЬНАЯ РАЙОННАЯ БОЛЬНИЦА\"', 'БУЗОО \"МАРЬЯНОВСКАЯ ЦРБ\"', '5520004265', '552001001', '1025501718879', '1.2.643.5.1.13.13.12.2.55.5479', '75203', '13', '646040, обл Омская, р-н Марьяновский, рп Марьяновка, ул Войсковая, д 13', 'a1b4b2b3-4f71-42f6-b0f9-05c0e304cb79', '52000000000', 'mar_crb@minzdrav.omskportal.ru', '+73816821279', '', '11.08.2025', '31.12.2025', '00611000000000000', 'БЮДЖЕТНОЕ УЧРЕЖДЕНИЕ ЗДРАВООХРАНЕНИЯ ОМСКОЙ ОБЛАСТИ \"МОСКАЛЕНСКАЯ ЦЕНТРАЛЬНАЯ РАЙОННАЯ БОЛЬНИЦА\"', 'БУЗОО \"МОСКАЛЕНСКАЯ ЦРБ\"', '5521004236', '552101001', '1025501758369', '1.2.643.5.1.13.13.12.2.55.5480', '75203', '13', '646070, обл Омская, р-н Москаленский, рп Москаленки, ул Энтузиастов, д 13В', '76bc1f16-314c-48ec-8133-c7161e7ab796', '52000000000', 'moskal_crb@minzdrav.omskportal.ru', '+73817421813', '', '11.08.2025', '31.12.2025')\n"
     ]
    },
    {
     "name": "stdout",
     "output_type": "stream",
     "text": [
      "2025-09-03 16:03:24,902 INFO sqlalchemy.engine.Engine INSERT INTO nsi.[ERMO] ([IDMO], [NAM_MOP], [NAM_MOK], [INN], [KPP], [OGRN], [OID_MO], [OKOPF], [OKFS], [ADDR_J], [ADDR_J_GAR], [OKTMO], [EMAIL], [PHONE], [FAX], [DATEBEG], [DATEEND]) VALUES (?, ?, ?, ?, ?, ?, ?, ?, ?, ?, ?, ?, ?, ?, ?, ?, ?), (?, ?,  ... 6357 characters truncated ... ?, ?, ?, ?, ?, ?, ?, ?, ?, ?, ?, ?, ?, ?, ?, ?), (?, ?, ?, ?, ?, ?, ?, ?, ?, ?, ?, ?, ?, ?, ?, ?, ?)\n"
     ]
    },
    {
     "name": "stderr",
     "output_type": "stream",
     "text": [
      "INFO:sqlalchemy.engine.Engine:INSERT INTO nsi.[ERMO] ([IDMO], [NAM_MOP], [NAM_MOK], [INN], [KPP], [OGRN], [OID_MO], [OKOPF], [OKFS], [ADDR_J], [ADDR_J_GAR], [OKTMO], [EMAIL], [PHONE], [FAX], [DATEBEG], [DATEEND]) VALUES (?, ?, ?, ?, ?, ?, ?, ?, ?, ?, ?, ?, ?, ?, ?, ?, ?), (?, ?,  ... 6357 characters truncated ... ?, ?, ?, ?, ?, ?, ?, ?, ?, ?, ?, ?, ?, ?, ?, ?), (?, ?, ?, ?, ?, ?, ?, ?, ?, ?, ?, ?, ?, ?, ?, ?, ?)\n"
     ]
    },
    {
     "name": "stdout",
     "output_type": "stream",
     "text": [
      "2025-09-03 16:03:24,905 INFO sqlalchemy.engine.Engine [insertmanyvalues 38/72 (unordered)] ('00611100000000000', 'БЮДЖЕТНОЕ УЧРЕЖДЕНИЕ ЗДРАВООХРАНЕНИЯ ОМСКОЙ ОБЛАСТИ \"МУРОМЦЕВСКАЯ ЦЕНТРАЛЬНАЯ РАЙОННАЯ БОЛЬНИЦА\"', 'БУЗОО \"МУРОМЦЕВСКАЯ ЦРБ\"', '5522001319', '552201001', '1025501768434', '1.2.643.5.1.13.13.12.2.55.5523', '75203', '13', '646430, обл Омская, р-н Муромцевский, рп Муромцево, ул Ленина, д 144', '2813a48b-aa0f-427a-b9ff-cccc92a03963', '52000000000', 'muromcevo_crb@minzdrav.omskportal.ru', '+73815821948', '', '11.08.2025', '31.12.2025', '00611200000000000', 'БЮДЖЕТНОЕ УЧРЕЖДЕНИЕ ЗДРАВООХРАНЕНИЯ ОМСКОЙ ОБЛАСТИ \"НАЗЫВАЕВСКАЯ ЦЕНТРАЛЬНАЯ РАЙОННАЯ БОЛЬНИЦА\"', 'БУЗОО \"НАЗЫВАЕВСКАЯ ЦРБ\"', '5523002019', '552301001', '1025501781282', '1.2.643.5.1.13.13.12.2.55.5535', '75203', '13', '646104, обл Омская, р-н Называевский, г Называевск, ул Мира, д 56', 'a0a0beac-a3ae-4078-89c1-c77f15f352ea', '52000000000', 'nzv_crb@minzdrav.omskportal.ru', '+73816121152', '', '12.08.2025', '31.12.2025', '00611300000000000', 'БЮДЖЕТНОЕ УЧРЕЖДЕНИЕ ЗДРАВООХРАНЕНИЯ ОМСКОЙ ОБЛАСТИ \"НИЖНЕОМСКАЯ ЦЕНТРАЛЬНАЯ РАЙОННАЯ БОЛЬНИЦА\"', 'БУЗОО \"НИЖНЕОМСКАЯ ЦРБ\"', '5524001025', '552401001', '1025502555088', '1.2.643.5.1.13.13.12.2.55.5481', '75203', '13', '646620, обл Омская, р-н Нижнеомский, с Нижняя Омка, ул Ленина, д 38', '76db5cec-252e-4b0a-8649-8f70ac8a46e9', '52000000000', 'olenomka@yandex.ru', '+73816523003', '', '12.08.2025' ... 1991 parameters truncated ... 'ГОСУДАРСТВЕННОЕ АВТОНОМНОЕ УЧРЕЖДЕНИЕ ЗДРАВООХРАНЕНИЯ \"КВАРКЕНСКАЯ РАЙОННАЯ БОЛЬНИЦА\"', 'ГАУЗ \"КВАРКЕНСКАЯ РБ\"', '5630002366', '563001001', '1025602487998', '1.2.643.5.1.13.13.12.2.56.5601', '75201', '13', '462860, обл Оренбургская, р-н Кваркенский, с Кваркено, ул Ленина, д 2', 'd3f1541a-4c7e-45c5-a156-8822b2dcea95', '53000000000', 'rkv01@mail.orb.ru', '+73536421062', '', '17.01.2025', '31.12.2025', '00627300000000000', 'ГОСУДАРСТВЕННОЕ БЮДЖЕТНОЕ УЧРЕЖДЕНИЕ ЗДРАВООХРАНЕНИЯ \"ГОРОДСКАЯ БОЛЬНИЦА\" ГОРОДА КУВАНДЫКА', 'ГБУЗ \"ГБ\" Г. КУВАНДЫКА', '5605003503', '560501001', '1025600753364', '1.2.643.5.1.13.13.12.2.56.5590', '75203', '13', '462241, обл Оренбургская, г Кувандык, ул Мичурина, д 2', 'd7bf8592-99ba-4f81-b8ab-7ae0d8033d53', '53000000000', 'rku01@mail.orb.ru', '+73536126077', '', '08.07.2025', '31.12.2025', '00627400000000000', 'ГОСУДАРСТВЕННОЕ БЮДЖЕТНОЕ УЧРЕЖДЕНИЕ ЗДРАВООХРАНЕНИЯ \"КУРМАНАЕВСКАЯ РАЙОННАЯ БОЛЬНИЦА\"', 'ГБУЗ \"КУРМАНАЕВСКАЯ РБ\"', '5633001233', '563301001', '1025602832584', '1.2.643.5.1.13.13.12.2.56.5640', '75203', '13', '461060, обл Оренбургская, р-н Курманаевский, с Курманаевка, ул Степана Разина, д 1', '25c7af17-f019-402e-b0cb-903d590ac9bd', '53000000000', 'muzkcrb@esoo.ru', '+73534121237', '', '06.02.2025', '31.12.2025')\n"
     ]
    },
    {
     "name": "stderr",
     "output_type": "stream",
     "text": [
      "INFO:sqlalchemy.engine.Engine:[insertmanyvalues 38/72 (unordered)] ('00611100000000000', 'БЮДЖЕТНОЕ УЧРЕЖДЕНИЕ ЗДРАВООХРАНЕНИЯ ОМСКОЙ ОБЛАСТИ \"МУРОМЦЕВСКАЯ ЦЕНТРАЛЬНАЯ РАЙОННАЯ БОЛЬНИЦА\"', 'БУЗОО \"МУРОМЦЕВСКАЯ ЦРБ\"', '5522001319', '552201001', '1025501768434', '1.2.643.5.1.13.13.12.2.55.5523', '75203', '13', '646430, обл Омская, р-н Муромцевский, рп Муромцево, ул Ленина, д 144', '2813a48b-aa0f-427a-b9ff-cccc92a03963', '52000000000', 'muromcevo_crb@minzdrav.omskportal.ru', '+73815821948', '', '11.08.2025', '31.12.2025', '00611200000000000', 'БЮДЖЕТНОЕ УЧРЕЖДЕНИЕ ЗДРАВООХРАНЕНИЯ ОМСКОЙ ОБЛАСТИ \"НАЗЫВАЕВСКАЯ ЦЕНТРАЛЬНАЯ РАЙОННАЯ БОЛЬНИЦА\"', 'БУЗОО \"НАЗЫВАЕВСКАЯ ЦРБ\"', '5523002019', '552301001', '1025501781282', '1.2.643.5.1.13.13.12.2.55.5535', '75203', '13', '646104, обл Омская, р-н Называевский, г Называевск, ул Мира, д 56', 'a0a0beac-a3ae-4078-89c1-c77f15f352ea', '52000000000', 'nzv_crb@minzdrav.omskportal.ru', '+73816121152', '', '12.08.2025', '31.12.2025', '00611300000000000', 'БЮДЖЕТНОЕ УЧРЕЖДЕНИЕ ЗДРАВООХРАНЕНИЯ ОМСКОЙ ОБЛАСТИ \"НИЖНЕОМСКАЯ ЦЕНТРАЛЬНАЯ РАЙОННАЯ БОЛЬНИЦА\"', 'БУЗОО \"НИЖНЕОМСКАЯ ЦРБ\"', '5524001025', '552401001', '1025502555088', '1.2.643.5.1.13.13.12.2.55.5481', '75203', '13', '646620, обл Омская, р-н Нижнеомский, с Нижняя Омка, ул Ленина, д 38', '76db5cec-252e-4b0a-8649-8f70ac8a46e9', '52000000000', 'olenomka@yandex.ru', '+73816523003', '', '12.08.2025' ... 1991 parameters truncated ... 'ГОСУДАРСТВЕННОЕ АВТОНОМНОЕ УЧРЕЖДЕНИЕ ЗДРАВООХРАНЕНИЯ \"КВАРКЕНСКАЯ РАЙОННАЯ БОЛЬНИЦА\"', 'ГАУЗ \"КВАРКЕНСКАЯ РБ\"', '5630002366', '563001001', '1025602487998', '1.2.643.5.1.13.13.12.2.56.5601', '75201', '13', '462860, обл Оренбургская, р-н Кваркенский, с Кваркено, ул Ленина, д 2', 'd3f1541a-4c7e-45c5-a156-8822b2dcea95', '53000000000', 'rkv01@mail.orb.ru', '+73536421062', '', '17.01.2025', '31.12.2025', '00627300000000000', 'ГОСУДАРСТВЕННОЕ БЮДЖЕТНОЕ УЧРЕЖДЕНИЕ ЗДРАВООХРАНЕНИЯ \"ГОРОДСКАЯ БОЛЬНИЦА\" ГОРОДА КУВАНДЫКА', 'ГБУЗ \"ГБ\" Г. КУВАНДЫКА', '5605003503', '560501001', '1025600753364', '1.2.643.5.1.13.13.12.2.56.5590', '75203', '13', '462241, обл Оренбургская, г Кувандык, ул Мичурина, д 2', 'd7bf8592-99ba-4f81-b8ab-7ae0d8033d53', '53000000000', 'rku01@mail.orb.ru', '+73536126077', '', '08.07.2025', '31.12.2025', '00627400000000000', 'ГОСУДАРСТВЕННОЕ БЮДЖЕТНОЕ УЧРЕЖДЕНИЕ ЗДРАВООХРАНЕНИЯ \"КУРМАНАЕВСКАЯ РАЙОННАЯ БОЛЬНИЦА\"', 'ГБУЗ \"КУРМАНАЕВСКАЯ РБ\"', '5633001233', '563301001', '1025602832584', '1.2.643.5.1.13.13.12.2.56.5640', '75203', '13', '461060, обл Оренбургская, р-н Курманаевский, с Курманаевка, ул Степана Разина, д 1', '25c7af17-f019-402e-b0cb-903d590ac9bd', '53000000000', 'muzkcrb@esoo.ru', '+73534121237', '', '06.02.2025', '31.12.2025')\n"
     ]
    },
    {
     "name": "stdout",
     "output_type": "stream",
     "text": [
      "2025-09-03 16:03:25,027 INFO sqlalchemy.engine.Engine INSERT INTO nsi.[ERMO] ([IDMO], [NAM_MOP], [NAM_MOK], [INN], [KPP], [OGRN], [OID_MO], [OKOPF], [OKFS], [ADDR_J], [ADDR_J_GAR], [OKTMO], [EMAIL], [PHONE], [FAX], [DATEBEG], [DATEEND]) VALUES (?, ?, ?, ?, ?, ?, ?, ?, ?, ?, ?, ?, ?, ?, ?, ?, ?), (?, ?,  ... 6357 characters truncated ... ?, ?, ?, ?, ?, ?, ?, ?, ?, ?, ?, ?, ?, ?, ?, ?), (?, ?, ?, ?, ?, ?, ?, ?, ?, ?, ?, ?, ?, ?, ?, ?, ?)\n"
     ]
    },
    {
     "name": "stderr",
     "output_type": "stream",
     "text": [
      "INFO:sqlalchemy.engine.Engine:INSERT INTO nsi.[ERMO] ([IDMO], [NAM_MOP], [NAM_MOK], [INN], [KPP], [OGRN], [OID_MO], [OKOPF], [OKFS], [ADDR_J], [ADDR_J_GAR], [OKTMO], [EMAIL], [PHONE], [FAX], [DATEBEG], [DATEEND]) VALUES (?, ?, ?, ?, ?, ?, ?, ?, ?, ?, ?, ?, ?, ?, ?, ?, ?), (?, ?,  ... 6357 characters truncated ... ?, ?, ?, ?, ?, ?, ?, ?, ?, ?, ?, ?, ?, ?, ?, ?), (?, ?, ?, ?, ?, ?, ?, ?, ?, ?, ?, ?, ?, ?, ?, ?, ?)\n"
     ]
    },
    {
     "name": "stdout",
     "output_type": "stream",
     "text": [
      "2025-09-03 16:03:25,029 INFO sqlalchemy.engine.Engine [insertmanyvalues 39/72 (unordered)] ('00627600000000000', 'ГОСУДАРСТВЕННОЕ АВТОНОМНОЕ УЧРЕЖДЕНИЕ ЗДРАВООХРАНЕНИЯ \"НОВООРСКАЯ РАЙОННАЯ БОЛЬНИЦА\"', 'ГАУЗ \"НОВООРСКАЯ РБ\"', '5635005410', '563501001', '1025602617820', '1.2.643.5.1.13.13.12.2.56.5596', '75201', '13', '462800, обл Оренбургская, р-н Новоорский, п Новоорск, ул Булдакова, д 2', '06b344e7-0678-4392-98b9-366e4f173ba6', '53000000000', 'crb_no@mail.ru', '+73536376602', '', '17.01.2025', '31.12.2025', '00627700000000000', 'ГОСУДАРСТВЕННОЕ БЮДЖЕТНОЕ УЧРЕЖДЕНИЕ ЗДРАВООХРАНЕНИЯ \"НОВОСЕРГИЕВСКАЯ РАЙОННАЯ БОЛЬНИЦА\"', 'ГБУЗ \"НОВОСЕРГИЕВСКАЯ РБ\"', '5636003278', '563601001', '1025602667155', '1.2.643.5.1.13.13.12.2.56.5634', '75203', '13', '461200, обл Оренбургская, р-н Новосергиевский, п Новосергиевка, ул Базарная, д 10', '88ea84d2-dc81-42c9-a86a-a00aa80baf72', '53000000000', 'n_crb@esoo.ru', '+73533923219', '', '07.05.2025', '31.12.2025', '00627800000000000', 'ГОСУДАРСТВЕННОЕ АВТОНОМНОЕ УЧРЕЖДЕНИЕ ЗДРАВООХРАНЕНИЯ \"ОКТЯБРЬСКАЯ РАЙОННАЯ БОЛЬНИЦА\"', 'ГАУЗ \"ОКТЯБРЬСКАЯ РБ\"', '5637004130', '563701001', '1025603268789', '1.2.643.5.1.13.13.12.2.56.5626', '75201', '13', '462030, обл Оренбургская, р-н Октябрьский, с Октябрьское, ул Больничная, д 47', '0c903871-5b95-4e7b-8cea-47fd253cbf73', '53000000000', 'ocrb@esoo.ru', '+73533021211', '', '27.06.2025' ... 1991 parameters truncated ... 'ГОСУДАРСТВЕННОЕ БЮДЖЕТНОЕ УЧРЕЖДЕНИЕ ЗДРАВООХРАНЕНИЯ \"ПЕНЗЕНСКАЯ ОБЛАСТНАЯ ОФТАЛЬМОЛОГИЧЕСКАЯ БОЛЬНИЦА\"', 'ГБУЗ ПООБ', '5837008558', '583701001', '1025801439179', '1.2.643.5.1.13.13.12.2.58.5734', '75203', '13', '440026, обл Пензенская, г Пенза, ул Красная, д 32', 'fe8e9660-6d75-42f8-912d-154105896ea6', '56000000000', 'oob@health.pnzreg.ru', '+78412320333', '', '22.05.2025', '31.12.2025', '00645100000000000', 'ГОСУДАРСТВЕННОЕ БЮДЖЕТНОЕ УЧРЕЖДЕНИЕ ЗДРАВООХРАНЕНИЯ \"ГОРОДСКАЯ ПОЛИКЛИНИКА\"', 'ГБУЗ \"ГОРОДСКАЯ ПОЛИКЛИНИКА\"', '5836200690', '583601001', '1025801369329', '1.2.643.5.1.13.13.12.2.58.5750', '75203', '13', '440000, обл Пензенская, г Пенза, ул Володарского, стр 34', '72ce5635-2d9c-452c-9e74-ce0f81eea1ee', '56000000000', 'gp@health.pnzreg.ru', '+78412998712', '', '16.05.2025', '31.12.2025', '00645200000000000', 'ГОСУДАРСТВЕННОЕ БЮДЖЕТНОЕ УЧРЕЖДЕНИЕ ЗДРАВООХРАНЕНИЯ \"КЛИНИЧЕСКАЯ БОЛЬНИЦА № 6 ИМЕНИ Г.А. ЗАХАРЬИНА\"', 'ГБУЗ \"КЛИНИЧЕСКАЯ БОЛЬНИЦА № 6 ИМЕНИ Г.А. ЗАХАРЬИНА\"', '5835065247', '583501001', '1065835015883', '1.2.643.5.1.13.13.12.2.58.5765', '75203', '13', '440071, обл Пензенская, г Пенза, ул Стасова, д 7', '3163d79a-fc00-4984-b057-2b219bfb0242', '56000000000', 'kb6@health.pnzreg.ru', '+78412983355', '', '08.07.2025', '31.12.2025')\n"
     ]
    },
    {
     "name": "stderr",
     "output_type": "stream",
     "text": [
      "INFO:sqlalchemy.engine.Engine:[insertmanyvalues 39/72 (unordered)] ('00627600000000000', 'ГОСУДАРСТВЕННОЕ АВТОНОМНОЕ УЧРЕЖДЕНИЕ ЗДРАВООХРАНЕНИЯ \"НОВООРСКАЯ РАЙОННАЯ БОЛЬНИЦА\"', 'ГАУЗ \"НОВООРСКАЯ РБ\"', '5635005410', '563501001', '1025602617820', '1.2.643.5.1.13.13.12.2.56.5596', '75201', '13', '462800, обл Оренбургская, р-н Новоорский, п Новоорск, ул Булдакова, д 2', '06b344e7-0678-4392-98b9-366e4f173ba6', '53000000000', 'crb_no@mail.ru', '+73536376602', '', '17.01.2025', '31.12.2025', '00627700000000000', 'ГОСУДАРСТВЕННОЕ БЮДЖЕТНОЕ УЧРЕЖДЕНИЕ ЗДРАВООХРАНЕНИЯ \"НОВОСЕРГИЕВСКАЯ РАЙОННАЯ БОЛЬНИЦА\"', 'ГБУЗ \"НОВОСЕРГИЕВСКАЯ РБ\"', '5636003278', '563601001', '1025602667155', '1.2.643.5.1.13.13.12.2.56.5634', '75203', '13', '461200, обл Оренбургская, р-н Новосергиевский, п Новосергиевка, ул Базарная, д 10', '88ea84d2-dc81-42c9-a86a-a00aa80baf72', '53000000000', 'n_crb@esoo.ru', '+73533923219', '', '07.05.2025', '31.12.2025', '00627800000000000', 'ГОСУДАРСТВЕННОЕ АВТОНОМНОЕ УЧРЕЖДЕНИЕ ЗДРАВООХРАНЕНИЯ \"ОКТЯБРЬСКАЯ РАЙОННАЯ БОЛЬНИЦА\"', 'ГАУЗ \"ОКТЯБРЬСКАЯ РБ\"', '5637004130', '563701001', '1025603268789', '1.2.643.5.1.13.13.12.2.56.5626', '75201', '13', '462030, обл Оренбургская, р-н Октябрьский, с Октябрьское, ул Больничная, д 47', '0c903871-5b95-4e7b-8cea-47fd253cbf73', '53000000000', 'ocrb@esoo.ru', '+73533021211', '', '27.06.2025' ... 1991 parameters truncated ... 'ГОСУДАРСТВЕННОЕ БЮДЖЕТНОЕ УЧРЕЖДЕНИЕ ЗДРАВООХРАНЕНИЯ \"ПЕНЗЕНСКАЯ ОБЛАСТНАЯ ОФТАЛЬМОЛОГИЧЕСКАЯ БОЛЬНИЦА\"', 'ГБУЗ ПООБ', '5837008558', '583701001', '1025801439179', '1.2.643.5.1.13.13.12.2.58.5734', '75203', '13', '440026, обл Пензенская, г Пенза, ул Красная, д 32', 'fe8e9660-6d75-42f8-912d-154105896ea6', '56000000000', 'oob@health.pnzreg.ru', '+78412320333', '', '22.05.2025', '31.12.2025', '00645100000000000', 'ГОСУДАРСТВЕННОЕ БЮДЖЕТНОЕ УЧРЕЖДЕНИЕ ЗДРАВООХРАНЕНИЯ \"ГОРОДСКАЯ ПОЛИКЛИНИКА\"', 'ГБУЗ \"ГОРОДСКАЯ ПОЛИКЛИНИКА\"', '5836200690', '583601001', '1025801369329', '1.2.643.5.1.13.13.12.2.58.5750', '75203', '13', '440000, обл Пензенская, г Пенза, ул Володарского, стр 34', '72ce5635-2d9c-452c-9e74-ce0f81eea1ee', '56000000000', 'gp@health.pnzreg.ru', '+78412998712', '', '16.05.2025', '31.12.2025', '00645200000000000', 'ГОСУДАРСТВЕННОЕ БЮДЖЕТНОЕ УЧРЕЖДЕНИЕ ЗДРАВООХРАНЕНИЯ \"КЛИНИЧЕСКАЯ БОЛЬНИЦА № 6 ИМЕНИ Г.А. ЗАХАРЬИНА\"', 'ГБУЗ \"КЛИНИЧЕСКАЯ БОЛЬНИЦА № 6 ИМЕНИ Г.А. ЗАХАРЬИНА\"', '5835065247', '583501001', '1065835015883', '1.2.643.5.1.13.13.12.2.58.5765', '75203', '13', '440071, обл Пензенская, г Пенза, ул Стасова, д 7', '3163d79a-fc00-4984-b057-2b219bfb0242', '56000000000', 'kb6@health.pnzreg.ru', '+78412983355', '', '08.07.2025', '31.12.2025')\n"
     ]
    },
    {
     "name": "stdout",
     "output_type": "stream",
     "text": [
      "2025-09-03 16:03:25,134 INFO sqlalchemy.engine.Engine INSERT INTO nsi.[ERMO] ([IDMO], [NAM_MOP], [NAM_MOK], [INN], [KPP], [OGRN], [OID_MO], [OKOPF], [OKFS], [ADDR_J], [ADDR_J_GAR], [OKTMO], [EMAIL], [PHONE], [FAX], [DATEBEG], [DATEEND]) VALUES (?, ?, ?, ?, ?, ?, ?, ?, ?, ?, ?, ?, ?, ?, ?, ?, ?), (?, ?,  ... 6357 characters truncated ... ?, ?, ?, ?, ?, ?, ?, ?, ?, ?, ?, ?, ?, ?, ?, ?), (?, ?, ?, ?, ?, ?, ?, ?, ?, ?, ?, ?, ?, ?, ?, ?, ?)\n"
     ]
    },
    {
     "name": "stderr",
     "output_type": "stream",
     "text": [
      "INFO:sqlalchemy.engine.Engine:INSERT INTO nsi.[ERMO] ([IDMO], [NAM_MOP], [NAM_MOK], [INN], [KPP], [OGRN], [OID_MO], [OKOPF], [OKFS], [ADDR_J], [ADDR_J_GAR], [OKTMO], [EMAIL], [PHONE], [FAX], [DATEBEG], [DATEEND]) VALUES (?, ?, ?, ?, ?, ?, ?, ?, ?, ?, ?, ?, ?, ?, ?, ?, ?), (?, ?,  ... 6357 characters truncated ... ?, ?, ?, ?, ?, ?, ?, ?, ?, ?, ?, ?, ?, ?, ?, ?), (?, ?, ?, ?, ?, ?, ?, ?, ?, ?, ?, ?, ?, ?, ?, ?, ?)\n"
     ]
    },
    {
     "name": "stdout",
     "output_type": "stream",
     "text": [
      "2025-09-03 16:03:25,136 INFO sqlalchemy.engine.Engine [insertmanyvalues 40/72 (unordered)] ('00645300000000000', 'ГОСУДАРСТВЕННОЕ БЮДЖЕТНОЕ УЧРЕЖДЕНИЕ ЗДРАВООХРАНЕНИЯ \"КЛИНИЧЕСКАЯ БОЛЬНИЦА № 4\"', 'ГБУЗ \"КЛИНИЧЕСКАЯ БОЛЬНИЦА № 4\"', '5834011030', '583401001', '1025801102590', '1.2.643.5.1.13.13.12.2.58.5774', '75203', '13', '440013, обл Пензенская, г Пенза, ул Светлая, стр. 1', 'b3568cd9-e292-42cf-b8a0-568de8b35211', '56000000000', 'kb4@health.pnzreg.ru', '+78412568770', '', '29.05.2025', '31.12.2025', '00645400000000000', 'АКЦИОНЕРНОЕ ОБЩЕСТВО \"ПЕНЗЕНСКОЕ ПРОИЗВОДСТВЕННОЕ ОБЪЕДИНЕНИЕ ЭЛЕКТРОННОЙ ВЫЧИСЛИТЕЛЬНОЙ ТЕХНИКИ ИМЕНИ В.А. РЕВУНОВА\"', 'АО \"ППО ЭВТ ИМ. В.А. РЕВУНОВА\"', '5835094907', '583501001', '1125835000125', '1.2.643.5.1.13.13.12.2.58.9671', '12267', '16', '440039, обл Пензенская, г Пенза, ул Гагарина, д 13', 'ad4629d9-3785-4101-962a-983fa60b2853', '56000000000', 'analizer@ppoevt.ru', '+78412498432', '', '26.05.2025', '31.12.2025', '00645500000000000', 'ЧАСТНОЕ УЧРЕЖДЕНИЕ ЗДРАВООХРАНЕНИЯ \"КЛИНИЧЕСКАЯ БОЛЬНИЦА \"РЖД-МЕДИЦИНА\" ГОРОДА ПЕНЗА\"', 'ЧУЗ \"КБ \"РЖД-МЕДИЦИНА\" Г. ПЕНЗА\"', '5834028940', '583401001', '1045802005292', '1.2.643.5.1.13.13.12.2.58.5759', '75500', '16', '440000, обл Пензенская, г Пенза, ул Урицкого, д 118', '49287c7b-ca03-45f8-8ba6-a3084feadbb8', '56000000000', 'SECR-OKB-PENZA@YANDEX.RU', '+78412588062', '', '26.05.2025' ... 1991 parameters truncated ... 'ГОСУДАРСТВЕННОЕ БЮДЖЕТНОЕ УЧРЕЖДЕНИЕ ЗДРАВООХРАНЕНИЯ ПЕРМСКОГО КРАЯ \"ГОРОДСКАЯ ДЕТСКАЯ КЛИНИЧЕСКАЯ ПОЛИКЛИНИКА № 6\"', 'ГБУЗ ПК \"ГДКП № 6\"', '5903130313', '590301001', '1175958003451', '1.2.643.5.1.13.13.12.2.59.5979', '75203', '13', '614068, край Пермский, г Пермь, ул Петропавловская, д 109', 'fc8de99d-50a8-41d7-bd7a-86df357bc056', '57000000000', 'permgdkp6@lpu.perm.ru', '+73422070230', '', '15.07.2025', '31.12.2025', '00661000000000000', 'ОБЩЕСТВО С ОГРАНИЧЕННОЙ ОТВЕТСТВЕННОСТЬЮ \"МЕДИЦИНСКИЙ ЦЕНТР \"ЛОР ПЛЮС\"', 'ООО \"МЦ \"ЛОР ПЛЮС\"', '5904127063', '590301001', '1055901672133', '1.2.643.5.1.13.13.12.2.59.18506', '12300', '16', '614081, край Пермский, г Пермь, ш Космонавтов, д 86а', '73c0f667-038f-425a-b514-e97c8af9bd8b', '57000000000', 'permlorplus@lpu.perm.ru', '+73422582588', '', '15.07.2025', '31.12.2025', '00661100000000000', 'ГОСУДАРСТВЕННОЕ БЮДЖЕТНОЕ УЧРЕЖДЕНИЕ ЗДРАВООХРАНЕНИЯ ПЕРМСКОГО КРАЯ \"ГОРОДСКАЯ КЛИНИЧЕСКАЯ ПОЛИКЛИНИКА № 2\"', 'ГБУЗ ПК \"ГКП № 2\"', '5905023290', '590501001', '1025901213470', '1.2.643.5.1.13.13.12.2.59.5834', '75203', '13', '614066, край Пермский, г Пермь, ул Братьев Игнатовых, д 3', 'b8648973-0e25-4333-912c-76e9259fae7f', '57000000000', 'prmgp2@lpu.perm.ru', '+73422217999', '', '15.07.2025', '31.12.2025')\n"
     ]
    },
    {
     "name": "stderr",
     "output_type": "stream",
     "text": [
      "INFO:sqlalchemy.engine.Engine:[insertmanyvalues 40/72 (unordered)] ('00645300000000000', 'ГОСУДАРСТВЕННОЕ БЮДЖЕТНОЕ УЧРЕЖДЕНИЕ ЗДРАВООХРАНЕНИЯ \"КЛИНИЧЕСКАЯ БОЛЬНИЦА № 4\"', 'ГБУЗ \"КЛИНИЧЕСКАЯ БОЛЬНИЦА № 4\"', '5834011030', '583401001', '1025801102590', '1.2.643.5.1.13.13.12.2.58.5774', '75203', '13', '440013, обл Пензенская, г Пенза, ул Светлая, стр. 1', 'b3568cd9-e292-42cf-b8a0-568de8b35211', '56000000000', 'kb4@health.pnzreg.ru', '+78412568770', '', '29.05.2025', '31.12.2025', '00645400000000000', 'АКЦИОНЕРНОЕ ОБЩЕСТВО \"ПЕНЗЕНСКОЕ ПРОИЗВОДСТВЕННОЕ ОБЪЕДИНЕНИЕ ЭЛЕКТРОННОЙ ВЫЧИСЛИТЕЛЬНОЙ ТЕХНИКИ ИМЕНИ В.А. РЕВУНОВА\"', 'АО \"ППО ЭВТ ИМ. В.А. РЕВУНОВА\"', '5835094907', '583501001', '1125835000125', '1.2.643.5.1.13.13.12.2.58.9671', '12267', '16', '440039, обл Пензенская, г Пенза, ул Гагарина, д 13', 'ad4629d9-3785-4101-962a-983fa60b2853', '56000000000', 'analizer@ppoevt.ru', '+78412498432', '', '26.05.2025', '31.12.2025', '00645500000000000', 'ЧАСТНОЕ УЧРЕЖДЕНИЕ ЗДРАВООХРАНЕНИЯ \"КЛИНИЧЕСКАЯ БОЛЬНИЦА \"РЖД-МЕДИЦИНА\" ГОРОДА ПЕНЗА\"', 'ЧУЗ \"КБ \"РЖД-МЕДИЦИНА\" Г. ПЕНЗА\"', '5834028940', '583401001', '1045802005292', '1.2.643.5.1.13.13.12.2.58.5759', '75500', '16', '440000, обл Пензенская, г Пенза, ул Урицкого, д 118', '49287c7b-ca03-45f8-8ba6-a3084feadbb8', '56000000000', 'SECR-OKB-PENZA@YANDEX.RU', '+78412588062', '', '26.05.2025' ... 1991 parameters truncated ... 'ГОСУДАРСТВЕННОЕ БЮДЖЕТНОЕ УЧРЕЖДЕНИЕ ЗДРАВООХРАНЕНИЯ ПЕРМСКОГО КРАЯ \"ГОРОДСКАЯ ДЕТСКАЯ КЛИНИЧЕСКАЯ ПОЛИКЛИНИКА № 6\"', 'ГБУЗ ПК \"ГДКП № 6\"', '5903130313', '590301001', '1175958003451', '1.2.643.5.1.13.13.12.2.59.5979', '75203', '13', '614068, край Пермский, г Пермь, ул Петропавловская, д 109', 'fc8de99d-50a8-41d7-bd7a-86df357bc056', '57000000000', 'permgdkp6@lpu.perm.ru', '+73422070230', '', '15.07.2025', '31.12.2025', '00661000000000000', 'ОБЩЕСТВО С ОГРАНИЧЕННОЙ ОТВЕТСТВЕННОСТЬЮ \"МЕДИЦИНСКИЙ ЦЕНТР \"ЛОР ПЛЮС\"', 'ООО \"МЦ \"ЛОР ПЛЮС\"', '5904127063', '590301001', '1055901672133', '1.2.643.5.1.13.13.12.2.59.18506', '12300', '16', '614081, край Пермский, г Пермь, ш Космонавтов, д 86а', '73c0f667-038f-425a-b514-e97c8af9bd8b', '57000000000', 'permlorplus@lpu.perm.ru', '+73422582588', '', '15.07.2025', '31.12.2025', '00661100000000000', 'ГОСУДАРСТВЕННОЕ БЮДЖЕТНОЕ УЧРЕЖДЕНИЕ ЗДРАВООХРАНЕНИЯ ПЕРМСКОГО КРАЯ \"ГОРОДСКАЯ КЛИНИЧЕСКАЯ ПОЛИКЛИНИКА № 2\"', 'ГБУЗ ПК \"ГКП № 2\"', '5905023290', '590501001', '1025901213470', '1.2.643.5.1.13.13.12.2.59.5834', '75203', '13', '614066, край Пермский, г Пермь, ул Братьев Игнатовых, д 3', 'b8648973-0e25-4333-912c-76e9259fae7f', '57000000000', 'prmgp2@lpu.perm.ru', '+73422217999', '', '15.07.2025', '31.12.2025')\n"
     ]
    },
    {
     "name": "stdout",
     "output_type": "stream",
     "text": [
      "2025-09-03 16:03:25,244 INFO sqlalchemy.engine.Engine INSERT INTO nsi.[ERMO] ([IDMO], [NAM_MOP], [NAM_MOK], [INN], [KPP], [OGRN], [OID_MO], [OKOPF], [OKFS], [ADDR_J], [ADDR_J_GAR], [OKTMO], [EMAIL], [PHONE], [FAX], [DATEBEG], [DATEEND]) VALUES (?, ?, ?, ?, ?, ?, ?, ?, ?, ?, ?, ?, ?, ?, ?, ?, ?), (?, ?,  ... 6357 characters truncated ... ?, ?, ?, ?, ?, ?, ?, ?, ?, ?, ?, ?, ?, ?, ?, ?), (?, ?, ?, ?, ?, ?, ?, ?, ?, ?, ?, ?, ?, ?, ?, ?, ?)\n"
     ]
    },
    {
     "name": "stderr",
     "output_type": "stream",
     "text": [
      "INFO:sqlalchemy.engine.Engine:INSERT INTO nsi.[ERMO] ([IDMO], [NAM_MOP], [NAM_MOK], [INN], [KPP], [OGRN], [OID_MO], [OKOPF], [OKFS], [ADDR_J], [ADDR_J_GAR], [OKTMO], [EMAIL], [PHONE], [FAX], [DATEBEG], [DATEEND]) VALUES (?, ?, ?, ?, ?, ?, ?, ?, ?, ?, ?, ?, ?, ?, ?, ?, ?), (?, ?,  ... 6357 characters truncated ... ?, ?, ?, ?, ?, ?, ?, ?, ?, ?, ?, ?, ?, ?, ?, ?), (?, ?, ?, ?, ?, ?, ?, ?, ?, ?, ?, ?, ?, ?, ?, ?, ?)\n"
     ]
    },
    {
     "name": "stdout",
     "output_type": "stream",
     "text": [
      "2025-09-03 16:03:25,245 INFO sqlalchemy.engine.Engine [insertmanyvalues 41/72 (unordered)] ('00661200000000000', 'ГОСУДАРСТВЕННОЕ БЮДЖЕТНОЕ УЧРЕЖДЕНИЕ ЗДРАВООХРАНЕНИЯ ПЕРМСКОГО КРАЯ \"ГОРОДСКАЯ ДЕТСКАЯ КЛИНИЧЕСКАЯ ПОЛИКЛИНИКА № 5\"', 'ГБУЗ ПК \"ГДКП № 5\"', '5905253670', '590501001', '1075905007474', '1.2.643.5.1.13.13.12.2.59.5974', '75203', '13', '614066, край Пермский, г Пермь, ул Советской Армии, д 10', '8dfef7bb-4b06-47d9-a8ba-a33e2577abec', '57000000000', 'permgdkp5@lpu.perm.ru', '+73422280951', '', '15.07.2025', '31.12.2025', '00661300000000000', 'ОБЩЕСТВО С ОГРАНИЧЕННОЙ ОТВЕТСТВЕННОСТЬЮ \"ЕВРОПЕЙСКАЯ СТОМАТОЛОГИЯ \"МЕДИУМ\"', 'ООО \"ЕС \"МЕДИУМ\"', '5905247405', '590501001', '1075905000170', '1.2.643.5.1.13.13.12.2.59.9245', '12300', '16', '614066, край Пермский, г Пермь, ул Снайперов, д 1', 'e9ce9cfe-32fa-4c08-9793-69ec1605d264', '57000000000', 'PERMMEDIUM@LPU.PERM.RU', '+73422581414', '', '15.07.2025', '31.12.2025', '00661400000000000', 'ОБЩЕСТВО С ОГРАНИЧЕННОЙ ОТВЕТСТВЕННОСТЬЮ \"МАМА\"', 'ООО \"МАМА\"', '5905235047', '590501001', '1055902840839', '1.2.643.5.1.13.13.12.2.59.5828', '12300', '16', '614095, край Пермский, г Пермь, ул Лизы Чайкиной, д 22, кв 2', '9acb4b3e-9581-493f-9205-787f321d227c', '57000000000', 'PERMMAMA@LPU.PERM.RU', '+73422366767', '', '15.07.2025' ... 1991 parameters truncated ... 'ГОСУДАРСТВЕННОЕ БЮДЖЕТНОЕ УЧРЕЖДЕНИЕ РОСТОВСКОЙ ОБЛАСТИ \"ЦЕНТРАЛЬНАЯ ГОРОДСКАЯ БОЛЬНИЦА\" В Г. ДОНЕЦКЕ', 'ГБУ РО \"ЦГБ\" В Г. ДОНЕЦКЕ', '6145000407', '614501001', '1026102061270', '1.2.643.5.1.13.13.12.2.61.6254', '75203', '13', '346330, обл Ростовская, г Донецк, ул Суворова, д 35', 'c48dce6f-595c-45a4-980a-67ee3fdeca28', '60000000000', 'torgi@dongb.ru', '+78636859510', '', '27.06.2025', '31.12.2025', '00676200000000000', 'ГОСУДАРСТВЕННОЕ БЮДЖЕТНОЕ УЧРЕЖДЕНИЕ РОСТОВСКОЙ ОБЛАСТИ \"ЦЕНТРАЛЬНАЯ ГОРОДСКАЯ БОЛЬНИЦА\" В Г. ЗВЕРЕВО', 'ГБУ РО \"ЦГБ\" В Г. ЗВЕРЕВО', '6146000745', '614601001', '1026102081268', '1.2.643.5.1.13.13.12.2.61.6211', '75203', '13', '346312, обл Ростовская, г Зверево, ул Обухова, д 21', '37d46546-8718-4314-b4d0-09d9ff175d7d', '60000000000', 'muzcgb-gukovo@yandex.ru', '+79508634692', '', '27.06.2025', '31.12.2025', '00676300000000000', 'ГОСУДАРСТВЕННОЕ БЮДЖЕТНОЕ УЧРЕЖДЕНИЕ РОСТОВСКОЙ ОБЛАСТИ \"ЦЕНТРАЛЬНАЯ ГОРОДСКАЯ БОЛЬНИЦА\" В Г. КАМЕНСК-ШАХТИНСКОМ', 'ГБУ РО \"ЦГБ\" В Г. КАМЕНСК-ШАХТИНСКОМ', '6147004118', '614701001', '1026102106777', '1.2.643.5.1.13.13.12.2.61.6273', '75203', '13', '347805, обл Ростовская, г Каменск-Шахтинский, пер Садовый, д 3', '8e59acdb-db9b-451e-8887-a92ddc37dcdf', '60000000000', 'gorzdrav@kamensk.donpac.ru', '+78636542775', '', '27.06.2025', '31.12.2025')\n"
     ]
    },
    {
     "name": "stderr",
     "output_type": "stream",
     "text": [
      "INFO:sqlalchemy.engine.Engine:[insertmanyvalues 41/72 (unordered)] ('00661200000000000', 'ГОСУДАРСТВЕННОЕ БЮДЖЕТНОЕ УЧРЕЖДЕНИЕ ЗДРАВООХРАНЕНИЯ ПЕРМСКОГО КРАЯ \"ГОРОДСКАЯ ДЕТСКАЯ КЛИНИЧЕСКАЯ ПОЛИКЛИНИКА № 5\"', 'ГБУЗ ПК \"ГДКП № 5\"', '5905253670', '590501001', '1075905007474', '1.2.643.5.1.13.13.12.2.59.5974', '75203', '13', '614066, край Пермский, г Пермь, ул Советской Армии, д 10', '8dfef7bb-4b06-47d9-a8ba-a33e2577abec', '57000000000', 'permgdkp5@lpu.perm.ru', '+73422280951', '', '15.07.2025', '31.12.2025', '00661300000000000', 'ОБЩЕСТВО С ОГРАНИЧЕННОЙ ОТВЕТСТВЕННОСТЬЮ \"ЕВРОПЕЙСКАЯ СТОМАТОЛОГИЯ \"МЕДИУМ\"', 'ООО \"ЕС \"МЕДИУМ\"', '5905247405', '590501001', '1075905000170', '1.2.643.5.1.13.13.12.2.59.9245', '12300', '16', '614066, край Пермский, г Пермь, ул Снайперов, д 1', 'e9ce9cfe-32fa-4c08-9793-69ec1605d264', '57000000000', 'PERMMEDIUM@LPU.PERM.RU', '+73422581414', '', '15.07.2025', '31.12.2025', '00661400000000000', 'ОБЩЕСТВО С ОГРАНИЧЕННОЙ ОТВЕТСТВЕННОСТЬЮ \"МАМА\"', 'ООО \"МАМА\"', '5905235047', '590501001', '1055902840839', '1.2.643.5.1.13.13.12.2.59.5828', '12300', '16', '614095, край Пермский, г Пермь, ул Лизы Чайкиной, д 22, кв 2', '9acb4b3e-9581-493f-9205-787f321d227c', '57000000000', 'PERMMAMA@LPU.PERM.RU', '+73422366767', '', '15.07.2025' ... 1991 parameters truncated ... 'ГОСУДАРСТВЕННОЕ БЮДЖЕТНОЕ УЧРЕЖДЕНИЕ РОСТОВСКОЙ ОБЛАСТИ \"ЦЕНТРАЛЬНАЯ ГОРОДСКАЯ БОЛЬНИЦА\" В Г. ДОНЕЦКЕ', 'ГБУ РО \"ЦГБ\" В Г. ДОНЕЦКЕ', '6145000407', '614501001', '1026102061270', '1.2.643.5.1.13.13.12.2.61.6254', '75203', '13', '346330, обл Ростовская, г Донецк, ул Суворова, д 35', 'c48dce6f-595c-45a4-980a-67ee3fdeca28', '60000000000', 'torgi@dongb.ru', '+78636859510', '', '27.06.2025', '31.12.2025', '00676200000000000', 'ГОСУДАРСТВЕННОЕ БЮДЖЕТНОЕ УЧРЕЖДЕНИЕ РОСТОВСКОЙ ОБЛАСТИ \"ЦЕНТРАЛЬНАЯ ГОРОДСКАЯ БОЛЬНИЦА\" В Г. ЗВЕРЕВО', 'ГБУ РО \"ЦГБ\" В Г. ЗВЕРЕВО', '6146000745', '614601001', '1026102081268', '1.2.643.5.1.13.13.12.2.61.6211', '75203', '13', '346312, обл Ростовская, г Зверево, ул Обухова, д 21', '37d46546-8718-4314-b4d0-09d9ff175d7d', '60000000000', 'muzcgb-gukovo@yandex.ru', '+79508634692', '', '27.06.2025', '31.12.2025', '00676300000000000', 'ГОСУДАРСТВЕННОЕ БЮДЖЕТНОЕ УЧРЕЖДЕНИЕ РОСТОВСКОЙ ОБЛАСТИ \"ЦЕНТРАЛЬНАЯ ГОРОДСКАЯ БОЛЬНИЦА\" В Г. КАМЕНСК-ШАХТИНСКОМ', 'ГБУ РО \"ЦГБ\" В Г. КАМЕНСК-ШАХТИНСКОМ', '6147004118', '614701001', '1026102106777', '1.2.643.5.1.13.13.12.2.61.6273', '75203', '13', '347805, обл Ростовская, г Каменск-Шахтинский, пер Садовый, д 3', '8e59acdb-db9b-451e-8887-a92ddc37dcdf', '60000000000', 'gorzdrav@kamensk.donpac.ru', '+78636542775', '', '27.06.2025', '31.12.2025')\n"
     ]
    },
    {
     "name": "stdout",
     "output_type": "stream",
     "text": [
      "2025-09-03 16:03:25,348 INFO sqlalchemy.engine.Engine INSERT INTO nsi.[ERMO] ([IDMO], [NAM_MOP], [NAM_MOK], [INN], [KPP], [OGRN], [OID_MO], [OKOPF], [OKFS], [ADDR_J], [ADDR_J_GAR], [OKTMO], [EMAIL], [PHONE], [FAX], [DATEBEG], [DATEEND]) VALUES (?, ?, ?, ?, ?, ?, ?, ?, ?, ?, ?, ?, ?, ?, ?, ?, ?), (?, ?,  ... 6357 characters truncated ... ?, ?, ?, ?, ?, ?, ?, ?, ?, ?, ?, ?, ?, ?, ?, ?), (?, ?, ?, ?, ?, ?, ?, ?, ?, ?, ?, ?, ?, ?, ?, ?, ?)\n"
     ]
    },
    {
     "name": "stderr",
     "output_type": "stream",
     "text": [
      "INFO:sqlalchemy.engine.Engine:INSERT INTO nsi.[ERMO] ([IDMO], [NAM_MOP], [NAM_MOK], [INN], [KPP], [OGRN], [OID_MO], [OKOPF], [OKFS], [ADDR_J], [ADDR_J_GAR], [OKTMO], [EMAIL], [PHONE], [FAX], [DATEBEG], [DATEEND]) VALUES (?, ?, ?, ?, ?, ?, ?, ?, ?, ?, ?, ?, ?, ?, ?, ?, ?), (?, ?,  ... 6357 characters truncated ... ?, ?, ?, ?, ?, ?, ?, ?, ?, ?, ?, ?, ?, ?, ?, ?), (?, ?, ?, ?, ?, ?, ?, ?, ?, ?, ?, ?, ?, ?, ?, ?, ?)\n"
     ]
    },
    {
     "name": "stdout",
     "output_type": "stream",
     "text": [
      "2025-09-03 16:03:25,351 INFO sqlalchemy.engine.Engine [insertmanyvalues 42/72 (unordered)] ('00676400000000000', 'ГОСУДАРСТВЕННОЕ БЮДЖЕТНОЕ УЧРЕЖДЕНИЕ РОСТОВСКОЙ ОБЛАСТИ \"ГОРОДСКАЯ БОЛЬНИЦА № 1\" В Г. КАМЕНСК-ШАХТИНСКОМ', 'ГБУ РО \"ГБ № 1\" В Г. КАМЕНСК-ШАХТИНСКОМ', '6147005859', '614701001', '1026102103928', '1.2.643.5.1.13.13.12.2.61.6286', '75203', '13', '347801, обл Ростовская, г Каменск-Шахтинский, ул Декабристов, д 4', '2a8773cf-b3cc-40c3-b048-d66a2933c040', '60000000000', 'muzgbbuh@kamensk.donpac.ru', '+78636575106', '', '22.07.2025', '31.12.2025', '00676500000000000', 'ГОСУДАРСТВЕННОЕ БЮДЖЕТНОЕ УЧРЕЖДЕНИЕ РОСТОВСКОЙ ОБЛАСТИ \"ГОРОДСКАЯ ПОЛИКЛИНИКА № 1\" В Г. КАМЕНСК-ШАХТИНСКОМ', 'ГБУ РО \"ГП № 1\" В Г. КАМЕНСК-ШАХТИНСКОМ', '6147014807', '614701001', '1026102110760', '1.2.643.5.1.13.13.12.2.61.6192', '75203', '13', '347825, обл Ростовская, г Каменск-Шахтинский, мкр Заводской, ул Больничная, д 12', 'dd4c5c17-9471-4dfc-800a-81d72325edf7', '60000000000', 'Iwan.gp@yandex.ru', '+78636564334', '', '27.06.2025', '31.12.2025', '00676600000000000', 'ГОСУДАРСТВЕННОЕ БЮДЖЕТНОЕ УЧРЕЖДЕНИЕ РОСТОВСКОЙ ОБЛАСТИ \"СТОМАТОЛОГИЧЕСКАЯ ПОЛИКЛИНИКА\" В Г. КАМЕНСК-ШАХТИНСКОМ', 'ГБУ РО \"СП\" В Г. КАМЕНСК-ШАХТИНСКОМ', '6147014797', '614701001', '1026102103565', '1.2.643.5.1.13.13.12.2.61.6175', '75203', '13', '347810, обл Ростовская, г Каменск-Шахтинский, пер Придорожный, д 45', 'dae83978-e2f7-4d53-ba52-6e26f9012396', '60000000000', 'stomatol.kam@kamensk.donpac.ru', '+78636576820', '', '27.06.2025' ... 1991 parameters truncated ... 'ГОСУДАРСТВЕННОЕ БЮДЖЕТНОЕ УЧРЕЖДЕНИЕ РОСТОВСКОЙ ОБЛАСТИ \"ЛЕЧЕБНО-РЕАБИЛИТАЦИОННЫЙ ЦЕНТР № 2\"', 'ГБУ РО \"ЛРЦ № 2\"', '6155030633', '615501001', '1026102782628', '1.2.643.5.1.13.13.12.2.61.6177', '75203', '13', '346510, обл Ростовская, г Шахты, пер Дубинина, д 4', '995e0072-7328-4742-9d00-2c464dae9485', '60000000000', 'centreab@yandex.ru', '+78636231063', '', '19.06.2025', '31.12.2025', '00689100000000000', 'ГОСУДАРСТВЕННОЕ БЮДЖЕТНОЕ УЧРЕЖДЕНИЕ РОСТОВСКОЙ ОБЛАСТИ \"ОБЛАСТНАЯ КЛИНИЧЕСКАЯ БОЛЬНИЦА № 2\"', 'ГБУ РО \"ОКБ № 2\"', '6166043874', '616601001', '1026104031953', '1.2.643.5.1.13.13.12.2.61.6337', '75203', '13', '344029, обл Ростовская, г Ростов-на-Дону, ул 1-й Конной Армии, д 33', '696d749b-a6ee-4ac4-95b8-e3a76508c383', '60000000000', 'ob2p@mail.ru', '+78632520758', '', '20.06.2025', '31.12.2025', '00689200000000000', 'ГОСУДАРСТВЕННОЕ БЮДЖЕТНОЕ УЧРЕЖДЕНИЕ РОСТОВСКОЙ ОБЛАСТИ \"ПЕРИНАТАЛЬНЫЙ ЦЕНТР\"', 'ГБУ РО \"ПЦ\"', '6161053565', '616101001', '1086161756273', '1.2.643.5.1.13.13.12.2.61.6326', '75203', '13', '344068, обл Ростовская, г Ростов-на-Дону, ул Бодрая, д 90', '1993d3af-dfe8-4f1e-8489-c2a210c8771e', '60000000000', 'perinatal-rost@mail.ru', '+78632355057', '', '29.07.2025', '31.12.2025')\n"
     ]
    },
    {
     "name": "stderr",
     "output_type": "stream",
     "text": [
      "INFO:sqlalchemy.engine.Engine:[insertmanyvalues 42/72 (unordered)] ('00676400000000000', 'ГОСУДАРСТВЕННОЕ БЮДЖЕТНОЕ УЧРЕЖДЕНИЕ РОСТОВСКОЙ ОБЛАСТИ \"ГОРОДСКАЯ БОЛЬНИЦА № 1\" В Г. КАМЕНСК-ШАХТИНСКОМ', 'ГБУ РО \"ГБ № 1\" В Г. КАМЕНСК-ШАХТИНСКОМ', '6147005859', '614701001', '1026102103928', '1.2.643.5.1.13.13.12.2.61.6286', '75203', '13', '347801, обл Ростовская, г Каменск-Шахтинский, ул Декабристов, д 4', '2a8773cf-b3cc-40c3-b048-d66a2933c040', '60000000000', 'muzgbbuh@kamensk.donpac.ru', '+78636575106', '', '22.07.2025', '31.12.2025', '00676500000000000', 'ГОСУДАРСТВЕННОЕ БЮДЖЕТНОЕ УЧРЕЖДЕНИЕ РОСТОВСКОЙ ОБЛАСТИ \"ГОРОДСКАЯ ПОЛИКЛИНИКА № 1\" В Г. КАМЕНСК-ШАХТИНСКОМ', 'ГБУ РО \"ГП № 1\" В Г. КАМЕНСК-ШАХТИНСКОМ', '6147014807', '614701001', '1026102110760', '1.2.643.5.1.13.13.12.2.61.6192', '75203', '13', '347825, обл Ростовская, г Каменск-Шахтинский, мкр Заводской, ул Больничная, д 12', 'dd4c5c17-9471-4dfc-800a-81d72325edf7', '60000000000', 'Iwan.gp@yandex.ru', '+78636564334', '', '27.06.2025', '31.12.2025', '00676600000000000', 'ГОСУДАРСТВЕННОЕ БЮДЖЕТНОЕ УЧРЕЖДЕНИЕ РОСТОВСКОЙ ОБЛАСТИ \"СТОМАТОЛОГИЧЕСКАЯ ПОЛИКЛИНИКА\" В Г. КАМЕНСК-ШАХТИНСКОМ', 'ГБУ РО \"СП\" В Г. КАМЕНСК-ШАХТИНСКОМ', '6147014797', '614701001', '1026102103565', '1.2.643.5.1.13.13.12.2.61.6175', '75203', '13', '347810, обл Ростовская, г Каменск-Шахтинский, пер Придорожный, д 45', 'dae83978-e2f7-4d53-ba52-6e26f9012396', '60000000000', 'stomatol.kam@kamensk.donpac.ru', '+78636576820', '', '27.06.2025' ... 1991 parameters truncated ... 'ГОСУДАРСТВЕННОЕ БЮДЖЕТНОЕ УЧРЕЖДЕНИЕ РОСТОВСКОЙ ОБЛАСТИ \"ЛЕЧЕБНО-РЕАБИЛИТАЦИОННЫЙ ЦЕНТР № 2\"', 'ГБУ РО \"ЛРЦ № 2\"', '6155030633', '615501001', '1026102782628', '1.2.643.5.1.13.13.12.2.61.6177', '75203', '13', '346510, обл Ростовская, г Шахты, пер Дубинина, д 4', '995e0072-7328-4742-9d00-2c464dae9485', '60000000000', 'centreab@yandex.ru', '+78636231063', '', '19.06.2025', '31.12.2025', '00689100000000000', 'ГОСУДАРСТВЕННОЕ БЮДЖЕТНОЕ УЧРЕЖДЕНИЕ РОСТОВСКОЙ ОБЛАСТИ \"ОБЛАСТНАЯ КЛИНИЧЕСКАЯ БОЛЬНИЦА № 2\"', 'ГБУ РО \"ОКБ № 2\"', '6166043874', '616601001', '1026104031953', '1.2.643.5.1.13.13.12.2.61.6337', '75203', '13', '344029, обл Ростовская, г Ростов-на-Дону, ул 1-й Конной Армии, д 33', '696d749b-a6ee-4ac4-95b8-e3a76508c383', '60000000000', 'ob2p@mail.ru', '+78632520758', '', '20.06.2025', '31.12.2025', '00689200000000000', 'ГОСУДАРСТВЕННОЕ БЮДЖЕТНОЕ УЧРЕЖДЕНИЕ РОСТОВСКОЙ ОБЛАСТИ \"ПЕРИНАТАЛЬНЫЙ ЦЕНТР\"', 'ГБУ РО \"ПЦ\"', '6161053565', '616101001', '1086161756273', '1.2.643.5.1.13.13.12.2.61.6326', '75203', '13', '344068, обл Ростовская, г Ростов-на-Дону, ул Бодрая, д 90', '1993d3af-dfe8-4f1e-8489-c2a210c8771e', '60000000000', 'perinatal-rost@mail.ru', '+78632355057', '', '29.07.2025', '31.12.2025')\n"
     ]
    },
    {
     "name": "stdout",
     "output_type": "stream",
     "text": [
      "2025-09-03 16:03:25,462 INFO sqlalchemy.engine.Engine INSERT INTO nsi.[ERMO] ([IDMO], [NAM_MOP], [NAM_MOK], [INN], [KPP], [OGRN], [OID_MO], [OKOPF], [OKFS], [ADDR_J], [ADDR_J_GAR], [OKTMO], [EMAIL], [PHONE], [FAX], [DATEBEG], [DATEEND]) VALUES (?, ?, ?, ?, ?, ?, ?, ?, ?, ?, ?, ?, ?, ?, ?, ?, ?), (?, ?,  ... 6357 characters truncated ... ?, ?, ?, ?, ?, ?, ?, ?, ?, ?, ?, ?, ?, ?, ?, ?), (?, ?, ?, ?, ?, ?, ?, ?, ?, ?, ?, ?, ?, ?, ?, ?, ?)\n"
     ]
    },
    {
     "name": "stderr",
     "output_type": "stream",
     "text": [
      "INFO:sqlalchemy.engine.Engine:INSERT INTO nsi.[ERMO] ([IDMO], [NAM_MOP], [NAM_MOK], [INN], [KPP], [OGRN], [OID_MO], [OKOPF], [OKFS], [ADDR_J], [ADDR_J_GAR], [OKTMO], [EMAIL], [PHONE], [FAX], [DATEBEG], [DATEEND]) VALUES (?, ?, ?, ?, ?, ?, ?, ?, ?, ?, ?, ?, ?, ?, ?, ?, ?), (?, ?,  ... 6357 characters truncated ... ?, ?, ?, ?, ?, ?, ?, ?, ?, ?, ?, ?, ?, ?, ?, ?), (?, ?, ?, ?, ?, ?, ?, ?, ?, ?, ?, ?, ?, ?, ?, ?, ?)\n"
     ]
    },
    {
     "name": "stdout",
     "output_type": "stream",
     "text": [
      "2025-09-03 16:03:25,464 INFO sqlalchemy.engine.Engine [insertmanyvalues 43/72 (unordered)] ('00689300000000000', 'ГОСУДАРСТВЕННОЕ БЮДЖЕТНОЕ  УЧРЕЖДЕНИЕ РОСТОВСКОЙ ОБЛАСТИ \"ОНКОЛОГИЧЕСКИЙ ДИСПАНСЕР\"', 'ГБУ РО \"ОНКОДИСПАНСЕР\"', '6165023530', '616301001', '1026103731356', '1.2.643.5.1.13.13.12.2.61.6321', '75203', '13', '344006, обл Ростовская, г Ростов-на-Дону, пр-кт Соколова, д 9', '0f8ae0d7-5d59-4f0e-a60a-47f7b95bcee5', '60000000000', 'onkorostov@bk.ru', '+78632613148', '', '20.06.2025', '31.12.2025', '00689900000000000', 'ФЕДЕРАЛЬНОЕ ГОСУДАРСТВЕННОЕ БЮДЖЕТНОЕ ОБРАЗОВАТЕЛЬНОЕ УЧРЕЖДЕНИЕ ВЫСШЕГО ОБРАЗОВАНИЯ \"РОСТОВСКИЙ ГОСУДАРСТВЕННЫЙ МЕДИЦИНСКИЙ УНИВЕРСИТЕТ\" МИНИСТЕРСТВА ЗДРАВООХРАНЕНИЯ РОССИЙСКОЙ ФЕДЕРАЦИИ', 'ФГБОУ ВО РОСТГМУ МИНЗДРАВА РОССИИ', '6163032850', '616301001', '1026103165736', '1.2.643.5.1.13.13.12.2.61.6257', '75103', '12', '344022, обл Ростовская, г Ростов-на-Дону, пер Нахичеванский, д 29', '6accbabc-2fb0-410e-97ac-e6c24a6643e8', '60000000000', 'okt@rostgmu.ru', '+78632504200', '', '20.06.2025', '31.12.2025', '00690000000000000', 'ФЕДЕРАЛЬНОЕ ГОСУДАРСТВЕННОЕ БЮДЖЕТНОЕ УЧРЕЖДЕНИЕ \"НАЦИОНАЛЬНЫЙ МЕДИЦИНСКИЙ ИССЛЕДОВАТЕЛЬСКИЙ ЦЕНТР ОНКОЛОГИИ\" МИНИСТЕРСТВА ЗДРАВООХРАНЕНИЯ РОССИЙСКОЙ ФЕДЕРАЦИИ', 'ФГБУ \"НМИЦ ОНКОЛОГИИ\" МИНЗДРАВА РОССИИ', '6167034142', '616701001', '1026104161423', '1.2.643.5.1.13.13.12.2.61.6243', '75103', '12', '344037, обл Ростовская, г Ростов-на-Дону, ул 14-я линия, д 63', '1d56a6ea-cb19-4533-bacb-c4e712bdeb2b', '60000000000', 'onko-ug@aaanet.ru', '+78632001000', '', '19.06.2025' ... 1991 parameters truncated ... 'ЧАСТНОЕ УЧРЕЖДЕНИЕ ЗДРАВООХРАНЕНИЯ \"БОЛЬНИЦА \"РЖД-МЕДИЦИНА\" ГОРОДА РЯЗАНИ\"', 'ЧУЗ \"РЖД-МЕДИЦИНА\" Г. РЯЗАНИ\"', '6213007033', '621301001', '1046216003052', '1.2.643.5.1.13.13.12.2.62.6423', '75500', '16', '391111, обл Рязанская, р-н Рыбновский, г Рыбное, ул Комсомольская, д 14', '0e7cd40d-fa4c-46ad-acf1-cf2a105ccadb', '61000000000', 'main@medrybnoe.ru', '+74912776763', '', '12.03.2025', '31.12.2025', '00706600000000000', 'ФЕДЕРАЛЬНОЕ КАЗЕННОЕ УЧРЕЖДЕНИЕ ЗДРАВООХРАНЕНИЯ \"МЕДИКО-САНИТАРНАЯ ЧАСТЬ № 62 ФЕДЕРАЛЬНОЙ СЛУЖБЫ ИСПОЛНЕНИЯ НАКАЗАНИЙ\"', 'ФКУЗ МСЧ-62 ФСИН РОССИИ', '6231013791', '623401001', '1026201268158', '1.2.643.5.1.13.13.12.2.62.6428', '75104', '12', '390006, обл Рязанская, г Рязань, проезд Речников, д 4', '31bc7a09-9923-4f70-89db-5497dd51d616', '61000000000', 'msch62@62.fsin.gov.ru', '+74912971077', '', '12.03.2025', '31.12.2025', '00706700000000000', 'ФЕДЕРАЛЬНОЕ КАЗЕННОЕ УЧРЕЖДЕНИЕ ЗДРАВООХРАНЕНИЯ \"МЕДИКО-САНИТАРНАЯ ЧАСТЬ МИНИСТЕРСТВА ВНУТРЕННИХ ДЕЛ РОССИЙСКОЙ ФЕДЕРАЦИИ ПО РЯЗАНСКОЙ ОБЛАСТИ\"', 'ФКУЗ \"МСЧ МВД РОССИИ ПО РЯЗАНСКОЙ ОБЛАСТИ\"', '6234023854', '623401001', '1066234004550', '1.2.643.5.1.13.13.12.2.62.6426', '75104', '12', '390046, обл Рязанская, г Рязань, ул Полевая, д 32', '2f2b9934-2adb-4178-bf09-de5a6c301464', '61000000000', 'mchuvd-ryazan@yandex.ru', '+74912252843', '', '15.08.2025', '31.12.2025')\n"
     ]
    },
    {
     "name": "stderr",
     "output_type": "stream",
     "text": [
      "INFO:sqlalchemy.engine.Engine:[insertmanyvalues 43/72 (unordered)] ('00689300000000000', 'ГОСУДАРСТВЕННОЕ БЮДЖЕТНОЕ  УЧРЕЖДЕНИЕ РОСТОВСКОЙ ОБЛАСТИ \"ОНКОЛОГИЧЕСКИЙ ДИСПАНСЕР\"', 'ГБУ РО \"ОНКОДИСПАНСЕР\"', '6165023530', '616301001', '1026103731356', '1.2.643.5.1.13.13.12.2.61.6321', '75203', '13', '344006, обл Ростовская, г Ростов-на-Дону, пр-кт Соколова, д 9', '0f8ae0d7-5d59-4f0e-a60a-47f7b95bcee5', '60000000000', 'onkorostov@bk.ru', '+78632613148', '', '20.06.2025', '31.12.2025', '00689900000000000', 'ФЕДЕРАЛЬНОЕ ГОСУДАРСТВЕННОЕ БЮДЖЕТНОЕ ОБРАЗОВАТЕЛЬНОЕ УЧРЕЖДЕНИЕ ВЫСШЕГО ОБРАЗОВАНИЯ \"РОСТОВСКИЙ ГОСУДАРСТВЕННЫЙ МЕДИЦИНСКИЙ УНИВЕРСИТЕТ\" МИНИСТЕРСТВА ЗДРАВООХРАНЕНИЯ РОССИЙСКОЙ ФЕДЕРАЦИИ', 'ФГБОУ ВО РОСТГМУ МИНЗДРАВА РОССИИ', '6163032850', '616301001', '1026103165736', '1.2.643.5.1.13.13.12.2.61.6257', '75103', '12', '344022, обл Ростовская, г Ростов-на-Дону, пер Нахичеванский, д 29', '6accbabc-2fb0-410e-97ac-e6c24a6643e8', '60000000000', 'okt@rostgmu.ru', '+78632504200', '', '20.06.2025', '31.12.2025', '00690000000000000', 'ФЕДЕРАЛЬНОЕ ГОСУДАРСТВЕННОЕ БЮДЖЕТНОЕ УЧРЕЖДЕНИЕ \"НАЦИОНАЛЬНЫЙ МЕДИЦИНСКИЙ ИССЛЕДОВАТЕЛЬСКИЙ ЦЕНТР ОНКОЛОГИИ\" МИНИСТЕРСТВА ЗДРАВООХРАНЕНИЯ РОССИЙСКОЙ ФЕДЕРАЦИИ', 'ФГБУ \"НМИЦ ОНКОЛОГИИ\" МИНЗДРАВА РОССИИ', '6167034142', '616701001', '1026104161423', '1.2.643.5.1.13.13.12.2.61.6243', '75103', '12', '344037, обл Ростовская, г Ростов-на-Дону, ул 14-я линия, д 63', '1d56a6ea-cb19-4533-bacb-c4e712bdeb2b', '60000000000', 'onko-ug@aaanet.ru', '+78632001000', '', '19.06.2025' ... 1991 parameters truncated ... 'ЧАСТНОЕ УЧРЕЖДЕНИЕ ЗДРАВООХРАНЕНИЯ \"БОЛЬНИЦА \"РЖД-МЕДИЦИНА\" ГОРОДА РЯЗАНИ\"', 'ЧУЗ \"РЖД-МЕДИЦИНА\" Г. РЯЗАНИ\"', '6213007033', '621301001', '1046216003052', '1.2.643.5.1.13.13.12.2.62.6423', '75500', '16', '391111, обл Рязанская, р-н Рыбновский, г Рыбное, ул Комсомольская, д 14', '0e7cd40d-fa4c-46ad-acf1-cf2a105ccadb', '61000000000', 'main@medrybnoe.ru', '+74912776763', '', '12.03.2025', '31.12.2025', '00706600000000000', 'ФЕДЕРАЛЬНОЕ КАЗЕННОЕ УЧРЕЖДЕНИЕ ЗДРАВООХРАНЕНИЯ \"МЕДИКО-САНИТАРНАЯ ЧАСТЬ № 62 ФЕДЕРАЛЬНОЙ СЛУЖБЫ ИСПОЛНЕНИЯ НАКАЗАНИЙ\"', 'ФКУЗ МСЧ-62 ФСИН РОССИИ', '6231013791', '623401001', '1026201268158', '1.2.643.5.1.13.13.12.2.62.6428', '75104', '12', '390006, обл Рязанская, г Рязань, проезд Речников, д 4', '31bc7a09-9923-4f70-89db-5497dd51d616', '61000000000', 'msch62@62.fsin.gov.ru', '+74912971077', '', '12.03.2025', '31.12.2025', '00706700000000000', 'ФЕДЕРАЛЬНОЕ КАЗЕННОЕ УЧРЕЖДЕНИЕ ЗДРАВООХРАНЕНИЯ \"МЕДИКО-САНИТАРНАЯ ЧАСТЬ МИНИСТЕРСТВА ВНУТРЕННИХ ДЕЛ РОССИЙСКОЙ ФЕДЕРАЦИИ ПО РЯЗАНСКОЙ ОБЛАСТИ\"', 'ФКУЗ \"МСЧ МВД РОССИИ ПО РЯЗАНСКОЙ ОБЛАСТИ\"', '6234023854', '623401001', '1066234004550', '1.2.643.5.1.13.13.12.2.62.6426', '75104', '12', '390046, обл Рязанская, г Рязань, ул Полевая, д 32', '2f2b9934-2adb-4178-bf09-de5a6c301464', '61000000000', 'mchuvd-ryazan@yandex.ru', '+74912252843', '', '15.08.2025', '31.12.2025')\n"
     ]
    },
    {
     "name": "stdout",
     "output_type": "stream",
     "text": [
      "2025-09-03 16:03:25,574 INFO sqlalchemy.engine.Engine INSERT INTO nsi.[ERMO] ([IDMO], [NAM_MOP], [NAM_MOK], [INN], [KPP], [OGRN], [OID_MO], [OKOPF], [OKFS], [ADDR_J], [ADDR_J_GAR], [OKTMO], [EMAIL], [PHONE], [FAX], [DATEBEG], [DATEEND]) VALUES (?, ?, ?, ?, ?, ?, ?, ?, ?, ?, ?, ?, ?, ?, ?, ?, ?), (?, ?,  ... 6357 characters truncated ... ?, ?, ?, ?, ?, ?, ?, ?, ?, ?, ?, ?, ?, ?, ?, ?), (?, ?, ?, ?, ?, ?, ?, ?, ?, ?, ?, ?, ?, ?, ?, ?, ?)\n"
     ]
    },
    {
     "name": "stderr",
     "output_type": "stream",
     "text": [
      "INFO:sqlalchemy.engine.Engine:INSERT INTO nsi.[ERMO] ([IDMO], [NAM_MOP], [NAM_MOK], [INN], [KPP], [OGRN], [OID_MO], [OKOPF], [OKFS], [ADDR_J], [ADDR_J_GAR], [OKTMO], [EMAIL], [PHONE], [FAX], [DATEBEG], [DATEEND]) VALUES (?, ?, ?, ?, ?, ?, ?, ?, ?, ?, ?, ?, ?, ?, ?, ?, ?), (?, ?,  ... 6357 characters truncated ... ?, ?, ?, ?, ?, ?, ?, ?, ?, ?, ?, ?, ?, ?, ?, ?), (?, ?, ?, ?, ?, ?, ?, ?, ?, ?, ?, ?, ?, ?, ?, ?, ?)\n"
     ]
    },
    {
     "name": "stdout",
     "output_type": "stream",
     "text": [
      "2025-09-03 16:03:25,577 INFO sqlalchemy.engine.Engine [insertmanyvalues 44/72 (unordered)] ('00706900000000000', 'ГОСУДАРСТВЕННОЕ БЮДЖЕТНОЕ УЧРЕЖДЕНИЕ РЯЗАНСКОЙ ОБЛАСТИ \"ГОРОДСКАЯ ДЕТСКАЯ ПОЛИКЛИНИКА № 2\"', 'ГБУ РО \"ГДП № 2\"', '6230010830', '623001001', '1026201107151', '1.2.643.5.1.13.13.12.2.62.6392', '75203', '13', '390023, обл Рязанская, г Рязань, ул Циолковского, д 10', 'daa05b01-63a2-47aa-b19d-49974a165182', '61000000000', 'gdp2@ryazan.gov.ru', '+74912445596', '', '01.09.2025', '31.12.2025', '00707000000000000', 'ГОСУДАРСТВЕННОЕ БЮДЖЕТНОЕ УЧРЕЖДЕНИЕ РЯЗАНСКОЙ ОБЛАСТИ \"ГОРОДСКАЯ ДЕТСКАЯ ПОЛИКЛИНИКА № 3\"', 'ГБУ РО \"ГОРОДСКАЯ ДЕТСКАЯ ПОЛИКЛИНИКА № 3\"', '6229019108', '622901001', '1026201080575', '1.2.643.5.1.13.13.12.2.62.6355', '75203', '13', '390039, обл Рязанская, г Рязань, ул Интернациональная, д 1в', 'c83af0a2-9444-4824-a3f4-4b7feba03741', '61000000000', 'gdp3@ryazan.gov.ru', '+74912337123', '', '25.08.2025', '31.12.2025', '00707200000000000', 'ОБЩЕСТВО С ОГРАНИЧЕННОЙ ОТВЕТСТВЕННОСТЬЮ \"МЕДЭКСПРЕСС\"', 'ООО \"МЕДЭКСПРЕСС\"', '6230058359', '623001001', '1076230005664', '1.2.643.5.1.13.13.12.2.62.20920', '12300', '16', '390005, обл Рязанская, г Рязань, ул Семашко, д 3', '5b6c323d-70b9-4aae-af12-783baac7f574', '61000000000', 'KASHIRINA1989@MAIL.RU', '+79537438102', '', '13.01.2025' ... 1991 parameters truncated ... 'ФЕДЕРАЛЬНОЕ ГОСУДАРСТВЕННОЕ  БЮДЖЕТНОЕ УЧРЕЖДЕНИЕ ЗДРАВООХРАНЕНИЯ \"МЕДИЦИНСКИЙ РЕАБИЛИТАЦИОННЫЙ ЦЕНТР\" СЕРГИЕВСКИЕ МИНЕРАЛЬНЫЕ ВОДЫ\" ФЕДЕРАЛЬНОГО МЕДИКО-БИОЛОГИЧЕСКОГО АГЕНТСТВА\"', 'ФГБУЗ   МРЦ \"СЕРГИЕВСКИЕ МИНЕРАЛЬНЫЕ ВОДЫ\" ФМБА РОССИИ', '6381000103', '638101001', '1036303160013', '1.2.643.5.1.13.13.12.2.63.18575', '75103', '12', '446533, обл Самарская, р-н Сергиевский, п Серноводск, ул Советская, д 63', '45282ab2-367a-4878-bb12-7eb7a2189f02', '36000000000', 'sergmrc@fmbamail.ru', '+78465531674', '', '05.03.2025', '31.12.2025', '00722300000000000', 'УЧРЕЖДЕНИЕ ФЕДЕРАЦИИ ПРОФСОЮЗОВ САМАРСКОЙ ОБЛАСТИ САНАТОРИЙ \"КРАСНАЯ ГЛИНКА\"', 'УФПСО САНАТОРИЙ \"КРАСНАЯ ГЛИНКА\"', '6313081231', '631301001', '1026300841192', '1.2.643.5.1.13.13.12.2.63.20254', '75500', '52', '443048, обл Самарская, г Самара, п Южный, д 37', '8b1e3a7f-5717-4ef5-8fcd-9e6985b43dde', '36000000000', 'SAN.GLINKA@YANDEX.RU', '+78469985566', '', '22.07.2025', '31.12.2025', '00722400000000000', 'ОТКРЫТОЕ АКЦИОНЕРНОЕ ОБЩЕСТВО \"САНАТОРИЙ ИМ. В.П. ЧКАЛОВА\"', 'ОАО \"САНАТОРИЙ ИМ. В.П. ЧКАЛОВА\"', '6319015789', '631901001', '1026301708520', '1.2.643.5.1.13.13.12.2.63.18304', '12247', '49', '443031, обл Самарская, г Самара, тер. Барбошина поляна, просека 9-я, д. -', 'bdb28467-8eb6-40e9-8e42-f01867c5d278', '36000000000', 'SCHKALOVA@MAIL.RU', '+78462211418', '', '25.08.2025', '31.12.2025')\n"
     ]
    },
    {
     "name": "stderr",
     "output_type": "stream",
     "text": [
      "INFO:sqlalchemy.engine.Engine:[insertmanyvalues 44/72 (unordered)] ('00706900000000000', 'ГОСУДАРСТВЕННОЕ БЮДЖЕТНОЕ УЧРЕЖДЕНИЕ РЯЗАНСКОЙ ОБЛАСТИ \"ГОРОДСКАЯ ДЕТСКАЯ ПОЛИКЛИНИКА № 2\"', 'ГБУ РО \"ГДП № 2\"', '6230010830', '623001001', '1026201107151', '1.2.643.5.1.13.13.12.2.62.6392', '75203', '13', '390023, обл Рязанская, г Рязань, ул Циолковского, д 10', 'daa05b01-63a2-47aa-b19d-49974a165182', '61000000000', 'gdp2@ryazan.gov.ru', '+74912445596', '', '01.09.2025', '31.12.2025', '00707000000000000', 'ГОСУДАРСТВЕННОЕ БЮДЖЕТНОЕ УЧРЕЖДЕНИЕ РЯЗАНСКОЙ ОБЛАСТИ \"ГОРОДСКАЯ ДЕТСКАЯ ПОЛИКЛИНИКА № 3\"', 'ГБУ РО \"ГОРОДСКАЯ ДЕТСКАЯ ПОЛИКЛИНИКА № 3\"', '6229019108', '622901001', '1026201080575', '1.2.643.5.1.13.13.12.2.62.6355', '75203', '13', '390039, обл Рязанская, г Рязань, ул Интернациональная, д 1в', 'c83af0a2-9444-4824-a3f4-4b7feba03741', '61000000000', 'gdp3@ryazan.gov.ru', '+74912337123', '', '25.08.2025', '31.12.2025', '00707200000000000', 'ОБЩЕСТВО С ОГРАНИЧЕННОЙ ОТВЕТСТВЕННОСТЬЮ \"МЕДЭКСПРЕСС\"', 'ООО \"МЕДЭКСПРЕСС\"', '6230058359', '623001001', '1076230005664', '1.2.643.5.1.13.13.12.2.62.20920', '12300', '16', '390005, обл Рязанская, г Рязань, ул Семашко, д 3', '5b6c323d-70b9-4aae-af12-783baac7f574', '61000000000', 'KASHIRINA1989@MAIL.RU', '+79537438102', '', '13.01.2025' ... 1991 parameters truncated ... 'ФЕДЕРАЛЬНОЕ ГОСУДАРСТВЕННОЕ  БЮДЖЕТНОЕ УЧРЕЖДЕНИЕ ЗДРАВООХРАНЕНИЯ \"МЕДИЦИНСКИЙ РЕАБИЛИТАЦИОННЫЙ ЦЕНТР\" СЕРГИЕВСКИЕ МИНЕРАЛЬНЫЕ ВОДЫ\" ФЕДЕРАЛЬНОГО МЕДИКО-БИОЛОГИЧЕСКОГО АГЕНТСТВА\"', 'ФГБУЗ   МРЦ \"СЕРГИЕВСКИЕ МИНЕРАЛЬНЫЕ ВОДЫ\" ФМБА РОССИИ', '6381000103', '638101001', '1036303160013', '1.2.643.5.1.13.13.12.2.63.18575', '75103', '12', '446533, обл Самарская, р-н Сергиевский, п Серноводск, ул Советская, д 63', '45282ab2-367a-4878-bb12-7eb7a2189f02', '36000000000', 'sergmrc@fmbamail.ru', '+78465531674', '', '05.03.2025', '31.12.2025', '00722300000000000', 'УЧРЕЖДЕНИЕ ФЕДЕРАЦИИ ПРОФСОЮЗОВ САМАРСКОЙ ОБЛАСТИ САНАТОРИЙ \"КРАСНАЯ ГЛИНКА\"', 'УФПСО САНАТОРИЙ \"КРАСНАЯ ГЛИНКА\"', '6313081231', '631301001', '1026300841192', '1.2.643.5.1.13.13.12.2.63.20254', '75500', '52', '443048, обл Самарская, г Самара, п Южный, д 37', '8b1e3a7f-5717-4ef5-8fcd-9e6985b43dde', '36000000000', 'SAN.GLINKA@YANDEX.RU', '+78469985566', '', '22.07.2025', '31.12.2025', '00722400000000000', 'ОТКРЫТОЕ АКЦИОНЕРНОЕ ОБЩЕСТВО \"САНАТОРИЙ ИМ. В.П. ЧКАЛОВА\"', 'ОАО \"САНАТОРИЙ ИМ. В.П. ЧКАЛОВА\"', '6319015789', '631901001', '1026301708520', '1.2.643.5.1.13.13.12.2.63.18304', '12247', '49', '443031, обл Самарская, г Самара, тер. Барбошина поляна, просека 9-я, д. -', 'bdb28467-8eb6-40e9-8e42-f01867c5d278', '36000000000', 'SCHKALOVA@MAIL.RU', '+78462211418', '', '25.08.2025', '31.12.2025')\n"
     ]
    },
    {
     "name": "stdout",
     "output_type": "stream",
     "text": [
      "2025-09-03 16:03:25,701 INFO sqlalchemy.engine.Engine INSERT INTO nsi.[ERMO] ([IDMO], [NAM_MOP], [NAM_MOK], [INN], [KPP], [OGRN], [OID_MO], [OKOPF], [OKFS], [ADDR_J], [ADDR_J_GAR], [OKTMO], [EMAIL], [PHONE], [FAX], [DATEBEG], [DATEEND]) VALUES (?, ?, ?, ?, ?, ?, ?, ?, ?, ?, ?, ?, ?, ?, ?, ?, ?), (?, ?,  ... 6357 characters truncated ... ?, ?, ?, ?, ?, ?, ?, ?, ?, ?, ?, ?, ?, ?, ?, ?), (?, ?, ?, ?, ?, ?, ?, ?, ?, ?, ?, ?, ?, ?, ?, ?, ?)\n"
     ]
    },
    {
     "name": "stderr",
     "output_type": "stream",
     "text": [
      "INFO:sqlalchemy.engine.Engine:INSERT INTO nsi.[ERMO] ([IDMO], [NAM_MOP], [NAM_MOK], [INN], [KPP], [OGRN], [OID_MO], [OKOPF], [OKFS], [ADDR_J], [ADDR_J_GAR], [OKTMO], [EMAIL], [PHONE], [FAX], [DATEBEG], [DATEEND]) VALUES (?, ?, ?, ?, ?, ?, ?, ?, ?, ?, ?, ?, ?, ?, ?, ?, ?), (?, ?,  ... 6357 characters truncated ... ?, ?, ?, ?, ?, ?, ?, ?, ?, ?, ?, ?, ?, ?, ?, ?), (?, ?, ?, ?, ?, ?, ?, ?, ?, ?, ?, ?, ?, ?, ?, ?, ?)\n"
     ]
    },
    {
     "name": "stdout",
     "output_type": "stream",
     "text": [
      "2025-09-03 16:03:25,702 INFO sqlalchemy.engine.Engine [insertmanyvalues 45/72 (unordered)] ('00722500000000000', 'ОБЩЕСТВО С ОГРАНИЧЕННОЙ ОТВЕТСТВЕННОСТЬЮ \"ЦЕНТР ЭНЕРГО-ИНФОРМАЦИОННОЙ МЕДИЦИНЫ\"', 'ООО \"ЦЕНТР ЭНЕРГО-ИНФОРМАЦИОННОЙ МЕДИЦИНЫ\"', '6315554028', '631501001', '1036300441451', '1.2.643.5.1.13.13.12.2.63.17598', '12300', '16', '443041, обл Самарская, г Самара, ул Братьев Коростелевых, д 140', 'cd52535a-c0a3-4c07-b151-9e8b0eb03af3', '36000000000', 'V888S@MAIL.RU', '+78462630661', '', '29.04.2025', '31.12.2025', '00722600000000000', 'ОБЩЕСТВО С ОГРАНИЧЕННОЙ ОТВЕТСТВЕННОСТЬЮ \"ДИАГНОСТИКА И ЛЕЧЕНИЕ\"', 'ООО \"ДИАГНОСТИКА И ЛЕЧЕНИЕ\"', '6317002216', '631101001', '1026301415238', '1.2.643.5.1.13.13.12.2.63.20398', '12300', '16', '443093, обл Самарская, г Самара, ул Мяги, д 21', '85eeb326-1ae0-4ce6-98af-865f952d09cd', '36000000000', 'S.SERAFIM.TARASOV@GMAIL.COM', '+79022922922', '', '29.04.2025', '31.12.2025', '00722700000000000', 'ОБЩЕСТВО С ОГРАНИЧЕННОЙ ОТВЕТСТВЕННОСТЬЮ \"ТОЛЬЯТТИНСКИЙ ДИАГНОСТИЧЕСКИЙ ЦЕНТР № 1\"', 'ООО \"ТДЦ №1\"', '6323106848', '632401001', '1086320005628', '1.2.643.5.1.13.13.12.2.63.20264', '12300', '16', '445004, обл Самарская, г Тольятти, ул Толстого, д 7', '7e349d6f-2e0f-44b3-804f-a6876e7875aa', '36000000000', 'TDC_1@MAIL.RU', '+78482618816', '', '29.04.2025' ... 1991 parameters truncated ... 'ГОСУДАРСТВЕННОЕ УЧРЕЖДЕНИЕ ЗДРАВООХРАНЕНИЯ САРАТОВСКОЙ ОБЛАСТИ \"ПИТЕРСКАЯ РАЙОННАЯ БОЛЬНИЦА\"', 'ГУЗ СО \"ПИТЕРСКАЯ РБ\"', '6426002544', '642601001', '1026400966316', '1.2.643.5.1.13.13.12.2.64.6585', '75203', '13', '413320, обл Саратовская, р-н Питерский, с Питерка, ул им 40 лет Победы, д 1А', '0fa580f9-ca66-4b3e-a887-81bf09c43c79', '63000000000', 'pcrb770@mai.ru', '+78456121001', '', '11.07.2025', '31.12.2025', '00741000000000000', 'ГОСУДАРСТВЕННОЕ УЧРЕЖДЕНИЕ ЗДРАВООХРАНЕНИЯ САРАТОВСКОЙ ОБЛАСТИ \"ПУГАЧЕВСКАЯ РАЙОННАЯ БОЛЬНИЦА\"', 'ГУЗ СО \"ПУГАЧЕВСКАЯ РБ\"', '6445003335', '644501001', '1026401862112', '1.2.643.5.1.13.13.12.2.64.6661', '75203', '13', '413720, обл Саратовская, г Пугачев, ул Советская, д 142', '52e67e6a-f8a1-420c-9937-daee6eb72bba', '63000000000', 'crb-pugachev@mail.ru', '+78457422111', '', '04.08.2025', '31.12.2025', '00741100000000000', 'ГОСУДАРСТВЕННОЕ УЧРЕЖДЕНИЕ ЗДРАВООХРАНЕНИЯ САРАТОВСКОЙ ОБЛАСТИ \"РОМАНОВСКАЯ РАЙОННАЯ БОЛЬНИЦА\"', 'ГУЗ СО \"РОМАНОВСКАЯ РБ\"', '6430002650', '643001001', '1026401584670', '1.2.643.5.1.13.13.12.2.64.6615', '75203', '13', '412271, обл Саратовская, р-н Романовский, рп Романовка, ул Войно-Ясенецкого, д 4', 'b10dc102-daeb-4efb-8082-12323be7e74d', '63000000000', 'crbromanovka@yandex.ru', '+79603460099', '', '11.07.2025', '31.12.2025')\n"
     ]
    },
    {
     "name": "stderr",
     "output_type": "stream",
     "text": [
      "INFO:sqlalchemy.engine.Engine:[insertmanyvalues 45/72 (unordered)] ('00722500000000000', 'ОБЩЕСТВО С ОГРАНИЧЕННОЙ ОТВЕТСТВЕННОСТЬЮ \"ЦЕНТР ЭНЕРГО-ИНФОРМАЦИОННОЙ МЕДИЦИНЫ\"', 'ООО \"ЦЕНТР ЭНЕРГО-ИНФОРМАЦИОННОЙ МЕДИЦИНЫ\"', '6315554028', '631501001', '1036300441451', '1.2.643.5.1.13.13.12.2.63.17598', '12300', '16', '443041, обл Самарская, г Самара, ул Братьев Коростелевых, д 140', 'cd52535a-c0a3-4c07-b151-9e8b0eb03af3', '36000000000', 'V888S@MAIL.RU', '+78462630661', '', '29.04.2025', '31.12.2025', '00722600000000000', 'ОБЩЕСТВО С ОГРАНИЧЕННОЙ ОТВЕТСТВЕННОСТЬЮ \"ДИАГНОСТИКА И ЛЕЧЕНИЕ\"', 'ООО \"ДИАГНОСТИКА И ЛЕЧЕНИЕ\"', '6317002216', '631101001', '1026301415238', '1.2.643.5.1.13.13.12.2.63.20398', '12300', '16', '443093, обл Самарская, г Самара, ул Мяги, д 21', '85eeb326-1ae0-4ce6-98af-865f952d09cd', '36000000000', 'S.SERAFIM.TARASOV@GMAIL.COM', '+79022922922', '', '29.04.2025', '31.12.2025', '00722700000000000', 'ОБЩЕСТВО С ОГРАНИЧЕННОЙ ОТВЕТСТВЕННОСТЬЮ \"ТОЛЬЯТТИНСКИЙ ДИАГНОСТИЧЕСКИЙ ЦЕНТР № 1\"', 'ООО \"ТДЦ №1\"', '6323106848', '632401001', '1086320005628', '1.2.643.5.1.13.13.12.2.63.20264', '12300', '16', '445004, обл Самарская, г Тольятти, ул Толстого, д 7', '7e349d6f-2e0f-44b3-804f-a6876e7875aa', '36000000000', 'TDC_1@MAIL.RU', '+78482618816', '', '29.04.2025' ... 1991 parameters truncated ... 'ГОСУДАРСТВЕННОЕ УЧРЕЖДЕНИЕ ЗДРАВООХРАНЕНИЯ САРАТОВСКОЙ ОБЛАСТИ \"ПИТЕРСКАЯ РАЙОННАЯ БОЛЬНИЦА\"', 'ГУЗ СО \"ПИТЕРСКАЯ РБ\"', '6426002544', '642601001', '1026400966316', '1.2.643.5.1.13.13.12.2.64.6585', '75203', '13', '413320, обл Саратовская, р-н Питерский, с Питерка, ул им 40 лет Победы, д 1А', '0fa580f9-ca66-4b3e-a887-81bf09c43c79', '63000000000', 'pcrb770@mai.ru', '+78456121001', '', '11.07.2025', '31.12.2025', '00741000000000000', 'ГОСУДАРСТВЕННОЕ УЧРЕЖДЕНИЕ ЗДРАВООХРАНЕНИЯ САРАТОВСКОЙ ОБЛАСТИ \"ПУГАЧЕВСКАЯ РАЙОННАЯ БОЛЬНИЦА\"', 'ГУЗ СО \"ПУГАЧЕВСКАЯ РБ\"', '6445003335', '644501001', '1026401862112', '1.2.643.5.1.13.13.12.2.64.6661', '75203', '13', '413720, обл Саратовская, г Пугачев, ул Советская, д 142', '52e67e6a-f8a1-420c-9937-daee6eb72bba', '63000000000', 'crb-pugachev@mail.ru', '+78457422111', '', '04.08.2025', '31.12.2025', '00741100000000000', 'ГОСУДАРСТВЕННОЕ УЧРЕЖДЕНИЕ ЗДРАВООХРАНЕНИЯ САРАТОВСКОЙ ОБЛАСТИ \"РОМАНОВСКАЯ РАЙОННАЯ БОЛЬНИЦА\"', 'ГУЗ СО \"РОМАНОВСКАЯ РБ\"', '6430002650', '643001001', '1026401584670', '1.2.643.5.1.13.13.12.2.64.6615', '75203', '13', '412271, обл Саратовская, р-н Романовский, рп Романовка, ул Войно-Ясенецкого, д 4', 'b10dc102-daeb-4efb-8082-12323be7e74d', '63000000000', 'crbromanovka@yandex.ru', '+79603460099', '', '11.07.2025', '31.12.2025')\n"
     ]
    },
    {
     "name": "stdout",
     "output_type": "stream",
     "text": [
      "2025-09-03 16:03:25,837 INFO sqlalchemy.engine.Engine INSERT INTO nsi.[ERMO] ([IDMO], [NAM_MOP], [NAM_MOK], [INN], [KPP], [OGRN], [OID_MO], [OKOPF], [OKFS], [ADDR_J], [ADDR_J_GAR], [OKTMO], [EMAIL], [PHONE], [FAX], [DATEBEG], [DATEEND]) VALUES (?, ?, ?, ?, ?, ?, ?, ?, ?, ?, ?, ?, ?, ?, ?, ?, ?), (?, ?,  ... 6357 characters truncated ... ?, ?, ?, ?, ?, ?, ?, ?, ?, ?, ?, ?, ?, ?, ?, ?), (?, ?, ?, ?, ?, ?, ?, ?, ?, ?, ?, ?, ?, ?, ?, ?, ?)\n"
     ]
    },
    {
     "name": "stderr",
     "output_type": "stream",
     "text": [
      "INFO:sqlalchemy.engine.Engine:INSERT INTO nsi.[ERMO] ([IDMO], [NAM_MOP], [NAM_MOK], [INN], [KPP], [OGRN], [OID_MO], [OKOPF], [OKFS], [ADDR_J], [ADDR_J_GAR], [OKTMO], [EMAIL], [PHONE], [FAX], [DATEBEG], [DATEEND]) VALUES (?, ?, ?, ?, ?, ?, ?, ?, ?, ?, ?, ?, ?, ?, ?, ?, ?), (?, ?,  ... 6357 characters truncated ... ?, ?, ?, ?, ?, ?, ?, ?, ?, ?, ?, ?, ?, ?, ?, ?), (?, ?, ?, ?, ?, ?, ?, ?, ?, ?, ?, ?, ?, ?, ?, ?, ?)\n"
     ]
    },
    {
     "name": "stdout",
     "output_type": "stream",
     "text": [
      "2025-09-03 16:03:25,840 INFO sqlalchemy.engine.Engine [insertmanyvalues 46/72 (unordered)] ('00741200000000000', 'ГОСУДАРСТВЕННОЕ УЧРЕЖДЕНИЕ ЗДРАВООХРАНЕНИЯ САРАТОВСКОЙ ОБЛАСТИ \"РОВЕНСКАЯ РАЙОННАЯ БОЛЬНИЦА\"', 'ГУЗ СО \"РОВЕНСКАЯ РБ\"', '6428002571', '642801001', '1026401987150', '1.2.643.5.1.13.13.12.2.64.6709', '75203', '13', '413270, обл Саратовская, р-н Ровенский, рп Ровное, ул Больничная, д 1', '24bffb97-4537-4a76-8253-fe29621d236c', '63000000000', 'rovrb@mail.ru', '+79616467401', '', '26.08.2025', '31.12.2025', '00741300000000000', 'ГОСУДАРСТВЕННОЕ УЧРЕЖДЕНИЕ ЗДРАВООХРАНЕНИЯ САРАТОВСКОЙ ОБЛАСТИ \"РТИЩЕВСКАЯ РАЙОННАЯ БОЛЬНИЦА\"', 'ГУЗ СО \"РТИЩЕВСКАЯ РБ\"', '6446000506', '644601001', '1026401896400', '1.2.643.5.1.13.13.12.2.64.6561', '75203', '13', '412031, обл Саратовская, г Ртищево, ул Красная, д. 18 стр. 1', 'b420b406-9d72-4e69-a691-13c9a7b6611d', '63000000000', 'rtishcrb12@mail.ru', '+79271047975', '', '19.05.2025', '31.12.2025', '00741500000000000', 'ГОСУДАРСТВЕННОЕ УЧРЕЖДЕНИЕ ЗДРАВООХРАНЕНИЯ САРАТОВСКОЙ ОБЛАСТИ \"САМОЙЛОВСКАЯ РАЙОННАЯ БОЛЬНИЦА\"', 'ГУЗ СО \"САМОЙЛОВСКАЯ РБ\"', '6431001730', '643101001', '1026400784860', '1.2.643.5.1.13.13.12.2.64.6700', '75203', '13', '412370, обл Саратовская, р-н Самойловский, рп Самойловка, ул Пролетарская, зд. 2 к. 1', 'a4406b6a-a345-474a-a582-29af952a5b27', '63000000000', 'info@samcrb.ru', '+78454821645', '', '08.08.2025' ... 1991 parameters truncated ... 'ГОСУДАРСТВЕННОЕ АВТОНОМНОЕ УЧРЕЖДЕНИЕ ЗДРАВООХРАНЕНИЯ СВЕРДЛОВСКОЙ ОБЛАСТИ \"ВЕРХНЕПЫШМИНСКАЯ ЦЕНТРАЛЬНАЯ ГОРОДСКАЯ КЛИНИЧЕСКАЯ БОЛЬНИЦА ИМЕНИ П.Д.БОРОДИНА\"', 'ГАУЗ СО \"ВЕРХНЕПЫШМИНСКАЯ ЦГКБ ИМ. П.Д. БОРОДИНА\"', '6606003441', '668601001', '1026600729792', '1.2.643.5.1.13.13.12.2.66.6862', '75201', '13', ', обл Свердловская, г Верхняя Пышма, ул Чайковского, д 32', 'a6c49657-0e2e-4b95-8e4d-f08ba9a32abb', '65000000000', 'vphosp@mail.ru', '+73436854321', '', '26.08.2025', '31.12.2025', '00758000000000000', 'ГОСУДАРСТВЕННОЕ АВТОНОМНОЕ УЧРЕЖДЕНИЕ ЗДРАВООХРАНЕНИЯ СВЕРДЛОВСКОЙ ОБЛАСТИ \"ОБЛАСТНАЯ ДЕТСКАЯ КЛИНИЧЕСКАЯ БОЛЬНИЦА\"', 'ГАУЗ СО \"ОДКБ\"', '6661002199', '667101001', '1026605240969', '1.2.643.5.1.13.13.12.2.66.6878', '75201', '13', '620102, обл Свердловская, г Екатеринбург, ул Серафимы Дерябиной, д 32', 'bd36855e-773c-4c35-b008-a26a912ec58b', '65000000000', 'mail@odkb.ru', '+73432319101', '', '29.08.2025', '31.12.2025', '00758100000000000', 'ГОСУДАРСТВЕННОЕ БЮДЖЕТНОЕ УЧРЕЖДЕНИЕ ЗДРАВООХРАНЕНИЯ СВЕРДЛОВСКОЙ ОБЛАСТИ \"ВЕРХНЕСАЛДИНСКАЯ ЦЕНТРАЛЬНАЯ РАЙОННАЯ БОЛЬНИЦА\"', 'ГБУЗ СО \"ВЕРХНЕСАЛДИНСКАЯ ЦРБ\"', '6607003780', '662301001', '1026600786893', '1.2.643.5.1.13.13.12.2.66.6849', '75203', '13', '624760, обл Свердловская, г Верхняя Салда, ул Рабочей молодежи, д 2а', '0df6099f-43b7-4730-aeca-e9301fa2e0ca', '65000000000', 'hospital_vs@mail.ru', '+73434551823', '', '02.09.2025', '31.12.2025')\n"
     ]
    },
    {
     "name": "stderr",
     "output_type": "stream",
     "text": [
      "INFO:sqlalchemy.engine.Engine:[insertmanyvalues 46/72 (unordered)] ('00741200000000000', 'ГОСУДАРСТВЕННОЕ УЧРЕЖДЕНИЕ ЗДРАВООХРАНЕНИЯ САРАТОВСКОЙ ОБЛАСТИ \"РОВЕНСКАЯ РАЙОННАЯ БОЛЬНИЦА\"', 'ГУЗ СО \"РОВЕНСКАЯ РБ\"', '6428002571', '642801001', '1026401987150', '1.2.643.5.1.13.13.12.2.64.6709', '75203', '13', '413270, обл Саратовская, р-н Ровенский, рп Ровное, ул Больничная, д 1', '24bffb97-4537-4a76-8253-fe29621d236c', '63000000000', 'rovrb@mail.ru', '+79616467401', '', '26.08.2025', '31.12.2025', '00741300000000000', 'ГОСУДАРСТВЕННОЕ УЧРЕЖДЕНИЕ ЗДРАВООХРАНЕНИЯ САРАТОВСКОЙ ОБЛАСТИ \"РТИЩЕВСКАЯ РАЙОННАЯ БОЛЬНИЦА\"', 'ГУЗ СО \"РТИЩЕВСКАЯ РБ\"', '6446000506', '644601001', '1026401896400', '1.2.643.5.1.13.13.12.2.64.6561', '75203', '13', '412031, обл Саратовская, г Ртищево, ул Красная, д. 18 стр. 1', 'b420b406-9d72-4e69-a691-13c9a7b6611d', '63000000000', 'rtishcrb12@mail.ru', '+79271047975', '', '19.05.2025', '31.12.2025', '00741500000000000', 'ГОСУДАРСТВЕННОЕ УЧРЕЖДЕНИЕ ЗДРАВООХРАНЕНИЯ САРАТОВСКОЙ ОБЛАСТИ \"САМОЙЛОВСКАЯ РАЙОННАЯ БОЛЬНИЦА\"', 'ГУЗ СО \"САМОЙЛОВСКАЯ РБ\"', '6431001730', '643101001', '1026400784860', '1.2.643.5.1.13.13.12.2.64.6700', '75203', '13', '412370, обл Саратовская, р-н Самойловский, рп Самойловка, ул Пролетарская, зд. 2 к. 1', 'a4406b6a-a345-474a-a582-29af952a5b27', '63000000000', 'info@samcrb.ru', '+78454821645', '', '08.08.2025' ... 1991 parameters truncated ... 'ГОСУДАРСТВЕННОЕ АВТОНОМНОЕ УЧРЕЖДЕНИЕ ЗДРАВООХРАНЕНИЯ СВЕРДЛОВСКОЙ ОБЛАСТИ \"ВЕРХНЕПЫШМИНСКАЯ ЦЕНТРАЛЬНАЯ ГОРОДСКАЯ КЛИНИЧЕСКАЯ БОЛЬНИЦА ИМЕНИ П.Д.БОРОДИНА\"', 'ГАУЗ СО \"ВЕРХНЕПЫШМИНСКАЯ ЦГКБ ИМ. П.Д. БОРОДИНА\"', '6606003441', '668601001', '1026600729792', '1.2.643.5.1.13.13.12.2.66.6862', '75201', '13', ', обл Свердловская, г Верхняя Пышма, ул Чайковского, д 32', 'a6c49657-0e2e-4b95-8e4d-f08ba9a32abb', '65000000000', 'vphosp@mail.ru', '+73436854321', '', '26.08.2025', '31.12.2025', '00758000000000000', 'ГОСУДАРСТВЕННОЕ АВТОНОМНОЕ УЧРЕЖДЕНИЕ ЗДРАВООХРАНЕНИЯ СВЕРДЛОВСКОЙ ОБЛАСТИ \"ОБЛАСТНАЯ ДЕТСКАЯ КЛИНИЧЕСКАЯ БОЛЬНИЦА\"', 'ГАУЗ СО \"ОДКБ\"', '6661002199', '667101001', '1026605240969', '1.2.643.5.1.13.13.12.2.66.6878', '75201', '13', '620102, обл Свердловская, г Екатеринбург, ул Серафимы Дерябиной, д 32', 'bd36855e-773c-4c35-b008-a26a912ec58b', '65000000000', 'mail@odkb.ru', '+73432319101', '', '29.08.2025', '31.12.2025', '00758100000000000', 'ГОСУДАРСТВЕННОЕ БЮДЖЕТНОЕ УЧРЕЖДЕНИЕ ЗДРАВООХРАНЕНИЯ СВЕРДЛОВСКОЙ ОБЛАСТИ \"ВЕРХНЕСАЛДИНСКАЯ ЦЕНТРАЛЬНАЯ РАЙОННАЯ БОЛЬНИЦА\"', 'ГБУЗ СО \"ВЕРХНЕСАЛДИНСКАЯ ЦРБ\"', '6607003780', '662301001', '1026600786893', '1.2.643.5.1.13.13.12.2.66.6849', '75203', '13', '624760, обл Свердловская, г Верхняя Салда, ул Рабочей молодежи, д 2а', '0df6099f-43b7-4730-aeca-e9301fa2e0ca', '65000000000', 'hospital_vs@mail.ru', '+73434551823', '', '02.09.2025', '31.12.2025')\n"
     ]
    },
    {
     "name": "stdout",
     "output_type": "stream",
     "text": [
      "2025-09-03 16:03:25,974 INFO sqlalchemy.engine.Engine INSERT INTO nsi.[ERMO] ([IDMO], [NAM_MOP], [NAM_MOK], [INN], [KPP], [OGRN], [OID_MO], [OKOPF], [OKFS], [ADDR_J], [ADDR_J_GAR], [OKTMO], [EMAIL], [PHONE], [FAX], [DATEBEG], [DATEEND]) VALUES (?, ?, ?, ?, ?, ?, ?, ?, ?, ?, ?, ?, ?, ?, ?, ?, ?), (?, ?,  ... 6357 characters truncated ... ?, ?, ?, ?, ?, ?, ?, ?, ?, ?, ?, ?, ?, ?, ?, ?), (?, ?, ?, ?, ?, ?, ?, ?, ?, ?, ?, ?, ?, ?, ?, ?, ?)\n"
     ]
    },
    {
     "name": "stderr",
     "output_type": "stream",
     "text": [
      "INFO:sqlalchemy.engine.Engine:INSERT INTO nsi.[ERMO] ([IDMO], [NAM_MOP], [NAM_MOK], [INN], [KPP], [OGRN], [OID_MO], [OKOPF], [OKFS], [ADDR_J], [ADDR_J_GAR], [OKTMO], [EMAIL], [PHONE], [FAX], [DATEBEG], [DATEEND]) VALUES (?, ?, ?, ?, ?, ?, ?, ?, ?, ?, ?, ?, ?, ?, ?, ?, ?), (?, ?,  ... 6357 characters truncated ... ?, ?, ?, ?, ?, ?, ?, ?, ?, ?, ?, ?, ?, ?, ?, ?), (?, ?, ?, ?, ?, ?, ?, ?, ?, ?, ?, ?, ?, ?, ?, ?, ?)\n"
     ]
    },
    {
     "name": "stdout",
     "output_type": "stream",
     "text": [
      "2025-09-03 16:03:25,977 INFO sqlalchemy.engine.Engine [insertmanyvalues 47/72 (unordered)] ('00758200000000000', 'ГОСУДАРСТВЕННОЕ АВТОНОМНОЕ УЧРЕЖДЕНИЕ ЗДРАВООХРАНЕНИЯ СВЕРДЛОВСКОЙ ОБЛАСТИ \"ТАЛИЦКАЯ ЦЕНТРАЛЬНАЯ РАЙОННАЯ БОЛЬНИЦА\"', 'ГАУЗ СО \"ТАЛИЦКАЯ ЦРБ\"', '6654003339', '663301001', '1026602232250', '1.2.643.5.1.13.13.12.2.66.6854', '75201', '13', '623644, обл Свердловская, р-н Талицкий, г Талица, ул Красноармейская, д 23', 'd1741218-f5a6-409d-9eee-628a238fac1c', '65000000000', 'tlcrb-public@mis66.ru', '+73437121946', '', '02.09.2025', '31.12.2025', '00758300000000000', 'ГОСУДАРСТВЕННОЕ АВТОНОМНОЕ УЧРЕЖДЕНИЕ ЗДРАВООХРАНЕНИЯ СВЕРДЛОВСКОЙ ОБЛАСТИ \"ДЕТСКАЯ ГОРОДСКАЯ БОЛЬНИЦА ГОРОД ПЕРВОУРАЛЬСК\"', 'ГАУЗ СО \"ДГБ Г.ПЕРВОУРАЛЬСК\"', '6625011945', '668401001', '1036601470510', '1.2.643.5.1.13.13.12.2.66.6870', '75201', '13', '623104, обл Свердловская, г Первоуральск, ул Гагарина, д 38А', '21ecedd3-8c38-4a53-87dd-d944d94049a9', '65000000000', 'dgb38a@yandex.ru', '+73439667526', '', '19.08.2025', '31.12.2025', '00758400000000000', 'ГОСУДАРСТВЕННОЕ АВТОНОМНОЕ УЧРЕЖДЕНИЕ ЗДРАВООХРАНЕНИЯ СВЕРДЛОВСКОЙ ОБЛАСТИ \"ИРБИТСКАЯ ЦЕНТРАЛЬНАЯ ГОРОДСКАЯ БОЛЬНИЦА\"', 'ГАУЗ СО \"ИРБИТСКАЯ ЦГБ\"', '6611000527', '667601001', '1026600877610', '1.2.643.5.1.13.13.12.2.66.6889', '75201', '13', '623854, обл Свердловская, г Ирбит, ул Комсомольская, д 72', '1ccaff6d-3db7-49c6-a787-853b1b3bac92', '65000000000', 'cgb_irbit@rambler.ru', '+73435560607', '', '02.09.2025' ... 1991 parameters truncated ... 'ОБЛАСТНОЕ ГОСУДАРСТВЕННОЕ БЮДЖЕТНОЕ УЧРЕЖДЕНИЕ ЗДРАВООХРАНЕНИЯ \"СМОЛЕНСКАЯ ОБЛАСТНАЯ ДЕТСКАЯ КЛИНИЧЕСКАЯ БОЛЬНИЦА\"', 'ОГБУЗ \"СМОЛЕНСКАЯ ОБЛАСТНАЯ ДЕТСКАЯ КЛИНИЧЕСКАЯ БОЛЬНИЦА\"', '6731018660', '673101001', '1026701447805', '1.2.643.5.1.13.13.12.2.67.6995', '75203', '13', '214019, обл Смоленская, г Смоленск, проезд Маршала Конева, д 30В', '36200aa9-659d-42d8-8f10-d962cc82f760', '66000000000', 'smol_odkb@mail.ru', '+74812554438', '', '01.01.2025', '31.12.2025', '00775000000000000', 'ОБЛАСТНОЕ ГОСУДАРСТВЕННОЕ АВТОНОМНОЕ УЧРЕЖДЕНИЕ ЗДРАВООХРАНЕНИЯ \"СМОЛЕНСКАЯ ОБЛАСТНАЯ КЛИНИЧЕСКАЯ СТОМАТОЛОГИЧЕСКАЯ ПОЛИКЛИНИКА\"', 'ОГАУЗ \"СОКСП\"', '6731021180', '673101001', '1026701443350', '1.2.643.5.1.13.13.12.2.67.6999', '75201', '13', '214018, обл Смоленская, г Смоленск, пр-кт Гагарина, д 27А', '13ce7ad1-bc20-46e9-a408-bd5a88c312c4', '66000000000', 'oblstom67@mail.ru', '+74812554012', '', '14.08.2025', '31.12.2025', '00775100000000000', 'ОБЛАСТНОЕ ГОСУДАРСТВЕННОЕ БЮДЖЕТНОЕ УЧРЕЖДЕНИЕ ЗДРАВООХРАНЕНИЯ \"СМОЛЕНСКИЙ ОБЛАСТНОЙ ОНКОЛОГИЧЕСКИЙ КЛИНИЧЕСКИЙ ДИСПАНСЕР\"', 'ОГБУЗ \"СМОЛЕНСКИЙ ОБЛАСТНОЙ ОНКОЛОГИЧЕСКИЙ КЛИНИЧЕСКИЙ ДИСПАНСЕР\"', '6731020412', '673101001', '1036758302668', '1.2.643.5.1.13.13.12.2.67.9375', '75203', '13', '214000, обл Смоленская, г Смоленск, ул Маршала Жукова, д 19', '40f4d76a-7fa2-4c17-8841-3d83eeb16bd2', '66000000000', 'onkolog2016@mail.ru', '+74812382401', '', '01.01.2025', '31.12.2025')\n"
     ]
    },
    {
     "name": "stderr",
     "output_type": "stream",
     "text": [
      "INFO:sqlalchemy.engine.Engine:[insertmanyvalues 47/72 (unordered)] ('00758200000000000', 'ГОСУДАРСТВЕННОЕ АВТОНОМНОЕ УЧРЕЖДЕНИЕ ЗДРАВООХРАНЕНИЯ СВЕРДЛОВСКОЙ ОБЛАСТИ \"ТАЛИЦКАЯ ЦЕНТРАЛЬНАЯ РАЙОННАЯ БОЛЬНИЦА\"', 'ГАУЗ СО \"ТАЛИЦКАЯ ЦРБ\"', '6654003339', '663301001', '1026602232250', '1.2.643.5.1.13.13.12.2.66.6854', '75201', '13', '623644, обл Свердловская, р-н Талицкий, г Талица, ул Красноармейская, д 23', 'd1741218-f5a6-409d-9eee-628a238fac1c', '65000000000', 'tlcrb-public@mis66.ru', '+73437121946', '', '02.09.2025', '31.12.2025', '00758300000000000', 'ГОСУДАРСТВЕННОЕ АВТОНОМНОЕ УЧРЕЖДЕНИЕ ЗДРАВООХРАНЕНИЯ СВЕРДЛОВСКОЙ ОБЛАСТИ \"ДЕТСКАЯ ГОРОДСКАЯ БОЛЬНИЦА ГОРОД ПЕРВОУРАЛЬСК\"', 'ГАУЗ СО \"ДГБ Г.ПЕРВОУРАЛЬСК\"', '6625011945', '668401001', '1036601470510', '1.2.643.5.1.13.13.12.2.66.6870', '75201', '13', '623104, обл Свердловская, г Первоуральск, ул Гагарина, д 38А', '21ecedd3-8c38-4a53-87dd-d944d94049a9', '65000000000', 'dgb38a@yandex.ru', '+73439667526', '', '19.08.2025', '31.12.2025', '00758400000000000', 'ГОСУДАРСТВЕННОЕ АВТОНОМНОЕ УЧРЕЖДЕНИЕ ЗДРАВООХРАНЕНИЯ СВЕРДЛОВСКОЙ ОБЛАСТИ \"ИРБИТСКАЯ ЦЕНТРАЛЬНАЯ ГОРОДСКАЯ БОЛЬНИЦА\"', 'ГАУЗ СО \"ИРБИТСКАЯ ЦГБ\"', '6611000527', '667601001', '1026600877610', '1.2.643.5.1.13.13.12.2.66.6889', '75201', '13', '623854, обл Свердловская, г Ирбит, ул Комсомольская, д 72', '1ccaff6d-3db7-49c6-a787-853b1b3bac92', '65000000000', 'cgb_irbit@rambler.ru', '+73435560607', '', '02.09.2025' ... 1991 parameters truncated ... 'ОБЛАСТНОЕ ГОСУДАРСТВЕННОЕ БЮДЖЕТНОЕ УЧРЕЖДЕНИЕ ЗДРАВООХРАНЕНИЯ \"СМОЛЕНСКАЯ ОБЛАСТНАЯ ДЕТСКАЯ КЛИНИЧЕСКАЯ БОЛЬНИЦА\"', 'ОГБУЗ \"СМОЛЕНСКАЯ ОБЛАСТНАЯ ДЕТСКАЯ КЛИНИЧЕСКАЯ БОЛЬНИЦА\"', '6731018660', '673101001', '1026701447805', '1.2.643.5.1.13.13.12.2.67.6995', '75203', '13', '214019, обл Смоленская, г Смоленск, проезд Маршала Конева, д 30В', '36200aa9-659d-42d8-8f10-d962cc82f760', '66000000000', 'smol_odkb@mail.ru', '+74812554438', '', '01.01.2025', '31.12.2025', '00775000000000000', 'ОБЛАСТНОЕ ГОСУДАРСТВЕННОЕ АВТОНОМНОЕ УЧРЕЖДЕНИЕ ЗДРАВООХРАНЕНИЯ \"СМОЛЕНСКАЯ ОБЛАСТНАЯ КЛИНИЧЕСКАЯ СТОМАТОЛОГИЧЕСКАЯ ПОЛИКЛИНИКА\"', 'ОГАУЗ \"СОКСП\"', '6731021180', '673101001', '1026701443350', '1.2.643.5.1.13.13.12.2.67.6999', '75201', '13', '214018, обл Смоленская, г Смоленск, пр-кт Гагарина, д 27А', '13ce7ad1-bc20-46e9-a408-bd5a88c312c4', '66000000000', 'oblstom67@mail.ru', '+74812554012', '', '14.08.2025', '31.12.2025', '00775100000000000', 'ОБЛАСТНОЕ ГОСУДАРСТВЕННОЕ БЮДЖЕТНОЕ УЧРЕЖДЕНИЕ ЗДРАВООХРАНЕНИЯ \"СМОЛЕНСКИЙ ОБЛАСТНОЙ ОНКОЛОГИЧЕСКИЙ КЛИНИЧЕСКИЙ ДИСПАНСЕР\"', 'ОГБУЗ \"СМОЛЕНСКИЙ ОБЛАСТНОЙ ОНКОЛОГИЧЕСКИЙ КЛИНИЧЕСКИЙ ДИСПАНСЕР\"', '6731020412', '673101001', '1036758302668', '1.2.643.5.1.13.13.12.2.67.9375', '75203', '13', '214000, обл Смоленская, г Смоленск, ул Маршала Жукова, д 19', '40f4d76a-7fa2-4c17-8841-3d83eeb16bd2', '66000000000', 'onkolog2016@mail.ru', '+74812382401', '', '01.01.2025', '31.12.2025')\n"
     ]
    },
    {
     "name": "stdout",
     "output_type": "stream",
     "text": [
      "2025-09-03 16:03:26,085 INFO sqlalchemy.engine.Engine INSERT INTO nsi.[ERMO] ([IDMO], [NAM_MOP], [NAM_MOK], [INN], [KPP], [OGRN], [OID_MO], [OKOPF], [OKFS], [ADDR_J], [ADDR_J_GAR], [OKTMO], [EMAIL], [PHONE], [FAX], [DATEBEG], [DATEEND]) VALUES (?, ?, ?, ?, ?, ?, ?, ?, ?, ?, ?, ?, ?, ?, ?, ?, ?), (?, ?,  ... 6357 characters truncated ... ?, ?, ?, ?, ?, ?, ?, ?, ?, ?, ?, ?, ?, ?, ?, ?), (?, ?, ?, ?, ?, ?, ?, ?, ?, ?, ?, ?, ?, ?, ?, ?, ?)\n"
     ]
    },
    {
     "name": "stderr",
     "output_type": "stream",
     "text": [
      "INFO:sqlalchemy.engine.Engine:INSERT INTO nsi.[ERMO] ([IDMO], [NAM_MOP], [NAM_MOK], [INN], [KPP], [OGRN], [OID_MO], [OKOPF], [OKFS], [ADDR_J], [ADDR_J_GAR], [OKTMO], [EMAIL], [PHONE], [FAX], [DATEBEG], [DATEEND]) VALUES (?, ?, ?, ?, ?, ?, ?, ?, ?, ?, ?, ?, ?, ?, ?, ?, ?), (?, ?,  ... 6357 characters truncated ... ?, ?, ?, ?, ?, ?, ?, ?, ?, ?, ?, ?, ?, ?, ?, ?), (?, ?, ?, ?, ?, ?, ?, ?, ?, ?, ?, ?, ?, ?, ?, ?, ?)\n"
     ]
    },
    {
     "name": "stdout",
     "output_type": "stream",
     "text": [
      "2025-09-03 16:03:26,088 INFO sqlalchemy.engine.Engine [insertmanyvalues 48/72 (unordered)] ('00775400000000000', 'ОБЛАСТНОЕ ГОСУДАРСТВЕННОЕ АВТОНОМНОЕ УЧРЕЖДЕНИЕ ЗДРАВООХРАНЕНИЯ \"ВЯЗЕМСКАЯ ГОРОДСКАЯ СТОМАТОЛОГИЧЕСКАЯ ПОЛИКЛИНИКА\"', 'ОГАУЗ \"ВЯЗЕМСКАЯ ГОРОДСКАЯ СТОМАТОЛОГИЧЕСКАЯ ПОЛИКЛИНИКА\"', '6722003114', '672201001', '1026700852573', '1.2.643.5.1.13.13.12.2.67.6976', '75201', '13', '215110, обл Смоленская, р-н Вяземский, г Вязьма, ул Парижской Коммуны, д 8', '0c923d16-1a3f-4e96-9ecc-f694fe5b67ec', '66000000000', 'vstom67@mail.ru', '+74813141662', '', '01.01.2025', '31.12.2025', '00775500000000000', 'ОБЛАСТНОЕ ГОСУДАРСТВЕННОЕ АВТОНОМНОЕ УЧРЕЖДЕНИЕ ЗДРАВООХРАНЕНИЯ \"РОСЛАВЛЬСКАЯ МЕЖРАЙОННАЯ СТОМАТОЛОГИЧЕСКАЯ ПОЛИКЛИНИКА\"', 'ОГАУЗ \"РОСЛАВЛЬСКАЯ МЕЖРАЙОННАЯ СТОМАТОЛОГИЧЕСКАЯ ПОЛИКЛИНИКА\"', '6725008939', '672501001', '1026700928033', '1.2.643.5.1.13.13.12.2.67.6959', '75201', '13', '216555, обл Смоленская, р-н Рославльский, г Рославль, п. Стеклозавода, д 1', 'af3adbd9-80e1-416b-9b59-67ae4e572045', '66000000000', 'roslstom@mail.ru', '+74813466263', '', '01.01.2025', '31.12.2025', '00775600000000000', 'ОБЛАСТНОЕ ГОСУДАРСТВЕННОЕ АВТОНОМНОЕ УЧРЕЖДЕНИЕ ЗДРАВООХРАНЕНИЯ \"САФОНОВСКАЯ ГОРОДСКАЯ СТОМАТОЛОГИЧЕСКАЯ ПОЛИКЛИНИКА\"', 'ОГАУЗ \"САФОНОВСКАЯ ГОРОДСКАЯ СТОМАТОЛОГИЧЕСКАЯ ПОЛИКЛИНИКА\"', '6726000611', '672601001', '1026700945040', '1.2.643.5.1.13.13.12.2.67.6961', '75201', '13', '215500, обл Смоленская, р-н Сафоновский, г Сафоново, ул Революционная, д 12', 'e2837b11-6698-49ac-bbdf-51044b02080c', '66000000000', 'saf_stomatolog@mail.ru', '+74814241160', '', '01.01.2025' ... 1991 parameters truncated ... 'ГОСУДАРСТВЕННОЕ БЮДЖЕТНОЕ УЧРЕЖДЕНИЕ ЗДРАВООХРАНЕНИЯ ТВЕРСКОЙ ОБЛАСТИ \"ГОРОДСКАЯ КЛИНИЧЕСКАЯ БОЛЬНИЦА № 6\"', 'ГБУЗ \"ГКБ № 6\"', '6903006928', '695001001', '1026900591486', '1.2.643.5.1.13.13.12.2.69.7135', '75203', '13', '170028, обл Тверская, г Тверь, ул Орджоникидзе, д 36', '028a6a20-cdb2-4162-80ea-fd9e59d924be', '28000000000', 'gbuzgkb6@mail.ru', '+74822581480', '', '29.07.2025', '31.12.2025', '00792800000000000', 'ГОСУДАРСТВЕННОЕ БЮДЖЕТНОЕ УЧРЕЖДЕНИЕ ЗДРАВООХРАНЕНИЯ ТВЕРСКОЙ ОБЛАСТИ \"ГОРОДСКАЯ КЛИНИЧЕСКАЯ БОЛЬНИЦА №1 ИМЕНИ В.В. УСПЕНСКОГО\"', 'ГБУЗ \"ГКБ №1 ИМ. В.В. УСПЕНСКОГО\"', '6905007726', '695001001', '1026900550247', '1.2.643.5.1.13.13.12.2.69.7088', '75203', '13', '170006, обл Тверская, г Тверь, ул Софьи Перовской, д 47', '8e1b70a9-9a2d-462b-a9f6-d203c5bd2c89', '28000000000', 'gb1@gb1tver.ru', '+74822420261', '', '05.08.2025', '31.12.2025', '00792900000000000', 'ГОСУДАРСТВЕННОЕ БЮДЖЕТНОЕ УЧРЕЖДЕНИЕ ЗДРАВООХРАНЕНИЯ ТВЕРСКОЙ ОБЛАСТИ \"ЛИХОСЛАВЛЬСКАЯ ЦЕНТРАЛЬНАЯ РАЙОННАЯ БОЛЬНИЦА\"', 'ГБУЗ \"ЛИХОСЛАВЛЬСКАЯ ЦРБ\"', '6931004175', '693101001', '1026901915721', '1.2.643.5.1.13.13.12.2.69.7102', '75203', '13', '171210, обл Тверская, р-н Лихославльский, г Лихославль, ул Первомайская, д 29', 'a723a422-b9bc-4f05-a6cb-a9b3ad7066b6', '28000000000', 'crbl@yandex.ru', '+74826135142', '', '29.07.2025', '31.12.2025')\n"
     ]
    },
    {
     "name": "stderr",
     "output_type": "stream",
     "text": [
      "INFO:sqlalchemy.engine.Engine:[insertmanyvalues 48/72 (unordered)] ('00775400000000000', 'ОБЛАСТНОЕ ГОСУДАРСТВЕННОЕ АВТОНОМНОЕ УЧРЕЖДЕНИЕ ЗДРАВООХРАНЕНИЯ \"ВЯЗЕМСКАЯ ГОРОДСКАЯ СТОМАТОЛОГИЧЕСКАЯ ПОЛИКЛИНИКА\"', 'ОГАУЗ \"ВЯЗЕМСКАЯ ГОРОДСКАЯ СТОМАТОЛОГИЧЕСКАЯ ПОЛИКЛИНИКА\"', '6722003114', '672201001', '1026700852573', '1.2.643.5.1.13.13.12.2.67.6976', '75201', '13', '215110, обл Смоленская, р-н Вяземский, г Вязьма, ул Парижской Коммуны, д 8', '0c923d16-1a3f-4e96-9ecc-f694fe5b67ec', '66000000000', 'vstom67@mail.ru', '+74813141662', '', '01.01.2025', '31.12.2025', '00775500000000000', 'ОБЛАСТНОЕ ГОСУДАРСТВЕННОЕ АВТОНОМНОЕ УЧРЕЖДЕНИЕ ЗДРАВООХРАНЕНИЯ \"РОСЛАВЛЬСКАЯ МЕЖРАЙОННАЯ СТОМАТОЛОГИЧЕСКАЯ ПОЛИКЛИНИКА\"', 'ОГАУЗ \"РОСЛАВЛЬСКАЯ МЕЖРАЙОННАЯ СТОМАТОЛОГИЧЕСКАЯ ПОЛИКЛИНИКА\"', '6725008939', '672501001', '1026700928033', '1.2.643.5.1.13.13.12.2.67.6959', '75201', '13', '216555, обл Смоленская, р-н Рославльский, г Рославль, п. Стеклозавода, д 1', 'af3adbd9-80e1-416b-9b59-67ae4e572045', '66000000000', 'roslstom@mail.ru', '+74813466263', '', '01.01.2025', '31.12.2025', '00775600000000000', 'ОБЛАСТНОЕ ГОСУДАРСТВЕННОЕ АВТОНОМНОЕ УЧРЕЖДЕНИЕ ЗДРАВООХРАНЕНИЯ \"САФОНОВСКАЯ ГОРОДСКАЯ СТОМАТОЛОГИЧЕСКАЯ ПОЛИКЛИНИКА\"', 'ОГАУЗ \"САФОНОВСКАЯ ГОРОДСКАЯ СТОМАТОЛОГИЧЕСКАЯ ПОЛИКЛИНИКА\"', '6726000611', '672601001', '1026700945040', '1.2.643.5.1.13.13.12.2.67.6961', '75201', '13', '215500, обл Смоленская, р-н Сафоновский, г Сафоново, ул Революционная, д 12', 'e2837b11-6698-49ac-bbdf-51044b02080c', '66000000000', 'saf_stomatolog@mail.ru', '+74814241160', '', '01.01.2025' ... 1991 parameters truncated ... 'ГОСУДАРСТВЕННОЕ БЮДЖЕТНОЕ УЧРЕЖДЕНИЕ ЗДРАВООХРАНЕНИЯ ТВЕРСКОЙ ОБЛАСТИ \"ГОРОДСКАЯ КЛИНИЧЕСКАЯ БОЛЬНИЦА № 6\"', 'ГБУЗ \"ГКБ № 6\"', '6903006928', '695001001', '1026900591486', '1.2.643.5.1.13.13.12.2.69.7135', '75203', '13', '170028, обл Тверская, г Тверь, ул Орджоникидзе, д 36', '028a6a20-cdb2-4162-80ea-fd9e59d924be', '28000000000', 'gbuzgkb6@mail.ru', '+74822581480', '', '29.07.2025', '31.12.2025', '00792800000000000', 'ГОСУДАРСТВЕННОЕ БЮДЖЕТНОЕ УЧРЕЖДЕНИЕ ЗДРАВООХРАНЕНИЯ ТВЕРСКОЙ ОБЛАСТИ \"ГОРОДСКАЯ КЛИНИЧЕСКАЯ БОЛЬНИЦА №1 ИМЕНИ В.В. УСПЕНСКОГО\"', 'ГБУЗ \"ГКБ №1 ИМ. В.В. УСПЕНСКОГО\"', '6905007726', '695001001', '1026900550247', '1.2.643.5.1.13.13.12.2.69.7088', '75203', '13', '170006, обл Тверская, г Тверь, ул Софьи Перовской, д 47', '8e1b70a9-9a2d-462b-a9f6-d203c5bd2c89', '28000000000', 'gb1@gb1tver.ru', '+74822420261', '', '05.08.2025', '31.12.2025', '00792900000000000', 'ГОСУДАРСТВЕННОЕ БЮДЖЕТНОЕ УЧРЕЖДЕНИЕ ЗДРАВООХРАНЕНИЯ ТВЕРСКОЙ ОБЛАСТИ \"ЛИХОСЛАВЛЬСКАЯ ЦЕНТРАЛЬНАЯ РАЙОННАЯ БОЛЬНИЦА\"', 'ГБУЗ \"ЛИХОСЛАВЛЬСКАЯ ЦРБ\"', '6931004175', '693101001', '1026901915721', '1.2.643.5.1.13.13.12.2.69.7102', '75203', '13', '171210, обл Тверская, р-н Лихославльский, г Лихославль, ул Первомайская, д 29', 'a723a422-b9bc-4f05-a6cb-a9b3ad7066b6', '28000000000', 'crbl@yandex.ru', '+74826135142', '', '29.07.2025', '31.12.2025')\n"
     ]
    },
    {
     "name": "stdout",
     "output_type": "stream",
     "text": [
      "2025-09-03 16:03:26,197 INFO sqlalchemy.engine.Engine INSERT INTO nsi.[ERMO] ([IDMO], [NAM_MOP], [NAM_MOK], [INN], [KPP], [OGRN], [OID_MO], [OKOPF], [OKFS], [ADDR_J], [ADDR_J_GAR], [OKTMO], [EMAIL], [PHONE], [FAX], [DATEBEG], [DATEEND]) VALUES (?, ?, ?, ?, ?, ?, ?, ?, ?, ?, ?, ?, ?, ?, ?, ?, ?), (?, ?,  ... 6357 characters truncated ... ?, ?, ?, ?, ?, ?, ?, ?, ?, ?, ?, ?, ?, ?, ?, ?), (?, ?, ?, ?, ?, ?, ?, ?, ?, ?, ?, ?, ?, ?, ?, ?, ?)\n"
     ]
    },
    {
     "name": "stderr",
     "output_type": "stream",
     "text": [
      "INFO:sqlalchemy.engine.Engine:INSERT INTO nsi.[ERMO] ([IDMO], [NAM_MOP], [NAM_MOK], [INN], [KPP], [OGRN], [OID_MO], [OKOPF], [OKFS], [ADDR_J], [ADDR_J_GAR], [OKTMO], [EMAIL], [PHONE], [FAX], [DATEBEG], [DATEEND]) VALUES (?, ?, ?, ?, ?, ?, ?, ?, ?, ?, ?, ?, ?, ?, ?, ?, ?), (?, ?,  ... 6357 characters truncated ... ?, ?, ?, ?, ?, ?, ?, ?, ?, ?, ?, ?, ?, ?, ?, ?), (?, ?, ?, ?, ?, ?, ?, ?, ?, ?, ?, ?, ?, ?, ?, ?, ?)\n"
     ]
    },
    {
     "name": "stdout",
     "output_type": "stream",
     "text": [
      "2025-09-03 16:03:26,198 INFO sqlalchemy.engine.Engine [insertmanyvalues 49/72 (unordered)] ('00793000000000000', 'ГОСУДАРСТВЕННОЕ БЮДЖЕТНОЕ УЧРЕЖДЕНИЕ ЗДРАВООХРАНЕНИЯ ТВЕРСКОЙ ОБЛАСТИ \"ГОРОДСКАЯ КЛИНИЧЕСКАЯ ДЕТСКАЯ БОЛЬНИЦА №3\"', 'ГБУЗ \"ГКДБ №3\"', '6902007735', '695201001', '1026900581190', '1.2.643.5.1.13.13.12.2.69.7089', '75203', '13', '170003, обл Тверская, г Тверь, ш Петербургское, д 5', 'a4a8648f-d038-450e-a8bb-ae1aeb32d9f8', '28000000000', 'glav_gdb3_tver@mail.ru', '+74822555332', '', '28.07.2025', '31.12.2025', '00793100000000000', 'ГОСУДАРСТВЕННОЕ БЮДЖЕТНОЕ УЧРЕЖДЕНИЕ ЗДРАВООХРАНЕНИЯ ТВЕРСКОЙ ОБЛАСТИ \"БОЛОГОВСКАЯ ЦЕНТРАЛЬНАЯ РАЙОННАЯ БОЛЬНИЦА\"', 'ГБУЗ \"БОЛОГОВСКАЯ ЦРБ\"', '6907000187', '690701001', '1026901604157', '1.2.643.5.1.13.13.12.2.69.7139', '75203', '13', '171071, обл Тверская, р-н Бологовский, г Бологое, ул Красная Горка, д 1', '8fba4744-2913-4f0b-9c8c-46f44084a634', '28000000000', 'CRB-BOLOGOE-TVER@YANDEX.RU', '+74823833460', '', '30.07.2025', '31.12.2025', '00793200000000000', 'ГОСУДАРСТВЕННОЕ БЮДЖЕТНОЕ УЧРЕЖДЕНИЕ ЗДРАВООХРАНЕНИЯ ТВЕРСКОЙ ОБЛАСТИ \"КРАСНОХОЛМСКАЯ ЦЕНТРАЛЬНАЯ РАЙОННАЯ БОЛЬНИЦА\"', 'ГБУЗ \"КРАСНОХОЛМСКАЯ ЦРБ\"', '6928001720', '690601001', '1026901540467', '1.2.643.5.1.13.13.12.2.69.7100', '75203', '13', '171660, обл Тверская, г Красный Холм, ул Мясникова, д 59', '2ba89d6e-9429-4a28-81a5-c665ba668146', '28000000000', 'medbuch@yandex.ru', '+74823722402', '', '29.07.2025' ... 1991 parameters truncated ... 'ОБЩЕСТВО С ОГРАНИЧЕННОЙ ОТВЕТСТВЕННОСТЬЮ \"САНАТОРИЙ \"КОСМОНАВТ\"', 'ООО \"САНАТОРИЙ \"КОСМОНАВТ\"', '7014003692', '701401001', '1027000763349', '1.2.643.5.1.13.13.12.2.70.17768', '12300', '16', '634570, обл Томская, р-н Томский, д Некрасово, тер Урочище Некрасовское, д 7', '5e640d63-9738-4ac2-aa38-5128760a693b', '69000000000', 'KOSMONAWT@LIST.RU', '+73822931546', '', '06.08.2025', '31.12.2025', '00808400000000000', 'ОБЩЕСТВО С ОГРАНИЧЕННОЙ ОТВЕТСТВЕННОСТЬЮ \"ГРАНД РЕТИНА\"', 'ООО \"ГРАНД РЕТИНА\"', '7017265142', '701701001', '1107017012156', '1.2.643.5.1.13.13.12.2.70.21107', '12300', '16', '634045, обл Томская, г Томск, ул Мокрушина, д. 9 стр. 16', '4dcfd5f7-c8e0-4b03-a164-ac126edf4c81', '69000000000', 'INFO@ZAPUSKALOV-CLINIC.RU', '+73822902901', '', '02.04.2025', '31.12.2025', '00808500000000000', 'ОБЩЕСТВО С ОГРАНИЧЕННОЙ ОТВЕТСТВЕННОСТЬЮ \"ГРАНД СЕРВИС\"', 'ООО \"ГРАНД СЕРВИС\"', '7017113157', '701701001', '1057000115633', '1.2.643.5.1.13.13.12.2.70.21576', '12300', '16', '634034, обл Томская, г Томск, ул Учебная, д 34А', '7101d9ef-82ab-4f59-92d0-2ae99e1d6c68', '69000000000', '597644@MAIL.RU', '+73822423831', '', '19.08.2025', '31.12.2025')\n"
     ]
    },
    {
     "name": "stderr",
     "output_type": "stream",
     "text": [
      "INFO:sqlalchemy.engine.Engine:[insertmanyvalues 49/72 (unordered)] ('00793000000000000', 'ГОСУДАРСТВЕННОЕ БЮДЖЕТНОЕ УЧРЕЖДЕНИЕ ЗДРАВООХРАНЕНИЯ ТВЕРСКОЙ ОБЛАСТИ \"ГОРОДСКАЯ КЛИНИЧЕСКАЯ ДЕТСКАЯ БОЛЬНИЦА №3\"', 'ГБУЗ \"ГКДБ №3\"', '6902007735', '695201001', '1026900581190', '1.2.643.5.1.13.13.12.2.69.7089', '75203', '13', '170003, обл Тверская, г Тверь, ш Петербургское, д 5', 'a4a8648f-d038-450e-a8bb-ae1aeb32d9f8', '28000000000', 'glav_gdb3_tver@mail.ru', '+74822555332', '', '28.07.2025', '31.12.2025', '00793100000000000', 'ГОСУДАРСТВЕННОЕ БЮДЖЕТНОЕ УЧРЕЖДЕНИЕ ЗДРАВООХРАНЕНИЯ ТВЕРСКОЙ ОБЛАСТИ \"БОЛОГОВСКАЯ ЦЕНТРАЛЬНАЯ РАЙОННАЯ БОЛЬНИЦА\"', 'ГБУЗ \"БОЛОГОВСКАЯ ЦРБ\"', '6907000187', '690701001', '1026901604157', '1.2.643.5.1.13.13.12.2.69.7139', '75203', '13', '171071, обл Тверская, р-н Бологовский, г Бологое, ул Красная Горка, д 1', '8fba4744-2913-4f0b-9c8c-46f44084a634', '28000000000', 'CRB-BOLOGOE-TVER@YANDEX.RU', '+74823833460', '', '30.07.2025', '31.12.2025', '00793200000000000', 'ГОСУДАРСТВЕННОЕ БЮДЖЕТНОЕ УЧРЕЖДЕНИЕ ЗДРАВООХРАНЕНИЯ ТВЕРСКОЙ ОБЛАСТИ \"КРАСНОХОЛМСКАЯ ЦЕНТРАЛЬНАЯ РАЙОННАЯ БОЛЬНИЦА\"', 'ГБУЗ \"КРАСНОХОЛМСКАЯ ЦРБ\"', '6928001720', '690601001', '1026901540467', '1.2.643.5.1.13.13.12.2.69.7100', '75203', '13', '171660, обл Тверская, г Красный Холм, ул Мясникова, д 59', '2ba89d6e-9429-4a28-81a5-c665ba668146', '28000000000', 'medbuch@yandex.ru', '+74823722402', '', '29.07.2025' ... 1991 parameters truncated ... 'ОБЩЕСТВО С ОГРАНИЧЕННОЙ ОТВЕТСТВЕННОСТЬЮ \"САНАТОРИЙ \"КОСМОНАВТ\"', 'ООО \"САНАТОРИЙ \"КОСМОНАВТ\"', '7014003692', '701401001', '1027000763349', '1.2.643.5.1.13.13.12.2.70.17768', '12300', '16', '634570, обл Томская, р-н Томский, д Некрасово, тер Урочище Некрасовское, д 7', '5e640d63-9738-4ac2-aa38-5128760a693b', '69000000000', 'KOSMONAWT@LIST.RU', '+73822931546', '', '06.08.2025', '31.12.2025', '00808400000000000', 'ОБЩЕСТВО С ОГРАНИЧЕННОЙ ОТВЕТСТВЕННОСТЬЮ \"ГРАНД РЕТИНА\"', 'ООО \"ГРАНД РЕТИНА\"', '7017265142', '701701001', '1107017012156', '1.2.643.5.1.13.13.12.2.70.21107', '12300', '16', '634045, обл Томская, г Томск, ул Мокрушина, д. 9 стр. 16', '4dcfd5f7-c8e0-4b03-a164-ac126edf4c81', '69000000000', 'INFO@ZAPUSKALOV-CLINIC.RU', '+73822902901', '', '02.04.2025', '31.12.2025', '00808500000000000', 'ОБЩЕСТВО С ОГРАНИЧЕННОЙ ОТВЕТСТВЕННОСТЬЮ \"ГРАНД СЕРВИС\"', 'ООО \"ГРАНД СЕРВИС\"', '7017113157', '701701001', '1057000115633', '1.2.643.5.1.13.13.12.2.70.21576', '12300', '16', '634034, обл Томская, г Томск, ул Учебная, д 34А', '7101d9ef-82ab-4f59-92d0-2ae99e1d6c68', '69000000000', '597644@MAIL.RU', '+73822423831', '', '19.08.2025', '31.12.2025')\n"
     ]
    },
    {
     "name": "stdout",
     "output_type": "stream",
     "text": [
      "2025-09-03 16:03:26,307 INFO sqlalchemy.engine.Engine INSERT INTO nsi.[ERMO] ([IDMO], [NAM_MOP], [NAM_MOK], [INN], [KPP], [OGRN], [OID_MO], [OKOPF], [OKFS], [ADDR_J], [ADDR_J_GAR], [OKTMO], [EMAIL], [PHONE], [FAX], [DATEBEG], [DATEEND]) VALUES (?, ?, ?, ?, ?, ?, ?, ?, ?, ?, ?, ?, ?, ?, ?, ?, ?), (?, ?,  ... 6357 characters truncated ... ?, ?, ?, ?, ?, ?, ?, ?, ?, ?, ?, ?, ?, ?, ?, ?), (?, ?, ?, ?, ?, ?, ?, ?, ?, ?, ?, ?, ?, ?, ?, ?, ?)\n"
     ]
    },
    {
     "name": "stderr",
     "output_type": "stream",
     "text": [
      "INFO:sqlalchemy.engine.Engine:INSERT INTO nsi.[ERMO] ([IDMO], [NAM_MOP], [NAM_MOK], [INN], [KPP], [OGRN], [OID_MO], [OKOPF], [OKFS], [ADDR_J], [ADDR_J_GAR], [OKTMO], [EMAIL], [PHONE], [FAX], [DATEBEG], [DATEEND]) VALUES (?, ?, ?, ?, ?, ?, ?, ?, ?, ?, ?, ?, ?, ?, ?, ?, ?), (?, ?,  ... 6357 characters truncated ... ?, ?, ?, ?, ?, ?, ?, ?, ?, ?, ?, ?, ?, ?, ?, ?), (?, ?, ?, ?, ?, ?, ?, ?, ?, ?, ?, ?, ?, ?, ?, ?, ?)\n"
     ]
    },
    {
     "name": "stdout",
     "output_type": "stream",
     "text": [
      "2025-09-03 16:03:26,310 INFO sqlalchemy.engine.Engine [insertmanyvalues 50/72 (unordered)] ('00808600000000000', 'ОБЛАСТНОЕ ГОСУДАРСТВЕННОЕ АВТОНОМНОЕ УЧРЕЖДЕНИЕ ЗДРАВООХРАНЕНИЯ \"СТАНЦИЯ СКОРОЙ МЕДИЦИНСКОЙ ПОМОЩИ\"', 'ОГАУЗ  \"ССМП\"', '7019016399', '701701001', '1027000865660', '1.2.643.5.1.13.13.12.2.70.7230', '75201', '13', '634059, обл Томская, г Томск, ул Говорова, д 25', 'dacd26bc-a195-423e-9e3a-55cc33d4fe7a', '69000000000', 'ssmp70@tomsk.gov70.ru', '+73822761003', '', '09.04.2025', '31.12.2025', '00808700000000000', 'ФЕДЕРАЛЬНОЕ ГОСУДАРСТВЕННОЕ БЮДЖЕТНОЕ НАУЧНОЕ УЧРЕЖДЕНИЕ \"ТОМСКИЙ НАЦИОНАЛЬНЫЙ ИССЛЕДОВАТЕЛЬСКИЙ МЕДИЦИНСКИЙ ЦЕНТР РОССИЙСКОЙ АКАДЕМИИ НАУК\"', 'ТОМСКИЙ НИМЦ', '7019011979', '701701001', '1027000861568', '1.2.643.5.1.13.13.12.2.70.10147', '75103', '12', '634050, обл Томская, г Томск, ул Набережная реки Ушайки, д 10', '7d815e95-3407-4a0f-b04f-1f5996541d2f', '69000000000', 'center@tnimc.ru', '+73822512228', '', '17.04.2025', '31.12.2025', '00808800000000000', 'ОБЩЕСТВО С ОГРАНИЧЕННОЙ ОТВЕТСТВЕННОСТЬЮ \"ОТКРЫТАЯ ЛАБОРАТОРИЯ\"', 'ООО \"ОТКРЫТАЯ ЛАБОРАТОРИЯ\"', '7017090372', '701701001', '1047000101642', '1.2.643.5.1.13.13.12.2.70.14135', '12300', '16', '634009, обл Томская, г Томск, ул Карла Маркса, д 15/1', '516929ab-25d0-4d29-8b7a-8320904ed1d0', '69000000000', 'KRAVCALEX@YANDEX.RU', '+79039552009', '', '27.02.2025' ... 1991 parameters truncated ... 'ГОСУДАРСТВЕННОЕ АВТОНОМНОЕ УЧРЕЖДЕНИЕ ЗДРАВООХРАНЕНИЯ ТЮМЕНСКОЙ ОБЛАСТИ \"ГОРОДСКАЯ ПОЛИКЛИНИКА №6\"', 'ГАУЗ ТО \"ГОРОДСКАЯ ПОЛИКЛИНИКА №6\"', '7203116204', '720301001', '1027200833725', '1.2.643.5.1.13.13.12.2.72.7318', '75201', '13', '625035, обл Тюменская, г Тюмень, ул 50 лет ВЛКСМ, д 97', '8409206b-6924-4244-9ff3-1a9c13cdee01', '71000000000', 'gp6@med-to.ru', '+73452560629', '', '15.07.2025', '31.12.2025', '00825800000000000', 'ГОСУДАРСТВЕННОЕ АВТОНОМНОЕ УЧРЕЖДЕНИЕ ЗДРАВООХРАНЕНИЯ ТЮМЕНСКОЙ ОБЛАСТИ \"ГОРОДСКАЯ ПОЛИКЛИНИКА № 8\"', 'ГАУЗ ТО \"ГОРОДСКАЯ ПОЛИКЛИНИКА № 8\"', '7202100650', '720301001', '1027200839676', '1.2.643.5.1.13.13.12.2.72.7319', '75201', '13', '625031, обл Тюменская, г Тюмень, ул Ватутина, д 10б', 'f2ac52ff-06d2-4798-bd03-45d7cee1ecc4', '71000000000', 'gp8@med-to.ru', '+73452560284', '', '10.03.2025', '31.12.2025', '00825900000000000', 'ГОСУДАРСТВЕННОЕ АВТОНОМНОЕ УЧРЕЖДЕНИЕ ЗДРАВООХРАНЕНИЯ ТЮМЕНСКОЙ ОБЛАСТИ \"ГОРОДСКАЯ ПОЛИКЛИНИКА №12\"', 'ГАУЗ ТО \"ГОРОДСКАЯ ПОЛИКЛИНИКА №12\"', '7203116194', '720301001', '1027200811659', '1.2.643.5.1.13.13.12.2.72.7320', '75201', '13', '625028, обл Тюменская, г Тюмень, ул Народная, д 6', '2a6380ef-38e1-44ae-9df4-7713b76d3c76', '71000000000', 'gp12@med-to.ru', '+73452386321', '', '05.02.2025', '31.12.2025')\n"
     ]
    },
    {
     "name": "stderr",
     "output_type": "stream",
     "text": [
      "INFO:sqlalchemy.engine.Engine:[insertmanyvalues 50/72 (unordered)] ('00808600000000000', 'ОБЛАСТНОЕ ГОСУДАРСТВЕННОЕ АВТОНОМНОЕ УЧРЕЖДЕНИЕ ЗДРАВООХРАНЕНИЯ \"СТАНЦИЯ СКОРОЙ МЕДИЦИНСКОЙ ПОМОЩИ\"', 'ОГАУЗ  \"ССМП\"', '7019016399', '701701001', '1027000865660', '1.2.643.5.1.13.13.12.2.70.7230', '75201', '13', '634059, обл Томская, г Томск, ул Говорова, д 25', 'dacd26bc-a195-423e-9e3a-55cc33d4fe7a', '69000000000', 'ssmp70@tomsk.gov70.ru', '+73822761003', '', '09.04.2025', '31.12.2025', '00808700000000000', 'ФЕДЕРАЛЬНОЕ ГОСУДАРСТВЕННОЕ БЮДЖЕТНОЕ НАУЧНОЕ УЧРЕЖДЕНИЕ \"ТОМСКИЙ НАЦИОНАЛЬНЫЙ ИССЛЕДОВАТЕЛЬСКИЙ МЕДИЦИНСКИЙ ЦЕНТР РОССИЙСКОЙ АКАДЕМИИ НАУК\"', 'ТОМСКИЙ НИМЦ', '7019011979', '701701001', '1027000861568', '1.2.643.5.1.13.13.12.2.70.10147', '75103', '12', '634050, обл Томская, г Томск, ул Набережная реки Ушайки, д 10', '7d815e95-3407-4a0f-b04f-1f5996541d2f', '69000000000', 'center@tnimc.ru', '+73822512228', '', '17.04.2025', '31.12.2025', '00808800000000000', 'ОБЩЕСТВО С ОГРАНИЧЕННОЙ ОТВЕТСТВЕННОСТЬЮ \"ОТКРЫТАЯ ЛАБОРАТОРИЯ\"', 'ООО \"ОТКРЫТАЯ ЛАБОРАТОРИЯ\"', '7017090372', '701701001', '1047000101642', '1.2.643.5.1.13.13.12.2.70.14135', '12300', '16', '634009, обл Томская, г Томск, ул Карла Маркса, д 15/1', '516929ab-25d0-4d29-8b7a-8320904ed1d0', '69000000000', 'KRAVCALEX@YANDEX.RU', '+79039552009', '', '27.02.2025' ... 1991 parameters truncated ... 'ГОСУДАРСТВЕННОЕ АВТОНОМНОЕ УЧРЕЖДЕНИЕ ЗДРАВООХРАНЕНИЯ ТЮМЕНСКОЙ ОБЛАСТИ \"ГОРОДСКАЯ ПОЛИКЛИНИКА №6\"', 'ГАУЗ ТО \"ГОРОДСКАЯ ПОЛИКЛИНИКА №6\"', '7203116204', '720301001', '1027200833725', '1.2.643.5.1.13.13.12.2.72.7318', '75201', '13', '625035, обл Тюменская, г Тюмень, ул 50 лет ВЛКСМ, д 97', '8409206b-6924-4244-9ff3-1a9c13cdee01', '71000000000', 'gp6@med-to.ru', '+73452560629', '', '15.07.2025', '31.12.2025', '00825800000000000', 'ГОСУДАРСТВЕННОЕ АВТОНОМНОЕ УЧРЕЖДЕНИЕ ЗДРАВООХРАНЕНИЯ ТЮМЕНСКОЙ ОБЛАСТИ \"ГОРОДСКАЯ ПОЛИКЛИНИКА № 8\"', 'ГАУЗ ТО \"ГОРОДСКАЯ ПОЛИКЛИНИКА № 8\"', '7202100650', '720301001', '1027200839676', '1.2.643.5.1.13.13.12.2.72.7319', '75201', '13', '625031, обл Тюменская, г Тюмень, ул Ватутина, д 10б', 'f2ac52ff-06d2-4798-bd03-45d7cee1ecc4', '71000000000', 'gp8@med-to.ru', '+73452560284', '', '10.03.2025', '31.12.2025', '00825900000000000', 'ГОСУДАРСТВЕННОЕ АВТОНОМНОЕ УЧРЕЖДЕНИЕ ЗДРАВООХРАНЕНИЯ ТЮМЕНСКОЙ ОБЛАСТИ \"ГОРОДСКАЯ ПОЛИКЛИНИКА №12\"', 'ГАУЗ ТО \"ГОРОДСКАЯ ПОЛИКЛИНИКА №12\"', '7203116194', '720301001', '1027200811659', '1.2.643.5.1.13.13.12.2.72.7320', '75201', '13', '625028, обл Тюменская, г Тюмень, ул Народная, д 6', '2a6380ef-38e1-44ae-9df4-7713b76d3c76', '71000000000', 'gp12@med-to.ru', '+73452386321', '', '05.02.2025', '31.12.2025')\n"
     ]
    },
    {
     "name": "stdout",
     "output_type": "stream",
     "text": [
      "2025-09-03 16:03:26,423 INFO sqlalchemy.engine.Engine INSERT INTO nsi.[ERMO] ([IDMO], [NAM_MOP], [NAM_MOK], [INN], [KPP], [OGRN], [OID_MO], [OKOPF], [OKFS], [ADDR_J], [ADDR_J_GAR], [OKTMO], [EMAIL], [PHONE], [FAX], [DATEBEG], [DATEEND]) VALUES (?, ?, ?, ?, ?, ?, ?, ?, ?, ?, ?, ?, ?, ?, ?, ?, ?), (?, ?,  ... 6357 characters truncated ... ?, ?, ?, ?, ?, ?, ?, ?, ?, ?, ?, ?, ?, ?, ?, ?), (?, ?, ?, ?, ?, ?, ?, ?, ?, ?, ?, ?, ?, ?, ?, ?, ?)\n"
     ]
    },
    {
     "name": "stderr",
     "output_type": "stream",
     "text": [
      "INFO:sqlalchemy.engine.Engine:INSERT INTO nsi.[ERMO] ([IDMO], [NAM_MOP], [NAM_MOK], [INN], [KPP], [OGRN], [OID_MO], [OKOPF], [OKFS], [ADDR_J], [ADDR_J_GAR], [OKTMO], [EMAIL], [PHONE], [FAX], [DATEBEG], [DATEEND]) VALUES (?, ?, ?, ?, ?, ?, ?, ?, ?, ?, ?, ?, ?, ?, ?, ?, ?), (?, ?,  ... 6357 characters truncated ... ?, ?, ?, ?, ?, ?, ?, ?, ?, ?, ?, ?, ?, ?, ?, ?), (?, ?, ?, ?, ?, ?, ?, ?, ?, ?, ?, ?, ?, ?, ?, ?, ?)\n"
     ]
    },
    {
     "name": "stdout",
     "output_type": "stream",
     "text": [
      "2025-09-03 16:03:26,425 INFO sqlalchemy.engine.Engine [insertmanyvalues 51/72 (unordered)] ('00826000000000000', 'ГОСУДАРСТВЕННОЕ АВТОНОМНОЕ УЧРЕЖДЕНИЕ ЗДРАВООХРАНЕНИЯ ТЮМЕНСКОЙ ОБЛАСТИ \"ГОРОДСКАЯ ПОЛИКЛИНИКА №13\"', 'ГАУЗ ТО \"ГОРОДСКАЯ ПОЛИКЛИНИКА №13\"', '7203116268', '720301001', '1027200847189', '1.2.643.5.1.13.13.12.2.72.7321', '75201', '13', '625014, обл Тюменская, г Тюмень, ул Казачьи Луга, д. 9 к. 1', 'cc8aa730-8ed3-4633-86cf-3c148b5c6032', '71000000000', 'Tura_13@mail.ru', '+73452561159', '', '16.07.2025', '31.12.2025', '00826200000000000', 'ГОСУДАРСТВЕННОЕ АВТОНОМНОЕ УЧРЕЖДЕНИЕ ЗДРАВООХРАНЕНИЯ ТЮМЕНСКОЙ ОБЛАСТИ \"ГОРОДСКАЯ ПОЛИКЛИНИКА № 17\"', 'ГАУЗ ТО \"ГОРОДСКАЯ ПОЛИКЛИНИКА № 17\"', '7203116331', '720301001', '1027200869190', '1.2.643.5.1.13.13.12.2.72.7323', '75201', '13', '625051, обл Тюменская, г Тюмень, ул Широтная, д 102', '7f45ac43-907d-4737-a3c8-5e689c18c4b6', '71000000000', 'poliklinika17@mail.ru', '+73452560026', '', '20.05.2025', '31.12.2025', '00826300000000000', 'ГОСУДАРСТВЕННОЕ БЮДЖЕТНОЕ УЧРЕЖДЕНИЕ ЗДРАВООХРАНЕНИЯ ТЮМЕНСКОЙ ОБЛАСТИ \"РОДИЛЬНЫЙ ДОМ №2\"', 'ГБУЗ ТО \"РОДДОМ №2\"', '7203116275', '720301001', '1037200552278', '1.2.643.5.1.13.13.12.2.72.7340', '75203', '13', '625048, обл Тюменская, г Тюмень, ул Холодильная, д 58', '44bdb160-e332-4377-ad25-06f8370711e0', '71000000000', 'roddom2@list.ru', '+73452504914', '', '24.03.2025' ... 1991 parameters truncated ... 'ФЕДЕРАЛЬНОЕ ГОСУДАРСТВЕННОЕ БЮДЖЕТНОЕ ОБРАЗОВАТЕЛЬНОЕ УЧРЕЖДЕНИЕ ВЫСШЕГО ОБРАЗОВАНИЯ \"ЮЖНО-УРАЛЬСКИЙ ГОСУДАРСТВЕННЫЙ МЕДИЦИНСКИЙ УНИВЕРСИТЕТ\" МИНИСТЕРСТВА ЗДРАВООХРАНЕНИЯ РОССИЙСКОЙ ФЕДЕРАЦИИ', 'ФГБОУ ВО ЮУГМУ МИНЗДРАВА РОССИИ', '7453042876', '745301001', '1027403890865', '1.2.643.5.1.13.13.12.2.74.7602', '75103', '12', '454141, обл Челябинская, г Челябинск, ул Воровского, д 64', '53772e6f-5297-4320-81d8-7d244f20e43c', '75000000000', 'kanc@susmu.su', '+73512402020', '', '28.08.2025', '31.12.2025', '00845000000000000', 'ГОСУДАРСТВЕННОЕ БЮДЖЕТНОЕ УЧРЕЖДЕНИЕ ЗДРАВООХРАНЕНИЯ \"ОБЛАСТНОЙ КОЖНО-ВЕНЕРОЛОГИЧЕСКИЙ ДИСПАНСЕР № 3\"', 'ГБУЗ \"ОКВД № 3\"', '7450010467', '746001001', '1027402820323', '1.2.643.5.1.13.13.12.2.74.7452', '75203', '13', '454031, обл Челябинская, г Челябинск, ул Жукова, д 35', 'db11858c-6987-4c5d-a08c-296cad1e1be4', '75000000000', 'kvd3chel@bk.ru', '+73517356585', '', '28.02.2025', '31.12.2025', '00845100000000000', 'ГОСУДАРСТВЕННОЕ АВТОНОМНОЕ УЧРЕЖДЕНИЕ ЗДРАВООХРАНЕНИЯ \"ДЕТСКАЯ ГОРОДСКАЯ КЛИНИЧЕСКАЯ БОЛЬНИЦА № 8 Г. ЧЕЛЯБИНСК\"', 'ГАУЗ \"ДГКБ № 8 Г. ЧЕЛЯБИНСК\"', '7450006213', '746001001', '1027402818178', '1.2.643.5.1.13.13.12.2.74.7519', '75201', '13', '454017, обл Челябинская, г Челябинск, ул Дружбы, д 2', 'c41be840-ee53-4657-9097-456d98a224fd', '75000000000', 'dgkb8@mail.ru', '+73517212422', '', '28.02.2025', '31.12.2025')\n"
     ]
    },
    {
     "name": "stderr",
     "output_type": "stream",
     "text": [
      "INFO:sqlalchemy.engine.Engine:[insertmanyvalues 51/72 (unordered)] ('00826000000000000', 'ГОСУДАРСТВЕННОЕ АВТОНОМНОЕ УЧРЕЖДЕНИЕ ЗДРАВООХРАНЕНИЯ ТЮМЕНСКОЙ ОБЛАСТИ \"ГОРОДСКАЯ ПОЛИКЛИНИКА №13\"', 'ГАУЗ ТО \"ГОРОДСКАЯ ПОЛИКЛИНИКА №13\"', '7203116268', '720301001', '1027200847189', '1.2.643.5.1.13.13.12.2.72.7321', '75201', '13', '625014, обл Тюменская, г Тюмень, ул Казачьи Луга, д. 9 к. 1', 'cc8aa730-8ed3-4633-86cf-3c148b5c6032', '71000000000', 'Tura_13@mail.ru', '+73452561159', '', '16.07.2025', '31.12.2025', '00826200000000000', 'ГОСУДАРСТВЕННОЕ АВТОНОМНОЕ УЧРЕЖДЕНИЕ ЗДРАВООХРАНЕНИЯ ТЮМЕНСКОЙ ОБЛАСТИ \"ГОРОДСКАЯ ПОЛИКЛИНИКА № 17\"', 'ГАУЗ ТО \"ГОРОДСКАЯ ПОЛИКЛИНИКА № 17\"', '7203116331', '720301001', '1027200869190', '1.2.643.5.1.13.13.12.2.72.7323', '75201', '13', '625051, обл Тюменская, г Тюмень, ул Широтная, д 102', '7f45ac43-907d-4737-a3c8-5e689c18c4b6', '71000000000', 'poliklinika17@mail.ru', '+73452560026', '', '20.05.2025', '31.12.2025', '00826300000000000', 'ГОСУДАРСТВЕННОЕ БЮДЖЕТНОЕ УЧРЕЖДЕНИЕ ЗДРАВООХРАНЕНИЯ ТЮМЕНСКОЙ ОБЛАСТИ \"РОДИЛЬНЫЙ ДОМ №2\"', 'ГБУЗ ТО \"РОДДОМ №2\"', '7203116275', '720301001', '1037200552278', '1.2.643.5.1.13.13.12.2.72.7340', '75203', '13', '625048, обл Тюменская, г Тюмень, ул Холодильная, д 58', '44bdb160-e332-4377-ad25-06f8370711e0', '71000000000', 'roddom2@list.ru', '+73452504914', '', '24.03.2025' ... 1991 parameters truncated ... 'ФЕДЕРАЛЬНОЕ ГОСУДАРСТВЕННОЕ БЮДЖЕТНОЕ ОБРАЗОВАТЕЛЬНОЕ УЧРЕЖДЕНИЕ ВЫСШЕГО ОБРАЗОВАНИЯ \"ЮЖНО-УРАЛЬСКИЙ ГОСУДАРСТВЕННЫЙ МЕДИЦИНСКИЙ УНИВЕРСИТЕТ\" МИНИСТЕРСТВА ЗДРАВООХРАНЕНИЯ РОССИЙСКОЙ ФЕДЕРАЦИИ', 'ФГБОУ ВО ЮУГМУ МИНЗДРАВА РОССИИ', '7453042876', '745301001', '1027403890865', '1.2.643.5.1.13.13.12.2.74.7602', '75103', '12', '454141, обл Челябинская, г Челябинск, ул Воровского, д 64', '53772e6f-5297-4320-81d8-7d244f20e43c', '75000000000', 'kanc@susmu.su', '+73512402020', '', '28.08.2025', '31.12.2025', '00845000000000000', 'ГОСУДАРСТВЕННОЕ БЮДЖЕТНОЕ УЧРЕЖДЕНИЕ ЗДРАВООХРАНЕНИЯ \"ОБЛАСТНОЙ КОЖНО-ВЕНЕРОЛОГИЧЕСКИЙ ДИСПАНСЕР № 3\"', 'ГБУЗ \"ОКВД № 3\"', '7450010467', '746001001', '1027402820323', '1.2.643.5.1.13.13.12.2.74.7452', '75203', '13', '454031, обл Челябинская, г Челябинск, ул Жукова, д 35', 'db11858c-6987-4c5d-a08c-296cad1e1be4', '75000000000', 'kvd3chel@bk.ru', '+73517356585', '', '28.02.2025', '31.12.2025', '00845100000000000', 'ГОСУДАРСТВЕННОЕ АВТОНОМНОЕ УЧРЕЖДЕНИЕ ЗДРАВООХРАНЕНИЯ \"ДЕТСКАЯ ГОРОДСКАЯ КЛИНИЧЕСКАЯ БОЛЬНИЦА № 8 Г. ЧЕЛЯБИНСК\"', 'ГАУЗ \"ДГКБ № 8 Г. ЧЕЛЯБИНСК\"', '7450006213', '746001001', '1027402818178', '1.2.643.5.1.13.13.12.2.74.7519', '75201', '13', '454017, обл Челябинская, г Челябинск, ул Дружбы, д 2', 'c41be840-ee53-4657-9097-456d98a224fd', '75000000000', 'dgkb8@mail.ru', '+73517212422', '', '28.02.2025', '31.12.2025')\n"
     ]
    },
    {
     "name": "stdout",
     "output_type": "stream",
     "text": [
      "2025-09-03 16:03:26,536 INFO sqlalchemy.engine.Engine INSERT INTO nsi.[ERMO] ([IDMO], [NAM_MOP], [NAM_MOK], [INN], [KPP], [OGRN], [OID_MO], [OKOPF], [OKFS], [ADDR_J], [ADDR_J_GAR], [OKTMO], [EMAIL], [PHONE], [FAX], [DATEBEG], [DATEEND]) VALUES (?, ?, ?, ?, ?, ?, ?, ?, ?, ?, ?, ?, ?, ?, ?, ?, ?), (?, ?,  ... 6357 characters truncated ... ?, ?, ?, ?, ?, ?, ?, ?, ?, ?, ?, ?, ?, ?, ?, ?), (?, ?, ?, ?, ?, ?, ?, ?, ?, ?, ?, ?, ?, ?, ?, ?, ?)\n"
     ]
    },
    {
     "name": "stderr",
     "output_type": "stream",
     "text": [
      "INFO:sqlalchemy.engine.Engine:INSERT INTO nsi.[ERMO] ([IDMO], [NAM_MOP], [NAM_MOK], [INN], [KPP], [OGRN], [OID_MO], [OKOPF], [OKFS], [ADDR_J], [ADDR_J_GAR], [OKTMO], [EMAIL], [PHONE], [FAX], [DATEBEG], [DATEEND]) VALUES (?, ?, ?, ?, ?, ?, ?, ?, ?, ?, ?, ?, ?, ?, ?, ?, ?), (?, ?,  ... 6357 characters truncated ... ?, ?, ?, ?, ?, ?, ?, ?, ?, ?, ?, ?, ?, ?, ?, ?), (?, ?, ?, ?, ?, ?, ?, ?, ?, ?, ?, ?, ?, ?, ?, ?, ?)\n"
     ]
    },
    {
     "name": "stdout",
     "output_type": "stream",
     "text": [
      "2025-09-03 16:03:26,539 INFO sqlalchemy.engine.Engine [insertmanyvalues 52/72 (unordered)] ('00845200000000000', 'ГОСУДАРСТВЕННОЕ АВТОНОМНОЕ УЧРЕЖДЕНИЕ ЗДРАВООХРАНЕНИЯ \"ГОРОДСКАЯ КЛИНИЧЕСКАЯ БОЛЬНИЦА №2 Г. ЧЕЛЯБИНСК\"', 'ГАУЗ \"ГКБ № 2 Г. ЧЕЛЯБИНСК\"', '7453016450', '745301001', '1027403882802', '1.2.643.5.1.13.13.12.2.74.7504', '75201', '13', '454080, обл Челябинская, г Челябинск, пр-кт Ленина, д 82', 'a998defb-b1d9-4131-8da0-08ceb89d680d', '75000000000', 'gkb2-74@mail.ru', '+73517002288', '', '28.02.2025', '31.12.2025', '00845300000000000', 'ГОСУДАРСТВЕННОЕ БЮДЖЕТНОЕ УЧРЕЖДЕНИЕ ЗДРАВООХРАНЕНИЯ \"ГОРОДСКАЯ КЛИНИЧЕСКАЯ БОЛЬНИЦА № 5 Г. ЧЕЛЯБИНСК\"', 'ГБУЗ \"ГКБ № 5 Г. ЧЕЛЯБИНСК\"', '7447015313', '744701001', '1027402331769', '1.2.643.5.1.13.13.12.2.74.7444', '75203', '13', '454006, обл Челябинская, г Челябинск, ул Российская, д 20', '37faef8d-e435-4af5-96b3-e95ea6ff908c', '75000000000', 'gkb5@mail.ru', '+73512641464', '', '25.02.2025', '31.12.2025', '00845400000000000', 'ГОСУДАРСТВЕННОЕ АВТОНОМНОЕ УЧРЕЖДЕНИЕ ЗДРАВООХРАНЕНИЯ ОРДЕНА ЗНАК ПОЧЕТА \"ГОРОДСКАЯ КЛИНИЧЕСКАЯ БОЛЬНИЦА № 8 Г.ЧЕЛЯБИНСК\"', 'ГАУЗ ОЗП \"ГКБ № 8 Г.ЧЕЛЯБИНСК\"', '7452000312', '745201001', '1027403778412', '1.2.643.5.1.13.13.12.2.74.7527', '75201', '13', '454071, обл Челябинская, г Челябинск, ул Горького, д 28', '5625a319-5c9c-42c1-a23b-3c911c9aea9c', '75000000000', 'official@chelgkb8.ru', '+73517730610', '', '01.08.2025' ... 1991 parameters truncated ... 'ОБЩЕСТВО С ОГРАНИЧЕННОЙ ОТВЕТСТВЕННОСТЬЮ \"НОВААРТ\"', 'ООО \"НОВААРТ\"', '7412014742', '743001001', '1107412000739', '1.2.643.5.1.13.13.12.2.74.20287', '12300', '16', '456550, обл Челябинская, р-н Коркинский, г Коркино, ул Калинина, д 13', 'c9209931-8b71-47c2-908e-7d0239e6b7cb', '75000000000', 'novaart74@mail.ru', '+73515237032', '', '26.02.2025', '31.12.2025', '00859000000000000', 'ОБЩЕСТВО С ОГРАНИЧЕННОЙ ОТВЕТСТВЕННОСТЬЮ \"ЦЕНТР АКУШЕРСТВА И ГИНЕКОЛОГИИ №1\"', 'ООО \"ЦАГ №1\"', '7448118255', '745101001', '1097448002288', '1.2.643.5.1.13.13.12.2.74.19521', '12300', '16', '454048, обл Челябинская, г Челябинск, ул Яблочкина, д 3', '2c67a392-6b8b-4cc5-b906-486b14200c6c', '75000000000', '2363600@MAIL.RU', '+79123050543', '', '07.03.2025', '31.12.2025', '00859100000000000', 'ГОСУДАРСТВЕННОЕ БЮДЖЕТНОЕ УЧРЕЖДЕНИЕ ЗДРАВООХРАНЕНИЯ \"ЦЕНТР МЕДИЦИНСКОЙ РЕАБИЛИТАЦИИ \"ВДОХНОВЕНИЕ\"', 'ГБУЗ \"ЦЕНТР МЕДИЦИНСКОЙ РЕАБИЛИТАЦИИ \"ВДОХНОВЕНИЕ\"', '7449021841', '744901001', '1027402705220', '1.2.643.5.1.13.13.12.2.74.7566', '75203', '13', '454135, обл Челябинская, г Челябинск, ул Энергетиков, д 38', '6e87fe21-4495-4d8c-9195-d2abd9bbd9b4', '75000000000', 'centr74vdoh@gmail.com', '+73512537342', '', '28.07.2025', '31.12.2025')\n"
     ]
    },
    {
     "name": "stderr",
     "output_type": "stream",
     "text": [
      "INFO:sqlalchemy.engine.Engine:[insertmanyvalues 52/72 (unordered)] ('00845200000000000', 'ГОСУДАРСТВЕННОЕ АВТОНОМНОЕ УЧРЕЖДЕНИЕ ЗДРАВООХРАНЕНИЯ \"ГОРОДСКАЯ КЛИНИЧЕСКАЯ БОЛЬНИЦА №2 Г. ЧЕЛЯБИНСК\"', 'ГАУЗ \"ГКБ № 2 Г. ЧЕЛЯБИНСК\"', '7453016450', '745301001', '1027403882802', '1.2.643.5.1.13.13.12.2.74.7504', '75201', '13', '454080, обл Челябинская, г Челябинск, пр-кт Ленина, д 82', 'a998defb-b1d9-4131-8da0-08ceb89d680d', '75000000000', 'gkb2-74@mail.ru', '+73517002288', '', '28.02.2025', '31.12.2025', '00845300000000000', 'ГОСУДАРСТВЕННОЕ БЮДЖЕТНОЕ УЧРЕЖДЕНИЕ ЗДРАВООХРАНЕНИЯ \"ГОРОДСКАЯ КЛИНИЧЕСКАЯ БОЛЬНИЦА № 5 Г. ЧЕЛЯБИНСК\"', 'ГБУЗ \"ГКБ № 5 Г. ЧЕЛЯБИНСК\"', '7447015313', '744701001', '1027402331769', '1.2.643.5.1.13.13.12.2.74.7444', '75203', '13', '454006, обл Челябинская, г Челябинск, ул Российская, д 20', '37faef8d-e435-4af5-96b3-e95ea6ff908c', '75000000000', 'gkb5@mail.ru', '+73512641464', '', '25.02.2025', '31.12.2025', '00845400000000000', 'ГОСУДАРСТВЕННОЕ АВТОНОМНОЕ УЧРЕЖДЕНИЕ ЗДРАВООХРАНЕНИЯ ОРДЕНА ЗНАК ПОЧЕТА \"ГОРОДСКАЯ КЛИНИЧЕСКАЯ БОЛЬНИЦА № 8 Г.ЧЕЛЯБИНСК\"', 'ГАУЗ ОЗП \"ГКБ № 8 Г.ЧЕЛЯБИНСК\"', '7452000312', '745201001', '1027403778412', '1.2.643.5.1.13.13.12.2.74.7527', '75201', '13', '454071, обл Челябинская, г Челябинск, ул Горького, д 28', '5625a319-5c9c-42c1-a23b-3c911c9aea9c', '75000000000', 'official@chelgkb8.ru', '+73517730610', '', '01.08.2025' ... 1991 parameters truncated ... 'ОБЩЕСТВО С ОГРАНИЧЕННОЙ ОТВЕТСТВЕННОСТЬЮ \"НОВААРТ\"', 'ООО \"НОВААРТ\"', '7412014742', '743001001', '1107412000739', '1.2.643.5.1.13.13.12.2.74.20287', '12300', '16', '456550, обл Челябинская, р-н Коркинский, г Коркино, ул Калинина, д 13', 'c9209931-8b71-47c2-908e-7d0239e6b7cb', '75000000000', 'novaart74@mail.ru', '+73515237032', '', '26.02.2025', '31.12.2025', '00859000000000000', 'ОБЩЕСТВО С ОГРАНИЧЕННОЙ ОТВЕТСТВЕННОСТЬЮ \"ЦЕНТР АКУШЕРСТВА И ГИНЕКОЛОГИИ №1\"', 'ООО \"ЦАГ №1\"', '7448118255', '745101001', '1097448002288', '1.2.643.5.1.13.13.12.2.74.19521', '12300', '16', '454048, обл Челябинская, г Челябинск, ул Яблочкина, д 3', '2c67a392-6b8b-4cc5-b906-486b14200c6c', '75000000000', '2363600@MAIL.RU', '+79123050543', '', '07.03.2025', '31.12.2025', '00859100000000000', 'ГОСУДАРСТВЕННОЕ БЮДЖЕТНОЕ УЧРЕЖДЕНИЕ ЗДРАВООХРАНЕНИЯ \"ЦЕНТР МЕДИЦИНСКОЙ РЕАБИЛИТАЦИИ \"ВДОХНОВЕНИЕ\"', 'ГБУЗ \"ЦЕНТР МЕДИЦИНСКОЙ РЕАБИЛИТАЦИИ \"ВДОХНОВЕНИЕ\"', '7449021841', '744901001', '1027402705220', '1.2.643.5.1.13.13.12.2.74.7566', '75203', '13', '454135, обл Челябинская, г Челябинск, ул Энергетиков, д 38', '6e87fe21-4495-4d8c-9195-d2abd9bbd9b4', '75000000000', 'centr74vdoh@gmail.com', '+73512537342', '', '28.07.2025', '31.12.2025')\n"
     ]
    },
    {
     "name": "stdout",
     "output_type": "stream",
     "text": [
      "2025-09-03 16:03:26,658 INFO sqlalchemy.engine.Engine INSERT INTO nsi.[ERMO] ([IDMO], [NAM_MOP], [NAM_MOK], [INN], [KPP], [OGRN], [OID_MO], [OKOPF], [OKFS], [ADDR_J], [ADDR_J_GAR], [OKTMO], [EMAIL], [PHONE], [FAX], [DATEBEG], [DATEEND]) VALUES (?, ?, ?, ?, ?, ?, ?, ?, ?, ?, ?, ?, ?, ?, ?, ?, ?), (?, ?,  ... 6357 characters truncated ... ?, ?, ?, ?, ?, ?, ?, ?, ?, ?, ?, ?, ?, ?, ?, ?), (?, ?, ?, ?, ?, ?, ?, ?, ?, ?, ?, ?, ?, ?, ?, ?, ?)\n"
     ]
    },
    {
     "name": "stderr",
     "output_type": "stream",
     "text": [
      "INFO:sqlalchemy.engine.Engine:INSERT INTO nsi.[ERMO] ([IDMO], [NAM_MOP], [NAM_MOK], [INN], [KPP], [OGRN], [OID_MO], [OKOPF], [OKFS], [ADDR_J], [ADDR_J_GAR], [OKTMO], [EMAIL], [PHONE], [FAX], [DATEBEG], [DATEEND]) VALUES (?, ?, ?, ?, ?, ?, ?, ?, ?, ?, ?, ?, ?, ?, ?, ?, ?), (?, ?,  ... 6357 characters truncated ... ?, ?, ?, ?, ?, ?, ?, ?, ?, ?, ?, ?, ?, ?, ?, ?), (?, ?, ?, ?, ?, ?, ?, ?, ?, ?, ?, ?, ?, ?, ?, ?, ?)\n"
     ]
    },
    {
     "name": "stdout",
     "output_type": "stream",
     "text": [
      "2025-09-03 16:03:26,659 INFO sqlalchemy.engine.Engine [insertmanyvalues 53/72 (unordered)] ('00859200000000000', 'ОБЩЕСТВО С ОГРАНИЧЕННОЙ ОТВЕТСТВЕННОСТЬЮ \"ФОРТУНА\"', 'ООО \"ФОРТУНА\"', '7453270336', '745301001', '1147453006700', '1.2.643.5.1.13.13.12.2.74.10774', '12300', '16', '454080, обл Челябинская, г Челябинск, ул Сони Кривой, д 43А', '845f5638-1e47-4e89-8815-1dd02d435741', '75000000000', 'tverdova.i@inbox.ru', '+79124068138', '', '28.02.2025', '31.12.2025', '00859400000000000', 'ОБЩЕСТВО С ОГРАНИЧЕННОЙ ОТВЕТСТВЕННОСТЬЮ \"ДЕМИДОВ\"', 'ООО \"ДЕМИДОВ\"', '7415086103', '741501001', '1147415003328', '1.2.643.5.1.13.13.12.2.74.20350', '12300', '16', '456318, обл Челябинская, г Миасс, пр-кт Октября, д 49', 'b2740211-27b8-4bae-bad5-fbfa170989f4', '75000000000', 'demidov081@yandex.ru', '+79088277771', '', '07.03.2025', '31.12.2025', '00859500000000000', 'ОБЩЕСТВО С ОГРАНИЧЕННОЙ ОТВЕТСТВЕННОСТЬЮ ЛЕЧЕБНО-ПРОФИЛАКТИЧЕСКАЯ МЕДИЦИНСКАЯ ОРГАНИЗАЦИЯ \"НОВОЕ СЕЧЕНИЕ\"', 'ООО ЛПМО \"НОВОЕ СЕЧЕНИЕ\"', '7453286350', '745301001', '1157453008921', '1.2.643.5.1.13.13.12.2.74.10796', '12300', '16', '454080, обл Челябинская, г Челябинск, ул Энтузиастов, д 15В', '802992ac-b7db-40af-9426-6396e022d6e1', '75000000000', 'INFO@ZOLSK.RU', '+73512253366', '', '28.02.2025' ... 1991 parameters truncated ... 'ГОСУДАРСТВЕННОЕ АВТОНОМНОЕ УЧРЕЖДЕНИЕ ЗДРАВООХРАНЕНИЯ ЯРОСЛАВСКОЙ ОБЛАСТИ \"КЛИНИЧЕСКАЯ БОЛЬНИЦА № 9\"', 'ГАУЗ ЯО \"КЛИНИЧЕСКАЯ БОЛЬНИЦА № 9\"', '7602108082', '760201001', '1147602005418', '1.2.643.5.1.13.13.12.2.76.7786', '75201', '13', '150042, обл Ярославская, г Ярославль, ш Тутаевское, д 31', '99bc4fbb-a142-4db5-bdac-45e037a69c46', '78000000000', 'admin.kb9@yarregion.ru', '+74852552185', '', '26.08.2025', '31.12.2025', '00875900000000000', 'ОБЩЕСТВО С ОГРАНИЧЕННОЙ ОТВЕТСТВЕННОСТЬЮ \"ЦЕНТР ДИАГНОСТИКИ РЫБИНСК\"', 'ООО \"ЦЕНТР ДИАГНОСТИКИ РЫБИНСК\"', '7610093619', '761001001', '1117610007460', '1.2.643.5.1.13.13.12.2.76.14114', '12300', '16', '152934, обл Ярославская, р-н Рыбинский, г Рыбинск, ул Пушкина, д 39', '320219d4-ec27-44cd-a5c4-3edc1c985c82', '78000000000', 'tomograd_dms@mail.ru', '+79301172384', '', '11.07.2025', '31.12.2025', '00876000000000000', 'ОБЩЕСТВО С ОГРАНИЧЕННОЙ ОТВЕТСТВЕННОСТЬЮ \"ДИАГНОСТИЧЕСКИЙ ЦЕНТР ТОМОГРАД-ЯРОСЛАВЛЬ\"', 'ООО \"ДЦ ТОМОГРАД-ЯРОСЛАВЛЬ\"', '7606078865', '760401001', '1107606003570', '1.2.643.5.1.13.13.12.2.76.16697', '12300', '16', '150014, обл Ярославская, г Ярославль, пр-кт Толбухина, д 8/75', 'db5cdaf5-0ec6-4dfd-b0a1-e20bfd748e50', '78000000000', 'oms@yarmedexpert.ru', '+79056459717', '', '11.07.2025', '31.12.2025')\n"
     ]
    },
    {
     "name": "stderr",
     "output_type": "stream",
     "text": [
      "INFO:sqlalchemy.engine.Engine:[insertmanyvalues 53/72 (unordered)] ('00859200000000000', 'ОБЩЕСТВО С ОГРАНИЧЕННОЙ ОТВЕТСТВЕННОСТЬЮ \"ФОРТУНА\"', 'ООО \"ФОРТУНА\"', '7453270336', '745301001', '1147453006700', '1.2.643.5.1.13.13.12.2.74.10774', '12300', '16', '454080, обл Челябинская, г Челябинск, ул Сони Кривой, д 43А', '845f5638-1e47-4e89-8815-1dd02d435741', '75000000000', 'tverdova.i@inbox.ru', '+79124068138', '', '28.02.2025', '31.12.2025', '00859400000000000', 'ОБЩЕСТВО С ОГРАНИЧЕННОЙ ОТВЕТСТВЕННОСТЬЮ \"ДЕМИДОВ\"', 'ООО \"ДЕМИДОВ\"', '7415086103', '741501001', '1147415003328', '1.2.643.5.1.13.13.12.2.74.20350', '12300', '16', '456318, обл Челябинская, г Миасс, пр-кт Октября, д 49', 'b2740211-27b8-4bae-bad5-fbfa170989f4', '75000000000', 'demidov081@yandex.ru', '+79088277771', '', '07.03.2025', '31.12.2025', '00859500000000000', 'ОБЩЕСТВО С ОГРАНИЧЕННОЙ ОТВЕТСТВЕННОСТЬЮ ЛЕЧЕБНО-ПРОФИЛАКТИЧЕСКАЯ МЕДИЦИНСКАЯ ОРГАНИЗАЦИЯ \"НОВОЕ СЕЧЕНИЕ\"', 'ООО ЛПМО \"НОВОЕ СЕЧЕНИЕ\"', '7453286350', '745301001', '1157453008921', '1.2.643.5.1.13.13.12.2.74.10796', '12300', '16', '454080, обл Челябинская, г Челябинск, ул Энтузиастов, д 15В', '802992ac-b7db-40af-9426-6396e022d6e1', '75000000000', 'INFO@ZOLSK.RU', '+73512253366', '', '28.02.2025' ... 1991 parameters truncated ... 'ГОСУДАРСТВЕННОЕ АВТОНОМНОЕ УЧРЕЖДЕНИЕ ЗДРАВООХРАНЕНИЯ ЯРОСЛАВСКОЙ ОБЛАСТИ \"КЛИНИЧЕСКАЯ БОЛЬНИЦА № 9\"', 'ГАУЗ ЯО \"КЛИНИЧЕСКАЯ БОЛЬНИЦА № 9\"', '7602108082', '760201001', '1147602005418', '1.2.643.5.1.13.13.12.2.76.7786', '75201', '13', '150042, обл Ярославская, г Ярославль, ш Тутаевское, д 31', '99bc4fbb-a142-4db5-bdac-45e037a69c46', '78000000000', 'admin.kb9@yarregion.ru', '+74852552185', '', '26.08.2025', '31.12.2025', '00875900000000000', 'ОБЩЕСТВО С ОГРАНИЧЕННОЙ ОТВЕТСТВЕННОСТЬЮ \"ЦЕНТР ДИАГНОСТИКИ РЫБИНСК\"', 'ООО \"ЦЕНТР ДИАГНОСТИКИ РЫБИНСК\"', '7610093619', '761001001', '1117610007460', '1.2.643.5.1.13.13.12.2.76.14114', '12300', '16', '152934, обл Ярославская, р-н Рыбинский, г Рыбинск, ул Пушкина, д 39', '320219d4-ec27-44cd-a5c4-3edc1c985c82', '78000000000', 'tomograd_dms@mail.ru', '+79301172384', '', '11.07.2025', '31.12.2025', '00876000000000000', 'ОБЩЕСТВО С ОГРАНИЧЕННОЙ ОТВЕТСТВЕННОСТЬЮ \"ДИАГНОСТИЧЕСКИЙ ЦЕНТР ТОМОГРАД-ЯРОСЛАВЛЬ\"', 'ООО \"ДЦ ТОМОГРАД-ЯРОСЛАВЛЬ\"', '7606078865', '760401001', '1107606003570', '1.2.643.5.1.13.13.12.2.76.16697', '12300', '16', '150014, обл Ярославская, г Ярославль, пр-кт Толбухина, д 8/75', 'db5cdaf5-0ec6-4dfd-b0a1-e20bfd748e50', '78000000000', 'oms@yarmedexpert.ru', '+79056459717', '', '11.07.2025', '31.12.2025')\n"
     ]
    },
    {
     "name": "stdout",
     "output_type": "stream",
     "text": [
      "2025-09-03 16:03:26,771 INFO sqlalchemy.engine.Engine INSERT INTO nsi.[ERMO] ([IDMO], [NAM_MOP], [NAM_MOK], [INN], [KPP], [OGRN], [OID_MO], [OKOPF], [OKFS], [ADDR_J], [ADDR_J_GAR], [OKTMO], [EMAIL], [PHONE], [FAX], [DATEBEG], [DATEEND]) VALUES (?, ?, ?, ?, ?, ?, ?, ?, ?, ?, ?, ?, ?, ?, ?, ?, ?), (?, ?,  ... 6357 characters truncated ... ?, ?, ?, ?, ?, ?, ?, ?, ?, ?, ?, ?, ?, ?, ?, ?), (?, ?, ?, ?, ?, ?, ?, ?, ?, ?, ?, ?, ?, ?, ?, ?, ?)\n"
     ]
    },
    {
     "name": "stderr",
     "output_type": "stream",
     "text": [
      "INFO:sqlalchemy.engine.Engine:INSERT INTO nsi.[ERMO] ([IDMO], [NAM_MOP], [NAM_MOK], [INN], [KPP], [OGRN], [OID_MO], [OKOPF], [OKFS], [ADDR_J], [ADDR_J_GAR], [OKTMO], [EMAIL], [PHONE], [FAX], [DATEBEG], [DATEEND]) VALUES (?, ?, ?, ?, ?, ?, ?, ?, ?, ?, ?, ?, ?, ?, ?, ?, ?), (?, ?,  ... 6357 characters truncated ... ?, ?, ?, ?, ?, ?, ?, ?, ?, ?, ?, ?, ?, ?, ?, ?), (?, ?, ?, ?, ?, ?, ?, ?, ?, ?, ?, ?, ?, ?, ?, ?, ?)\n"
     ]
    },
    {
     "name": "stdout",
     "output_type": "stream",
     "text": [
      "2025-09-03 16:03:26,773 INFO sqlalchemy.engine.Engine [insertmanyvalues 54/72 (unordered)] ('00876100000000000', 'ОБЩЕСТВО С ОГРАНИЧЕННОЙ ОТВЕТСТВЕННОСТЬЮ \"КЛИНИКА КОНСТАНТА\"', 'ООО \"КЛИНИКА КОНСТАНТА\"', '7604310921', '760401001', '1167627086670', '1.2.643.5.1.13.13.12.2.76.15475', '12300', '16', '150003, обл Ярославская, г Ярославль, ул Победы, д 15', '8fa9c5ba-6fbc-42c5-9435-54228f965335', '78000000000', 'info@constanta-smt.ru', '+74852747774', '', '11.07.2025', '31.12.2025', '00876200000000000', 'ОБЩЕСТВО С ОГРАНИЧЕННОЙ ОТВЕТСТВЕННОСТЬЮ \"АНЯ-РЫБИНСК\"', 'ООО \"АНЯ-РЫБИНСК\"', '7610039570', '761001001', '1027601122944', '1.2.643.5.1.13.13.12.2.76.20195', '12300', '16', '152931, обл Ярославская, р-н Рыбинский, г Рыбинск, ул Карякинская, д 47', '30f99ad0-2396-40ff-b2ad-2b3c33a4b6c4', '78000000000', 'YUDINMED@GMAIL.COM', '+79201121967', '', '11.07.2025', '31.12.2025', '00876300000000000', 'ОБЩЕСТВО С ОГРАНИЧЕННОЙ ОТВЕТСТВЕННОСТЬЮ \"ОФТАЛЬМОЛОГИЧЕСКАЯ КЛИНИКА ИННОВАЦИОННЫХ ТЕХНОЛОГИЙ\"', 'ООО \"ОФТАКИТ\"', '7604243249', '760401001', '1137604007683', '1.2.643.5.1.13.13.12.2.76.20243', '12300', '16', '150049, обл Ярославская, г Ярославль, ул Свободы, д 91', 'da440acd-da2b-4c3a-97a2-527123f5cd0b', '78000000000', 'OFTAKIT@LIST.RU', '+74852721154', '', '11.07.2025' ... 1991 parameters truncated ... 'ГОСУДАРСТВЕННОЕ БЮДЖЕТНОЕ УЧРЕЖДЕНИЕ ЗДРАВООХРАНЕНИЯ ГОРОДА МОСКВЫ \"ГОРОДСКАЯ ПОЛИКЛИНИКА № 46 ДЕПАРТАМЕНТА ЗДРАВООХРАНЕНИЯ ГОРОДА МОСКВЫ\"', 'ГБУЗ \"ГП № 46 ДЗМ\"', '7701107820', '770901001', '1037739491129', '1.2.643.5.1.13.13.12.2.77.8165', '75203', '13', '109544, г Москва, ул Рабочая, д. 34 стр. 1', '49a645e3-4750-4734-9f27-3d9dc6b605cc', '45000000000', 'gp46@zdrav.mos.ru', '+74992676320', '', '01.01.2025', '31.12.2025', '00891300000000000', 'ГОСУДАРСТВЕННОЕ БЮДЖЕТНОЕ УЧРЕЖДЕНИЕ ЗДРАВООХРАНЕНИЯ ГОРОДА МОСКВЫ \"ДЕТСКАЯ ГОРОДСКАЯ ПОЛИКЛИНИКА № 48 ДЕПАРТАМЕНТА ЗДРАВООХРАНЕНИЯ ГОРОДА МОСКВЫ\"', 'ГБУЗ \"ДГП № 48 ДЗМ\"', '7723087091', '772301001', '1027739659628', '1.2.643.5.1.13.13.12.2.77.8117', '75203', '13', '109263, г Москва, ул Артюхиной, д. 27 к. 3', '08969958-93e3-455f-99d8-fd179ca7b364', '45000000000', 'dgp48@zdrav.mos.ru', '+74991795882', '', '11.07.2025', '31.12.2025', '00891400000000000', 'ГОСУДАРСТВЕННОЕ БЮДЖЕТНОЕ УЧРЕЖДЕНИЕ ЗДРАВООХРАНЕНИЯ ГОРОДА МОСКВЫ \"ДЕТСКАЯ ГОРОДСКАЯ ПОЛИКЛИНИКА № 110 ДЕПАРТАМЕНТА ЗДРАВООХРАНЕНИЯ ГОРОДА МОСКВЫ\"', 'ГБУЗ ДГП № 110 ДЗМ', '7715089377', '771501001', '1027700497703', '1.2.643.5.1.13.13.12.2.77.7933', '75203', '13', '127490, г Москва, ул Декабристов, д 39', '50b1460e-fae2-4e47-a6aa-0897eb13cbc5', '45000000000', 'dgp110@zdrav.mos.ru', '+74992049262', '', '11.07.2025', '31.12.2025')\n"
     ]
    },
    {
     "name": "stderr",
     "output_type": "stream",
     "text": [
      "INFO:sqlalchemy.engine.Engine:[insertmanyvalues 54/72 (unordered)] ('00876100000000000', 'ОБЩЕСТВО С ОГРАНИЧЕННОЙ ОТВЕТСТВЕННОСТЬЮ \"КЛИНИКА КОНСТАНТА\"', 'ООО \"КЛИНИКА КОНСТАНТА\"', '7604310921', '760401001', '1167627086670', '1.2.643.5.1.13.13.12.2.76.15475', '12300', '16', '150003, обл Ярославская, г Ярославль, ул Победы, д 15', '8fa9c5ba-6fbc-42c5-9435-54228f965335', '78000000000', 'info@constanta-smt.ru', '+74852747774', '', '11.07.2025', '31.12.2025', '00876200000000000', 'ОБЩЕСТВО С ОГРАНИЧЕННОЙ ОТВЕТСТВЕННОСТЬЮ \"АНЯ-РЫБИНСК\"', 'ООО \"АНЯ-РЫБИНСК\"', '7610039570', '761001001', '1027601122944', '1.2.643.5.1.13.13.12.2.76.20195', '12300', '16', '152931, обл Ярославская, р-н Рыбинский, г Рыбинск, ул Карякинская, д 47', '30f99ad0-2396-40ff-b2ad-2b3c33a4b6c4', '78000000000', 'YUDINMED@GMAIL.COM', '+79201121967', '', '11.07.2025', '31.12.2025', '00876300000000000', 'ОБЩЕСТВО С ОГРАНИЧЕННОЙ ОТВЕТСТВЕННОСТЬЮ \"ОФТАЛЬМОЛОГИЧЕСКАЯ КЛИНИКА ИННОВАЦИОННЫХ ТЕХНОЛОГИЙ\"', 'ООО \"ОФТАКИТ\"', '7604243249', '760401001', '1137604007683', '1.2.643.5.1.13.13.12.2.76.20243', '12300', '16', '150049, обл Ярославская, г Ярославль, ул Свободы, д 91', 'da440acd-da2b-4c3a-97a2-527123f5cd0b', '78000000000', 'OFTAKIT@LIST.RU', '+74852721154', '', '11.07.2025' ... 1991 parameters truncated ... 'ГОСУДАРСТВЕННОЕ БЮДЖЕТНОЕ УЧРЕЖДЕНИЕ ЗДРАВООХРАНЕНИЯ ГОРОДА МОСКВЫ \"ГОРОДСКАЯ ПОЛИКЛИНИКА № 46 ДЕПАРТАМЕНТА ЗДРАВООХРАНЕНИЯ ГОРОДА МОСКВЫ\"', 'ГБУЗ \"ГП № 46 ДЗМ\"', '7701107820', '770901001', '1037739491129', '1.2.643.5.1.13.13.12.2.77.8165', '75203', '13', '109544, г Москва, ул Рабочая, д. 34 стр. 1', '49a645e3-4750-4734-9f27-3d9dc6b605cc', '45000000000', 'gp46@zdrav.mos.ru', '+74992676320', '', '01.01.2025', '31.12.2025', '00891300000000000', 'ГОСУДАРСТВЕННОЕ БЮДЖЕТНОЕ УЧРЕЖДЕНИЕ ЗДРАВООХРАНЕНИЯ ГОРОДА МОСКВЫ \"ДЕТСКАЯ ГОРОДСКАЯ ПОЛИКЛИНИКА № 48 ДЕПАРТАМЕНТА ЗДРАВООХРАНЕНИЯ ГОРОДА МОСКВЫ\"', 'ГБУЗ \"ДГП № 48 ДЗМ\"', '7723087091', '772301001', '1027739659628', '1.2.643.5.1.13.13.12.2.77.8117', '75203', '13', '109263, г Москва, ул Артюхиной, д. 27 к. 3', '08969958-93e3-455f-99d8-fd179ca7b364', '45000000000', 'dgp48@zdrav.mos.ru', '+74991795882', '', '11.07.2025', '31.12.2025', '00891400000000000', 'ГОСУДАРСТВЕННОЕ БЮДЖЕТНОЕ УЧРЕЖДЕНИЕ ЗДРАВООХРАНЕНИЯ ГОРОДА МОСКВЫ \"ДЕТСКАЯ ГОРОДСКАЯ ПОЛИКЛИНИКА № 110 ДЕПАРТАМЕНТА ЗДРАВООХРАНЕНИЯ ГОРОДА МОСКВЫ\"', 'ГБУЗ ДГП № 110 ДЗМ', '7715089377', '771501001', '1027700497703', '1.2.643.5.1.13.13.12.2.77.7933', '75203', '13', '127490, г Москва, ул Декабристов, д 39', '50b1460e-fae2-4e47-a6aa-0897eb13cbc5', '45000000000', 'dgp110@zdrav.mos.ru', '+74992049262', '', '11.07.2025', '31.12.2025')\n"
     ]
    },
    {
     "name": "stdout",
     "output_type": "stream",
     "text": [
      "2025-09-03 16:03:26,892 INFO sqlalchemy.engine.Engine INSERT INTO nsi.[ERMO] ([IDMO], [NAM_MOP], [NAM_MOK], [INN], [KPP], [OGRN], [OID_MO], [OKOPF], [OKFS], [ADDR_J], [ADDR_J_GAR], [OKTMO], [EMAIL], [PHONE], [FAX], [DATEBEG], [DATEEND]) VALUES (?, ?, ?, ?, ?, ?, ?, ?, ?, ?, ?, ?, ?, ?, ?, ?, ?), (?, ?,  ... 6357 characters truncated ... ?, ?, ?, ?, ?, ?, ?, ?, ?, ?, ?, ?, ?, ?, ?, ?), (?, ?, ?, ?, ?, ?, ?, ?, ?, ?, ?, ?, ?, ?, ?, ?, ?)\n"
     ]
    },
    {
     "name": "stderr",
     "output_type": "stream",
     "text": [
      "INFO:sqlalchemy.engine.Engine:INSERT INTO nsi.[ERMO] ([IDMO], [NAM_MOP], [NAM_MOK], [INN], [KPP], [OGRN], [OID_MO], [OKOPF], [OKFS], [ADDR_J], [ADDR_J_GAR], [OKTMO], [EMAIL], [PHONE], [FAX], [DATEBEG], [DATEEND]) VALUES (?, ?, ?, ?, ?, ?, ?, ?, ?, ?, ?, ?, ?, ?, ?, ?, ?), (?, ?,  ... 6357 characters truncated ... ?, ?, ?, ?, ?, ?, ?, ?, ?, ?, ?, ?, ?, ?, ?, ?), (?, ?, ?, ?, ?, ?, ?, ?, ?, ?, ?, ?, ?, ?, ?, ?, ?)\n"
     ]
    },
    {
     "name": "stdout",
     "output_type": "stream",
     "text": [
      "2025-09-03 16:03:26,895 INFO sqlalchemy.engine.Engine [insertmanyvalues 55/72 (unordered)] ('00891500000000000', 'ГОСУДАРСТВЕННОЕ АВТОНОМНОЕ УЧРЕЖДЕНИЕ ЗДРАВООХРАНЕНИЯ ГОРОДА МОСКВЫ \"СТОМАТОЛОГИЧЕСКАЯ ПОЛИКЛИНИКА № 53 ДЕПАРТАМЕНТА ЗДРАВООХРАНЕНИЯ ГОРОДА МОСКВЫ\"', 'ГАУЗ \"СП № 53 ДЗМ\"', '7701125963', '770101001', '1027739573817', '1.2.643.5.1.13.13.12.2.77.8089', '75201', '13', '107078, г Москва, пер Большой Харитоньевский, д 24А', '3649105b-1380-4bea-b67b-44186bd790d8', '45000000000', 'sp53@zdrav.mos.ru', '+74994900153', '', '11.07.2025', '31.12.2025', '00891600000000000', 'ФЕДЕРАЛЬНОЕ ГОСУДАРСТВЕННОЕ БЮДЖЕТНОЕ НАУЧНОЕ УЧРЕЖДЕНИЕ \"РОССИЙСКИЙ НАУЧНЫЙ ЦЕНТР ХИРУРГИИ ИМЕНИ АКАДЕМИКА Б.В. ПЕТРОВСКОГО\"', 'ФГБНУ \"РНЦХ ИМ. АКАД. Б.В. ПЕТРОВСКОГО\"', '7704030124', '770401001', '1027739267214', '1.2.643.5.1.13.13.12.2.77.10617', '75103', '12', '119435, г Москва, пер Абрикосовский, д 2', 'cee9e262-6c6f-4441-a8fd-a8d5b5999ac3', '45000000000', 'nrcs@med.ru', '+74992466369', '', '28.05.2025', '31.12.2025', '00891800000000000', 'ГОСУДАРСТВЕННОЕ БЮДЖЕТНОЕ УЧРЕЖДЕНИЕ ЗДРАВООХРАНЕНИЯ ГОРОДА МОСКВЫ \"ДЕТСКАЯ ГОРОДСКАЯ ПОЛИКЛИНИКА № 28 ДЕПАРТАМЕНТА ЗДРАВООХРАНЕНИЯ ГОРОДА МОСКВЫ\"', 'ГБУЗ \"ДГП № 28 ДЗМ\"', '7718225444', '771801001', '1027739696951', '1.2.643.5.1.13.13.12.2.77.7935', '75203', '13', '107258, г Москва, б-р Маршала Рокоссовского, д. 35 стр. 1', 'ca74cec0-9ba8-469c-b97e-80234ce36fcf', '45000000000', 'dgp28@zdrav.mos.ru', '+74991689215', '', '10.07.2025' ... 1991 parameters truncated ... 'ФЕДЕРАЛЬНОЕ ГОСУДАРСТВЕННОЕ БЮДЖЕТНОЕ УЧРЕЖДЕНИЕ \"ЦЕНТРАЛЬНАЯ КЛИНИЧЕСКАЯ БОЛЬНИЦА С ПОЛИКЛИНИКОЙ\" УПРАВЛЕНИЯ ДЕЛАМИ ПРЕЗИДЕНТА РОССИЙСКОЙ ФЕДЕРАЦИИ', 'ФГБУ \"ЦКБ С ПОЛИКЛИНИКОЙ\"', '7731082971', '773101001', '1037700201131', '1.2.643.5.1.13.13.12.2.77.10513', '75103', '12', '121359, г Москва, ул Маршала Тимошенко, д 15', 'c0c2db63-85a6-4f0c-9a98-0eefe970ff07', '45000000000', 'delopro@cchp.ru', '+74955300395', '', '11.07.2025', '31.12.2025', '00905100000000000', 'ФЕДЕРАЛЬНОЕ ГОСУДАРСТВЕННОЕ БЮДЖЕТНОЕ УЧРЕЖДЕНИЕ \"ПОЛИКЛИНИКА №1\" УПРАВЛЕНИЯ ДЕЛАМИ ПРЕЗИДЕНТА РОССИЙСКОЙ ФЕДЕРАЦИИ', 'ФГБУ \"ПОЛИКЛИНИКА №1\"', '7704091039', '770401001', '1037739520708', '1.2.643.5.1.13.13.12.2.77.18664', '75103', '12', '119002, г Москва, пер Сивцев Вражек, д. 26 стр. 1', 'b2512c79-2e9b-4cc8-a92d-3d3dd902cc6c', '45000000000', 'SECRETARY@VIPMED.RU', '+74992411262', '', '11.07.2025', '31.12.2025', '00905200000000000', 'ФЕДЕРАЛЬНОЕ ГОСУДАРСТВЕННОЕ БЮДЖЕТНОЕ УЧРЕЖДЕНИЕ \"ФЕДЕРАЛЬНОЕ БЮРО МЕДИКО-СОЦИАЛЬНОЙ ЭКСПЕРТИЗЫ\" МИНИСТЕРСТВА ТРУДА И СОЦИАЛЬНОЙ ЗАЩИТЫ РОССИЙСКОЙ ФЕДЕРАЦИИ', 'ФГБУ ФБ МСЭ МИНТРУДА РОССИИ', '7743085670', '774301001', '1047743057493', '1.2.643.5.1.13.13.12.2.77.10518', '75103', '12', '127486, г Москва, ул Ивана Сусанина, д 3', '1168bd15-e235-4d69-aa0a-3519f7fccf77', '45000000000', 'fbmse@fbmse.ru', '+74994875711', '', '15.07.2025', '31.12.2025')\n"
     ]
    },
    {
     "name": "stderr",
     "output_type": "stream",
     "text": [
      "INFO:sqlalchemy.engine.Engine:[insertmanyvalues 55/72 (unordered)] ('00891500000000000', 'ГОСУДАРСТВЕННОЕ АВТОНОМНОЕ УЧРЕЖДЕНИЕ ЗДРАВООХРАНЕНИЯ ГОРОДА МОСКВЫ \"СТОМАТОЛОГИЧЕСКАЯ ПОЛИКЛИНИКА № 53 ДЕПАРТАМЕНТА ЗДРАВООХРАНЕНИЯ ГОРОДА МОСКВЫ\"', 'ГАУЗ \"СП № 53 ДЗМ\"', '7701125963', '770101001', '1027739573817', '1.2.643.5.1.13.13.12.2.77.8089', '75201', '13', '107078, г Москва, пер Большой Харитоньевский, д 24А', '3649105b-1380-4bea-b67b-44186bd790d8', '45000000000', 'sp53@zdrav.mos.ru', '+74994900153', '', '11.07.2025', '31.12.2025', '00891600000000000', 'ФЕДЕРАЛЬНОЕ ГОСУДАРСТВЕННОЕ БЮДЖЕТНОЕ НАУЧНОЕ УЧРЕЖДЕНИЕ \"РОССИЙСКИЙ НАУЧНЫЙ ЦЕНТР ХИРУРГИИ ИМЕНИ АКАДЕМИКА Б.В. ПЕТРОВСКОГО\"', 'ФГБНУ \"РНЦХ ИМ. АКАД. Б.В. ПЕТРОВСКОГО\"', '7704030124', '770401001', '1027739267214', '1.2.643.5.1.13.13.12.2.77.10617', '75103', '12', '119435, г Москва, пер Абрикосовский, д 2', 'cee9e262-6c6f-4441-a8fd-a8d5b5999ac3', '45000000000', 'nrcs@med.ru', '+74992466369', '', '28.05.2025', '31.12.2025', '00891800000000000', 'ГОСУДАРСТВЕННОЕ БЮДЖЕТНОЕ УЧРЕЖДЕНИЕ ЗДРАВООХРАНЕНИЯ ГОРОДА МОСКВЫ \"ДЕТСКАЯ ГОРОДСКАЯ ПОЛИКЛИНИКА № 28 ДЕПАРТАМЕНТА ЗДРАВООХРАНЕНИЯ ГОРОДА МОСКВЫ\"', 'ГБУЗ \"ДГП № 28 ДЗМ\"', '7718225444', '771801001', '1027739696951', '1.2.643.5.1.13.13.12.2.77.7935', '75203', '13', '107258, г Москва, б-р Маршала Рокоссовского, д. 35 стр. 1', 'ca74cec0-9ba8-469c-b97e-80234ce36fcf', '45000000000', 'dgp28@zdrav.mos.ru', '+74991689215', '', '10.07.2025' ... 1991 parameters truncated ... 'ФЕДЕРАЛЬНОЕ ГОСУДАРСТВЕННОЕ БЮДЖЕТНОЕ УЧРЕЖДЕНИЕ \"ЦЕНТРАЛЬНАЯ КЛИНИЧЕСКАЯ БОЛЬНИЦА С ПОЛИКЛИНИКОЙ\" УПРАВЛЕНИЯ ДЕЛАМИ ПРЕЗИДЕНТА РОССИЙСКОЙ ФЕДЕРАЦИИ', 'ФГБУ \"ЦКБ С ПОЛИКЛИНИКОЙ\"', '7731082971', '773101001', '1037700201131', '1.2.643.5.1.13.13.12.2.77.10513', '75103', '12', '121359, г Москва, ул Маршала Тимошенко, д 15', 'c0c2db63-85a6-4f0c-9a98-0eefe970ff07', '45000000000', 'delopro@cchp.ru', '+74955300395', '', '11.07.2025', '31.12.2025', '00905100000000000', 'ФЕДЕРАЛЬНОЕ ГОСУДАРСТВЕННОЕ БЮДЖЕТНОЕ УЧРЕЖДЕНИЕ \"ПОЛИКЛИНИКА №1\" УПРАВЛЕНИЯ ДЕЛАМИ ПРЕЗИДЕНТА РОССИЙСКОЙ ФЕДЕРАЦИИ', 'ФГБУ \"ПОЛИКЛИНИКА №1\"', '7704091039', '770401001', '1037739520708', '1.2.643.5.1.13.13.12.2.77.18664', '75103', '12', '119002, г Москва, пер Сивцев Вражек, д. 26 стр. 1', 'b2512c79-2e9b-4cc8-a92d-3d3dd902cc6c', '45000000000', 'SECRETARY@VIPMED.RU', '+74992411262', '', '11.07.2025', '31.12.2025', '00905200000000000', 'ФЕДЕРАЛЬНОЕ ГОСУДАРСТВЕННОЕ БЮДЖЕТНОЕ УЧРЕЖДЕНИЕ \"ФЕДЕРАЛЬНОЕ БЮРО МЕДИКО-СОЦИАЛЬНОЙ ЭКСПЕРТИЗЫ\" МИНИСТЕРСТВА ТРУДА И СОЦИАЛЬНОЙ ЗАЩИТЫ РОССИЙСКОЙ ФЕДЕРАЦИИ', 'ФГБУ ФБ МСЭ МИНТРУДА РОССИИ', '7743085670', '774301001', '1047743057493', '1.2.643.5.1.13.13.12.2.77.10518', '75103', '12', '127486, г Москва, ул Ивана Сусанина, д 3', '1168bd15-e235-4d69-aa0a-3519f7fccf77', '45000000000', 'fbmse@fbmse.ru', '+74994875711', '', '15.07.2025', '31.12.2025')\n"
     ]
    },
    {
     "name": "stdout",
     "output_type": "stream",
     "text": [
      "2025-09-03 16:03:27,012 INFO sqlalchemy.engine.Engine INSERT INTO nsi.[ERMO] ([IDMO], [NAM_MOP], [NAM_MOK], [INN], [KPP], [OGRN], [OID_MO], [OKOPF], [OKFS], [ADDR_J], [ADDR_J_GAR], [OKTMO], [EMAIL], [PHONE], [FAX], [DATEBEG], [DATEEND]) VALUES (?, ?, ?, ?, ?, ?, ?, ?, ?, ?, ?, ?, ?, ?, ?, ?, ?), (?, ?,  ... 6357 characters truncated ... ?, ?, ?, ?, ?, ?, ?, ?, ?, ?, ?, ?, ?, ?, ?, ?), (?, ?, ?, ?, ?, ?, ?, ?, ?, ?, ?, ?, ?, ?, ?, ?, ?)\n"
     ]
    },
    {
     "name": "stderr",
     "output_type": "stream",
     "text": [
      "INFO:sqlalchemy.engine.Engine:INSERT INTO nsi.[ERMO] ([IDMO], [NAM_MOP], [NAM_MOK], [INN], [KPP], [OGRN], [OID_MO], [OKOPF], [OKFS], [ADDR_J], [ADDR_J_GAR], [OKTMO], [EMAIL], [PHONE], [FAX], [DATEBEG], [DATEEND]) VALUES (?, ?, ?, ?, ?, ?, ?, ?, ?, ?, ?, ?, ?, ?, ?, ?, ?), (?, ?,  ... 6357 characters truncated ... ?, ?, ?, ?, ?, ?, ?, ?, ?, ?, ?, ?, ?, ?, ?, ?), (?, ?, ?, ?, ?, ?, ?, ?, ?, ?, ?, ?, ?, ?, ?, ?, ?)\n"
     ]
    },
    {
     "name": "stdout",
     "output_type": "stream",
     "text": [
      "2025-09-03 16:03:27,014 INFO sqlalchemy.engine.Engine [insertmanyvalues 56/72 (unordered)] ('00905300000000000', 'ФЕДЕРАЛЬНОЕ ГОСУДАРСТВЕННОЕ БЮДЖЕТНОЕ УЧРЕЖДЕНИЕ \"НАЦИОНАЛЬНЫЙ МЕДИЦИНСКИЙ ИССЛЕДОВАТЕЛЬСКИЙ ЦЕНТР ТРАНСПЛАНТОЛОГИИ И ИСКУССТВЕННЫХ ОРГАНОВ ИМЕНИ АКАДЕМИКА В.И. ШУМАКОВА\" МИНИСТЕРСТВА ЗДРАВООХРАНЕНИЯ РОССИЙСКОЙ ФЕДЕРАЦИИ', 'ФГБУ \"НМИЦ ТИО ИМ. АК. В.И. ШУМАКОВА\" МИНЗДРАВА РОССИИ', '7734012806', '773401001', '1037739599468', '1.2.643.5.1.13.13.12.2.77.8456', '75103', '12', '123182, г Москва, ул Щукинская, д 1', '3757b9d6-bad6-4568-b7b6-9efec2534d7f', '45000000000', 'infotranspl@rambler.ru', '+74991961803', '', '11.07.2025', '31.12.2025', '00905600000000000', 'ГОСУДАРСТВЕННОЕ БЮДЖЕТНОЕ УЧРЕЖДЕНИЕ ЗДРАВООХРАНЕНИЯ ГОРОДА МОСКВЫ \"ПОЛИКЛИНИКА \"ЩЕРБИНСКАЯ\" ДЕПАРТАМЕНТА ЗДРАВООХРАНЕНИЯ ГОРОДА МОСКВЫ\"', 'ГБУЗ \"ПОЛИКЛИНИКА \"ЩЕРБИНСКАЯ\" ДЗМ\"', '5051002171', '775101001', '1035011454400', '1.2.643.5.1.13.13.12.2.77.8445', '75203', '13', '108851, г Москва, г Щербинка, ул Первомайская, д 10', '70347aa3-3d58-4e80-be6f-781976435121', '45000000000', 'shgb@zdrav.mos.ru', '+74996383556', '', '15.07.2025', '31.12.2025', '00905700000000000', 'ГОСУДАРСТВЕННОЕ БЮДЖЕТНОЕ УЧРЕЖДЕНИЕ ЗДРАВООХРАНЕНИЯ ГОРОДА МОСКВЫ \"ПОЛИКЛИНИКА \"КУЗНЕЧИКИ\" ДЕПАРТАМЕНТА ЗДРАВООХРАНЕНИЯ ГОРОДА МОСКВЫ\"', 'ГБУЗ \"ПОЛИКЛИНИКА \"КУЗНЕЧИКИ\" ДЗМ\"', '5074014078', '775101001', '1035011454741', '1.2.643.5.1.13.13.12.2.77.8434', '75203', '13', '108825, г Москва, п Щаповское, с Ознобишино, д 30', 'cb11c48a-3abe-4a86-bd9e-413a9e13bc87', '45000000000', 'bk@zdrav.mos.ru', '+74952121480', '', '14.07.2025' ... 1991 parameters truncated ... 'САНКТ-ПЕТЕРБУРГСКОЕ ГОСУДАРСТВЕННОЕ БЮДЖЕТНОЕ УЧРЕЖДЕНИЕ ЗДРАВООХРАНЕНИЯ \"ГОСПИТАЛЬ ДЛЯ ВЕТЕРАНОВ ВОЙН\"', 'СПБ ГБУЗ \"ГВВ\"', '7811070851', '781101001', '1027806084701', '1.2.643.5.1.13.13.12.2.78.8710', '75203', '13', '193079, г Санкт-Петербург, ул Народная, д 21', '9a437ecd-1249-4d32-a4e4-9243f7ff4128', '40000000000', 'gvv@zdrav.spb.ru', '+78124461790', '', '21.01.2025', '31.12.2025', '00933500000000000', 'САНКТ-ПЕТЕРБУРГСКОЕ ГОСУДАРСТВЕННОЕ БЮДЖЕТНОЕ УЧРЕЖДЕНИЕ ЗДРАВООХРАНЕНИЯ \"ГОРОДСКАЯ БОЛЬНИЦА № 9\"', 'СПБ ГБУЗ \"ГОРОДСКАЯ БОЛЬНИЦА № 9\"', '7813047022', '781301001', '1027806887239', '1.2.643.5.1.13.13.12.2.78.8671', '75203', '13', '197110, г Санкт-Петербург, пр-кт Крестовский, д. 18 литера А', 'ed8c1fac-7b52-49ed-8cc7-e568212e85cb', '40000000000', 'b9@zdrav.spb.ru', '+78126704848', '', '06.03.2025', '31.12.2025', '00933700000000000', 'ФЕДЕРАЛЬНОЕ ГОСУДАРСТВЕННОЕ БЮДЖЕТНОЕ НАУЧНОЕ УЧРЕЖДЕНИЕ \"ИНСТИТУТ ЭКСПЕРИМЕНТАЛЬНОЙ МЕДИЦИНЫ\"', 'ФГБНУ \"ИЭМ\"', '7813045787', '781301001', '1037828000198', '1.2.643.5.1.13.13.12.2.78.10540', '75103', '12', '197022, г Санкт-Петербург, ул Академика Павлова, д. 12 литера А', '1872788b-3d69-40fa-8ba1-e551165d9961', '40000000000', 'iem@iemspb.ru', '+78122371011', '', '17.04.2025', '31.12.2025')\n"
     ]
    },
    {
     "name": "stderr",
     "output_type": "stream",
     "text": [
      "INFO:sqlalchemy.engine.Engine:[insertmanyvalues 56/72 (unordered)] ('00905300000000000', 'ФЕДЕРАЛЬНОЕ ГОСУДАРСТВЕННОЕ БЮДЖЕТНОЕ УЧРЕЖДЕНИЕ \"НАЦИОНАЛЬНЫЙ МЕДИЦИНСКИЙ ИССЛЕДОВАТЕЛЬСКИЙ ЦЕНТР ТРАНСПЛАНТОЛОГИИ И ИСКУССТВЕННЫХ ОРГАНОВ ИМЕНИ АКАДЕМИКА В.И. ШУМАКОВА\" МИНИСТЕРСТВА ЗДРАВООХРАНЕНИЯ РОССИЙСКОЙ ФЕДЕРАЦИИ', 'ФГБУ \"НМИЦ ТИО ИМ. АК. В.И. ШУМАКОВА\" МИНЗДРАВА РОССИИ', '7734012806', '773401001', '1037739599468', '1.2.643.5.1.13.13.12.2.77.8456', '75103', '12', '123182, г Москва, ул Щукинская, д 1', '3757b9d6-bad6-4568-b7b6-9efec2534d7f', '45000000000', 'infotranspl@rambler.ru', '+74991961803', '', '11.07.2025', '31.12.2025', '00905600000000000', 'ГОСУДАРСТВЕННОЕ БЮДЖЕТНОЕ УЧРЕЖДЕНИЕ ЗДРАВООХРАНЕНИЯ ГОРОДА МОСКВЫ \"ПОЛИКЛИНИКА \"ЩЕРБИНСКАЯ\" ДЕПАРТАМЕНТА ЗДРАВООХРАНЕНИЯ ГОРОДА МОСКВЫ\"', 'ГБУЗ \"ПОЛИКЛИНИКА \"ЩЕРБИНСКАЯ\" ДЗМ\"', '5051002171', '775101001', '1035011454400', '1.2.643.5.1.13.13.12.2.77.8445', '75203', '13', '108851, г Москва, г Щербинка, ул Первомайская, д 10', '70347aa3-3d58-4e80-be6f-781976435121', '45000000000', 'shgb@zdrav.mos.ru', '+74996383556', '', '15.07.2025', '31.12.2025', '00905700000000000', 'ГОСУДАРСТВЕННОЕ БЮДЖЕТНОЕ УЧРЕЖДЕНИЕ ЗДРАВООХРАНЕНИЯ ГОРОДА МОСКВЫ \"ПОЛИКЛИНИКА \"КУЗНЕЧИКИ\" ДЕПАРТАМЕНТА ЗДРАВООХРАНЕНИЯ ГОРОДА МОСКВЫ\"', 'ГБУЗ \"ПОЛИКЛИНИКА \"КУЗНЕЧИКИ\" ДЗМ\"', '5074014078', '775101001', '1035011454741', '1.2.643.5.1.13.13.12.2.77.8434', '75203', '13', '108825, г Москва, п Щаповское, с Ознобишино, д 30', 'cb11c48a-3abe-4a86-bd9e-413a9e13bc87', '45000000000', 'bk@zdrav.mos.ru', '+74952121480', '', '14.07.2025' ... 1991 parameters truncated ... 'САНКТ-ПЕТЕРБУРГСКОЕ ГОСУДАРСТВЕННОЕ БЮДЖЕТНОЕ УЧРЕЖДЕНИЕ ЗДРАВООХРАНЕНИЯ \"ГОСПИТАЛЬ ДЛЯ ВЕТЕРАНОВ ВОЙН\"', 'СПБ ГБУЗ \"ГВВ\"', '7811070851', '781101001', '1027806084701', '1.2.643.5.1.13.13.12.2.78.8710', '75203', '13', '193079, г Санкт-Петербург, ул Народная, д 21', '9a437ecd-1249-4d32-a4e4-9243f7ff4128', '40000000000', 'gvv@zdrav.spb.ru', '+78124461790', '', '21.01.2025', '31.12.2025', '00933500000000000', 'САНКТ-ПЕТЕРБУРГСКОЕ ГОСУДАРСТВЕННОЕ БЮДЖЕТНОЕ УЧРЕЖДЕНИЕ ЗДРАВООХРАНЕНИЯ \"ГОРОДСКАЯ БОЛЬНИЦА № 9\"', 'СПБ ГБУЗ \"ГОРОДСКАЯ БОЛЬНИЦА № 9\"', '7813047022', '781301001', '1027806887239', '1.2.643.5.1.13.13.12.2.78.8671', '75203', '13', '197110, г Санкт-Петербург, пр-кт Крестовский, д. 18 литера А', 'ed8c1fac-7b52-49ed-8cc7-e568212e85cb', '40000000000', 'b9@zdrav.spb.ru', '+78126704848', '', '06.03.2025', '31.12.2025', '00933700000000000', 'ФЕДЕРАЛЬНОЕ ГОСУДАРСТВЕННОЕ БЮДЖЕТНОЕ НАУЧНОЕ УЧРЕЖДЕНИЕ \"ИНСТИТУТ ЭКСПЕРИМЕНТАЛЬНОЙ МЕДИЦИНЫ\"', 'ФГБНУ \"ИЭМ\"', '7813045787', '781301001', '1037828000198', '1.2.643.5.1.13.13.12.2.78.10540', '75103', '12', '197022, г Санкт-Петербург, ул Академика Павлова, д. 12 литера А', '1872788b-3d69-40fa-8ba1-e551165d9961', '40000000000', 'iem@iemspb.ru', '+78122371011', '', '17.04.2025', '31.12.2025')\n"
     ]
    },
    {
     "name": "stdout",
     "output_type": "stream",
     "text": [
      "2025-09-03 16:03:27,134 INFO sqlalchemy.engine.Engine INSERT INTO nsi.[ERMO] ([IDMO], [NAM_MOP], [NAM_MOK], [INN], [KPP], [OGRN], [OID_MO], [OKOPF], [OKFS], [ADDR_J], [ADDR_J_GAR], [OKTMO], [EMAIL], [PHONE], [FAX], [DATEBEG], [DATEEND]) VALUES (?, ?, ?, ?, ?, ?, ?, ?, ?, ?, ?, ?, ?, ?, ?, ?, ?), (?, ?,  ... 6357 characters truncated ... ?, ?, ?, ?, ?, ?, ?, ?, ?, ?, ?, ?, ?, ?, ?, ?), (?, ?, ?, ?, ?, ?, ?, ?, ?, ?, ?, ?, ?, ?, ?, ?, ?)\n"
     ]
    },
    {
     "name": "stderr",
     "output_type": "stream",
     "text": [
      "INFO:sqlalchemy.engine.Engine:INSERT INTO nsi.[ERMO] ([IDMO], [NAM_MOP], [NAM_MOK], [INN], [KPP], [OGRN], [OID_MO], [OKOPF], [OKFS], [ADDR_J], [ADDR_J_GAR], [OKTMO], [EMAIL], [PHONE], [FAX], [DATEBEG], [DATEEND]) VALUES (?, ?, ?, ?, ?, ?, ?, ?, ?, ?, ?, ?, ?, ?, ?, ?, ?), (?, ?,  ... 6357 characters truncated ... ?, ?, ?, ?, ?, ?, ?, ?, ?, ?, ?, ?, ?, ?, ?, ?), (?, ?, ?, ?, ?, ?, ?, ?, ?, ?, ?, ?, ?, ?, ?, ?, ?)\n"
     ]
    },
    {
     "name": "stdout",
     "output_type": "stream",
     "text": [
      "2025-09-03 16:03:27,136 INFO sqlalchemy.engine.Engine [insertmanyvalues 57/72 (unordered)] ('00933800000000000', 'САНКТ-ПЕТЕРБУРГСКОЕ ГОСУДАРСТВЕННОЕ БЮДЖЕТНОЕ УЧРЕЖДЕНИЕ ЗДРАВООХРАНЕНИЯ \"ДЕТСКАЯ ГОРОДСКАЯ ПОЛИКЛИНИКА №17\"', 'СПБ ГБУЗ \"ДЕТСКАЯ ГОРОДСКАЯ ПОЛИКЛИНИКА №17\"', '7802064957', '780201001', '1027801568761', '1.2.643.5.1.13.13.12.2.78.8795', '75203', '13', '194358, г Санкт-Петербург, ул Есенина, д. 38 к. 2 литера Б', '09e4acfe-9f7d-42a9-bdba-b5fc22078aa8', '40000000000', 'pd17@zdrav.spb.ru', '+78122415087', '', '29.01.2025', '31.12.2025', '00933900000000000', 'САНКТ-ПЕТЕРБУРГСКОЕ ГОСУДАРСТВЕННОЕ БЮДЖЕТНОЕ УЧРЕЖДЕНИЕ ЗДРАВООХРАНЕНИЯ \"ДЕТСКАЯ ГОРОДСКАЯ ПОЛИКЛИНИКА № 19\"', 'СПБ ГБУЗ \"ДЕТСКАЯ ГОРОДСКАЯ ПОЛИКЛИНИКА №19\"', '7813103446', '781301001', '1037828002442', '1.2.643.5.1.13.13.12.2.78.8536', '75203', '13', '197046, г Санкт-Петербург, ул Куйбышева, д. 25 литера А', '73a1932f-2b27-46f5-adf1-b5dba091c105', '40000000000', 'pd19@zdrav.spb.ru', '+78122331194', '', '29.01.2025', '31.12.2025', '00934000000000000', 'САНКТ-ПЕТЕРБУРГСКОЕ ГОСУДАРСТВЕННОЕ БЮДЖЕТНОЕ УЧРЕЖДЕНИЕ ЗДРАВООХРАНЕНИЯ \"ДЕТСКАЯ ГОРОДСКАЯ ПОЛИКЛИНИКА № 44\"', 'СПБ ГБУЗ \"ДГП № 44\"', '7815012314', '784201001', '1037843058175', '1.2.643.5.1.13.13.12.2.78.8539', '75203', '13', '191144, г Санкт-Петербург, ул Мытнинская, д. 25 литера А', '5d783f05-00cf-4b95-8836-2500b4f5c738', '40000000000', 'pd44sekr@zdrav.spb.ru', '+78124174005', '', '15.08.2025' ... 1991 parameters truncated ... 'ФЕДЕРАЛЬНОЕ ГОСУДАРСТВЕННОЕ БЮДЖЕТНОЕ ВОЕННОЕ ОБРАЗОВАТЕЛЬНОЕ УЧРЕЖДЕНИЕ ВЫСШЕГО ОБРАЗОВАНИЯ \"ВОЕННО-МЕДИЦИНСКАЯ АКАДЕМИЯ ИМЕНИ С.М.КИРОВА\" МИНИСТЕРСТВА ОБОРОНЫ РОССИЙСКОЙ ФЕДЕРАЦИИ', 'ВОЕННО-МЕДИЦИНСКАЯ АКАДЕМИЯ', '7802048578', '780201001', '1037804002500', '1.2.643.5.1.13.13.12.2.78.10152', '75103', '12', '194044, г Санкт-Петербург, ул Академика Лебедева, д. 6 литера Ж', '0cdb4642-afa5-4e74-bf5d-8345951f9581', '40000000000', 'vmeda_79@mil.ru', '+78126677103', '', '14.02.2025', '31.12.2025', '00946400000000000', 'САНКТ-ПЕТЕРБУРГСКОЕ ГОСУДАРСТВЕННОЕ БЮДЖЕТНОЕ УЧРЕЖДЕНИЕ ЗДРАВООХРАНЕНИЯ \"ДЕТСКИЙ ГОРОДСКОЙ МНОГОПРОФИЛЬНЫЙ КЛИНИЧЕСКИЙ СПЕЦИАЛИЗИРОВАННЫЙ ЦЕНТР ВЫСОКИХ МЕДИЦИНСКИХ ТЕХНОЛОГИЙ\"', 'СПБ ГБУЗ \"ДЕТСКИЙ ГОРОДСКОЙ МНОГОПРОФИЛЬНЫЙ КЛИНИЧЕСКИЙ СПЕЦИАЛИЗИРОВАННЫЙ ЦЕНТР ВЫСОКИХ МЕДИЦИНСКИХ ТЕХНОЛОГИЙ\"', '7807021756', '780701001', '1027804606851', '1.2.643.5.1.13.13.12.2.78.8711', '75203', '13', '198205, г Санкт-Петербург, ул Авангардная, д. 14 литера А', 'e15fecae-5ab2-415a-b4f7-3b55193c2392', '40000000000', 'childone@dgb.spb.ru', '+78127351691', '', '06.05.2025', '31.12.2025', '00946500000000000', 'САНКТ-ПЕТЕРБУРГСКОЕ ГОСУДАРСТВЕННОЕ БЮДЖЕТНОЕ УЧРЕЖДЕНИЕ ЗДРАВООХРАНЕНИЯ \"СТОМАТОЛОГИЧЕСКАЯ ПОЛИКЛИНИКА № 31 НЕВСКОГО РАЙОНА\"', 'СПБ ГБУЗ \"СТОМАТОЛОГИЧЕСКАЯ ПОЛИКЛИНИКА № 31\"', '7811000290', '781101001', '1027806082523', '1.2.643.5.1.13.13.12.2.78.8554', '75203', '13', '193312, г Санкт-Петербург, пр-кт Солидарности, д. 12 к. 1 литера А', 'f601db08-1770-4679-b4f6-60b84a1a3ed5', '40000000000', 'pstom31@zdrav.spb.ru', '+78125889070', '', '12.02.2025', '31.12.2025')\n"
     ]
    },
    {
     "name": "stderr",
     "output_type": "stream",
     "text": [
      "INFO:sqlalchemy.engine.Engine:[insertmanyvalues 57/72 (unordered)] ('00933800000000000', 'САНКТ-ПЕТЕРБУРГСКОЕ ГОСУДАРСТВЕННОЕ БЮДЖЕТНОЕ УЧРЕЖДЕНИЕ ЗДРАВООХРАНЕНИЯ \"ДЕТСКАЯ ГОРОДСКАЯ ПОЛИКЛИНИКА №17\"', 'СПБ ГБУЗ \"ДЕТСКАЯ ГОРОДСКАЯ ПОЛИКЛИНИКА №17\"', '7802064957', '780201001', '1027801568761', '1.2.643.5.1.13.13.12.2.78.8795', '75203', '13', '194358, г Санкт-Петербург, ул Есенина, д. 38 к. 2 литера Б', '09e4acfe-9f7d-42a9-bdba-b5fc22078aa8', '40000000000', 'pd17@zdrav.spb.ru', '+78122415087', '', '29.01.2025', '31.12.2025', '00933900000000000', 'САНКТ-ПЕТЕРБУРГСКОЕ ГОСУДАРСТВЕННОЕ БЮДЖЕТНОЕ УЧРЕЖДЕНИЕ ЗДРАВООХРАНЕНИЯ \"ДЕТСКАЯ ГОРОДСКАЯ ПОЛИКЛИНИКА № 19\"', 'СПБ ГБУЗ \"ДЕТСКАЯ ГОРОДСКАЯ ПОЛИКЛИНИКА №19\"', '7813103446', '781301001', '1037828002442', '1.2.643.5.1.13.13.12.2.78.8536', '75203', '13', '197046, г Санкт-Петербург, ул Куйбышева, д. 25 литера А', '73a1932f-2b27-46f5-adf1-b5dba091c105', '40000000000', 'pd19@zdrav.spb.ru', '+78122331194', '', '29.01.2025', '31.12.2025', '00934000000000000', 'САНКТ-ПЕТЕРБУРГСКОЕ ГОСУДАРСТВЕННОЕ БЮДЖЕТНОЕ УЧРЕЖДЕНИЕ ЗДРАВООХРАНЕНИЯ \"ДЕТСКАЯ ГОРОДСКАЯ ПОЛИКЛИНИКА № 44\"', 'СПБ ГБУЗ \"ДГП № 44\"', '7815012314', '784201001', '1037843058175', '1.2.643.5.1.13.13.12.2.78.8539', '75203', '13', '191144, г Санкт-Петербург, ул Мытнинская, д. 25 литера А', '5d783f05-00cf-4b95-8836-2500b4f5c738', '40000000000', 'pd44sekr@zdrav.spb.ru', '+78124174005', '', '15.08.2025' ... 1991 parameters truncated ... 'ФЕДЕРАЛЬНОЕ ГОСУДАРСТВЕННОЕ БЮДЖЕТНОЕ ВОЕННОЕ ОБРАЗОВАТЕЛЬНОЕ УЧРЕЖДЕНИЕ ВЫСШЕГО ОБРАЗОВАНИЯ \"ВОЕННО-МЕДИЦИНСКАЯ АКАДЕМИЯ ИМЕНИ С.М.КИРОВА\" МИНИСТЕРСТВА ОБОРОНЫ РОССИЙСКОЙ ФЕДЕРАЦИИ', 'ВОЕННО-МЕДИЦИНСКАЯ АКАДЕМИЯ', '7802048578', '780201001', '1037804002500', '1.2.643.5.1.13.13.12.2.78.10152', '75103', '12', '194044, г Санкт-Петербург, ул Академика Лебедева, д. 6 литера Ж', '0cdb4642-afa5-4e74-bf5d-8345951f9581', '40000000000', 'vmeda_79@mil.ru', '+78126677103', '', '14.02.2025', '31.12.2025', '00946400000000000', 'САНКТ-ПЕТЕРБУРГСКОЕ ГОСУДАРСТВЕННОЕ БЮДЖЕТНОЕ УЧРЕЖДЕНИЕ ЗДРАВООХРАНЕНИЯ \"ДЕТСКИЙ ГОРОДСКОЙ МНОГОПРОФИЛЬНЫЙ КЛИНИЧЕСКИЙ СПЕЦИАЛИЗИРОВАННЫЙ ЦЕНТР ВЫСОКИХ МЕДИЦИНСКИХ ТЕХНОЛОГИЙ\"', 'СПБ ГБУЗ \"ДЕТСКИЙ ГОРОДСКОЙ МНОГОПРОФИЛЬНЫЙ КЛИНИЧЕСКИЙ СПЕЦИАЛИЗИРОВАННЫЙ ЦЕНТР ВЫСОКИХ МЕДИЦИНСКИХ ТЕХНОЛОГИЙ\"', '7807021756', '780701001', '1027804606851', '1.2.643.5.1.13.13.12.2.78.8711', '75203', '13', '198205, г Санкт-Петербург, ул Авангардная, д. 14 литера А', 'e15fecae-5ab2-415a-b4f7-3b55193c2392', '40000000000', 'childone@dgb.spb.ru', '+78127351691', '', '06.05.2025', '31.12.2025', '00946500000000000', 'САНКТ-ПЕТЕРБУРГСКОЕ ГОСУДАРСТВЕННОЕ БЮДЖЕТНОЕ УЧРЕЖДЕНИЕ ЗДРАВООХРАНЕНИЯ \"СТОМАТОЛОГИЧЕСКАЯ ПОЛИКЛИНИКА № 31 НЕВСКОГО РАЙОНА\"', 'СПБ ГБУЗ \"СТОМАТОЛОГИЧЕСКАЯ ПОЛИКЛИНИКА № 31\"', '7811000290', '781101001', '1027806082523', '1.2.643.5.1.13.13.12.2.78.8554', '75203', '13', '193312, г Санкт-Петербург, пр-кт Солидарности, д. 12 к. 1 литера А', 'f601db08-1770-4679-b4f6-60b84a1a3ed5', '40000000000', 'pstom31@zdrav.spb.ru', '+78125889070', '', '12.02.2025', '31.12.2025')\n"
     ]
    },
    {
     "name": "stdout",
     "output_type": "stream",
     "text": [
      "2025-09-03 16:03:27,263 INFO sqlalchemy.engine.Engine INSERT INTO nsi.[ERMO] ([IDMO], [NAM_MOP], [NAM_MOK], [INN], [KPP], [OGRN], [OID_MO], [OKOPF], [OKFS], [ADDR_J], [ADDR_J_GAR], [OKTMO], [EMAIL], [PHONE], [FAX], [DATEBEG], [DATEEND]) VALUES (?, ?, ?, ?, ?, ?, ?, ?, ?, ?, ?, ?, ?, ?, ?, ?, ?), (?, ?,  ... 6357 characters truncated ... ?, ?, ?, ?, ?, ?, ?, ?, ?, ?, ?, ?, ?, ?, ?, ?), (?, ?, ?, ?, ?, ?, ?, ?, ?, ?, ?, ?, ?, ?, ?, ?, ?)\n"
     ]
    },
    {
     "name": "stderr",
     "output_type": "stream",
     "text": [
      "INFO:sqlalchemy.engine.Engine:INSERT INTO nsi.[ERMO] ([IDMO], [NAM_MOP], [NAM_MOK], [INN], [KPP], [OGRN], [OID_MO], [OKOPF], [OKFS], [ADDR_J], [ADDR_J_GAR], [OKTMO], [EMAIL], [PHONE], [FAX], [DATEBEG], [DATEEND]) VALUES (?, ?, ?, ?, ?, ?, ?, ?, ?, ?, ?, ?, ?, ?, ?, ?, ?), (?, ?,  ... 6357 characters truncated ... ?, ?, ?, ?, ?, ?, ?, ?, ?, ?, ?, ?, ?, ?, ?, ?), (?, ?, ?, ?, ?, ?, ?, ?, ?, ?, ?, ?, ?, ?, ?, ?, ?)\n"
     ]
    },
    {
     "name": "stdout",
     "output_type": "stream",
     "text": [
      "2025-09-03 16:03:27,266 INFO sqlalchemy.engine.Engine [insertmanyvalues 58/72 (unordered)] ('00946600000000000', 'САНКТ-ПЕТЕРБУРГСКОЕ ГОСУДАРСТВЕННОЕ БЮДЖЕТНОЕ УЧРЕЖДЕНИЕ ЗДРАВООХРАНЕНИЯ \"СТОМАТОЛОГИЧЕСКАЯ ПОЛИКЛИНИКА №6\"', 'СПБ ГБУЗ \"СТОМАТОЛОГИЧЕСКАЯ ПОЛИКЛИНИКА № 6\"', '7813108571', '781301001', '1027806885754', '1.2.643.5.1.13.13.12.2.78.8558', '75203', '13', '197198, г Санкт-Петербург, ул Ижорская, д. 5 литера А', '7948c897-7ae8-4930-aef0-75b508035d6e', '40000000000', 'pstom6@zdrav.spb.ru', '+78122323201', '', '20.05.2025', '31.12.2025', '00946700000000000', 'САНКТ-ПЕТЕРБУРГСКОЕ ГОСУДАРСТВЕННОЕ БЮДЖЕТНОЕ УЧРЕЖДЕНИЕ ЗДРАВООХРАНЕНИЯ \"ПОЛИКЛИНИКА СТОМАТОЛОГИЧЕСКАЯ № 16\"', 'СПБ ГБУЗ \"ПОЛИКЛИНИКА СТОМАТОЛОГИЧЕСКАЯ № 16\"', '7809020719', '783901001', '1027810267430', '1.2.643.5.1.13.13.12.2.78.8619', '75203', '13', '190005, г Санкт-Петербург, ул 4-я Красноармейская, д. 19 литера А', '0fbd1cf4-cc37-42b5-910f-ff8bf141b93c', '40000000000', 'PSTOM16@ZDRAV.SPB.RU', '+78122460675', '', '28.03.2025', '31.12.2025', '00946800000000000', 'САНКТ-ПЕТЕРБУРГСКОЕ ГОСУДАРСТВЕННОЕ БЮДЖЕТНОЕ УЧРЕЖДЕНИЕ ЗДРАВООХРАНЕНИЯ \"ОНКОЛОГИЧЕСКИЙ ДИСПАНСЕР МОСКОВСКОГО РАЙОНА\"', 'СПБ ГБУЗ \"ОНКОДИСПАНСЕР МОСКОВСКОГО РАЙОНА\"', '7810258748', '781001001', '1027804915841', '1.2.643.5.1.13.13.12.2.78.8778', '75203', '13', '196247, г Санкт-Петербург, пр-кт Новоизмайловский, д. 77 литера А', 'f40ddd96-2b7b-46ba-8800-09a82916d5c2', '40000000000', 'onkdmsk@zdrav.spb.ru', '+78122412935', '', '12.02.2025' ... 1991 parameters truncated ... 'ОБЩЕСТВО С ОГРАНИЧЕННОЙ ОТВЕТСТВЕННОСТЬЮ \"ПРОФЕССОР\"', 'ООО \"ПРОФЕССОР\"', '7810681103', '780401001', '1177847150436', '1.2.643.5.1.13.13.12.2.78.21890', '12300', '16', '195197, г Санкт-Петербург, ул Васенко, д. 12 литера А', 'db7f27a0-5ffd-49b0-a57d-aa39a29dab70', '40000000000', 'SEM7373@MAIL.RU', '+79219304047', '', '24.01.2025', '31.12.2025', '00964200000000000', 'ОБЩЕСТВО С ОГРАНИЧЕННОЙ ОТВЕТСТВЕННОСТЬЮ  \"СИЛУЭТ\"', 'ООО \"СИЛУЭТ\"', '7814482451', '781401001', '1107847365911', '1.2.643.5.1.13.13.12.2.78.22672', '12300', '16', '197701, г Санкт-Петербург, г Сестрорецк, ул Всеволода Боброва, д. 39 литера А  ,кв 1-Н', 'f17aa4e1-deaa-4d66-b18c-d456de67af9a', '40000000000', 'SILUET-2011@MAIL.RU', '+78123405678', '', '04.07.2025', '31.12.2025', '00964500000000000', 'ОБЩЕСТВО С ОГРАНИЧЕННОЙ ОТВЕТСТВЕННОСТЬЮ \"ДЕЛЬТА\"', 'ООО \"ДЕЛЬТА\"', '7816562423', '781601001', '1137847193153', '1.2.643.5.1.13.13.12.2.78.21930', '12300', '16', '192283, г Санкт-Петербург, ул Малая Балканская, д. 26 литера В', '60bc8a73-0c65-4ae6-a802-c7284632113b', '40000000000', 'DELTAMED2000@GMAIL.COM', '+79219044305', '', '01.01.2025', '31.12.2025')\n"
     ]
    },
    {
     "name": "stderr",
     "output_type": "stream",
     "text": [
      "INFO:sqlalchemy.engine.Engine:[insertmanyvalues 58/72 (unordered)] ('00946600000000000', 'САНКТ-ПЕТЕРБУРГСКОЕ ГОСУДАРСТВЕННОЕ БЮДЖЕТНОЕ УЧРЕЖДЕНИЕ ЗДРАВООХРАНЕНИЯ \"СТОМАТОЛОГИЧЕСКАЯ ПОЛИКЛИНИКА №6\"', 'СПБ ГБУЗ \"СТОМАТОЛОГИЧЕСКАЯ ПОЛИКЛИНИКА № 6\"', '7813108571', '781301001', '1027806885754', '1.2.643.5.1.13.13.12.2.78.8558', '75203', '13', '197198, г Санкт-Петербург, ул Ижорская, д. 5 литера А', '7948c897-7ae8-4930-aef0-75b508035d6e', '40000000000', 'pstom6@zdrav.spb.ru', '+78122323201', '', '20.05.2025', '31.12.2025', '00946700000000000', 'САНКТ-ПЕТЕРБУРГСКОЕ ГОСУДАРСТВЕННОЕ БЮДЖЕТНОЕ УЧРЕЖДЕНИЕ ЗДРАВООХРАНЕНИЯ \"ПОЛИКЛИНИКА СТОМАТОЛОГИЧЕСКАЯ № 16\"', 'СПБ ГБУЗ \"ПОЛИКЛИНИКА СТОМАТОЛОГИЧЕСКАЯ № 16\"', '7809020719', '783901001', '1027810267430', '1.2.643.5.1.13.13.12.2.78.8619', '75203', '13', '190005, г Санкт-Петербург, ул 4-я Красноармейская, д. 19 литера А', '0fbd1cf4-cc37-42b5-910f-ff8bf141b93c', '40000000000', 'PSTOM16@ZDRAV.SPB.RU', '+78122460675', '', '28.03.2025', '31.12.2025', '00946800000000000', 'САНКТ-ПЕТЕРБУРГСКОЕ ГОСУДАРСТВЕННОЕ БЮДЖЕТНОЕ УЧРЕЖДЕНИЕ ЗДРАВООХРАНЕНИЯ \"ОНКОЛОГИЧЕСКИЙ ДИСПАНСЕР МОСКОВСКОГО РАЙОНА\"', 'СПБ ГБУЗ \"ОНКОДИСПАНСЕР МОСКОВСКОГО РАЙОНА\"', '7810258748', '781001001', '1027804915841', '1.2.643.5.1.13.13.12.2.78.8778', '75203', '13', '196247, г Санкт-Петербург, пр-кт Новоизмайловский, д. 77 литера А', 'f40ddd96-2b7b-46ba-8800-09a82916d5c2', '40000000000', 'onkdmsk@zdrav.spb.ru', '+78122412935', '', '12.02.2025' ... 1991 parameters truncated ... 'ОБЩЕСТВО С ОГРАНИЧЕННОЙ ОТВЕТСТВЕННОСТЬЮ \"ПРОФЕССОР\"', 'ООО \"ПРОФЕССОР\"', '7810681103', '780401001', '1177847150436', '1.2.643.5.1.13.13.12.2.78.21890', '12300', '16', '195197, г Санкт-Петербург, ул Васенко, д. 12 литера А', 'db7f27a0-5ffd-49b0-a57d-aa39a29dab70', '40000000000', 'SEM7373@MAIL.RU', '+79219304047', '', '24.01.2025', '31.12.2025', '00964200000000000', 'ОБЩЕСТВО С ОГРАНИЧЕННОЙ ОТВЕТСТВЕННОСТЬЮ  \"СИЛУЭТ\"', 'ООО \"СИЛУЭТ\"', '7814482451', '781401001', '1107847365911', '1.2.643.5.1.13.13.12.2.78.22672', '12300', '16', '197701, г Санкт-Петербург, г Сестрорецк, ул Всеволода Боброва, д. 39 литера А  ,кв 1-Н', 'f17aa4e1-deaa-4d66-b18c-d456de67af9a', '40000000000', 'SILUET-2011@MAIL.RU', '+78123405678', '', '04.07.2025', '31.12.2025', '00964500000000000', 'ОБЩЕСТВО С ОГРАНИЧЕННОЙ ОТВЕТСТВЕННОСТЬЮ \"ДЕЛЬТА\"', 'ООО \"ДЕЛЬТА\"', '7816562423', '781601001', '1137847193153', '1.2.643.5.1.13.13.12.2.78.21930', '12300', '16', '192283, г Санкт-Петербург, ул Малая Балканская, д. 26 литера В', '60bc8a73-0c65-4ae6-a802-c7284632113b', '40000000000', 'DELTAMED2000@GMAIL.COM', '+79219044305', '', '01.01.2025', '31.12.2025')\n"
     ]
    },
    {
     "name": "stdout",
     "output_type": "stream",
     "text": [
      "2025-09-03 16:03:27,385 INFO sqlalchemy.engine.Engine INSERT INTO nsi.[ERMO] ([IDMO], [NAM_MOP], [NAM_MOK], [INN], [KPP], [OGRN], [OID_MO], [OKOPF], [OKFS], [ADDR_J], [ADDR_J_GAR], [OKTMO], [EMAIL], [PHONE], [FAX], [DATEBEG], [DATEEND]) VALUES (?, ?, ?, ?, ?, ?, ?, ?, ?, ?, ?, ?, ?, ?, ?, ?, ?), (?, ?,  ... 6357 characters truncated ... ?, ?, ?, ?, ?, ?, ?, ?, ?, ?, ?, ?, ?, ?, ?, ?), (?, ?, ?, ?, ?, ?, ?, ?, ?, ?, ?, ?, ?, ?, ?, ?, ?)\n"
     ]
    },
    {
     "name": "stderr",
     "output_type": "stream",
     "text": [
      "INFO:sqlalchemy.engine.Engine:INSERT INTO nsi.[ERMO] ([IDMO], [NAM_MOP], [NAM_MOK], [INN], [KPP], [OGRN], [OID_MO], [OKOPF], [OKFS], [ADDR_J], [ADDR_J_GAR], [OKTMO], [EMAIL], [PHONE], [FAX], [DATEBEG], [DATEEND]) VALUES (?, ?, ?, ?, ?, ?, ?, ?, ?, ?, ?, ?, ?, ?, ?, ?, ?), (?, ?,  ... 6357 characters truncated ... ?, ?, ?, ?, ?, ?, ?, ?, ?, ?, ?, ?, ?, ?, ?, ?), (?, ?, ?, ?, ?, ?, ?, ?, ?, ?, ?, ?, ?, ?, ?, ?, ?)\n"
     ]
    },
    {
     "name": "stdout",
     "output_type": "stream",
     "text": [
      "2025-09-03 16:03:27,387 INFO sqlalchemy.engine.Engine [insertmanyvalues 59/72 (unordered)] ('00965100000000000', 'ОБЩЕСТВО С ОГРАНИЧЕННОЙ ОТВЕТСТВЕННОСТЬЮ \"МЕДИЦИНСКИЙ ЦЕНТР ГАЙДЕ\"', 'ООО \"МЦ ГАЙДЕ\"', '7842509708', '784201001', '1137847479813', '1.2.643.5.1.13.13.12.2.78.18614', '12300', '16', '191024, г Санкт-Петербург, ул Херсонская, д. 2/9 литера А', 'b691b745-35a7-46e1-8733-122f4decd901', '40000000000', 'LAPENKOID@MC.GUIDEH.COM', '+78123229391', '', '01.01.2025', '31.12.2025', '00965300000000000', 'ОБЩЕСТВО С ОГРАНИЧЕННОЙ ОТВЕТСТВЕННОСТЬЮ \"НАЦИОНАЛЬНЫЙ ЦЕНТР СОЦИАЛЬНО ЗНАЧИМЫХ ЗАБОЛЕВАНИЙ\"', 'ООО \"НАЦИОНАЛЬНЫЙ ЦЕНТР СОЦИАЛЬНО ЗНАЧИМЫХ ЗАБОЛЕВАНИЙ\"', '7838042097', '781301001', '1157847292701', '1.2.643.5.1.13.13.12.2.78.14440', '12300', '16', '197110, г Санкт-Петербург, пр-кт Динамо, д. 11 литера А', '1e8d5970-0244-4f67-bb79-7f85281c0050', '40000000000', 'clintrial@ncsd.pro', '+79817200103', '', '01.01.2025', '31.12.2025', '00965600000000000', 'ОБЩЕСТВО С ОГРАНИЧЕННОЙ ОТВЕТСТВЕННОСТЬЮ \"МЕДИКОР\"', 'ООО \"МЕДИКОР\"', '7802735034', '780201001', '1109847035715', '1.2.643.5.1.13.13.12.2.78.23375', '12300', '16', '194354, г Санкт-Петербург, пр-кт Луначарского, д. 60 к. 1 литера Б', '19455717-44ec-4636-be4d-38a7989f1cc2', '40000000000', 'SUPER.3DENTAL@YANDEX.RU', '+78125161240', '', '23.01.2025' ... 1991 parameters truncated ... 'ОБЩЕСТВО С ОГРАНИЧЕННОЙ ОТВЕТСТВЕННОСТЬЮ \"ДЕНТАЛ\"', 'ООО \"ДЕНТАЛ\"', '8607008478', '860701001', '1028601418427', '1.2.643.5.1.13.13.12.2.86.20430', '12300', '16', '628671, АО Ханты-Мансийский Автономный округ - Югра, г Лангепас, ул Светлый проезд, д 5', 'b215c674-904c-4111-9fc5-3bca0a7f49ca', '71800000000', 'DENTAI@MAIL.RU', '+73466929242', '', '06.08.2025', '31.12.2025', '00984100000000000', 'БЮДЖЕТНОЕ УЧРЕЖДЕНИЕ ХАНТЫ-МАНСИЙСКОГО АВТОНОМНОГО ОКРУГА - ЮГРЫ \"НЕФТЕЮГАНСКАЯ ГОРОДСКАЯ СТАНЦИЯ СКОРОЙ МЕДИЦИНСКОЙ ПОМОЩИ\"', 'БУ \"НЕФТЕЮГАНСКАЯ ГОРОДСКАЯ СТАНЦИЯ СКОРОЙ МЕДИЦИНСКОЙ ПОМОЩИ\"', '8604032722', '860401001', '1038602007960', '1.2.643.5.1.13.13.12.2.86.8883', '75203', '13', '628301, АО Ханты-Мансийский Автономный округ - Югра, г Нефтеюганск, ул Набережная, д 12, кв 1', '4fa6140f-f50e-459d-b8e0-b8b564b6c3a7', '71800000000', 'lazar03@mail.ru', '+73463517602', '', '04.07.2025', '31.12.2025', '00984200000000000', 'БЮДЖЕТНОЕ УЧРЕЖДЕНИЕ ХАНТЫ-МАНСИЙСКОГО АВТОНОМНОГО ОКРУГА - ЮГРЫ \"СУРГУТСКАЯ ГОРОДСКАЯ КЛИНИЧЕСКАЯ СТАНЦИЯ СКОРОЙ МЕДИЦИНСКОЙ ПОМОЩИ\"', 'БУ \"СУРГУТСКАЯ ГОРОДСКАЯ КЛИНИЧЕСКАЯ СТАНЦИЯ СКОРОЙ МЕДИЦИНСКОЙ ПОМОЩИ\"', '8602001729', '860201001', '1028600620014', '1.2.643.5.1.13.13.12.2.86.8978', '75203', '13', '628406, АО Ханты-Мансийский Автономный округ - Югра, г Сургут, ул Иосифа Каролинского, зд 7', 'c543d82b-3c3b-4843-98f9-0abc3af73183', '71800000000', 'gssmp-glvr@admsurgut.ru', '+73462319299', '', '08.07.2025', '31.12.2025')\n"
     ]
    },
    {
     "name": "stderr",
     "output_type": "stream",
     "text": [
      "INFO:sqlalchemy.engine.Engine:[insertmanyvalues 59/72 (unordered)] ('00965100000000000', 'ОБЩЕСТВО С ОГРАНИЧЕННОЙ ОТВЕТСТВЕННОСТЬЮ \"МЕДИЦИНСКИЙ ЦЕНТР ГАЙДЕ\"', 'ООО \"МЦ ГАЙДЕ\"', '7842509708', '784201001', '1137847479813', '1.2.643.5.1.13.13.12.2.78.18614', '12300', '16', '191024, г Санкт-Петербург, ул Херсонская, д. 2/9 литера А', 'b691b745-35a7-46e1-8733-122f4decd901', '40000000000', 'LAPENKOID@MC.GUIDEH.COM', '+78123229391', '', '01.01.2025', '31.12.2025', '00965300000000000', 'ОБЩЕСТВО С ОГРАНИЧЕННОЙ ОТВЕТСТВЕННОСТЬЮ \"НАЦИОНАЛЬНЫЙ ЦЕНТР СОЦИАЛЬНО ЗНАЧИМЫХ ЗАБОЛЕВАНИЙ\"', 'ООО \"НАЦИОНАЛЬНЫЙ ЦЕНТР СОЦИАЛЬНО ЗНАЧИМЫХ ЗАБОЛЕВАНИЙ\"', '7838042097', '781301001', '1157847292701', '1.2.643.5.1.13.13.12.2.78.14440', '12300', '16', '197110, г Санкт-Петербург, пр-кт Динамо, д. 11 литера А', '1e8d5970-0244-4f67-bb79-7f85281c0050', '40000000000', 'clintrial@ncsd.pro', '+79817200103', '', '01.01.2025', '31.12.2025', '00965600000000000', 'ОБЩЕСТВО С ОГРАНИЧЕННОЙ ОТВЕТСТВЕННОСТЬЮ \"МЕДИКОР\"', 'ООО \"МЕДИКОР\"', '7802735034', '780201001', '1109847035715', '1.2.643.5.1.13.13.12.2.78.23375', '12300', '16', '194354, г Санкт-Петербург, пр-кт Луначарского, д. 60 к. 1 литера Б', '19455717-44ec-4636-be4d-38a7989f1cc2', '40000000000', 'SUPER.3DENTAL@YANDEX.RU', '+78125161240', '', '23.01.2025' ... 1991 parameters truncated ... 'ОБЩЕСТВО С ОГРАНИЧЕННОЙ ОТВЕТСТВЕННОСТЬЮ \"ДЕНТАЛ\"', 'ООО \"ДЕНТАЛ\"', '8607008478', '860701001', '1028601418427', '1.2.643.5.1.13.13.12.2.86.20430', '12300', '16', '628671, АО Ханты-Мансийский Автономный округ - Югра, г Лангепас, ул Светлый проезд, д 5', 'b215c674-904c-4111-9fc5-3bca0a7f49ca', '71800000000', 'DENTAI@MAIL.RU', '+73466929242', '', '06.08.2025', '31.12.2025', '00984100000000000', 'БЮДЖЕТНОЕ УЧРЕЖДЕНИЕ ХАНТЫ-МАНСИЙСКОГО АВТОНОМНОГО ОКРУГА - ЮГРЫ \"НЕФТЕЮГАНСКАЯ ГОРОДСКАЯ СТАНЦИЯ СКОРОЙ МЕДИЦИНСКОЙ ПОМОЩИ\"', 'БУ \"НЕФТЕЮГАНСКАЯ ГОРОДСКАЯ СТАНЦИЯ СКОРОЙ МЕДИЦИНСКОЙ ПОМОЩИ\"', '8604032722', '860401001', '1038602007960', '1.2.643.5.1.13.13.12.2.86.8883', '75203', '13', '628301, АО Ханты-Мансийский Автономный округ - Югра, г Нефтеюганск, ул Набережная, д 12, кв 1', '4fa6140f-f50e-459d-b8e0-b8b564b6c3a7', '71800000000', 'lazar03@mail.ru', '+73463517602', '', '04.07.2025', '31.12.2025', '00984200000000000', 'БЮДЖЕТНОЕ УЧРЕЖДЕНИЕ ХАНТЫ-МАНСИЙСКОГО АВТОНОМНОГО ОКРУГА - ЮГРЫ \"СУРГУТСКАЯ ГОРОДСКАЯ КЛИНИЧЕСКАЯ СТАНЦИЯ СКОРОЙ МЕДИЦИНСКОЙ ПОМОЩИ\"', 'БУ \"СУРГУТСКАЯ ГОРОДСКАЯ КЛИНИЧЕСКАЯ СТАНЦИЯ СКОРОЙ МЕДИЦИНСКОЙ ПОМОЩИ\"', '8602001729', '860201001', '1028600620014', '1.2.643.5.1.13.13.12.2.86.8978', '75203', '13', '628406, АО Ханты-Мансийский Автономный округ - Югра, г Сургут, ул Иосифа Каролинского, зд 7', 'c543d82b-3c3b-4843-98f9-0abc3af73183', '71800000000', 'gssmp-glvr@admsurgut.ru', '+73462319299', '', '08.07.2025', '31.12.2025')\n"
     ]
    },
    {
     "name": "stdout",
     "output_type": "stream",
     "text": [
      "2025-09-03 16:03:27,502 INFO sqlalchemy.engine.Engine INSERT INTO nsi.[ERMO] ([IDMO], [NAM_MOP], [NAM_MOK], [INN], [KPP], [OGRN], [OID_MO], [OKOPF], [OKFS], [ADDR_J], [ADDR_J_GAR], [OKTMO], [EMAIL], [PHONE], [FAX], [DATEBEG], [DATEEND]) VALUES (?, ?, ?, ?, ?, ?, ?, ?, ?, ?, ?, ?, ?, ?, ?, ?, ?), (?, ?,  ... 6357 characters truncated ... ?, ?, ?, ?, ?, ?, ?, ?, ?, ?, ?, ?, ?, ?, ?, ?), (?, ?, ?, ?, ?, ?, ?, ?, ?, ?, ?, ?, ?, ?, ?, ?, ?)\n"
     ]
    },
    {
     "name": "stderr",
     "output_type": "stream",
     "text": [
      "INFO:sqlalchemy.engine.Engine:INSERT INTO nsi.[ERMO] ([IDMO], [NAM_MOP], [NAM_MOK], [INN], [KPP], [OGRN], [OID_MO], [OKOPF], [OKFS], [ADDR_J], [ADDR_J_GAR], [OKTMO], [EMAIL], [PHONE], [FAX], [DATEBEG], [DATEEND]) VALUES (?, ?, ?, ?, ?, ?, ?, ?, ?, ?, ?, ?, ?, ?, ?, ?, ?), (?, ?,  ... 6357 characters truncated ... ?, ?, ?, ?, ?, ?, ?, ?, ?, ?, ?, ?, ?, ?, ?, ?), (?, ?, ?, ?, ?, ?, ?, ?, ?, ?, ?, ?, ?, ?, ?, ?, ?)\n"
     ]
    },
    {
     "name": "stdout",
     "output_type": "stream",
     "text": [
      "2025-09-03 16:03:27,505 INFO sqlalchemy.engine.Engine [insertmanyvalues 60/72 (unordered)] ('00984300000000000', 'ОБЩЕСТВО С ОГРАНИЧЕННОЙ ОТВЕТСТВЕННОСТЬЮ \"ДЕНТАЛСЕРВИС\"', 'ООО \"ДЕНТАЛСЕРВИС\"', '8603088994', '860301001', '1028600958847', '1.2.643.5.1.13.13.12.2.86.20373', '12300', '16', '628617, АО Ханты-Мансийский Автономный округ - Югра, г Нижневартовск, ул Пермская, д 9', '0ec981e2-0e4e-4d1d-9cc8-3c19ca4a859e', '71800000000', 'DENTALSERV@MAIL.RU', '+73466451540', '', '06.08.2025', '31.12.2025', '00984400000000000', 'ОБЩЕСТВО С ОГРАНИЧЕННОЙ ОТВЕТСТВЕННОСТЬЮ \"ЮГОРИЯ-ДЕНТ\"', 'ООО \"ЮГОРИЯ-ДЕНТ\"', '8602189397', '860201001', '1128602001791', '1.2.643.5.1.13.13.12.2.86.20495', '12300', '16', '628405, АО Ханты-Мансийский Автономный округ - Югра, г Сургут, проезд Взлетный, д 4', '8adc825e-ad50-4327-8ca9-2e8df676545a', '71800000000', 'UGORIA-DENT@MAIL.RU', '+73462252112', '', '15.01.2025', '31.12.2025', '00984500000000000', 'ОБЩЕСТВО С ОГРАНИЧЕННОЙ ОТВЕТСТВЕННОСТЬЮ \"ОЗДОРОВИТЕЛЬНЫЙ ЦЕНТР \"ВИРА\"', 'ООО \" ВИРА-ЦЕНТР \"', '8604012765', '860401001', '1028601258234', '1.2.643.5.1.13.13.12.2.86.20477', '12300', '16', '628305, АО Ханты-Мансийский Автономный округ - Югра, г Нефтеюганск, мкр. 11, д 26, кв 3', 'e05bcced-f8be-49a3-b1fc-7cc2f4e8aa1e', '71800000000', 'DIR@VIRA-CENTER.RU', '+73463517703', '', '24.01.2025' ... 1991 parameters truncated ... 'ГОСУДАРСТВЕННОЕ БЮДЖЕТНОЕ УЧРЕЖДЕНИЕ ЗДРАВООХРАНЕНИЯ РЕСПУБЛИКИ КРЫМ \"БАХЧИСАРАЙСКАЯ ЦЕНТРАЛЬНАЯ РАЙОННАЯ БОЛЬНИЦА\"', 'ГБУЗРК \"БАХЧИСАРАЙСКАЯ ЦРБ\"', '9104003370', '910401001', '1149102180446', '1.2.643.5.1.13.13.12.2.91.9120', '75203', '13', '298400, Респ Крым, р-н Бахчисарайский, г Бахчисарай, ул Советская, д 13', 'ecb621c4-35e4-4ddb-84b6-c8e07a18c9f0', '35000000000', 'bcrb@bcrb.rk.gov.ru', '+79789082249', '', '22.08.2025', '31.12.2025', '01001700000000000', 'ГОСУДАРСТВЕННОЕ АВТОНОМНОЕ УЧРЕЖДЕНИЕ ЗДРАВООХРАНЕНИЯ РЕСПУБЛИКИ КРЫМ «РЕСПУБЛИКАНСКАЯ БОЛЬНИЦА ВОССТАНОВИТЕЛЬНОГО ЛЕЧЕНИЯ «ЧЕРНЫЕ ВОДЫ»', 'ГАУЗРК \"РБВЛ \"ЧЕРНЫЕ ВОДЫ\"', '9104003411', '910401001', '1149102182558', '1.2.643.5.1.13.13.12.2.91.9067', '75201', '13', '298474, Респ Крым, р-н Бахчисарайский, с Аромат, ул Ялтинская, д 3', '9b1d01df-ed9f-4084-816d-517dc8590761', '35000000000', 'Kruftb@yandex.ru', '+73655464416', '', '21.07.2025', '31.12.2025', '01001800000000000', 'ГОСУДАРСТВЕННОЕ БЮДЖЕТНОЕ УЧРЕЖДЕНИЕ ЗДРАВООХРАНЕНИЯ РЕСПУБЛИКИ КРЫМ \"КИРОВСКАЯ ЦЕНТРАЛЬНАЯ РАЙОННАЯ БОЛЬНИЦА\"', 'ГБУЗРК \"КИРОВСКАЯ ЦРБ\"', '9108103495', '910801001', '1159102018338', '1.2.643.5.1.13.13.12.2.91.9124', '75203', '13', '297300, Респ Крым, р-н Кировский, пгт Кировское, ул Дзержинского, д 40', 'c9936e30-db35-4546-b68a-c7ec748da054', '35000000000', 'kirovskaja.crb@gmail.com', '+79789208591', '', '21.08.2025', '31.12.2025')\n"
     ]
    },
    {
     "name": "stderr",
     "output_type": "stream",
     "text": [
      "INFO:sqlalchemy.engine.Engine:[insertmanyvalues 60/72 (unordered)] ('00984300000000000', 'ОБЩЕСТВО С ОГРАНИЧЕННОЙ ОТВЕТСТВЕННОСТЬЮ \"ДЕНТАЛСЕРВИС\"', 'ООО \"ДЕНТАЛСЕРВИС\"', '8603088994', '860301001', '1028600958847', '1.2.643.5.1.13.13.12.2.86.20373', '12300', '16', '628617, АО Ханты-Мансийский Автономный округ - Югра, г Нижневартовск, ул Пермская, д 9', '0ec981e2-0e4e-4d1d-9cc8-3c19ca4a859e', '71800000000', 'DENTALSERV@MAIL.RU', '+73466451540', '', '06.08.2025', '31.12.2025', '00984400000000000', 'ОБЩЕСТВО С ОГРАНИЧЕННОЙ ОТВЕТСТВЕННОСТЬЮ \"ЮГОРИЯ-ДЕНТ\"', 'ООО \"ЮГОРИЯ-ДЕНТ\"', '8602189397', '860201001', '1128602001791', '1.2.643.5.1.13.13.12.2.86.20495', '12300', '16', '628405, АО Ханты-Мансийский Автономный округ - Югра, г Сургут, проезд Взлетный, д 4', '8adc825e-ad50-4327-8ca9-2e8df676545a', '71800000000', 'UGORIA-DENT@MAIL.RU', '+73462252112', '', '15.01.2025', '31.12.2025', '00984500000000000', 'ОБЩЕСТВО С ОГРАНИЧЕННОЙ ОТВЕТСТВЕННОСТЬЮ \"ОЗДОРОВИТЕЛЬНЫЙ ЦЕНТР \"ВИРА\"', 'ООО \" ВИРА-ЦЕНТР \"', '8604012765', '860401001', '1028601258234', '1.2.643.5.1.13.13.12.2.86.20477', '12300', '16', '628305, АО Ханты-Мансийский Автономный округ - Югра, г Нефтеюганск, мкр. 11, д 26, кв 3', 'e05bcced-f8be-49a3-b1fc-7cc2f4e8aa1e', '71800000000', 'DIR@VIRA-CENTER.RU', '+73463517703', '', '24.01.2025' ... 1991 parameters truncated ... 'ГОСУДАРСТВЕННОЕ БЮДЖЕТНОЕ УЧРЕЖДЕНИЕ ЗДРАВООХРАНЕНИЯ РЕСПУБЛИКИ КРЫМ \"БАХЧИСАРАЙСКАЯ ЦЕНТРАЛЬНАЯ РАЙОННАЯ БОЛЬНИЦА\"', 'ГБУЗРК \"БАХЧИСАРАЙСКАЯ ЦРБ\"', '9104003370', '910401001', '1149102180446', '1.2.643.5.1.13.13.12.2.91.9120', '75203', '13', '298400, Респ Крым, р-н Бахчисарайский, г Бахчисарай, ул Советская, д 13', 'ecb621c4-35e4-4ddb-84b6-c8e07a18c9f0', '35000000000', 'bcrb@bcrb.rk.gov.ru', '+79789082249', '', '22.08.2025', '31.12.2025', '01001700000000000', 'ГОСУДАРСТВЕННОЕ АВТОНОМНОЕ УЧРЕЖДЕНИЕ ЗДРАВООХРАНЕНИЯ РЕСПУБЛИКИ КРЫМ «РЕСПУБЛИКАНСКАЯ БОЛЬНИЦА ВОССТАНОВИТЕЛЬНОГО ЛЕЧЕНИЯ «ЧЕРНЫЕ ВОДЫ»', 'ГАУЗРК \"РБВЛ \"ЧЕРНЫЕ ВОДЫ\"', '9104003411', '910401001', '1149102182558', '1.2.643.5.1.13.13.12.2.91.9067', '75201', '13', '298474, Респ Крым, р-н Бахчисарайский, с Аромат, ул Ялтинская, д 3', '9b1d01df-ed9f-4084-816d-517dc8590761', '35000000000', 'Kruftb@yandex.ru', '+73655464416', '', '21.07.2025', '31.12.2025', '01001800000000000', 'ГОСУДАРСТВЕННОЕ БЮДЖЕТНОЕ УЧРЕЖДЕНИЕ ЗДРАВООХРАНЕНИЯ РЕСПУБЛИКИ КРЫМ \"КИРОВСКАЯ ЦЕНТРАЛЬНАЯ РАЙОННАЯ БОЛЬНИЦА\"', 'ГБУЗРК \"КИРОВСКАЯ ЦРБ\"', '9108103495', '910801001', '1159102018338', '1.2.643.5.1.13.13.12.2.91.9124', '75203', '13', '297300, Респ Крым, р-н Кировский, пгт Кировское, ул Дзержинского, д 40', 'c9936e30-db35-4546-b68a-c7ec748da054', '35000000000', 'kirovskaja.crb@gmail.com', '+79789208591', '', '21.08.2025', '31.12.2025')\n"
     ]
    },
    {
     "name": "stdout",
     "output_type": "stream",
     "text": [
      "2025-09-03 16:03:27,615 INFO sqlalchemy.engine.Engine INSERT INTO nsi.[ERMO] ([IDMO], [NAM_MOP], [NAM_MOK], [INN], [KPP], [OGRN], [OID_MO], [OKOPF], [OKFS], [ADDR_J], [ADDR_J_GAR], [OKTMO], [EMAIL], [PHONE], [FAX], [DATEBEG], [DATEEND]) VALUES (?, ?, ?, ?, ?, ?, ?, ?, ?, ?, ?, ?, ?, ?, ?, ?, ?), (?, ?,  ... 6357 characters truncated ... ?, ?, ?, ?, ?, ?, ?, ?, ?, ?, ?, ?, ?, ?, ?, ?), (?, ?, ?, ?, ?, ?, ?, ?, ?, ?, ?, ?, ?, ?, ?, ?, ?)\n"
     ]
    },
    {
     "name": "stderr",
     "output_type": "stream",
     "text": [
      "INFO:sqlalchemy.engine.Engine:INSERT INTO nsi.[ERMO] ([IDMO], [NAM_MOP], [NAM_MOK], [INN], [KPP], [OGRN], [OID_MO], [OKOPF], [OKFS], [ADDR_J], [ADDR_J_GAR], [OKTMO], [EMAIL], [PHONE], [FAX], [DATEBEG], [DATEEND]) VALUES (?, ?, ?, ?, ?, ?, ?, ?, ?, ?, ?, ?, ?, ?, ?, ?, ?), (?, ?,  ... 6357 characters truncated ... ?, ?, ?, ?, ?, ?, ?, ?, ?, ?, ?, ?, ?, ?, ?, ?), (?, ?, ?, ?, ?, ?, ?, ?, ?, ?, ?, ?, ?, ?, ?, ?, ?)\n"
     ]
    },
    {
     "name": "stdout",
     "output_type": "stream",
     "text": [
      "2025-09-03 16:03:27,616 INFO sqlalchemy.engine.Engine [insertmanyvalues 61/72 (unordered)] ('01001900000000000', 'ГОСУДАРСТВЕННОЕ БЮДЖЕТНОЕ УЧРЕЖДЕНИЕ ЗДРАВООХРАНЕНИЯ РЕСПУБЛИКИ КРЫМ \"СТАРОКРЫМСКАЯ РАЙОННАЯ БОЛЬНИЦА ИМЕНИ АКАДЕМИКА Н. М. АМОСОВА\"', 'ГБУЗ РК \"СТАРОКРЫМСКАЯ РБ ИМЕНИ АКАДЕМИКА Н. М. АМОСОВА\"', '9108119505', '910801001', '1159102009879', '1.2.643.5.1.13.13.12.2.91.9093', '75203', '13', '297345, Респ Крым, р-н Кировский, г Старый Крым, ул Бр.Стояновых, д 71', '759c8bb2-d1ef-48a8-b89e-2b454f0f5c12', '35000000000', 'b90000@yandex.ru', '+73655551848', '', '22.08.2025', '31.12.2025', '01002000000000000', 'ГОСУДАРСТВЕННОЕ БЮДЖЕТНОЕ УЧРЕЖДЕНИЕ ЗДРАВООХРАНЕНИЯ РЕСПУБЛИКИ КРЫМ \"ЛЕНИНСКАЯ ЦЕНТРАЛЬНАЯ РАЙОННАЯ БОЛЬНИЦА\"', 'ГБУЗРК \"ЛЕНИНСКАЯ ЦРБ\"', '9111008555', '911101001', '1149102171657', '1.2.643.5.1.13.13.12.2.91.9122', '75203', '13', '298200, Респ Крым, р-н Ленинский, пгт Ленино, ул Пушкина, д 48', 'b7e61a8d-ba54-47e8-b5c2-192b622a5ace', '35000000000', 'lcrbadmin@mail.ru', '+73655760636', '', '01.01.2025', '31.12.2025', '01002100000000000', 'ГОСУДАРСТВЕННОЕ БЮДЖЕТНОЕ УЧРЕЖДЕНИЕ ЗДРАВООХРАНЕНИЯ РЕСПУБЛИКИ КРЫМ \"КРАСНОГВАРДЕЙСКАЯ ЦЕНТРАЛЬНАЯ РАЙОННАЯ БОЛЬНИЦА\"', 'ГБУЗРК \"КРАСНОГВАРДЕЙСКАЯ ЦРБ\"', '9105006609', '910501001', '1149102174980', '1.2.643.5.1.13.13.12.2.91.9125', '75203', '13', '297000, Респ Крым, р-н Красногвардейский, пгт Красногвардейское, ул Тельмана, д 11', '7d04a692-cdab-4f77-9750-75a72d436cdd', '35000000000', 'ky_krasnogvard_tmo@mail.ru', '+73655625447', '', '27.08.2025' ... 1991 parameters truncated ... 'ОБЩЕСТВО С ОГРАНИЧЕННОЙ ОТВЕТСТВЕННОСТЬЮ \"МЕДИЦИНСКИЙ ПРЕНАТАЛЬНЫЙ ЦЕНТР\"', 'ООО \"МПЦ\"', '7816400856', '781601001', '5067847527941', '1.2.643.5.1.13.13.12.2.78.45651', '12300', '16', '192281, г Санкт-Петербург, пл Балканская, д. 5 литера Д', 'aa5b4004-2575-4fff-b74e-a3d801acf0b2', '40000000000', 'mpcbuh3330990@yandex.ru', '+78123330990', '', '01.01.2025', '31.12.2025', '01070500000000000', 'ФЕДЕРАЛЬНОЕ ГОСУДАРСТВЕННОЕ КАЗЕННОЕ УЧРЕЖДЕНИЕ ЗДРАВООХРАНЕНИЯ \"ГЛАВНЫЙ ВОЕННЫЙ КЛИНИЧЕСКИЙ ГОСПИТАЛЬ ВОЙСК НАЦИОНАЛЬНОЙ ГВАРДИИ РОССИЙСКОЙ ФЕДЕРАЦИИ\"', 'ФГКУЗ \"ГВКГ ВОЙСК НАЦИОНАЛЬНОЙ ГВАРДИИ\"', '5001018049', '500101001', '1035000703858', '1.2.643.5.1.13.13.12.2.50.17722', '75104', '12', '143914, обл Московская, г Балашиха, мкр. Никольско-Архангельский, ш Вишняковское, д 101', '1d198b70-8b0b-4af4-9a45-22ecafbb78fb', '46000000000', 'receptiongvkg@rosguard.gov.ru', '+74955217822', '', '01.01.2025', '31.12.2025', '01070900000000000', 'ОБЩЕСТВО С ОГРАНИЧЕННОЙ ОТВЕТСТВЕННОСТЬЮ \"МЕДИКАЛ ПЛЕЙС\"', 'ООО \"МЕДИКАЛ ПЛЕЙС\"', '6372026401', '637201001', '1216300023367', '1.2.643.5.1.13.13.12.2.63.29071', '12300', '16', ', обл Самарская, р-н Кинель-Черкасский, с Кинель-Черкассы, ул Крестьянская, зд 53Г', 'd826fa1a-6228-4004-8cef-28dbdf9e47f0', '36000000000', 'medicalplace@mail.ru', '+79272979993', '', '15.05.2025', '31.12.2025')\n"
     ]
    },
    {
     "name": "stderr",
     "output_type": "stream",
     "text": [
      "INFO:sqlalchemy.engine.Engine:[insertmanyvalues 61/72 (unordered)] ('01001900000000000', 'ГОСУДАРСТВЕННОЕ БЮДЖЕТНОЕ УЧРЕЖДЕНИЕ ЗДРАВООХРАНЕНИЯ РЕСПУБЛИКИ КРЫМ \"СТАРОКРЫМСКАЯ РАЙОННАЯ БОЛЬНИЦА ИМЕНИ АКАДЕМИКА Н. М. АМОСОВА\"', 'ГБУЗ РК \"СТАРОКРЫМСКАЯ РБ ИМЕНИ АКАДЕМИКА Н. М. АМОСОВА\"', '9108119505', '910801001', '1159102009879', '1.2.643.5.1.13.13.12.2.91.9093', '75203', '13', '297345, Респ Крым, р-н Кировский, г Старый Крым, ул Бр.Стояновых, д 71', '759c8bb2-d1ef-48a8-b89e-2b454f0f5c12', '35000000000', 'b90000@yandex.ru', '+73655551848', '', '22.08.2025', '31.12.2025', '01002000000000000', 'ГОСУДАРСТВЕННОЕ БЮДЖЕТНОЕ УЧРЕЖДЕНИЕ ЗДРАВООХРАНЕНИЯ РЕСПУБЛИКИ КРЫМ \"ЛЕНИНСКАЯ ЦЕНТРАЛЬНАЯ РАЙОННАЯ БОЛЬНИЦА\"', 'ГБУЗРК \"ЛЕНИНСКАЯ ЦРБ\"', '9111008555', '911101001', '1149102171657', '1.2.643.5.1.13.13.12.2.91.9122', '75203', '13', '298200, Респ Крым, р-н Ленинский, пгт Ленино, ул Пушкина, д 48', 'b7e61a8d-ba54-47e8-b5c2-192b622a5ace', '35000000000', 'lcrbadmin@mail.ru', '+73655760636', '', '01.01.2025', '31.12.2025', '01002100000000000', 'ГОСУДАРСТВЕННОЕ БЮДЖЕТНОЕ УЧРЕЖДЕНИЕ ЗДРАВООХРАНЕНИЯ РЕСПУБЛИКИ КРЫМ \"КРАСНОГВАРДЕЙСКАЯ ЦЕНТРАЛЬНАЯ РАЙОННАЯ БОЛЬНИЦА\"', 'ГБУЗРК \"КРАСНОГВАРДЕЙСКАЯ ЦРБ\"', '9105006609', '910501001', '1149102174980', '1.2.643.5.1.13.13.12.2.91.9125', '75203', '13', '297000, Респ Крым, р-н Красногвардейский, пгт Красногвардейское, ул Тельмана, д 11', '7d04a692-cdab-4f77-9750-75a72d436cdd', '35000000000', 'ky_krasnogvard_tmo@mail.ru', '+73655625447', '', '27.08.2025' ... 1991 parameters truncated ... 'ОБЩЕСТВО С ОГРАНИЧЕННОЙ ОТВЕТСТВЕННОСТЬЮ \"МЕДИЦИНСКИЙ ПРЕНАТАЛЬНЫЙ ЦЕНТР\"', 'ООО \"МПЦ\"', '7816400856', '781601001', '5067847527941', '1.2.643.5.1.13.13.12.2.78.45651', '12300', '16', '192281, г Санкт-Петербург, пл Балканская, д. 5 литера Д', 'aa5b4004-2575-4fff-b74e-a3d801acf0b2', '40000000000', 'mpcbuh3330990@yandex.ru', '+78123330990', '', '01.01.2025', '31.12.2025', '01070500000000000', 'ФЕДЕРАЛЬНОЕ ГОСУДАРСТВЕННОЕ КАЗЕННОЕ УЧРЕЖДЕНИЕ ЗДРАВООХРАНЕНИЯ \"ГЛАВНЫЙ ВОЕННЫЙ КЛИНИЧЕСКИЙ ГОСПИТАЛЬ ВОЙСК НАЦИОНАЛЬНОЙ ГВАРДИИ РОССИЙСКОЙ ФЕДЕРАЦИИ\"', 'ФГКУЗ \"ГВКГ ВОЙСК НАЦИОНАЛЬНОЙ ГВАРДИИ\"', '5001018049', '500101001', '1035000703858', '1.2.643.5.1.13.13.12.2.50.17722', '75104', '12', '143914, обл Московская, г Балашиха, мкр. Никольско-Архангельский, ш Вишняковское, д 101', '1d198b70-8b0b-4af4-9a45-22ecafbb78fb', '46000000000', 'receptiongvkg@rosguard.gov.ru', '+74955217822', '', '01.01.2025', '31.12.2025', '01070900000000000', 'ОБЩЕСТВО С ОГРАНИЧЕННОЙ ОТВЕТСТВЕННОСТЬЮ \"МЕДИКАЛ ПЛЕЙС\"', 'ООО \"МЕДИКАЛ ПЛЕЙС\"', '6372026401', '637201001', '1216300023367', '1.2.643.5.1.13.13.12.2.63.29071', '12300', '16', ', обл Самарская, р-н Кинель-Черкасский, с Кинель-Черкассы, ул Крестьянская, зд 53Г', 'd826fa1a-6228-4004-8cef-28dbdf9e47f0', '36000000000', 'medicalplace@mail.ru', '+79272979993', '', '15.05.2025', '31.12.2025')\n"
     ]
    },
    {
     "name": "stdout",
     "output_type": "stream",
     "text": [
      "2025-09-03 16:03:27,717 INFO sqlalchemy.engine.Engine INSERT INTO nsi.[ERMO] ([IDMO], [NAM_MOP], [NAM_MOK], [INN], [KPP], [OGRN], [OID_MO], [OKOPF], [OKFS], [ADDR_J], [ADDR_J_GAR], [OKTMO], [EMAIL], [PHONE], [FAX], [DATEBEG], [DATEEND]) VALUES (?, ?, ?, ?, ?, ?, ?, ?, ?, ?, ?, ?, ?, ?, ?, ?, ?), (?, ?,  ... 6357 characters truncated ... ?, ?, ?, ?, ?, ?, ?, ?, ?, ?, ?, ?, ?, ?, ?, ?), (?, ?, ?, ?, ?, ?, ?, ?, ?, ?, ?, ?, ?, ?, ?, ?, ?)\n"
     ]
    },
    {
     "name": "stderr",
     "output_type": "stream",
     "text": [
      "INFO:sqlalchemy.engine.Engine:INSERT INTO nsi.[ERMO] ([IDMO], [NAM_MOP], [NAM_MOK], [INN], [KPP], [OGRN], [OID_MO], [OKOPF], [OKFS], [ADDR_J], [ADDR_J_GAR], [OKTMO], [EMAIL], [PHONE], [FAX], [DATEBEG], [DATEEND]) VALUES (?, ?, ?, ?, ?, ?, ?, ?, ?, ?, ?, ?, ?, ?, ?, ?, ?), (?, ?,  ... 6357 characters truncated ... ?, ?, ?, ?, ?, ?, ?, ?, ?, ?, ?, ?, ?, ?, ?, ?), (?, ?, ?, ?, ?, ?, ?, ?, ?, ?, ?, ?, ?, ?, ?, ?, ?)\n"
     ]
    },
    {
     "name": "stdout",
     "output_type": "stream",
     "text": [
      "2025-09-03 16:03:27,719 INFO sqlalchemy.engine.Engine [insertmanyvalues 62/72 (unordered)] ('01071000000000000', 'САНКТ-ПЕТЕРБУРГСКОЕ ГОСУДАРСТВЕННОЕ БЮДЖЕТНОЕ СТАЦИОНАРНОЕ УЧРЕЖДЕНИЕ СОЦИАЛЬНОГО ОБСЛУЖИВАНИЯ \"ДОМ - ИНТЕРНАТ ДЛЯ ПРЕСТАРЕЛЫХ И ИНВАЛИДОВ №1\"', 'СПБ ГБСУСО \"ДИПИ №1\"', '7814133757', '781401001', '1037832011535', '1.2.643.5.1.13.13.12.2.78.10020', '75203', '13', '197341, г Санкт-Петербург, ул Поклонногорская, д. 52 литера А', '4c727230-d9fa-408c-b9c4-677cafafd923', '40000000000', 'dipi1@ksp.gov.spb.ru', '+78124175622', '', '01.01.2025', '31.12.2025', '01074500000000000', 'ГОСУДАРСТВЕННОЕ ОБЛАСТНОЕ БЮДЖЕТНОЕ УЧРЕЖДЕНИЕ ЗДРАВООХРАНЕНИЯ \"МУРМАНСКИЙ ОБЛАСТНОЙ КЛИНИЧЕСКИЙ МНОГОПРОФИЛЬНЫЙ ЦЕНТР\"', 'ГОБУЗ МОКМЦ', '5190080385', '519001001', '1195190002402', '1.2.643.5.1.13.13.12.2.51.4959', '75203', '13', '183038, обл Мурманская, г Мурманск, ул Володарского, д 18', '637b613b-19d2-4ea0-a117-f4417f24f601', '47000000000', 'center@mokmc.ru', '+78152459991', '', '04.08.2025', '31.12.2025', '01074600000000000', 'ГОСУДАРСТВЕННОЕ БЮДЖЕТНОЕ УЧРЕЖДЕНИЕ ЗДРАВООХРАНЕНИЯ \"ОРЕНБУРГСКАЯ ОБЛАСТНАЯ КЛИНИЧЕСКАЯ ПСИХИАТРИЧЕСКАЯ БОЛЬНИЦА № 2\"', 'ГБУЗ \"ООКПБ № 2\"', '5638007790', '563801001', '1025602731065', '1.2.643.5.1.13.13.12.2.56.5623', '75203', '13', '460551, обл Оренбургская, р-н Оренбургский, с Старица, пер Майский, д 2', 'a628bb7d-f78e-4746-9154-9043086d6d07', '53000000000', 'gbuz@ookpb2.ru', '+73532397016', '', '12.05.2025' ... 1991 parameters truncated ... 'ГОСУДАРСТВЕННОЕ БЮДЖЕТНОЕ УЧРЕЖДЕНИЕ РЕСПУБЛИКИ КРЫМ \"САНАТОРИЙ ДЛЯ ДЕТЕЙ И ДЕТЕЙ С РОДИТЕЛЯМИ \"ЧАЙКА\" ИМ.ГЕЛИЛОВИЧЕЙ\"', 'ГБУ РК \"САНАТОРИЙ ДЛЯ ДЕТЕЙ И ДЕТЕЙ С РОДИТЕЛЯМИ \"ЧАЙКА\" ИМ. ГЕЛИЛОВИЧЕЙ\"', '9110087145', '911001001', '1149102177905', '1.2.643.5.1.13.13.12.2.91.9139', '75203', '13', '297493, Респ Крым, г Евпатория, пгт Заозерное, ул Аллея Дружбы, д 61', '99328392-cf58-4ecd-9e0a-d33d4937a551', '35000000000', 'chayka95@yandex.ru', '+79787025786', '', '14.07.2025', '31.12.2025', '01109900000000000', 'ОБЩЕСТВО С ОГРАНИЧЕННОЙ ОТВЕТСТВЕННОСТЬЮ \"ЛИДЕР\"', 'ООО \"ЛИДЕР\"', '2450036402', '245001001', '1212400027443', '1.2.643.5.1.13.13.12.2.24.43384', '12300', '16', '663600, край Красноярский, г Канск, ул им. газеты Власть Советов, зд. 1 стр. 1', 'ee026b9e-d667-42e4-aead-b909a18028b2', '04000000000', 'lider.kansk@yandex.ru', '+73916142728', '', '15.08.2025', '31.12.2025', '01110100000000000', 'ОБЩЕСТВО С ОГРАНИЧЕННОЙ ОТВЕТСТВЕННОСТЬЮ \"СИРИУС\"', 'ООО \"СИРИУС\"', '1903028383', '190301001', '1191901001731', '1.2.643.5.1.13.13.12.2.19.39149', '12300', '16', '655158, Респ Хакасия, г Черногорск, ул Пушкина, д 30А', '36d1e2f8-ce20-44dd-9db5-605204585cb3', '95000000000', 'sirius.sorokaev@yandex.ru', '+79069530303', '', '14.07.2025', '31.12.2025')\n"
     ]
    },
    {
     "name": "stderr",
     "output_type": "stream",
     "text": [
      "INFO:sqlalchemy.engine.Engine:[insertmanyvalues 62/72 (unordered)] ('01071000000000000', 'САНКТ-ПЕТЕРБУРГСКОЕ ГОСУДАРСТВЕННОЕ БЮДЖЕТНОЕ СТАЦИОНАРНОЕ УЧРЕЖДЕНИЕ СОЦИАЛЬНОГО ОБСЛУЖИВАНИЯ \"ДОМ - ИНТЕРНАТ ДЛЯ ПРЕСТАРЕЛЫХ И ИНВАЛИДОВ №1\"', 'СПБ ГБСУСО \"ДИПИ №1\"', '7814133757', '781401001', '1037832011535', '1.2.643.5.1.13.13.12.2.78.10020', '75203', '13', '197341, г Санкт-Петербург, ул Поклонногорская, д. 52 литера А', '4c727230-d9fa-408c-b9c4-677cafafd923', '40000000000', 'dipi1@ksp.gov.spb.ru', '+78124175622', '', '01.01.2025', '31.12.2025', '01074500000000000', 'ГОСУДАРСТВЕННОЕ ОБЛАСТНОЕ БЮДЖЕТНОЕ УЧРЕЖДЕНИЕ ЗДРАВООХРАНЕНИЯ \"МУРМАНСКИЙ ОБЛАСТНОЙ КЛИНИЧЕСКИЙ МНОГОПРОФИЛЬНЫЙ ЦЕНТР\"', 'ГОБУЗ МОКМЦ', '5190080385', '519001001', '1195190002402', '1.2.643.5.1.13.13.12.2.51.4959', '75203', '13', '183038, обл Мурманская, г Мурманск, ул Володарского, д 18', '637b613b-19d2-4ea0-a117-f4417f24f601', '47000000000', 'center@mokmc.ru', '+78152459991', '', '04.08.2025', '31.12.2025', '01074600000000000', 'ГОСУДАРСТВЕННОЕ БЮДЖЕТНОЕ УЧРЕЖДЕНИЕ ЗДРАВООХРАНЕНИЯ \"ОРЕНБУРГСКАЯ ОБЛАСТНАЯ КЛИНИЧЕСКАЯ ПСИХИАТРИЧЕСКАЯ БОЛЬНИЦА № 2\"', 'ГБУЗ \"ООКПБ № 2\"', '5638007790', '563801001', '1025602731065', '1.2.643.5.1.13.13.12.2.56.5623', '75203', '13', '460551, обл Оренбургская, р-н Оренбургский, с Старица, пер Майский, д 2', 'a628bb7d-f78e-4746-9154-9043086d6d07', '53000000000', 'gbuz@ookpb2.ru', '+73532397016', '', '12.05.2025' ... 1991 parameters truncated ... 'ГОСУДАРСТВЕННОЕ БЮДЖЕТНОЕ УЧРЕЖДЕНИЕ РЕСПУБЛИКИ КРЫМ \"САНАТОРИЙ ДЛЯ ДЕТЕЙ И ДЕТЕЙ С РОДИТЕЛЯМИ \"ЧАЙКА\" ИМ.ГЕЛИЛОВИЧЕЙ\"', 'ГБУ РК \"САНАТОРИЙ ДЛЯ ДЕТЕЙ И ДЕТЕЙ С РОДИТЕЛЯМИ \"ЧАЙКА\" ИМ. ГЕЛИЛОВИЧЕЙ\"', '9110087145', '911001001', '1149102177905', '1.2.643.5.1.13.13.12.2.91.9139', '75203', '13', '297493, Респ Крым, г Евпатория, пгт Заозерное, ул Аллея Дружбы, д 61', '99328392-cf58-4ecd-9e0a-d33d4937a551', '35000000000', 'chayka95@yandex.ru', '+79787025786', '', '14.07.2025', '31.12.2025', '01109900000000000', 'ОБЩЕСТВО С ОГРАНИЧЕННОЙ ОТВЕТСТВЕННОСТЬЮ \"ЛИДЕР\"', 'ООО \"ЛИДЕР\"', '2450036402', '245001001', '1212400027443', '1.2.643.5.1.13.13.12.2.24.43384', '12300', '16', '663600, край Красноярский, г Канск, ул им. газеты Власть Советов, зд. 1 стр. 1', 'ee026b9e-d667-42e4-aead-b909a18028b2', '04000000000', 'lider.kansk@yandex.ru', '+73916142728', '', '15.08.2025', '31.12.2025', '01110100000000000', 'ОБЩЕСТВО С ОГРАНИЧЕННОЙ ОТВЕТСТВЕННОСТЬЮ \"СИРИУС\"', 'ООО \"СИРИУС\"', '1903028383', '190301001', '1191901001731', '1.2.643.5.1.13.13.12.2.19.39149', '12300', '16', '655158, Респ Хакасия, г Черногорск, ул Пушкина, д 30А', '36d1e2f8-ce20-44dd-9db5-605204585cb3', '95000000000', 'sirius.sorokaev@yandex.ru', '+79069530303', '', '14.07.2025', '31.12.2025')\n"
     ]
    },
    {
     "name": "stdout",
     "output_type": "stream",
     "text": [
      "2025-09-03 16:03:27,832 INFO sqlalchemy.engine.Engine INSERT INTO nsi.[ERMO] ([IDMO], [NAM_MOP], [NAM_MOK], [INN], [KPP], [OGRN], [OID_MO], [OKOPF], [OKFS], [ADDR_J], [ADDR_J_GAR], [OKTMO], [EMAIL], [PHONE], [FAX], [DATEBEG], [DATEEND]) VALUES (?, ?, ?, ?, ?, ?, ?, ?, ?, ?, ?, ?, ?, ?, ?, ?, ?), (?, ?,  ... 6357 characters truncated ... ?, ?, ?, ?, ?, ?, ?, ?, ?, ?, ?, ?, ?, ?, ?, ?), (?, ?, ?, ?, ?, ?, ?, ?, ?, ?, ?, ?, ?, ?, ?, ?, ?)\n"
     ]
    },
    {
     "name": "stderr",
     "output_type": "stream",
     "text": [
      "INFO:sqlalchemy.engine.Engine:INSERT INTO nsi.[ERMO] ([IDMO], [NAM_MOP], [NAM_MOK], [INN], [KPP], [OGRN], [OID_MO], [OKOPF], [OKFS], [ADDR_J], [ADDR_J_GAR], [OKTMO], [EMAIL], [PHONE], [FAX], [DATEBEG], [DATEEND]) VALUES (?, ?, ?, ?, ?, ?, ?, ?, ?, ?, ?, ?, ?, ?, ?, ?, ?), (?, ?,  ... 6357 characters truncated ... ?, ?, ?, ?, ?, ?, ?, ?, ?, ?, ?, ?, ?, ?, ?, ?), (?, ?, ?, ?, ?, ?, ?, ?, ?, ?, ?, ?, ?, ?, ?, ?, ?)\n"
     ]
    },
    {
     "name": "stdout",
     "output_type": "stream",
     "text": [
      "2025-09-03 16:03:27,835 INFO sqlalchemy.engine.Engine [insertmanyvalues 63/72 (unordered)] ('01110200000000000', 'ОБЩЕСТВО С ОГРАНИЧЕННОЙ ОТВЕТСТВЕННОСТЬЮ \"НАЦИОНАЛЬНЫЙ ДИАГНОСТИЧЕСКИЙ ЦЕНТР\"', 'ООО \"НДЦ\"', '5050089437', '505001001', '1115050000537', '1.2.643.5.1.13.13.12.2.50.29056', '12300', '16', '141108, обл Московская, г Щёлково, ул Фабричная, д 1', '8c6600b8-efc6-4e9e-89c4-7da8cbb7b345', '46000000000', 'sm1f@ndc-schelkovo.ru', '+79168390674', '', '17.07.2025', '31.12.2025', '01110400000000000', 'ОБЩЕСТВО С ОГРАНИЧЕННОЙ ОТВЕТСТВЕННОСТЬЮ \"СТОМАТОЛОГИЯ \"АРТ-ДЕНТ\"', 'ООО \"СТОМАТОЛОГИЯ \"АРТ-ДЕНТ\"', '3459080800', '345901001', '1203400006930', '1.2.643.5.1.13.13.12.2.34.48470', '12300', '16', '400007, обл Волгоградская, г Волгоград, ул им. Кузнецова, д 33', '113bf2c0-6b3d-4197-afa7-7e50fdbf8431', '18000000000', 'art-dent2021@yandex.ru', '+79876489424', '', '10.07.2025', '31.12.2025', '01111400000000000', 'ОБЩЕСТВО С ОГРАНИЧЕННОЙ ОТВЕТСТВЕННОСТЬЮ \"ЦЕНТР ЗДОРОВЬЯ\"', 'ООО \"ЦЕНТР ЗДОРОВЬЯ\"', '6316256313', '730001001', '1196313045565', '1.2.643.5.1.13.13.12.2.73.48593', '12300', '16', '432011, обл Ульяновская, г Ульяновск, ул Радищева, д 109/18А', '81437e08-d2a1-46d6-85da-62f2420f500b', '73000000000', 'centrehealthuln@yandex.ru', '+79041963256', '', '01.09.2025' ... 1991 parameters truncated ... 'ОБЩЕСТВО С ОГРАНИЧЕННОЙ ОТВЕТСТВЕННОСТЬЮ \"КЛИНИКА ЭКСПЕРТ ЧЕЛЯБИНСК\"', 'ООО \"КЛИНИКА ЭКСПЕРТ ЧЕЛЯБИНСК\"', '7451461769', '745101001', '1227400048424', '1.2.643.5.1.13.13.12.2.74.67024', '12300', '16', '454087, обл Челябинская, г Челябинск, ул Рылеева, д 10', 'fa5a1ca4-7fe4-475d-84bf-78737e9950e5', '75000000000', 'NUtebolatova@mrtexpert.ru', '+79642456440', '', '09.07.2025', '31.12.2025', '01152300000000000', 'ГОСУДАРСТВЕННОЕ АВТОНОМНОЕ УЧРЕЖДЕНИЕ ЗДРАВООХРАНЕНИЯ \"ГОРОДСКАЯ БОЛЬНИЦА\" ГОРОДА ОРСКА', 'ГАУЗ \"ГБ\" Г. ОРСКА', '5614088133', '561401001', '1225600012440', '1.2.643.5.1.13.13.12.2.56.74165', '75201', '13', '462401, обл Оренбургская, г Орск, ул Докучаева, д 2А', 'dd33fbab-fdfc-412a-a7fd-28128bd19fd6', '53000000000', 'SYNTEZ-REF@MAIL.RU', '+73537221585', '', '19.08.2025', '31.12.2025', '01152400000000000', 'ГОСУДАРСТВЕННОЕ БЮДЖЕТНОЕ УЧРЕЖДЕНИЕ ЗДРАВООХРАНЕНИЯ ПЕРМСКОГО КРАЯ \"КРАЕВОЕ БЮРО СУДЕБНО-МЕДИЦИНСКОЙ ЭКСПЕРТИЗЫ И ПАТОЛОГО-АНАТОМИЧЕСКИХ ИССЛЕДОВАНИЙ\"', 'ГБУЗ ПК \"КБСМЭПАИ\"', '5904404334', '590401001', '1225900024723', '1.2.643.5.1.13.13.12.2.59.72465', '75203', '13', '614002, край Пермский, г Пермь, ул Фонтанная, д 12', '18b30c0e-d7af-4653-a61f-2707b6436862', '57000000000', 'permpatolog@lpu.perm.ru', '+73422161515', '', '14.07.2025', '31.12.2025')\n"
     ]
    },
    {
     "name": "stderr",
     "output_type": "stream",
     "text": [
      "INFO:sqlalchemy.engine.Engine:[insertmanyvalues 63/72 (unordered)] ('01110200000000000', 'ОБЩЕСТВО С ОГРАНИЧЕННОЙ ОТВЕТСТВЕННОСТЬЮ \"НАЦИОНАЛЬНЫЙ ДИАГНОСТИЧЕСКИЙ ЦЕНТР\"', 'ООО \"НДЦ\"', '5050089437', '505001001', '1115050000537', '1.2.643.5.1.13.13.12.2.50.29056', '12300', '16', '141108, обл Московская, г Щёлково, ул Фабричная, д 1', '8c6600b8-efc6-4e9e-89c4-7da8cbb7b345', '46000000000', 'sm1f@ndc-schelkovo.ru', '+79168390674', '', '17.07.2025', '31.12.2025', '01110400000000000', 'ОБЩЕСТВО С ОГРАНИЧЕННОЙ ОТВЕТСТВЕННОСТЬЮ \"СТОМАТОЛОГИЯ \"АРТ-ДЕНТ\"', 'ООО \"СТОМАТОЛОГИЯ \"АРТ-ДЕНТ\"', '3459080800', '345901001', '1203400006930', '1.2.643.5.1.13.13.12.2.34.48470', '12300', '16', '400007, обл Волгоградская, г Волгоград, ул им. Кузнецова, д 33', '113bf2c0-6b3d-4197-afa7-7e50fdbf8431', '18000000000', 'art-dent2021@yandex.ru', '+79876489424', '', '10.07.2025', '31.12.2025', '01111400000000000', 'ОБЩЕСТВО С ОГРАНИЧЕННОЙ ОТВЕТСТВЕННОСТЬЮ \"ЦЕНТР ЗДОРОВЬЯ\"', 'ООО \"ЦЕНТР ЗДОРОВЬЯ\"', '6316256313', '730001001', '1196313045565', '1.2.643.5.1.13.13.12.2.73.48593', '12300', '16', '432011, обл Ульяновская, г Ульяновск, ул Радищева, д 109/18А', '81437e08-d2a1-46d6-85da-62f2420f500b', '73000000000', 'centrehealthuln@yandex.ru', '+79041963256', '', '01.09.2025' ... 1991 parameters truncated ... 'ОБЩЕСТВО С ОГРАНИЧЕННОЙ ОТВЕТСТВЕННОСТЬЮ \"КЛИНИКА ЭКСПЕРТ ЧЕЛЯБИНСК\"', 'ООО \"КЛИНИКА ЭКСПЕРТ ЧЕЛЯБИНСК\"', '7451461769', '745101001', '1227400048424', '1.2.643.5.1.13.13.12.2.74.67024', '12300', '16', '454087, обл Челябинская, г Челябинск, ул Рылеева, д 10', 'fa5a1ca4-7fe4-475d-84bf-78737e9950e5', '75000000000', 'NUtebolatova@mrtexpert.ru', '+79642456440', '', '09.07.2025', '31.12.2025', '01152300000000000', 'ГОСУДАРСТВЕННОЕ АВТОНОМНОЕ УЧРЕЖДЕНИЕ ЗДРАВООХРАНЕНИЯ \"ГОРОДСКАЯ БОЛЬНИЦА\" ГОРОДА ОРСКА', 'ГАУЗ \"ГБ\" Г. ОРСКА', '5614088133', '561401001', '1225600012440', '1.2.643.5.1.13.13.12.2.56.74165', '75201', '13', '462401, обл Оренбургская, г Орск, ул Докучаева, д 2А', 'dd33fbab-fdfc-412a-a7fd-28128bd19fd6', '53000000000', 'SYNTEZ-REF@MAIL.RU', '+73537221585', '', '19.08.2025', '31.12.2025', '01152400000000000', 'ГОСУДАРСТВЕННОЕ БЮДЖЕТНОЕ УЧРЕЖДЕНИЕ ЗДРАВООХРАНЕНИЯ ПЕРМСКОГО КРАЯ \"КРАЕВОЕ БЮРО СУДЕБНО-МЕДИЦИНСКОЙ ЭКСПЕРТИЗЫ И ПАТОЛОГО-АНАТОМИЧЕСКИХ ИССЛЕДОВАНИЙ\"', 'ГБУЗ ПК \"КБСМЭПАИ\"', '5904404334', '590401001', '1225900024723', '1.2.643.5.1.13.13.12.2.59.72465', '75203', '13', '614002, край Пермский, г Пермь, ул Фонтанная, д 12', '18b30c0e-d7af-4653-a61f-2707b6436862', '57000000000', 'permpatolog@lpu.perm.ru', '+73422161515', '', '14.07.2025', '31.12.2025')\n"
     ]
    },
    {
     "name": "stdout",
     "output_type": "stream",
     "text": [
      "2025-09-03 16:03:27,953 INFO sqlalchemy.engine.Engine INSERT INTO nsi.[ERMO] ([IDMO], [NAM_MOP], [NAM_MOK], [INN], [KPP], [OGRN], [OID_MO], [OKOPF], [OKFS], [ADDR_J], [ADDR_J_GAR], [OKTMO], [EMAIL], [PHONE], [FAX], [DATEBEG], [DATEEND]) VALUES (?, ?, ?, ?, ?, ?, ?, ?, ?, ?, ?, ?, ?, ?, ?, ?, ?), (?, ?,  ... 6357 characters truncated ... ?, ?, ?, ?, ?, ?, ?, ?, ?, ?, ?, ?, ?, ?, ?, ?), (?, ?, ?, ?, ?, ?, ?, ?, ?, ?, ?, ?, ?, ?, ?, ?, ?)\n"
     ]
    },
    {
     "name": "stderr",
     "output_type": "stream",
     "text": [
      "INFO:sqlalchemy.engine.Engine:INSERT INTO nsi.[ERMO] ([IDMO], [NAM_MOP], [NAM_MOK], [INN], [KPP], [OGRN], [OID_MO], [OKOPF], [OKFS], [ADDR_J], [ADDR_J_GAR], [OKTMO], [EMAIL], [PHONE], [FAX], [DATEBEG], [DATEEND]) VALUES (?, ?, ?, ?, ?, ?, ?, ?, ?, ?, ?, ?, ?, ?, ?, ?, ?), (?, ?,  ... 6357 characters truncated ... ?, ?, ?, ?, ?, ?, ?, ?, ?, ?, ?, ?, ?, ?, ?, ?), (?, ?, ?, ?, ?, ?, ?, ?, ?, ?, ?, ?, ?, ?, ?, ?, ?)\n"
     ]
    },
    {
     "name": "stdout",
     "output_type": "stream",
     "text": [
      "2025-09-03 16:03:27,955 INFO sqlalchemy.engine.Engine [insertmanyvalues 64/72 (unordered)] ('01152500000000000', 'ОБЩЕСТВО С ОГРАНИЧЕННОЙ ОТВЕТСТВЕННОСТЬЮ \"ЛЕГЕ АРТИС\"', 'ООО \"ЛЕГЕ АРТИС\"', '0608027158', '060801001', '1140608000609', '1.2.643.5.1.13.13.12.2.6.58610', '12300', '16', '386102, Респ Ингушетия, г Назрань, тер Центральный округ, ул Московская, д 42Б', 'de114e3c-b686-4385-9126-d535674d0378', '26000000000', 'akostoeva@mail.ru', '+79268424689', '', '11.07.2025', '31.12.2025', '01152600000000000', 'ОБЩЕСТВО С ОГРАНИЧЕННОЙ ОТВЕТСТВЕННОСТЬЮ \"ГУТА-КЛИНИК\"', 'ООО \"ГУТА-КЛИНИК\"', '7710912220', '770701001', '1127746347145', '1.2.643.5.1.13.13.12.2.77.13879', '12300', '16', ', г Москва, ул Фадеева, д 4А', '58c7d7dc-f6fc-4400-8a2e-28d91acaa617', '45000000000', 'guta-oms@gutaclinic.ru', '+74957717800', '', '15.07.2025', '31.12.2025', '01152700000000000', 'ОБЩЕСТВО С ОГРАНИЧЕННОЙ ОТВЕТСТВЕННОСТЬЮ \"КЛИНИКА ЭКСПЕРТ БСК\"', 'ООО \"КЛИНИКА ЭКСПЕРТ БСК\"', '3604083781', '360401001', '1223600017497', '1.2.643.5.1.13.13.12.2.36.64664', '12300', '16', '397160, обл Воронежская, р-н Борисоглебский, г Борисоглебск, ул Матросовская, д 57', '74483711-efcd-422a-a6a1-38ad9f978bcc', '20000000000', 'borisoglebsk@mrtexpert.ru', '+74735455503', '', '01.01.2025' ... 1991 parameters truncated ... 'ОБЩЕСТВО С ОГРАНИЧЕННОЙ ОТВЕТСТВЕННОСТЬЮ \"АЛМЕД\"', 'ООО \"АЛМЕД\"', '7751197385', '775101001', '1217700214324', '1.2.643.5.1.13.13.12.2.77.26565', '12300', '16', '108801, г Москва, п Сосенское, п Коммунарка, ул Липовый парк, д 11', '3348bef8-13c0-4dc0-8eff-cd27efccf3a7', '45000000000', 'almed134@mail.ru', '+79877500349', '', '01.01.2025', '31.12.2025', '01188700000000000', 'МЕДИЦИНСКОЕ ЧАСТНОЕ УЧРЕЖДЕНИЕ \"ИНСТИТУТ НАУЧНОЙ И КЛИНИЧЕСКОЙ ОФТАЛЬМОЛОГИИ\"', 'МЧУ \"Институт Научной и Клинической Офтальмологии\"', '0274970699', '027401001', '1220200003330', '1.2.643.5.1.13.13.12.2.2.88731', '75500', '16', '450076, Респ Башкортостан, г Уфа, ул Пушкина, д 82, кв 25', '53e6de07-416b-49b7-bd00-0ef8f933c606', '80000000000', 'aiguly777@gmail.com', '+79174241999', '', '01.01.2025', '31.12.2025', '01189000000000000', 'ОБЩЕСТВО С ОГРАНИЧЕННОЙ ОТВЕТСТВЕННОСТЬЮ \"ВАРИКОЗА НЕТ\"', 'ООО \"ВАРИКОЗА НЕТ\"', '5902044502', '590201001', '1175958030490', '1.2.643.5.1.13.13.12.2.59.26378', '12300', '16', '614068, край Пермский, г Пермь, ул Екатерининская, д 141', 'ddd83e96-5b8d-403a-9c08-6d95e909d5cf', '57000000000', '89123575484@mail.ru', '+79123575484', '', '01.01.2025', '31.12.2025')\n"
     ]
    },
    {
     "name": "stderr",
     "output_type": "stream",
     "text": [
      "INFO:sqlalchemy.engine.Engine:[insertmanyvalues 64/72 (unordered)] ('01152500000000000', 'ОБЩЕСТВО С ОГРАНИЧЕННОЙ ОТВЕТСТВЕННОСТЬЮ \"ЛЕГЕ АРТИС\"', 'ООО \"ЛЕГЕ АРТИС\"', '0608027158', '060801001', '1140608000609', '1.2.643.5.1.13.13.12.2.6.58610', '12300', '16', '386102, Респ Ингушетия, г Назрань, тер Центральный округ, ул Московская, д 42Б', 'de114e3c-b686-4385-9126-d535674d0378', '26000000000', 'akostoeva@mail.ru', '+79268424689', '', '11.07.2025', '31.12.2025', '01152600000000000', 'ОБЩЕСТВО С ОГРАНИЧЕННОЙ ОТВЕТСТВЕННОСТЬЮ \"ГУТА-КЛИНИК\"', 'ООО \"ГУТА-КЛИНИК\"', '7710912220', '770701001', '1127746347145', '1.2.643.5.1.13.13.12.2.77.13879', '12300', '16', ', г Москва, ул Фадеева, д 4А', '58c7d7dc-f6fc-4400-8a2e-28d91acaa617', '45000000000', 'guta-oms@gutaclinic.ru', '+74957717800', '', '15.07.2025', '31.12.2025', '01152700000000000', 'ОБЩЕСТВО С ОГРАНИЧЕННОЙ ОТВЕТСТВЕННОСТЬЮ \"КЛИНИКА ЭКСПЕРТ БСК\"', 'ООО \"КЛИНИКА ЭКСПЕРТ БСК\"', '3604083781', '360401001', '1223600017497', '1.2.643.5.1.13.13.12.2.36.64664', '12300', '16', '397160, обл Воронежская, р-н Борисоглебский, г Борисоглебск, ул Матросовская, д 57', '74483711-efcd-422a-a6a1-38ad9f978bcc', '20000000000', 'borisoglebsk@mrtexpert.ru', '+74735455503', '', '01.01.2025' ... 1991 parameters truncated ... 'ОБЩЕСТВО С ОГРАНИЧЕННОЙ ОТВЕТСТВЕННОСТЬЮ \"АЛМЕД\"', 'ООО \"АЛМЕД\"', '7751197385', '775101001', '1217700214324', '1.2.643.5.1.13.13.12.2.77.26565', '12300', '16', '108801, г Москва, п Сосенское, п Коммунарка, ул Липовый парк, д 11', '3348bef8-13c0-4dc0-8eff-cd27efccf3a7', '45000000000', 'almed134@mail.ru', '+79877500349', '', '01.01.2025', '31.12.2025', '01188700000000000', 'МЕДИЦИНСКОЕ ЧАСТНОЕ УЧРЕЖДЕНИЕ \"ИНСТИТУТ НАУЧНОЙ И КЛИНИЧЕСКОЙ ОФТАЛЬМОЛОГИИ\"', 'МЧУ \"Институт Научной и Клинической Офтальмологии\"', '0274970699', '027401001', '1220200003330', '1.2.643.5.1.13.13.12.2.2.88731', '75500', '16', '450076, Респ Башкортостан, г Уфа, ул Пушкина, д 82, кв 25', '53e6de07-416b-49b7-bd00-0ef8f933c606', '80000000000', 'aiguly777@gmail.com', '+79174241999', '', '01.01.2025', '31.12.2025', '01189000000000000', 'ОБЩЕСТВО С ОГРАНИЧЕННОЙ ОТВЕТСТВЕННОСТЬЮ \"ВАРИКОЗА НЕТ\"', 'ООО \"ВАРИКОЗА НЕТ\"', '5902044502', '590201001', '1175958030490', '1.2.643.5.1.13.13.12.2.59.26378', '12300', '16', '614068, край Пермский, г Пермь, ул Екатерининская, д 141', 'ddd83e96-5b8d-403a-9c08-6d95e909d5cf', '57000000000', '89123575484@mail.ru', '+79123575484', '', '01.01.2025', '31.12.2025')\n"
     ]
    },
    {
     "name": "stdout",
     "output_type": "stream",
     "text": [
      "2025-09-03 16:03:28,066 INFO sqlalchemy.engine.Engine INSERT INTO nsi.[ERMO] ([IDMO], [NAM_MOP], [NAM_MOK], [INN], [KPP], [OGRN], [OID_MO], [OKOPF], [OKFS], [ADDR_J], [ADDR_J_GAR], [OKTMO], [EMAIL], [PHONE], [FAX], [DATEBEG], [DATEEND]) VALUES (?, ?, ?, ?, ?, ?, ?, ?, ?, ?, ?, ?, ?, ?, ?, ?, ?), (?, ?,  ... 6357 characters truncated ... ?, ?, ?, ?, ?, ?, ?, ?, ?, ?, ?, ?, ?, ?, ?, ?), (?, ?, ?, ?, ?, ?, ?, ?, ?, ?, ?, ?, ?, ?, ?, ?, ?)\n"
     ]
    },
    {
     "name": "stderr",
     "output_type": "stream",
     "text": [
      "INFO:sqlalchemy.engine.Engine:INSERT INTO nsi.[ERMO] ([IDMO], [NAM_MOP], [NAM_MOK], [INN], [KPP], [OGRN], [OID_MO], [OKOPF], [OKFS], [ADDR_J], [ADDR_J_GAR], [OKTMO], [EMAIL], [PHONE], [FAX], [DATEBEG], [DATEEND]) VALUES (?, ?, ?, ?, ?, ?, ?, ?, ?, ?, ?, ?, ?, ?, ?, ?, ?), (?, ?,  ... 6357 characters truncated ... ?, ?, ?, ?, ?, ?, ?, ?, ?, ?, ?, ?, ?, ?, ?, ?), (?, ?, ?, ?, ?, ?, ?, ?, ?, ?, ?, ?, ?, ?, ?, ?, ?)\n"
     ]
    },
    {
     "name": "stdout",
     "output_type": "stream",
     "text": [
      "2025-09-03 16:03:28,069 INFO sqlalchemy.engine.Engine [insertmanyvalues 65/72 (unordered)] ('01189200000000000', 'АВТОНОМНАЯ НЕКОММЕРЧЕСКАЯ ОРГАНИЗАЦИЯ ЗДРАВООХРАНЕНИЯ И ДОПОЛНИТЕЛЬНОГО ОБРАЗОВАНИЯ НАУЧНО-ИССЛЕДОВАТЕЛЬСКИЙ ИНСТИТУТ КЛИНИЧЕСКОЙ МЕДИЦИНЫ Г. МОСКВА', 'НИИ Клинической Медицины Г. Москва', '9718200122', '771801001', '1227700506626', '1.2.643.5.1.13.13.12.1.77.81661', '71400', '16', '107392, г Москва, ул Просторная, д 3', '712a0c0d-9ee6-4f66-9134-9a64e8f47dcd', '45000000000', 'niicm@yandex.ru', '+73952260815', '', '17.07.2025', '31.12.2025', '01189300000000000', 'ОБЩЕСТВО С ОГРАНИЧЕННОЙ ОТВЕТСТВЕННОСТЬЮ \"УСПЕХ\"', 'ООО \"УСПЕХ\"', '8603165712', '860301001', '1098603004807', '1.2.643.5.1.13.13.12.2.86.21677', '12300', '16', '628617, АО Ханты-Мансийский Автономный округ - Югра, г Нижневартовск, ул Чапаева, д 53а, кв 1003', '02fc8a48-da3b-4be8-a13d-1f3ea197e974', '71800000000', 'AG239408@yandex.ru', '+73466490828', '', '06.08.2025', '31.12.2025', '01189400000000000', 'ОБЩЕСТВО С ОГРАНИЧЕННОЙ ОТВЕТСТВЕННОСТЬЮ \"МЕД КОМ\"', 'ООО \"МЕД КОМ\"', '5048024104', '504801001', '1105048001497', '1.2.643.5.1.13.13.12.2.50.15815', '12300', '16', '142300, обл Московская, г Чехов, ш Симферопольское, д 8', '53eb3032-dc9e-492d-a4b4-82c5cf8fc398', '46000000000', 'ooomedkom@mail.ru', '+74992880106', '', '01.01.2025' ... 1991 parameters truncated ... 'ФЕДЕРАЛЬНОЕ ГОСУДАРСТВЕННОЕ БЮДЖЕТНОЕ УЧРЕЖДЕНИЕ \"ГОСУДАРСТВЕННЫЙ НАУЧНО-ИССЛЕДОВАТЕЛЬСКИЙ ИСПЫТАТЕЛЬНЫЙ ИНСТИТУТ ВОЕННОЙ МЕДИЦИНЫ\" МИНИСТЕРСТВА ОБОРОНЫ РОССИЙСКОЙ ФЕДЕРАЦИИ', 'ФГБУ \"ГНИИИ ВМ\" МО РФ', '7806194153', '780601001', '1157847310048', '9.9.999.9.9.99.99.99.9.99.00001', '75103', '12', '195043, г Санкт-Петербург, ул Лесопарковая, д 4', 'cc3114c7-0f78-42aa-a031-b221b889bfd8', '40000000000', 'gniiivm_8@mil.ru', '+78125273957', '', '01.01.2025', '31.12.2025', '01224700000000000', 'ОБЩЕСТВО С ОГРАНИЧЕННОЙ ОТВЕТСТВЕННОСТЬЮ \"АЛЬТЕРА\"', 'ООО \"АЛЬТЕРА\"', '7206062733', '720601001', '1237200009144', '1.2.643.5.1.13.13.12.2.72.90202', '12300', '16', '626150, обл Тюменская, г Тобольск, мкр 4, д 85', 'aba60060-d703-4a1f-b970-ce623ebebe3a', '71000000000', 'MRTMIR-TOBOLSK@mail.ru', '+73456265757', '', '15.07.2025', '31.12.2025', '01224800000000000', 'ОБЩЕСТВО С ОГРАНИЧЕННОЙ ОТВЕТСТВЕННОСТЬЮ \"ИНТАЙМ\"', 'ООО \"ИНТАЙМ\"', '9704138001', '770401001', '1227700274526', '1.2.643.5.1.13.13.12.2.77.61858', '12300', '16', '119146, г Москва, пр-кт Комсомольский, д 32 к. 2', '7314c109-d9fc-46f4-9475-2e90c7216a8f', '45000000000', 'intime2022@mail.ru', '+79250455545', '', '01.01.2025', '31.12.2025')\n"
     ]
    },
    {
     "name": "stderr",
     "output_type": "stream",
     "text": [
      "INFO:sqlalchemy.engine.Engine:[insertmanyvalues 65/72 (unordered)] ('01189200000000000', 'АВТОНОМНАЯ НЕКОММЕРЧЕСКАЯ ОРГАНИЗАЦИЯ ЗДРАВООХРАНЕНИЯ И ДОПОЛНИТЕЛЬНОГО ОБРАЗОВАНИЯ НАУЧНО-ИССЛЕДОВАТЕЛЬСКИЙ ИНСТИТУТ КЛИНИЧЕСКОЙ МЕДИЦИНЫ Г. МОСКВА', 'НИИ Клинической Медицины Г. Москва', '9718200122', '771801001', '1227700506626', '1.2.643.5.1.13.13.12.1.77.81661', '71400', '16', '107392, г Москва, ул Просторная, д 3', '712a0c0d-9ee6-4f66-9134-9a64e8f47dcd', '45000000000', 'niicm@yandex.ru', '+73952260815', '', '17.07.2025', '31.12.2025', '01189300000000000', 'ОБЩЕСТВО С ОГРАНИЧЕННОЙ ОТВЕТСТВЕННОСТЬЮ \"УСПЕХ\"', 'ООО \"УСПЕХ\"', '8603165712', '860301001', '1098603004807', '1.2.643.5.1.13.13.12.2.86.21677', '12300', '16', '628617, АО Ханты-Мансийский Автономный округ - Югра, г Нижневартовск, ул Чапаева, д 53а, кв 1003', '02fc8a48-da3b-4be8-a13d-1f3ea197e974', '71800000000', 'AG239408@yandex.ru', '+73466490828', '', '06.08.2025', '31.12.2025', '01189400000000000', 'ОБЩЕСТВО С ОГРАНИЧЕННОЙ ОТВЕТСТВЕННОСТЬЮ \"МЕД КОМ\"', 'ООО \"МЕД КОМ\"', '5048024104', '504801001', '1105048001497', '1.2.643.5.1.13.13.12.2.50.15815', '12300', '16', '142300, обл Московская, г Чехов, ш Симферопольское, д 8', '53eb3032-dc9e-492d-a4b4-82c5cf8fc398', '46000000000', 'ooomedkom@mail.ru', '+74992880106', '', '01.01.2025' ... 1991 parameters truncated ... 'ФЕДЕРАЛЬНОЕ ГОСУДАРСТВЕННОЕ БЮДЖЕТНОЕ УЧРЕЖДЕНИЕ \"ГОСУДАРСТВЕННЫЙ НАУЧНО-ИССЛЕДОВАТЕЛЬСКИЙ ИСПЫТАТЕЛЬНЫЙ ИНСТИТУТ ВОЕННОЙ МЕДИЦИНЫ\" МИНИСТЕРСТВА ОБОРОНЫ РОССИЙСКОЙ ФЕДЕРАЦИИ', 'ФГБУ \"ГНИИИ ВМ\" МО РФ', '7806194153', '780601001', '1157847310048', '9.9.999.9.9.99.99.99.9.99.00001', '75103', '12', '195043, г Санкт-Петербург, ул Лесопарковая, д 4', 'cc3114c7-0f78-42aa-a031-b221b889bfd8', '40000000000', 'gniiivm_8@mil.ru', '+78125273957', '', '01.01.2025', '31.12.2025', '01224700000000000', 'ОБЩЕСТВО С ОГРАНИЧЕННОЙ ОТВЕТСТВЕННОСТЬЮ \"АЛЬТЕРА\"', 'ООО \"АЛЬТЕРА\"', '7206062733', '720601001', '1237200009144', '1.2.643.5.1.13.13.12.2.72.90202', '12300', '16', '626150, обл Тюменская, г Тобольск, мкр 4, д 85', 'aba60060-d703-4a1f-b970-ce623ebebe3a', '71000000000', 'MRTMIR-TOBOLSK@mail.ru', '+73456265757', '', '15.07.2025', '31.12.2025', '01224800000000000', 'ОБЩЕСТВО С ОГРАНИЧЕННОЙ ОТВЕТСТВЕННОСТЬЮ \"ИНТАЙМ\"', 'ООО \"ИНТАЙМ\"', '9704138001', '770401001', '1227700274526', '1.2.643.5.1.13.13.12.2.77.61858', '12300', '16', '119146, г Москва, пр-кт Комсомольский, д 32 к. 2', '7314c109-d9fc-46f4-9475-2e90c7216a8f', '45000000000', 'intime2022@mail.ru', '+79250455545', '', '01.01.2025', '31.12.2025')\n"
     ]
    },
    {
     "name": "stdout",
     "output_type": "stream",
     "text": [
      "2025-09-03 16:03:28,185 INFO sqlalchemy.engine.Engine INSERT INTO nsi.[ERMO] ([IDMO], [NAM_MOP], [NAM_MOK], [INN], [KPP], [OGRN], [OID_MO], [OKOPF], [OKFS], [ADDR_J], [ADDR_J_GAR], [OKTMO], [EMAIL], [PHONE], [FAX], [DATEBEG], [DATEEND]) VALUES (?, ?, ?, ?, ?, ?, ?, ?, ?, ?, ?, ?, ?, ?, ?, ?, ?), (?, ?,  ... 6357 characters truncated ... ?, ?, ?, ?, ?, ?, ?, ?, ?, ?, ?, ?, ?, ?, ?, ?), (?, ?, ?, ?, ?, ?, ?, ?, ?, ?, ?, ?, ?, ?, ?, ?, ?)\n"
     ]
    },
    {
     "name": "stderr",
     "output_type": "stream",
     "text": [
      "INFO:sqlalchemy.engine.Engine:INSERT INTO nsi.[ERMO] ([IDMO], [NAM_MOP], [NAM_MOK], [INN], [KPP], [OGRN], [OID_MO], [OKOPF], [OKFS], [ADDR_J], [ADDR_J_GAR], [OKTMO], [EMAIL], [PHONE], [FAX], [DATEBEG], [DATEEND]) VALUES (?, ?, ?, ?, ?, ?, ?, ?, ?, ?, ?, ?, ?, ?, ?, ?, ?), (?, ?,  ... 6357 characters truncated ... ?, ?, ?, ?, ?, ?, ?, ?, ?, ?, ?, ?, ?, ?, ?, ?), (?, ?, ?, ?, ?, ?, ?, ?, ?, ?, ?, ?, ?, ?, ?, ?, ?)\n"
     ]
    },
    {
     "name": "stdout",
     "output_type": "stream",
     "text": [
      "2025-09-03 16:03:28,188 INFO sqlalchemy.engine.Engine [insertmanyvalues 66/72 (unordered)] ('01225000000000000', 'ОБЩЕСТВО С ОГРАНИЧЕННОЙ ОТВЕТСТВЕННОСТЬЮ \"ГОРОДСКОЙ ЦЕНТР СПЕЦИАЛИЗИРОВАННОЙ МЕДИЦИНСКОЙ ПОМОЩИ\"', 'ООО \"ГЦСМП\"', '6165232460', '615501001', '1226100011103', '1.2.643.5.1.13.13.12.2.61.58915', '12300', '16', '346504, обл Ростовская, г Шахты, пр-кт Победа Революции, д 136а', '52be6499-59b4-4ab7-a07f-e10e26879f1b', '60000000000', 'gcsmp_econom@mail.ru', '+78636295125', '', '26.05.2025', '31.12.2025', '01225100000000000', 'АВТОНОМНАЯ НЕКОММЕРЧЕСКАЯ ОРГАНИЗАЦИЯ \"МЕДИЦИНСКИЙ ЦЕНТР \"БЕЛАЯ РОЗА - СИБИРЬ\"', 'АНО \"МЦ \"БЕЛАЯ РОЗА - СИБИРЬ\"', '8602310621', '860201001', '1238600004598', '1.2.643.5.1.13.13.12.2.86.86309', '71400', '16', '628426, АО Ханты-Мансийский Автономный округ - Югра, г Сургут, пр-кт Мира, д 53', '49e5b475-44fa-4dbc-9314-3c2ba10d7691', '71800000000', 'info@belroza86.ru', '+73462380238', '', '12.03.2025', '31.12.2025', '01225900000000000', 'ОБЩЕСТВО С ОГРАНИЧЕННОЙ ОТВЕТСТВЕННОСТЬЮ \"МЕДИЦИНСКИЙ ЦЕНТР \"ТЕРРИТОРИЯ ЗДОРОВЬЯ\"', 'ООО \"МЕДИЦИНСКИЙ ЦЕНТР \"ТЕРРИТОРИЯ ЗДОРОВЬЯ\"', '1500010489', '150001001', '1231500002733', '1.2.643.5.1.13.13.12.2.15.88697', '12300', '16', '362020, Респ Северная Осетия - Алания, г Владикавказ, б-р Цветочный, д 1А', '6abeb6d1-7c63-4bc8-bca8-ed09c0da3c36', '90000000000', 'mcr-rsoa@mail.ru', '+78672727137', '', '10.07.2025' ... 1991 parameters truncated ... 'ОБЩЕСТВО С ОГРАНИЧЕННОЙ ОТВЕТСТВЕННОСТЬЮ \"ДАЛЬМЕДСНАБ\"', 'ООО \"ДМС\"', '2801269409', '280101001', '1222800003139', '1.2.643.5.1.13.13.12.2.28.99102', '12300', '16', '675029, обл Амурская, г Благовещенск, ул Мухина, д 83/1', '9f763f77-f7e9-4445-ba50-120adbaa36dd', '10000000000', 'info@med-dms.ru', '+79241420525', '', '01.01.2025', '31.12.2025', '01253200000000000', 'ОБЩЕСТВО С ОГРАНИЧЕННОЙ ОТВЕТСТВЕННОСТЬЮ \"ГЕМОТЕСТ СИБИРЬ\"', 'ООО \"Гемотест Сибирь\"', '7702734446', '540501001', '1107746485241', '1.2.643.5.1.13.13.12.2.54.13452', '12300', '16', '630015, обл Новосибирская, г Новосибирск, ул Промышленная, д 4А', '122f7a2a-4979-4218-b7d2-a68cdbc10ac3', '50000000000', 'oms@gemotest.ru', '+74955133232', '', '11.02.2025', '31.12.2025', '01253300000000000', 'ФЕДЕРАЛЬНОЕ ГОСУДАРСТВЕННОЕ БЮДЖЕТНОЕ УЧРЕЖДЕНИЕ \"БОЛЬНИЦА С ПОЛИКЛИНИКОЙ\" УПРАВЛЕНИЯ ДЕЛАМИ ПРЕЗИДЕНТА РОССИЙСКОЙ ФЕДЕРАЦИИ', 'ФГБУ \"БОЛЬНИЦА С ПОЛИКЛИНИКОЙ\"', '7704271401', '770401001', '1057731047318', '1.2.643.5.1.13.13.12.2.77.122040', '75103', '12', '125009, г Москва, пер Романов, д. 2/6 стр. 2', 'af3556d2-a8a7-4796-a6d7-2dc25ce3fc99', '45000000000', 'ok6953963@yandex.ru', '+79031043098', '', '01.01.2025', '31.12.2025')\n"
     ]
    },
    {
     "name": "stderr",
     "output_type": "stream",
     "text": [
      "INFO:sqlalchemy.engine.Engine:[insertmanyvalues 66/72 (unordered)] ('01225000000000000', 'ОБЩЕСТВО С ОГРАНИЧЕННОЙ ОТВЕТСТВЕННОСТЬЮ \"ГОРОДСКОЙ ЦЕНТР СПЕЦИАЛИЗИРОВАННОЙ МЕДИЦИНСКОЙ ПОМОЩИ\"', 'ООО \"ГЦСМП\"', '6165232460', '615501001', '1226100011103', '1.2.643.5.1.13.13.12.2.61.58915', '12300', '16', '346504, обл Ростовская, г Шахты, пр-кт Победа Революции, д 136а', '52be6499-59b4-4ab7-a07f-e10e26879f1b', '60000000000', 'gcsmp_econom@mail.ru', '+78636295125', '', '26.05.2025', '31.12.2025', '01225100000000000', 'АВТОНОМНАЯ НЕКОММЕРЧЕСКАЯ ОРГАНИЗАЦИЯ \"МЕДИЦИНСКИЙ ЦЕНТР \"БЕЛАЯ РОЗА - СИБИРЬ\"', 'АНО \"МЦ \"БЕЛАЯ РОЗА - СИБИРЬ\"', '8602310621', '860201001', '1238600004598', '1.2.643.5.1.13.13.12.2.86.86309', '71400', '16', '628426, АО Ханты-Мансийский Автономный округ - Югра, г Сургут, пр-кт Мира, д 53', '49e5b475-44fa-4dbc-9314-3c2ba10d7691', '71800000000', 'info@belroza86.ru', '+73462380238', '', '12.03.2025', '31.12.2025', '01225900000000000', 'ОБЩЕСТВО С ОГРАНИЧЕННОЙ ОТВЕТСТВЕННОСТЬЮ \"МЕДИЦИНСКИЙ ЦЕНТР \"ТЕРРИТОРИЯ ЗДОРОВЬЯ\"', 'ООО \"МЕДИЦИНСКИЙ ЦЕНТР \"ТЕРРИТОРИЯ ЗДОРОВЬЯ\"', '1500010489', '150001001', '1231500002733', '1.2.643.5.1.13.13.12.2.15.88697', '12300', '16', '362020, Респ Северная Осетия - Алания, г Владикавказ, б-р Цветочный, д 1А', '6abeb6d1-7c63-4bc8-bca8-ed09c0da3c36', '90000000000', 'mcr-rsoa@mail.ru', '+78672727137', '', '10.07.2025' ... 1991 parameters truncated ... 'ОБЩЕСТВО С ОГРАНИЧЕННОЙ ОТВЕТСТВЕННОСТЬЮ \"ДАЛЬМЕДСНАБ\"', 'ООО \"ДМС\"', '2801269409', '280101001', '1222800003139', '1.2.643.5.1.13.13.12.2.28.99102', '12300', '16', '675029, обл Амурская, г Благовещенск, ул Мухина, д 83/1', '9f763f77-f7e9-4445-ba50-120adbaa36dd', '10000000000', 'info@med-dms.ru', '+79241420525', '', '01.01.2025', '31.12.2025', '01253200000000000', 'ОБЩЕСТВО С ОГРАНИЧЕННОЙ ОТВЕТСТВЕННОСТЬЮ \"ГЕМОТЕСТ СИБИРЬ\"', 'ООО \"Гемотест Сибирь\"', '7702734446', '540501001', '1107746485241', '1.2.643.5.1.13.13.12.2.54.13452', '12300', '16', '630015, обл Новосибирская, г Новосибирск, ул Промышленная, д 4А', '122f7a2a-4979-4218-b7d2-a68cdbc10ac3', '50000000000', 'oms@gemotest.ru', '+74955133232', '', '11.02.2025', '31.12.2025', '01253300000000000', 'ФЕДЕРАЛЬНОЕ ГОСУДАРСТВЕННОЕ БЮДЖЕТНОЕ УЧРЕЖДЕНИЕ \"БОЛЬНИЦА С ПОЛИКЛИНИКОЙ\" УПРАВЛЕНИЯ ДЕЛАМИ ПРЕЗИДЕНТА РОССИЙСКОЙ ФЕДЕРАЦИИ', 'ФГБУ \"БОЛЬНИЦА С ПОЛИКЛИНИКОЙ\"', '7704271401', '770401001', '1057731047318', '1.2.643.5.1.13.13.12.2.77.122040', '75103', '12', '125009, г Москва, пер Романов, д. 2/6 стр. 2', 'af3556d2-a8a7-4796-a6d7-2dc25ce3fc99', '45000000000', 'ok6953963@yandex.ru', '+79031043098', '', '01.01.2025', '31.12.2025')\n"
     ]
    },
    {
     "name": "stdout",
     "output_type": "stream",
     "text": [
      "2025-09-03 16:03:28,295 INFO sqlalchemy.engine.Engine INSERT INTO nsi.[ERMO] ([IDMO], [NAM_MOP], [NAM_MOK], [INN], [KPP], [OGRN], [OID_MO], [OKOPF], [OKFS], [ADDR_J], [ADDR_J_GAR], [OKTMO], [EMAIL], [PHONE], [FAX], [DATEBEG], [DATEEND]) VALUES (?, ?, ?, ?, ?, ?, ?, ?, ?, ?, ?, ?, ?, ?, ?, ?, ?), (?, ?,  ... 6357 characters truncated ... ?, ?, ?, ?, ?, ?, ?, ?, ?, ?, ?, ?, ?, ?, ?, ?), (?, ?, ?, ?, ?, ?, ?, ?, ?, ?, ?, ?, ?, ?, ?, ?, ?)\n"
     ]
    },
    {
     "name": "stderr",
     "output_type": "stream",
     "text": [
      "INFO:sqlalchemy.engine.Engine:INSERT INTO nsi.[ERMO] ([IDMO], [NAM_MOP], [NAM_MOK], [INN], [KPP], [OGRN], [OID_MO], [OKOPF], [OKFS], [ADDR_J], [ADDR_J_GAR], [OKTMO], [EMAIL], [PHONE], [FAX], [DATEBEG], [DATEEND]) VALUES (?, ?, ?, ?, ?, ?, ?, ?, ?, ?, ?, ?, ?, ?, ?, ?, ?), (?, ?,  ... 6357 characters truncated ... ?, ?, ?, ?, ?, ?, ?, ?, ?, ?, ?, ?, ?, ?, ?, ?), (?, ?, ?, ?, ?, ?, ?, ?, ?, ?, ?, ?, ?, ?, ?, ?, ?)\n"
     ]
    },
    {
     "name": "stdout",
     "output_type": "stream",
     "text": [
      "2025-09-03 16:03:28,298 INFO sqlalchemy.engine.Engine [insertmanyvalues 67/72 (unordered)] ('01253400000000000', 'ОБЩЕСТВО С ОГРАНИЧЕННОЙ ОТВЕТСТВЕННОСТЬЮ \"МРТ - ДИАГНОСТИКА\"', 'ООО \"МРТ - ДИАГНОСТИКА\"', '3620012971', '362001001', '1113620000108', '1.2.643.5.1.13.13.12.2.36.40746', '12300', '16', '396420, обл Воронежская, р-н Павловский, г Павловск, ул Кирова, д 70', 'e9560929-1bb9-4601-ab8d-459e87a28dcb', '20000000000', 'kalinafarm.pavlovsk@yandex.ru', '+79515509601', '', '27.05.2025', '31.12.2025', '01253500000000000', 'ОБЩЕСТВО С ОГРАНИЧЕННОЙ ОТВЕТСТВЕННОСТЬЮ \"ЦЕНТР ПЕРСПЕКТИВНОЙ МЕДИЦИНЫ\"', 'ООО \"ЦПМ\"', '6319240640', '631901001', '1196313053837', '1.2.643.5.1.13.13.12.2.63.30001', '12300', '16', '443095, обл Самарская, г Самара, ул Ташкентская, влд. 159 к. 2', '12facd95-1865-4906-9039-1a0e6d8a2a86', '36000000000', 'cpm-samara@yandex.ru', '+78462023308', '', '04.03.2025', '31.12.2025', '01253600000000000', 'ОБЩЕСТВО С ОГРАНИЧЕННОЙ ОТВЕТСТВЕННОСТЬЮ \"АЛЬТЕРМЕД\"', 'ООО \"АЛЬТЕРМЕД\"', '2460044427', '246001001', '1022401810925', '1.2.643.5.1.13.13.12.2.24.23940', '12300', '16', '660022, край Красноярский, г Красноярск, ул Аэровокзальная, д 19', '175f9860-4936-4c98-bf89-19a71c3d1148', '04000000000', 'MVSHAPRAN@IPM-KRSK.RU', '+73912193102', '', '25.07.2025' ... 1991 parameters truncated ... 'ОБЩЕСТВО С ОГРАНИЧЕННОЙ ОТВЕТСТВЕННОСТЬЮ \"ДЕНТА-ЛЮКС\"', 'ООО \"ДЕНТА-ЛЮКС\"', '4909056174', '490901001', '1024900955540', '1.2.643.5.1.13.13.12.2.49.35851', '12300', '16', '685017, обл Магаданская, г Магадан, проезд Вострецова, д 5', '364146da-7317-4671-bbfe-e86e210a4862', '44000000000', 'magdelux@mail.ru', '+74132600499', '', '01.01.2025', '31.12.2025', '01267900000000000', 'ОБЩЕСТВО С ОГРАНИЧЕННОЙ ОТВЕТСТВЕННОСТЬЮ \"КЛИНИКА\"', 'ООО \"Клиника\"', '3666268616', '366601001', '1233600018255', '1.2.643.5.1.13.13.12.2.86.109436', '12300', '16', '396945, обл Воронежская, р-н Семилукский, с Раздолье, ул Раздольная, д 34', 'c1ae9412-697c-4afe-ad18-2daae9afbaa3', '20000000000', 'bulyakova@mrigroup.ru', '+79603955566', '', '15.01.2025', '31.12.2025', '01268000000000000', 'ОБЩЕСТВО С ОГРАНИЧЕННОЙ ОТВЕТСТВЕННОСТЬЮ \"АКАДЕММЕДИКАЛ\"', 'ООО \"АКАДЕММЕДИКАЛ\"', '5408309740', '540801001', '1145476089637', '1.2.643.5.1.13.13.12.2.54.22399', '12300', '16', '630117, обл Новосибирская, г Новосибирск, ул Арбузова, зд. 1/1 к. 4', 'a2141c70-5e10-4b34-b456-e9cf614a9b38', '50000000000', 'mironov@hospital168.ru', '+79139258470', '', '01.01.2025', '31.12.2025')\n"
     ]
    },
    {
     "name": "stderr",
     "output_type": "stream",
     "text": [
      "INFO:sqlalchemy.engine.Engine:[insertmanyvalues 67/72 (unordered)] ('01253400000000000', 'ОБЩЕСТВО С ОГРАНИЧЕННОЙ ОТВЕТСТВЕННОСТЬЮ \"МРТ - ДИАГНОСТИКА\"', 'ООО \"МРТ - ДИАГНОСТИКА\"', '3620012971', '362001001', '1113620000108', '1.2.643.5.1.13.13.12.2.36.40746', '12300', '16', '396420, обл Воронежская, р-н Павловский, г Павловск, ул Кирова, д 70', 'e9560929-1bb9-4601-ab8d-459e87a28dcb', '20000000000', 'kalinafarm.pavlovsk@yandex.ru', '+79515509601', '', '27.05.2025', '31.12.2025', '01253500000000000', 'ОБЩЕСТВО С ОГРАНИЧЕННОЙ ОТВЕТСТВЕННОСТЬЮ \"ЦЕНТР ПЕРСПЕКТИВНОЙ МЕДИЦИНЫ\"', 'ООО \"ЦПМ\"', '6319240640', '631901001', '1196313053837', '1.2.643.5.1.13.13.12.2.63.30001', '12300', '16', '443095, обл Самарская, г Самара, ул Ташкентская, влд. 159 к. 2', '12facd95-1865-4906-9039-1a0e6d8a2a86', '36000000000', 'cpm-samara@yandex.ru', '+78462023308', '', '04.03.2025', '31.12.2025', '01253600000000000', 'ОБЩЕСТВО С ОГРАНИЧЕННОЙ ОТВЕТСТВЕННОСТЬЮ \"АЛЬТЕРМЕД\"', 'ООО \"АЛЬТЕРМЕД\"', '2460044427', '246001001', '1022401810925', '1.2.643.5.1.13.13.12.2.24.23940', '12300', '16', '660022, край Красноярский, г Красноярск, ул Аэровокзальная, д 19', '175f9860-4936-4c98-bf89-19a71c3d1148', '04000000000', 'MVSHAPRAN@IPM-KRSK.RU', '+73912193102', '', '25.07.2025' ... 1991 parameters truncated ... 'ОБЩЕСТВО С ОГРАНИЧЕННОЙ ОТВЕТСТВЕННОСТЬЮ \"ДЕНТА-ЛЮКС\"', 'ООО \"ДЕНТА-ЛЮКС\"', '4909056174', '490901001', '1024900955540', '1.2.643.5.1.13.13.12.2.49.35851', '12300', '16', '685017, обл Магаданская, г Магадан, проезд Вострецова, д 5', '364146da-7317-4671-bbfe-e86e210a4862', '44000000000', 'magdelux@mail.ru', '+74132600499', '', '01.01.2025', '31.12.2025', '01267900000000000', 'ОБЩЕСТВО С ОГРАНИЧЕННОЙ ОТВЕТСТВЕННОСТЬЮ \"КЛИНИКА\"', 'ООО \"Клиника\"', '3666268616', '366601001', '1233600018255', '1.2.643.5.1.13.13.12.2.86.109436', '12300', '16', '396945, обл Воронежская, р-н Семилукский, с Раздолье, ул Раздольная, д 34', 'c1ae9412-697c-4afe-ad18-2daae9afbaa3', '20000000000', 'bulyakova@mrigroup.ru', '+79603955566', '', '15.01.2025', '31.12.2025', '01268000000000000', 'ОБЩЕСТВО С ОГРАНИЧЕННОЙ ОТВЕТСТВЕННОСТЬЮ \"АКАДЕММЕДИКАЛ\"', 'ООО \"АКАДЕММЕДИКАЛ\"', '5408309740', '540801001', '1145476089637', '1.2.643.5.1.13.13.12.2.54.22399', '12300', '16', '630117, обл Новосибирская, г Новосибирск, ул Арбузова, зд. 1/1 к. 4', 'a2141c70-5e10-4b34-b456-e9cf614a9b38', '50000000000', 'mironov@hospital168.ru', '+79139258470', '', '01.01.2025', '31.12.2025')\n"
     ]
    },
    {
     "name": "stdout",
     "output_type": "stream",
     "text": [
      "2025-09-03 16:03:28,408 INFO sqlalchemy.engine.Engine INSERT INTO nsi.[ERMO] ([IDMO], [NAM_MOP], [NAM_MOK], [INN], [KPP], [OGRN], [OID_MO], [OKOPF], [OKFS], [ADDR_J], [ADDR_J_GAR], [OKTMO], [EMAIL], [PHONE], [FAX], [DATEBEG], [DATEEND]) VALUES (?, ?, ?, ?, ?, ?, ?, ?, ?, ?, ?, ?, ?, ?, ?, ?, ?), (?, ?,  ... 6357 characters truncated ... ?, ?, ?, ?, ?, ?, ?, ?, ?, ?, ?, ?, ?, ?, ?, ?), (?, ?, ?, ?, ?, ?, ?, ?, ?, ?, ?, ?, ?, ?, ?, ?, ?)\n"
     ]
    },
    {
     "name": "stderr",
     "output_type": "stream",
     "text": [
      "INFO:sqlalchemy.engine.Engine:INSERT INTO nsi.[ERMO] ([IDMO], [NAM_MOP], [NAM_MOK], [INN], [KPP], [OGRN], [OID_MO], [OKOPF], [OKFS], [ADDR_J], [ADDR_J_GAR], [OKTMO], [EMAIL], [PHONE], [FAX], [DATEBEG], [DATEEND]) VALUES (?, ?, ?, ?, ?, ?, ?, ?, ?, ?, ?, ?, ?, ?, ?, ?, ?), (?, ?,  ... 6357 characters truncated ... ?, ?, ?, ?, ?, ?, ?, ?, ?, ?, ?, ?, ?, ?, ?, ?), (?, ?, ?, ?, ?, ?, ?, ?, ?, ?, ?, ?, ?, ?, ?, ?, ?)\n"
     ]
    },
    {
     "name": "stdout",
     "output_type": "stream",
     "text": [
      "2025-09-03 16:03:28,411 INFO sqlalchemy.engine.Engine [insertmanyvalues 68/72 (unordered)] ('01268100000000000', 'ОБЩЕСТВО С ОГРАНИЧЕННОЙ ОТВЕТСТВЕННОСТЬЮ \"СЕМЕЙНАЯ ПОЛИКЛИНИКА\"', 'ООО \"СЕМЕЙНАЯ ПОЛИКЛИНИКА\"', '4909094772', '490901001', '1074910001726', '1.2.643.5.1.13.13.12.2.49.35846', '12300', '16', '685017, обл Магаданская, г Магадан, проезд Вострецова, д 5', '364146da-7317-4671-bbfe-e86e210a4862', '44000000000', 'magdelux@mail.ru', '+74132600499', '', '04.03.2025', '31.12.2025', '01268200000000000', 'ОБЩЕСТВО С ОГРАНИЧЕННОЙ ОТВЕТСТВЕННОСТЬЮ \"КЛИНИКА ДОКТОРА ЧОЛОЯНА\"', 'ООО \"КДЧ\"', '5610251195', '561001001', '1235600010403', '1.2.643.5.1.13.13.12.2.56.108006', '12300', '16', '460041, обл Оренбургская, г Оренбург, мкр. Поселок Ростоши, ул Зорянка, д 26', 'e9d22d14-bf11-4420-b8e6-1952d4b7ada1', '53000000000', 'clinic.dr.ch@ya.ru', '+79033602020', '', '01.01.2025', '31.12.2025', '01268300000000000', 'АВТОНОМНОЕ УЧРЕЖДЕНИЕ ТЮМЕНСКОЙ ОБЛАСТИ \"РЕГИОНАЛЬНЫЙ ЦЕНТР СОПРОВОЖДЕНИЯ И КОМПЛЕКСНОЙ РЕАБИЛИТАЦИИ ИНВАЛИДОВ\"', 'АУ ТО \"РЕГИОНАЛЬНЫЙ ЦЕНТР СОПРОВОЖДЕНИЯ И КОМПЛЕКСНОЙ РЕАБИЛИТАЦИИ ИНВАЛИДОВ \"', '7204120041', '720301001', '1087232000580', '1.2.643.5.1.13.13.12.2.72.26630', '75201', '13', '625001, обл Тюменская, г Тюмень, ул Уральская, д. 60 к. 1', '14178c27-1441-4d25-bbcf-f50c660b2728', '71000000000', 'orci72@yandex.ru', '+73452517811', '', '14.07.2025' ... 1991 parameters truncated ... 'ГОСУДАРСТВЕННОЕ БЮДЖЕТНОЕ УЧРЕЖДЕНИЕ ЗДРАВООХРАНЕНИЯ \"ЛУГАНСКАЯ ДЕТСКАЯ СТОМАТОЛОГИЧЕСКАЯ ПОЛИКЛИНИКА\" ЛУГАНСКОЙ НАРОДНОЙ РЕСПУБЛИКИ', 'ГБУЗ \"ЛДСП\" ЛНР', '9403021539', '940301001', '1229400087290', '1.2.643.5.1.13.13.12.2.94.76384', '75203', '13', ', респ. Луганская Народная, г Луганск, кв-л Солнечный, д 33', '390297ee-112d-40be-85cf-81cedb6392b8', '43000000000', 'LUGDETSTOM@MAIL.RU', '+78572413030', '', '31.03.2025', '31.12.2025', '01283900000000000', 'ГОСУДАРСТВЕННОЕ БЮДЖЕТНОЕ УЧРЕЖДЕНИЕ ЗДРАВООХРАНЕНИЯ \"СТАХАНОВСКИЙ РОДИЛЬНЫЙ ДОМ\" ЛУГАНСКОЙ НАРОДНОЙ РЕСПУБЛИКИ', 'ГБУЗ \"СРД\" ЛНР', '9407006676', '940701001', '1229400094890', '1.2.643.5.1.13.13.12.2.94.79710', '75203', '13', '294016, респ. Луганская Народная, г Стаханов, ул. Соревнования, д 4', '078ee84a-7df3-4a3d-a4e7-710bbc11d708', '43000000000', 'RODDOM.STAKHANOV@MAIL.RU', '+78574456394', '', '31.03.2025', '31.12.2025', '01284000000000000', 'ГОСУДАРСТВЕННОЕ БЮДЖЕТНОЕ УЧРЕЖДЕНИЕ ЗДРАВООХРАНЕНИЯ \"СТАХАНОВСКАЯ ГОРОДСКАЯ СТОМАТОЛОГИЧЕСКАЯ ПОЛИКЛИНИКА\" ЛУГАНСКОЙ НАРОДНОЙ РЕСПУБЛИКИ', 'ГБУЗ \"СТАХАНОВСКАЯ ГСП\" ЛНР', '9407002047', '940701001', '1229400025711', '1.2.643.5.1.13.13.12.2.94.79736', '75203', '13', '294005, респ. Луганская Народная, г Стаханов, ул Ленина, д 18', '6a89904c-c9ca-4558-a782-d729b5a242d7', '43000000000', 'STOMATOLOG-ST.2021@YANDEX.RU', '+78574441746', '', '31.03.2025', '31.12.2025')\n"
     ]
    },
    {
     "name": "stderr",
     "output_type": "stream",
     "text": [
      "INFO:sqlalchemy.engine.Engine:[insertmanyvalues 68/72 (unordered)] ('01268100000000000', 'ОБЩЕСТВО С ОГРАНИЧЕННОЙ ОТВЕТСТВЕННОСТЬЮ \"СЕМЕЙНАЯ ПОЛИКЛИНИКА\"', 'ООО \"СЕМЕЙНАЯ ПОЛИКЛИНИКА\"', '4909094772', '490901001', '1074910001726', '1.2.643.5.1.13.13.12.2.49.35846', '12300', '16', '685017, обл Магаданская, г Магадан, проезд Вострецова, д 5', '364146da-7317-4671-bbfe-e86e210a4862', '44000000000', 'magdelux@mail.ru', '+74132600499', '', '04.03.2025', '31.12.2025', '01268200000000000', 'ОБЩЕСТВО С ОГРАНИЧЕННОЙ ОТВЕТСТВЕННОСТЬЮ \"КЛИНИКА ДОКТОРА ЧОЛОЯНА\"', 'ООО \"КДЧ\"', '5610251195', '561001001', '1235600010403', '1.2.643.5.1.13.13.12.2.56.108006', '12300', '16', '460041, обл Оренбургская, г Оренбург, мкр. Поселок Ростоши, ул Зорянка, д 26', 'e9d22d14-bf11-4420-b8e6-1952d4b7ada1', '53000000000', 'clinic.dr.ch@ya.ru', '+79033602020', '', '01.01.2025', '31.12.2025', '01268300000000000', 'АВТОНОМНОЕ УЧРЕЖДЕНИЕ ТЮМЕНСКОЙ ОБЛАСТИ \"РЕГИОНАЛЬНЫЙ ЦЕНТР СОПРОВОЖДЕНИЯ И КОМПЛЕКСНОЙ РЕАБИЛИТАЦИИ ИНВАЛИДОВ\"', 'АУ ТО \"РЕГИОНАЛЬНЫЙ ЦЕНТР СОПРОВОЖДЕНИЯ И КОМПЛЕКСНОЙ РЕАБИЛИТАЦИИ ИНВАЛИДОВ \"', '7204120041', '720301001', '1087232000580', '1.2.643.5.1.13.13.12.2.72.26630', '75201', '13', '625001, обл Тюменская, г Тюмень, ул Уральская, д. 60 к. 1', '14178c27-1441-4d25-bbcf-f50c660b2728', '71000000000', 'orci72@yandex.ru', '+73452517811', '', '14.07.2025' ... 1991 parameters truncated ... 'ГОСУДАРСТВЕННОЕ БЮДЖЕТНОЕ УЧРЕЖДЕНИЕ ЗДРАВООХРАНЕНИЯ \"ЛУГАНСКАЯ ДЕТСКАЯ СТОМАТОЛОГИЧЕСКАЯ ПОЛИКЛИНИКА\" ЛУГАНСКОЙ НАРОДНОЙ РЕСПУБЛИКИ', 'ГБУЗ \"ЛДСП\" ЛНР', '9403021539', '940301001', '1229400087290', '1.2.643.5.1.13.13.12.2.94.76384', '75203', '13', ', респ. Луганская Народная, г Луганск, кв-л Солнечный, д 33', '390297ee-112d-40be-85cf-81cedb6392b8', '43000000000', 'LUGDETSTOM@MAIL.RU', '+78572413030', '', '31.03.2025', '31.12.2025', '01283900000000000', 'ГОСУДАРСТВЕННОЕ БЮДЖЕТНОЕ УЧРЕЖДЕНИЕ ЗДРАВООХРАНЕНИЯ \"СТАХАНОВСКИЙ РОДИЛЬНЫЙ ДОМ\" ЛУГАНСКОЙ НАРОДНОЙ РЕСПУБЛИКИ', 'ГБУЗ \"СРД\" ЛНР', '9407006676', '940701001', '1229400094890', '1.2.643.5.1.13.13.12.2.94.79710', '75203', '13', '294016, респ. Луганская Народная, г Стаханов, ул. Соревнования, д 4', '078ee84a-7df3-4a3d-a4e7-710bbc11d708', '43000000000', 'RODDOM.STAKHANOV@MAIL.RU', '+78574456394', '', '31.03.2025', '31.12.2025', '01284000000000000', 'ГОСУДАРСТВЕННОЕ БЮДЖЕТНОЕ УЧРЕЖДЕНИЕ ЗДРАВООХРАНЕНИЯ \"СТАХАНОВСКАЯ ГОРОДСКАЯ СТОМАТОЛОГИЧЕСКАЯ ПОЛИКЛИНИКА\" ЛУГАНСКОЙ НАРОДНОЙ РЕСПУБЛИКИ', 'ГБУЗ \"СТАХАНОВСКАЯ ГСП\" ЛНР', '9407002047', '940701001', '1229400025711', '1.2.643.5.1.13.13.12.2.94.79736', '75203', '13', '294005, респ. Луганская Народная, г Стаханов, ул Ленина, д 18', '6a89904c-c9ca-4558-a782-d729b5a242d7', '43000000000', 'STOMATOLOG-ST.2021@YANDEX.RU', '+78574441746', '', '31.03.2025', '31.12.2025')\n"
     ]
    },
    {
     "name": "stdout",
     "output_type": "stream",
     "text": [
      "2025-09-03 16:03:28,528 INFO sqlalchemy.engine.Engine INSERT INTO nsi.[ERMO] ([IDMO], [NAM_MOP], [NAM_MOK], [INN], [KPP], [OGRN], [OID_MO], [OKOPF], [OKFS], [ADDR_J], [ADDR_J_GAR], [OKTMO], [EMAIL], [PHONE], [FAX], [DATEBEG], [DATEEND]) VALUES (?, ?, ?, ?, ?, ?, ?, ?, ?, ?, ?, ?, ?, ?, ?, ?, ?), (?, ?,  ... 6357 characters truncated ... ?, ?, ?, ?, ?, ?, ?, ?, ?, ?, ?, ?, ?, ?, ?, ?), (?, ?, ?, ?, ?, ?, ?, ?, ?, ?, ?, ?, ?, ?, ?, ?, ?)\n"
     ]
    },
    {
     "name": "stderr",
     "output_type": "stream",
     "text": [
      "INFO:sqlalchemy.engine.Engine:INSERT INTO nsi.[ERMO] ([IDMO], [NAM_MOP], [NAM_MOK], [INN], [KPP], [OGRN], [OID_MO], [OKOPF], [OKFS], [ADDR_J], [ADDR_J_GAR], [OKTMO], [EMAIL], [PHONE], [FAX], [DATEBEG], [DATEEND]) VALUES (?, ?, ?, ?, ?, ?, ?, ?, ?, ?, ?, ?, ?, ?, ?, ?, ?), (?, ?,  ... 6357 characters truncated ... ?, ?, ?, ?, ?, ?, ?, ?, ?, ?, ?, ?, ?, ?, ?, ?), (?, ?, ?, ?, ?, ?, ?, ?, ?, ?, ?, ?, ?, ?, ?, ?, ?)\n"
     ]
    },
    {
     "name": "stdout",
     "output_type": "stream",
     "text": [
      "2025-09-03 16:03:28,530 INFO sqlalchemy.engine.Engine [insertmanyvalues 69/72 (unordered)] ('01284100000000000', 'ГОСУДАРСТВЕННОЕ БЮДЖЕТНОЕ УЧРЕЖДЕНИЕ ЗДРАВООХРАНЕНИЯ \"КРАСНОДОНСКИЙ РОДИЛЬНЫЙ ДОМ\" ЛУГАНСКОЙ НАРОДНОЙ РЕСПУБЛИКИ', 'ГБУЗ \"КРД\" ЛНР', '9408005026', '940801001', '1229400057534', '1.2.643.5.1.13.13.12.2.94.80852', '75203', '13', '294407, респ. Луганская Народная, г Краснодон, ул Комсомольская, д 2', 'c271733d-c54b-44d0-b05c-37b7e8b777f7', '43000000000', 'roddom.krasnodon@mail.ru', '+79591681747', '', '31.03.2025', '31.12.2025', '01284200000000000', 'ГОСУДАРСТВЕННОЕ БЮДЖЕТНОЕ УЧРЕЖДЕНИЕ ЗДРАВООХРАНЕНИЯ \"КРАСНОДОНСКАЯ ГОРОДСКАЯ СТОМАТОЛОГИЧЕСКАЯ ПОЛИКЛИНИКА\" ЛУГАНСКОЙ НАРОДНОЙ РЕСПУБЛИКИ', 'ГБУЗ \"КГСП\" ЛНР', '9408002480', '940801001', '1229400024985', '1.2.643.5.1.13.13.12.2.94.80853', '75203', '13', '294407, респ. Луганская Народная, г Краснодон, ул. Красных Шахтеров, д 8', '323d1080-6792-4b31-93a1-46653f6a01b3', '43000000000', 'STOMATPOLICLIN@MAIL.RU', '+79591331188', '', '31.03.2025', '31.12.2025', '01284300000000000', 'ГОСУДАРСТВЕННОЕ БЮДЖЕТНОЕ УЧРЕЖДЕНИЕ ЗДРАВООХРАНЕНИЯ \"РОВЕНЬКОВСКАЯ ЦЕНТРАЛЬНАЯ ГОРОДСКАЯ МНОГОПРОФИЛЬНАЯ БОЛЬНИЦА\" ЛУГАНСКОЙ НАРОДНОЙ РЕСПУБЛИКИ', 'ГБУЗ \"РЦГМБ\" ЛНР', '9409002490', '940901001', '1229400025128', '1.2.643.5.1.13.13.12.2.94.80863', '75203', '13', '294701, респ. Луганская Народная, г. Ровеньки, ул Капанелли, д 21', '66c9a3e5-7fda-48d6-9577-c498831bdbe0', '43000000000', 'rovcgmb@gmail.com', '+78573350130', '', '31.03.2025' ... 1991 parameters truncated ... 'ГОСУДАРСТВЕННОЕ БЮДЖЕТНОЕ УЧРЕЖДЕНИЕ ДОНЕЦКОЙ НАРОДНОЙ РЕСПУБЛИКИ \"ГОРОДСКОЙ ЭНДОКРИНОЛОГИЧЕСКИЙ ЦЕНТР Г.МАКЕЕВКИ\"', 'ГБУ ДНР \"ГЭЦ Г.МАКЕЕВКИ\"', '9311013062', '931101001', '1229300080756', '1.2.643.5.1.13.13.12.2.93.79968', '75203', '13', '286120, респ. Донецкая Народная, г. Макеевка, ул Ферганская, д 12', '37f70770-2d2d-4d27-b1ba-b983685206c7', '21000000000', 'endokr.dispanser@mail.ru', '+79495503664', '', '23.05.2025', '31.12.2025', '01299000000000000', 'ГОСУДАРСТВЕННОЕ БЮДЖЕТНОЕ УЧРЕЖДЕНИЕ ДОНЕЦКОЙ НАРОДНОЙ РЕСПУБЛИКИ \"ГОРОДСКАЯ ПОЛИКЛИНИКА МЕДИЦИНСКОЙ РЕАБИЛИТАЦИИ Г.МАКЕЕВКИ\"', 'ГБУ ДНР \"ГП МР Г.МАКЕЕВКИ\"', '9311010449', '931101001', '1229300055841', '1.2.643.5.1.13.13.12.2.93.112560', '75203', '13', '286155, респ. Донецкая Народная, г. Макеевка, пер Горняцкий, д 1', 'd721e33c-c89b-40c0-80e3-d125f244c9b8', '21000000000', 'crbsmt_i_dcp@mail.ru', '+79493234288', '', '23.05.2025', '31.12.2025', '01299100000000000', 'ОБЩЕСТВО С ОГРАНИЧЕННОЙ ОТВЕТСТВЕННОСТЬЮ \"МЕДИЦИНСКАЯ КЛИНИКА \"КИСЛОРОД\"', 'ООО МК \"КИСЛОРОД\"', '3702250085', '370201001', '1203700018081', '1.2.643.5.1.13.13.12.2.37.22531', '12300', '16', '153023, обл Ивановская, г Иваново, ул 9-я Вишневая, д 12', 'd500138d-9ba6-4723-a9ae-4dfd2878ea27', '24000000000', 'kin@kislorod-doctor.ru', '+74933129415', '', '14.07.2025', '31.12.2025')\n"
     ]
    },
    {
     "name": "stderr",
     "output_type": "stream",
     "text": [
      "INFO:sqlalchemy.engine.Engine:[insertmanyvalues 69/72 (unordered)] ('01284100000000000', 'ГОСУДАРСТВЕННОЕ БЮДЖЕТНОЕ УЧРЕЖДЕНИЕ ЗДРАВООХРАНЕНИЯ \"КРАСНОДОНСКИЙ РОДИЛЬНЫЙ ДОМ\" ЛУГАНСКОЙ НАРОДНОЙ РЕСПУБЛИКИ', 'ГБУЗ \"КРД\" ЛНР', '9408005026', '940801001', '1229400057534', '1.2.643.5.1.13.13.12.2.94.80852', '75203', '13', '294407, респ. Луганская Народная, г Краснодон, ул Комсомольская, д 2', 'c271733d-c54b-44d0-b05c-37b7e8b777f7', '43000000000', 'roddom.krasnodon@mail.ru', '+79591681747', '', '31.03.2025', '31.12.2025', '01284200000000000', 'ГОСУДАРСТВЕННОЕ БЮДЖЕТНОЕ УЧРЕЖДЕНИЕ ЗДРАВООХРАНЕНИЯ \"КРАСНОДОНСКАЯ ГОРОДСКАЯ СТОМАТОЛОГИЧЕСКАЯ ПОЛИКЛИНИКА\" ЛУГАНСКОЙ НАРОДНОЙ РЕСПУБЛИКИ', 'ГБУЗ \"КГСП\" ЛНР', '9408002480', '940801001', '1229400024985', '1.2.643.5.1.13.13.12.2.94.80853', '75203', '13', '294407, респ. Луганская Народная, г Краснодон, ул. Красных Шахтеров, д 8', '323d1080-6792-4b31-93a1-46653f6a01b3', '43000000000', 'STOMATPOLICLIN@MAIL.RU', '+79591331188', '', '31.03.2025', '31.12.2025', '01284300000000000', 'ГОСУДАРСТВЕННОЕ БЮДЖЕТНОЕ УЧРЕЖДЕНИЕ ЗДРАВООХРАНЕНИЯ \"РОВЕНЬКОВСКАЯ ЦЕНТРАЛЬНАЯ ГОРОДСКАЯ МНОГОПРОФИЛЬНАЯ БОЛЬНИЦА\" ЛУГАНСКОЙ НАРОДНОЙ РЕСПУБЛИКИ', 'ГБУЗ \"РЦГМБ\" ЛНР', '9409002490', '940901001', '1229400025128', '1.2.643.5.1.13.13.12.2.94.80863', '75203', '13', '294701, респ. Луганская Народная, г. Ровеньки, ул Капанелли, д 21', '66c9a3e5-7fda-48d6-9577-c498831bdbe0', '43000000000', 'rovcgmb@gmail.com', '+78573350130', '', '31.03.2025' ... 1991 parameters truncated ... 'ГОСУДАРСТВЕННОЕ БЮДЖЕТНОЕ УЧРЕЖДЕНИЕ ДОНЕЦКОЙ НАРОДНОЙ РЕСПУБЛИКИ \"ГОРОДСКОЙ ЭНДОКРИНОЛОГИЧЕСКИЙ ЦЕНТР Г.МАКЕЕВКИ\"', 'ГБУ ДНР \"ГЭЦ Г.МАКЕЕВКИ\"', '9311013062', '931101001', '1229300080756', '1.2.643.5.1.13.13.12.2.93.79968', '75203', '13', '286120, респ. Донецкая Народная, г. Макеевка, ул Ферганская, д 12', '37f70770-2d2d-4d27-b1ba-b983685206c7', '21000000000', 'endokr.dispanser@mail.ru', '+79495503664', '', '23.05.2025', '31.12.2025', '01299000000000000', 'ГОСУДАРСТВЕННОЕ БЮДЖЕТНОЕ УЧРЕЖДЕНИЕ ДОНЕЦКОЙ НАРОДНОЙ РЕСПУБЛИКИ \"ГОРОДСКАЯ ПОЛИКЛИНИКА МЕДИЦИНСКОЙ РЕАБИЛИТАЦИИ Г.МАКЕЕВКИ\"', 'ГБУ ДНР \"ГП МР Г.МАКЕЕВКИ\"', '9311010449', '931101001', '1229300055841', '1.2.643.5.1.13.13.12.2.93.112560', '75203', '13', '286155, респ. Донецкая Народная, г. Макеевка, пер Горняцкий, д 1', 'd721e33c-c89b-40c0-80e3-d125f244c9b8', '21000000000', 'crbsmt_i_dcp@mail.ru', '+79493234288', '', '23.05.2025', '31.12.2025', '01299100000000000', 'ОБЩЕСТВО С ОГРАНИЧЕННОЙ ОТВЕТСТВЕННОСТЬЮ \"МЕДИЦИНСКАЯ КЛИНИКА \"КИСЛОРОД\"', 'ООО МК \"КИСЛОРОД\"', '3702250085', '370201001', '1203700018081', '1.2.643.5.1.13.13.12.2.37.22531', '12300', '16', '153023, обл Ивановская, г Иваново, ул 9-я Вишневая, д 12', 'd500138d-9ba6-4723-a9ae-4dfd2878ea27', '24000000000', 'kin@kislorod-doctor.ru', '+74933129415', '', '14.07.2025', '31.12.2025')\n"
     ]
    },
    {
     "name": "stdout",
     "output_type": "stream",
     "text": [
      "2025-09-03 16:03:28,638 INFO sqlalchemy.engine.Engine INSERT INTO nsi.[ERMO] ([IDMO], [NAM_MOP], [NAM_MOK], [INN], [KPP], [OGRN], [OID_MO], [OKOPF], [OKFS], [ADDR_J], [ADDR_J_GAR], [OKTMO], [EMAIL], [PHONE], [FAX], [DATEBEG], [DATEEND]) VALUES (?, ?, ?, ?, ?, ?, ?, ?, ?, ?, ?, ?, ?, ?, ?, ?, ?), (?, ?,  ... 6357 characters truncated ... ?, ?, ?, ?, ?, ?, ?, ?, ?, ?, ?, ?, ?, ?, ?, ?), (?, ?, ?, ?, ?, ?, ?, ?, ?, ?, ?, ?, ?, ?, ?, ?, ?)\n"
     ]
    },
    {
     "name": "stderr",
     "output_type": "stream",
     "text": [
      "INFO:sqlalchemy.engine.Engine:INSERT INTO nsi.[ERMO] ([IDMO], [NAM_MOP], [NAM_MOK], [INN], [KPP], [OGRN], [OID_MO], [OKOPF], [OKFS], [ADDR_J], [ADDR_J_GAR], [OKTMO], [EMAIL], [PHONE], [FAX], [DATEBEG], [DATEEND]) VALUES (?, ?, ?, ?, ?, ?, ?, ?, ?, ?, ?, ?, ?, ?, ?, ?, ?), (?, ?,  ... 6357 characters truncated ... ?, ?, ?, ?, ?, ?, ?, ?, ?, ?, ?, ?, ?, ?, ?, ?), (?, ?, ?, ?, ?, ?, ?, ?, ?, ?, ?, ?, ?, ?, ?, ?, ?)\n"
     ]
    },
    {
     "name": "stdout",
     "output_type": "stream",
     "text": [
      "2025-09-03 16:03:28,639 INFO sqlalchemy.engine.Engine [insertmanyvalues 70/72 (unordered)] ('01299200000000000', 'ГОСУДАРСТВЕННОЕ БЮДЖЕТНОЕ УЧРЕЖДЕНИЕ ДОНЕЦКОЙ НАРОДНОЙ РЕСПУБЛИКИ \"ГОРОДСКАЯ КЛИНИЧЕСКАЯ СТОМАТОЛОГИЧЕСКАЯ ПОЛИКЛИННИКА № 6 Г. ДОНЕЦКА\"', 'ГБУ ДНР \"ГКСП № 6 Г. ДОНЕЦКА\"', '9308019593', '930801001', '1229300147570', '1.2.643.5.1.13.13.12.2.93.79860', '75203', '13', '283110, респ. Донецкая Народная, г Донецк, ул Щетинина, д 35', '951c0b61-d145-4d82-b45c-f4ccb7c01aeb', '21000000000', 'gksp6@mail.ru', '+79493204782', '', '23.05.2025', '31.12.2025', '01299500000000000', 'ГОСУДАРСТВЕННОЕ БЮДЖЕТНОЕ УЧРЕЖДЕНИЕ ДОНЕЦКОЙ НАРОДНОЙ РЕСПУБЛИКИ \"ЦЕНТР ПЕРВИЧНОЙ МЕДИКО-САНИТАРНОЙ ПОМОЩИ № 4 Г.ДОНЕЦКА\"', 'ГБУ ДНР \"ЦПМСП № 4 Г.ДОНЕЦКА\"', '9309012382', '930901001', '1229300080041', '1.2.643.5.1.13.13.12.2.93.79960', '75203', '13', '283004, респ. Донецкая Народная, г Донецк, пр-кт Киевский, д 5', 'd594719e-9953-4f50-ac2e-82580e67b48b', '21000000000', 'cpmsp4don@mail.ru', '+79493438548', '', '23.05.2025', '31.12.2025', '01299600000000000', 'ГОСУДАРСТВЕННОЕ БЮДЖЕТНОЕ УЧРЕЖДЕНИЕ ДОНЕЦКОЙ НАРОДНОЙ РЕСПУБЛИКИ \"ЦЕНТР ПЕРВИЧНОЙ МЕДИКО-САНИТАРНОЙ ПОМОЩИ Г.ШАХТЕРСКА\"', 'ГБУ ДНР \"ЦПМСП Г.ШАХТЕРСКА\"', '9304011547', '930401001', '1229300085376', '1.2.643.5.1.13.13.12.2.93.80065', '75203', '13', ', респ. Донецкая Народная, р-н Шахтерский, г. Шахтерск, ул Кирова, д 37', '90b3f308-c3c6-493b-abb8-e987fbeba7b7', '21000000000', 'cpmsp_shachtersk@mail.ru', '+79493046090', '', '23.05.2025' ... 1991 parameters truncated ... 'ГОСУДАРСТВЕННОЕ БЮДЖЕТНОЕ УЧРЕЖДЕНИЕ ДОНЕЦКОЙ НАРОДНОЙ РЕСПУБЛИКИ \"ГОРОДСКАЯ КЛИНИЧЕСКАЯ БОЛЬНИЦА № 1 Г.МАКЕЕВКИ\"', 'ГБУ ДНР \"ГКБ № 1 Г.МАКЕЕВКИ\"', '9311019201', '931101001', '1229300144358', '1.2.643.5.1.13.13.12.2.93.79871', '75203', '13', '286132, респ. Донецкая Народная, г. Макеевка, ул Больничная, д 1', '4920d3bd-b2e6-45b7-959b-ec4c96b4b773', '21000000000', 'krb.makeevka@zdravdnr.ru', '+78563220363', '', '23.05.2025', '31.12.2025', '01312800000000000', 'ГОСУДАРСТВЕННОЕ БЮДЖЕТНОЕ УЧРЕЖДЕНИЕ ДОНЕЦКОЙ НАРОДНОЙ РЕСПУБЛИКИ \"ДЕТСКАЯ ГОРОДСКАЯ СТОМАТОЛОГИЧЕСКАЯ ПОЛИКЛИНИКА Г.ДОНЕЦКА\"', 'ГБУ ДНР \"ДГСП Г.ДОНЕЦКА\"', '9308012527', '930801001', '1229300082406', '1.2.643.5.1.13.13.12.2.93.80000', '75203', '13', ', респ. Донецкая Народная, г Донецк, пр-кт Ленинский, д 7А', '5944d744-f95a-45b1-96ce-42db5e0167d4', '21000000000', 'dstomatologya@yandex.ru', '+78563141255', '', '23.05.2025', '31.12.2025', '01312900000000000', 'ГОСУДАРСТВЕННОЕ БЮДЖЕТНОЕ УЧРЕЖДЕНИЕ ДОНЕЦКОЙ НАРОДНОЙ РЕСПУБЛИКИ \"ГОРОДСКАЯ ДЕТСКАЯ КЛИНИЧЕСКАЯ БОЛЬНИЦА № 5 Г. ДОНЕЦКА\"', 'ГБУ ДНР \"ГДКБ № 5 Г. ДОНЕЦКА\"', '9308012975', '930801001', '1229300084705', '1.2.643.5.1.13.13.12.2.93.80115', '75203', '13', ', респ. Донецкая Народная, г Донецк, ул Октября, д 21А', 'c2b4ed6f-c233-454b-bc82-3cb9438b0956', '21000000000', 'shef.gkdb5@mail.ru', '+78563383100', '', '23.05.2025', '31.12.2025')\n"
     ]
    },
    {
     "name": "stderr",
     "output_type": "stream",
     "text": [
      "INFO:sqlalchemy.engine.Engine:[insertmanyvalues 70/72 (unordered)] ('01299200000000000', 'ГОСУДАРСТВЕННОЕ БЮДЖЕТНОЕ УЧРЕЖДЕНИЕ ДОНЕЦКОЙ НАРОДНОЙ РЕСПУБЛИКИ \"ГОРОДСКАЯ КЛИНИЧЕСКАЯ СТОМАТОЛОГИЧЕСКАЯ ПОЛИКЛИННИКА № 6 Г. ДОНЕЦКА\"', 'ГБУ ДНР \"ГКСП № 6 Г. ДОНЕЦКА\"', '9308019593', '930801001', '1229300147570', '1.2.643.5.1.13.13.12.2.93.79860', '75203', '13', '283110, респ. Донецкая Народная, г Донецк, ул Щетинина, д 35', '951c0b61-d145-4d82-b45c-f4ccb7c01aeb', '21000000000', 'gksp6@mail.ru', '+79493204782', '', '23.05.2025', '31.12.2025', '01299500000000000', 'ГОСУДАРСТВЕННОЕ БЮДЖЕТНОЕ УЧРЕЖДЕНИЕ ДОНЕЦКОЙ НАРОДНОЙ РЕСПУБЛИКИ \"ЦЕНТР ПЕРВИЧНОЙ МЕДИКО-САНИТАРНОЙ ПОМОЩИ № 4 Г.ДОНЕЦКА\"', 'ГБУ ДНР \"ЦПМСП № 4 Г.ДОНЕЦКА\"', '9309012382', '930901001', '1229300080041', '1.2.643.5.1.13.13.12.2.93.79960', '75203', '13', '283004, респ. Донецкая Народная, г Донецк, пр-кт Киевский, д 5', 'd594719e-9953-4f50-ac2e-82580e67b48b', '21000000000', 'cpmsp4don@mail.ru', '+79493438548', '', '23.05.2025', '31.12.2025', '01299600000000000', 'ГОСУДАРСТВЕННОЕ БЮДЖЕТНОЕ УЧРЕЖДЕНИЕ ДОНЕЦКОЙ НАРОДНОЙ РЕСПУБЛИКИ \"ЦЕНТР ПЕРВИЧНОЙ МЕДИКО-САНИТАРНОЙ ПОМОЩИ Г.ШАХТЕРСКА\"', 'ГБУ ДНР \"ЦПМСП Г.ШАХТЕРСКА\"', '9304011547', '930401001', '1229300085376', '1.2.643.5.1.13.13.12.2.93.80065', '75203', '13', ', респ. Донецкая Народная, р-н Шахтерский, г. Шахтерск, ул Кирова, д 37', '90b3f308-c3c6-493b-abb8-e987fbeba7b7', '21000000000', 'cpmsp_shachtersk@mail.ru', '+79493046090', '', '23.05.2025' ... 1991 parameters truncated ... 'ГОСУДАРСТВЕННОЕ БЮДЖЕТНОЕ УЧРЕЖДЕНИЕ ДОНЕЦКОЙ НАРОДНОЙ РЕСПУБЛИКИ \"ГОРОДСКАЯ КЛИНИЧЕСКАЯ БОЛЬНИЦА № 1 Г.МАКЕЕВКИ\"', 'ГБУ ДНР \"ГКБ № 1 Г.МАКЕЕВКИ\"', '9311019201', '931101001', '1229300144358', '1.2.643.5.1.13.13.12.2.93.79871', '75203', '13', '286132, респ. Донецкая Народная, г. Макеевка, ул Больничная, д 1', '4920d3bd-b2e6-45b7-959b-ec4c96b4b773', '21000000000', 'krb.makeevka@zdravdnr.ru', '+78563220363', '', '23.05.2025', '31.12.2025', '01312800000000000', 'ГОСУДАРСТВЕННОЕ БЮДЖЕТНОЕ УЧРЕЖДЕНИЕ ДОНЕЦКОЙ НАРОДНОЙ РЕСПУБЛИКИ \"ДЕТСКАЯ ГОРОДСКАЯ СТОМАТОЛОГИЧЕСКАЯ ПОЛИКЛИНИКА Г.ДОНЕЦКА\"', 'ГБУ ДНР \"ДГСП Г.ДОНЕЦКА\"', '9308012527', '930801001', '1229300082406', '1.2.643.5.1.13.13.12.2.93.80000', '75203', '13', ', респ. Донецкая Народная, г Донецк, пр-кт Ленинский, д 7А', '5944d744-f95a-45b1-96ce-42db5e0167d4', '21000000000', 'dstomatologya@yandex.ru', '+78563141255', '', '23.05.2025', '31.12.2025', '01312900000000000', 'ГОСУДАРСТВЕННОЕ БЮДЖЕТНОЕ УЧРЕЖДЕНИЕ ДОНЕЦКОЙ НАРОДНОЙ РЕСПУБЛИКИ \"ГОРОДСКАЯ ДЕТСКАЯ КЛИНИЧЕСКАЯ БОЛЬНИЦА № 5 Г. ДОНЕЦКА\"', 'ГБУ ДНР \"ГДКБ № 5 Г. ДОНЕЦКА\"', '9308012975', '930801001', '1229300084705', '1.2.643.5.1.13.13.12.2.93.80115', '75203', '13', ', респ. Донецкая Народная, г Донецк, ул Октября, д 21А', 'c2b4ed6f-c233-454b-bc82-3cb9438b0956', '21000000000', 'shef.gkdb5@mail.ru', '+78563383100', '', '23.05.2025', '31.12.2025')\n"
     ]
    },
    {
     "name": "stdout",
     "output_type": "stream",
     "text": [
      "2025-09-03 16:03:28,737 INFO sqlalchemy.engine.Engine INSERT INTO nsi.[ERMO] ([IDMO], [NAM_MOP], [NAM_MOK], [INN], [KPP], [OGRN], [OID_MO], [OKOPF], [OKFS], [ADDR_J], [ADDR_J_GAR], [OKTMO], [EMAIL], [PHONE], [FAX], [DATEBEG], [DATEEND]) VALUES (?, ?, ?, ?, ?, ?, ?, ?, ?, ?, ?, ?, ?, ?, ?, ?, ?), (?, ?,  ... 6357 characters truncated ... ?, ?, ?, ?, ?, ?, ?, ?, ?, ?, ?, ?, ?, ?, ?, ?), (?, ?, ?, ?, ?, ?, ?, ?, ?, ?, ?, ?, ?, ?, ?, ?, ?)\n"
     ]
    },
    {
     "name": "stderr",
     "output_type": "stream",
     "text": [
      "INFO:sqlalchemy.engine.Engine:INSERT INTO nsi.[ERMO] ([IDMO], [NAM_MOP], [NAM_MOK], [INN], [KPP], [OGRN], [OID_MO], [OKOPF], [OKFS], [ADDR_J], [ADDR_J_GAR], [OKTMO], [EMAIL], [PHONE], [FAX], [DATEBEG], [DATEEND]) VALUES (?, ?, ?, ?, ?, ?, ?, ?, ?, ?, ?, ?, ?, ?, ?, ?, ?), (?, ?,  ... 6357 characters truncated ... ?, ?, ?, ?, ?, ?, ?, ?, ?, ?, ?, ?, ?, ?, ?, ?), (?, ?, ?, ?, ?, ?, ?, ?, ?, ?, ?, ?, ?, ?, ?, ?, ?)\n"
     ]
    },
    {
     "name": "stdout",
     "output_type": "stream",
     "text": [
      "2025-09-03 16:03:28,740 INFO sqlalchemy.engine.Engine [insertmanyvalues 71/72 (unordered)] ('01313000000000000', 'ГОСУДАРСТВЕННОЕ БЮДЖЕТНОЕ УЧРЕЖДЕНИЕ ДОНЕЦКОЙ НАРОДНОЙ РЕСПУБЛИКИ \"ДЕТСКАЯ ГОРОДСКАЯ КЛИНИЧЕСКАЯ СТОМАТОЛОГИЧЕСКАЯ ПОЛИКЛИНИКА Г.МАКЕЕВКИ\"', 'ГБУ ДНР \"ДГКСП Г.МАКЕЕВКИ\"', '9311013440', '931101001', '1229300084287', '1.2.643.5.1.13.13.12.2.93.113105', '75203', '13', '286157, респ. Донецкая Народная, г. Макеевка, мкр Солнечный, д 22', '38f3d031-581b-453d-9306-ec23036597c3', '21000000000', 'detskaya_stomatologiya2016@mail.ru', '+79493717412', '', '23.05.2025', '31.12.2025', '01313100000000000', 'ГОСУДАРСТВЕННОЕ БЮДЖЕТНОЕ УЧРЕЖДЕНИЕ ДОНЕЦКОЙ НАРОДНОЙ РЕСПУБЛИКИ \"ДЕТСКАЯ ГОРОДСКАЯ КЛИНИЧЕСКАЯ БОЛЬНИЦА Г.МАКЕЕВКИ\"', 'ГБУ ДНР \"ДГКБ Г.МАКЕЕВКИ\"', '9311008545', '931101001', '1229300050946', '1.2.643.5.1.13.13.12.2.93.80276', '75203', '13', '286123, респ. Донецкая Народная, г. Макеевка, пер Менделеева, д 33', 'faf1f2ab-e230-4786-8d95-69261729ec38', '21000000000', 'dkcmakeevka@mail.ru', '+79493149546', '', '23.05.2025', '31.12.2025', '01313200000000000', 'ГОСУДАРСТВЕННОЕ БЮДЖЕТНОЕ УЧРЕЖДЕНИЕ ДОНЕЦКОЙ НАРОДНОЙ РЕСПУБЛИКИ \"ГОРОДСКАЯ КЛИНИЧЕСКАЯ БОЛЬНИЦА № 5 Г.ДОНЕЦКА\"', 'ГБУ ДНР \"ГКБ № 5 Г.ДОНЕЦКА\"', '9308019113', '930301001', '1229300143434', '1.2.643.5.1.13.13.12.2.93.78876', '75203', '13', ', респ. Донецкая Народная, г Донецк, ул Октября, д 21А', 'c2b4ed6f-c233-454b-bc82-3cb9438b0956', '21000000000', 'gb5don@yandex.ru', '+79495887171', '', '23.05.2025' ... 1991 parameters truncated ... 'ОБЩЕСТВО С ОГРАНИЧЕННОЙ ОТВЕТСТВЕННОСТЬЮ \"ПОЛИКЛИНИКА МЕДОСМОТРОВ \"ИНСПЕКТРУМ\"', 'ООО \"ПОЛИКЛИНИКА МЕДОСМОТРОВ \"ИНСПЕКТРУМ\"', '0277124782', '027701001', '1120280040011', '1.2.643.5.1.13.13.12.2.2.17945', '12300', '16', '450112, Респ Башкортостан, г Уфа, ул Калинина, д 17', '3ecb1577-dadb-4b4c-9688-6036200f33c4', '80000000000', 'inspectrum_buh@mail.ru', '+73472008206', '', '01.01.2025', '31.12.2025', '01401900000000000', 'ОБЩЕСТВО С ОГРАНИЧЕННОЙ ОТВЕТСТВЕННОСТЬЮ \"ЭКОНОМ КЛИНИКА\"', 'ООО \"ЭКОНОМ КЛИНИКА\"', '7716948617', '771601001', '1207700272548', '1.2.643.5.1.13.13.12.2.77.23888', '12300', '16', ', г Москва, ул Белореченская, д 43', '3ba22802-cf8b-4044-be39-b6d7c1a4a3a2', '45000000000', 'togrul.is@yandex.ru', '+79936930202', '', '16.07.2025', '31.12.2025', '01403000000000000', 'ОБЩЕСТВО С ОГРАНИЧЕННОЙ ОТВЕТСТВЕННОСТЬЮ \"ЗДОРОВЬЕ\"', 'ООО \"ЗДОРОВЬЕ\"', '6116009116', '611601001', '1066116001270', '1.2.643.5.1.13.13.12.2.61.23278', '12300', '16', '347250, обл Ростовская, р-н Константиновский, г Константиновск, ул Карташова, д 36', 'd1ebd825-4b18-4cc3-99da-d288df571c1d', '60000000000', 'zdorovie_med@mail.ru', '+78639322124', '', '01.01.2025', '31.12.2025')\n"
     ]
    },
    {
     "name": "stderr",
     "output_type": "stream",
     "text": [
      "INFO:sqlalchemy.engine.Engine:[insertmanyvalues 71/72 (unordered)] ('01313000000000000', 'ГОСУДАРСТВЕННОЕ БЮДЖЕТНОЕ УЧРЕЖДЕНИЕ ДОНЕЦКОЙ НАРОДНОЙ РЕСПУБЛИКИ \"ДЕТСКАЯ ГОРОДСКАЯ КЛИНИЧЕСКАЯ СТОМАТОЛОГИЧЕСКАЯ ПОЛИКЛИНИКА Г.МАКЕЕВКИ\"', 'ГБУ ДНР \"ДГКСП Г.МАКЕЕВКИ\"', '9311013440', '931101001', '1229300084287', '1.2.643.5.1.13.13.12.2.93.113105', '75203', '13', '286157, респ. Донецкая Народная, г. Макеевка, мкр Солнечный, д 22', '38f3d031-581b-453d-9306-ec23036597c3', '21000000000', 'detskaya_stomatologiya2016@mail.ru', '+79493717412', '', '23.05.2025', '31.12.2025', '01313100000000000', 'ГОСУДАРСТВЕННОЕ БЮДЖЕТНОЕ УЧРЕЖДЕНИЕ ДОНЕЦКОЙ НАРОДНОЙ РЕСПУБЛИКИ \"ДЕТСКАЯ ГОРОДСКАЯ КЛИНИЧЕСКАЯ БОЛЬНИЦА Г.МАКЕЕВКИ\"', 'ГБУ ДНР \"ДГКБ Г.МАКЕЕВКИ\"', '9311008545', '931101001', '1229300050946', '1.2.643.5.1.13.13.12.2.93.80276', '75203', '13', '286123, респ. Донецкая Народная, г. Макеевка, пер Менделеева, д 33', 'faf1f2ab-e230-4786-8d95-69261729ec38', '21000000000', 'dkcmakeevka@mail.ru', '+79493149546', '', '23.05.2025', '31.12.2025', '01313200000000000', 'ГОСУДАРСТВЕННОЕ БЮДЖЕТНОЕ УЧРЕЖДЕНИЕ ДОНЕЦКОЙ НАРОДНОЙ РЕСПУБЛИКИ \"ГОРОДСКАЯ КЛИНИЧЕСКАЯ БОЛЬНИЦА № 5 Г.ДОНЕЦКА\"', 'ГБУ ДНР \"ГКБ № 5 Г.ДОНЕЦКА\"', '9308019113', '930301001', '1229300143434', '1.2.643.5.1.13.13.12.2.93.78876', '75203', '13', ', респ. Донецкая Народная, г Донецк, ул Октября, д 21А', 'c2b4ed6f-c233-454b-bc82-3cb9438b0956', '21000000000', 'gb5don@yandex.ru', '+79495887171', '', '23.05.2025' ... 1991 parameters truncated ... 'ОБЩЕСТВО С ОГРАНИЧЕННОЙ ОТВЕТСТВЕННОСТЬЮ \"ПОЛИКЛИНИКА МЕДОСМОТРОВ \"ИНСПЕКТРУМ\"', 'ООО \"ПОЛИКЛИНИКА МЕДОСМОТРОВ \"ИНСПЕКТРУМ\"', '0277124782', '027701001', '1120280040011', '1.2.643.5.1.13.13.12.2.2.17945', '12300', '16', '450112, Респ Башкортостан, г Уфа, ул Калинина, д 17', '3ecb1577-dadb-4b4c-9688-6036200f33c4', '80000000000', 'inspectrum_buh@mail.ru', '+73472008206', '', '01.01.2025', '31.12.2025', '01401900000000000', 'ОБЩЕСТВО С ОГРАНИЧЕННОЙ ОТВЕТСТВЕННОСТЬЮ \"ЭКОНОМ КЛИНИКА\"', 'ООО \"ЭКОНОМ КЛИНИКА\"', '7716948617', '771601001', '1207700272548', '1.2.643.5.1.13.13.12.2.77.23888', '12300', '16', ', г Москва, ул Белореченская, д 43', '3ba22802-cf8b-4044-be39-b6d7c1a4a3a2', '45000000000', 'togrul.is@yandex.ru', '+79936930202', '', '16.07.2025', '31.12.2025', '01403000000000000', 'ОБЩЕСТВО С ОГРАНИЧЕННОЙ ОТВЕТСТВЕННОСТЬЮ \"ЗДОРОВЬЕ\"', 'ООО \"ЗДОРОВЬЕ\"', '6116009116', '611601001', '1066116001270', '1.2.643.5.1.13.13.12.2.61.23278', '12300', '16', '347250, обл Ростовская, р-н Константиновский, г Константиновск, ул Карташова, д 36', 'd1ebd825-4b18-4cc3-99da-d288df571c1d', '60000000000', 'zdorovie_med@mail.ru', '+78639322124', '', '01.01.2025', '31.12.2025')\n"
     ]
    },
    {
     "name": "stdout",
     "output_type": "stream",
     "text": [
      "2025-09-03 16:03:28,846 INFO sqlalchemy.engine.Engine INSERT INTO nsi.[ERMO] ([IDMO], [NAM_MOP], [NAM_MOK], [INN], [KPP], [OGRN], [OID_MO], [OKOPF], [OKFS], [ADDR_J], [ADDR_J_GAR], [OKTMO], [EMAIL], [PHONE], [FAX], [DATEBEG], [DATEEND]) VALUES (?, ?, ?, ?, ?, ?, ?, ?, ?, ?, ?, ?, ?, ?, ?, ?, ?), (?, ?,  ... 898 characters truncated ... ?, ?, ?, ?, ?, ?, ?, ?, ?, ?, ?, ?, ?, ?, ?, ?), (?, ?, ?, ?, ?, ?, ?, ?, ?, ?, ?, ?, ?, ?, ?, ?, ?)\n"
     ]
    },
    {
     "name": "stderr",
     "output_type": "stream",
     "text": [
      "INFO:sqlalchemy.engine.Engine:INSERT INTO nsi.[ERMO] ([IDMO], [NAM_MOP], [NAM_MOK], [INN], [KPP], [OGRN], [OID_MO], [OKOPF], [OKFS], [ADDR_J], [ADDR_J_GAR], [OKTMO], [EMAIL], [PHONE], [FAX], [DATEBEG], [DATEEND]) VALUES (?, ?, ?, ?, ?, ?, ?, ?, ?, ?, ?, ?, ?, ?, ?, ?, ?), (?, ?,  ... 898 characters truncated ... ?, ?, ?, ?, ?, ?, ?, ?, ?, ?, ?, ?, ?, ?, ?, ?), (?, ?, ?, ?, ?, ?, ?, ?, ?, ?, ?, ?, ?, ?, ?, ?, ?)\n"
     ]
    },
    {
     "name": "stdout",
     "output_type": "stream",
     "text": [
      "2025-09-03 16:03:28,848 INFO sqlalchemy.engine.Engine [insertmanyvalues 72/72 (unordered)] ('01404000000000000', 'ОБЩЕСТВО С ОГРАНИЧЕННОЙ ОТВЕТСТВЕННОСТЬЮ \"ВЕРСАЛЬ\"', 'ООО \"ВЕРСАЛЬ\"', '5009092799', '500901001', '1145009002082', '1.2.643.5.1.13.13.12.2.50.22903', '12300', '16', '142005, обл Московская, г Домодедово, мкр. Центральный, ул Пирогова, д. 9 к. 5', '6c34c754-243f-4c36-882e-24efad00a97c', '46000000000', 'info@mrt-dmd.ru', '+79251350303', '', '08.04.2025', '31.12.2025', '01404900000000000', 'ОБЩЕСТВО С ОГРАНИЧЕННОЙ ОТВЕТСТВЕННОСТЬЮ \"БИОТЕСТ\"', 'ООО \"БИОТЕСТ\"', '2632076375', '263201001', '1052600230792', '1.2.643.5.1.13.13.12.2.26.17999', '12300', '16', '357502, край Ставропольский, г Пятигорск, ул Баксанская, д 28', 'cde73cd3-7808-4661-aae3-632018ca15eb', '07000000000', 'BIOTEST-BG@LIST.RU', '+78793389481', '', '01.01.2025', '31.12.2025', '01405200000000000', 'ОБЩЕСТВО С ОГРАНИЧЕННОЙ ОТВЕТСТВЕННОСТЬЮ КЛИНИКА \"ОМИКРОН-ТОМОГРАД\"', 'ООО КЛИНИКА \"ОМИКРОН-ТОМОГРАД\"', '7610132755', '761001001', '1207600015776', '1.2.643.5.1.13.13.12.2.76.21752', '12300', '16', '152920, обл Ярославская, р-н Рыбинский, г Рыбинск, пр-кт Серова, д 14, кв 1', '1e125eed-0c89-4c2e-8eda-867d20938f2e', '78000000000', 'tomograd_dms@mail.ru', '+79301172384', '', '15.07.2025' ... 240 parameters truncated ... 'ГОСУДАРСТВЕННОЕ АВТОНОМНОЕ УЧРЕЖДЕНИЕ ЗДРАВООХРАНЕНИЯ \"САРАТОВСКАЯ МЕЖРАЙОННАЯ СТОМАТОЛОГИЧЕСКАЯ ПОЛИКЛИНИКА\"', 'ГАУЗ \"СМСП\"', '6451018805', '645101001', '1216400009253', '1.2.643.5.1.13.13.12.2.64.21446', '75201', '13', '410022, обл Саратовская, г Саратов, ул им Хомяковой В.Д., д 13', 'f33ca1e0-9400-4ea8-b106-6ae0394147d3', '63000000000', 'stomsar@yandex.ru', '+78452921227', '', '15.07.2025', '31.12.2025', '01437400000000000', 'ГОСУДАРСТВЕННОЕ УЧРЕЖДЕНИЕ ЗДРАВООХРАНЕНИЯ \"САРАТОВСКАЯ ГОРОДСКАЯ ПОЛИКЛИНИКА № 2\"', 'ГУЗ \"СГП № 2\"', '6452147345', '645201001', '1216400006624', '1.2.643.5.1.13.13.12.2.64.19824', '75203', '13', '410005, обл Саратовская, г Саратов, ул Железнодорожная, д 61/69А', '5b177dbd-354c-490a-a3c4-4b3309303dae', '63000000000', 'sekretar@sargp2.ru', '+78452996888', '', '01.08.2025', '31.12.2025', '01437500000000000', 'ОБЩЕСТВО С ОГРАНИЧЕННОЙ ОТВЕТСТВЕННОСТЬЮ \"СТОМ-ИНГ\"', 'ООО \"СТОМ-ИНГ\"', '0608062240', '060801001', '1200600004472', '1.2.643.5.1.13.13.12.2.6.24977', '12300', '16', '386001, Респ Ингушетия, г Магас, пр-кт И.Зязикова, д 54, кв 6', '8f625ee8-95da-4f23-b1fc-2b110adc64f6', '26000000000', 'stom-ing2020@mail.ru', '+79659655444', '', '14.07.2025', '31.12.2025')\n"
     ]
    },
    {
     "name": "stderr",
     "output_type": "stream",
     "text": [
      "INFO:sqlalchemy.engine.Engine:[insertmanyvalues 72/72 (unordered)] ('01404000000000000', 'ОБЩЕСТВО С ОГРАНИЧЕННОЙ ОТВЕТСТВЕННОСТЬЮ \"ВЕРСАЛЬ\"', 'ООО \"ВЕРСАЛЬ\"', '5009092799', '500901001', '1145009002082', '1.2.643.5.1.13.13.12.2.50.22903', '12300', '16', '142005, обл Московская, г Домодедово, мкр. Центральный, ул Пирогова, д. 9 к. 5', '6c34c754-243f-4c36-882e-24efad00a97c', '46000000000', 'info@mrt-dmd.ru', '+79251350303', '', '08.04.2025', '31.12.2025', '01404900000000000', 'ОБЩЕСТВО С ОГРАНИЧЕННОЙ ОТВЕТСТВЕННОСТЬЮ \"БИОТЕСТ\"', 'ООО \"БИОТЕСТ\"', '2632076375', '263201001', '1052600230792', '1.2.643.5.1.13.13.12.2.26.17999', '12300', '16', '357502, край Ставропольский, г Пятигорск, ул Баксанская, д 28', 'cde73cd3-7808-4661-aae3-632018ca15eb', '07000000000', 'BIOTEST-BG@LIST.RU', '+78793389481', '', '01.01.2025', '31.12.2025', '01405200000000000', 'ОБЩЕСТВО С ОГРАНИЧЕННОЙ ОТВЕТСТВЕННОСТЬЮ КЛИНИКА \"ОМИКРОН-ТОМОГРАД\"', 'ООО КЛИНИКА \"ОМИКРОН-ТОМОГРАД\"', '7610132755', '761001001', '1207600015776', '1.2.643.5.1.13.13.12.2.76.21752', '12300', '16', '152920, обл Ярославская, р-н Рыбинский, г Рыбинск, пр-кт Серова, д 14, кв 1', '1e125eed-0c89-4c2e-8eda-867d20938f2e', '78000000000', 'tomograd_dms@mail.ru', '+79301172384', '', '15.07.2025' ... 240 parameters truncated ... 'ГОСУДАРСТВЕННОЕ АВТОНОМНОЕ УЧРЕЖДЕНИЕ ЗДРАВООХРАНЕНИЯ \"САРАТОВСКАЯ МЕЖРАЙОННАЯ СТОМАТОЛОГИЧЕСКАЯ ПОЛИКЛИНИКА\"', 'ГАУЗ \"СМСП\"', '6451018805', '645101001', '1216400009253', '1.2.643.5.1.13.13.12.2.64.21446', '75201', '13', '410022, обл Саратовская, г Саратов, ул им Хомяковой В.Д., д 13', 'f33ca1e0-9400-4ea8-b106-6ae0394147d3', '63000000000', 'stomsar@yandex.ru', '+78452921227', '', '15.07.2025', '31.12.2025', '01437400000000000', 'ГОСУДАРСТВЕННОЕ УЧРЕЖДЕНИЕ ЗДРАВООХРАНЕНИЯ \"САРАТОВСКАЯ ГОРОДСКАЯ ПОЛИКЛИНИКА № 2\"', 'ГУЗ \"СГП № 2\"', '6452147345', '645201001', '1216400006624', '1.2.643.5.1.13.13.12.2.64.19824', '75203', '13', '410005, обл Саратовская, г Саратов, ул Железнодорожная, д 61/69А', '5b177dbd-354c-490a-a3c4-4b3309303dae', '63000000000', 'sekretar@sargp2.ru', '+78452996888', '', '01.08.2025', '31.12.2025', '01437500000000000', 'ОБЩЕСТВО С ОГРАНИЧЕННОЙ ОТВЕТСТВЕННОСТЬЮ \"СТОМ-ИНГ\"', 'ООО \"СТОМ-ИНГ\"', '0608062240', '060801001', '1200600004472', '1.2.643.5.1.13.13.12.2.6.24977', '12300', '16', '386001, Респ Ингушетия, г Магас, пр-кт И.Зязикова, д 54, кв 6', '8f625ee8-95da-4f23-b1fc-2b110adc64f6', '26000000000', 'stom-ing2020@mail.ru', '+79659655444', '', '14.07.2025', '31.12.2025')\n"
     ]
    },
    {
     "name": "stdout",
     "output_type": "stream",
     "text": [
      "2025-09-03 16:03:28,875 INFO sqlalchemy.engine.Engine COMMIT\n"
     ]
    },
    {
     "name": "stderr",
     "output_type": "stream",
     "text": [
      "INFO:sqlalchemy.engine.Engine:COMMIT\n"
     ]
    }
   ],
   "source": [
    "ids = (\"F031\",)\n",
    "\n",
    "for id in ids:\n",
    "    load_refbook_to_db(id)"
   ]
  },
  {
   "cell_type": "code",
   "execution_count": 7,
   "id": "03b59aaf",
   "metadata": {},
   "outputs": [],
   "source": [
    "# import aiohttp\n",
    "# import asyncio\n",
    "# from typing import List, Dict, Any\n",
    "\n",
    "# async def fetch_page(session: aiohttp.ClientSession, url: str, params: Dict[str, Any]) -> Dict[str, Any]:\n",
    "#     async with session.get(url, params=params, ssl=False) as response:\n",
    "#         response.raise_for_status()\n",
    "#         return await response.json()\n",
    "\n",
    "# async def fetch_all_paginated_data(\n",
    "#     base_url: str,\n",
    "#     initial_params: Dict[str, Any],\n",
    "#     page_size: int = 200,\n",
    "#     max_concurrent_requests: int = 20\n",
    "# ) -> List[Dict[str, Any]]:\n",
    "#     \"\"\"\n",
    "#     Fetch all paginated data from an API efficiently.\n",
    "\n",
    "#     Args:\n",
    "#         base_url: The API endpoint URL\n",
    "#         initial_params: Initial query parameters (without pagination params)\n",
    "#         page_size: Number of items per page (default 200)\n",
    "#         max_concurrent_requests: Maximum concurrent requests (default 20)\n",
    "#     \"\"\"\n",
    "#     all_data = []\n",
    "#     page = 1  # or 0 if API is 0-indexed\n",
    "#     has_more = True\n",
    "\n",
    "#     connector = aiohttp.TCPConnector(limit=max_concurrent_requests)\n",
    "#     timeout = aiohttp.ClientTimeout(total=3600)  # 1 hour timeout\n",
    "\n",
    "#     async with aiohttp.ClientSession(connector=connector, timeout=timeout) as session:\n",
    "#         while has_more:\n",
    "#             # Prepare requests for a batch of pages\n",
    "#             tasks = []\n",
    "#             for _ in range(max_concurrent_requests):\n",
    "#                 params = initial_params.copy()\n",
    "#                 params.update({\n",
    "#                     'page': page,\n",
    "#                     'size': page_size  # or whatever the API uses for page size\n",
    "#                 })\n",
    "#                 tasks.append(fetch_page(session, base_url, params))\n",
    "#                 page += 1\n",
    "\n",
    "#             # Execute the batch\n",
    "#             batch_results = await asyncio.gather(*tasks, return_exceptions=True)\n",
    "\n",
    "#             # Process results\n",
    "#             for result in batch_results:\n",
    "#                 if isinstance(result, Exception):\n",
    "#                     print(f\"Error fetching page: {result}\")\n",
    "#                     continue\n",
    "\n",
    "#                 if not result.get('data') or len(result['data']) == 0:\n",
    "#                     has_more = False\n",
    "#                     break\n",
    "\n",
    "#                 all_data.extend(result['data'])\n",
    "\n",
    "#         return all_data\n",
    "\n",
    "# # Example usage\n",
    "# async def main():\n",
    "#     base_url = \"https://nsi.ffoms.ru/nsi-int/api/data\"\n",
    "#     params={\"identifier\": \"F033\"}\n",
    "\n",
    "#     data = await fetch_all_paginated_data(base_url, params)\n",
    "#     print(f\"Fetched {len(data)} total records\")\n",
    "\n",
    "# # Run the async main function\n",
    "# asyncio.run(main())"
   ]
  }
 ],
 "metadata": {
  "kernelspec": {
   "display_name": "nsi",
   "language": "python",
   "name": "python3"
  },
  "language_info": {
   "codemirror_mode": {
    "name": "ipython",
    "version": 3
   },
   "file_extension": ".py",
   "mimetype": "text/x-python",
   "name": "python",
   "nbconvert_exporter": "python",
   "pygments_lexer": "ipython3",
   "version": "3.13.3"
  }
 },
 "nbformat": 4,
 "nbformat_minor": 5
}
